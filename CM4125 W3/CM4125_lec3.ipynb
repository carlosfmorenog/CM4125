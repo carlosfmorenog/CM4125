{
 "cells": [
  {
   "cell_type": "markdown",
   "metadata": {
    "hide_input": true,
    "slideshow": {
     "slide_type": "slide"
    }
   },
   "source": [
    "# CM4125 Week 3: Data Manipulation"
   ]
  },
  {
   "cell_type": "code",
   "execution_count": null,
   "metadata": {
    "hide_input": true,
    "slideshow": {
     "slide_type": "skip"
    }
   },
   "outputs": [],
   "source": [
    "# This cell is used to change parameter of the rise slideshow, \n",
    "# such as the window width/height and enabling a scroll bar\n",
    "from notebook.services.config import ConfigManager\n",
    "cm = ConfigManager()\n",
    "cm.update('livereveal', {\n",
    "              'width': 1700,\n",
    "              'height': 800,\n",
    "              'scroll': True,\n",
    "})\n",
    "# This code lets you colour the axis lines white\n",
    "from matplotlib import style\n",
    "style.use('dark_background')\n",
    "# This code allows you to show images within the notebook\n",
    "%matplotlib inline"
   ]
  },
  {
   "cell_type": "markdown",
   "metadata": {
    "hide_input": false,
    "slideshow": {
     "slide_type": "subslide"
    }
   },
   "source": [
    "## Coursework Clarification!\n",
    "Today @ 4:00 pm, I will open a Zoom room"
   ]
  },
  {
   "cell_type": "markdown",
   "metadata": {
    "hide_input": false,
    "slideshow": {
     "slide_type": "subslide"
    }
   },
   "source": [
    "## Lecture objectives"
   ]
  },
  {
   "cell_type": "markdown",
   "metadata": {
    "slideshow": {
     "slide_type": "fragment"
    }
   },
   "source": [
    "1) Load a set of datasets containing different characteristics"
   ]
  },
  {
   "cell_type": "markdown",
   "metadata": {
    "slideshow": {
     "slide_type": "fragment"
    }
   },
   "source": [
    "2) Understand the best methods to manipulate it prior to analysis"
   ]
  },
  {
   "cell_type": "markdown",
   "metadata": {
    "slideshow": {
     "slide_type": "fragment"
    }
   },
   "source": [
    "3) Apply more elaborated pre-processing techniques to clean data"
   ]
  },
  {
   "cell_type": "markdown",
   "metadata": {
    "slideshow": {
     "slide_type": "slide"
    }
   },
   "source": [
    "## Loading data (revised)"
   ]
  },
  {
   "cell_type": "markdown",
   "metadata": {
    "slideshow": {
     "slide_type": "subslide"
    }
   },
   "source": [
    "If you recall, last week we had to download and upload csv files"
   ]
  },
  {
   "cell_type": "markdown",
   "metadata": {
    "slideshow": {
     "slide_type": "fragment"
    }
   },
   "source": [
    "This is obviously not very practical!"
   ]
  },
  {
   "cell_type": "markdown",
   "metadata": {
    "slideshow": {
     "slide_type": "fragment"
    }
   },
   "source": [
    "The `Pandas` module allows us to load data from csv files that are stored online in places such as:\n",
    "\n",
    "    Github\n",
    "    Dropbox\n",
    "    AWS\n",
    "    etc"
   ]
  },
  {
   "cell_type": "code",
   "execution_count": 1,
   "metadata": {
    "slideshow": {
     "slide_type": "subslide"
    }
   },
   "outputs": [
    {
     "data": {
      "text/html": [
       "<div>\n",
       "<style scoped>\n",
       "    .dataframe tbody tr th:only-of-type {\n",
       "        vertical-align: middle;\n",
       "    }\n",
       "\n",
       "    .dataframe tbody tr th {\n",
       "        vertical-align: top;\n",
       "    }\n",
       "\n",
       "    .dataframe thead th {\n",
       "        text-align: right;\n",
       "    }\n",
       "</style>\n",
       "<table border=\"1\" class=\"dataframe\">\n",
       "  <thead>\n",
       "    <tr style=\"text-align: right;\">\n",
       "      <th></th>\n",
       "      <th>Year</th>\n",
       "      <th>Honor</th>\n",
       "      <th>Name</th>\n",
       "      <th>Country</th>\n",
       "      <th>Birth Year</th>\n",
       "      <th>Death Year</th>\n",
       "      <th>Title</th>\n",
       "      <th>Category</th>\n",
       "      <th>Context</th>\n",
       "    </tr>\n",
       "  </thead>\n",
       "  <tbody>\n",
       "    <tr>\n",
       "      <th>0</th>\n",
       "      <td>1927</td>\n",
       "      <td>Man of the Year</td>\n",
       "      <td>Charles Lindbergh</td>\n",
       "      <td>United States</td>\n",
       "      <td>1902.0</td>\n",
       "      <td>1974.0</td>\n",
       "      <td>US Air Mail Pilot</td>\n",
       "      <td>NaN</td>\n",
       "      <td>First Solo Transatlantic Flight</td>\n",
       "    </tr>\n",
       "    <tr>\n",
       "      <th>1</th>\n",
       "      <td>1928</td>\n",
       "      <td>Man of the Year</td>\n",
       "      <td>Walter Chrysler</td>\n",
       "      <td>United States</td>\n",
       "      <td>1875.0</td>\n",
       "      <td>1940.0</td>\n",
       "      <td>Founder of Chrysler</td>\n",
       "      <td>Economics</td>\n",
       "      <td>Chrysler/Dodge Merger</td>\n",
       "    </tr>\n",
       "    <tr>\n",
       "      <th>2</th>\n",
       "      <td>1929</td>\n",
       "      <td>Man of the Year</td>\n",
       "      <td>Owen D. Young</td>\n",
       "      <td>United States</td>\n",
       "      <td>1874.0</td>\n",
       "      <td>1962.0</td>\n",
       "      <td>Member of the German Reparations International...</td>\n",
       "      <td>Diplomacy</td>\n",
       "      <td>Young Plan</td>\n",
       "    </tr>\n",
       "    <tr>\n",
       "      <th>3</th>\n",
       "      <td>1930</td>\n",
       "      <td>Man of the Year</td>\n",
       "      <td>Mahatma Gandhi</td>\n",
       "      <td>India</td>\n",
       "      <td>1869.0</td>\n",
       "      <td>1948.0</td>\n",
       "      <td>NaN</td>\n",
       "      <td>Revolution</td>\n",
       "      <td>Salt March</td>\n",
       "    </tr>\n",
       "    <tr>\n",
       "      <th>4</th>\n",
       "      <td>1931</td>\n",
       "      <td>Man of the Year</td>\n",
       "      <td>Pierre Laval</td>\n",
       "      <td>France</td>\n",
       "      <td>1883.0</td>\n",
       "      <td>1945.0</td>\n",
       "      <td>Prime Minister of France</td>\n",
       "      <td>Politics</td>\n",
       "      <td>NaN</td>\n",
       "    </tr>\n",
       "    <tr>\n",
       "      <th>...</th>\n",
       "      <td>...</td>\n",
       "      <td>...</td>\n",
       "      <td>...</td>\n",
       "      <td>...</td>\n",
       "      <td>...</td>\n",
       "      <td>...</td>\n",
       "      <td>...</td>\n",
       "      <td>...</td>\n",
       "      <td>...</td>\n",
       "    </tr>\n",
       "    <tr>\n",
       "      <th>86</th>\n",
       "      <td>2012</td>\n",
       "      <td>Person of the Year</td>\n",
       "      <td>Barack Obama</td>\n",
       "      <td>United States</td>\n",
       "      <td>1961.0</td>\n",
       "      <td>NaN</td>\n",
       "      <td>President of the United States</td>\n",
       "      <td>Politics</td>\n",
       "      <td>Presidential Election</td>\n",
       "    </tr>\n",
       "    <tr>\n",
       "      <th>87</th>\n",
       "      <td>2013</td>\n",
       "      <td>Person of the Year</td>\n",
       "      <td>Pope Francis</td>\n",
       "      <td>Vatican City</td>\n",
       "      <td>1936.0</td>\n",
       "      <td>NaN</td>\n",
       "      <td>Pope of the Roman Catholic Church</td>\n",
       "      <td>Religion</td>\n",
       "      <td>Papal Conclave</td>\n",
       "    </tr>\n",
       "    <tr>\n",
       "      <th>88</th>\n",
       "      <td>2014</td>\n",
       "      <td>Person of the Year</td>\n",
       "      <td>The Ebola Fighters</td>\n",
       "      <td>NaN</td>\n",
       "      <td>NaN</td>\n",
       "      <td>NaN</td>\n",
       "      <td>NaN</td>\n",
       "      <td>Science</td>\n",
       "      <td>Ebola Epidemic</td>\n",
       "    </tr>\n",
       "    <tr>\n",
       "      <th>89</th>\n",
       "      <td>2015</td>\n",
       "      <td>Person of the Year</td>\n",
       "      <td>Angela Merkel</td>\n",
       "      <td>Germany</td>\n",
       "      <td>1954.0</td>\n",
       "      <td>NaN</td>\n",
       "      <td>Chancellor of Germany</td>\n",
       "      <td>Politics</td>\n",
       "      <td>Debt Crisis; Refugee Crisis; Paris Terrorist A...</td>\n",
       "    </tr>\n",
       "    <tr>\n",
       "      <th>90</th>\n",
       "      <td>2016</td>\n",
       "      <td>Person of the Year</td>\n",
       "      <td>Donald Trump</td>\n",
       "      <td>United States</td>\n",
       "      <td>1946.0</td>\n",
       "      <td>NaN</td>\n",
       "      <td>President of the United States</td>\n",
       "      <td>Politics</td>\n",
       "      <td>Presidential Election</td>\n",
       "    </tr>\n",
       "  </tbody>\n",
       "</table>\n",
       "<p>91 rows × 9 columns</p>\n",
       "</div>"
      ],
      "text/plain": [
       "    Year               Honor                Name        Country  Birth Year  \\\n",
       "0   1927     Man of the Year   Charles Lindbergh  United States      1902.0   \n",
       "1   1928     Man of the Year     Walter Chrysler  United States      1875.0   \n",
       "2   1929     Man of the Year       Owen D. Young  United States      1874.0   \n",
       "3   1930     Man of the Year      Mahatma Gandhi          India      1869.0   \n",
       "4   1931     Man of the Year        Pierre Laval         France      1883.0   \n",
       "..   ...                 ...                 ...            ...         ...   \n",
       "86  2012  Person of the Year        Barack Obama  United States      1961.0   \n",
       "87  2013  Person of the Year        Pope Francis   Vatican City      1936.0   \n",
       "88  2014  Person of the Year  The Ebola Fighters            NaN         NaN   \n",
       "89  2015  Person of the Year       Angela Merkel        Germany      1954.0   \n",
       "90  2016  Person of the Year        Donald Trump  United States      1946.0   \n",
       "\n",
       "    Death Year                                              Title    Category  \\\n",
       "0       1974.0                                  US Air Mail Pilot         NaN   \n",
       "1       1940.0                                Founder of Chrysler   Economics   \n",
       "2       1962.0  Member of the German Reparations International...   Diplomacy   \n",
       "3       1948.0                                                NaN  Revolution   \n",
       "4       1945.0                           Prime Minister of France    Politics   \n",
       "..         ...                                                ...         ...   \n",
       "86         NaN                     President of the United States    Politics   \n",
       "87         NaN                  Pope of the Roman Catholic Church    Religion   \n",
       "88         NaN                                                NaN     Science   \n",
       "89         NaN                              Chancellor of Germany    Politics   \n",
       "90         NaN                     President of the United States    Politics   \n",
       "\n",
       "                                              Context  \n",
       "0                     First Solo Transatlantic Flight  \n",
       "1                               Chrysler/Dodge Merger  \n",
       "2                                          Young Plan  \n",
       "3                                          Salt March  \n",
       "4                                                 NaN  \n",
       "..                                                ...  \n",
       "86                              Presidential Election  \n",
       "87                                     Papal Conclave  \n",
       "88                                     Ebola Epidemic  \n",
       "89  Debt Crisis; Refugee Crisis; Paris Terrorist A...  \n",
       "90                              Presidential Election  \n",
       "\n",
       "[91 rows x 9 columns]"
      ]
     },
     "execution_count": 1,
     "metadata": {},
     "output_type": "execute_result"
    }
   ],
   "source": [
    "# Importing a dataset that I have in dropbox\n",
    "import pandas as pd\n",
    "# Copy dropbox link, change dl=0 for raw=1\n",
    "url = 'https://www.dropbox.com/s/ju1iemc8k1wp0p5/time.csv?raw=1'\n",
    "time = pd.read_csv(url)\n",
    "time "
   ]
  },
  {
   "cell_type": "markdown",
   "metadata": {
    "slideshow": {
     "slide_type": "fragment"
    }
   },
   "source": [
    "This dataset contains the list of people named Man/Person of the Year by Times magazine"
   ]
  },
  {
   "cell_type": "markdown",
   "metadata": {
    "slideshow": {
     "slide_type": "slide"
    }
   },
   "source": [
    "## Data by Columns"
   ]
  },
  {
   "cell_type": "markdown",
   "metadata": {
    "slideshow": {
     "slide_type": "fragment"
    }
   },
   "source": [
    "Last week we added new columns to dataframes\n",
    "\n",
    "    The dog/cat class at the end of the image repository\n",
    "    The \"watched\" column at the end of the Netflix dataset"
   ]
  },
  {
   "cell_type": "markdown",
   "metadata": {
    "slideshow": {
     "slide_type": "fragment"
    }
   },
   "source": [
    "Today, we will learn other ways in which we can manipulate, add or relate data from columns"
   ]
  },
  {
   "cell_type": "markdown",
   "metadata": {
    "slideshow": {
     "slide_type": "subslide"
    }
   },
   "source": [
    "### Mapping Columns"
   ]
  },
  {
   "cell_type": "markdown",
   "metadata": {
    "slideshow": {
     "slide_type": "fragment"
    }
   },
   "source": [
    "Sometimes we want to convert a column of categorical data from strings (text) to integers (numbers)"
   ]
  },
  {
   "cell_type": "markdown",
   "metadata": {
    "slideshow": {
     "slide_type": "fragment"
    }
   },
   "source": [
    "We can define a `dictionary` which maps the strings (as keys) to integers (as values) using the `map` method"
   ]
  },
  {
   "cell_type": "markdown",
   "metadata": {
    "slideshow": {
     "slide_type": "fragment"
    }
   },
   "source": [
    "Another option is to define a `set` of the unique categories as follows."
   ]
  },
  {
   "cell_type": "code",
   "execution_count": 2,
   "metadata": {
    "slideshow": {
     "slide_type": "slide"
    }
   },
   "outputs": [
    {
     "data": {
      "text/plain": [
       "{'Diplomacy',\n",
       " 'Economics',\n",
       " 'Environment',\n",
       " 'Media',\n",
       " 'Philanthropy',\n",
       " 'Politics',\n",
       " 'Religion',\n",
       " 'Revolution',\n",
       " 'Science',\n",
       " 'Space',\n",
       " 'Technology',\n",
       " 'War',\n",
       " nan}"
      ]
     },
     "execution_count": 2,
     "metadata": {},
     "output_type": "execute_result"
    }
   ],
   "source": [
    "categories = set(time['Category'])\n",
    "categories"
   ]
  },
  {
   "cell_type": "markdown",
   "metadata": {
    "slideshow": {
     "slide_type": "subslide"
    }
   },
   "source": [
    "Then, we can then assign unique numbers to this `set` as a `dictionary` (defined in Python using the `{}`)"
   ]
  },
  {
   "cell_type": "code",
   "execution_count": 3,
   "metadata": {
    "slideshow": {
     "slide_type": "fragment"
    }
   },
   "outputs": [
    {
     "data": {
      "text/plain": [
       "{nan: 0,\n",
       " 'Environment': 1,\n",
       " 'Philanthropy': 2,\n",
       " 'Politics': 3,\n",
       " 'Revolution': 4,\n",
       " 'Religion': 5,\n",
       " 'Technology': 6,\n",
       " 'Economics': 7,\n",
       " 'War': 8,\n",
       " 'Media': 9,\n",
       " 'Diplomacy': 10,\n",
       " 'Space': 11,\n",
       " 'Science': 12}"
      ]
     },
     "execution_count": 3,
     "metadata": {},
     "output_type": "execute_result"
    }
   ],
   "source": [
    "mapping = {category : index for index, category in enumerate(categories)}\n",
    "mapping"
   ]
  },
  {
   "cell_type": "markdown",
   "metadata": {
    "slideshow": {
     "slide_type": "subslide"
    }
   },
   "source": [
    "We now have a `map` which allows us to convert from a category string to an `int`. For example:"
   ]
  },
  {
   "cell_type": "code",
   "execution_count": 4,
   "metadata": {
    "cell_style": "split",
    "slideshow": {
     "slide_type": "fragment"
    }
   },
   "outputs": [
    {
     "data": {
      "text/plain": [
       "10"
      ]
     },
     "execution_count": 4,
     "metadata": {},
     "output_type": "execute_result"
    }
   ],
   "source": [
    "mapping['Diplomacy']"
   ]
  },
  {
   "cell_type": "code",
   "execution_count": 5,
   "metadata": {
    "cell_style": "split",
    "slideshow": {
     "slide_type": "fragment"
    }
   },
   "outputs": [
    {
     "data": {
      "text/plain": [
       "9"
      ]
     },
     "execution_count": 5,
     "metadata": {},
     "output_type": "execute_result"
    }
   ],
   "source": [
    "mapping['Media']"
   ]
  },
  {
   "cell_type": "markdown",
   "metadata": {
    "slideshow": {
     "slide_type": "subslide"
    }
   },
   "source": [
    "We can use the `map` method on the chosen column to do the conversion"
   ]
  },
  {
   "cell_type": "markdown",
   "metadata": {
    "slideshow": {
     "slide_type": "fragment"
    }
   },
   "source": [
    "The `map` method takes our `dictionary` as an argument and returns a new column with the mapping applied"
   ]
  },
  {
   "cell_type": "code",
   "execution_count": 6,
   "metadata": {
    "slideshow": {
     "slide_type": "subslide"
    }
   },
   "outputs": [
    {
     "data": {
      "text/plain": [
       "0      0\n",
       "1      7\n",
       "2     10\n",
       "3      4\n",
       "4      3\n",
       "      ..\n",
       "86     3\n",
       "87     5\n",
       "88    12\n",
       "89     3\n",
       "90     3\n",
       "Name: Category, Length: 91, dtype: int64"
      ]
     },
     "execution_count": 6,
     "metadata": {},
     "output_type": "execute_result"
    }
   ],
   "source": [
    "time['Category'].map(mapping)"
   ]
  },
  {
   "cell_type": "markdown",
   "metadata": {
    "slideshow": {
     "slide_type": "subslide"
    }
   },
   "source": [
    "If we wanted to overwrite the `Category` column with our new mapped values, we could do:\n",
    "\n",
    "    time['Category'] = time['Category'].map(mapping)"
   ]
  },
  {
   "cell_type": "markdown",
   "metadata": {
    "slideshow": {
     "slide_type": "fragment"
    }
   },
   "source": [
    "However, it may be best to keep both. So we can instead assign it a different column name"
   ]
  },
  {
   "cell_type": "code",
   "execution_count": 7,
   "metadata": {
    "slideshow": {
     "slide_type": "subslide"
    }
   },
   "outputs": [
    {
     "data": {
      "text/html": [
       "<div>\n",
       "<style scoped>\n",
       "    .dataframe tbody tr th:only-of-type {\n",
       "        vertical-align: middle;\n",
       "    }\n",
       "\n",
       "    .dataframe tbody tr th {\n",
       "        vertical-align: top;\n",
       "    }\n",
       "\n",
       "    .dataframe thead th {\n",
       "        text-align: right;\n",
       "    }\n",
       "</style>\n",
       "<table border=\"1\" class=\"dataframe\">\n",
       "  <thead>\n",
       "    <tr style=\"text-align: right;\">\n",
       "      <th></th>\n",
       "      <th>Year</th>\n",
       "      <th>Honor</th>\n",
       "      <th>Name</th>\n",
       "      <th>Country</th>\n",
       "      <th>Birth Year</th>\n",
       "      <th>Death Year</th>\n",
       "      <th>Title</th>\n",
       "      <th>Category</th>\n",
       "      <th>Context</th>\n",
       "      <th>Category Ordinal</th>\n",
       "    </tr>\n",
       "  </thead>\n",
       "  <tbody>\n",
       "    <tr>\n",
       "      <th>0</th>\n",
       "      <td>1927</td>\n",
       "      <td>Man of the Year</td>\n",
       "      <td>Charles Lindbergh</td>\n",
       "      <td>United States</td>\n",
       "      <td>1902.0</td>\n",
       "      <td>1974.0</td>\n",
       "      <td>US Air Mail Pilot</td>\n",
       "      <td>NaN</td>\n",
       "      <td>First Solo Transatlantic Flight</td>\n",
       "      <td>0</td>\n",
       "    </tr>\n",
       "    <tr>\n",
       "      <th>1</th>\n",
       "      <td>1928</td>\n",
       "      <td>Man of the Year</td>\n",
       "      <td>Walter Chrysler</td>\n",
       "      <td>United States</td>\n",
       "      <td>1875.0</td>\n",
       "      <td>1940.0</td>\n",
       "      <td>Founder of Chrysler</td>\n",
       "      <td>Economics</td>\n",
       "      <td>Chrysler/Dodge Merger</td>\n",
       "      <td>7</td>\n",
       "    </tr>\n",
       "    <tr>\n",
       "      <th>2</th>\n",
       "      <td>1929</td>\n",
       "      <td>Man of the Year</td>\n",
       "      <td>Owen D. Young</td>\n",
       "      <td>United States</td>\n",
       "      <td>1874.0</td>\n",
       "      <td>1962.0</td>\n",
       "      <td>Member of the German Reparations International...</td>\n",
       "      <td>Diplomacy</td>\n",
       "      <td>Young Plan</td>\n",
       "      <td>10</td>\n",
       "    </tr>\n",
       "    <tr>\n",
       "      <th>3</th>\n",
       "      <td>1930</td>\n",
       "      <td>Man of the Year</td>\n",
       "      <td>Mahatma Gandhi</td>\n",
       "      <td>India</td>\n",
       "      <td>1869.0</td>\n",
       "      <td>1948.0</td>\n",
       "      <td>NaN</td>\n",
       "      <td>Revolution</td>\n",
       "      <td>Salt March</td>\n",
       "      <td>4</td>\n",
       "    </tr>\n",
       "    <tr>\n",
       "      <th>4</th>\n",
       "      <td>1931</td>\n",
       "      <td>Man of the Year</td>\n",
       "      <td>Pierre Laval</td>\n",
       "      <td>France</td>\n",
       "      <td>1883.0</td>\n",
       "      <td>1945.0</td>\n",
       "      <td>Prime Minister of France</td>\n",
       "      <td>Politics</td>\n",
       "      <td>NaN</td>\n",
       "      <td>3</td>\n",
       "    </tr>\n",
       "    <tr>\n",
       "      <th>...</th>\n",
       "      <td>...</td>\n",
       "      <td>...</td>\n",
       "      <td>...</td>\n",
       "      <td>...</td>\n",
       "      <td>...</td>\n",
       "      <td>...</td>\n",
       "      <td>...</td>\n",
       "      <td>...</td>\n",
       "      <td>...</td>\n",
       "      <td>...</td>\n",
       "    </tr>\n",
       "    <tr>\n",
       "      <th>86</th>\n",
       "      <td>2012</td>\n",
       "      <td>Person of the Year</td>\n",
       "      <td>Barack Obama</td>\n",
       "      <td>United States</td>\n",
       "      <td>1961.0</td>\n",
       "      <td>NaN</td>\n",
       "      <td>President of the United States</td>\n",
       "      <td>Politics</td>\n",
       "      <td>Presidential Election</td>\n",
       "      <td>3</td>\n",
       "    </tr>\n",
       "    <tr>\n",
       "      <th>87</th>\n",
       "      <td>2013</td>\n",
       "      <td>Person of the Year</td>\n",
       "      <td>Pope Francis</td>\n",
       "      <td>Vatican City</td>\n",
       "      <td>1936.0</td>\n",
       "      <td>NaN</td>\n",
       "      <td>Pope of the Roman Catholic Church</td>\n",
       "      <td>Religion</td>\n",
       "      <td>Papal Conclave</td>\n",
       "      <td>5</td>\n",
       "    </tr>\n",
       "    <tr>\n",
       "      <th>88</th>\n",
       "      <td>2014</td>\n",
       "      <td>Person of the Year</td>\n",
       "      <td>The Ebola Fighters</td>\n",
       "      <td>NaN</td>\n",
       "      <td>NaN</td>\n",
       "      <td>NaN</td>\n",
       "      <td>NaN</td>\n",
       "      <td>Science</td>\n",
       "      <td>Ebola Epidemic</td>\n",
       "      <td>12</td>\n",
       "    </tr>\n",
       "    <tr>\n",
       "      <th>89</th>\n",
       "      <td>2015</td>\n",
       "      <td>Person of the Year</td>\n",
       "      <td>Angela Merkel</td>\n",
       "      <td>Germany</td>\n",
       "      <td>1954.0</td>\n",
       "      <td>NaN</td>\n",
       "      <td>Chancellor of Germany</td>\n",
       "      <td>Politics</td>\n",
       "      <td>Debt Crisis; Refugee Crisis; Paris Terrorist A...</td>\n",
       "      <td>3</td>\n",
       "    </tr>\n",
       "    <tr>\n",
       "      <th>90</th>\n",
       "      <td>2016</td>\n",
       "      <td>Person of the Year</td>\n",
       "      <td>Donald Trump</td>\n",
       "      <td>United States</td>\n",
       "      <td>1946.0</td>\n",
       "      <td>NaN</td>\n",
       "      <td>President of the United States</td>\n",
       "      <td>Politics</td>\n",
       "      <td>Presidential Election</td>\n",
       "      <td>3</td>\n",
       "    </tr>\n",
       "  </tbody>\n",
       "</table>\n",
       "<p>91 rows × 10 columns</p>\n",
       "</div>"
      ],
      "text/plain": [
       "    Year               Honor                Name        Country  Birth Year  \\\n",
       "0   1927     Man of the Year   Charles Lindbergh  United States      1902.0   \n",
       "1   1928     Man of the Year     Walter Chrysler  United States      1875.0   \n",
       "2   1929     Man of the Year       Owen D. Young  United States      1874.0   \n",
       "3   1930     Man of the Year      Mahatma Gandhi          India      1869.0   \n",
       "4   1931     Man of the Year        Pierre Laval         France      1883.0   \n",
       "..   ...                 ...                 ...            ...         ...   \n",
       "86  2012  Person of the Year        Barack Obama  United States      1961.0   \n",
       "87  2013  Person of the Year        Pope Francis   Vatican City      1936.0   \n",
       "88  2014  Person of the Year  The Ebola Fighters            NaN         NaN   \n",
       "89  2015  Person of the Year       Angela Merkel        Germany      1954.0   \n",
       "90  2016  Person of the Year        Donald Trump  United States      1946.0   \n",
       "\n",
       "    Death Year                                              Title    Category  \\\n",
       "0       1974.0                                  US Air Mail Pilot         NaN   \n",
       "1       1940.0                                Founder of Chrysler   Economics   \n",
       "2       1962.0  Member of the German Reparations International...   Diplomacy   \n",
       "3       1948.0                                                NaN  Revolution   \n",
       "4       1945.0                           Prime Minister of France    Politics   \n",
       "..         ...                                                ...         ...   \n",
       "86         NaN                     President of the United States    Politics   \n",
       "87         NaN                  Pope of the Roman Catholic Church    Religion   \n",
       "88         NaN                                                NaN     Science   \n",
       "89         NaN                              Chancellor of Germany    Politics   \n",
       "90         NaN                     President of the United States    Politics   \n",
       "\n",
       "                                              Context  Category Ordinal  \n",
       "0                     First Solo Transatlantic Flight                 0  \n",
       "1                               Chrysler/Dodge Merger                 7  \n",
       "2                                          Young Plan                10  \n",
       "3                                          Salt March                 4  \n",
       "4                                                 NaN                 3  \n",
       "..                                                ...               ...  \n",
       "86                              Presidential Election                 3  \n",
       "87                                     Papal Conclave                 5  \n",
       "88                                     Ebola Epidemic                12  \n",
       "89  Debt Crisis; Refugee Crisis; Paris Terrorist A...                 3  \n",
       "90                              Presidential Election                 3  \n",
       "\n",
       "[91 rows x 10 columns]"
      ]
     },
     "execution_count": 7,
     "metadata": {},
     "output_type": "execute_result"
    }
   ],
   "source": [
    "time['Category Ordinal'] = time['Category'].map(mapping)\n",
    "time"
   ]
  },
  {
   "cell_type": "markdown",
   "metadata": {
    "slideshow": {
     "slide_type": "subslide"
    }
   },
   "source": [
    "### Manipulating Numerical Columns"
   ]
  },
  {
   "cell_type": "markdown",
   "metadata": {
    "slideshow": {
     "slide_type": "subslide"
    }
   },
   "source": [
    "We can perform arithmetic between columns as if they were simply numbers"
   ]
  },
  {
   "cell_type": "markdown",
   "metadata": {
    "slideshow": {
     "slide_type": "fragment"
    }
   },
   "source": [
    "We will take the column `Death Year`, subtract the column `Birth Year`, and storing the result in a (new) column called `Lifespan`"
   ]
  },
  {
   "cell_type": "code",
   "execution_count": 8,
   "metadata": {
    "slideshow": {
     "slide_type": "subslide"
    }
   },
   "outputs": [
    {
     "data": {
      "text/html": [
       "<div>\n",
       "<style scoped>\n",
       "    .dataframe tbody tr th:only-of-type {\n",
       "        vertical-align: middle;\n",
       "    }\n",
       "\n",
       "    .dataframe tbody tr th {\n",
       "        vertical-align: top;\n",
       "    }\n",
       "\n",
       "    .dataframe thead th {\n",
       "        text-align: right;\n",
       "    }\n",
       "</style>\n",
       "<table border=\"1\" class=\"dataframe\">\n",
       "  <thead>\n",
       "    <tr style=\"text-align: right;\">\n",
       "      <th></th>\n",
       "      <th>Year</th>\n",
       "      <th>Honor</th>\n",
       "      <th>Name</th>\n",
       "      <th>Country</th>\n",
       "      <th>Birth Year</th>\n",
       "      <th>Death Year</th>\n",
       "      <th>Title</th>\n",
       "      <th>Category</th>\n",
       "      <th>Context</th>\n",
       "      <th>Category Ordinal</th>\n",
       "      <th>Lifespan</th>\n",
       "    </tr>\n",
       "  </thead>\n",
       "  <tbody>\n",
       "    <tr>\n",
       "      <th>0</th>\n",
       "      <td>1927</td>\n",
       "      <td>Man of the Year</td>\n",
       "      <td>Charles Lindbergh</td>\n",
       "      <td>United States</td>\n",
       "      <td>1902.0</td>\n",
       "      <td>1974.0</td>\n",
       "      <td>US Air Mail Pilot</td>\n",
       "      <td>NaN</td>\n",
       "      <td>First Solo Transatlantic Flight</td>\n",
       "      <td>0</td>\n",
       "      <td>72.0</td>\n",
       "    </tr>\n",
       "    <tr>\n",
       "      <th>1</th>\n",
       "      <td>1928</td>\n",
       "      <td>Man of the Year</td>\n",
       "      <td>Walter Chrysler</td>\n",
       "      <td>United States</td>\n",
       "      <td>1875.0</td>\n",
       "      <td>1940.0</td>\n",
       "      <td>Founder of Chrysler</td>\n",
       "      <td>Economics</td>\n",
       "      <td>Chrysler/Dodge Merger</td>\n",
       "      <td>7</td>\n",
       "      <td>65.0</td>\n",
       "    </tr>\n",
       "    <tr>\n",
       "      <th>2</th>\n",
       "      <td>1929</td>\n",
       "      <td>Man of the Year</td>\n",
       "      <td>Owen D. Young</td>\n",
       "      <td>United States</td>\n",
       "      <td>1874.0</td>\n",
       "      <td>1962.0</td>\n",
       "      <td>Member of the German Reparations International...</td>\n",
       "      <td>Diplomacy</td>\n",
       "      <td>Young Plan</td>\n",
       "      <td>10</td>\n",
       "      <td>88.0</td>\n",
       "    </tr>\n",
       "    <tr>\n",
       "      <th>3</th>\n",
       "      <td>1930</td>\n",
       "      <td>Man of the Year</td>\n",
       "      <td>Mahatma Gandhi</td>\n",
       "      <td>India</td>\n",
       "      <td>1869.0</td>\n",
       "      <td>1948.0</td>\n",
       "      <td>NaN</td>\n",
       "      <td>Revolution</td>\n",
       "      <td>Salt March</td>\n",
       "      <td>4</td>\n",
       "      <td>79.0</td>\n",
       "    </tr>\n",
       "    <tr>\n",
       "      <th>4</th>\n",
       "      <td>1931</td>\n",
       "      <td>Man of the Year</td>\n",
       "      <td>Pierre Laval</td>\n",
       "      <td>France</td>\n",
       "      <td>1883.0</td>\n",
       "      <td>1945.0</td>\n",
       "      <td>Prime Minister of France</td>\n",
       "      <td>Politics</td>\n",
       "      <td>NaN</td>\n",
       "      <td>3</td>\n",
       "      <td>62.0</td>\n",
       "    </tr>\n",
       "    <tr>\n",
       "      <th>...</th>\n",
       "      <td>...</td>\n",
       "      <td>...</td>\n",
       "      <td>...</td>\n",
       "      <td>...</td>\n",
       "      <td>...</td>\n",
       "      <td>...</td>\n",
       "      <td>...</td>\n",
       "      <td>...</td>\n",
       "      <td>...</td>\n",
       "      <td>...</td>\n",
       "      <td>...</td>\n",
       "    </tr>\n",
       "    <tr>\n",
       "      <th>86</th>\n",
       "      <td>2012</td>\n",
       "      <td>Person of the Year</td>\n",
       "      <td>Barack Obama</td>\n",
       "      <td>United States</td>\n",
       "      <td>1961.0</td>\n",
       "      <td>NaN</td>\n",
       "      <td>President of the United States</td>\n",
       "      <td>Politics</td>\n",
       "      <td>Presidential Election</td>\n",
       "      <td>3</td>\n",
       "      <td>NaN</td>\n",
       "    </tr>\n",
       "    <tr>\n",
       "      <th>87</th>\n",
       "      <td>2013</td>\n",
       "      <td>Person of the Year</td>\n",
       "      <td>Pope Francis</td>\n",
       "      <td>Vatican City</td>\n",
       "      <td>1936.0</td>\n",
       "      <td>NaN</td>\n",
       "      <td>Pope of the Roman Catholic Church</td>\n",
       "      <td>Religion</td>\n",
       "      <td>Papal Conclave</td>\n",
       "      <td>5</td>\n",
       "      <td>NaN</td>\n",
       "    </tr>\n",
       "    <tr>\n",
       "      <th>88</th>\n",
       "      <td>2014</td>\n",
       "      <td>Person of the Year</td>\n",
       "      <td>The Ebola Fighters</td>\n",
       "      <td>NaN</td>\n",
       "      <td>NaN</td>\n",
       "      <td>NaN</td>\n",
       "      <td>NaN</td>\n",
       "      <td>Science</td>\n",
       "      <td>Ebola Epidemic</td>\n",
       "      <td>12</td>\n",
       "      <td>NaN</td>\n",
       "    </tr>\n",
       "    <tr>\n",
       "      <th>89</th>\n",
       "      <td>2015</td>\n",
       "      <td>Person of the Year</td>\n",
       "      <td>Angela Merkel</td>\n",
       "      <td>Germany</td>\n",
       "      <td>1954.0</td>\n",
       "      <td>NaN</td>\n",
       "      <td>Chancellor of Germany</td>\n",
       "      <td>Politics</td>\n",
       "      <td>Debt Crisis; Refugee Crisis; Paris Terrorist A...</td>\n",
       "      <td>3</td>\n",
       "      <td>NaN</td>\n",
       "    </tr>\n",
       "    <tr>\n",
       "      <th>90</th>\n",
       "      <td>2016</td>\n",
       "      <td>Person of the Year</td>\n",
       "      <td>Donald Trump</td>\n",
       "      <td>United States</td>\n",
       "      <td>1946.0</td>\n",
       "      <td>NaN</td>\n",
       "      <td>President of the United States</td>\n",
       "      <td>Politics</td>\n",
       "      <td>Presidential Election</td>\n",
       "      <td>3</td>\n",
       "      <td>NaN</td>\n",
       "    </tr>\n",
       "  </tbody>\n",
       "</table>\n",
       "<p>91 rows × 11 columns</p>\n",
       "</div>"
      ],
      "text/plain": [
       "    Year               Honor                Name        Country  Birth Year  \\\n",
       "0   1927     Man of the Year   Charles Lindbergh  United States      1902.0   \n",
       "1   1928     Man of the Year     Walter Chrysler  United States      1875.0   \n",
       "2   1929     Man of the Year       Owen D. Young  United States      1874.0   \n",
       "3   1930     Man of the Year      Mahatma Gandhi          India      1869.0   \n",
       "4   1931     Man of the Year        Pierre Laval         France      1883.0   \n",
       "..   ...                 ...                 ...            ...         ...   \n",
       "86  2012  Person of the Year        Barack Obama  United States      1961.0   \n",
       "87  2013  Person of the Year        Pope Francis   Vatican City      1936.0   \n",
       "88  2014  Person of the Year  The Ebola Fighters            NaN         NaN   \n",
       "89  2015  Person of the Year       Angela Merkel        Germany      1954.0   \n",
       "90  2016  Person of the Year        Donald Trump  United States      1946.0   \n",
       "\n",
       "    Death Year                                              Title    Category  \\\n",
       "0       1974.0                                  US Air Mail Pilot         NaN   \n",
       "1       1940.0                                Founder of Chrysler   Economics   \n",
       "2       1962.0  Member of the German Reparations International...   Diplomacy   \n",
       "3       1948.0                                                NaN  Revolution   \n",
       "4       1945.0                           Prime Minister of France    Politics   \n",
       "..         ...                                                ...         ...   \n",
       "86         NaN                     President of the United States    Politics   \n",
       "87         NaN                  Pope of the Roman Catholic Church    Religion   \n",
       "88         NaN                                                NaN     Science   \n",
       "89         NaN                              Chancellor of Germany    Politics   \n",
       "90         NaN                     President of the United States    Politics   \n",
       "\n",
       "                                              Context  Category Ordinal  \\\n",
       "0                     First Solo Transatlantic Flight                 0   \n",
       "1                               Chrysler/Dodge Merger                 7   \n",
       "2                                          Young Plan                10   \n",
       "3                                          Salt March                 4   \n",
       "4                                                 NaN                 3   \n",
       "..                                                ...               ...   \n",
       "86                              Presidential Election                 3   \n",
       "87                                     Papal Conclave                 5   \n",
       "88                                     Ebola Epidemic                12   \n",
       "89  Debt Crisis; Refugee Crisis; Paris Terrorist A...                 3   \n",
       "90                              Presidential Election                 3   \n",
       "\n",
       "    Lifespan  \n",
       "0       72.0  \n",
       "1       65.0  \n",
       "2       88.0  \n",
       "3       79.0  \n",
       "4       62.0  \n",
       "..       ...  \n",
       "86       NaN  \n",
       "87       NaN  \n",
       "88       NaN  \n",
       "89       NaN  \n",
       "90       NaN  \n",
       "\n",
       "[91 rows x 11 columns]"
      ]
     },
     "execution_count": 8,
     "metadata": {},
     "output_type": "execute_result"
    }
   ],
   "source": [
    "time['Lifespan'] = time['Death Year'] - time['Birth Year']\n",
    "time"
   ]
  },
  {
   "cell_type": "markdown",
   "metadata": {
    "slideshow": {
     "slide_type": "fragment"
    }
   },
   "source": [
    "Notice that the method acknowledged that some columns were `NaN` (since the person is still alive) and thus put a `NaN` as a result in the lifespan column."
   ]
  },
  {
   "cell_type": "markdown",
   "metadata": {
    "slideshow": {
     "slide_type": "subslide"
    }
   },
   "source": [
    "Sometimes you want to do \"more difficult\" numerical conversions"
   ]
  },
  {
   "cell_type": "markdown",
   "metadata": {
    "slideshow": {
     "slide_type": "fragment"
    }
   },
   "source": [
    "In those cases it is more convenient to define a **function** and then use the `apply` method"
   ]
  },
  {
   "cell_type": "markdown",
   "metadata": {
    "slideshow": {
     "slide_type": "subslide"
    }
   },
   "source": [
    "In this example, we will define a function to convert years to decades to be applied in the different columns that contain years"
   ]
  },
  {
   "cell_type": "code",
   "execution_count": 9,
   "metadata": {
    "slideshow": {
     "slide_type": "fragment"
    }
   },
   "outputs": [],
   "source": [
    "def to_decade(value):\n",
    "    return 10 * (value // 10)"
   ]
  },
  {
   "cell_type": "markdown",
   "metadata": {
    "slideshow": {
     "slide_type": "subslide"
    }
   },
   "source": [
    "First we should test our function on some examples to ensure the function is correct."
   ]
  },
  {
   "cell_type": "code",
   "execution_count": 11,
   "metadata": {
    "slideshow": {
     "slide_type": "fragment"
    }
   },
   "outputs": [
    {
     "data": {
      "text/plain": [
       "1970"
      ]
     },
     "execution_count": 11,
     "metadata": {},
     "output_type": "execute_result"
    }
   ],
   "source": [
    "to_decade(1971)"
   ]
  },
  {
   "cell_type": "markdown",
   "metadata": {
    "slideshow": {
     "slide_type": "subslide"
    }
   },
   "source": [
    "Now we can use `apply` to transform the entire column `Birth Year` into the corresponding decade"
   ]
  },
  {
   "cell_type": "code",
   "execution_count": 12,
   "metadata": {
    "slideshow": {
     "slide_type": "fragment"
    }
   },
   "outputs": [
    {
     "data": {
      "text/html": [
       "<div>\n",
       "<style scoped>\n",
       "    .dataframe tbody tr th:only-of-type {\n",
       "        vertical-align: middle;\n",
       "    }\n",
       "\n",
       "    .dataframe tbody tr th {\n",
       "        vertical-align: top;\n",
       "    }\n",
       "\n",
       "    .dataframe thead th {\n",
       "        text-align: right;\n",
       "    }\n",
       "</style>\n",
       "<table border=\"1\" class=\"dataframe\">\n",
       "  <thead>\n",
       "    <tr style=\"text-align: right;\">\n",
       "      <th></th>\n",
       "      <th>Year</th>\n",
       "      <th>Honor</th>\n",
       "      <th>Name</th>\n",
       "      <th>Country</th>\n",
       "      <th>Birth Year</th>\n",
       "      <th>Death Year</th>\n",
       "      <th>Title</th>\n",
       "      <th>Category</th>\n",
       "      <th>Context</th>\n",
       "      <th>Category Ordinal</th>\n",
       "      <th>Lifespan</th>\n",
       "      <th>Birth Decade</th>\n",
       "    </tr>\n",
       "  </thead>\n",
       "  <tbody>\n",
       "    <tr>\n",
       "      <th>0</th>\n",
       "      <td>1927</td>\n",
       "      <td>Man of the Year</td>\n",
       "      <td>Charles Lindbergh</td>\n",
       "      <td>United States</td>\n",
       "      <td>1902.0</td>\n",
       "      <td>1974.0</td>\n",
       "      <td>US Air Mail Pilot</td>\n",
       "      <td>NaN</td>\n",
       "      <td>First Solo Transatlantic Flight</td>\n",
       "      <td>0</td>\n",
       "      <td>72.0</td>\n",
       "      <td>1900.0</td>\n",
       "    </tr>\n",
       "    <tr>\n",
       "      <th>1</th>\n",
       "      <td>1928</td>\n",
       "      <td>Man of the Year</td>\n",
       "      <td>Walter Chrysler</td>\n",
       "      <td>United States</td>\n",
       "      <td>1875.0</td>\n",
       "      <td>1940.0</td>\n",
       "      <td>Founder of Chrysler</td>\n",
       "      <td>Economics</td>\n",
       "      <td>Chrysler/Dodge Merger</td>\n",
       "      <td>7</td>\n",
       "      <td>65.0</td>\n",
       "      <td>1870.0</td>\n",
       "    </tr>\n",
       "    <tr>\n",
       "      <th>2</th>\n",
       "      <td>1929</td>\n",
       "      <td>Man of the Year</td>\n",
       "      <td>Owen D. Young</td>\n",
       "      <td>United States</td>\n",
       "      <td>1874.0</td>\n",
       "      <td>1962.0</td>\n",
       "      <td>Member of the German Reparations International...</td>\n",
       "      <td>Diplomacy</td>\n",
       "      <td>Young Plan</td>\n",
       "      <td>10</td>\n",
       "      <td>88.0</td>\n",
       "      <td>1870.0</td>\n",
       "    </tr>\n",
       "    <tr>\n",
       "      <th>3</th>\n",
       "      <td>1930</td>\n",
       "      <td>Man of the Year</td>\n",
       "      <td>Mahatma Gandhi</td>\n",
       "      <td>India</td>\n",
       "      <td>1869.0</td>\n",
       "      <td>1948.0</td>\n",
       "      <td>NaN</td>\n",
       "      <td>Revolution</td>\n",
       "      <td>Salt March</td>\n",
       "      <td>4</td>\n",
       "      <td>79.0</td>\n",
       "      <td>1860.0</td>\n",
       "    </tr>\n",
       "    <tr>\n",
       "      <th>4</th>\n",
       "      <td>1931</td>\n",
       "      <td>Man of the Year</td>\n",
       "      <td>Pierre Laval</td>\n",
       "      <td>France</td>\n",
       "      <td>1883.0</td>\n",
       "      <td>1945.0</td>\n",
       "      <td>Prime Minister of France</td>\n",
       "      <td>Politics</td>\n",
       "      <td>NaN</td>\n",
       "      <td>3</td>\n",
       "      <td>62.0</td>\n",
       "      <td>1880.0</td>\n",
       "    </tr>\n",
       "    <tr>\n",
       "      <th>...</th>\n",
       "      <td>...</td>\n",
       "      <td>...</td>\n",
       "      <td>...</td>\n",
       "      <td>...</td>\n",
       "      <td>...</td>\n",
       "      <td>...</td>\n",
       "      <td>...</td>\n",
       "      <td>...</td>\n",
       "      <td>...</td>\n",
       "      <td>...</td>\n",
       "      <td>...</td>\n",
       "      <td>...</td>\n",
       "    </tr>\n",
       "    <tr>\n",
       "      <th>86</th>\n",
       "      <td>2012</td>\n",
       "      <td>Person of the Year</td>\n",
       "      <td>Barack Obama</td>\n",
       "      <td>United States</td>\n",
       "      <td>1961.0</td>\n",
       "      <td>NaN</td>\n",
       "      <td>President of the United States</td>\n",
       "      <td>Politics</td>\n",
       "      <td>Presidential Election</td>\n",
       "      <td>3</td>\n",
       "      <td>NaN</td>\n",
       "      <td>1960.0</td>\n",
       "    </tr>\n",
       "    <tr>\n",
       "      <th>87</th>\n",
       "      <td>2013</td>\n",
       "      <td>Person of the Year</td>\n",
       "      <td>Pope Francis</td>\n",
       "      <td>Vatican City</td>\n",
       "      <td>1936.0</td>\n",
       "      <td>NaN</td>\n",
       "      <td>Pope of the Roman Catholic Church</td>\n",
       "      <td>Religion</td>\n",
       "      <td>Papal Conclave</td>\n",
       "      <td>5</td>\n",
       "      <td>NaN</td>\n",
       "      <td>1930.0</td>\n",
       "    </tr>\n",
       "    <tr>\n",
       "      <th>88</th>\n",
       "      <td>2014</td>\n",
       "      <td>Person of the Year</td>\n",
       "      <td>The Ebola Fighters</td>\n",
       "      <td>NaN</td>\n",
       "      <td>NaN</td>\n",
       "      <td>NaN</td>\n",
       "      <td>NaN</td>\n",
       "      <td>Science</td>\n",
       "      <td>Ebola Epidemic</td>\n",
       "      <td>12</td>\n",
       "      <td>NaN</td>\n",
       "      <td>NaN</td>\n",
       "    </tr>\n",
       "    <tr>\n",
       "      <th>89</th>\n",
       "      <td>2015</td>\n",
       "      <td>Person of the Year</td>\n",
       "      <td>Angela Merkel</td>\n",
       "      <td>Germany</td>\n",
       "      <td>1954.0</td>\n",
       "      <td>NaN</td>\n",
       "      <td>Chancellor of Germany</td>\n",
       "      <td>Politics</td>\n",
       "      <td>Debt Crisis; Refugee Crisis; Paris Terrorist A...</td>\n",
       "      <td>3</td>\n",
       "      <td>NaN</td>\n",
       "      <td>1950.0</td>\n",
       "    </tr>\n",
       "    <tr>\n",
       "      <th>90</th>\n",
       "      <td>2016</td>\n",
       "      <td>Person of the Year</td>\n",
       "      <td>Donald Trump</td>\n",
       "      <td>United States</td>\n",
       "      <td>1946.0</td>\n",
       "      <td>NaN</td>\n",
       "      <td>President of the United States</td>\n",
       "      <td>Politics</td>\n",
       "      <td>Presidential Election</td>\n",
       "      <td>3</td>\n",
       "      <td>NaN</td>\n",
       "      <td>1940.0</td>\n",
       "    </tr>\n",
       "  </tbody>\n",
       "</table>\n",
       "<p>91 rows × 12 columns</p>\n",
       "</div>"
      ],
      "text/plain": [
       "    Year               Honor                Name        Country  Birth Year  \\\n",
       "0   1927     Man of the Year   Charles Lindbergh  United States      1902.0   \n",
       "1   1928     Man of the Year     Walter Chrysler  United States      1875.0   \n",
       "2   1929     Man of the Year       Owen D. Young  United States      1874.0   \n",
       "3   1930     Man of the Year      Mahatma Gandhi          India      1869.0   \n",
       "4   1931     Man of the Year        Pierre Laval         France      1883.0   \n",
       "..   ...                 ...                 ...            ...         ...   \n",
       "86  2012  Person of the Year        Barack Obama  United States      1961.0   \n",
       "87  2013  Person of the Year        Pope Francis   Vatican City      1936.0   \n",
       "88  2014  Person of the Year  The Ebola Fighters            NaN         NaN   \n",
       "89  2015  Person of the Year       Angela Merkel        Germany      1954.0   \n",
       "90  2016  Person of the Year        Donald Trump  United States      1946.0   \n",
       "\n",
       "    Death Year                                              Title    Category  \\\n",
       "0       1974.0                                  US Air Mail Pilot         NaN   \n",
       "1       1940.0                                Founder of Chrysler   Economics   \n",
       "2       1962.0  Member of the German Reparations International...   Diplomacy   \n",
       "3       1948.0                                                NaN  Revolution   \n",
       "4       1945.0                           Prime Minister of France    Politics   \n",
       "..         ...                                                ...         ...   \n",
       "86         NaN                     President of the United States    Politics   \n",
       "87         NaN                  Pope of the Roman Catholic Church    Religion   \n",
       "88         NaN                                                NaN     Science   \n",
       "89         NaN                              Chancellor of Germany    Politics   \n",
       "90         NaN                     President of the United States    Politics   \n",
       "\n",
       "                                              Context  Category Ordinal  \\\n",
       "0                     First Solo Transatlantic Flight                 0   \n",
       "1                               Chrysler/Dodge Merger                 7   \n",
       "2                                          Young Plan                10   \n",
       "3                                          Salt March                 4   \n",
       "4                                                 NaN                 3   \n",
       "..                                                ...               ...   \n",
       "86                              Presidential Election                 3   \n",
       "87                                     Papal Conclave                 5   \n",
       "88                                     Ebola Epidemic                12   \n",
       "89  Debt Crisis; Refugee Crisis; Paris Terrorist A...                 3   \n",
       "90                              Presidential Election                 3   \n",
       "\n",
       "    Lifespan  Birth Decade  \n",
       "0       72.0        1900.0  \n",
       "1       65.0        1870.0  \n",
       "2       88.0        1870.0  \n",
       "3       79.0        1860.0  \n",
       "4       62.0        1880.0  \n",
       "..       ...           ...  \n",
       "86       NaN        1960.0  \n",
       "87       NaN        1930.0  \n",
       "88       NaN           NaN  \n",
       "89       NaN        1950.0  \n",
       "90       NaN        1940.0  \n",
       "\n",
       "[91 rows x 12 columns]"
      ]
     },
     "execution_count": 12,
     "metadata": {},
     "output_type": "execute_result"
    }
   ],
   "source": [
    "time['Birth Decade'] = time['Birth Year'].apply(to_decade)\n",
    "time"
   ]
  },
  {
   "cell_type": "markdown",
   "metadata": {
    "slideshow": {
     "slide_type": "subslide"
    }
   },
   "source": [
    "### Manipulating String Columns"
   ]
  },
  {
   "cell_type": "markdown",
   "metadata": {
    "slideshow": {
     "slide_type": "subslide"
    }
   },
   "source": [
    "`apply` can also be used on strings"
   ]
  },
  {
   "cell_type": "markdown",
   "metadata": {
    "slideshow": {
     "slide_type": "fragment"
    }
   },
   "source": [
    "For example, we can apply the `len` function to `Name` to get the number of characters in each name."
   ]
  },
  {
   "cell_type": "code",
   "execution_count": 13,
   "metadata": {
    "slideshow": {
     "slide_type": "fragment"
    }
   },
   "outputs": [
    {
     "data": {
      "text/html": [
       "<div>\n",
       "<style scoped>\n",
       "    .dataframe tbody tr th:only-of-type {\n",
       "        vertical-align: middle;\n",
       "    }\n",
       "\n",
       "    .dataframe tbody tr th {\n",
       "        vertical-align: top;\n",
       "    }\n",
       "\n",
       "    .dataframe thead th {\n",
       "        text-align: right;\n",
       "    }\n",
       "</style>\n",
       "<table border=\"1\" class=\"dataframe\">\n",
       "  <thead>\n",
       "    <tr style=\"text-align: right;\">\n",
       "      <th></th>\n",
       "      <th>Year</th>\n",
       "      <th>Honor</th>\n",
       "      <th>Name</th>\n",
       "      <th>Country</th>\n",
       "      <th>Birth Year</th>\n",
       "      <th>Death Year</th>\n",
       "      <th>Title</th>\n",
       "      <th>Category</th>\n",
       "      <th>Context</th>\n",
       "      <th>Category Ordinal</th>\n",
       "      <th>Lifespan</th>\n",
       "      <th>Birth Decade</th>\n",
       "      <th>Name Length</th>\n",
       "    </tr>\n",
       "  </thead>\n",
       "  <tbody>\n",
       "    <tr>\n",
       "      <th>0</th>\n",
       "      <td>1927</td>\n",
       "      <td>Man of the Year</td>\n",
       "      <td>Charles Lindbergh</td>\n",
       "      <td>United States</td>\n",
       "      <td>1902.0</td>\n",
       "      <td>1974.0</td>\n",
       "      <td>US Air Mail Pilot</td>\n",
       "      <td>NaN</td>\n",
       "      <td>First Solo Transatlantic Flight</td>\n",
       "      <td>0</td>\n",
       "      <td>72.0</td>\n",
       "      <td>1900.0</td>\n",
       "      <td>17</td>\n",
       "    </tr>\n",
       "    <tr>\n",
       "      <th>1</th>\n",
       "      <td>1928</td>\n",
       "      <td>Man of the Year</td>\n",
       "      <td>Walter Chrysler</td>\n",
       "      <td>United States</td>\n",
       "      <td>1875.0</td>\n",
       "      <td>1940.0</td>\n",
       "      <td>Founder of Chrysler</td>\n",
       "      <td>Economics</td>\n",
       "      <td>Chrysler/Dodge Merger</td>\n",
       "      <td>7</td>\n",
       "      <td>65.0</td>\n",
       "      <td>1870.0</td>\n",
       "      <td>15</td>\n",
       "    </tr>\n",
       "    <tr>\n",
       "      <th>2</th>\n",
       "      <td>1929</td>\n",
       "      <td>Man of the Year</td>\n",
       "      <td>Owen D. Young</td>\n",
       "      <td>United States</td>\n",
       "      <td>1874.0</td>\n",
       "      <td>1962.0</td>\n",
       "      <td>Member of the German Reparations International...</td>\n",
       "      <td>Diplomacy</td>\n",
       "      <td>Young Plan</td>\n",
       "      <td>10</td>\n",
       "      <td>88.0</td>\n",
       "      <td>1870.0</td>\n",
       "      <td>13</td>\n",
       "    </tr>\n",
       "    <tr>\n",
       "      <th>3</th>\n",
       "      <td>1930</td>\n",
       "      <td>Man of the Year</td>\n",
       "      <td>Mahatma Gandhi</td>\n",
       "      <td>India</td>\n",
       "      <td>1869.0</td>\n",
       "      <td>1948.0</td>\n",
       "      <td>NaN</td>\n",
       "      <td>Revolution</td>\n",
       "      <td>Salt March</td>\n",
       "      <td>4</td>\n",
       "      <td>79.0</td>\n",
       "      <td>1860.0</td>\n",
       "      <td>14</td>\n",
       "    </tr>\n",
       "    <tr>\n",
       "      <th>4</th>\n",
       "      <td>1931</td>\n",
       "      <td>Man of the Year</td>\n",
       "      <td>Pierre Laval</td>\n",
       "      <td>France</td>\n",
       "      <td>1883.0</td>\n",
       "      <td>1945.0</td>\n",
       "      <td>Prime Minister of France</td>\n",
       "      <td>Politics</td>\n",
       "      <td>NaN</td>\n",
       "      <td>3</td>\n",
       "      <td>62.0</td>\n",
       "      <td>1880.0</td>\n",
       "      <td>12</td>\n",
       "    </tr>\n",
       "    <tr>\n",
       "      <th>...</th>\n",
       "      <td>...</td>\n",
       "      <td>...</td>\n",
       "      <td>...</td>\n",
       "      <td>...</td>\n",
       "      <td>...</td>\n",
       "      <td>...</td>\n",
       "      <td>...</td>\n",
       "      <td>...</td>\n",
       "      <td>...</td>\n",
       "      <td>...</td>\n",
       "      <td>...</td>\n",
       "      <td>...</td>\n",
       "      <td>...</td>\n",
       "    </tr>\n",
       "    <tr>\n",
       "      <th>86</th>\n",
       "      <td>2012</td>\n",
       "      <td>Person of the Year</td>\n",
       "      <td>Barack Obama</td>\n",
       "      <td>United States</td>\n",
       "      <td>1961.0</td>\n",
       "      <td>NaN</td>\n",
       "      <td>President of the United States</td>\n",
       "      <td>Politics</td>\n",
       "      <td>Presidential Election</td>\n",
       "      <td>3</td>\n",
       "      <td>NaN</td>\n",
       "      <td>1960.0</td>\n",
       "      <td>12</td>\n",
       "    </tr>\n",
       "    <tr>\n",
       "      <th>87</th>\n",
       "      <td>2013</td>\n",
       "      <td>Person of the Year</td>\n",
       "      <td>Pope Francis</td>\n",
       "      <td>Vatican City</td>\n",
       "      <td>1936.0</td>\n",
       "      <td>NaN</td>\n",
       "      <td>Pope of the Roman Catholic Church</td>\n",
       "      <td>Religion</td>\n",
       "      <td>Papal Conclave</td>\n",
       "      <td>5</td>\n",
       "      <td>NaN</td>\n",
       "      <td>1930.0</td>\n",
       "      <td>12</td>\n",
       "    </tr>\n",
       "    <tr>\n",
       "      <th>88</th>\n",
       "      <td>2014</td>\n",
       "      <td>Person of the Year</td>\n",
       "      <td>The Ebola Fighters</td>\n",
       "      <td>NaN</td>\n",
       "      <td>NaN</td>\n",
       "      <td>NaN</td>\n",
       "      <td>NaN</td>\n",
       "      <td>Science</td>\n",
       "      <td>Ebola Epidemic</td>\n",
       "      <td>12</td>\n",
       "      <td>NaN</td>\n",
       "      <td>NaN</td>\n",
       "      <td>18</td>\n",
       "    </tr>\n",
       "    <tr>\n",
       "      <th>89</th>\n",
       "      <td>2015</td>\n",
       "      <td>Person of the Year</td>\n",
       "      <td>Angela Merkel</td>\n",
       "      <td>Germany</td>\n",
       "      <td>1954.0</td>\n",
       "      <td>NaN</td>\n",
       "      <td>Chancellor of Germany</td>\n",
       "      <td>Politics</td>\n",
       "      <td>Debt Crisis; Refugee Crisis; Paris Terrorist A...</td>\n",
       "      <td>3</td>\n",
       "      <td>NaN</td>\n",
       "      <td>1950.0</td>\n",
       "      <td>13</td>\n",
       "    </tr>\n",
       "    <tr>\n",
       "      <th>90</th>\n",
       "      <td>2016</td>\n",
       "      <td>Person of the Year</td>\n",
       "      <td>Donald Trump</td>\n",
       "      <td>United States</td>\n",
       "      <td>1946.0</td>\n",
       "      <td>NaN</td>\n",
       "      <td>President of the United States</td>\n",
       "      <td>Politics</td>\n",
       "      <td>Presidential Election</td>\n",
       "      <td>3</td>\n",
       "      <td>NaN</td>\n",
       "      <td>1940.0</td>\n",
       "      <td>12</td>\n",
       "    </tr>\n",
       "  </tbody>\n",
       "</table>\n",
       "<p>91 rows × 13 columns</p>\n",
       "</div>"
      ],
      "text/plain": [
       "    Year               Honor                Name        Country  Birth Year  \\\n",
       "0   1927     Man of the Year   Charles Lindbergh  United States      1902.0   \n",
       "1   1928     Man of the Year     Walter Chrysler  United States      1875.0   \n",
       "2   1929     Man of the Year       Owen D. Young  United States      1874.0   \n",
       "3   1930     Man of the Year      Mahatma Gandhi          India      1869.0   \n",
       "4   1931     Man of the Year        Pierre Laval         France      1883.0   \n",
       "..   ...                 ...                 ...            ...         ...   \n",
       "86  2012  Person of the Year        Barack Obama  United States      1961.0   \n",
       "87  2013  Person of the Year        Pope Francis   Vatican City      1936.0   \n",
       "88  2014  Person of the Year  The Ebola Fighters            NaN         NaN   \n",
       "89  2015  Person of the Year       Angela Merkel        Germany      1954.0   \n",
       "90  2016  Person of the Year        Donald Trump  United States      1946.0   \n",
       "\n",
       "    Death Year                                              Title    Category  \\\n",
       "0       1974.0                                  US Air Mail Pilot         NaN   \n",
       "1       1940.0                                Founder of Chrysler   Economics   \n",
       "2       1962.0  Member of the German Reparations International...   Diplomacy   \n",
       "3       1948.0                                                NaN  Revolution   \n",
       "4       1945.0                           Prime Minister of France    Politics   \n",
       "..         ...                                                ...         ...   \n",
       "86         NaN                     President of the United States    Politics   \n",
       "87         NaN                  Pope of the Roman Catholic Church    Religion   \n",
       "88         NaN                                                NaN     Science   \n",
       "89         NaN                              Chancellor of Germany    Politics   \n",
       "90         NaN                     President of the United States    Politics   \n",
       "\n",
       "                                              Context  Category Ordinal  \\\n",
       "0                     First Solo Transatlantic Flight                 0   \n",
       "1                               Chrysler/Dodge Merger                 7   \n",
       "2                                          Young Plan                10   \n",
       "3                                          Salt March                 4   \n",
       "4                                                 NaN                 3   \n",
       "..                                                ...               ...   \n",
       "86                              Presidential Election                 3   \n",
       "87                                     Papal Conclave                 5   \n",
       "88                                     Ebola Epidemic                12   \n",
       "89  Debt Crisis; Refugee Crisis; Paris Terrorist A...                 3   \n",
       "90                              Presidential Election                 3   \n",
       "\n",
       "    Lifespan  Birth Decade  Name Length  \n",
       "0       72.0        1900.0           17  \n",
       "1       65.0        1870.0           15  \n",
       "2       88.0        1870.0           13  \n",
       "3       79.0        1860.0           14  \n",
       "4       62.0        1880.0           12  \n",
       "..       ...           ...          ...  \n",
       "86       NaN        1960.0           12  \n",
       "87       NaN        1930.0           12  \n",
       "88       NaN           NaN           18  \n",
       "89       NaN        1950.0           13  \n",
       "90       NaN        1940.0           12  \n",
       "\n",
       "[91 rows x 13 columns]"
      ]
     },
     "execution_count": 13,
     "metadata": {},
     "output_type": "execute_result"
    }
   ],
   "source": [
    "time['Name Length'] = time['Name'].apply(len)\n",
    "time"
   ]
  },
  {
   "cell_type": "markdown",
   "metadata": {
    "slideshow": {
     "slide_type": "subslide"
    }
   },
   "source": [
    "Another example, we can create a function to get the initials from a name."
   ]
  },
  {
   "cell_type": "code",
   "execution_count": 14,
   "metadata": {
    "slideshow": {
     "slide_type": "fragment"
    }
   },
   "outputs": [
    {
     "data": {
      "text/plain": [
       "'BO'"
      ]
     },
     "execution_count": 14,
     "metadata": {},
     "output_type": "execute_result"
    }
   ],
   "source": [
    "# First we define the function\n",
    "def to_initials(name):\n",
    "    import numpy as np # we need this for Python to know what NaN is!\n",
    "    if name == np.NaN:\n",
    "        return np.NaN\n",
    "    else:\n",
    "        initials = \"\"\n",
    "        for word in name.split(' '):\n",
    "            first_letter = word[0]\n",
    "            initials += first_letter\n",
    "        return initials\n",
    "    # Then, we try it\n",
    "to_initials(\"Barack Obama\")"
   ]
  },
  {
   "cell_type": "markdown",
   "metadata": {
    "slideshow": {
     "slide_type": "subslide"
    }
   },
   "source": [
    "Applying this gives us a name column with the person's initials."
   ]
  },
  {
   "cell_type": "code",
   "execution_count": 15,
   "metadata": {
    "slideshow": {
     "slide_type": "fragment"
    }
   },
   "outputs": [
    {
     "data": {
      "text/html": [
       "<div>\n",
       "<style scoped>\n",
       "    .dataframe tbody tr th:only-of-type {\n",
       "        vertical-align: middle;\n",
       "    }\n",
       "\n",
       "    .dataframe tbody tr th {\n",
       "        vertical-align: top;\n",
       "    }\n",
       "\n",
       "    .dataframe thead th {\n",
       "        text-align: right;\n",
       "    }\n",
       "</style>\n",
       "<table border=\"1\" class=\"dataframe\">\n",
       "  <thead>\n",
       "    <tr style=\"text-align: right;\">\n",
       "      <th></th>\n",
       "      <th>Year</th>\n",
       "      <th>Honor</th>\n",
       "      <th>Name</th>\n",
       "      <th>Country</th>\n",
       "      <th>Birth Year</th>\n",
       "      <th>Death Year</th>\n",
       "      <th>Title</th>\n",
       "      <th>Category</th>\n",
       "      <th>Context</th>\n",
       "      <th>Category Ordinal</th>\n",
       "      <th>Lifespan</th>\n",
       "      <th>Birth Decade</th>\n",
       "      <th>Name Length</th>\n",
       "      <th>Initials</th>\n",
       "    </tr>\n",
       "  </thead>\n",
       "  <tbody>\n",
       "    <tr>\n",
       "      <th>0</th>\n",
       "      <td>1927</td>\n",
       "      <td>Man of the Year</td>\n",
       "      <td>Charles Lindbergh</td>\n",
       "      <td>United States</td>\n",
       "      <td>1902.0</td>\n",
       "      <td>1974.0</td>\n",
       "      <td>US Air Mail Pilot</td>\n",
       "      <td>NaN</td>\n",
       "      <td>First Solo Transatlantic Flight</td>\n",
       "      <td>0</td>\n",
       "      <td>72.0</td>\n",
       "      <td>1900.0</td>\n",
       "      <td>17</td>\n",
       "      <td>CL</td>\n",
       "    </tr>\n",
       "    <tr>\n",
       "      <th>1</th>\n",
       "      <td>1928</td>\n",
       "      <td>Man of the Year</td>\n",
       "      <td>Walter Chrysler</td>\n",
       "      <td>United States</td>\n",
       "      <td>1875.0</td>\n",
       "      <td>1940.0</td>\n",
       "      <td>Founder of Chrysler</td>\n",
       "      <td>Economics</td>\n",
       "      <td>Chrysler/Dodge Merger</td>\n",
       "      <td>7</td>\n",
       "      <td>65.0</td>\n",
       "      <td>1870.0</td>\n",
       "      <td>15</td>\n",
       "      <td>WC</td>\n",
       "    </tr>\n",
       "    <tr>\n",
       "      <th>2</th>\n",
       "      <td>1929</td>\n",
       "      <td>Man of the Year</td>\n",
       "      <td>Owen D. Young</td>\n",
       "      <td>United States</td>\n",
       "      <td>1874.0</td>\n",
       "      <td>1962.0</td>\n",
       "      <td>Member of the German Reparations International...</td>\n",
       "      <td>Diplomacy</td>\n",
       "      <td>Young Plan</td>\n",
       "      <td>10</td>\n",
       "      <td>88.0</td>\n",
       "      <td>1870.0</td>\n",
       "      <td>13</td>\n",
       "      <td>ODY</td>\n",
       "    </tr>\n",
       "    <tr>\n",
       "      <th>3</th>\n",
       "      <td>1930</td>\n",
       "      <td>Man of the Year</td>\n",
       "      <td>Mahatma Gandhi</td>\n",
       "      <td>India</td>\n",
       "      <td>1869.0</td>\n",
       "      <td>1948.0</td>\n",
       "      <td>NaN</td>\n",
       "      <td>Revolution</td>\n",
       "      <td>Salt March</td>\n",
       "      <td>4</td>\n",
       "      <td>79.0</td>\n",
       "      <td>1860.0</td>\n",
       "      <td>14</td>\n",
       "      <td>MG</td>\n",
       "    </tr>\n",
       "    <tr>\n",
       "      <th>4</th>\n",
       "      <td>1931</td>\n",
       "      <td>Man of the Year</td>\n",
       "      <td>Pierre Laval</td>\n",
       "      <td>France</td>\n",
       "      <td>1883.0</td>\n",
       "      <td>1945.0</td>\n",
       "      <td>Prime Minister of France</td>\n",
       "      <td>Politics</td>\n",
       "      <td>NaN</td>\n",
       "      <td>3</td>\n",
       "      <td>62.0</td>\n",
       "      <td>1880.0</td>\n",
       "      <td>12</td>\n",
       "      <td>PL</td>\n",
       "    </tr>\n",
       "    <tr>\n",
       "      <th>...</th>\n",
       "      <td>...</td>\n",
       "      <td>...</td>\n",
       "      <td>...</td>\n",
       "      <td>...</td>\n",
       "      <td>...</td>\n",
       "      <td>...</td>\n",
       "      <td>...</td>\n",
       "      <td>...</td>\n",
       "      <td>...</td>\n",
       "      <td>...</td>\n",
       "      <td>...</td>\n",
       "      <td>...</td>\n",
       "      <td>...</td>\n",
       "      <td>...</td>\n",
       "    </tr>\n",
       "    <tr>\n",
       "      <th>86</th>\n",
       "      <td>2012</td>\n",
       "      <td>Person of the Year</td>\n",
       "      <td>Barack Obama</td>\n",
       "      <td>United States</td>\n",
       "      <td>1961.0</td>\n",
       "      <td>NaN</td>\n",
       "      <td>President of the United States</td>\n",
       "      <td>Politics</td>\n",
       "      <td>Presidential Election</td>\n",
       "      <td>3</td>\n",
       "      <td>NaN</td>\n",
       "      <td>1960.0</td>\n",
       "      <td>12</td>\n",
       "      <td>BO</td>\n",
       "    </tr>\n",
       "    <tr>\n",
       "      <th>87</th>\n",
       "      <td>2013</td>\n",
       "      <td>Person of the Year</td>\n",
       "      <td>Pope Francis</td>\n",
       "      <td>Vatican City</td>\n",
       "      <td>1936.0</td>\n",
       "      <td>NaN</td>\n",
       "      <td>Pope of the Roman Catholic Church</td>\n",
       "      <td>Religion</td>\n",
       "      <td>Papal Conclave</td>\n",
       "      <td>5</td>\n",
       "      <td>NaN</td>\n",
       "      <td>1930.0</td>\n",
       "      <td>12</td>\n",
       "      <td>PF</td>\n",
       "    </tr>\n",
       "    <tr>\n",
       "      <th>88</th>\n",
       "      <td>2014</td>\n",
       "      <td>Person of the Year</td>\n",
       "      <td>The Ebola Fighters</td>\n",
       "      <td>NaN</td>\n",
       "      <td>NaN</td>\n",
       "      <td>NaN</td>\n",
       "      <td>NaN</td>\n",
       "      <td>Science</td>\n",
       "      <td>Ebola Epidemic</td>\n",
       "      <td>12</td>\n",
       "      <td>NaN</td>\n",
       "      <td>NaN</td>\n",
       "      <td>18</td>\n",
       "      <td>TE</td>\n",
       "    </tr>\n",
       "    <tr>\n",
       "      <th>89</th>\n",
       "      <td>2015</td>\n",
       "      <td>Person of the Year</td>\n",
       "      <td>Angela Merkel</td>\n",
       "      <td>Germany</td>\n",
       "      <td>1954.0</td>\n",
       "      <td>NaN</td>\n",
       "      <td>Chancellor of Germany</td>\n",
       "      <td>Politics</td>\n",
       "      <td>Debt Crisis; Refugee Crisis; Paris Terrorist A...</td>\n",
       "      <td>3</td>\n",
       "      <td>NaN</td>\n",
       "      <td>1950.0</td>\n",
       "      <td>13</td>\n",
       "      <td>AM</td>\n",
       "    </tr>\n",
       "    <tr>\n",
       "      <th>90</th>\n",
       "      <td>2016</td>\n",
       "      <td>Person of the Year</td>\n",
       "      <td>Donald Trump</td>\n",
       "      <td>United States</td>\n",
       "      <td>1946.0</td>\n",
       "      <td>NaN</td>\n",
       "      <td>President of the United States</td>\n",
       "      <td>Politics</td>\n",
       "      <td>Presidential Election</td>\n",
       "      <td>3</td>\n",
       "      <td>NaN</td>\n",
       "      <td>1940.0</td>\n",
       "      <td>12</td>\n",
       "      <td>DT</td>\n",
       "    </tr>\n",
       "  </tbody>\n",
       "</table>\n",
       "<p>91 rows × 14 columns</p>\n",
       "</div>"
      ],
      "text/plain": [
       "    Year               Honor                Name        Country  Birth Year  \\\n",
       "0   1927     Man of the Year   Charles Lindbergh  United States      1902.0   \n",
       "1   1928     Man of the Year     Walter Chrysler  United States      1875.0   \n",
       "2   1929     Man of the Year       Owen D. Young  United States      1874.0   \n",
       "3   1930     Man of the Year      Mahatma Gandhi          India      1869.0   \n",
       "4   1931     Man of the Year        Pierre Laval         France      1883.0   \n",
       "..   ...                 ...                 ...            ...         ...   \n",
       "86  2012  Person of the Year        Barack Obama  United States      1961.0   \n",
       "87  2013  Person of the Year        Pope Francis   Vatican City      1936.0   \n",
       "88  2014  Person of the Year  The Ebola Fighters            NaN         NaN   \n",
       "89  2015  Person of the Year       Angela Merkel        Germany      1954.0   \n",
       "90  2016  Person of the Year        Donald Trump  United States      1946.0   \n",
       "\n",
       "    Death Year                                              Title    Category  \\\n",
       "0       1974.0                                  US Air Mail Pilot         NaN   \n",
       "1       1940.0                                Founder of Chrysler   Economics   \n",
       "2       1962.0  Member of the German Reparations International...   Diplomacy   \n",
       "3       1948.0                                                NaN  Revolution   \n",
       "4       1945.0                           Prime Minister of France    Politics   \n",
       "..         ...                                                ...         ...   \n",
       "86         NaN                     President of the United States    Politics   \n",
       "87         NaN                  Pope of the Roman Catholic Church    Religion   \n",
       "88         NaN                                                NaN     Science   \n",
       "89         NaN                              Chancellor of Germany    Politics   \n",
       "90         NaN                     President of the United States    Politics   \n",
       "\n",
       "                                              Context  Category Ordinal  \\\n",
       "0                     First Solo Transatlantic Flight                 0   \n",
       "1                               Chrysler/Dodge Merger                 7   \n",
       "2                                          Young Plan                10   \n",
       "3                                          Salt March                 4   \n",
       "4                                                 NaN                 3   \n",
       "..                                                ...               ...   \n",
       "86                              Presidential Election                 3   \n",
       "87                                     Papal Conclave                 5   \n",
       "88                                     Ebola Epidemic                12   \n",
       "89  Debt Crisis; Refugee Crisis; Paris Terrorist A...                 3   \n",
       "90                              Presidential Election                 3   \n",
       "\n",
       "    Lifespan  Birth Decade  Name Length Initials  \n",
       "0       72.0        1900.0           17       CL  \n",
       "1       65.0        1870.0           15       WC  \n",
       "2       88.0        1870.0           13      ODY  \n",
       "3       79.0        1860.0           14       MG  \n",
       "4       62.0        1880.0           12       PL  \n",
       "..       ...           ...          ...      ...  \n",
       "86       NaN        1960.0           12       BO  \n",
       "87       NaN        1930.0           12       PF  \n",
       "88       NaN           NaN           18       TE  \n",
       "89       NaN        1950.0           13       AM  \n",
       "90       NaN        1940.0           12       DT  \n",
       "\n",
       "[91 rows x 14 columns]"
      ]
     },
     "execution_count": 15,
     "metadata": {},
     "output_type": "execute_result"
    }
   ],
   "source": [
    "time['Initials'] = time['Name'].apply(to_initials)\n",
    "time"
   ]
  },
  {
   "cell_type": "markdown",
   "metadata": {
    "slideshow": {
     "slide_type": "subslide"
    }
   },
   "source": [
    "### Removing Columns (Unwanted Variables)"
   ]
  },
  {
   "cell_type": "markdown",
   "metadata": {
    "slideshow": {
     "slide_type": "subslide"
    }
   },
   "source": [
    "There are two main ways to remove them, either we specify which columns we want to **keep** or we specify which we want to **remove**"
   ]
  },
  {
   "cell_type": "markdown",
   "metadata": {
    "slideshow": {
     "slide_type": "fragment"
    }
   },
   "source": [
    "Here is the version where we specify, by name, which columns to **keep**. You saw this in an earlier lecture as selecting columns."
   ]
  },
  {
   "cell_type": "code",
   "execution_count": 16,
   "metadata": {
    "slideshow": {
     "slide_type": "fragment"
    }
   },
   "outputs": [
    {
     "data": {
      "text/html": [
       "<div>\n",
       "<style scoped>\n",
       "    .dataframe tbody tr th:only-of-type {\n",
       "        vertical-align: middle;\n",
       "    }\n",
       "\n",
       "    .dataframe tbody tr th {\n",
       "        vertical-align: top;\n",
       "    }\n",
       "\n",
       "    .dataframe thead th {\n",
       "        text-align: right;\n",
       "    }\n",
       "</style>\n",
       "<table border=\"1\" class=\"dataframe\">\n",
       "  <thead>\n",
       "    <tr style=\"text-align: right;\">\n",
       "      <th></th>\n",
       "      <th>Year</th>\n",
       "      <th>Honor</th>\n",
       "      <th>Name</th>\n",
       "    </tr>\n",
       "  </thead>\n",
       "  <tbody>\n",
       "    <tr>\n",
       "      <th>0</th>\n",
       "      <td>1927</td>\n",
       "      <td>Man of the Year</td>\n",
       "      <td>Charles Lindbergh</td>\n",
       "    </tr>\n",
       "    <tr>\n",
       "      <th>1</th>\n",
       "      <td>1928</td>\n",
       "      <td>Man of the Year</td>\n",
       "      <td>Walter Chrysler</td>\n",
       "    </tr>\n",
       "    <tr>\n",
       "      <th>2</th>\n",
       "      <td>1929</td>\n",
       "      <td>Man of the Year</td>\n",
       "      <td>Owen D. Young</td>\n",
       "    </tr>\n",
       "    <tr>\n",
       "      <th>3</th>\n",
       "      <td>1930</td>\n",
       "      <td>Man of the Year</td>\n",
       "      <td>Mahatma Gandhi</td>\n",
       "    </tr>\n",
       "    <tr>\n",
       "      <th>4</th>\n",
       "      <td>1931</td>\n",
       "      <td>Man of the Year</td>\n",
       "      <td>Pierre Laval</td>\n",
       "    </tr>\n",
       "    <tr>\n",
       "      <th>...</th>\n",
       "      <td>...</td>\n",
       "      <td>...</td>\n",
       "      <td>...</td>\n",
       "    </tr>\n",
       "    <tr>\n",
       "      <th>86</th>\n",
       "      <td>2012</td>\n",
       "      <td>Person of the Year</td>\n",
       "      <td>Barack Obama</td>\n",
       "    </tr>\n",
       "    <tr>\n",
       "      <th>87</th>\n",
       "      <td>2013</td>\n",
       "      <td>Person of the Year</td>\n",
       "      <td>Pope Francis</td>\n",
       "    </tr>\n",
       "    <tr>\n",
       "      <th>88</th>\n",
       "      <td>2014</td>\n",
       "      <td>Person of the Year</td>\n",
       "      <td>The Ebola Fighters</td>\n",
       "    </tr>\n",
       "    <tr>\n",
       "      <th>89</th>\n",
       "      <td>2015</td>\n",
       "      <td>Person of the Year</td>\n",
       "      <td>Angela Merkel</td>\n",
       "    </tr>\n",
       "    <tr>\n",
       "      <th>90</th>\n",
       "      <td>2016</td>\n",
       "      <td>Person of the Year</td>\n",
       "      <td>Donald Trump</td>\n",
       "    </tr>\n",
       "  </tbody>\n",
       "</table>\n",
       "<p>91 rows × 3 columns</p>\n",
       "</div>"
      ],
      "text/plain": [
       "    Year               Honor                Name\n",
       "0   1927     Man of the Year   Charles Lindbergh\n",
       "1   1928     Man of the Year     Walter Chrysler\n",
       "2   1929     Man of the Year       Owen D. Young\n",
       "3   1930     Man of the Year      Mahatma Gandhi\n",
       "4   1931     Man of the Year        Pierre Laval\n",
       "..   ...                 ...                 ...\n",
       "86  2012  Person of the Year        Barack Obama\n",
       "87  2013  Person of the Year        Pope Francis\n",
       "88  2014  Person of the Year  The Ebola Fighters\n",
       "89  2015  Person of the Year       Angela Merkel\n",
       "90  2016  Person of the Year        Donald Trump\n",
       "\n",
       "[91 rows x 3 columns]"
      ]
     },
     "execution_count": 16,
     "metadata": {},
     "output_type": "execute_result"
    }
   ],
   "source": [
    "time[['Year', 'Honor', 'Name']]"
   ]
  },
  {
   "cell_type": "markdown",
   "metadata": {
    "slideshow": {
     "slide_type": "subslide"
    }
   },
   "source": [
    "Here is the version where we specify, by name, which columns to **remove**"
   ]
  },
  {
   "cell_type": "code",
   "execution_count": 17,
   "metadata": {
    "slideshow": {
     "slide_type": "fragment"
    }
   },
   "outputs": [
    {
     "data": {
      "text/html": [
       "<div>\n",
       "<style scoped>\n",
       "    .dataframe tbody tr th:only-of-type {\n",
       "        vertical-align: middle;\n",
       "    }\n",
       "\n",
       "    .dataframe tbody tr th {\n",
       "        vertical-align: top;\n",
       "    }\n",
       "\n",
       "    .dataframe thead th {\n",
       "        text-align: right;\n",
       "    }\n",
       "</style>\n",
       "<table border=\"1\" class=\"dataframe\">\n",
       "  <thead>\n",
       "    <tr style=\"text-align: right;\">\n",
       "      <th></th>\n",
       "      <th>Country</th>\n",
       "      <th>Birth Year</th>\n",
       "      <th>Death Year</th>\n",
       "      <th>Title</th>\n",
       "      <th>Category</th>\n",
       "      <th>Context</th>\n",
       "      <th>Category Ordinal</th>\n",
       "      <th>Lifespan</th>\n",
       "      <th>Birth Decade</th>\n",
       "      <th>Name Length</th>\n",
       "      <th>Initials</th>\n",
       "    </tr>\n",
       "  </thead>\n",
       "  <tbody>\n",
       "    <tr>\n",
       "      <th>0</th>\n",
       "      <td>United States</td>\n",
       "      <td>1902.0</td>\n",
       "      <td>1974.0</td>\n",
       "      <td>US Air Mail Pilot</td>\n",
       "      <td>NaN</td>\n",
       "      <td>First Solo Transatlantic Flight</td>\n",
       "      <td>0</td>\n",
       "      <td>72.0</td>\n",
       "      <td>1900.0</td>\n",
       "      <td>17</td>\n",
       "      <td>CL</td>\n",
       "    </tr>\n",
       "    <tr>\n",
       "      <th>1</th>\n",
       "      <td>United States</td>\n",
       "      <td>1875.0</td>\n",
       "      <td>1940.0</td>\n",
       "      <td>Founder of Chrysler</td>\n",
       "      <td>Economics</td>\n",
       "      <td>Chrysler/Dodge Merger</td>\n",
       "      <td>7</td>\n",
       "      <td>65.0</td>\n",
       "      <td>1870.0</td>\n",
       "      <td>15</td>\n",
       "      <td>WC</td>\n",
       "    </tr>\n",
       "    <tr>\n",
       "      <th>2</th>\n",
       "      <td>United States</td>\n",
       "      <td>1874.0</td>\n",
       "      <td>1962.0</td>\n",
       "      <td>Member of the German Reparations International...</td>\n",
       "      <td>Diplomacy</td>\n",
       "      <td>Young Plan</td>\n",
       "      <td>10</td>\n",
       "      <td>88.0</td>\n",
       "      <td>1870.0</td>\n",
       "      <td>13</td>\n",
       "      <td>ODY</td>\n",
       "    </tr>\n",
       "    <tr>\n",
       "      <th>3</th>\n",
       "      <td>India</td>\n",
       "      <td>1869.0</td>\n",
       "      <td>1948.0</td>\n",
       "      <td>NaN</td>\n",
       "      <td>Revolution</td>\n",
       "      <td>Salt March</td>\n",
       "      <td>4</td>\n",
       "      <td>79.0</td>\n",
       "      <td>1860.0</td>\n",
       "      <td>14</td>\n",
       "      <td>MG</td>\n",
       "    </tr>\n",
       "    <tr>\n",
       "      <th>4</th>\n",
       "      <td>France</td>\n",
       "      <td>1883.0</td>\n",
       "      <td>1945.0</td>\n",
       "      <td>Prime Minister of France</td>\n",
       "      <td>Politics</td>\n",
       "      <td>NaN</td>\n",
       "      <td>3</td>\n",
       "      <td>62.0</td>\n",
       "      <td>1880.0</td>\n",
       "      <td>12</td>\n",
       "      <td>PL</td>\n",
       "    </tr>\n",
       "    <tr>\n",
       "      <th>...</th>\n",
       "      <td>...</td>\n",
       "      <td>...</td>\n",
       "      <td>...</td>\n",
       "      <td>...</td>\n",
       "      <td>...</td>\n",
       "      <td>...</td>\n",
       "      <td>...</td>\n",
       "      <td>...</td>\n",
       "      <td>...</td>\n",
       "      <td>...</td>\n",
       "      <td>...</td>\n",
       "    </tr>\n",
       "    <tr>\n",
       "      <th>86</th>\n",
       "      <td>United States</td>\n",
       "      <td>1961.0</td>\n",
       "      <td>NaN</td>\n",
       "      <td>President of the United States</td>\n",
       "      <td>Politics</td>\n",
       "      <td>Presidential Election</td>\n",
       "      <td>3</td>\n",
       "      <td>NaN</td>\n",
       "      <td>1960.0</td>\n",
       "      <td>12</td>\n",
       "      <td>BO</td>\n",
       "    </tr>\n",
       "    <tr>\n",
       "      <th>87</th>\n",
       "      <td>Vatican City</td>\n",
       "      <td>1936.0</td>\n",
       "      <td>NaN</td>\n",
       "      <td>Pope of the Roman Catholic Church</td>\n",
       "      <td>Religion</td>\n",
       "      <td>Papal Conclave</td>\n",
       "      <td>5</td>\n",
       "      <td>NaN</td>\n",
       "      <td>1930.0</td>\n",
       "      <td>12</td>\n",
       "      <td>PF</td>\n",
       "    </tr>\n",
       "    <tr>\n",
       "      <th>88</th>\n",
       "      <td>NaN</td>\n",
       "      <td>NaN</td>\n",
       "      <td>NaN</td>\n",
       "      <td>NaN</td>\n",
       "      <td>Science</td>\n",
       "      <td>Ebola Epidemic</td>\n",
       "      <td>12</td>\n",
       "      <td>NaN</td>\n",
       "      <td>NaN</td>\n",
       "      <td>18</td>\n",
       "      <td>TE</td>\n",
       "    </tr>\n",
       "    <tr>\n",
       "      <th>89</th>\n",
       "      <td>Germany</td>\n",
       "      <td>1954.0</td>\n",
       "      <td>NaN</td>\n",
       "      <td>Chancellor of Germany</td>\n",
       "      <td>Politics</td>\n",
       "      <td>Debt Crisis; Refugee Crisis; Paris Terrorist A...</td>\n",
       "      <td>3</td>\n",
       "      <td>NaN</td>\n",
       "      <td>1950.0</td>\n",
       "      <td>13</td>\n",
       "      <td>AM</td>\n",
       "    </tr>\n",
       "    <tr>\n",
       "      <th>90</th>\n",
       "      <td>United States</td>\n",
       "      <td>1946.0</td>\n",
       "      <td>NaN</td>\n",
       "      <td>President of the United States</td>\n",
       "      <td>Politics</td>\n",
       "      <td>Presidential Election</td>\n",
       "      <td>3</td>\n",
       "      <td>NaN</td>\n",
       "      <td>1940.0</td>\n",
       "      <td>12</td>\n",
       "      <td>DT</td>\n",
       "    </tr>\n",
       "  </tbody>\n",
       "</table>\n",
       "<p>91 rows × 11 columns</p>\n",
       "</div>"
      ],
      "text/plain": [
       "          Country  Birth Year  Death Year  \\\n",
       "0   United States      1902.0      1974.0   \n",
       "1   United States      1875.0      1940.0   \n",
       "2   United States      1874.0      1962.0   \n",
       "3           India      1869.0      1948.0   \n",
       "4          France      1883.0      1945.0   \n",
       "..            ...         ...         ...   \n",
       "86  United States      1961.0         NaN   \n",
       "87   Vatican City      1936.0         NaN   \n",
       "88            NaN         NaN         NaN   \n",
       "89        Germany      1954.0         NaN   \n",
       "90  United States      1946.0         NaN   \n",
       "\n",
       "                                                Title    Category  \\\n",
       "0                                   US Air Mail Pilot         NaN   \n",
       "1                                 Founder of Chrysler   Economics   \n",
       "2   Member of the German Reparations International...   Diplomacy   \n",
       "3                                                 NaN  Revolution   \n",
       "4                            Prime Minister of France    Politics   \n",
       "..                                                ...         ...   \n",
       "86                     President of the United States    Politics   \n",
       "87                  Pope of the Roman Catholic Church    Religion   \n",
       "88                                                NaN     Science   \n",
       "89                              Chancellor of Germany    Politics   \n",
       "90                     President of the United States    Politics   \n",
       "\n",
       "                                              Context  Category Ordinal  \\\n",
       "0                     First Solo Transatlantic Flight                 0   \n",
       "1                               Chrysler/Dodge Merger                 7   \n",
       "2                                          Young Plan                10   \n",
       "3                                          Salt March                 4   \n",
       "4                                                 NaN                 3   \n",
       "..                                                ...               ...   \n",
       "86                              Presidential Election                 3   \n",
       "87                                     Papal Conclave                 5   \n",
       "88                                     Ebola Epidemic                12   \n",
       "89  Debt Crisis; Refugee Crisis; Paris Terrorist A...                 3   \n",
       "90                              Presidential Election                 3   \n",
       "\n",
       "    Lifespan  Birth Decade  Name Length Initials  \n",
       "0       72.0        1900.0           17       CL  \n",
       "1       65.0        1870.0           15       WC  \n",
       "2       88.0        1870.0           13      ODY  \n",
       "3       79.0        1860.0           14       MG  \n",
       "4       62.0        1880.0           12       PL  \n",
       "..       ...           ...          ...      ...  \n",
       "86       NaN        1960.0           12       BO  \n",
       "87       NaN        1930.0           12       PF  \n",
       "88       NaN           NaN           18       TE  \n",
       "89       NaN        1950.0           13       AM  \n",
       "90       NaN        1940.0           12       DT  \n",
       "\n",
       "[91 rows x 11 columns]"
      ]
     },
     "execution_count": 17,
     "metadata": {},
     "output_type": "execute_result"
    }
   ],
   "source": [
    "time.drop(columns=['Year', 'Honor', 'Name'])"
   ]
  },
  {
   "cell_type": "markdown",
   "metadata": {
    "slideshow": {
     "slide_type": "subslide"
    }
   },
   "source": [
    "To apply the changes, assign the result back to the same variable `time`"
   ]
  },
  {
   "cell_type": "code",
   "execution_count": 18,
   "metadata": {
    "slideshow": {
     "slide_type": "fragment"
    }
   },
   "outputs": [
    {
     "data": {
      "text/html": [
       "<div>\n",
       "<style scoped>\n",
       "    .dataframe tbody tr th:only-of-type {\n",
       "        vertical-align: middle;\n",
       "    }\n",
       "\n",
       "    .dataframe tbody tr th {\n",
       "        vertical-align: top;\n",
       "    }\n",
       "\n",
       "    .dataframe thead th {\n",
       "        text-align: right;\n",
       "    }\n",
       "</style>\n",
       "<table border=\"1\" class=\"dataframe\">\n",
       "  <thead>\n",
       "    <tr style=\"text-align: right;\">\n",
       "      <th></th>\n",
       "      <th>Country</th>\n",
       "      <th>Birth Year</th>\n",
       "      <th>Death Year</th>\n",
       "      <th>Title</th>\n",
       "      <th>Category</th>\n",
       "      <th>Context</th>\n",
       "      <th>Category Ordinal</th>\n",
       "      <th>Lifespan</th>\n",
       "      <th>Birth Decade</th>\n",
       "      <th>Name Length</th>\n",
       "      <th>Initials</th>\n",
       "    </tr>\n",
       "  </thead>\n",
       "  <tbody>\n",
       "    <tr>\n",
       "      <th>0</th>\n",
       "      <td>United States</td>\n",
       "      <td>1902.0</td>\n",
       "      <td>1974.0</td>\n",
       "      <td>US Air Mail Pilot</td>\n",
       "      <td>NaN</td>\n",
       "      <td>First Solo Transatlantic Flight</td>\n",
       "      <td>0</td>\n",
       "      <td>72.0</td>\n",
       "      <td>1900.0</td>\n",
       "      <td>17</td>\n",
       "      <td>CL</td>\n",
       "    </tr>\n",
       "    <tr>\n",
       "      <th>1</th>\n",
       "      <td>United States</td>\n",
       "      <td>1875.0</td>\n",
       "      <td>1940.0</td>\n",
       "      <td>Founder of Chrysler</td>\n",
       "      <td>Economics</td>\n",
       "      <td>Chrysler/Dodge Merger</td>\n",
       "      <td>7</td>\n",
       "      <td>65.0</td>\n",
       "      <td>1870.0</td>\n",
       "      <td>15</td>\n",
       "      <td>WC</td>\n",
       "    </tr>\n",
       "    <tr>\n",
       "      <th>2</th>\n",
       "      <td>United States</td>\n",
       "      <td>1874.0</td>\n",
       "      <td>1962.0</td>\n",
       "      <td>Member of the German Reparations International...</td>\n",
       "      <td>Diplomacy</td>\n",
       "      <td>Young Plan</td>\n",
       "      <td>10</td>\n",
       "      <td>88.0</td>\n",
       "      <td>1870.0</td>\n",
       "      <td>13</td>\n",
       "      <td>ODY</td>\n",
       "    </tr>\n",
       "    <tr>\n",
       "      <th>3</th>\n",
       "      <td>India</td>\n",
       "      <td>1869.0</td>\n",
       "      <td>1948.0</td>\n",
       "      <td>NaN</td>\n",
       "      <td>Revolution</td>\n",
       "      <td>Salt March</td>\n",
       "      <td>4</td>\n",
       "      <td>79.0</td>\n",
       "      <td>1860.0</td>\n",
       "      <td>14</td>\n",
       "      <td>MG</td>\n",
       "    </tr>\n",
       "    <tr>\n",
       "      <th>4</th>\n",
       "      <td>France</td>\n",
       "      <td>1883.0</td>\n",
       "      <td>1945.0</td>\n",
       "      <td>Prime Minister of France</td>\n",
       "      <td>Politics</td>\n",
       "      <td>NaN</td>\n",
       "      <td>3</td>\n",
       "      <td>62.0</td>\n",
       "      <td>1880.0</td>\n",
       "      <td>12</td>\n",
       "      <td>PL</td>\n",
       "    </tr>\n",
       "    <tr>\n",
       "      <th>...</th>\n",
       "      <td>...</td>\n",
       "      <td>...</td>\n",
       "      <td>...</td>\n",
       "      <td>...</td>\n",
       "      <td>...</td>\n",
       "      <td>...</td>\n",
       "      <td>...</td>\n",
       "      <td>...</td>\n",
       "      <td>...</td>\n",
       "      <td>...</td>\n",
       "      <td>...</td>\n",
       "    </tr>\n",
       "    <tr>\n",
       "      <th>86</th>\n",
       "      <td>United States</td>\n",
       "      <td>1961.0</td>\n",
       "      <td>NaN</td>\n",
       "      <td>President of the United States</td>\n",
       "      <td>Politics</td>\n",
       "      <td>Presidential Election</td>\n",
       "      <td>3</td>\n",
       "      <td>NaN</td>\n",
       "      <td>1960.0</td>\n",
       "      <td>12</td>\n",
       "      <td>BO</td>\n",
       "    </tr>\n",
       "    <tr>\n",
       "      <th>87</th>\n",
       "      <td>Vatican City</td>\n",
       "      <td>1936.0</td>\n",
       "      <td>NaN</td>\n",
       "      <td>Pope of the Roman Catholic Church</td>\n",
       "      <td>Religion</td>\n",
       "      <td>Papal Conclave</td>\n",
       "      <td>5</td>\n",
       "      <td>NaN</td>\n",
       "      <td>1930.0</td>\n",
       "      <td>12</td>\n",
       "      <td>PF</td>\n",
       "    </tr>\n",
       "    <tr>\n",
       "      <th>88</th>\n",
       "      <td>NaN</td>\n",
       "      <td>NaN</td>\n",
       "      <td>NaN</td>\n",
       "      <td>NaN</td>\n",
       "      <td>Science</td>\n",
       "      <td>Ebola Epidemic</td>\n",
       "      <td>12</td>\n",
       "      <td>NaN</td>\n",
       "      <td>NaN</td>\n",
       "      <td>18</td>\n",
       "      <td>TE</td>\n",
       "    </tr>\n",
       "    <tr>\n",
       "      <th>89</th>\n",
       "      <td>Germany</td>\n",
       "      <td>1954.0</td>\n",
       "      <td>NaN</td>\n",
       "      <td>Chancellor of Germany</td>\n",
       "      <td>Politics</td>\n",
       "      <td>Debt Crisis; Refugee Crisis; Paris Terrorist A...</td>\n",
       "      <td>3</td>\n",
       "      <td>NaN</td>\n",
       "      <td>1950.0</td>\n",
       "      <td>13</td>\n",
       "      <td>AM</td>\n",
       "    </tr>\n",
       "    <tr>\n",
       "      <th>90</th>\n",
       "      <td>United States</td>\n",
       "      <td>1946.0</td>\n",
       "      <td>NaN</td>\n",
       "      <td>President of the United States</td>\n",
       "      <td>Politics</td>\n",
       "      <td>Presidential Election</td>\n",
       "      <td>3</td>\n",
       "      <td>NaN</td>\n",
       "      <td>1940.0</td>\n",
       "      <td>12</td>\n",
       "      <td>DT</td>\n",
       "    </tr>\n",
       "  </tbody>\n",
       "</table>\n",
       "<p>91 rows × 11 columns</p>\n",
       "</div>"
      ],
      "text/plain": [
       "          Country  Birth Year  Death Year  \\\n",
       "0   United States      1902.0      1974.0   \n",
       "1   United States      1875.0      1940.0   \n",
       "2   United States      1874.0      1962.0   \n",
       "3           India      1869.0      1948.0   \n",
       "4          France      1883.0      1945.0   \n",
       "..            ...         ...         ...   \n",
       "86  United States      1961.0         NaN   \n",
       "87   Vatican City      1936.0         NaN   \n",
       "88            NaN         NaN         NaN   \n",
       "89        Germany      1954.0         NaN   \n",
       "90  United States      1946.0         NaN   \n",
       "\n",
       "                                                Title    Category  \\\n",
       "0                                   US Air Mail Pilot         NaN   \n",
       "1                                 Founder of Chrysler   Economics   \n",
       "2   Member of the German Reparations International...   Diplomacy   \n",
       "3                                                 NaN  Revolution   \n",
       "4                            Prime Minister of France    Politics   \n",
       "..                                                ...         ...   \n",
       "86                     President of the United States    Politics   \n",
       "87                  Pope of the Roman Catholic Church    Religion   \n",
       "88                                                NaN     Science   \n",
       "89                              Chancellor of Germany    Politics   \n",
       "90                     President of the United States    Politics   \n",
       "\n",
       "                                              Context  Category Ordinal  \\\n",
       "0                     First Solo Transatlantic Flight                 0   \n",
       "1                               Chrysler/Dodge Merger                 7   \n",
       "2                                          Young Plan                10   \n",
       "3                                          Salt March                 4   \n",
       "4                                                 NaN                 3   \n",
       "..                                                ...               ...   \n",
       "86                              Presidential Election                 3   \n",
       "87                                     Papal Conclave                 5   \n",
       "88                                     Ebola Epidemic                12   \n",
       "89  Debt Crisis; Refugee Crisis; Paris Terrorist A...                 3   \n",
       "90                              Presidential Election                 3   \n",
       "\n",
       "    Lifespan  Birth Decade  Name Length Initials  \n",
       "0       72.0        1900.0           17       CL  \n",
       "1       65.0        1870.0           15       WC  \n",
       "2       88.0        1870.0           13      ODY  \n",
       "3       79.0        1860.0           14       MG  \n",
       "4       62.0        1880.0           12       PL  \n",
       "..       ...           ...          ...      ...  \n",
       "86       NaN        1960.0           12       BO  \n",
       "87       NaN        1930.0           12       PF  \n",
       "88       NaN           NaN           18       TE  \n",
       "89       NaN        1950.0           13       AM  \n",
       "90       NaN        1940.0           12       DT  \n",
       "\n",
       "[91 rows x 11 columns]"
      ]
     },
     "execution_count": 18,
     "metadata": {},
     "output_type": "execute_result"
    }
   ],
   "source": [
    "time = time.drop(columns=['Year', 'Honor', 'Name'])\n",
    "time"
   ]
  },
  {
   "cell_type": "markdown",
   "metadata": {
    "slideshow": {
     "slide_type": "subslide"
    }
   },
   "source": [
    "### Renaming Columns"
   ]
  },
  {
   "cell_type": "markdown",
   "metadata": {
    "slideshow": {
     "slide_type": "subslide"
    }
   },
   "source": [
    "You can do this using a `dictionary`"
   ]
  },
  {
   "cell_type": "code",
   "execution_count": 19,
   "metadata": {
    "slideshow": {
     "slide_type": "fragment"
    }
   },
   "outputs": [
    {
     "data": {
      "text/html": [
       "<div>\n",
       "<style scoped>\n",
       "    .dataframe tbody tr th:only-of-type {\n",
       "        vertical-align: middle;\n",
       "    }\n",
       "\n",
       "    .dataframe tbody tr th {\n",
       "        vertical-align: top;\n",
       "    }\n",
       "\n",
       "    .dataframe thead th {\n",
       "        text-align: right;\n",
       "    }\n",
       "</style>\n",
       "<table border=\"1\" class=\"dataframe\">\n",
       "  <thead>\n",
       "    <tr style=\"text-align: right;\">\n",
       "      <th></th>\n",
       "      <th>Country</th>\n",
       "      <th>Born</th>\n",
       "      <th>Died</th>\n",
       "      <th>Title</th>\n",
       "      <th>Category</th>\n",
       "      <th>Context</th>\n",
       "      <th>Category Ordinal</th>\n",
       "      <th>Lifespan</th>\n",
       "      <th>Birth Decade</th>\n",
       "      <th>Name Length</th>\n",
       "      <th>Initials</th>\n",
       "    </tr>\n",
       "  </thead>\n",
       "  <tbody>\n",
       "    <tr>\n",
       "      <th>0</th>\n",
       "      <td>United States</td>\n",
       "      <td>1902.0</td>\n",
       "      <td>1974.0</td>\n",
       "      <td>US Air Mail Pilot</td>\n",
       "      <td>NaN</td>\n",
       "      <td>First Solo Transatlantic Flight</td>\n",
       "      <td>0</td>\n",
       "      <td>72.0</td>\n",
       "      <td>1900.0</td>\n",
       "      <td>17</td>\n",
       "      <td>CL</td>\n",
       "    </tr>\n",
       "    <tr>\n",
       "      <th>1</th>\n",
       "      <td>United States</td>\n",
       "      <td>1875.0</td>\n",
       "      <td>1940.0</td>\n",
       "      <td>Founder of Chrysler</td>\n",
       "      <td>Economics</td>\n",
       "      <td>Chrysler/Dodge Merger</td>\n",
       "      <td>7</td>\n",
       "      <td>65.0</td>\n",
       "      <td>1870.0</td>\n",
       "      <td>15</td>\n",
       "      <td>WC</td>\n",
       "    </tr>\n",
       "    <tr>\n",
       "      <th>2</th>\n",
       "      <td>United States</td>\n",
       "      <td>1874.0</td>\n",
       "      <td>1962.0</td>\n",
       "      <td>Member of the German Reparations International...</td>\n",
       "      <td>Diplomacy</td>\n",
       "      <td>Young Plan</td>\n",
       "      <td>10</td>\n",
       "      <td>88.0</td>\n",
       "      <td>1870.0</td>\n",
       "      <td>13</td>\n",
       "      <td>ODY</td>\n",
       "    </tr>\n",
       "    <tr>\n",
       "      <th>3</th>\n",
       "      <td>India</td>\n",
       "      <td>1869.0</td>\n",
       "      <td>1948.0</td>\n",
       "      <td>NaN</td>\n",
       "      <td>Revolution</td>\n",
       "      <td>Salt March</td>\n",
       "      <td>4</td>\n",
       "      <td>79.0</td>\n",
       "      <td>1860.0</td>\n",
       "      <td>14</td>\n",
       "      <td>MG</td>\n",
       "    </tr>\n",
       "    <tr>\n",
       "      <th>4</th>\n",
       "      <td>France</td>\n",
       "      <td>1883.0</td>\n",
       "      <td>1945.0</td>\n",
       "      <td>Prime Minister of France</td>\n",
       "      <td>Politics</td>\n",
       "      <td>NaN</td>\n",
       "      <td>3</td>\n",
       "      <td>62.0</td>\n",
       "      <td>1880.0</td>\n",
       "      <td>12</td>\n",
       "      <td>PL</td>\n",
       "    </tr>\n",
       "    <tr>\n",
       "      <th>...</th>\n",
       "      <td>...</td>\n",
       "      <td>...</td>\n",
       "      <td>...</td>\n",
       "      <td>...</td>\n",
       "      <td>...</td>\n",
       "      <td>...</td>\n",
       "      <td>...</td>\n",
       "      <td>...</td>\n",
       "      <td>...</td>\n",
       "      <td>...</td>\n",
       "      <td>...</td>\n",
       "    </tr>\n",
       "    <tr>\n",
       "      <th>86</th>\n",
       "      <td>United States</td>\n",
       "      <td>1961.0</td>\n",
       "      <td>NaN</td>\n",
       "      <td>President of the United States</td>\n",
       "      <td>Politics</td>\n",
       "      <td>Presidential Election</td>\n",
       "      <td>3</td>\n",
       "      <td>NaN</td>\n",
       "      <td>1960.0</td>\n",
       "      <td>12</td>\n",
       "      <td>BO</td>\n",
       "    </tr>\n",
       "    <tr>\n",
       "      <th>87</th>\n",
       "      <td>Vatican City</td>\n",
       "      <td>1936.0</td>\n",
       "      <td>NaN</td>\n",
       "      <td>Pope of the Roman Catholic Church</td>\n",
       "      <td>Religion</td>\n",
       "      <td>Papal Conclave</td>\n",
       "      <td>5</td>\n",
       "      <td>NaN</td>\n",
       "      <td>1930.0</td>\n",
       "      <td>12</td>\n",
       "      <td>PF</td>\n",
       "    </tr>\n",
       "    <tr>\n",
       "      <th>88</th>\n",
       "      <td>NaN</td>\n",
       "      <td>NaN</td>\n",
       "      <td>NaN</td>\n",
       "      <td>NaN</td>\n",
       "      <td>Science</td>\n",
       "      <td>Ebola Epidemic</td>\n",
       "      <td>12</td>\n",
       "      <td>NaN</td>\n",
       "      <td>NaN</td>\n",
       "      <td>18</td>\n",
       "      <td>TE</td>\n",
       "    </tr>\n",
       "    <tr>\n",
       "      <th>89</th>\n",
       "      <td>Germany</td>\n",
       "      <td>1954.0</td>\n",
       "      <td>NaN</td>\n",
       "      <td>Chancellor of Germany</td>\n",
       "      <td>Politics</td>\n",
       "      <td>Debt Crisis; Refugee Crisis; Paris Terrorist A...</td>\n",
       "      <td>3</td>\n",
       "      <td>NaN</td>\n",
       "      <td>1950.0</td>\n",
       "      <td>13</td>\n",
       "      <td>AM</td>\n",
       "    </tr>\n",
       "    <tr>\n",
       "      <th>90</th>\n",
       "      <td>United States</td>\n",
       "      <td>1946.0</td>\n",
       "      <td>NaN</td>\n",
       "      <td>President of the United States</td>\n",
       "      <td>Politics</td>\n",
       "      <td>Presidential Election</td>\n",
       "      <td>3</td>\n",
       "      <td>NaN</td>\n",
       "      <td>1940.0</td>\n",
       "      <td>12</td>\n",
       "      <td>DT</td>\n",
       "    </tr>\n",
       "  </tbody>\n",
       "</table>\n",
       "<p>91 rows × 11 columns</p>\n",
       "</div>"
      ],
      "text/plain": [
       "          Country    Born    Died  \\\n",
       "0   United States  1902.0  1974.0   \n",
       "1   United States  1875.0  1940.0   \n",
       "2   United States  1874.0  1962.0   \n",
       "3           India  1869.0  1948.0   \n",
       "4          France  1883.0  1945.0   \n",
       "..            ...     ...     ...   \n",
       "86  United States  1961.0     NaN   \n",
       "87   Vatican City  1936.0     NaN   \n",
       "88            NaN     NaN     NaN   \n",
       "89        Germany  1954.0     NaN   \n",
       "90  United States  1946.0     NaN   \n",
       "\n",
       "                                                Title    Category  \\\n",
       "0                                   US Air Mail Pilot         NaN   \n",
       "1                                 Founder of Chrysler   Economics   \n",
       "2   Member of the German Reparations International...   Diplomacy   \n",
       "3                                                 NaN  Revolution   \n",
       "4                            Prime Minister of France    Politics   \n",
       "..                                                ...         ...   \n",
       "86                     President of the United States    Politics   \n",
       "87                  Pope of the Roman Catholic Church    Religion   \n",
       "88                                                NaN     Science   \n",
       "89                              Chancellor of Germany    Politics   \n",
       "90                     President of the United States    Politics   \n",
       "\n",
       "                                              Context  Category Ordinal  \\\n",
       "0                     First Solo Transatlantic Flight                 0   \n",
       "1                               Chrysler/Dodge Merger                 7   \n",
       "2                                          Young Plan                10   \n",
       "3                                          Salt March                 4   \n",
       "4                                                 NaN                 3   \n",
       "..                                                ...               ...   \n",
       "86                              Presidential Election                 3   \n",
       "87                                     Papal Conclave                 5   \n",
       "88                                     Ebola Epidemic                12   \n",
       "89  Debt Crisis; Refugee Crisis; Paris Terrorist A...                 3   \n",
       "90                              Presidential Election                 3   \n",
       "\n",
       "    Lifespan  Birth Decade  Name Length Initials  \n",
       "0       72.0        1900.0           17       CL  \n",
       "1       65.0        1870.0           15       WC  \n",
       "2       88.0        1870.0           13      ODY  \n",
       "3       79.0        1860.0           14       MG  \n",
       "4       62.0        1880.0           12       PL  \n",
       "..       ...           ...          ...      ...  \n",
       "86       NaN        1960.0           12       BO  \n",
       "87       NaN        1930.0           12       PF  \n",
       "88       NaN           NaN           18       TE  \n",
       "89       NaN        1950.0           13       AM  \n",
       "90       NaN        1940.0           12       DT  \n",
       "\n",
       "[91 rows x 11 columns]"
      ]
     },
     "execution_count": 19,
     "metadata": {},
     "output_type": "execute_result"
    }
   ],
   "source": [
    "time = time.rename(columns={'Birth Year' : 'Born',\n",
    "                        'Death Year' : 'Died'})\n",
    "time"
   ]
  },
  {
   "cell_type": "markdown",
   "metadata": {
    "slideshow": {
     "slide_type": "slide"
    }
   },
   "source": [
    "## Missing Data"
   ]
  },
  {
   "cell_type": "markdown",
   "metadata": {
    "slideshow": {
     "slide_type": "subslide"
    }
   },
   "source": [
    "### Fundamentals of missing data"
   ]
  },
  {
   "cell_type": "markdown",
   "metadata": {
    "slideshow": {
     "slide_type": "subslide"
    }
   },
   "source": [
    "In the previous example, you saw that some entries had `Nan` to fill in for **missing data**"
   ]
  },
  {
   "cell_type": "markdown",
   "metadata": {
    "slideshow": {
     "slide_type": "fragment"
    }
   },
   "source": [
    "Missing data is one of the most recurrent problems in data analysis"
   ]
  },
  {
   "cell_type": "markdown",
   "metadata": {
    "slideshow": {
     "slide_type": "fragment"
    }
   },
   "source": [
    "In fact, there are a lot of studies and methods on how to handle it!"
   ]
  },
  {
   "cell_type": "markdown",
   "metadata": {
    "slideshow": {
     "slide_type": "subslide"
    }
   },
   "source": [
    "We will work with a small dataset called [missing.csv](https://www.dropbox.com/s/5h4k4rszebd6p0n/missing.csv?raw=1) (it's the same as data.csv from last week, but now with missing values)"
   ]
  },
  {
   "cell_type": "code",
   "execution_count": 20,
   "metadata": {
    "slideshow": {
     "slide_type": "fragment"
    }
   },
   "outputs": [
    {
     "data": {
      "text/html": [
       "<div>\n",
       "<style scoped>\n",
       "    .dataframe tbody tr th:only-of-type {\n",
       "        vertical-align: middle;\n",
       "    }\n",
       "\n",
       "    .dataframe tbody tr th {\n",
       "        vertical-align: top;\n",
       "    }\n",
       "\n",
       "    .dataframe thead th {\n",
       "        text-align: right;\n",
       "    }\n",
       "</style>\n",
       "<table border=\"1\" class=\"dataframe\">\n",
       "  <thead>\n",
       "    <tr style=\"text-align: right;\">\n",
       "      <th></th>\n",
       "      <th>Name</th>\n",
       "      <th>Age</th>\n",
       "      <th>Height</th>\n",
       "    </tr>\n",
       "  </thead>\n",
       "  <tbody>\n",
       "    <tr>\n",
       "      <th>0</th>\n",
       "      <td>Nick</td>\n",
       "      <td>21.0</td>\n",
       "      <td>1.85</td>\n",
       "    </tr>\n",
       "    <tr>\n",
       "      <th>1</th>\n",
       "      <td>Chris</td>\n",
       "      <td>29.0</td>\n",
       "      <td>Unknown</td>\n",
       "    </tr>\n",
       "    <tr>\n",
       "      <th>2</th>\n",
       "      <td>Tim</td>\n",
       "      <td>28.0</td>\n",
       "      <td>1.75</td>\n",
       "    </tr>\n",
       "    <tr>\n",
       "      <th>3</th>\n",
       "      <td>Ron</td>\n",
       "      <td>NaN</td>\n",
       "      <td>1.81</td>\n",
       "    </tr>\n",
       "    <tr>\n",
       "      <th>4</th>\n",
       "      <td>Monica</td>\n",
       "      <td>35.0</td>\n",
       "      <td>Unknown</td>\n",
       "    </tr>\n",
       "    <tr>\n",
       "      <th>5</th>\n",
       "      <td>Cassandra</td>\n",
       "      <td>21.0</td>\n",
       "      <td>1.66</td>\n",
       "    </tr>\n",
       "  </tbody>\n",
       "</table>\n",
       "</div>"
      ],
      "text/plain": [
       "        Name   Age   Height\n",
       "0       Nick  21.0     1.85\n",
       "1      Chris  29.0  Unknown\n",
       "2        Tim  28.0     1.75\n",
       "3        Ron   NaN     1.81\n",
       "4     Monica  35.0  Unknown\n",
       "5  Cassandra  21.0     1.66"
      ]
     },
     "execution_count": 20,
     "metadata": {},
     "output_type": "execute_result"
    }
   ],
   "source": [
    "df = pd.read_csv('https://www.dropbox.com/s/5h4k4rszebd6p0n/missing.csv?raw=1')\n",
    "df"
   ]
  },
  {
   "cell_type": "markdown",
   "metadata": {
    "slideshow": {
     "slide_type": "subslide"
    }
   },
   "source": [
    "The first thing to notice is that the second column is being shown with decimals, even though they were integers in the original file"
   ]
  },
  {
   "cell_type": "markdown",
   "metadata": {
    "slideshow": {
     "slide_type": "fragment"
    }
   },
   "source": [
    "Moreover, the blank entry is displayed as `NaN`"
   ]
  },
  {
   "cell_type": "markdown",
   "metadata": {
    "slideshow": {
     "slide_type": "fragment"
    }
   },
   "source": [
    "`NaN` stands for *Not A Number* as is part of the floating point specification, typically used when a calculation has no valid numerical result"
   ]
  },
  {
   "cell_type": "markdown",
   "metadata": {
    "slideshow": {
     "slide_type": "subslide"
    }
   },
   "source": [
    "In fact, Python considers `NaN` as a floating point (or `float64`)"
   ]
  },
  {
   "cell_type": "code",
   "execution_count": 21,
   "metadata": {
    "cell_style": "split",
    "slideshow": {
     "slide_type": "fragment"
    }
   },
   "outputs": [
    {
     "data": {
      "text/html": [
       "<div>\n",
       "<style scoped>\n",
       "    .dataframe tbody tr th:only-of-type {\n",
       "        vertical-align: middle;\n",
       "    }\n",
       "\n",
       "    .dataframe tbody tr th {\n",
       "        vertical-align: top;\n",
       "    }\n",
       "\n",
       "    .dataframe thead th {\n",
       "        text-align: right;\n",
       "    }\n",
       "</style>\n",
       "<table border=\"1\" class=\"dataframe\">\n",
       "  <thead>\n",
       "    <tr style=\"text-align: right;\">\n",
       "      <th></th>\n",
       "      <th>Name</th>\n",
       "      <th>Age</th>\n",
       "      <th>Height</th>\n",
       "    </tr>\n",
       "  </thead>\n",
       "  <tbody>\n",
       "    <tr>\n",
       "      <th>0</th>\n",
       "      <td>Nick</td>\n",
       "      <td>21.0</td>\n",
       "      <td>1.85</td>\n",
       "    </tr>\n",
       "    <tr>\n",
       "      <th>1</th>\n",
       "      <td>Chris</td>\n",
       "      <td>29.0</td>\n",
       "      <td>Unknown</td>\n",
       "    </tr>\n",
       "    <tr>\n",
       "      <th>2</th>\n",
       "      <td>Tim</td>\n",
       "      <td>28.0</td>\n",
       "      <td>1.75</td>\n",
       "    </tr>\n",
       "    <tr>\n",
       "      <th>3</th>\n",
       "      <td>Ron</td>\n",
       "      <td>NaN</td>\n",
       "      <td>1.81</td>\n",
       "    </tr>\n",
       "    <tr>\n",
       "      <th>4</th>\n",
       "      <td>Monica</td>\n",
       "      <td>35.0</td>\n",
       "      <td>Unknown</td>\n",
       "    </tr>\n",
       "    <tr>\n",
       "      <th>5</th>\n",
       "      <td>Cassandra</td>\n",
       "      <td>21.0</td>\n",
       "      <td>1.66</td>\n",
       "    </tr>\n",
       "  </tbody>\n",
       "</table>\n",
       "</div>"
      ],
      "text/plain": [
       "        Name   Age   Height\n",
       "0       Nick  21.0     1.85\n",
       "1      Chris  29.0  Unknown\n",
       "2        Tim  28.0     1.75\n",
       "3        Ron   NaN     1.81\n",
       "4     Monica  35.0  Unknown\n",
       "5  Cassandra  21.0     1.66"
      ]
     },
     "execution_count": 21,
     "metadata": {},
     "output_type": "execute_result"
    }
   ],
   "source": [
    "df"
   ]
  },
  {
   "cell_type": "code",
   "execution_count": 22,
   "metadata": {
    "cell_style": "split",
    "slideshow": {
     "slide_type": "fragment"
    }
   },
   "outputs": [
    {
     "data": {
      "text/plain": [
       "numpy.float64"
      ]
     },
     "execution_count": 22,
     "metadata": {},
     "output_type": "execute_result"
    }
   ],
   "source": [
    "type(df.at[3, 'Age'])"
   ]
  },
  {
   "cell_type": "markdown",
   "metadata": {
    "slideshow": {
     "slide_type": "subslide"
    }
   },
   "source": [
    "As a result, the entire column has been turned into `float64`, instead of `int64`"
   ]
  },
  {
   "cell_type": "markdown",
   "metadata": {
    "slideshow": {
     "slide_type": "fragment"
    }
   },
   "source": [
    " This is why it was being shown as decimals!"
   ]
  },
  {
   "cell_type": "code",
   "execution_count": 23,
   "metadata": {
    "slideshow": {
     "slide_type": "fragment"
    }
   },
   "outputs": [
    {
     "data": {
      "text/plain": [
       "0    21.0\n",
       "1    29.0\n",
       "2    28.0\n",
       "3     NaN\n",
       "4    35.0\n",
       "5    21.0\n",
       "Name: Age, dtype: float64"
      ]
     },
     "execution_count": 23,
     "metadata": {},
     "output_type": "execute_result"
    }
   ],
   "source": [
    "df['Age']"
   ]
  },
  {
   "cell_type": "markdown",
   "metadata": {
    "slideshow": {
     "slide_type": "subslide"
    }
   },
   "source": [
    "### Incorrectly Imported Missing Data"
   ]
  },
  {
   "cell_type": "markdown",
   "metadata": {
    "slideshow": {
     "slide_type": "subslide"
    }
   },
   "source": [
    "The missing value in the `Age` column was generated because the cell was blank"
   ]
  },
  {
   "cell_type": "markdown",
   "metadata": {
    "slideshow": {
     "slide_type": "fragment"
    }
   },
   "source": [
    "By default, `Pandas` will treat certain cell values, such as a *blank*, `NULL`, `NaN`, and `n/a` as missing values"
   ]
  },
  {
   "cell_type": "markdown",
   "metadata": {
    "slideshow": {
     "slide_type": "fragment"
    }
   },
   "source": [
    "The `Height` column contains some entries which we recognise as missing data (i.e. `Unknown`) but that Pandas did not"
   ]
  },
  {
   "cell_type": "markdown",
   "metadata": {
    "slideshow": {
     "slide_type": "subslide"
    }
   },
   "source": [
    "In fact, the entire column has been imported as strings, not numbers!"
   ]
  },
  {
   "cell_type": "code",
   "execution_count": 24,
   "metadata": {
    "cell_style": "split",
    "slideshow": {
     "slide_type": "fragment"
    }
   },
   "outputs": [
    {
     "data": {
      "text/html": [
       "<div>\n",
       "<style scoped>\n",
       "    .dataframe tbody tr th:only-of-type {\n",
       "        vertical-align: middle;\n",
       "    }\n",
       "\n",
       "    .dataframe tbody tr th {\n",
       "        vertical-align: top;\n",
       "    }\n",
       "\n",
       "    .dataframe thead th {\n",
       "        text-align: right;\n",
       "    }\n",
       "</style>\n",
       "<table border=\"1\" class=\"dataframe\">\n",
       "  <thead>\n",
       "    <tr style=\"text-align: right;\">\n",
       "      <th></th>\n",
       "      <th>Name</th>\n",
       "      <th>Age</th>\n",
       "      <th>Height</th>\n",
       "    </tr>\n",
       "  </thead>\n",
       "  <tbody>\n",
       "    <tr>\n",
       "      <th>0</th>\n",
       "      <td>Nick</td>\n",
       "      <td>21.0</td>\n",
       "      <td>1.85</td>\n",
       "    </tr>\n",
       "    <tr>\n",
       "      <th>1</th>\n",
       "      <td>Chris</td>\n",
       "      <td>29.0</td>\n",
       "      <td>Unknown</td>\n",
       "    </tr>\n",
       "    <tr>\n",
       "      <th>2</th>\n",
       "      <td>Tim</td>\n",
       "      <td>28.0</td>\n",
       "      <td>1.75</td>\n",
       "    </tr>\n",
       "    <tr>\n",
       "      <th>3</th>\n",
       "      <td>Ron</td>\n",
       "      <td>NaN</td>\n",
       "      <td>1.81</td>\n",
       "    </tr>\n",
       "    <tr>\n",
       "      <th>4</th>\n",
       "      <td>Monica</td>\n",
       "      <td>35.0</td>\n",
       "      <td>Unknown</td>\n",
       "    </tr>\n",
       "    <tr>\n",
       "      <th>5</th>\n",
       "      <td>Cassandra</td>\n",
       "      <td>21.0</td>\n",
       "      <td>1.66</td>\n",
       "    </tr>\n",
       "  </tbody>\n",
       "</table>\n",
       "</div>"
      ],
      "text/plain": [
       "        Name   Age   Height\n",
       "0       Nick  21.0     1.85\n",
       "1      Chris  29.0  Unknown\n",
       "2        Tim  28.0     1.75\n",
       "3        Ron   NaN     1.81\n",
       "4     Monica  35.0  Unknown\n",
       "5  Cassandra  21.0     1.66"
      ]
     },
     "execution_count": 24,
     "metadata": {},
     "output_type": "execute_result"
    }
   ],
   "source": [
    "df"
   ]
  },
  {
   "cell_type": "code",
   "execution_count": 25,
   "metadata": {
    "cell_style": "split",
    "slideshow": {
     "slide_type": "fragment"
    }
   },
   "outputs": [
    {
     "name": "stdout",
     "output_type": "stream",
     "text": [
      "Unknown\n",
      "<class 'str'>\n"
     ]
    }
   ],
   "source": [
    "print(df.at[1, 'Height'])\n",
    "print(type(df.at[1, 'Height']))"
   ]
  },
  {
   "cell_type": "markdown",
   "metadata": {
    "slideshow": {
     "slide_type": "subslide"
    }
   },
   "source": [
    "This in turn made `Pandas` believe that the whole column has strings!"
   ]
  },
  {
   "cell_type": "code",
   "execution_count": 26,
   "metadata": {
    "slideshow": {
     "slide_type": "fragment"
    }
   },
   "outputs": [
    {
     "name": "stdout",
     "output_type": "stream",
     "text": [
      "1.85\n",
      "<class 'str'>\n"
     ]
    }
   ],
   "source": [
    "print(df.at[0, 'Height'])\n",
    "print(type(df.at[0, 'Height']))"
   ]
  },
  {
   "cell_type": "markdown",
   "metadata": {
    "slideshow": {
     "slide_type": "subslide"
    }
   },
   "source": [
    "What happens if we multiply this column by `100`?"
   ]
  },
  {
   "cell_type": "code",
   "execution_count": 27,
   "metadata": {
    "slideshow": {
     "slide_type": "fragment"
    }
   },
   "outputs": [
    {
     "data": {
      "text/html": [
       "<div>\n",
       "<style scoped>\n",
       "    .dataframe tbody tr th:only-of-type {\n",
       "        vertical-align: middle;\n",
       "    }\n",
       "\n",
       "    .dataframe tbody tr th {\n",
       "        vertical-align: top;\n",
       "    }\n",
       "\n",
       "    .dataframe thead th {\n",
       "        text-align: right;\n",
       "    }\n",
       "</style>\n",
       "<table border=\"1\" class=\"dataframe\">\n",
       "  <thead>\n",
       "    <tr style=\"text-align: right;\">\n",
       "      <th></th>\n",
       "      <th>Name</th>\n",
       "      <th>Age</th>\n",
       "      <th>Height</th>\n",
       "      <th>Height times 100</th>\n",
       "    </tr>\n",
       "  </thead>\n",
       "  <tbody>\n",
       "    <tr>\n",
       "      <th>0</th>\n",
       "      <td>Nick</td>\n",
       "      <td>21.0</td>\n",
       "      <td>1.85</td>\n",
       "      <td>1.851.851.851.851.851.851.851.851.851.851.851....</td>\n",
       "    </tr>\n",
       "    <tr>\n",
       "      <th>1</th>\n",
       "      <td>Chris</td>\n",
       "      <td>29.0</td>\n",
       "      <td>Unknown</td>\n",
       "      <td>UnknownUnknownUnknownUnknownUnknownUnknownUnkn...</td>\n",
       "    </tr>\n",
       "    <tr>\n",
       "      <th>2</th>\n",
       "      <td>Tim</td>\n",
       "      <td>28.0</td>\n",
       "      <td>1.75</td>\n",
       "      <td>1.751.751.751.751.751.751.751.751.751.751.751....</td>\n",
       "    </tr>\n",
       "    <tr>\n",
       "      <th>3</th>\n",
       "      <td>Ron</td>\n",
       "      <td>NaN</td>\n",
       "      <td>1.81</td>\n",
       "      <td>1.811.811.811.811.811.811.811.811.811.811.811....</td>\n",
       "    </tr>\n",
       "    <tr>\n",
       "      <th>4</th>\n",
       "      <td>Monica</td>\n",
       "      <td>35.0</td>\n",
       "      <td>Unknown</td>\n",
       "      <td>UnknownUnknownUnknownUnknownUnknownUnknownUnkn...</td>\n",
       "    </tr>\n",
       "    <tr>\n",
       "      <th>5</th>\n",
       "      <td>Cassandra</td>\n",
       "      <td>21.0</td>\n",
       "      <td>1.66</td>\n",
       "      <td>1.661.661.661.661.661.661.661.661.661.661.661....</td>\n",
       "    </tr>\n",
       "  </tbody>\n",
       "</table>\n",
       "</div>"
      ],
      "text/plain": [
       "        Name   Age   Height                                   Height times 100\n",
       "0       Nick  21.0     1.85  1.851.851.851.851.851.851.851.851.851.851.851....\n",
       "1      Chris  29.0  Unknown  UnknownUnknownUnknownUnknownUnknownUnknownUnkn...\n",
       "2        Tim  28.0     1.75  1.751.751.751.751.751.751.751.751.751.751.751....\n",
       "3        Ron   NaN     1.81  1.811.811.811.811.811.811.811.811.811.811.811....\n",
       "4     Monica  35.0  Unknown  UnknownUnknownUnknownUnknownUnknownUnknownUnkn...\n",
       "5  Cassandra  21.0     1.66  1.661.661.661.661.661.661.661.661.661.661.661...."
      ]
     },
     "execution_count": 27,
     "metadata": {},
     "output_type": "execute_result"
    }
   ],
   "source": [
    "df['Height times 100'] = df['Height'] * 100\n",
    "df"
   ]
  },
  {
   "cell_type": "markdown",
   "metadata": {
    "slideshow": {
     "slide_type": "subslide"
    }
   },
   "source": [
    "We need to tell Pandas in advance to treat `Unknown` not as a string, but as a missing value"
   ]
  },
  {
   "cell_type": "markdown",
   "metadata": {
    "slideshow": {
     "slide_type": "fragment"
    }
   },
   "source": [
    "Lets re-import the data set passing a list of values which represent missing values as the `na_values` parameter"
   ]
  },
  {
   "cell_type": "code",
   "execution_count": 28,
   "metadata": {
    "slideshow": {
     "slide_type": "fragment"
    }
   },
   "outputs": [
    {
     "data": {
      "text/html": [
       "<div>\n",
       "<style scoped>\n",
       "    .dataframe tbody tr th:only-of-type {\n",
       "        vertical-align: middle;\n",
       "    }\n",
       "\n",
       "    .dataframe tbody tr th {\n",
       "        vertical-align: top;\n",
       "    }\n",
       "\n",
       "    .dataframe thead th {\n",
       "        text-align: right;\n",
       "    }\n",
       "</style>\n",
       "<table border=\"1\" class=\"dataframe\">\n",
       "  <thead>\n",
       "    <tr style=\"text-align: right;\">\n",
       "      <th></th>\n",
       "      <th>Name</th>\n",
       "      <th>Age</th>\n",
       "      <th>Height</th>\n",
       "    </tr>\n",
       "  </thead>\n",
       "  <tbody>\n",
       "    <tr>\n",
       "      <th>0</th>\n",
       "      <td>Nick</td>\n",
       "      <td>21.0</td>\n",
       "      <td>1.85</td>\n",
       "    </tr>\n",
       "    <tr>\n",
       "      <th>1</th>\n",
       "      <td>Chris</td>\n",
       "      <td>29.0</td>\n",
       "      <td>NaN</td>\n",
       "    </tr>\n",
       "    <tr>\n",
       "      <th>2</th>\n",
       "      <td>Tim</td>\n",
       "      <td>28.0</td>\n",
       "      <td>1.75</td>\n",
       "    </tr>\n",
       "    <tr>\n",
       "      <th>3</th>\n",
       "      <td>Ron</td>\n",
       "      <td>NaN</td>\n",
       "      <td>1.81</td>\n",
       "    </tr>\n",
       "    <tr>\n",
       "      <th>4</th>\n",
       "      <td>Monica</td>\n",
       "      <td>35.0</td>\n",
       "      <td>NaN</td>\n",
       "    </tr>\n",
       "    <tr>\n",
       "      <th>5</th>\n",
       "      <td>Cassandra</td>\n",
       "      <td>21.0</td>\n",
       "      <td>1.66</td>\n",
       "    </tr>\n",
       "  </tbody>\n",
       "</table>\n",
       "</div>"
      ],
      "text/plain": [
       "        Name   Age  Height\n",
       "0       Nick  21.0    1.85\n",
       "1      Chris  29.0     NaN\n",
       "2        Tim  28.0    1.75\n",
       "3        Ron   NaN    1.81\n",
       "4     Monica  35.0     NaN\n",
       "5  Cassandra  21.0    1.66"
      ]
     },
     "execution_count": 28,
     "metadata": {},
     "output_type": "execute_result"
    }
   ],
   "source": [
    "df = pd.read_csv('https://www.dropbox.com/s/5h4k4rszebd6p0n/missing.csv?raw=1', \n",
    "                 na_values=['Unknown'])\n",
    "df"
   ]
  },
  {
   "cell_type": "markdown",
   "metadata": {
    "slideshow": {
     "slide_type": "subslide"
    }
   },
   "source": [
    "Now the column is `float64`"
   ]
  },
  {
   "cell_type": "code",
   "execution_count": 29,
   "metadata": {
    "slideshow": {
     "slide_type": "fragment"
    }
   },
   "outputs": [
    {
     "data": {
      "text/plain": [
       "0    1.85\n",
       "1     NaN\n",
       "2    1.75\n",
       "3    1.81\n",
       "4     NaN\n",
       "5    1.66\n",
       "Name: Height, dtype: float64"
      ]
     },
     "execution_count": 29,
     "metadata": {},
     "output_type": "execute_result"
    }
   ],
   "source": [
    "df['Height']"
   ]
  },
  {
   "cell_type": "markdown",
   "metadata": {
    "slideshow": {
     "slide_type": "subslide"
    }
   },
   "source": [
    "Multiplying `Height` now works as expected."
   ]
  },
  {
   "cell_type": "code",
   "execution_count": 30,
   "metadata": {
    "cell_style": "split",
    "slideshow": {
     "slide_type": "fragment"
    }
   },
   "outputs": [
    {
     "data": {
      "text/html": [
       "<div>\n",
       "<style scoped>\n",
       "    .dataframe tbody tr th:only-of-type {\n",
       "        vertical-align: middle;\n",
       "    }\n",
       "\n",
       "    .dataframe tbody tr th {\n",
       "        vertical-align: top;\n",
       "    }\n",
       "\n",
       "    .dataframe thead th {\n",
       "        text-align: right;\n",
       "    }\n",
       "</style>\n",
       "<table border=\"1\" class=\"dataframe\">\n",
       "  <thead>\n",
       "    <tr style=\"text-align: right;\">\n",
       "      <th></th>\n",
       "      <th>Name</th>\n",
       "      <th>Age</th>\n",
       "      <th>Height</th>\n",
       "      <th>Height times 100</th>\n",
       "    </tr>\n",
       "  </thead>\n",
       "  <tbody>\n",
       "    <tr>\n",
       "      <th>0</th>\n",
       "      <td>Nick</td>\n",
       "      <td>21.0</td>\n",
       "      <td>1.85</td>\n",
       "      <td>185.0</td>\n",
       "    </tr>\n",
       "    <tr>\n",
       "      <th>1</th>\n",
       "      <td>Chris</td>\n",
       "      <td>29.0</td>\n",
       "      <td>NaN</td>\n",
       "      <td>NaN</td>\n",
       "    </tr>\n",
       "    <tr>\n",
       "      <th>2</th>\n",
       "      <td>Tim</td>\n",
       "      <td>28.0</td>\n",
       "      <td>1.75</td>\n",
       "      <td>175.0</td>\n",
       "    </tr>\n",
       "    <tr>\n",
       "      <th>3</th>\n",
       "      <td>Ron</td>\n",
       "      <td>NaN</td>\n",
       "      <td>1.81</td>\n",
       "      <td>181.0</td>\n",
       "    </tr>\n",
       "    <tr>\n",
       "      <th>4</th>\n",
       "      <td>Monica</td>\n",
       "      <td>35.0</td>\n",
       "      <td>NaN</td>\n",
       "      <td>NaN</td>\n",
       "    </tr>\n",
       "    <tr>\n",
       "      <th>5</th>\n",
       "      <td>Cassandra</td>\n",
       "      <td>21.0</td>\n",
       "      <td>1.66</td>\n",
       "      <td>166.0</td>\n",
       "    </tr>\n",
       "  </tbody>\n",
       "</table>\n",
       "</div>"
      ],
      "text/plain": [
       "        Name   Age  Height  Height times 100\n",
       "0       Nick  21.0    1.85             185.0\n",
       "1      Chris  29.0     NaN               NaN\n",
       "2        Tim  28.0    1.75             175.0\n",
       "3        Ron   NaN    1.81             181.0\n",
       "4     Monica  35.0     NaN               NaN\n",
       "5  Cassandra  21.0    1.66             166.0"
      ]
     },
     "execution_count": 30,
     "metadata": {},
     "output_type": "execute_result"
    }
   ],
   "source": [
    "df['Height times 100'] = df['Height'] * 100\n",
    "df"
   ]
  },
  {
   "cell_type": "code",
   "execution_count": 31,
   "metadata": {
    "cell_style": "split",
    "slideshow": {
     "slide_type": "fragment"
    }
   },
   "outputs": [
    {
     "data": {
      "text/html": [
       "<div>\n",
       "<style scoped>\n",
       "    .dataframe tbody tr th:only-of-type {\n",
       "        vertical-align: middle;\n",
       "    }\n",
       "\n",
       "    .dataframe tbody tr th {\n",
       "        vertical-align: top;\n",
       "    }\n",
       "\n",
       "    .dataframe thead th {\n",
       "        text-align: right;\n",
       "    }\n",
       "</style>\n",
       "<table border=\"1\" class=\"dataframe\">\n",
       "  <thead>\n",
       "    <tr style=\"text-align: right;\">\n",
       "      <th></th>\n",
       "      <th>Name</th>\n",
       "      <th>Age</th>\n",
       "      <th>Height</th>\n",
       "      <th>Height times 100</th>\n",
       "      <th>Test</th>\n",
       "    </tr>\n",
       "  </thead>\n",
       "  <tbody>\n",
       "    <tr>\n",
       "      <th>0</th>\n",
       "      <td>Nick</td>\n",
       "      <td>21.0</td>\n",
       "      <td>1.85</td>\n",
       "      <td>185.0</td>\n",
       "      <td>22.85</td>\n",
       "    </tr>\n",
       "    <tr>\n",
       "      <th>1</th>\n",
       "      <td>Chris</td>\n",
       "      <td>29.0</td>\n",
       "      <td>NaN</td>\n",
       "      <td>NaN</td>\n",
       "      <td>NaN</td>\n",
       "    </tr>\n",
       "    <tr>\n",
       "      <th>2</th>\n",
       "      <td>Tim</td>\n",
       "      <td>28.0</td>\n",
       "      <td>1.75</td>\n",
       "      <td>175.0</td>\n",
       "      <td>29.75</td>\n",
       "    </tr>\n",
       "    <tr>\n",
       "      <th>3</th>\n",
       "      <td>Ron</td>\n",
       "      <td>NaN</td>\n",
       "      <td>1.81</td>\n",
       "      <td>181.0</td>\n",
       "      <td>NaN</td>\n",
       "    </tr>\n",
       "    <tr>\n",
       "      <th>4</th>\n",
       "      <td>Monica</td>\n",
       "      <td>35.0</td>\n",
       "      <td>NaN</td>\n",
       "      <td>NaN</td>\n",
       "      <td>NaN</td>\n",
       "    </tr>\n",
       "    <tr>\n",
       "      <th>5</th>\n",
       "      <td>Cassandra</td>\n",
       "      <td>21.0</td>\n",
       "      <td>1.66</td>\n",
       "      <td>166.0</td>\n",
       "      <td>22.66</td>\n",
       "    </tr>\n",
       "  </tbody>\n",
       "</table>\n",
       "</div>"
      ],
      "text/plain": [
       "        Name   Age  Height  Height times 100   Test\n",
       "0       Nick  21.0    1.85             185.0  22.85\n",
       "1      Chris  29.0     NaN               NaN    NaN\n",
       "2        Tim  28.0    1.75             175.0  29.75\n",
       "3        Ron   NaN    1.81             181.0    NaN\n",
       "4     Monica  35.0     NaN               NaN    NaN\n",
       "5  Cassandra  21.0    1.66             166.0  22.66"
      ]
     },
     "execution_count": 31,
     "metadata": {},
     "output_type": "execute_result"
    }
   ],
   "source": [
    "# Another example\n",
    "df['Test'] = df['Age'] + df['Height']\n",
    "df"
   ]
  },
  {
   "cell_type": "markdown",
   "metadata": {
    "slideshow": {
     "slide_type": "subslide"
    }
   },
   "source": [
    "### Methods to address missing data"
   ]
  },
  {
   "cell_type": "markdown",
   "metadata": {
    "slideshow": {
     "slide_type": "subslide"
    }
   },
   "source": [
    "As mentioned before, there are different ways to deal with missing data"
   ]
  },
  {
   "cell_type": "markdown",
   "metadata": {
    "slideshow": {
     "slide_type": "fragment"
    }
   },
   "source": [
    "The method you should use depends on your analysis, the application domain and what you want to achieve"
   ]
  },
  {
   "cell_type": "markdown",
   "metadata": {
    "slideshow": {
     "slide_type": "fragment"
    }
   },
   "source": [
    "Here are some common methods:\n",
    "\n",
    "    1. Leave the missing values as NaN\n",
    "    2. Lookup the values from another data source\n",
    "    3. Delete the rows / observations\n",
    "    4. Compute reasonable guesses about the values"
   ]
  },
  {
   "cell_type": "markdown",
   "metadata": {
    "slideshow": {
     "slide_type": "subslide"
    }
   },
   "source": [
    "In **option 1**, it is often reasonable to just leave the data as missing data"
   ]
  },
  {
   "cell_type": "markdown",
   "metadata": {
    "slideshow": {
     "slide_type": "fragment"
    }
   },
   "source": [
    "For example, if we wanted to calculate average `Height`, it may not matter that we are missing `Age` for one row"
   ]
  },
  {
   "cell_type": "markdown",
   "metadata": {
    "slideshow": {
     "slide_type": "fragment"
    }
   },
   "source": [
    "As for **option 2**, if we have some other ways of going back and getting correct data, we could just update the values with `df.at[3, 'Age'] = ...`"
   ]
  },
  {
   "cell_type": "markdown",
   "metadata": {
    "slideshow": {
     "slide_type": "fragment"
    }
   },
   "source": [
    "Let's assume we are going for **option 3** and want to remove any rows where we do no have `Age`"
   ]
  },
  {
   "cell_type": "markdown",
   "metadata": {
    "slideshow": {
     "slide_type": "subslide"
    }
   },
   "source": [
    "If we know the row we want to delete (`3`), we can use the `drop` method, only this time we specify rows, not columns. As in:\n",
    "\n",
    "    df.drop(3)"
   ]
  },
  {
   "cell_type": "markdown",
   "metadata": {
    "slideshow": {
     "slide_type": "fragment"
    }
   },
   "source": [
    "However, often there are many missing values, and we don't want to check on the index of each"
   ]
  },
  {
   "cell_type": "markdown",
   "metadata": {
    "slideshow": {
     "slide_type": "fragment"
    }
   },
   "source": [
    "A good way to remove rows with missing data is to specify which rows to **keep**"
   ]
  },
  {
   "cell_type": "markdown",
   "metadata": {
    "slideshow": {
     "slide_type": "subslide"
    }
   },
   "source": [
    "The `isnull` method will filter for rows which contains `NaN`."
   ]
  },
  {
   "cell_type": "code",
   "execution_count": 32,
   "metadata": {
    "slideshow": {
     "slide_type": "fragment"
    }
   },
   "outputs": [
    {
     "data": {
      "text/html": [
       "<div>\n",
       "<style scoped>\n",
       "    .dataframe tbody tr th:only-of-type {\n",
       "        vertical-align: middle;\n",
       "    }\n",
       "\n",
       "    .dataframe tbody tr th {\n",
       "        vertical-align: top;\n",
       "    }\n",
       "\n",
       "    .dataframe thead th {\n",
       "        text-align: right;\n",
       "    }\n",
       "</style>\n",
       "<table border=\"1\" class=\"dataframe\">\n",
       "  <thead>\n",
       "    <tr style=\"text-align: right;\">\n",
       "      <th></th>\n",
       "      <th>Name</th>\n",
       "      <th>Age</th>\n",
       "      <th>Height</th>\n",
       "      <th>Height times 100</th>\n",
       "      <th>Test</th>\n",
       "    </tr>\n",
       "  </thead>\n",
       "  <tbody>\n",
       "    <tr>\n",
       "      <th>3</th>\n",
       "      <td>Ron</td>\n",
       "      <td>NaN</td>\n",
       "      <td>1.81</td>\n",
       "      <td>181.0</td>\n",
       "      <td>NaN</td>\n",
       "    </tr>\n",
       "  </tbody>\n",
       "</table>\n",
       "</div>"
      ],
      "text/plain": [
       "  Name  Age  Height  Height times 100  Test\n",
       "3  Ron  NaN    1.81             181.0   NaN"
      ]
     },
     "execution_count": 32,
     "metadata": {},
     "output_type": "execute_result"
    }
   ],
   "source": [
    "df[df['Age'].isnull()]"
   ]
  },
  {
   "cell_type": "markdown",
   "metadata": {
    "slideshow": {
     "slide_type": "subslide"
    }
   },
   "source": [
    "Of course, this is the *opposite* of specifying which to keep"
   ]
  },
  {
   "cell_type": "markdown",
   "metadata": {
    "slideshow": {
     "slide_type": "fragment"
    }
   },
   "source": [
    "The **notnull** method will show us which rows do not contain `NaN` in the specified column."
   ]
  },
  {
   "cell_type": "code",
   "execution_count": 33,
   "metadata": {
    "slideshow": {
     "slide_type": "fragment"
    }
   },
   "outputs": [
    {
     "data": {
      "text/html": [
       "<div>\n",
       "<style scoped>\n",
       "    .dataframe tbody tr th:only-of-type {\n",
       "        vertical-align: middle;\n",
       "    }\n",
       "\n",
       "    .dataframe tbody tr th {\n",
       "        vertical-align: top;\n",
       "    }\n",
       "\n",
       "    .dataframe thead th {\n",
       "        text-align: right;\n",
       "    }\n",
       "</style>\n",
       "<table border=\"1\" class=\"dataframe\">\n",
       "  <thead>\n",
       "    <tr style=\"text-align: right;\">\n",
       "      <th></th>\n",
       "      <th>Name</th>\n",
       "      <th>Age</th>\n",
       "      <th>Height</th>\n",
       "      <th>Height times 100</th>\n",
       "      <th>Test</th>\n",
       "    </tr>\n",
       "  </thead>\n",
       "  <tbody>\n",
       "    <tr>\n",
       "      <th>0</th>\n",
       "      <td>Nick</td>\n",
       "      <td>21.0</td>\n",
       "      <td>1.85</td>\n",
       "      <td>185.0</td>\n",
       "      <td>22.85</td>\n",
       "    </tr>\n",
       "    <tr>\n",
       "      <th>1</th>\n",
       "      <td>Chris</td>\n",
       "      <td>29.0</td>\n",
       "      <td>NaN</td>\n",
       "      <td>NaN</td>\n",
       "      <td>NaN</td>\n",
       "    </tr>\n",
       "    <tr>\n",
       "      <th>2</th>\n",
       "      <td>Tim</td>\n",
       "      <td>28.0</td>\n",
       "      <td>1.75</td>\n",
       "      <td>175.0</td>\n",
       "      <td>29.75</td>\n",
       "    </tr>\n",
       "    <tr>\n",
       "      <th>4</th>\n",
       "      <td>Monica</td>\n",
       "      <td>35.0</td>\n",
       "      <td>NaN</td>\n",
       "      <td>NaN</td>\n",
       "      <td>NaN</td>\n",
       "    </tr>\n",
       "    <tr>\n",
       "      <th>5</th>\n",
       "      <td>Cassandra</td>\n",
       "      <td>21.0</td>\n",
       "      <td>1.66</td>\n",
       "      <td>166.0</td>\n",
       "      <td>22.66</td>\n",
       "    </tr>\n",
       "  </tbody>\n",
       "</table>\n",
       "</div>"
      ],
      "text/plain": [
       "        Name   Age  Height  Height times 100   Test\n",
       "0       Nick  21.0    1.85             185.0  22.85\n",
       "1      Chris  29.0     NaN               NaN    NaN\n",
       "2        Tim  28.0    1.75             175.0  29.75\n",
       "4     Monica  35.0     NaN               NaN    NaN\n",
       "5  Cassandra  21.0    1.66             166.0  22.66"
      ]
     },
     "execution_count": 33,
     "metadata": {},
     "output_type": "execute_result"
    }
   ],
   "source": [
    "df[df['Age'].notnull()]"
   ]
  },
  {
   "cell_type": "markdown",
   "metadata": {
    "slideshow": {
     "slide_type": "subslide"
    }
   },
   "source": [
    "Notice that the filter is only checking the column we specified `Age`, not the other column with `NaN` values"
   ]
  },
  {
   "cell_type": "markdown",
   "metadata": {
    "slideshow": {
     "slide_type": "fragment"
    }
   },
   "source": [
    "We can apply the filter by assigning the result back to `df`"
   ]
  },
  {
   "cell_type": "code",
   "execution_count": 34,
   "metadata": {
    "slideshow": {
     "slide_type": "fragment"
    }
   },
   "outputs": [
    {
     "data": {
      "text/html": [
       "<div>\n",
       "<style scoped>\n",
       "    .dataframe tbody tr th:only-of-type {\n",
       "        vertical-align: middle;\n",
       "    }\n",
       "\n",
       "    .dataframe tbody tr th {\n",
       "        vertical-align: top;\n",
       "    }\n",
       "\n",
       "    .dataframe thead th {\n",
       "        text-align: right;\n",
       "    }\n",
       "</style>\n",
       "<table border=\"1\" class=\"dataframe\">\n",
       "  <thead>\n",
       "    <tr style=\"text-align: right;\">\n",
       "      <th></th>\n",
       "      <th>Name</th>\n",
       "      <th>Age</th>\n",
       "      <th>Height</th>\n",
       "      <th>Height times 100</th>\n",
       "      <th>Test</th>\n",
       "    </tr>\n",
       "  </thead>\n",
       "  <tbody>\n",
       "    <tr>\n",
       "      <th>0</th>\n",
       "      <td>Nick</td>\n",
       "      <td>21.0</td>\n",
       "      <td>1.85</td>\n",
       "      <td>185.0</td>\n",
       "      <td>22.85</td>\n",
       "    </tr>\n",
       "    <tr>\n",
       "      <th>1</th>\n",
       "      <td>Chris</td>\n",
       "      <td>29.0</td>\n",
       "      <td>NaN</td>\n",
       "      <td>NaN</td>\n",
       "      <td>NaN</td>\n",
       "    </tr>\n",
       "    <tr>\n",
       "      <th>2</th>\n",
       "      <td>Tim</td>\n",
       "      <td>28.0</td>\n",
       "      <td>1.75</td>\n",
       "      <td>175.0</td>\n",
       "      <td>29.75</td>\n",
       "    </tr>\n",
       "    <tr>\n",
       "      <th>4</th>\n",
       "      <td>Monica</td>\n",
       "      <td>35.0</td>\n",
       "      <td>NaN</td>\n",
       "      <td>NaN</td>\n",
       "      <td>NaN</td>\n",
       "    </tr>\n",
       "    <tr>\n",
       "      <th>5</th>\n",
       "      <td>Cassandra</td>\n",
       "      <td>21.0</td>\n",
       "      <td>1.66</td>\n",
       "      <td>166.0</td>\n",
       "      <td>22.66</td>\n",
       "    </tr>\n",
       "  </tbody>\n",
       "</table>\n",
       "</div>"
      ],
      "text/plain": [
       "        Name   Age  Height  Height times 100   Test\n",
       "0       Nick  21.0    1.85             185.0  22.85\n",
       "1      Chris  29.0     NaN               NaN    NaN\n",
       "2        Tim  28.0    1.75             175.0  29.75\n",
       "4     Monica  35.0     NaN               NaN    NaN\n",
       "5  Cassandra  21.0    1.66             166.0  22.66"
      ]
     },
     "execution_count": 34,
     "metadata": {},
     "output_type": "execute_result"
    }
   ],
   "source": [
    "df = df[df['Age'].notnull()]\n",
    "df"
   ]
  },
  {
   "cell_type": "markdown",
   "metadata": {
    "slideshow": {
     "slide_type": "subslide"
    }
   },
   "source": [
    "Since the `Age` column no longer contains any non-integers, it is safe to convert the column to `int64` type"
   ]
  },
  {
   "cell_type": "markdown",
   "metadata": {
    "slideshow": {
     "slide_type": "fragment"
    }
   },
   "source": [
    "We can do this with the `astype` method"
   ]
  },
  {
   "cell_type": "code",
   "execution_count": 35,
   "metadata": {
    "slideshow": {
     "slide_type": "fragment"
    }
   },
   "outputs": [
    {
     "data": {
      "text/html": [
       "<div>\n",
       "<style scoped>\n",
       "    .dataframe tbody tr th:only-of-type {\n",
       "        vertical-align: middle;\n",
       "    }\n",
       "\n",
       "    .dataframe tbody tr th {\n",
       "        vertical-align: top;\n",
       "    }\n",
       "\n",
       "    .dataframe thead th {\n",
       "        text-align: right;\n",
       "    }\n",
       "</style>\n",
       "<table border=\"1\" class=\"dataframe\">\n",
       "  <thead>\n",
       "    <tr style=\"text-align: right;\">\n",
       "      <th></th>\n",
       "      <th>Name</th>\n",
       "      <th>Age</th>\n",
       "      <th>Height</th>\n",
       "      <th>Height times 100</th>\n",
       "      <th>Test</th>\n",
       "    </tr>\n",
       "  </thead>\n",
       "  <tbody>\n",
       "    <tr>\n",
       "      <th>0</th>\n",
       "      <td>Nick</td>\n",
       "      <td>21</td>\n",
       "      <td>1.85</td>\n",
       "      <td>185.0</td>\n",
       "      <td>22.85</td>\n",
       "    </tr>\n",
       "    <tr>\n",
       "      <th>1</th>\n",
       "      <td>Chris</td>\n",
       "      <td>29</td>\n",
       "      <td>NaN</td>\n",
       "      <td>NaN</td>\n",
       "      <td>NaN</td>\n",
       "    </tr>\n",
       "    <tr>\n",
       "      <th>2</th>\n",
       "      <td>Tim</td>\n",
       "      <td>28</td>\n",
       "      <td>1.75</td>\n",
       "      <td>175.0</td>\n",
       "      <td>29.75</td>\n",
       "    </tr>\n",
       "    <tr>\n",
       "      <th>4</th>\n",
       "      <td>Monica</td>\n",
       "      <td>35</td>\n",
       "      <td>NaN</td>\n",
       "      <td>NaN</td>\n",
       "      <td>NaN</td>\n",
       "    </tr>\n",
       "    <tr>\n",
       "      <th>5</th>\n",
       "      <td>Cassandra</td>\n",
       "      <td>21</td>\n",
       "      <td>1.66</td>\n",
       "      <td>166.0</td>\n",
       "      <td>22.66</td>\n",
       "    </tr>\n",
       "  </tbody>\n",
       "</table>\n",
       "</div>"
      ],
      "text/plain": [
       "        Name  Age  Height  Height times 100   Test\n",
       "0       Nick   21    1.85             185.0  22.85\n",
       "1      Chris   29     NaN               NaN    NaN\n",
       "2        Tim   28    1.75             175.0  29.75\n",
       "4     Monica   35     NaN               NaN    NaN\n",
       "5  Cassandra   21    1.66             166.0  22.66"
      ]
     },
     "execution_count": 35,
     "metadata": {},
     "output_type": "execute_result"
    }
   ],
   "source": [
    "df = df.astype({'Age': 'int64'})\n",
    "df"
   ]
  },
  {
   "cell_type": "markdown",
   "metadata": {
    "slideshow": {
     "slide_type": "subslide"
    }
   },
   "source": [
    "### Updating Indices"
   ]
  },
  {
   "cell_type": "markdown",
   "metadata": {
    "slideshow": {
     "slide_type": "subslide"
    }
   },
   "source": [
    "After these operations, the current data frame has the index 0, 1, 2, 4, 5"
   ]
  },
  {
   "cell_type": "markdown",
   "metadata": {
    "slideshow": {
     "slide_type": "fragment"
    }
   },
   "source": [
    "We could leave it like this, being careful to select the correct rows with `loc`. However, we can also reset the index with `reset_index`"
   ]
  },
  {
   "cell_type": "markdown",
   "metadata": {
    "slideshow": {
     "slide_type": "subslide"
    }
   },
   "source": [
    "Note that we need to specify `drop=True`, without this we will end up with an extra column with the old index"
   ]
  },
  {
   "cell_type": "code",
   "execution_count": 36,
   "metadata": {
    "slideshow": {
     "slide_type": "fragment"
    }
   },
   "outputs": [
    {
     "data": {
      "text/html": [
       "<div>\n",
       "<style scoped>\n",
       "    .dataframe tbody tr th:only-of-type {\n",
       "        vertical-align: middle;\n",
       "    }\n",
       "\n",
       "    .dataframe tbody tr th {\n",
       "        vertical-align: top;\n",
       "    }\n",
       "\n",
       "    .dataframe thead th {\n",
       "        text-align: right;\n",
       "    }\n",
       "</style>\n",
       "<table border=\"1\" class=\"dataframe\">\n",
       "  <thead>\n",
       "    <tr style=\"text-align: right;\">\n",
       "      <th></th>\n",
       "      <th>Name</th>\n",
       "      <th>Age</th>\n",
       "      <th>Height</th>\n",
       "      <th>Height times 100</th>\n",
       "      <th>Test</th>\n",
       "    </tr>\n",
       "  </thead>\n",
       "  <tbody>\n",
       "    <tr>\n",
       "      <th>0</th>\n",
       "      <td>Nick</td>\n",
       "      <td>21</td>\n",
       "      <td>1.85</td>\n",
       "      <td>185.0</td>\n",
       "      <td>22.85</td>\n",
       "    </tr>\n",
       "    <tr>\n",
       "      <th>1</th>\n",
       "      <td>Chris</td>\n",
       "      <td>29</td>\n",
       "      <td>NaN</td>\n",
       "      <td>NaN</td>\n",
       "      <td>NaN</td>\n",
       "    </tr>\n",
       "    <tr>\n",
       "      <th>2</th>\n",
       "      <td>Tim</td>\n",
       "      <td>28</td>\n",
       "      <td>1.75</td>\n",
       "      <td>175.0</td>\n",
       "      <td>29.75</td>\n",
       "    </tr>\n",
       "    <tr>\n",
       "      <th>3</th>\n",
       "      <td>Monica</td>\n",
       "      <td>35</td>\n",
       "      <td>NaN</td>\n",
       "      <td>NaN</td>\n",
       "      <td>NaN</td>\n",
       "    </tr>\n",
       "    <tr>\n",
       "      <th>4</th>\n",
       "      <td>Cassandra</td>\n",
       "      <td>21</td>\n",
       "      <td>1.66</td>\n",
       "      <td>166.0</td>\n",
       "      <td>22.66</td>\n",
       "    </tr>\n",
       "  </tbody>\n",
       "</table>\n",
       "</div>"
      ],
      "text/plain": [
       "        Name  Age  Height  Height times 100   Test\n",
       "0       Nick   21    1.85             185.0  22.85\n",
       "1      Chris   29     NaN               NaN    NaN\n",
       "2        Tim   28    1.75             175.0  29.75\n",
       "3     Monica   35     NaN               NaN    NaN\n",
       "4  Cassandra   21    1.66             166.0  22.66"
      ]
     },
     "execution_count": 36,
     "metadata": {},
     "output_type": "execute_result"
    }
   ],
   "source": [
    "df = df.reset_index(drop=True)\n",
    "df"
   ]
  },
  {
   "cell_type": "markdown",
   "metadata": {
    "slideshow": {
     "slide_type": "subslide"
    }
   },
   "source": [
    "Alternatively, we can set the index to a particular column if we don't want default indexing"
   ]
  },
  {
   "cell_type": "code",
   "execution_count": 37,
   "metadata": {
    "slideshow": {
     "slide_type": "fragment"
    }
   },
   "outputs": [
    {
     "data": {
      "text/html": [
       "<div>\n",
       "<style scoped>\n",
       "    .dataframe tbody tr th:only-of-type {\n",
       "        vertical-align: middle;\n",
       "    }\n",
       "\n",
       "    .dataframe tbody tr th {\n",
       "        vertical-align: top;\n",
       "    }\n",
       "\n",
       "    .dataframe thead th {\n",
       "        text-align: right;\n",
       "    }\n",
       "</style>\n",
       "<table border=\"1\" class=\"dataframe\">\n",
       "  <thead>\n",
       "    <tr style=\"text-align: right;\">\n",
       "      <th></th>\n",
       "      <th>Age</th>\n",
       "      <th>Height</th>\n",
       "      <th>Height times 100</th>\n",
       "      <th>Test</th>\n",
       "    </tr>\n",
       "    <tr>\n",
       "      <th>Name</th>\n",
       "      <th></th>\n",
       "      <th></th>\n",
       "      <th></th>\n",
       "      <th></th>\n",
       "    </tr>\n",
       "  </thead>\n",
       "  <tbody>\n",
       "    <tr>\n",
       "      <th>Nick</th>\n",
       "      <td>21</td>\n",
       "      <td>1.85</td>\n",
       "      <td>185.0</td>\n",
       "      <td>22.85</td>\n",
       "    </tr>\n",
       "    <tr>\n",
       "      <th>Chris</th>\n",
       "      <td>29</td>\n",
       "      <td>NaN</td>\n",
       "      <td>NaN</td>\n",
       "      <td>NaN</td>\n",
       "    </tr>\n",
       "    <tr>\n",
       "      <th>Tim</th>\n",
       "      <td>28</td>\n",
       "      <td>1.75</td>\n",
       "      <td>175.0</td>\n",
       "      <td>29.75</td>\n",
       "    </tr>\n",
       "    <tr>\n",
       "      <th>Monica</th>\n",
       "      <td>35</td>\n",
       "      <td>NaN</td>\n",
       "      <td>NaN</td>\n",
       "      <td>NaN</td>\n",
       "    </tr>\n",
       "    <tr>\n",
       "      <th>Cassandra</th>\n",
       "      <td>21</td>\n",
       "      <td>1.66</td>\n",
       "      <td>166.0</td>\n",
       "      <td>22.66</td>\n",
       "    </tr>\n",
       "  </tbody>\n",
       "</table>\n",
       "</div>"
      ],
      "text/plain": [
       "           Age  Height  Height times 100   Test\n",
       "Name                                           \n",
       "Nick        21    1.85             185.0  22.85\n",
       "Chris       29     NaN               NaN    NaN\n",
       "Tim         28    1.75             175.0  29.75\n",
       "Monica      35     NaN               NaN    NaN\n",
       "Cassandra   21    1.66             166.0  22.66"
      ]
     },
     "execution_count": 37,
     "metadata": {},
     "output_type": "execute_result"
    }
   ],
   "source": [
    "df = df.set_index('Name')\n",
    "df"
   ]
  },
  {
   "cell_type": "markdown",
   "metadata": {
    "slideshow": {
     "slide_type": "subslide"
    }
   },
   "source": [
    "Say we want to go with **option 4** and replace missing `Height` with a computed value"
   ]
  },
  {
   "cell_type": "markdown",
   "metadata": {
    "slideshow": {
     "slide_type": "fragment"
    }
   },
   "source": [
    "In this example we simply calculate the mean height of other people in the data set (to the nearest cm)"
   ]
  },
  {
   "cell_type": "markdown",
   "metadata": {
    "slideshow": {
     "slide_type": "fragment"
    }
   },
   "source": [
    "**Note:** The `mean` method just ignores the missing data and gives us the average of the non-missing data, which is what we want"
   ]
  },
  {
   "cell_type": "code",
   "execution_count": 38,
   "metadata": {
    "cell_style": "split",
    "slideshow": {
     "slide_type": "subslide"
    }
   },
   "outputs": [
    {
     "data": {
      "text/plain": [
       "1.7533333333333332"
      ]
     },
     "execution_count": 38,
     "metadata": {},
     "output_type": "execute_result"
    }
   ],
   "source": [
    "mean_height = df['Height'].mean()\n",
    "\n",
    "mean_height"
   ]
  },
  {
   "cell_type": "code",
   "execution_count": 39,
   "metadata": {
    "cell_style": "split",
    "slideshow": {
     "slide_type": "fragment"
    }
   },
   "outputs": [
    {
     "data": {
      "text/plain": [
       "1.75"
      ]
     },
     "execution_count": 39,
     "metadata": {},
     "output_type": "execute_result"
    }
   ],
   "source": [
    "mean_height = round(mean_height, \n",
    "                    2)\n",
    "mean_height"
   ]
  },
  {
   "cell_type": "markdown",
   "metadata": {
    "slideshow": {
     "slide_type": "fragment"
    }
   },
   "source": [
    "Of course there are many more sophisticated ways to predict a replacement value!"
   ]
  },
  {
   "cell_type": "markdown",
   "metadata": {
    "slideshow": {
     "slide_type": "subslide"
    }
   },
   "source": [
    "For instance, could fit a regression with `Age`"
   ]
  },
  {
   "cell_type": "markdown",
   "metadata": {
    "slideshow": {
     "slide_type": "fragment"
    }
   },
   "source": [
    "Or if we had categories such as `Gender` we could group by categories and do predictions for each"
   ]
  },
  {
   "cell_type": "markdown",
   "metadata": {
    "slideshow": {
     "slide_type": "fragment"
    }
   },
   "source": [
    "In this example we will just use `1.75` for every missing value."
   ]
  },
  {
   "cell_type": "code",
   "execution_count": 40,
   "metadata": {
    "slideshow": {
     "slide_type": "subslide"
    }
   },
   "outputs": [
    {
     "data": {
      "text/html": [
       "<div>\n",
       "<style scoped>\n",
       "    .dataframe tbody tr th:only-of-type {\n",
       "        vertical-align: middle;\n",
       "    }\n",
       "\n",
       "    .dataframe tbody tr th {\n",
       "        vertical-align: top;\n",
       "    }\n",
       "\n",
       "    .dataframe thead th {\n",
       "        text-align: right;\n",
       "    }\n",
       "</style>\n",
       "<table border=\"1\" class=\"dataframe\">\n",
       "  <thead>\n",
       "    <tr style=\"text-align: right;\">\n",
       "      <th></th>\n",
       "      <th>Age</th>\n",
       "      <th>Height</th>\n",
       "      <th>Height times 100</th>\n",
       "      <th>Test</th>\n",
       "    </tr>\n",
       "    <tr>\n",
       "      <th>Name</th>\n",
       "      <th></th>\n",
       "      <th></th>\n",
       "      <th></th>\n",
       "      <th></th>\n",
       "    </tr>\n",
       "  </thead>\n",
       "  <tbody>\n",
       "    <tr>\n",
       "      <th>Nick</th>\n",
       "      <td>21</td>\n",
       "      <td>1.85</td>\n",
       "      <td>185.0</td>\n",
       "      <td>22.85</td>\n",
       "    </tr>\n",
       "    <tr>\n",
       "      <th>Chris</th>\n",
       "      <td>29</td>\n",
       "      <td>1.75</td>\n",
       "      <td>NaN</td>\n",
       "      <td>NaN</td>\n",
       "    </tr>\n",
       "    <tr>\n",
       "      <th>Tim</th>\n",
       "      <td>28</td>\n",
       "      <td>1.75</td>\n",
       "      <td>175.0</td>\n",
       "      <td>29.75</td>\n",
       "    </tr>\n",
       "    <tr>\n",
       "      <th>Monica</th>\n",
       "      <td>35</td>\n",
       "      <td>1.75</td>\n",
       "      <td>NaN</td>\n",
       "      <td>NaN</td>\n",
       "    </tr>\n",
       "    <tr>\n",
       "      <th>Cassandra</th>\n",
       "      <td>21</td>\n",
       "      <td>1.66</td>\n",
       "      <td>166.0</td>\n",
       "      <td>22.66</td>\n",
       "    </tr>\n",
       "  </tbody>\n",
       "</table>\n",
       "</div>"
      ],
      "text/plain": [
       "           Age  Height  Height times 100   Test\n",
       "Name                                           \n",
       "Nick        21    1.85             185.0  22.85\n",
       "Chris       29    1.75               NaN    NaN\n",
       "Tim         28    1.75             175.0  29.75\n",
       "Monica      35    1.75               NaN    NaN\n",
       "Cassandra   21    1.66             166.0  22.66"
      ]
     },
     "execution_count": 40,
     "metadata": {},
     "output_type": "execute_result"
    }
   ],
   "source": [
    "df = df.fillna({'Height' : mean_height})\n",
    "df"
   ]
  },
  {
   "cell_type": "markdown",
   "metadata": {
    "slideshow": {
     "slide_type": "slide"
    }
   },
   "source": [
    "##  Joints and Aggregations"
   ]
  },
  {
   "cell_type": "markdown",
   "metadata": {
    "slideshow": {
     "slide_type": "subslide"
    }
   },
   "source": [
    "Let's create two small dataset to use as example"
   ]
  },
  {
   "cell_type": "code",
   "execution_count": 41,
   "metadata": {
    "cell_style": "split",
    "slideshow": {
     "slide_type": "fragment"
    }
   },
   "outputs": [
    {
     "data": {
      "text/html": [
       "<div>\n",
       "<style scoped>\n",
       "    .dataframe tbody tr th:only-of-type {\n",
       "        vertical-align: middle;\n",
       "    }\n",
       "\n",
       "    .dataframe tbody tr th {\n",
       "        vertical-align: top;\n",
       "    }\n",
       "\n",
       "    .dataframe thead th {\n",
       "        text-align: right;\n",
       "    }\n",
       "</style>\n",
       "<table border=\"1\" class=\"dataframe\">\n",
       "  <thead>\n",
       "    <tr style=\"text-align: right;\">\n",
       "      <th></th>\n",
       "      <th>Author</th>\n",
       "    </tr>\n",
       "  </thead>\n",
       "  <tbody>\n",
       "    <tr>\n",
       "      <th>The Lord of the Rings</th>\n",
       "      <td>J. R. R. Tolkien</td>\n",
       "    </tr>\n",
       "    <tr>\n",
       "      <th>Game of Thrones</th>\n",
       "      <td>George R. R. Martin</td>\n",
       "    </tr>\n",
       "    <tr>\n",
       "      <th>Harry Potter</th>\n",
       "      <td>J. K. Rowling</td>\n",
       "    </tr>\n",
       "    <tr>\n",
       "      <th>The Hunger Games</th>\n",
       "      <td>Suzanne Collins</td>\n",
       "    </tr>\n",
       "  </tbody>\n",
       "</table>\n",
       "</div>"
      ],
      "text/plain": [
       "                                    Author\n",
       "The Lord of the Rings     J. R. R. Tolkien\n",
       "Game of Thrones        George R. R. Martin\n",
       "Harry Potter                 J. K. Rowling\n",
       "The Hunger Games           Suzanne Collins"
      ]
     },
     "execution_count": 41,
     "metadata": {},
     "output_type": "execute_result"
    }
   ],
   "source": [
    "books = pd.DataFrame({'Author' : ['J. R. R. Tolkien',\n",
    "                                  'George R. R. Martin',\n",
    "                                  'J. K. Rowling', \n",
    "                                  'Suzanne Collins']},\n",
    "                     index = ['The Lord of the Rings',\n",
    "                              'Game of Thrones',\n",
    "                              'Harry Potter',\n",
    "                              'The Hunger Games'])\n",
    "books"
   ]
  },
  {
   "cell_type": "code",
   "execution_count": 42,
   "metadata": {
    "cell_style": "split",
    "slideshow": {
     "slide_type": "fragment"
    }
   },
   "outputs": [
    {
     "data": {
      "text/html": [
       "<div>\n",
       "<style scoped>\n",
       "    .dataframe tbody tr th:only-of-type {\n",
       "        vertical-align: middle;\n",
       "    }\n",
       "\n",
       "    .dataframe tbody tr th {\n",
       "        vertical-align: top;\n",
       "    }\n",
       "\n",
       "    .dataframe thead th {\n",
       "        text-align: right;\n",
       "    }\n",
       "</style>\n",
       "<table border=\"1\" class=\"dataframe\">\n",
       "  <thead>\n",
       "    <tr style=\"text-align: right;\">\n",
       "      <th></th>\n",
       "      <th>Year of First Film</th>\n",
       "      <th>Number of Films</th>\n",
       "    </tr>\n",
       "  </thead>\n",
       "  <tbody>\n",
       "    <tr>\n",
       "      <th>The Matrix</th>\n",
       "      <td>1999</td>\n",
       "      <td>3</td>\n",
       "    </tr>\n",
       "    <tr>\n",
       "      <th>The Lord of the Rings</th>\n",
       "      <td>2001</td>\n",
       "      <td>2</td>\n",
       "    </tr>\n",
       "    <tr>\n",
       "      <th>Harry Potter</th>\n",
       "      <td>2001</td>\n",
       "      <td>8</td>\n",
       "    </tr>\n",
       "    <tr>\n",
       "      <th>The Hunger Games</th>\n",
       "      <td>2012</td>\n",
       "      <td>4</td>\n",
       "    </tr>\n",
       "  </tbody>\n",
       "</table>\n",
       "</div>"
      ],
      "text/plain": [
       "                       Year of First Film  Number of Films\n",
       "The Matrix                           1999                3\n",
       "The Lord of the Rings                2001                2\n",
       "Harry Potter                         2001                8\n",
       "The Hunger Games                     2012                4"
      ]
     },
     "execution_count": 42,
     "metadata": {},
     "output_type": "execute_result"
    }
   ],
   "source": [
    "films = pd.DataFrame({'Year of First Film' : [1999, 2001, 2001, 2012],\n",
    "                      'Number of Films' : [3, 2, 8, 4]},\n",
    "                     index = ['The Matrix',\n",
    "                              'The Lord of the Rings',\n",
    "                              'Harry Potter',\n",
    "                              'The Hunger Games'])\n",
    "\n",
    "\n",
    "films"
   ]
  },
  {
   "cell_type": "markdown",
   "metadata": {
    "slideshow": {
     "slide_type": "subslide"
    }
   },
   "source": [
    "The `.join` operation is used to join the columns of two different data sets based on matching index"
   ]
  },
  {
   "cell_type": "code",
   "execution_count": 43,
   "metadata": {
    "slideshow": {
     "slide_type": "fragment"
    }
   },
   "outputs": [
    {
     "data": {
      "text/html": [
       "<div>\n",
       "<style scoped>\n",
       "    .dataframe tbody tr th:only-of-type {\n",
       "        vertical-align: middle;\n",
       "    }\n",
       "\n",
       "    .dataframe tbody tr th {\n",
       "        vertical-align: top;\n",
       "    }\n",
       "\n",
       "    .dataframe thead th {\n",
       "        text-align: right;\n",
       "    }\n",
       "</style>\n",
       "<table border=\"1\" class=\"dataframe\">\n",
       "  <thead>\n",
       "    <tr style=\"text-align: right;\">\n",
       "      <th></th>\n",
       "      <th>Author</th>\n",
       "      <th>Year of First Film</th>\n",
       "      <th>Number of Films</th>\n",
       "    </tr>\n",
       "  </thead>\n",
       "  <tbody>\n",
       "    <tr>\n",
       "      <th>The Lord of the Rings</th>\n",
       "      <td>J. R. R. Tolkien</td>\n",
       "      <td>2001.0</td>\n",
       "      <td>2.0</td>\n",
       "    </tr>\n",
       "    <tr>\n",
       "      <th>Game of Thrones</th>\n",
       "      <td>George R. R. Martin</td>\n",
       "      <td>NaN</td>\n",
       "      <td>NaN</td>\n",
       "    </tr>\n",
       "    <tr>\n",
       "      <th>Harry Potter</th>\n",
       "      <td>J. K. Rowling</td>\n",
       "      <td>2001.0</td>\n",
       "      <td>8.0</td>\n",
       "    </tr>\n",
       "    <tr>\n",
       "      <th>The Hunger Games</th>\n",
       "      <td>Suzanne Collins</td>\n",
       "      <td>2012.0</td>\n",
       "      <td>4.0</td>\n",
       "    </tr>\n",
       "  </tbody>\n",
       "</table>\n",
       "</div>"
      ],
      "text/plain": [
       "                                    Author  Year of First Film  \\\n",
       "The Lord of the Rings     J. R. R. Tolkien              2001.0   \n",
       "Game of Thrones        George R. R. Martin                 NaN   \n",
       "Harry Potter                 J. K. Rowling              2001.0   \n",
       "The Hunger Games           Suzanne Collins              2012.0   \n",
       "\n",
       "                       Number of Films  \n",
       "The Lord of the Rings              2.0  \n",
       "Game of Thrones                    NaN  \n",
       "Harry Potter                       8.0  \n",
       "The Hunger Games                   4.0  "
      ]
     },
     "execution_count": 43,
     "metadata": {},
     "output_type": "execute_result"
    }
   ],
   "source": [
    "books.join(films)"
   ]
  },
  {
   "cell_type": "markdown",
   "metadata": {
    "slideshow": {
     "slide_type": "subslide"
    }
   },
   "source": [
    "### Types of Join"
   ]
  },
  {
   "cell_type": "markdown",
   "metadata": {
    "slideshow": {
     "slide_type": "subslide"
    }
   },
   "source": [
    "In the previous example, the `books` data set is the *'left'* dataset and `films` is the *'right'* dataset"
   ]
  },
  {
   "cell_type": "markdown",
   "metadata": {
    "slideshow": {
     "slide_type": "fragment"
    }
   },
   "source": [
    "A left join keeps all of the data from the *'left'* data set and adds in the applicable data from the *'right'* data set where the keys match up"
   ]
  },
  {
   "cell_type": "markdown",
   "metadata": {
    "slideshow": {
     "slide_type": "fragment"
    }
   },
   "source": [
    "If there is no film, the cells are populated with `NaN` (e.g. Game of Thrones)"
   ]
  },
  {
   "cell_type": "markdown",
   "metadata": {
    "slideshow": {
     "slide_type": "fragment"
    }
   },
   "source": [
    "The above operations is equivalent to\n",
    "\n",
    "    books.join(films, how='left')"
   ]
  },
  {
   "cell_type": "markdown",
   "metadata": {
    "slideshow": {
     "slide_type": "subslide"
    }
   },
   "source": [
    "We can also do a right join. This keeps all of the films, adding the book data where applicable. If there is no book, the cells are populated with `NaN`."
   ]
  },
  {
   "cell_type": "code",
   "execution_count": 44,
   "metadata": {
    "slideshow": {
     "slide_type": "fragment"
    }
   },
   "outputs": [
    {
     "data": {
      "text/html": [
       "<div>\n",
       "<style scoped>\n",
       "    .dataframe tbody tr th:only-of-type {\n",
       "        vertical-align: middle;\n",
       "    }\n",
       "\n",
       "    .dataframe tbody tr th {\n",
       "        vertical-align: top;\n",
       "    }\n",
       "\n",
       "    .dataframe thead th {\n",
       "        text-align: right;\n",
       "    }\n",
       "</style>\n",
       "<table border=\"1\" class=\"dataframe\">\n",
       "  <thead>\n",
       "    <tr style=\"text-align: right;\">\n",
       "      <th></th>\n",
       "      <th>Author</th>\n",
       "      <th>Year of First Film</th>\n",
       "      <th>Number of Films</th>\n",
       "    </tr>\n",
       "  </thead>\n",
       "  <tbody>\n",
       "    <tr>\n",
       "      <th>The Matrix</th>\n",
       "      <td>NaN</td>\n",
       "      <td>1999</td>\n",
       "      <td>3</td>\n",
       "    </tr>\n",
       "    <tr>\n",
       "      <th>The Lord of the Rings</th>\n",
       "      <td>J. R. R. Tolkien</td>\n",
       "      <td>2001</td>\n",
       "      <td>2</td>\n",
       "    </tr>\n",
       "    <tr>\n",
       "      <th>Harry Potter</th>\n",
       "      <td>J. K. Rowling</td>\n",
       "      <td>2001</td>\n",
       "      <td>8</td>\n",
       "    </tr>\n",
       "    <tr>\n",
       "      <th>The Hunger Games</th>\n",
       "      <td>Suzanne Collins</td>\n",
       "      <td>2012</td>\n",
       "      <td>4</td>\n",
       "    </tr>\n",
       "  </tbody>\n",
       "</table>\n",
       "</div>"
      ],
      "text/plain": [
       "                                 Author  Year of First Film  Number of Films\n",
       "The Matrix                          NaN                1999                3\n",
       "The Lord of the Rings  J. R. R. Tolkien                2001                2\n",
       "Harry Potter              J. K. Rowling                2001                8\n",
       "The Hunger Games        Suzanne Collins                2012                4"
      ]
     },
     "execution_count": 44,
     "metadata": {},
     "output_type": "execute_result"
    }
   ],
   "source": [
    "books.join(films, how='right')"
   ]
  },
  {
   "cell_type": "markdown",
   "metadata": {
    "slideshow": {
     "slide_type": "fragment"
    }
   },
   "source": [
    "This is almost equivalent to `films.join(books)` (or `films.join(books, how='left')`), with the exception of the order in which the columns appear"
   ]
  },
  {
   "cell_type": "markdown",
   "metadata": {
    "slideshow": {
     "slide_type": "subslide"
    }
   },
   "source": [
    "If we want to keep all of the data (book **OR** film), we can use an outer join"
   ]
  },
  {
   "cell_type": "code",
   "execution_count": 45,
   "metadata": {
    "slideshow": {
     "slide_type": "fragment"
    }
   },
   "outputs": [
    {
     "data": {
      "text/html": [
       "<div>\n",
       "<style scoped>\n",
       "    .dataframe tbody tr th:only-of-type {\n",
       "        vertical-align: middle;\n",
       "    }\n",
       "\n",
       "    .dataframe tbody tr th {\n",
       "        vertical-align: top;\n",
       "    }\n",
       "\n",
       "    .dataframe thead th {\n",
       "        text-align: right;\n",
       "    }\n",
       "</style>\n",
       "<table border=\"1\" class=\"dataframe\">\n",
       "  <thead>\n",
       "    <tr style=\"text-align: right;\">\n",
       "      <th></th>\n",
       "      <th>Year of First Film</th>\n",
       "      <th>Number of Films</th>\n",
       "      <th>Author</th>\n",
       "    </tr>\n",
       "  </thead>\n",
       "  <tbody>\n",
       "    <tr>\n",
       "      <th>Game of Thrones</th>\n",
       "      <td>NaN</td>\n",
       "      <td>NaN</td>\n",
       "      <td>George R. R. Martin</td>\n",
       "    </tr>\n",
       "    <tr>\n",
       "      <th>Harry Potter</th>\n",
       "      <td>2001.0</td>\n",
       "      <td>8.0</td>\n",
       "      <td>J. K. Rowling</td>\n",
       "    </tr>\n",
       "    <tr>\n",
       "      <th>The Hunger Games</th>\n",
       "      <td>2012.0</td>\n",
       "      <td>4.0</td>\n",
       "      <td>Suzanne Collins</td>\n",
       "    </tr>\n",
       "    <tr>\n",
       "      <th>The Lord of the Rings</th>\n",
       "      <td>2001.0</td>\n",
       "      <td>2.0</td>\n",
       "      <td>J. R. R. Tolkien</td>\n",
       "    </tr>\n",
       "    <tr>\n",
       "      <th>The Matrix</th>\n",
       "      <td>1999.0</td>\n",
       "      <td>3.0</td>\n",
       "      <td>NaN</td>\n",
       "    </tr>\n",
       "  </tbody>\n",
       "</table>\n",
       "</div>"
      ],
      "text/plain": [
       "                       Year of First Film  Number of Films  \\\n",
       "Game of Thrones                       NaN              NaN   \n",
       "Harry Potter                       2001.0              8.0   \n",
       "The Hunger Games                   2012.0              4.0   \n",
       "The Lord of the Rings              2001.0              2.0   \n",
       "The Matrix                         1999.0              3.0   \n",
       "\n",
       "                                    Author  \n",
       "Game of Thrones        George R. R. Martin  \n",
       "Harry Potter                 J. K. Rowling  \n",
       "The Hunger Games           Suzanne Collins  \n",
       "The Lord of the Rings     J. R. R. Tolkien  \n",
       "The Matrix                             NaN  "
      ]
     },
     "execution_count": 45,
     "metadata": {},
     "output_type": "execute_result"
    }
   ],
   "source": [
    "films.join(books, how='outer')"
   ]
  },
  {
   "cell_type": "markdown",
   "metadata": {
    "slideshow": {
     "slide_type": "subslide"
    }
   },
   "source": [
    "And if we only want to keep the data (book **AND** film), we can use an inner join"
   ]
  },
  {
   "cell_type": "code",
   "execution_count": 46,
   "metadata": {
    "slideshow": {
     "slide_type": "fragment"
    }
   },
   "outputs": [
    {
     "data": {
      "text/html": [
       "<div>\n",
       "<style scoped>\n",
       "    .dataframe tbody tr th:only-of-type {\n",
       "        vertical-align: middle;\n",
       "    }\n",
       "\n",
       "    .dataframe tbody tr th {\n",
       "        vertical-align: top;\n",
       "    }\n",
       "\n",
       "    .dataframe thead th {\n",
       "        text-align: right;\n",
       "    }\n",
       "</style>\n",
       "<table border=\"1\" class=\"dataframe\">\n",
       "  <thead>\n",
       "    <tr style=\"text-align: right;\">\n",
       "      <th></th>\n",
       "      <th>Year of First Film</th>\n",
       "      <th>Number of Films</th>\n",
       "      <th>Author</th>\n",
       "    </tr>\n",
       "  </thead>\n",
       "  <tbody>\n",
       "    <tr>\n",
       "      <th>The Lord of the Rings</th>\n",
       "      <td>2001</td>\n",
       "      <td>2</td>\n",
       "      <td>J. R. R. Tolkien</td>\n",
       "    </tr>\n",
       "    <tr>\n",
       "      <th>Harry Potter</th>\n",
       "      <td>2001</td>\n",
       "      <td>8</td>\n",
       "      <td>J. K. Rowling</td>\n",
       "    </tr>\n",
       "    <tr>\n",
       "      <th>The Hunger Games</th>\n",
       "      <td>2012</td>\n",
       "      <td>4</td>\n",
       "      <td>Suzanne Collins</td>\n",
       "    </tr>\n",
       "  </tbody>\n",
       "</table>\n",
       "</div>"
      ],
      "text/plain": [
       "                       Year of First Film  Number of Films            Author\n",
       "The Lord of the Rings                2001                2  J. R. R. Tolkien\n",
       "Harry Potter                         2001                8     J. K. Rowling\n",
       "The Hunger Games                     2012                4   Suzanne Collins"
      ]
     },
     "execution_count": 46,
     "metadata": {},
     "output_type": "execute_result"
    }
   ],
   "source": [
    "films.join(books, how='inner')"
   ]
  },
  {
   "cell_type": "markdown",
   "metadata": {
    "slideshow": {
     "slide_type": "subslide"
    }
   },
   "source": [
    "You should choose the join type based on what your resulting data table is intended to describe"
   ]
  },
  {
   "cell_type": "markdown",
   "metadata": {
    "slideshow": {
     "slide_type": "fragment"
    }
   },
   "source": [
    "For instance, the inner join gave us a table of films based on books"
   ]
  },
  {
   "cell_type": "markdown",
   "metadata": {
    "slideshow": {
     "slide_type": "fragment"
    }
   },
   "source": [
    "Contrarily, the left join gave us a list of books with additional information on the film (if any)"
   ]
  },
  {
   "cell_type": "markdown",
   "metadata": {
    "slideshow": {
     "slide_type": "subslide"
    }
   },
   "source": [
    "Once again, remember that `.join` is not modifying the dataframe, so if you want to save the result, assign it to either the same or a different variable with an appropriate name\n",
    "\n",
    "    films = films.join(books, how='left')\n",
    "\n",
    "    books = films.join(books, how='right')\n",
    "    \n",
    "    films_based_on_books = films.join(books, how='inner')\n",
    "    \n",
    "    favourite_series = films.join(books, how='outer')"
   ]
  },
  {
   "cell_type": "markdown",
   "metadata": {
    "slideshow": {
     "slide_type": "subslide"
    }
   },
   "source": [
    "This table may be used as a reminder of the difference between the joins"
   ]
  },
  {
   "cell_type": "markdown",
   "metadata": {
    "slideshow": {
     "slide_type": "fragment"
    }
   },
   "source": [
    "\n",
    "| Type of Join   | Keeps Rows of Left Data | Keeps Rows of Right Data |\n",
    "| :------------- | ----------------------: | -----------------------: |\n",
    "| left (default) | yes                     | only if matching left    |\n",
    "| right          | only if matching right  | yes                      |\n",
    "| outer          | yes                     | yes                      |\n",
    "| inner          | only if matching right  | only if matching left    |"
   ]
  },
  {
   "cell_type": "markdown",
   "metadata": {
    "slideshow": {
     "slide_type": "subslide"
    }
   },
   "source": [
    "### Joining Different Columns"
   ]
  },
  {
   "cell_type": "markdown",
   "metadata": {
    "slideshow": {
     "slide_type": "subslide"
    }
   },
   "source": [
    "`.join` joins by comparing indexes of each dataframe"
   ]
  },
  {
   "cell_type": "markdown",
   "metadata": {
    "slideshow": {
     "slide_type": "subslide"
    }
   },
   "source": [
    "Sometimes the key column(s) is not the index (particularly if you are using default indexing)"
   ]
  },
  {
   "cell_type": "markdown",
   "metadata": {
    "slideshow": {
     "slide_type": "subslide"
    }
   },
   "source": [
    "If you need to join based on columns other than the index, you should use `merge`"
   ]
  },
  {
   "cell_type": "markdown",
   "metadata": {
    "slideshow": {
     "slide_type": "subslide"
    }
   },
   "source": [
    "For example, it is possible that we would encounter data with default indexes as follows:"
   ]
  },
  {
   "cell_type": "code",
   "execution_count": 47,
   "metadata": {
    "cell_style": "split",
    "slideshow": {
     "slide_type": "fragment"
    }
   },
   "outputs": [
    {
     "data": {
      "text/html": [
       "<div>\n",
       "<style scoped>\n",
       "    .dataframe tbody tr th:only-of-type {\n",
       "        vertical-align: middle;\n",
       "    }\n",
       "\n",
       "    .dataframe tbody tr th {\n",
       "        vertical-align: top;\n",
       "    }\n",
       "\n",
       "    .dataframe thead th {\n",
       "        text-align: right;\n",
       "    }\n",
       "</style>\n",
       "<table border=\"1\" class=\"dataframe\">\n",
       "  <thead>\n",
       "    <tr style=\"text-align: right;\">\n",
       "      <th></th>\n",
       "      <th>Book Series Title</th>\n",
       "      <th>Author</th>\n",
       "    </tr>\n",
       "  </thead>\n",
       "  <tbody>\n",
       "    <tr>\n",
       "      <th>0</th>\n",
       "      <td>The Lord of the Rings</td>\n",
       "      <td>J. R. R. Tolkien</td>\n",
       "    </tr>\n",
       "    <tr>\n",
       "      <th>1</th>\n",
       "      <td>Game of Thrones</td>\n",
       "      <td>George R. R. Martin</td>\n",
       "    </tr>\n",
       "    <tr>\n",
       "      <th>2</th>\n",
       "      <td>Harry Potter</td>\n",
       "      <td>J. K. Rowling</td>\n",
       "    </tr>\n",
       "    <tr>\n",
       "      <th>3</th>\n",
       "      <td>The Hunger Games</td>\n",
       "      <td>Suzanne Collins</td>\n",
       "    </tr>\n",
       "  </tbody>\n",
       "</table>\n",
       "</div>"
      ],
      "text/plain": [
       "       Book Series Title               Author\n",
       "0  The Lord of the Rings     J. R. R. Tolkien\n",
       "1        Game of Thrones  George R. R. Martin\n",
       "2           Harry Potter        J. K. Rowling\n",
       "3       The Hunger Games      Suzanne Collins"
      ]
     },
     "execution_count": 47,
     "metadata": {},
     "output_type": "execute_result"
    }
   ],
   "source": [
    "books = books.reset_index()\n",
    "books = books.rename(columns={'index' : 'Book Series Title'})\n",
    "books"
   ]
  },
  {
   "cell_type": "code",
   "execution_count": 48,
   "metadata": {
    "cell_style": "split",
    "slideshow": {
     "slide_type": "fragment"
    }
   },
   "outputs": [
    {
     "data": {
      "text/html": [
       "<div>\n",
       "<style scoped>\n",
       "    .dataframe tbody tr th:only-of-type {\n",
       "        vertical-align: middle;\n",
       "    }\n",
       "\n",
       "    .dataframe tbody tr th {\n",
       "        vertical-align: top;\n",
       "    }\n",
       "\n",
       "    .dataframe thead th {\n",
       "        text-align: right;\n",
       "    }\n",
       "</style>\n",
       "<table border=\"1\" class=\"dataframe\">\n",
       "  <thead>\n",
       "    <tr style=\"text-align: right;\">\n",
       "      <th></th>\n",
       "      <th>Film Series Title</th>\n",
       "      <th>Year of First Film</th>\n",
       "      <th>Number of Films</th>\n",
       "    </tr>\n",
       "  </thead>\n",
       "  <tbody>\n",
       "    <tr>\n",
       "      <th>0</th>\n",
       "      <td>The Matrix</td>\n",
       "      <td>1999</td>\n",
       "      <td>3</td>\n",
       "    </tr>\n",
       "    <tr>\n",
       "      <th>1</th>\n",
       "      <td>The Lord of the Rings</td>\n",
       "      <td>2001</td>\n",
       "      <td>2</td>\n",
       "    </tr>\n",
       "    <tr>\n",
       "      <th>2</th>\n",
       "      <td>Harry Potter</td>\n",
       "      <td>2001</td>\n",
       "      <td>8</td>\n",
       "    </tr>\n",
       "    <tr>\n",
       "      <th>3</th>\n",
       "      <td>The Hunger Games</td>\n",
       "      <td>2012</td>\n",
       "      <td>4</td>\n",
       "    </tr>\n",
       "  </tbody>\n",
       "</table>\n",
       "</div>"
      ],
      "text/plain": [
       "       Film Series Title  Year of First Film  Number of Films\n",
       "0             The Matrix                1999                3\n",
       "1  The Lord of the Rings                2001                2\n",
       "2           Harry Potter                2001                8\n",
       "3       The Hunger Games                2012                4"
      ]
     },
     "execution_count": 48,
     "metadata": {},
     "output_type": "execute_result"
    }
   ],
   "source": [
    "films = films.reset_index()\n",
    "films = films.rename(columns={'index' : 'Film Series Title'})\n",
    "films"
   ]
  },
  {
   "cell_type": "markdown",
   "metadata": {
    "slideshow": {
     "slide_type": "subslide"
    }
   },
   "source": [
    "If we join on the index, the result is nonsense!"
   ]
  },
  {
   "cell_type": "code",
   "execution_count": 49,
   "metadata": {
    "slideshow": {
     "slide_type": "fragment"
    }
   },
   "outputs": [
    {
     "data": {
      "text/html": [
       "<div>\n",
       "<style scoped>\n",
       "    .dataframe tbody tr th:only-of-type {\n",
       "        vertical-align: middle;\n",
       "    }\n",
       "\n",
       "    .dataframe tbody tr th {\n",
       "        vertical-align: top;\n",
       "    }\n",
       "\n",
       "    .dataframe thead th {\n",
       "        text-align: right;\n",
       "    }\n",
       "</style>\n",
       "<table border=\"1\" class=\"dataframe\">\n",
       "  <thead>\n",
       "    <tr style=\"text-align: right;\">\n",
       "      <th></th>\n",
       "      <th>Book Series Title</th>\n",
       "      <th>Author</th>\n",
       "      <th>Film Series Title</th>\n",
       "      <th>Year of First Film</th>\n",
       "      <th>Number of Films</th>\n",
       "    </tr>\n",
       "  </thead>\n",
       "  <tbody>\n",
       "    <tr>\n",
       "      <th>0</th>\n",
       "      <td>The Lord of the Rings</td>\n",
       "      <td>J. R. R. Tolkien</td>\n",
       "      <td>The Matrix</td>\n",
       "      <td>1999</td>\n",
       "      <td>3</td>\n",
       "    </tr>\n",
       "    <tr>\n",
       "      <th>1</th>\n",
       "      <td>Game of Thrones</td>\n",
       "      <td>George R. R. Martin</td>\n",
       "      <td>The Lord of the Rings</td>\n",
       "      <td>2001</td>\n",
       "      <td>2</td>\n",
       "    </tr>\n",
       "    <tr>\n",
       "      <th>2</th>\n",
       "      <td>Harry Potter</td>\n",
       "      <td>J. K. Rowling</td>\n",
       "      <td>Harry Potter</td>\n",
       "      <td>2001</td>\n",
       "      <td>8</td>\n",
       "    </tr>\n",
       "    <tr>\n",
       "      <th>3</th>\n",
       "      <td>The Hunger Games</td>\n",
       "      <td>Suzanne Collins</td>\n",
       "      <td>The Hunger Games</td>\n",
       "      <td>2012</td>\n",
       "      <td>4</td>\n",
       "    </tr>\n",
       "  </tbody>\n",
       "</table>\n",
       "</div>"
      ],
      "text/plain": [
       "       Book Series Title               Author      Film Series Title  \\\n",
       "0  The Lord of the Rings     J. R. R. Tolkien             The Matrix   \n",
       "1        Game of Thrones  George R. R. Martin  The Lord of the Rings   \n",
       "2           Harry Potter        J. K. Rowling           Harry Potter   \n",
       "3       The Hunger Games      Suzanne Collins       The Hunger Games   \n",
       "\n",
       "   Year of First Film  Number of Films  \n",
       "0                1999                3  \n",
       "1                2001                2  \n",
       "2                2001                8  \n",
       "3                2012                4  "
      ]
     },
     "execution_count": 49,
     "metadata": {},
     "output_type": "execute_result"
    }
   ],
   "source": [
    "books.join(films) # WRONG"
   ]
  },
  {
   "cell_type": "markdown",
   "metadata": {
    "slideshow": {
     "slide_type": "subslide"
    }
   },
   "source": [
    "We could change the `Book Series Title` and `Film Series Title` to indexes and join with `.join`"
   ]
  },
  {
   "cell_type": "markdown",
   "metadata": {
    "slideshow": {
     "slide_type": "fragment"
    }
   },
   "source": [
    "Or we can use `.merge`, in which left, right, outer, and inner joins work the same way"
   ]
  },
  {
   "cell_type": "markdown",
   "metadata": {
    "slideshow": {
     "slide_type": "fragment"
    }
   },
   "source": [
    "However, it is not the index we are comparing, it is the column specified with `left_on=` and `right_on=`"
   ]
  },
  {
   "cell_type": "code",
   "execution_count": 50,
   "metadata": {
    "slideshow": {
     "slide_type": "subslide"
    }
   },
   "outputs": [
    {
     "data": {
      "text/html": [
       "<div>\n",
       "<style scoped>\n",
       "    .dataframe tbody tr th:only-of-type {\n",
       "        vertical-align: middle;\n",
       "    }\n",
       "\n",
       "    .dataframe tbody tr th {\n",
       "        vertical-align: top;\n",
       "    }\n",
       "\n",
       "    .dataframe thead th {\n",
       "        text-align: right;\n",
       "    }\n",
       "</style>\n",
       "<table border=\"1\" class=\"dataframe\">\n",
       "  <thead>\n",
       "    <tr style=\"text-align: right;\">\n",
       "      <th></th>\n",
       "      <th>Book Series Title</th>\n",
       "      <th>Author</th>\n",
       "      <th>Film Series Title</th>\n",
       "      <th>Year of First Film</th>\n",
       "      <th>Number of Films</th>\n",
       "    </tr>\n",
       "  </thead>\n",
       "  <tbody>\n",
       "    <tr>\n",
       "      <th>0</th>\n",
       "      <td>The Lord of the Rings</td>\n",
       "      <td>J. R. R. Tolkien</td>\n",
       "      <td>The Lord of the Rings</td>\n",
       "      <td>2001</td>\n",
       "      <td>2</td>\n",
       "    </tr>\n",
       "    <tr>\n",
       "      <th>1</th>\n",
       "      <td>Harry Potter</td>\n",
       "      <td>J. K. Rowling</td>\n",
       "      <td>Harry Potter</td>\n",
       "      <td>2001</td>\n",
       "      <td>8</td>\n",
       "    </tr>\n",
       "    <tr>\n",
       "      <th>2</th>\n",
       "      <td>The Hunger Games</td>\n",
       "      <td>Suzanne Collins</td>\n",
       "      <td>The Hunger Games</td>\n",
       "      <td>2012</td>\n",
       "      <td>4</td>\n",
       "    </tr>\n",
       "  </tbody>\n",
       "</table>\n",
       "</div>"
      ],
      "text/plain": [
       "       Book Series Title            Author      Film Series Title  \\\n",
       "0  The Lord of the Rings  J. R. R. Tolkien  The Lord of the Rings   \n",
       "1           Harry Potter     J. K. Rowling           Harry Potter   \n",
       "2       The Hunger Games   Suzanne Collins       The Hunger Games   \n",
       "\n",
       "   Year of First Film  Number of Films  \n",
       "0                2001                2  \n",
       "1                2001                8  \n",
       "2                2012                4  "
      ]
     },
     "execution_count": 50,
     "metadata": {},
     "output_type": "execute_result"
    }
   ],
   "source": [
    "books.merge(films,\n",
    "            how='inner',\n",
    "            left_on='Book Series Title',\n",
    "            right_on='Film Series Title')"
   ]
  },
  {
   "cell_type": "markdown",
   "metadata": {
    "slideshow": {
     "slide_type": "subslide"
    }
   },
   "source": [
    "### Data Aggregation"
   ]
  },
  {
   "cell_type": "markdown",
   "metadata": {
    "slideshow": {
     "slide_type": "subslide"
    }
   },
   "source": [
    "Before continuing, we will re set the index of the books"
   ]
  },
  {
   "cell_type": "code",
   "execution_count": 51,
   "metadata": {
    "slideshow": {
     "slide_type": "fragment"
    }
   },
   "outputs": [
    {
     "data": {
      "text/html": [
       "<div>\n",
       "<style scoped>\n",
       "    .dataframe tbody tr th:only-of-type {\n",
       "        vertical-align: middle;\n",
       "    }\n",
       "\n",
       "    .dataframe tbody tr th {\n",
       "        vertical-align: top;\n",
       "    }\n",
       "\n",
       "    .dataframe thead th {\n",
       "        text-align: right;\n",
       "    }\n",
       "</style>\n",
       "<table border=\"1\" class=\"dataframe\">\n",
       "  <thead>\n",
       "    <tr style=\"text-align: right;\">\n",
       "      <th></th>\n",
       "      <th>Author</th>\n",
       "    </tr>\n",
       "    <tr>\n",
       "      <th>Book Series Title</th>\n",
       "      <th></th>\n",
       "    </tr>\n",
       "  </thead>\n",
       "  <tbody>\n",
       "    <tr>\n",
       "      <th>The Lord of the Rings</th>\n",
       "      <td>J. R. R. Tolkien</td>\n",
       "    </tr>\n",
       "    <tr>\n",
       "      <th>Game of Thrones</th>\n",
       "      <td>George R. R. Martin</td>\n",
       "    </tr>\n",
       "    <tr>\n",
       "      <th>Harry Potter</th>\n",
       "      <td>J. K. Rowling</td>\n",
       "    </tr>\n",
       "    <tr>\n",
       "      <th>The Hunger Games</th>\n",
       "      <td>Suzanne Collins</td>\n",
       "    </tr>\n",
       "  </tbody>\n",
       "</table>\n",
       "</div>"
      ],
      "text/plain": [
       "                                    Author\n",
       "Book Series Title                         \n",
       "The Lord of the Rings     J. R. R. Tolkien\n",
       "Game of Thrones        George R. R. Martin\n",
       "Harry Potter                 J. K. Rowling\n",
       "The Hunger Games           Suzanne Collins"
      ]
     },
     "execution_count": 51,
     "metadata": {},
     "output_type": "execute_result"
    }
   ],
   "source": [
    "books = books.set_index('Book Series Title', drop=True)\n",
    "books"
   ]
  },
  {
   "cell_type": "markdown",
   "metadata": {
    "slideshow": {
     "slide_type": "subslide"
    }
   },
   "source": [
    "Let's import a dataset of a list of books"
   ]
  },
  {
   "cell_type": "code",
   "execution_count": 52,
   "metadata": {
    "slideshow": {
     "slide_type": "fragment"
    }
   },
   "outputs": [
    {
     "data": {
      "text/html": [
       "<div>\n",
       "<style scoped>\n",
       "    .dataframe tbody tr th:only-of-type {\n",
       "        vertical-align: middle;\n",
       "    }\n",
       "\n",
       "    .dataframe tbody tr th {\n",
       "        vertical-align: top;\n",
       "    }\n",
       "\n",
       "    .dataframe thead th {\n",
       "        text-align: right;\n",
       "    }\n",
       "</style>\n",
       "<table border=\"1\" class=\"dataframe\">\n",
       "  <thead>\n",
       "    <tr style=\"text-align: right;\">\n",
       "      <th></th>\n",
       "      <th>Series</th>\n",
       "      <th>Title</th>\n",
       "      <th>Rating</th>\n",
       "      <th>Year</th>\n",
       "    </tr>\n",
       "  </thead>\n",
       "  <tbody>\n",
       "    <tr>\n",
       "      <th>0</th>\n",
       "      <td>Harry Potter</td>\n",
       "      <td>Harry Potter and the Philosopher's Stone</td>\n",
       "      <td>4.47</td>\n",
       "      <td>1997</td>\n",
       "    </tr>\n",
       "    <tr>\n",
       "      <th>1</th>\n",
       "      <td>Harry Potter</td>\n",
       "      <td>Harry Potter and the Chamber of Secrets</td>\n",
       "      <td>4.42</td>\n",
       "      <td>1998</td>\n",
       "    </tr>\n",
       "    <tr>\n",
       "      <th>2</th>\n",
       "      <td>Harry Potter</td>\n",
       "      <td>Harry Potter and the Prisoner of Azkaban</td>\n",
       "      <td>4.56</td>\n",
       "      <td>1999</td>\n",
       "    </tr>\n",
       "    <tr>\n",
       "      <th>3</th>\n",
       "      <td>Harry Potter</td>\n",
       "      <td>Harry Potter and the Goblet of Fire</td>\n",
       "      <td>4.55</td>\n",
       "      <td>2000</td>\n",
       "    </tr>\n",
       "    <tr>\n",
       "      <th>4</th>\n",
       "      <td>Harry Potter</td>\n",
       "      <td>Harry Potter and the Order of the Phoenix</td>\n",
       "      <td>4.49</td>\n",
       "      <td>2003</td>\n",
       "    </tr>\n",
       "    <tr>\n",
       "      <th>5</th>\n",
       "      <td>Harry Potter</td>\n",
       "      <td>Harry Potter and the Half-Blood Prince</td>\n",
       "      <td>4.57</td>\n",
       "      <td>2005</td>\n",
       "    </tr>\n",
       "    <tr>\n",
       "      <th>6</th>\n",
       "      <td>Harry Potter</td>\n",
       "      <td>Harry Potter and the Deathly Hallows</td>\n",
       "      <td>4.61</td>\n",
       "      <td>2007</td>\n",
       "    </tr>\n",
       "    <tr>\n",
       "      <th>7</th>\n",
       "      <td>The Lord of the Rings</td>\n",
       "      <td>The Fellowship of the Ring</td>\n",
       "      <td>4.36</td>\n",
       "      <td>1954</td>\n",
       "    </tr>\n",
       "    <tr>\n",
       "      <th>8</th>\n",
       "      <td>The Lord of the Rings</td>\n",
       "      <td>The Two Towers</td>\n",
       "      <td>4.44</td>\n",
       "      <td>1954</td>\n",
       "    </tr>\n",
       "    <tr>\n",
       "      <th>9</th>\n",
       "      <td>The Lord of the Rings</td>\n",
       "      <td>The Return of the King</td>\n",
       "      <td>4.53</td>\n",
       "      <td>1955</td>\n",
       "    </tr>\n",
       "    <tr>\n",
       "      <th>10</th>\n",
       "      <td>Game of Thrones</td>\n",
       "      <td>A Game of Thrones</td>\n",
       "      <td>4.45</td>\n",
       "      <td>1996</td>\n",
       "    </tr>\n",
       "    <tr>\n",
       "      <th>11</th>\n",
       "      <td>Game of Thrones</td>\n",
       "      <td>A Clash of Kings</td>\n",
       "      <td>4.41</td>\n",
       "      <td>1998</td>\n",
       "    </tr>\n",
       "    <tr>\n",
       "      <th>12</th>\n",
       "      <td>Game of Thrones</td>\n",
       "      <td>A Storm of Swords</td>\n",
       "      <td>4.54</td>\n",
       "      <td>2000</td>\n",
       "    </tr>\n",
       "    <tr>\n",
       "      <th>13</th>\n",
       "      <td>Game of Thrones</td>\n",
       "      <td>A Feast for Crows</td>\n",
       "      <td>4.13</td>\n",
       "      <td>2005</td>\n",
       "    </tr>\n",
       "    <tr>\n",
       "      <th>14</th>\n",
       "      <td>Game of Thrones</td>\n",
       "      <td>A Dance with Dragons</td>\n",
       "      <td>4.33</td>\n",
       "      <td>2011</td>\n",
       "    </tr>\n",
       "    <tr>\n",
       "      <th>15</th>\n",
       "      <td>The Hunger Games</td>\n",
       "      <td>The Hunger Games</td>\n",
       "      <td>4.33</td>\n",
       "      <td>2008</td>\n",
       "    </tr>\n",
       "    <tr>\n",
       "      <th>16</th>\n",
       "      <td>The Hunger Games</td>\n",
       "      <td>Catching Fire</td>\n",
       "      <td>4.29</td>\n",
       "      <td>2009</td>\n",
       "    </tr>\n",
       "    <tr>\n",
       "      <th>17</th>\n",
       "      <td>The Hunger Games</td>\n",
       "      <td>Mockingjay</td>\n",
       "      <td>4.03</td>\n",
       "      <td>2010</td>\n",
       "    </tr>\n",
       "  </tbody>\n",
       "</table>\n",
       "</div>"
      ],
      "text/plain": [
       "                   Series                                      Title  Rating  \\\n",
       "0            Harry Potter   Harry Potter and the Philosopher's Stone    4.47   \n",
       "1            Harry Potter    Harry Potter and the Chamber of Secrets    4.42   \n",
       "2            Harry Potter   Harry Potter and the Prisoner of Azkaban    4.56   \n",
       "3            Harry Potter        Harry Potter and the Goblet of Fire    4.55   \n",
       "4            Harry Potter  Harry Potter and the Order of the Phoenix    4.49   \n",
       "5            Harry Potter     Harry Potter and the Half-Blood Prince    4.57   \n",
       "6            Harry Potter       Harry Potter and the Deathly Hallows    4.61   \n",
       "7   The Lord of the Rings                 The Fellowship of the Ring    4.36   \n",
       "8   The Lord of the Rings                             The Two Towers    4.44   \n",
       "9   The Lord of the Rings                     The Return of the King    4.53   \n",
       "10        Game of Thrones                          A Game of Thrones    4.45   \n",
       "11        Game of Thrones                           A Clash of Kings    4.41   \n",
       "12        Game of Thrones                          A Storm of Swords    4.54   \n",
       "13        Game of Thrones                          A Feast for Crows    4.13   \n",
       "14        Game of Thrones                       A Dance with Dragons    4.33   \n",
       "15       The Hunger Games                           The Hunger Games    4.33   \n",
       "16       The Hunger Games                              Catching Fire    4.29   \n",
       "17       The Hunger Games                                 Mockingjay    4.03   \n",
       "\n",
       "    Year  \n",
       "0   1997  \n",
       "1   1998  \n",
       "2   1999  \n",
       "3   2000  \n",
       "4   2003  \n",
       "5   2005  \n",
       "6   2007  \n",
       "7   1954  \n",
       "8   1954  \n",
       "9   1955  \n",
       "10  1996  \n",
       "11  1998  \n",
       "12  2000  \n",
       "13  2005  \n",
       "14  2011  \n",
       "15  2008  \n",
       "16  2009  \n",
       "17  2010  "
      ]
     },
     "execution_count": 52,
     "metadata": {},
     "output_type": "execute_result"
    }
   ],
   "source": [
    "volumes = pd.read_csv('https://www.dropbox.com/s/9flqjjvetgbex97/volumes.csv?raw=1')\n",
    "volumes"
   ]
  },
  {
   "cell_type": "markdown",
   "metadata": {
    "slideshow": {
     "slide_type": "subslide"
    }
   },
   "source": [
    "We want to summarise by series, the `.groupby` method gives you the name of the column which has the groups"
   ]
  },
  {
   "cell_type": "markdown",
   "metadata": {
    "slideshow": {
     "slide_type": "fragment"
    }
   },
   "source": [
    "The result is a Python object which we will use for the next step"
   ]
  },
  {
   "cell_type": "code",
   "execution_count": 53,
   "metadata": {
    "slideshow": {
     "slide_type": "fragment"
    }
   },
   "outputs": [
    {
     "data": {
      "text/plain": [
       "<pandas.core.groupby.generic.DataFrameGroupBy object at 0x000001F7E0FDFE10>"
      ]
     },
     "execution_count": 53,
     "metadata": {},
     "output_type": "execute_result"
    }
   ],
   "source": [
    "groups = volumes.groupby('Series')\n",
    "groups"
   ]
  },
  {
   "cell_type": "markdown",
   "metadata": {
    "slideshow": {
     "slide_type": "subslide"
    }
   },
   "source": [
    "We will use `count` and `mean` to work out the number of books and the average rating, and use `min` to work out the first publication year."
   ]
  },
  {
   "cell_type": "markdown",
   "metadata": {
    "slideshow": {
     "slide_type": "fragment"
    }
   },
   "source": [
    "Other operations available include `sum` and `max` (you can check others [here](https://pandas.pydata.org/pandas-docs/stable/reference/api/pandas.DataFrame.groupby.html))"
   ]
  },
  {
   "cell_type": "markdown",
   "metadata": {
    "slideshow": {
     "slide_type": "subslide"
    }
   },
   "source": [
    "Now we have our data summary by groups"
   ]
  },
  {
   "cell_type": "code",
   "execution_count": 54,
   "metadata": {
    "slideshow": {
     "slide_type": "fragment"
    }
   },
   "outputs": [
    {
     "data": {
      "text/html": [
       "<div>\n",
       "<style scoped>\n",
       "    .dataframe tbody tr th:only-of-type {\n",
       "        vertical-align: middle;\n",
       "    }\n",
       "\n",
       "    .dataframe tbody tr th {\n",
       "        vertical-align: top;\n",
       "    }\n",
       "\n",
       "    .dataframe thead tr th {\n",
       "        text-align: left;\n",
       "    }\n",
       "\n",
       "    .dataframe thead tr:last-of-type th {\n",
       "        text-align: right;\n",
       "    }\n",
       "</style>\n",
       "<table border=\"1\" class=\"dataframe\">\n",
       "  <thead>\n",
       "    <tr>\n",
       "      <th></th>\n",
       "      <th colspan=\"3\" halign=\"left\">Rating</th>\n",
       "      <th colspan=\"3\" halign=\"left\">Year</th>\n",
       "    </tr>\n",
       "    <tr>\n",
       "      <th></th>\n",
       "      <th>mean</th>\n",
       "      <th>min</th>\n",
       "      <th>count</th>\n",
       "      <th>mean</th>\n",
       "      <th>min</th>\n",
       "      <th>count</th>\n",
       "    </tr>\n",
       "    <tr>\n",
       "      <th>Series</th>\n",
       "      <th></th>\n",
       "      <th></th>\n",
       "      <th></th>\n",
       "      <th></th>\n",
       "      <th></th>\n",
       "      <th></th>\n",
       "    </tr>\n",
       "  </thead>\n",
       "  <tbody>\n",
       "    <tr>\n",
       "      <th>Game of Thrones</th>\n",
       "      <td>4.372000</td>\n",
       "      <td>4.13</td>\n",
       "      <td>5</td>\n",
       "      <td>2002.000000</td>\n",
       "      <td>1996</td>\n",
       "      <td>5</td>\n",
       "    </tr>\n",
       "    <tr>\n",
       "      <th>Harry Potter</th>\n",
       "      <td>4.524286</td>\n",
       "      <td>4.42</td>\n",
       "      <td>7</td>\n",
       "      <td>2001.285714</td>\n",
       "      <td>1997</td>\n",
       "      <td>7</td>\n",
       "    </tr>\n",
       "    <tr>\n",
       "      <th>The Hunger Games</th>\n",
       "      <td>4.216667</td>\n",
       "      <td>4.03</td>\n",
       "      <td>3</td>\n",
       "      <td>2009.000000</td>\n",
       "      <td>2008</td>\n",
       "      <td>3</td>\n",
       "    </tr>\n",
       "    <tr>\n",
       "      <th>The Lord of the Rings</th>\n",
       "      <td>4.443333</td>\n",
       "      <td>4.36</td>\n",
       "      <td>3</td>\n",
       "      <td>1954.333333</td>\n",
       "      <td>1954</td>\n",
       "      <td>3</td>\n",
       "    </tr>\n",
       "  </tbody>\n",
       "</table>\n",
       "</div>"
      ],
      "text/plain": [
       "                         Rating                     Year            \n",
       "                           mean   min count         mean   min count\n",
       "Series                                                              \n",
       "Game of Thrones        4.372000  4.13     5  2002.000000  1996     5\n",
       "Harry Potter           4.524286  4.42     7  2001.285714  1997     7\n",
       "The Hunger Games       4.216667  4.03     3  2009.000000  2008     3\n",
       "The Lord of the Rings  4.443333  4.36     3  1954.333333  1954     3"
      ]
     },
     "execution_count": 54,
     "metadata": {},
     "output_type": "execute_result"
    }
   ],
   "source": [
    "summary = groups.agg({'count', 'mean', 'min'})\n",
    "summary"
   ]
  },
  {
   "cell_type": "markdown",
   "metadata": {
    "slideshow": {
     "slide_type": "subslide"
    }
   },
   "source": [
    "### Joining Aggregation Data"
   ]
  },
  {
   "cell_type": "markdown",
   "metadata": {
    "slideshow": {
     "slide_type": "subslide"
    }
   },
   "source": [
    "We now have a dataframe with two sub-frames (one for `Rating` and one for `Year`) we can easily separate them"
   ]
  },
  {
   "cell_type": "code",
   "execution_count": 55,
   "metadata": {
    "cell_style": "split",
    "slideshow": {
     "slide_type": "fragment"
    }
   },
   "outputs": [
    {
     "data": {
      "text/html": [
       "<div>\n",
       "<style scoped>\n",
       "    .dataframe tbody tr th:only-of-type {\n",
       "        vertical-align: middle;\n",
       "    }\n",
       "\n",
       "    .dataframe tbody tr th {\n",
       "        vertical-align: top;\n",
       "    }\n",
       "\n",
       "    .dataframe thead th {\n",
       "        text-align: right;\n",
       "    }\n",
       "</style>\n",
       "<table border=\"1\" class=\"dataframe\">\n",
       "  <thead>\n",
       "    <tr style=\"text-align: right;\">\n",
       "      <th></th>\n",
       "      <th>mean</th>\n",
       "      <th>min</th>\n",
       "      <th>count</th>\n",
       "    </tr>\n",
       "    <tr>\n",
       "      <th>Series</th>\n",
       "      <th></th>\n",
       "      <th></th>\n",
       "      <th></th>\n",
       "    </tr>\n",
       "  </thead>\n",
       "  <tbody>\n",
       "    <tr>\n",
       "      <th>Game of Thrones</th>\n",
       "      <td>4.372000</td>\n",
       "      <td>4.13</td>\n",
       "      <td>5</td>\n",
       "    </tr>\n",
       "    <tr>\n",
       "      <th>Harry Potter</th>\n",
       "      <td>4.524286</td>\n",
       "      <td>4.42</td>\n",
       "      <td>7</td>\n",
       "    </tr>\n",
       "    <tr>\n",
       "      <th>The Hunger Games</th>\n",
       "      <td>4.216667</td>\n",
       "      <td>4.03</td>\n",
       "      <td>3</td>\n",
       "    </tr>\n",
       "    <tr>\n",
       "      <th>The Lord of the Rings</th>\n",
       "      <td>4.443333</td>\n",
       "      <td>4.36</td>\n",
       "      <td>3</td>\n",
       "    </tr>\n",
       "  </tbody>\n",
       "</table>\n",
       "</div>"
      ],
      "text/plain": [
       "                           mean   min  count\n",
       "Series                                      \n",
       "Game of Thrones        4.372000  4.13      5\n",
       "Harry Potter           4.524286  4.42      7\n",
       "The Hunger Games       4.216667  4.03      3\n",
       "The Lord of the Rings  4.443333  4.36      3"
      ]
     },
     "execution_count": 55,
     "metadata": {},
     "output_type": "execute_result"
    }
   ],
   "source": [
    "rating_summary = summary['Rating']\n",
    "rating_summary"
   ]
  },
  {
   "cell_type": "code",
   "execution_count": 56,
   "metadata": {
    "cell_style": "split",
    "slideshow": {
     "slide_type": "fragment"
    }
   },
   "outputs": [
    {
     "data": {
      "text/html": [
       "<div>\n",
       "<style scoped>\n",
       "    .dataframe tbody tr th:only-of-type {\n",
       "        vertical-align: middle;\n",
       "    }\n",
       "\n",
       "    .dataframe tbody tr th {\n",
       "        vertical-align: top;\n",
       "    }\n",
       "\n",
       "    .dataframe thead th {\n",
       "        text-align: right;\n",
       "    }\n",
       "</style>\n",
       "<table border=\"1\" class=\"dataframe\">\n",
       "  <thead>\n",
       "    <tr style=\"text-align: right;\">\n",
       "      <th></th>\n",
       "      <th>mean</th>\n",
       "      <th>min</th>\n",
       "      <th>count</th>\n",
       "    </tr>\n",
       "    <tr>\n",
       "      <th>Series</th>\n",
       "      <th></th>\n",
       "      <th></th>\n",
       "      <th></th>\n",
       "    </tr>\n",
       "  </thead>\n",
       "  <tbody>\n",
       "    <tr>\n",
       "      <th>Game of Thrones</th>\n",
       "      <td>2002.000000</td>\n",
       "      <td>1996</td>\n",
       "      <td>5</td>\n",
       "    </tr>\n",
       "    <tr>\n",
       "      <th>Harry Potter</th>\n",
       "      <td>2001.285714</td>\n",
       "      <td>1997</td>\n",
       "      <td>7</td>\n",
       "    </tr>\n",
       "    <tr>\n",
       "      <th>The Hunger Games</th>\n",
       "      <td>2009.000000</td>\n",
       "      <td>2008</td>\n",
       "      <td>3</td>\n",
       "    </tr>\n",
       "    <tr>\n",
       "      <th>The Lord of the Rings</th>\n",
       "      <td>1954.333333</td>\n",
       "      <td>1954</td>\n",
       "      <td>3</td>\n",
       "    </tr>\n",
       "  </tbody>\n",
       "</table>\n",
       "</div>"
      ],
      "text/plain": [
       "                              mean   min  count\n",
       "Series                                         \n",
       "Game of Thrones        2002.000000  1996      5\n",
       "Harry Potter           2001.285714  1997      7\n",
       "The Hunger Games       2009.000000  2008      3\n",
       "The Lord of the Rings  1954.333333  1954      3"
      ]
     },
     "execution_count": 56,
     "metadata": {},
     "output_type": "execute_result"
    }
   ],
   "source": [
    "year_summary = summary['Year']\n",
    "year_summary"
   ]
  },
  {
   "cell_type": "markdown",
   "metadata": {
    "slideshow": {
     "slide_type": "subslide"
    }
   },
   "source": [
    "Let's rename the columns for the `Ratings` aggregation, and remove the unneeded `min` column"
   ]
  },
  {
   "cell_type": "code",
   "execution_count": 57,
   "metadata": {
    "slideshow": {
     "slide_type": "fragment"
    }
   },
   "outputs": [
    {
     "data": {
      "text/html": [
       "<div>\n",
       "<style scoped>\n",
       "    .dataframe tbody tr th:only-of-type {\n",
       "        vertical-align: middle;\n",
       "    }\n",
       "\n",
       "    .dataframe tbody tr th {\n",
       "        vertical-align: top;\n",
       "    }\n",
       "\n",
       "    .dataframe thead th {\n",
       "        text-align: right;\n",
       "    }\n",
       "</style>\n",
       "<table border=\"1\" class=\"dataframe\">\n",
       "  <thead>\n",
       "    <tr style=\"text-align: right;\">\n",
       "      <th></th>\n",
       "      <th>Average Rating</th>\n",
       "      <th>Number of Books</th>\n",
       "    </tr>\n",
       "    <tr>\n",
       "      <th>Series</th>\n",
       "      <th></th>\n",
       "      <th></th>\n",
       "    </tr>\n",
       "  </thead>\n",
       "  <tbody>\n",
       "    <tr>\n",
       "      <th>Game of Thrones</th>\n",
       "      <td>4.372000</td>\n",
       "      <td>5</td>\n",
       "    </tr>\n",
       "    <tr>\n",
       "      <th>Harry Potter</th>\n",
       "      <td>4.524286</td>\n",
       "      <td>7</td>\n",
       "    </tr>\n",
       "    <tr>\n",
       "      <th>The Hunger Games</th>\n",
       "      <td>4.216667</td>\n",
       "      <td>3</td>\n",
       "    </tr>\n",
       "    <tr>\n",
       "      <th>The Lord of the Rings</th>\n",
       "      <td>4.443333</td>\n",
       "      <td>3</td>\n",
       "    </tr>\n",
       "  </tbody>\n",
       "</table>\n",
       "</div>"
      ],
      "text/plain": [
       "                       Average Rating  Number of Books\n",
       "Series                                                \n",
       "Game of Thrones              4.372000                5\n",
       "Harry Potter                 4.524286                7\n",
       "The Hunger Games             4.216667                3\n",
       "The Lord of the Rings        4.443333                3"
      ]
     },
     "execution_count": 57,
     "metadata": {},
     "output_type": "execute_result"
    }
   ],
   "source": [
    "rating_summary = summary['Rating'].rename(\n",
    "    columns={'mean' : 'Average Rating',\n",
    "             'count' : 'Number of Books'})\n",
    "rating_summary = rating_summary.drop(columns={'min'})\n",
    "rating_summary"
   ]
  },
  {
   "cell_type": "markdown",
   "metadata": {
    "slideshow": {
     "slide_type": "subslide"
    }
   },
   "source": [
    "We may also want to round off the average ratings"
   ]
  },
  {
   "cell_type": "code",
   "execution_count": 58,
   "metadata": {
    "slideshow": {
     "slide_type": "fragment"
    }
   },
   "outputs": [
    {
     "data": {
      "text/html": [
       "<div>\n",
       "<style scoped>\n",
       "    .dataframe tbody tr th:only-of-type {\n",
       "        vertical-align: middle;\n",
       "    }\n",
       "\n",
       "    .dataframe tbody tr th {\n",
       "        vertical-align: top;\n",
       "    }\n",
       "\n",
       "    .dataframe thead th {\n",
       "        text-align: right;\n",
       "    }\n",
       "</style>\n",
       "<table border=\"1\" class=\"dataframe\">\n",
       "  <thead>\n",
       "    <tr style=\"text-align: right;\">\n",
       "      <th></th>\n",
       "      <th>Average Rating</th>\n",
       "      <th>Number of Books</th>\n",
       "    </tr>\n",
       "    <tr>\n",
       "      <th>Series</th>\n",
       "      <th></th>\n",
       "      <th></th>\n",
       "    </tr>\n",
       "  </thead>\n",
       "  <tbody>\n",
       "    <tr>\n",
       "      <th>Game of Thrones</th>\n",
       "      <td>4.37</td>\n",
       "      <td>5</td>\n",
       "    </tr>\n",
       "    <tr>\n",
       "      <th>Harry Potter</th>\n",
       "      <td>4.52</td>\n",
       "      <td>7</td>\n",
       "    </tr>\n",
       "    <tr>\n",
       "      <th>The Hunger Games</th>\n",
       "      <td>4.22</td>\n",
       "      <td>3</td>\n",
       "    </tr>\n",
       "    <tr>\n",
       "      <th>The Lord of the Rings</th>\n",
       "      <td>4.44</td>\n",
       "      <td>3</td>\n",
       "    </tr>\n",
       "  </tbody>\n",
       "</table>\n",
       "</div>"
      ],
      "text/plain": [
       "                       Average Rating  Number of Books\n",
       "Series                                                \n",
       "Game of Thrones                  4.37                5\n",
       "Harry Potter                     4.52                7\n",
       "The Hunger Games                 4.22                3\n",
       "The Lord of the Rings            4.44                3"
      ]
     },
     "execution_count": 58,
     "metadata": {},
     "output_type": "execute_result"
    }
   ],
   "source": [
    "rating_summary['Average Rating'] = rating_summary['Average Rating'].round(2)\n",
    "\n",
    "rating_summary"
   ]
  },
  {
   "cell_type": "markdown",
   "metadata": {
    "slideshow": {
     "slide_type": "subslide"
    }
   },
   "source": [
    "Let's also rename the column from the `Year` aggregation and drop the other columns"
   ]
  },
  {
   "cell_type": "code",
   "execution_count": 59,
   "metadata": {
    "slideshow": {
     "slide_type": "fragment"
    }
   },
   "outputs": [
    {
     "data": {
      "text/html": [
       "<div>\n",
       "<style scoped>\n",
       "    .dataframe tbody tr th:only-of-type {\n",
       "        vertical-align: middle;\n",
       "    }\n",
       "\n",
       "    .dataframe tbody tr th {\n",
       "        vertical-align: top;\n",
       "    }\n",
       "\n",
       "    .dataframe thead th {\n",
       "        text-align: right;\n",
       "    }\n",
       "</style>\n",
       "<table border=\"1\" class=\"dataframe\">\n",
       "  <thead>\n",
       "    <tr style=\"text-align: right;\">\n",
       "      <th></th>\n",
       "      <th>First Published</th>\n",
       "    </tr>\n",
       "    <tr>\n",
       "      <th>Series</th>\n",
       "      <th></th>\n",
       "    </tr>\n",
       "  </thead>\n",
       "  <tbody>\n",
       "    <tr>\n",
       "      <th>Game of Thrones</th>\n",
       "      <td>1996</td>\n",
       "    </tr>\n",
       "    <tr>\n",
       "      <th>Harry Potter</th>\n",
       "      <td>1997</td>\n",
       "    </tr>\n",
       "    <tr>\n",
       "      <th>The Hunger Games</th>\n",
       "      <td>2008</td>\n",
       "    </tr>\n",
       "    <tr>\n",
       "      <th>The Lord of the Rings</th>\n",
       "      <td>1954</td>\n",
       "    </tr>\n",
       "  </tbody>\n",
       "</table>\n",
       "</div>"
      ],
      "text/plain": [
       "                       First Published\n",
       "Series                                \n",
       "Game of Thrones                   1996\n",
       "Harry Potter                      1997\n",
       "The Hunger Games                  2008\n",
       "The Lord of the Rings             1954"
      ]
     },
     "execution_count": 59,
     "metadata": {},
     "output_type": "execute_result"
    }
   ],
   "source": [
    "year_summary = year_summary.rename(columns={'min' : 'First Published'})\n",
    "year_summary = year_summary.drop(columns={'mean', 'count'})\n",
    "year_summary"
   ]
  },
  {
   "cell_type": "markdown",
   "metadata": {
    "slideshow": {
     "slide_type": "subslide"
    }
   },
   "source": [
    "Now we can join the `books`, `rating_summary` and `year_summary` dataframes"
   ]
  },
  {
   "cell_type": "markdown",
   "metadata": {
    "slideshow": {
     "slide_type": "fragment"
    }
   },
   "source": [
    "Since all have the same keys we don't need to worry about join type, but this is a left join so will keep everything in the `books` data frame if it didn't match"
   ]
  },
  {
   "cell_type": "code",
   "execution_count": 60,
   "metadata": {
    "slideshow": {
     "slide_type": "fragment"
    }
   },
   "outputs": [
    {
     "data": {
      "text/html": [
       "<div>\n",
       "<style scoped>\n",
       "    .dataframe tbody tr th:only-of-type {\n",
       "        vertical-align: middle;\n",
       "    }\n",
       "\n",
       "    .dataframe tbody tr th {\n",
       "        vertical-align: top;\n",
       "    }\n",
       "\n",
       "    .dataframe thead th {\n",
       "        text-align: right;\n",
       "    }\n",
       "</style>\n",
       "<table border=\"1\" class=\"dataframe\">\n",
       "  <thead>\n",
       "    <tr style=\"text-align: right;\">\n",
       "      <th></th>\n",
       "      <th>Author</th>\n",
       "      <th>Average Rating</th>\n",
       "      <th>Number of Books</th>\n",
       "      <th>First Published</th>\n",
       "    </tr>\n",
       "    <tr>\n",
       "      <th>Book Series Title</th>\n",
       "      <th></th>\n",
       "      <th></th>\n",
       "      <th></th>\n",
       "      <th></th>\n",
       "    </tr>\n",
       "  </thead>\n",
       "  <tbody>\n",
       "    <tr>\n",
       "      <th>The Lord of the Rings</th>\n",
       "      <td>J. R. R. Tolkien</td>\n",
       "      <td>4.44</td>\n",
       "      <td>3</td>\n",
       "      <td>1954</td>\n",
       "    </tr>\n",
       "    <tr>\n",
       "      <th>Game of Thrones</th>\n",
       "      <td>George R. R. Martin</td>\n",
       "      <td>4.37</td>\n",
       "      <td>5</td>\n",
       "      <td>1996</td>\n",
       "    </tr>\n",
       "    <tr>\n",
       "      <th>Harry Potter</th>\n",
       "      <td>J. K. Rowling</td>\n",
       "      <td>4.52</td>\n",
       "      <td>7</td>\n",
       "      <td>1997</td>\n",
       "    </tr>\n",
       "    <tr>\n",
       "      <th>The Hunger Games</th>\n",
       "      <td>Suzanne Collins</td>\n",
       "      <td>4.22</td>\n",
       "      <td>3</td>\n",
       "      <td>2008</td>\n",
       "    </tr>\n",
       "  </tbody>\n",
       "</table>\n",
       "</div>"
      ],
      "text/plain": [
       "                                    Author  Average Rating  Number of Books  \\\n",
       "Book Series Title                                                             \n",
       "The Lord of the Rings     J. R. R. Tolkien            4.44                3   \n",
       "Game of Thrones        George R. R. Martin            4.37                5   \n",
       "Harry Potter                 J. K. Rowling            4.52                7   \n",
       "The Hunger Games           Suzanne Collins            4.22                3   \n",
       "\n",
       "                       First Published  \n",
       "Book Series Title                       \n",
       "The Lord of the Rings             1954  \n",
       "Game of Thrones                   1996  \n",
       "Harry Potter                      1997  \n",
       "The Hunger Games                  2008  "
      ]
     },
     "execution_count": 60,
     "metadata": {},
     "output_type": "execute_result"
    }
   ],
   "source": [
    "books.join(rating_summary).join(year_summary)"
   ]
  },
  {
   "cell_type": "markdown",
   "metadata": {
    "slideshow": {
     "slide_type": "slide"
    }
   },
   "source": [
    "## Melt and Pivoting"
   ]
  },
  {
   "cell_type": "markdown",
   "metadata": {
    "slideshow": {
     "slide_type": "subslide"
    }
   },
   "source": [
    "### Wide vs Long Data (some real-life examples)"
   ]
  },
  {
   "cell_type": "markdown",
   "metadata": {
    "slideshow": {
     "slide_type": "subslide"
    }
   },
   "source": [
    "Wide data contains a column for each variable, and a row for each entity"
   ]
  },
  {
   "cell_type": "markdown",
   "metadata": {
    "slideshow": {
     "slide_type": "fragment"
    }
   },
   "source": [
    "The \"entity\" ID (in this case `Name`, but it could be an ID number etc.) is in the first column, or could be the index"
   ]
  },
  {
   "cell_type": "markdown",
   "metadata": {
    "slideshow": {
     "slide_type": "fragment"
    }
   },
   "source": [
    "| Name    | Age  | Height | Hair Colour |\n",
    "| ------: | ---: | -----: | :---------- |\n",
    "| Alice   |   36 |  1.68  | Blonde      |\n",
    "| Bob     |   28 |  1.73  | Red         |\n",
    "| Charlie |   29 |  1.60  | -           |"
   ]
  },
  {
   "cell_type": "markdown",
   "metadata": {
    "slideshow": {
     "slide_type": "subslide"
    }
   },
   "source": [
    "Long data contains a row for each observation of a variable"
   ]
  },
  {
   "cell_type": "markdown",
   "metadata": {
    "slideshow": {
     "slide_type": "fragment"
    }
   },
   "source": [
    "his is also called entity-attribute-value data"
   ]
  },
  {
   "cell_type": "markdown",
   "metadata": {
    "slideshow": {
     "slide_type": "fragment"
    }
   },
   "source": [
    "Note that rows can be omitted if there is missing data"
   ]
  },
  {
   "cell_type": "markdown",
   "metadata": {
    "slideshow": {
     "slide_type": "fragment"
    }
   },
   "source": [
    "| Entity ID | Attribute / Variable   |   Value |\n",
    "| --------: | :--------------------- | ------: |\n",
    "| Alice     | Age                    |      36 |\n",
    "| Bob       | Age                    |      28 |\n",
    "| Charlie   | Age                    |      29 |\n",
    "| Alice     | Height                 |    1.68 |\n",
    "| Bob       | Height                 |    1.73 |\n",
    "| Charlie   | Height                 |    1.60 |\n",
    "| Alice     | Hair Colour            |  Blonde |\n",
    "| Bob       | Hair Colour            |     Red |"
   ]
  },
  {
   "cell_type": "markdown",
   "metadata": {
    "slideshow": {
     "slide_type": "subslide"
    }
   },
   "source": [
    "### Tidy Data"
   ]
  },
  {
   "cell_type": "markdown",
   "metadata": {
    "slideshow": {
     "slide_type": "fragment"
    }
   },
   "source": [
    "Defined by Hadley Wickham in [this article](https://vita.had.co.nz/papers/tidy-data.pdf), it describes long and wide data, and gives more examples on how to better work with both"
   ]
  },
  {
   "cell_type": "markdown",
   "metadata": {
    "slideshow": {
     "slide_type": "fragment"
    }
   },
   "source": [
    "It is written for R users!"
   ]
  },
  {
   "cell_type": "markdown",
   "metadata": {
    "slideshow": {
     "slide_type": "subslide"
    }
   },
   "source": [
    "### Melting Wide to Long Data\n",
    "![Fig. 1](https://www.dropbox.com/s/giskupj9ibff4bd/fig1.jpg?raw=1)"
   ]
  },
  {
   "cell_type": "markdown",
   "metadata": {
    "slideshow": {
     "slide_type": "subslide"
    }
   },
   "source": [
    "Once again, let's import a new dataset"
   ]
  },
  {
   "cell_type": "code",
   "execution_count": 61,
   "metadata": {
    "cell_style": "split",
    "slideshow": {
     "slide_type": "fragment"
    }
   },
   "outputs": [
    {
     "data": {
      "text/html": [
       "<div>\n",
       "<style scoped>\n",
       "    .dataframe tbody tr th:only-of-type {\n",
       "        vertical-align: middle;\n",
       "    }\n",
       "\n",
       "    .dataframe tbody tr th {\n",
       "        vertical-align: top;\n",
       "    }\n",
       "\n",
       "    .dataframe thead th {\n",
       "        text-align: right;\n",
       "    }\n",
       "</style>\n",
       "<table border=\"1\" class=\"dataframe\">\n",
       "  <thead>\n",
       "    <tr style=\"text-align: right;\">\n",
       "      <th></th>\n",
       "      <th>Company</th>\n",
       "      <th>Symbol</th>\n",
       "      <th>1980</th>\n",
       "      <th>1990</th>\n",
       "      <th>2000</th>\n",
       "      <th>2010</th>\n",
       "      <th>2020</th>\n",
       "    </tr>\n",
       "  </thead>\n",
       "  <tbody>\n",
       "    <tr>\n",
       "      <th>0</th>\n",
       "      <td>Apple</td>\n",
       "      <td>AAPL</td>\n",
       "      <td>0.51</td>\n",
       "      <td>1.22</td>\n",
       "      <td>3.88</td>\n",
       "      <td>37.53</td>\n",
       "      <td>318.73</td>\n",
       "    </tr>\n",
       "    <tr>\n",
       "      <th>1</th>\n",
       "      <td>Google</td>\n",
       "      <td>GOOGL</td>\n",
       "      <td>NaN</td>\n",
       "      <td>NaN</td>\n",
       "      <td>NaN</td>\n",
       "      <td>312.54</td>\n",
       "      <td>1518.73</td>\n",
       "    </tr>\n",
       "    <tr>\n",
       "      <th>2</th>\n",
       "      <td>Microsoft</td>\n",
       "      <td>MSFT</td>\n",
       "      <td>NaN</td>\n",
       "      <td>1.03</td>\n",
       "      <td>53.31</td>\n",
       "      <td>28.21</td>\n",
       "      <td>185.38</td>\n",
       "    </tr>\n",
       "  </tbody>\n",
       "</table>\n",
       "</div>"
      ],
      "text/plain": [
       "     Company Symbol  1980  1990   2000    2010     2020\n",
       "0      Apple   AAPL  0.51  1.22   3.88   37.53   318.73\n",
       "1     Google  GOOGL   NaN   NaN    NaN  312.54  1518.73\n",
       "2  Microsoft   MSFT   NaN  1.03  53.31   28.21   185.38"
      ]
     },
     "execution_count": 61,
     "metadata": {},
     "output_type": "execute_result"
    }
   ],
   "source": [
    "stock = pd.read_csv('https://www.dropbox.com/s/dl0bz061v5biv4k/stock.csv?raw=1')\n",
    "stock"
   ]
  },
  {
   "cell_type": "markdown",
   "metadata": {
    "cell_style": "split",
    "slideshow": {
     "slide_type": "fragment"
    }
   },
   "source": [
    "**What kind of data is this?**"
   ]
  },
  {
   "cell_type": "markdown",
   "metadata": {
    "cell_style": "split",
    "slideshow": {
     "slide_type": "fragment"
    }
   },
   "source": [
    "**What are the entities, and which columns are ID columns?**"
   ]
  },
  {
   "cell_type": "markdown",
   "metadata": {
    "cell_style": "split",
    "slideshow": {
     "slide_type": "fragment"
    }
   },
   "source": [
    "**What takes the place of attributes (variables) in this case?**"
   ]
  },
  {
   "cell_type": "markdown",
   "metadata": {
    "slideshow": {
     "slide_type": "subslide"
    }
   },
   "source": [
    "Let's melt this data using the `.melt` method"
   ]
  },
  {
   "cell_type": "code",
   "execution_count": 62,
   "metadata": {
    "cell_style": "center",
    "slideshow": {
     "slide_type": "fragment"
    }
   },
   "outputs": [
    {
     "data": {
      "text/html": [
       "<div>\n",
       "<style scoped>\n",
       "    .dataframe tbody tr th:only-of-type {\n",
       "        vertical-align: middle;\n",
       "    }\n",
       "\n",
       "    .dataframe tbody tr th {\n",
       "        vertical-align: top;\n",
       "    }\n",
       "\n",
       "    .dataframe thead th {\n",
       "        text-align: right;\n",
       "    }\n",
       "</style>\n",
       "<table border=\"1\" class=\"dataframe\">\n",
       "  <thead>\n",
       "    <tr style=\"text-align: right;\">\n",
       "      <th></th>\n",
       "      <th>Company</th>\n",
       "      <th>Symbol</th>\n",
       "      <th>variable</th>\n",
       "      <th>value</th>\n",
       "    </tr>\n",
       "  </thead>\n",
       "  <tbody>\n",
       "    <tr>\n",
       "      <th>0</th>\n",
       "      <td>Apple</td>\n",
       "      <td>AAPL</td>\n",
       "      <td>1980</td>\n",
       "      <td>0.51</td>\n",
       "    </tr>\n",
       "    <tr>\n",
       "      <th>1</th>\n",
       "      <td>Google</td>\n",
       "      <td>GOOGL</td>\n",
       "      <td>1980</td>\n",
       "      <td>NaN</td>\n",
       "    </tr>\n",
       "    <tr>\n",
       "      <th>2</th>\n",
       "      <td>Microsoft</td>\n",
       "      <td>MSFT</td>\n",
       "      <td>1980</td>\n",
       "      <td>NaN</td>\n",
       "    </tr>\n",
       "    <tr>\n",
       "      <th>3</th>\n",
       "      <td>Apple</td>\n",
       "      <td>AAPL</td>\n",
       "      <td>1990</td>\n",
       "      <td>1.22</td>\n",
       "    </tr>\n",
       "    <tr>\n",
       "      <th>4</th>\n",
       "      <td>Google</td>\n",
       "      <td>GOOGL</td>\n",
       "      <td>1990</td>\n",
       "      <td>NaN</td>\n",
       "    </tr>\n",
       "    <tr>\n",
       "      <th>5</th>\n",
       "      <td>Microsoft</td>\n",
       "      <td>MSFT</td>\n",
       "      <td>1990</td>\n",
       "      <td>1.03</td>\n",
       "    </tr>\n",
       "    <tr>\n",
       "      <th>6</th>\n",
       "      <td>Apple</td>\n",
       "      <td>AAPL</td>\n",
       "      <td>2000</td>\n",
       "      <td>3.88</td>\n",
       "    </tr>\n",
       "    <tr>\n",
       "      <th>7</th>\n",
       "      <td>Google</td>\n",
       "      <td>GOOGL</td>\n",
       "      <td>2000</td>\n",
       "      <td>NaN</td>\n",
       "    </tr>\n",
       "    <tr>\n",
       "      <th>8</th>\n",
       "      <td>Microsoft</td>\n",
       "      <td>MSFT</td>\n",
       "      <td>2000</td>\n",
       "      <td>53.31</td>\n",
       "    </tr>\n",
       "    <tr>\n",
       "      <th>9</th>\n",
       "      <td>Apple</td>\n",
       "      <td>AAPL</td>\n",
       "      <td>2010</td>\n",
       "      <td>37.53</td>\n",
       "    </tr>\n",
       "    <tr>\n",
       "      <th>10</th>\n",
       "      <td>Google</td>\n",
       "      <td>GOOGL</td>\n",
       "      <td>2010</td>\n",
       "      <td>312.54</td>\n",
       "    </tr>\n",
       "    <tr>\n",
       "      <th>11</th>\n",
       "      <td>Microsoft</td>\n",
       "      <td>MSFT</td>\n",
       "      <td>2010</td>\n",
       "      <td>28.21</td>\n",
       "    </tr>\n",
       "    <tr>\n",
       "      <th>12</th>\n",
       "      <td>Apple</td>\n",
       "      <td>AAPL</td>\n",
       "      <td>2020</td>\n",
       "      <td>318.73</td>\n",
       "    </tr>\n",
       "    <tr>\n",
       "      <th>13</th>\n",
       "      <td>Google</td>\n",
       "      <td>GOOGL</td>\n",
       "      <td>2020</td>\n",
       "      <td>1518.73</td>\n",
       "    </tr>\n",
       "    <tr>\n",
       "      <th>14</th>\n",
       "      <td>Microsoft</td>\n",
       "      <td>MSFT</td>\n",
       "      <td>2020</td>\n",
       "      <td>185.38</td>\n",
       "    </tr>\n",
       "  </tbody>\n",
       "</table>\n",
       "</div>"
      ],
      "text/plain": [
       "      Company Symbol variable    value\n",
       "0       Apple   AAPL     1980     0.51\n",
       "1      Google  GOOGL     1980      NaN\n",
       "2   Microsoft   MSFT     1980      NaN\n",
       "3       Apple   AAPL     1990     1.22\n",
       "4      Google  GOOGL     1990      NaN\n",
       "5   Microsoft   MSFT     1990     1.03\n",
       "6       Apple   AAPL     2000     3.88\n",
       "7      Google  GOOGL     2000      NaN\n",
       "8   Microsoft   MSFT     2000    53.31\n",
       "9       Apple   AAPL     2010    37.53\n",
       "10     Google  GOOGL     2010   312.54\n",
       "11  Microsoft   MSFT     2010    28.21\n",
       "12      Apple   AAPL     2020   318.73\n",
       "13     Google  GOOGL     2020  1518.73\n",
       "14  Microsoft   MSFT     2020   185.38"
      ]
     },
     "execution_count": 62,
     "metadata": {},
     "output_type": "execute_result"
    }
   ],
   "source": [
    "stock.melt(id_vars = ['Company', 'Symbol'])"
   ]
  },
  {
   "cell_type": "markdown",
   "metadata": {
    "slideshow": {
     "slide_type": "subslide"
    }
   },
   "source": [
    "We can ensure that the new columns get named correctly by using the `var_name` and `value_name` options"
   ]
  },
  {
   "cell_type": "code",
   "execution_count": 63,
   "metadata": {
    "slideshow": {
     "slide_type": "fragment"
    }
   },
   "outputs": [
    {
     "data": {
      "text/html": [
       "<div>\n",
       "<style scoped>\n",
       "    .dataframe tbody tr th:only-of-type {\n",
       "        vertical-align: middle;\n",
       "    }\n",
       "\n",
       "    .dataframe tbody tr th {\n",
       "        vertical-align: top;\n",
       "    }\n",
       "\n",
       "    .dataframe thead th {\n",
       "        text-align: right;\n",
       "    }\n",
       "</style>\n",
       "<table border=\"1\" class=\"dataframe\">\n",
       "  <thead>\n",
       "    <tr style=\"text-align: right;\">\n",
       "      <th></th>\n",
       "      <th>Company</th>\n",
       "      <th>Symbol</th>\n",
       "      <th>Year</th>\n",
       "      <th>Price (USD)</th>\n",
       "    </tr>\n",
       "  </thead>\n",
       "  <tbody>\n",
       "    <tr>\n",
       "      <th>0</th>\n",
       "      <td>Apple</td>\n",
       "      <td>AAPL</td>\n",
       "      <td>1980</td>\n",
       "      <td>0.51</td>\n",
       "    </tr>\n",
       "    <tr>\n",
       "      <th>1</th>\n",
       "      <td>Google</td>\n",
       "      <td>GOOGL</td>\n",
       "      <td>1980</td>\n",
       "      <td>NaN</td>\n",
       "    </tr>\n",
       "    <tr>\n",
       "      <th>2</th>\n",
       "      <td>Microsoft</td>\n",
       "      <td>MSFT</td>\n",
       "      <td>1980</td>\n",
       "      <td>NaN</td>\n",
       "    </tr>\n",
       "    <tr>\n",
       "      <th>3</th>\n",
       "      <td>Apple</td>\n",
       "      <td>AAPL</td>\n",
       "      <td>1990</td>\n",
       "      <td>1.22</td>\n",
       "    </tr>\n",
       "    <tr>\n",
       "      <th>4</th>\n",
       "      <td>Google</td>\n",
       "      <td>GOOGL</td>\n",
       "      <td>1990</td>\n",
       "      <td>NaN</td>\n",
       "    </tr>\n",
       "    <tr>\n",
       "      <th>5</th>\n",
       "      <td>Microsoft</td>\n",
       "      <td>MSFT</td>\n",
       "      <td>1990</td>\n",
       "      <td>1.03</td>\n",
       "    </tr>\n",
       "    <tr>\n",
       "      <th>6</th>\n",
       "      <td>Apple</td>\n",
       "      <td>AAPL</td>\n",
       "      <td>2000</td>\n",
       "      <td>3.88</td>\n",
       "    </tr>\n",
       "    <tr>\n",
       "      <th>7</th>\n",
       "      <td>Google</td>\n",
       "      <td>GOOGL</td>\n",
       "      <td>2000</td>\n",
       "      <td>NaN</td>\n",
       "    </tr>\n",
       "    <tr>\n",
       "      <th>8</th>\n",
       "      <td>Microsoft</td>\n",
       "      <td>MSFT</td>\n",
       "      <td>2000</td>\n",
       "      <td>53.31</td>\n",
       "    </tr>\n",
       "    <tr>\n",
       "      <th>9</th>\n",
       "      <td>Apple</td>\n",
       "      <td>AAPL</td>\n",
       "      <td>2010</td>\n",
       "      <td>37.53</td>\n",
       "    </tr>\n",
       "    <tr>\n",
       "      <th>10</th>\n",
       "      <td>Google</td>\n",
       "      <td>GOOGL</td>\n",
       "      <td>2010</td>\n",
       "      <td>312.54</td>\n",
       "    </tr>\n",
       "    <tr>\n",
       "      <th>11</th>\n",
       "      <td>Microsoft</td>\n",
       "      <td>MSFT</td>\n",
       "      <td>2010</td>\n",
       "      <td>28.21</td>\n",
       "    </tr>\n",
       "    <tr>\n",
       "      <th>12</th>\n",
       "      <td>Apple</td>\n",
       "      <td>AAPL</td>\n",
       "      <td>2020</td>\n",
       "      <td>318.73</td>\n",
       "    </tr>\n",
       "    <tr>\n",
       "      <th>13</th>\n",
       "      <td>Google</td>\n",
       "      <td>GOOGL</td>\n",
       "      <td>2020</td>\n",
       "      <td>1518.73</td>\n",
       "    </tr>\n",
       "    <tr>\n",
       "      <th>14</th>\n",
       "      <td>Microsoft</td>\n",
       "      <td>MSFT</td>\n",
       "      <td>2020</td>\n",
       "      <td>185.38</td>\n",
       "    </tr>\n",
       "  </tbody>\n",
       "</table>\n",
       "</div>"
      ],
      "text/plain": [
       "      Company Symbol  Year  Price (USD)\n",
       "0       Apple   AAPL  1980         0.51\n",
       "1      Google  GOOGL  1980          NaN\n",
       "2   Microsoft   MSFT  1980          NaN\n",
       "3       Apple   AAPL  1990         1.22\n",
       "4      Google  GOOGL  1990          NaN\n",
       "5   Microsoft   MSFT  1990         1.03\n",
       "6       Apple   AAPL  2000         3.88\n",
       "7      Google  GOOGL  2000          NaN\n",
       "8   Microsoft   MSFT  2000        53.31\n",
       "9       Apple   AAPL  2010        37.53\n",
       "10     Google  GOOGL  2010       312.54\n",
       "11  Microsoft   MSFT  2010        28.21\n",
       "12      Apple   AAPL  2020       318.73\n",
       "13     Google  GOOGL  2020      1518.73\n",
       "14  Microsoft   MSFT  2020       185.38"
      ]
     },
     "execution_count": 63,
     "metadata": {},
     "output_type": "execute_result"
    }
   ],
   "source": [
    "stock = stock.melt(id_vars = ['Company', 'Symbol'], var_name='Year', value_name='Price (USD)')\n",
    "stock"
   ]
  },
  {
   "cell_type": "markdown",
   "metadata": {
    "slideshow": {
     "slide_type": "subslide"
    }
   },
   "source": [
    "The `NaN` values aren't really contributing anything and are just there because they were in the wide data set, so let's remove them!"
   ]
  },
  {
   "cell_type": "code",
   "execution_count": 64,
   "metadata": {
    "slideshow": {
     "slide_type": "fragment"
    }
   },
   "outputs": [
    {
     "data": {
      "text/html": [
       "<div>\n",
       "<style scoped>\n",
       "    .dataframe tbody tr th:only-of-type {\n",
       "        vertical-align: middle;\n",
       "    }\n",
       "\n",
       "    .dataframe tbody tr th {\n",
       "        vertical-align: top;\n",
       "    }\n",
       "\n",
       "    .dataframe thead th {\n",
       "        text-align: right;\n",
       "    }\n",
       "</style>\n",
       "<table border=\"1\" class=\"dataframe\">\n",
       "  <thead>\n",
       "    <tr style=\"text-align: right;\">\n",
       "      <th></th>\n",
       "      <th>Company</th>\n",
       "      <th>Symbol</th>\n",
       "      <th>Year</th>\n",
       "      <th>Price (USD)</th>\n",
       "    </tr>\n",
       "  </thead>\n",
       "  <tbody>\n",
       "    <tr>\n",
       "      <th>0</th>\n",
       "      <td>Apple</td>\n",
       "      <td>AAPL</td>\n",
       "      <td>1980</td>\n",
       "      <td>0.51</td>\n",
       "    </tr>\n",
       "    <tr>\n",
       "      <th>3</th>\n",
       "      <td>Apple</td>\n",
       "      <td>AAPL</td>\n",
       "      <td>1990</td>\n",
       "      <td>1.22</td>\n",
       "    </tr>\n",
       "    <tr>\n",
       "      <th>5</th>\n",
       "      <td>Microsoft</td>\n",
       "      <td>MSFT</td>\n",
       "      <td>1990</td>\n",
       "      <td>1.03</td>\n",
       "    </tr>\n",
       "    <tr>\n",
       "      <th>6</th>\n",
       "      <td>Apple</td>\n",
       "      <td>AAPL</td>\n",
       "      <td>2000</td>\n",
       "      <td>3.88</td>\n",
       "    </tr>\n",
       "    <tr>\n",
       "      <th>8</th>\n",
       "      <td>Microsoft</td>\n",
       "      <td>MSFT</td>\n",
       "      <td>2000</td>\n",
       "      <td>53.31</td>\n",
       "    </tr>\n",
       "    <tr>\n",
       "      <th>9</th>\n",
       "      <td>Apple</td>\n",
       "      <td>AAPL</td>\n",
       "      <td>2010</td>\n",
       "      <td>37.53</td>\n",
       "    </tr>\n",
       "    <tr>\n",
       "      <th>10</th>\n",
       "      <td>Google</td>\n",
       "      <td>GOOGL</td>\n",
       "      <td>2010</td>\n",
       "      <td>312.54</td>\n",
       "    </tr>\n",
       "    <tr>\n",
       "      <th>11</th>\n",
       "      <td>Microsoft</td>\n",
       "      <td>MSFT</td>\n",
       "      <td>2010</td>\n",
       "      <td>28.21</td>\n",
       "    </tr>\n",
       "    <tr>\n",
       "      <th>12</th>\n",
       "      <td>Apple</td>\n",
       "      <td>AAPL</td>\n",
       "      <td>2020</td>\n",
       "      <td>318.73</td>\n",
       "    </tr>\n",
       "    <tr>\n",
       "      <th>13</th>\n",
       "      <td>Google</td>\n",
       "      <td>GOOGL</td>\n",
       "      <td>2020</td>\n",
       "      <td>1518.73</td>\n",
       "    </tr>\n",
       "    <tr>\n",
       "      <th>14</th>\n",
       "      <td>Microsoft</td>\n",
       "      <td>MSFT</td>\n",
       "      <td>2020</td>\n",
       "      <td>185.38</td>\n",
       "    </tr>\n",
       "  </tbody>\n",
       "</table>\n",
       "</div>"
      ],
      "text/plain": [
       "      Company Symbol  Year  Price (USD)\n",
       "0       Apple   AAPL  1980         0.51\n",
       "3       Apple   AAPL  1990         1.22\n",
       "5   Microsoft   MSFT  1990         1.03\n",
       "6       Apple   AAPL  2000         3.88\n",
       "8   Microsoft   MSFT  2000        53.31\n",
       "9       Apple   AAPL  2010        37.53\n",
       "10     Google  GOOGL  2010       312.54\n",
       "11  Microsoft   MSFT  2010        28.21\n",
       "12      Apple   AAPL  2020       318.73\n",
       "13     Google  GOOGL  2020      1518.73\n",
       "14  Microsoft   MSFT  2020       185.38"
      ]
     },
     "execution_count": 64,
     "metadata": {},
     "output_type": "execute_result"
    }
   ],
   "source": [
    "stock = stock[stock['Price (USD)'].notnull()]\n",
    "stock"
   ]
  },
  {
   "cell_type": "markdown",
   "metadata": {
    "slideshow": {
     "slide_type": "subslide"
    }
   },
   "source": [
    "If you prefer the data sorted by entity, then variable, you can re-sort"
   ]
  },
  {
   "cell_type": "code",
   "execution_count": 65,
   "metadata": {
    "slideshow": {
     "slide_type": "fragment"
    }
   },
   "outputs": [
    {
     "data": {
      "text/html": [
       "<div>\n",
       "<style scoped>\n",
       "    .dataframe tbody tr th:only-of-type {\n",
       "        vertical-align: middle;\n",
       "    }\n",
       "\n",
       "    .dataframe tbody tr th {\n",
       "        vertical-align: top;\n",
       "    }\n",
       "\n",
       "    .dataframe thead th {\n",
       "        text-align: right;\n",
       "    }\n",
       "</style>\n",
       "<table border=\"1\" class=\"dataframe\">\n",
       "  <thead>\n",
       "    <tr style=\"text-align: right;\">\n",
       "      <th></th>\n",
       "      <th>Company</th>\n",
       "      <th>Symbol</th>\n",
       "      <th>Year</th>\n",
       "      <th>Price (USD)</th>\n",
       "    </tr>\n",
       "  </thead>\n",
       "  <tbody>\n",
       "    <tr>\n",
       "      <th>0</th>\n",
       "      <td>Apple</td>\n",
       "      <td>AAPL</td>\n",
       "      <td>1980</td>\n",
       "      <td>0.51</td>\n",
       "    </tr>\n",
       "    <tr>\n",
       "      <th>3</th>\n",
       "      <td>Apple</td>\n",
       "      <td>AAPL</td>\n",
       "      <td>1990</td>\n",
       "      <td>1.22</td>\n",
       "    </tr>\n",
       "    <tr>\n",
       "      <th>6</th>\n",
       "      <td>Apple</td>\n",
       "      <td>AAPL</td>\n",
       "      <td>2000</td>\n",
       "      <td>3.88</td>\n",
       "    </tr>\n",
       "    <tr>\n",
       "      <th>9</th>\n",
       "      <td>Apple</td>\n",
       "      <td>AAPL</td>\n",
       "      <td>2010</td>\n",
       "      <td>37.53</td>\n",
       "    </tr>\n",
       "    <tr>\n",
       "      <th>12</th>\n",
       "      <td>Apple</td>\n",
       "      <td>AAPL</td>\n",
       "      <td>2020</td>\n",
       "      <td>318.73</td>\n",
       "    </tr>\n",
       "    <tr>\n",
       "      <th>10</th>\n",
       "      <td>Google</td>\n",
       "      <td>GOOGL</td>\n",
       "      <td>2010</td>\n",
       "      <td>312.54</td>\n",
       "    </tr>\n",
       "    <tr>\n",
       "      <th>13</th>\n",
       "      <td>Google</td>\n",
       "      <td>GOOGL</td>\n",
       "      <td>2020</td>\n",
       "      <td>1518.73</td>\n",
       "    </tr>\n",
       "    <tr>\n",
       "      <th>5</th>\n",
       "      <td>Microsoft</td>\n",
       "      <td>MSFT</td>\n",
       "      <td>1990</td>\n",
       "      <td>1.03</td>\n",
       "    </tr>\n",
       "    <tr>\n",
       "      <th>8</th>\n",
       "      <td>Microsoft</td>\n",
       "      <td>MSFT</td>\n",
       "      <td>2000</td>\n",
       "      <td>53.31</td>\n",
       "    </tr>\n",
       "    <tr>\n",
       "      <th>11</th>\n",
       "      <td>Microsoft</td>\n",
       "      <td>MSFT</td>\n",
       "      <td>2010</td>\n",
       "      <td>28.21</td>\n",
       "    </tr>\n",
       "    <tr>\n",
       "      <th>14</th>\n",
       "      <td>Microsoft</td>\n",
       "      <td>MSFT</td>\n",
       "      <td>2020</td>\n",
       "      <td>185.38</td>\n",
       "    </tr>\n",
       "  </tbody>\n",
       "</table>\n",
       "</div>"
      ],
      "text/plain": [
       "      Company Symbol  Year  Price (USD)\n",
       "0       Apple   AAPL  1980         0.51\n",
       "3       Apple   AAPL  1990         1.22\n",
       "6       Apple   AAPL  2000         3.88\n",
       "9       Apple   AAPL  2010        37.53\n",
       "12      Apple   AAPL  2020       318.73\n",
       "10     Google  GOOGL  2010       312.54\n",
       "13     Google  GOOGL  2020      1518.73\n",
       "5   Microsoft   MSFT  1990         1.03\n",
       "8   Microsoft   MSFT  2000        53.31\n",
       "11  Microsoft   MSFT  2010        28.21\n",
       "14  Microsoft   MSFT  2020       185.38"
      ]
     },
     "execution_count": 65,
     "metadata": {},
     "output_type": "execute_result"
    }
   ],
   "source": [
    "stock.sort_values(['Symbol', 'Year'])"
   ]
  },
  {
   "cell_type": "markdown",
   "metadata": {
    "slideshow": {
     "slide_type": "subslide"
    }
   },
   "source": [
    "Once again, Python has not detected that the columns were integer types"
   ]
  },
  {
   "cell_type": "code",
   "execution_count": 66,
   "metadata": {
    "slideshow": {
     "slide_type": "fragment"
    }
   },
   "outputs": [
    {
     "ename": "TypeError",
     "evalue": "'>=' not supported between instances of 'str' and 'int'",
     "output_type": "error",
     "traceback": [
      "\u001b[1;31m---------------------------------------------------------------------------\u001b[0m",
      "\u001b[1;31mTypeError\u001b[0m                                 Traceback (most recent call last)",
      "\u001b[1;32m<ipython-input-66-fad169f6e488>\u001b[0m in \u001b[0;36m<module>\u001b[1;34m\u001b[0m\n\u001b[1;32m----> 1\u001b[1;33m \u001b[0mstock\u001b[0m\u001b[1;33m[\u001b[0m\u001b[0mstock\u001b[0m\u001b[1;33m[\u001b[0m\u001b[1;34m'Year'\u001b[0m\u001b[1;33m]\u001b[0m \u001b[1;33m>=\u001b[0m \u001b[1;36m2000\u001b[0m\u001b[1;33m]\u001b[0m  \u001b[1;31m# Error!\u001b[0m\u001b[1;33m\u001b[0m\u001b[1;33m\u001b[0m\u001b[0m\n\u001b[0m",
      "\u001b[1;32mC:\\Anaconda\\lib\\site-packages\\pandas\\core\\ops\\common.py\u001b[0m in \u001b[0;36mnew_method\u001b[1;34m(self, other)\u001b[0m\n\u001b[0;32m     62\u001b[0m         \u001b[0mother\u001b[0m \u001b[1;33m=\u001b[0m \u001b[0mitem_from_zerodim\u001b[0m\u001b[1;33m(\u001b[0m\u001b[0mother\u001b[0m\u001b[1;33m)\u001b[0m\u001b[1;33m\u001b[0m\u001b[1;33m\u001b[0m\u001b[0m\n\u001b[0;32m     63\u001b[0m \u001b[1;33m\u001b[0m\u001b[0m\n\u001b[1;32m---> 64\u001b[1;33m         \u001b[1;32mreturn\u001b[0m \u001b[0mmethod\u001b[0m\u001b[1;33m(\u001b[0m\u001b[0mself\u001b[0m\u001b[1;33m,\u001b[0m \u001b[0mother\u001b[0m\u001b[1;33m)\u001b[0m\u001b[1;33m\u001b[0m\u001b[1;33m\u001b[0m\u001b[0m\n\u001b[0m\u001b[0;32m     65\u001b[0m \u001b[1;33m\u001b[0m\u001b[0m\n\u001b[0;32m     66\u001b[0m     \u001b[1;32mreturn\u001b[0m \u001b[0mnew_method\u001b[0m\u001b[1;33m\u001b[0m\u001b[1;33m\u001b[0m\u001b[0m\n",
      "\u001b[1;32mC:\\Anaconda\\lib\\site-packages\\pandas\\core\\ops\\__init__.py\u001b[0m in \u001b[0;36mwrapper\u001b[1;34m(self, other)\u001b[0m\n\u001b[0;32m    524\u001b[0m         \u001b[0mrvalues\u001b[0m \u001b[1;33m=\u001b[0m \u001b[0mextract_array\u001b[0m\u001b[1;33m(\u001b[0m\u001b[0mother\u001b[0m\u001b[1;33m,\u001b[0m \u001b[0mextract_numpy\u001b[0m\u001b[1;33m=\u001b[0m\u001b[1;32mTrue\u001b[0m\u001b[1;33m)\u001b[0m\u001b[1;33m\u001b[0m\u001b[1;33m\u001b[0m\u001b[0m\n\u001b[0;32m    525\u001b[0m \u001b[1;33m\u001b[0m\u001b[0m\n\u001b[1;32m--> 526\u001b[1;33m         \u001b[0mres_values\u001b[0m \u001b[1;33m=\u001b[0m \u001b[0mcomparison_op\u001b[0m\u001b[1;33m(\u001b[0m\u001b[0mlvalues\u001b[0m\u001b[1;33m,\u001b[0m \u001b[0mrvalues\u001b[0m\u001b[1;33m,\u001b[0m \u001b[0mop\u001b[0m\u001b[1;33m)\u001b[0m\u001b[1;33m\u001b[0m\u001b[1;33m\u001b[0m\u001b[0m\n\u001b[0m\u001b[0;32m    527\u001b[0m \u001b[1;33m\u001b[0m\u001b[0m\n\u001b[0;32m    528\u001b[0m         \u001b[1;32mreturn\u001b[0m \u001b[0m_construct_result\u001b[0m\u001b[1;33m(\u001b[0m\u001b[0mself\u001b[0m\u001b[1;33m,\u001b[0m \u001b[0mres_values\u001b[0m\u001b[1;33m,\u001b[0m \u001b[0mindex\u001b[0m\u001b[1;33m=\u001b[0m\u001b[0mself\u001b[0m\u001b[1;33m.\u001b[0m\u001b[0mindex\u001b[0m\u001b[1;33m,\u001b[0m \u001b[0mname\u001b[0m\u001b[1;33m=\u001b[0m\u001b[0mres_name\u001b[0m\u001b[1;33m)\u001b[0m\u001b[1;33m\u001b[0m\u001b[1;33m\u001b[0m\u001b[0m\n",
      "\u001b[1;32mC:\\Anaconda\\lib\\site-packages\\pandas\\core\\ops\\array_ops.py\u001b[0m in \u001b[0;36mcomparison_op\u001b[1;34m(left, right, op)\u001b[0m\n\u001b[0;32m    245\u001b[0m \u001b[1;33m\u001b[0m\u001b[0m\n\u001b[0;32m    246\u001b[0m     \u001b[1;32melif\u001b[0m \u001b[0mis_object_dtype\u001b[0m\u001b[1;33m(\u001b[0m\u001b[0mlvalues\u001b[0m\u001b[1;33m.\u001b[0m\u001b[0mdtype\u001b[0m\u001b[1;33m)\u001b[0m\u001b[1;33m:\u001b[0m\u001b[1;33m\u001b[0m\u001b[1;33m\u001b[0m\u001b[0m\n\u001b[1;32m--> 247\u001b[1;33m         \u001b[0mres_values\u001b[0m \u001b[1;33m=\u001b[0m \u001b[0mcomp_method_OBJECT_ARRAY\u001b[0m\u001b[1;33m(\u001b[0m\u001b[0mop\u001b[0m\u001b[1;33m,\u001b[0m \u001b[0mlvalues\u001b[0m\u001b[1;33m,\u001b[0m \u001b[0mrvalues\u001b[0m\u001b[1;33m)\u001b[0m\u001b[1;33m\u001b[0m\u001b[1;33m\u001b[0m\u001b[0m\n\u001b[0m\u001b[0;32m    248\u001b[0m \u001b[1;33m\u001b[0m\u001b[0m\n\u001b[0;32m    249\u001b[0m     \u001b[1;32melse\u001b[0m\u001b[1;33m:\u001b[0m\u001b[1;33m\u001b[0m\u001b[1;33m\u001b[0m\u001b[0m\n",
      "\u001b[1;32mC:\\Anaconda\\lib\\site-packages\\pandas\\core\\ops\\array_ops.py\u001b[0m in \u001b[0;36mcomp_method_OBJECT_ARRAY\u001b[1;34m(op, x, y)\u001b[0m\n\u001b[0;32m     55\u001b[0m         \u001b[0mresult\u001b[0m \u001b[1;33m=\u001b[0m \u001b[0mlibops\u001b[0m\u001b[1;33m.\u001b[0m\u001b[0mvec_compare\u001b[0m\u001b[1;33m(\u001b[0m\u001b[0mx\u001b[0m\u001b[1;33m.\u001b[0m\u001b[0mravel\u001b[0m\u001b[1;33m(\u001b[0m\u001b[1;33m)\u001b[0m\u001b[1;33m,\u001b[0m \u001b[0my\u001b[0m\u001b[1;33m,\u001b[0m \u001b[0mop\u001b[0m\u001b[1;33m)\u001b[0m\u001b[1;33m\u001b[0m\u001b[1;33m\u001b[0m\u001b[0m\n\u001b[0;32m     56\u001b[0m     \u001b[1;32melse\u001b[0m\u001b[1;33m:\u001b[0m\u001b[1;33m\u001b[0m\u001b[1;33m\u001b[0m\u001b[0m\n\u001b[1;32m---> 57\u001b[1;33m         \u001b[0mresult\u001b[0m \u001b[1;33m=\u001b[0m \u001b[0mlibops\u001b[0m\u001b[1;33m.\u001b[0m\u001b[0mscalar_compare\u001b[0m\u001b[1;33m(\u001b[0m\u001b[0mx\u001b[0m\u001b[1;33m.\u001b[0m\u001b[0mravel\u001b[0m\u001b[1;33m(\u001b[0m\u001b[1;33m)\u001b[0m\u001b[1;33m,\u001b[0m \u001b[0my\u001b[0m\u001b[1;33m,\u001b[0m \u001b[0mop\u001b[0m\u001b[1;33m)\u001b[0m\u001b[1;33m\u001b[0m\u001b[1;33m\u001b[0m\u001b[0m\n\u001b[0m\u001b[0;32m     58\u001b[0m     \u001b[1;32mreturn\u001b[0m \u001b[0mresult\u001b[0m\u001b[1;33m.\u001b[0m\u001b[0mreshape\u001b[0m\u001b[1;33m(\u001b[0m\u001b[0mx\u001b[0m\u001b[1;33m.\u001b[0m\u001b[0mshape\u001b[0m\u001b[1;33m)\u001b[0m\u001b[1;33m\u001b[0m\u001b[1;33m\u001b[0m\u001b[0m\n\u001b[0;32m     59\u001b[0m \u001b[1;33m\u001b[0m\u001b[0m\n",
      "\u001b[1;32mpandas\\_libs\\ops.pyx\u001b[0m in \u001b[0;36mpandas._libs.ops.scalar_compare\u001b[1;34m()\u001b[0m\n",
      "\u001b[1;31mTypeError\u001b[0m: '>=' not supported between instances of 'str' and 'int'"
     ]
    }
   ],
   "source": [
    "stock[stock['Year'] >= 2000]  # Error!"
   ]
  },
  {
   "cell_type": "markdown",
   "metadata": {
    "slideshow": {
     "slide_type": "subslide"
    }
   },
   "source": [
    "As you can see, the data type is `object`, meaning these numbers are stored as `str`"
   ]
  },
  {
   "cell_type": "code",
   "execution_count": 67,
   "metadata": {
    "slideshow": {
     "slide_type": "fragment"
    }
   },
   "outputs": [
    {
     "data": {
      "text/plain": [
       "0     1980\n",
       "3     1990\n",
       "5     1990\n",
       "6     2000\n",
       "8     2000\n",
       "9     2010\n",
       "10    2010\n",
       "11    2010\n",
       "12    2020\n",
       "13    2020\n",
       "14    2020\n",
       "Name: Year, dtype: object"
      ]
     },
     "execution_count": 67,
     "metadata": {},
     "output_type": "execute_result"
    }
   ],
   "source": [
    "stock['Year']"
   ]
  },
  {
   "cell_type": "markdown",
   "metadata": {
    "slideshow": {
     "slide_type": "subslide"
    }
   },
   "source": [
    "The columns which was originally headings has become `object` (`str`) types"
   ]
  },
  {
   "cell_type": "markdown",
   "metadata": {
    "slideshow": {
     "slide_type": "fragment"
    }
   },
   "source": [
    "We can change the data type of the `Year` column using `astype`"
   ]
  },
  {
   "cell_type": "code",
   "execution_count": 68,
   "metadata": {
    "slideshow": {
     "slide_type": "fragment"
    }
   },
   "outputs": [
    {
     "data": {
      "text/html": [
       "<div>\n",
       "<style scoped>\n",
       "    .dataframe tbody tr th:only-of-type {\n",
       "        vertical-align: middle;\n",
       "    }\n",
       "\n",
       "    .dataframe tbody tr th {\n",
       "        vertical-align: top;\n",
       "    }\n",
       "\n",
       "    .dataframe thead th {\n",
       "        text-align: right;\n",
       "    }\n",
       "</style>\n",
       "<table border=\"1\" class=\"dataframe\">\n",
       "  <thead>\n",
       "    <tr style=\"text-align: right;\">\n",
       "      <th></th>\n",
       "      <th>Company</th>\n",
       "      <th>Symbol</th>\n",
       "      <th>Year</th>\n",
       "      <th>Price (USD)</th>\n",
       "    </tr>\n",
       "  </thead>\n",
       "  <tbody>\n",
       "    <tr>\n",
       "      <th>0</th>\n",
       "      <td>Apple</td>\n",
       "      <td>AAPL</td>\n",
       "      <td>1980</td>\n",
       "      <td>0.51</td>\n",
       "    </tr>\n",
       "    <tr>\n",
       "      <th>3</th>\n",
       "      <td>Apple</td>\n",
       "      <td>AAPL</td>\n",
       "      <td>1990</td>\n",
       "      <td>1.22</td>\n",
       "    </tr>\n",
       "    <tr>\n",
       "      <th>5</th>\n",
       "      <td>Microsoft</td>\n",
       "      <td>MSFT</td>\n",
       "      <td>1990</td>\n",
       "      <td>1.03</td>\n",
       "    </tr>\n",
       "    <tr>\n",
       "      <th>6</th>\n",
       "      <td>Apple</td>\n",
       "      <td>AAPL</td>\n",
       "      <td>2000</td>\n",
       "      <td>3.88</td>\n",
       "    </tr>\n",
       "    <tr>\n",
       "      <th>8</th>\n",
       "      <td>Microsoft</td>\n",
       "      <td>MSFT</td>\n",
       "      <td>2000</td>\n",
       "      <td>53.31</td>\n",
       "    </tr>\n",
       "    <tr>\n",
       "      <th>9</th>\n",
       "      <td>Apple</td>\n",
       "      <td>AAPL</td>\n",
       "      <td>2010</td>\n",
       "      <td>37.53</td>\n",
       "    </tr>\n",
       "    <tr>\n",
       "      <th>10</th>\n",
       "      <td>Google</td>\n",
       "      <td>GOOGL</td>\n",
       "      <td>2010</td>\n",
       "      <td>312.54</td>\n",
       "    </tr>\n",
       "    <tr>\n",
       "      <th>11</th>\n",
       "      <td>Microsoft</td>\n",
       "      <td>MSFT</td>\n",
       "      <td>2010</td>\n",
       "      <td>28.21</td>\n",
       "    </tr>\n",
       "    <tr>\n",
       "      <th>12</th>\n",
       "      <td>Apple</td>\n",
       "      <td>AAPL</td>\n",
       "      <td>2020</td>\n",
       "      <td>318.73</td>\n",
       "    </tr>\n",
       "    <tr>\n",
       "      <th>13</th>\n",
       "      <td>Google</td>\n",
       "      <td>GOOGL</td>\n",
       "      <td>2020</td>\n",
       "      <td>1518.73</td>\n",
       "    </tr>\n",
       "    <tr>\n",
       "      <th>14</th>\n",
       "      <td>Microsoft</td>\n",
       "      <td>MSFT</td>\n",
       "      <td>2020</td>\n",
       "      <td>185.38</td>\n",
       "    </tr>\n",
       "  </tbody>\n",
       "</table>\n",
       "</div>"
      ],
      "text/plain": [
       "      Company Symbol  Year  Price (USD)\n",
       "0       Apple   AAPL  1980         0.51\n",
       "3       Apple   AAPL  1990         1.22\n",
       "5   Microsoft   MSFT  1990         1.03\n",
       "6       Apple   AAPL  2000         3.88\n",
       "8   Microsoft   MSFT  2000        53.31\n",
       "9       Apple   AAPL  2010        37.53\n",
       "10     Google  GOOGL  2010       312.54\n",
       "11  Microsoft   MSFT  2010        28.21\n",
       "12      Apple   AAPL  2020       318.73\n",
       "13     Google  GOOGL  2020      1518.73\n",
       "14  Microsoft   MSFT  2020       185.38"
      ]
     },
     "execution_count": 68,
     "metadata": {},
     "output_type": "execute_result"
    }
   ],
   "source": [
    "stock = stock.astype({'Year' : 'int64'})\n",
    "stock"
   ]
  },
  {
   "cell_type": "markdown",
   "metadata": {
    "slideshow": {
     "slide_type": "subslide"
    }
   },
   "source": [
    "Now we are able to do numerical comparisons on the `Year` column"
   ]
  },
  {
   "cell_type": "code",
   "execution_count": 69,
   "metadata": {
    "slideshow": {
     "slide_type": "fragment"
    }
   },
   "outputs": [
    {
     "data": {
      "text/html": [
       "<div>\n",
       "<style scoped>\n",
       "    .dataframe tbody tr th:only-of-type {\n",
       "        vertical-align: middle;\n",
       "    }\n",
       "\n",
       "    .dataframe tbody tr th {\n",
       "        vertical-align: top;\n",
       "    }\n",
       "\n",
       "    .dataframe thead th {\n",
       "        text-align: right;\n",
       "    }\n",
       "</style>\n",
       "<table border=\"1\" class=\"dataframe\">\n",
       "  <thead>\n",
       "    <tr style=\"text-align: right;\">\n",
       "      <th></th>\n",
       "      <th>Company</th>\n",
       "      <th>Symbol</th>\n",
       "      <th>Year</th>\n",
       "      <th>Price (USD)</th>\n",
       "    </tr>\n",
       "  </thead>\n",
       "  <tbody>\n",
       "    <tr>\n",
       "      <th>6</th>\n",
       "      <td>Apple</td>\n",
       "      <td>AAPL</td>\n",
       "      <td>2000</td>\n",
       "      <td>3.88</td>\n",
       "    </tr>\n",
       "    <tr>\n",
       "      <th>8</th>\n",
       "      <td>Microsoft</td>\n",
       "      <td>MSFT</td>\n",
       "      <td>2000</td>\n",
       "      <td>53.31</td>\n",
       "    </tr>\n",
       "    <tr>\n",
       "      <th>9</th>\n",
       "      <td>Apple</td>\n",
       "      <td>AAPL</td>\n",
       "      <td>2010</td>\n",
       "      <td>37.53</td>\n",
       "    </tr>\n",
       "    <tr>\n",
       "      <th>10</th>\n",
       "      <td>Google</td>\n",
       "      <td>GOOGL</td>\n",
       "      <td>2010</td>\n",
       "      <td>312.54</td>\n",
       "    </tr>\n",
       "    <tr>\n",
       "      <th>11</th>\n",
       "      <td>Microsoft</td>\n",
       "      <td>MSFT</td>\n",
       "      <td>2010</td>\n",
       "      <td>28.21</td>\n",
       "    </tr>\n",
       "    <tr>\n",
       "      <th>12</th>\n",
       "      <td>Apple</td>\n",
       "      <td>AAPL</td>\n",
       "      <td>2020</td>\n",
       "      <td>318.73</td>\n",
       "    </tr>\n",
       "    <tr>\n",
       "      <th>13</th>\n",
       "      <td>Google</td>\n",
       "      <td>GOOGL</td>\n",
       "      <td>2020</td>\n",
       "      <td>1518.73</td>\n",
       "    </tr>\n",
       "    <tr>\n",
       "      <th>14</th>\n",
       "      <td>Microsoft</td>\n",
       "      <td>MSFT</td>\n",
       "      <td>2020</td>\n",
       "      <td>185.38</td>\n",
       "    </tr>\n",
       "  </tbody>\n",
       "</table>\n",
       "</div>"
      ],
      "text/plain": [
       "      Company Symbol  Year  Price (USD)\n",
       "6       Apple   AAPL  2000         3.88\n",
       "8   Microsoft   MSFT  2000        53.31\n",
       "9       Apple   AAPL  2010        37.53\n",
       "10     Google  GOOGL  2010       312.54\n",
       "11  Microsoft   MSFT  2010        28.21\n",
       "12      Apple   AAPL  2020       318.73\n",
       "13     Google  GOOGL  2020      1518.73\n",
       "14  Microsoft   MSFT  2020       185.38"
      ]
     },
     "execution_count": 69,
     "metadata": {},
     "output_type": "execute_result"
    }
   ],
   "source": [
    "stock[stock['Year'] >= 2000]"
   ]
  },
  {
   "cell_type": "markdown",
   "metadata": {
    "slideshow": {
     "slide_type": "subslide"
    }
   },
   "source": [
    "### Pivoting Long to Wide Data\n",
    "![Fig. 2](https://www.dropbox.com/s/x2i8xhzt0yvfip5/fig2.gif?raw=1)"
   ]
  },
  {
   "cell_type": "markdown",
   "metadata": {
    "slideshow": {
     "slide_type": "subslide"
    }
   },
   "source": [
    "Another new dataset..."
   ]
  },
  {
   "cell_type": "code",
   "execution_count": 70,
   "metadata": {
    "slideshow": {
     "slide_type": "fragment"
    }
   },
   "outputs": [
    {
     "data": {
      "text/html": [
       "<div>\n",
       "<style scoped>\n",
       "    .dataframe tbody tr th:only-of-type {\n",
       "        vertical-align: middle;\n",
       "    }\n",
       "\n",
       "    .dataframe tbody tr th {\n",
       "        vertical-align: top;\n",
       "    }\n",
       "\n",
       "    .dataframe thead th {\n",
       "        text-align: right;\n",
       "    }\n",
       "</style>\n",
       "<table border=\"1\" class=\"dataframe\">\n",
       "  <thead>\n",
       "    <tr style=\"text-align: right;\">\n",
       "      <th></th>\n",
       "      <th>Station Name</th>\n",
       "      <th>Province</th>\n",
       "      <th>Year</th>\n",
       "      <th>Mean Temperature (C)</th>\n",
       "      <th>Total Precipitation (mm)</th>\n",
       "    </tr>\n",
       "  </thead>\n",
       "  <tbody>\n",
       "    <tr>\n",
       "      <th>0</th>\n",
       "      <td>BEAR CREEK</td>\n",
       "      <td>BC</td>\n",
       "      <td>1971</td>\n",
       "      <td>15.4</td>\n",
       "      <td>20.9</td>\n",
       "    </tr>\n",
       "    <tr>\n",
       "      <th>1</th>\n",
       "      <td>COWICHAN BAY CHERRY POINT</td>\n",
       "      <td>BC</td>\n",
       "      <td>1971</td>\n",
       "      <td>17.4</td>\n",
       "      <td>12.8</td>\n",
       "    </tr>\n",
       "    <tr>\n",
       "      <th>2</th>\n",
       "      <td>COWICHAN LAKE FORESTRY</td>\n",
       "      <td>BC</td>\n",
       "      <td>1971</td>\n",
       "      <td>18.8</td>\n",
       "      <td>21.3</td>\n",
       "    </tr>\n",
       "    <tr>\n",
       "      <th>3</th>\n",
       "      <td>COWICHAN LAKE VILLAGE</td>\n",
       "      <td>BC</td>\n",
       "      <td>1971</td>\n",
       "      <td>17.7</td>\n",
       "      <td>36.4</td>\n",
       "    </tr>\n",
       "    <tr>\n",
       "      <th>4</th>\n",
       "      <td>DUNCAN FORESTRY</td>\n",
       "      <td>BC</td>\n",
       "      <td>1971</td>\n",
       "      <td>17.7</td>\n",
       "      <td>18.1</td>\n",
       "    </tr>\n",
       "    <tr>\n",
       "      <th>...</th>\n",
       "      <td>...</td>\n",
       "      <td>...</td>\n",
       "      <td>...</td>\n",
       "      <td>...</td>\n",
       "      <td>...</td>\n",
       "    </tr>\n",
       "    <tr>\n",
       "      <th>81757</th>\n",
       "      <td>GOOSE A</td>\n",
       "      <td>NL</td>\n",
       "      <td>2017</td>\n",
       "      <td>15.8</td>\n",
       "      <td>109.0</td>\n",
       "    </tr>\n",
       "    <tr>\n",
       "      <th>81758</th>\n",
       "      <td>HOPEDALE (AUT)</td>\n",
       "      <td>NL</td>\n",
       "      <td>2017</td>\n",
       "      <td>11.6</td>\n",
       "      <td>83.2</td>\n",
       "    </tr>\n",
       "    <tr>\n",
       "      <th>81759</th>\n",
       "      <td>MARY'S HARBOUR A</td>\n",
       "      <td>NL</td>\n",
       "      <td>2017</td>\n",
       "      <td>14.5</td>\n",
       "      <td>56.9</td>\n",
       "    </tr>\n",
       "    <tr>\n",
       "      <th>81760</th>\n",
       "      <td>NAIN</td>\n",
       "      <td>NL</td>\n",
       "      <td>2017</td>\n",
       "      <td>10.6</td>\n",
       "      <td>38.3</td>\n",
       "    </tr>\n",
       "    <tr>\n",
       "      <th>81761</th>\n",
       "      <td>WABUSH A</td>\n",
       "      <td>NL</td>\n",
       "      <td>2017</td>\n",
       "      <td>12.9</td>\n",
       "      <td>129.0</td>\n",
       "    </tr>\n",
       "  </tbody>\n",
       "</table>\n",
       "<p>81762 rows × 5 columns</p>\n",
       "</div>"
      ],
      "text/plain": [
       "                    Station Name Province  Year  Mean Temperature (C)  \\\n",
       "0                     BEAR CREEK       BC  1971                  15.4   \n",
       "1      COWICHAN BAY CHERRY POINT       BC  1971                  17.4   \n",
       "2         COWICHAN LAKE FORESTRY       BC  1971                  18.8   \n",
       "3          COWICHAN LAKE VILLAGE       BC  1971                  17.7   \n",
       "4                DUNCAN FORESTRY       BC  1971                  17.7   \n",
       "...                          ...      ...   ...                   ...   \n",
       "81757                    GOOSE A       NL  2017                  15.8   \n",
       "81758             HOPEDALE (AUT)       NL  2017                  11.6   \n",
       "81759           MARY'S HARBOUR A       NL  2017                  14.5   \n",
       "81760                       NAIN       NL  2017                  10.6   \n",
       "81761                   WABUSH A       NL  2017                  12.9   \n",
       "\n",
       "       Total Precipitation (mm)  \n",
       "0                          20.9  \n",
       "1                          12.8  \n",
       "2                          21.3  \n",
       "3                          36.4  \n",
       "4                          18.1  \n",
       "...                         ...  \n",
       "81757                     109.0  \n",
       "81758                      83.2  \n",
       "81759                      56.9  \n",
       "81760                      38.3  \n",
       "81761                     129.0  \n",
       "\n",
       "[81762 rows x 5 columns]"
      ]
     },
     "execution_count": 70,
     "metadata": {},
     "output_type": "execute_result"
    }
   ],
   "source": [
    "weather = pd.read_csv('https://www.dropbox.com/s/1pyru339tll1njf/weather-canada.csv?raw=1')\n",
    "weather"
   ]
  },
  {
   "cell_type": "markdown",
   "metadata": {
    "slideshow": {
     "slide_type": "subslide"
    }
   },
   "source": [
    "This was long data, however we have multiple variables per observation"
   ]
  },
  {
   "cell_type": "markdown",
   "metadata": {
    "slideshow": {
     "slide_type": "fragment"
    }
   },
   "source": [
    "We can pivot the table to see each station with the entry corresponding to different years"
   ]
  },
  {
   "cell_type": "code",
   "execution_count": 71,
   "metadata": {
    "slideshow": {
     "slide_type": "fragment"
    }
   },
   "outputs": [
    {
     "data": {
      "text/html": [
       "<div>\n",
       "<style scoped>\n",
       "    .dataframe tbody tr th:only-of-type {\n",
       "        vertical-align: middle;\n",
       "    }\n",
       "\n",
       "    .dataframe tbody tr th {\n",
       "        vertical-align: top;\n",
       "    }\n",
       "\n",
       "    .dataframe thead tr th {\n",
       "        text-align: left;\n",
       "    }\n",
       "\n",
       "    .dataframe thead tr:last-of-type th {\n",
       "        text-align: right;\n",
       "    }\n",
       "</style>\n",
       "<table border=\"1\" class=\"dataframe\">\n",
       "  <thead>\n",
       "    <tr>\n",
       "      <th></th>\n",
       "      <th colspan=\"10\" halign=\"left\">Mean Temperature (C)</th>\n",
       "      <th>...</th>\n",
       "      <th colspan=\"10\" halign=\"left\">Total Precipitation (mm)</th>\n",
       "    </tr>\n",
       "    <tr>\n",
       "      <th>Year</th>\n",
       "      <th>1971</th>\n",
       "      <th>1972</th>\n",
       "      <th>1973</th>\n",
       "      <th>1974</th>\n",
       "      <th>1975</th>\n",
       "      <th>1976</th>\n",
       "      <th>1977</th>\n",
       "      <th>1978</th>\n",
       "      <th>1979</th>\n",
       "      <th>1980</th>\n",
       "      <th>...</th>\n",
       "      <th>2008</th>\n",
       "      <th>2009</th>\n",
       "      <th>2010</th>\n",
       "      <th>2011</th>\n",
       "      <th>2012</th>\n",
       "      <th>2013</th>\n",
       "      <th>2014</th>\n",
       "      <th>2015</th>\n",
       "      <th>2016</th>\n",
       "      <th>2017</th>\n",
       "    </tr>\n",
       "    <tr>\n",
       "      <th>Station Name</th>\n",
       "      <th></th>\n",
       "      <th></th>\n",
       "      <th></th>\n",
       "      <th></th>\n",
       "      <th></th>\n",
       "      <th></th>\n",
       "      <th></th>\n",
       "      <th></th>\n",
       "      <th></th>\n",
       "      <th></th>\n",
       "      <th></th>\n",
       "      <th></th>\n",
       "      <th></th>\n",
       "      <th></th>\n",
       "      <th></th>\n",
       "      <th></th>\n",
       "      <th></th>\n",
       "      <th></th>\n",
       "      <th></th>\n",
       "      <th></th>\n",
       "      <th></th>\n",
       "    </tr>\n",
       "  </thead>\n",
       "  <tbody>\n",
       "    <tr>\n",
       "      <th>(AE) BOW SUMMIT</th>\n",
       "      <td>NaN</td>\n",
       "      <td>NaN</td>\n",
       "      <td>NaN</td>\n",
       "      <td>NaN</td>\n",
       "      <td>NaN</td>\n",
       "      <td>NaN</td>\n",
       "      <td>NaN</td>\n",
       "      <td>NaN</td>\n",
       "      <td>NaN</td>\n",
       "      <td>NaN</td>\n",
       "      <td>...</td>\n",
       "      <td>NaN</td>\n",
       "      <td>NaN</td>\n",
       "      <td>NaN</td>\n",
       "      <td>NaN</td>\n",
       "      <td>NaN</td>\n",
       "      <td>NaN</td>\n",
       "      <td>NaN</td>\n",
       "      <td>NaN</td>\n",
       "      <td>NaN</td>\n",
       "      <td>NaN</td>\n",
       "    </tr>\n",
       "    <tr>\n",
       "      <th>100 MILE HOUSE</th>\n",
       "      <td>16.0</td>\n",
       "      <td>15.1</td>\n",
       "      <td>15.1</td>\n",
       "      <td>13.7</td>\n",
       "      <td>17.2</td>\n",
       "      <td>14.5</td>\n",
       "      <td>13.5</td>\n",
       "      <td>15.5</td>\n",
       "      <td>16.0</td>\n",
       "      <td>14.1</td>\n",
       "      <td>...</td>\n",
       "      <td>NaN</td>\n",
       "      <td>NaN</td>\n",
       "      <td>NaN</td>\n",
       "      <td>NaN</td>\n",
       "      <td>NaN</td>\n",
       "      <td>NaN</td>\n",
       "      <td>NaN</td>\n",
       "      <td>NaN</td>\n",
       "      <td>NaN</td>\n",
       "      <td>NaN</td>\n",
       "    </tr>\n",
       "    <tr>\n",
       "      <th>100 MILE HOUSE 6NE</th>\n",
       "      <td>NaN</td>\n",
       "      <td>NaN</td>\n",
       "      <td>NaN</td>\n",
       "      <td>NaN</td>\n",
       "      <td>NaN</td>\n",
       "      <td>NaN</td>\n",
       "      <td>NaN</td>\n",
       "      <td>NaN</td>\n",
       "      <td>NaN</td>\n",
       "      <td>NaN</td>\n",
       "      <td>...</td>\n",
       "      <td>48.4</td>\n",
       "      <td>47.0</td>\n",
       "      <td>21.4</td>\n",
       "      <td>75.8</td>\n",
       "      <td>68.4</td>\n",
       "      <td>28.8</td>\n",
       "      <td>112.4</td>\n",
       "      <td>93.2</td>\n",
       "      <td>106.4</td>\n",
       "      <td>4.8</td>\n",
       "    </tr>\n",
       "    <tr>\n",
       "      <th>108 MILE HOUSE</th>\n",
       "      <td>NaN</td>\n",
       "      <td>NaN</td>\n",
       "      <td>15.9</td>\n",
       "      <td>NaN</td>\n",
       "      <td>NaN</td>\n",
       "      <td>NaN</td>\n",
       "      <td>NaN</td>\n",
       "      <td>NaN</td>\n",
       "      <td>NaN</td>\n",
       "      <td>NaN</td>\n",
       "      <td>...</td>\n",
       "      <td>NaN</td>\n",
       "      <td>NaN</td>\n",
       "      <td>NaN</td>\n",
       "      <td>NaN</td>\n",
       "      <td>NaN</td>\n",
       "      <td>NaN</td>\n",
       "      <td>NaN</td>\n",
       "      <td>NaN</td>\n",
       "      <td>NaN</td>\n",
       "      <td>NaN</td>\n",
       "    </tr>\n",
       "    <tr>\n",
       "      <th>108 MILE HOUSE ABEL LAKE</th>\n",
       "      <td>NaN</td>\n",
       "      <td>NaN</td>\n",
       "      <td>NaN</td>\n",
       "      <td>NaN</td>\n",
       "      <td>NaN</td>\n",
       "      <td>NaN</td>\n",
       "      <td>NaN</td>\n",
       "      <td>NaN</td>\n",
       "      <td>NaN</td>\n",
       "      <td>NaN</td>\n",
       "      <td>...</td>\n",
       "      <td>37.6</td>\n",
       "      <td>42.8</td>\n",
       "      <td>12.0</td>\n",
       "      <td>55.4</td>\n",
       "      <td>57.2</td>\n",
       "      <td>19.9</td>\n",
       "      <td>30.4</td>\n",
       "      <td>51.8</td>\n",
       "      <td>37.6</td>\n",
       "      <td>3.2</td>\n",
       "    </tr>\n",
       "    <tr>\n",
       "      <th>...</th>\n",
       "      <td>...</td>\n",
       "      <td>...</td>\n",
       "      <td>...</td>\n",
       "      <td>...</td>\n",
       "      <td>...</td>\n",
       "      <td>...</td>\n",
       "      <td>...</td>\n",
       "      <td>...</td>\n",
       "      <td>...</td>\n",
       "      <td>...</td>\n",
       "      <td>...</td>\n",
       "      <td>...</td>\n",
       "      <td>...</td>\n",
       "      <td>...</td>\n",
       "      <td>...</td>\n",
       "      <td>...</td>\n",
       "      <td>...</td>\n",
       "      <td>...</td>\n",
       "      <td>...</td>\n",
       "      <td>...</td>\n",
       "      <td>...</td>\n",
       "    </tr>\n",
       "    <tr>\n",
       "      <th>YOYO</th>\n",
       "      <td>NaN</td>\n",
       "      <td>NaN</td>\n",
       "      <td>NaN</td>\n",
       "      <td>NaN</td>\n",
       "      <td>NaN</td>\n",
       "      <td>NaN</td>\n",
       "      <td>NaN</td>\n",
       "      <td>NaN</td>\n",
       "      <td>NaN</td>\n",
       "      <td>NaN</td>\n",
       "      <td>...</td>\n",
       "      <td>NaN</td>\n",
       "      <td>NaN</td>\n",
       "      <td>NaN</td>\n",
       "      <td>NaN</td>\n",
       "      <td>NaN</td>\n",
       "      <td>NaN</td>\n",
       "      <td>NaN</td>\n",
       "      <td>NaN</td>\n",
       "      <td>NaN</td>\n",
       "      <td>NaN</td>\n",
       "    </tr>\n",
       "    <tr>\n",
       "      <th>ZAMA LO</th>\n",
       "      <td>15.7</td>\n",
       "      <td>14.3</td>\n",
       "      <td>15.3</td>\n",
       "      <td>13.5</td>\n",
       "      <td>17.5</td>\n",
       "      <td>14.3</td>\n",
       "      <td>13.6</td>\n",
       "      <td>14.6</td>\n",
       "      <td>18.1</td>\n",
       "      <td>16.0</td>\n",
       "      <td>...</td>\n",
       "      <td>81.2</td>\n",
       "      <td>42.4</td>\n",
       "      <td>62.8</td>\n",
       "      <td>175.0</td>\n",
       "      <td>NaN</td>\n",
       "      <td>NaN</td>\n",
       "      <td>NaN</td>\n",
       "      <td>NaN</td>\n",
       "      <td>NaN</td>\n",
       "      <td>NaN</td>\n",
       "    </tr>\n",
       "    <tr>\n",
       "      <th>ZEBALLOS MURAUDE CREEK</th>\n",
       "      <td>NaN</td>\n",
       "      <td>NaN</td>\n",
       "      <td>NaN</td>\n",
       "      <td>NaN</td>\n",
       "      <td>NaN</td>\n",
       "      <td>NaN</td>\n",
       "      <td>NaN</td>\n",
       "      <td>NaN</td>\n",
       "      <td>NaN</td>\n",
       "      <td>NaN</td>\n",
       "      <td>...</td>\n",
       "      <td>NaN</td>\n",
       "      <td>NaN</td>\n",
       "      <td>NaN</td>\n",
       "      <td>123.2</td>\n",
       "      <td>56.4</td>\n",
       "      <td>2.4</td>\n",
       "      <td>75.9</td>\n",
       "      <td>62.8</td>\n",
       "      <td>89.4</td>\n",
       "      <td>47.9</td>\n",
       "    </tr>\n",
       "    <tr>\n",
       "      <th>ZEHNER</th>\n",
       "      <td>NaN</td>\n",
       "      <td>NaN</td>\n",
       "      <td>NaN</td>\n",
       "      <td>NaN</td>\n",
       "      <td>NaN</td>\n",
       "      <td>NaN</td>\n",
       "      <td>NaN</td>\n",
       "      <td>NaN</td>\n",
       "      <td>NaN</td>\n",
       "      <td>NaN</td>\n",
       "      <td>...</td>\n",
       "      <td>NaN</td>\n",
       "      <td>NaN</td>\n",
       "      <td>NaN</td>\n",
       "      <td>NaN</td>\n",
       "      <td>NaN</td>\n",
       "      <td>NaN</td>\n",
       "      <td>NaN</td>\n",
       "      <td>NaN</td>\n",
       "      <td>NaN</td>\n",
       "      <td>NaN</td>\n",
       "    </tr>\n",
       "    <tr>\n",
       "      <th>ZHODA</th>\n",
       "      <td>NaN</td>\n",
       "      <td>NaN</td>\n",
       "      <td>NaN</td>\n",
       "      <td>NaN</td>\n",
       "      <td>NaN</td>\n",
       "      <td>NaN</td>\n",
       "      <td>NaN</td>\n",
       "      <td>NaN</td>\n",
       "      <td>NaN</td>\n",
       "      <td>NaN</td>\n",
       "      <td>...</td>\n",
       "      <td>NaN</td>\n",
       "      <td>NaN</td>\n",
       "      <td>NaN</td>\n",
       "      <td>NaN</td>\n",
       "      <td>NaN</td>\n",
       "      <td>NaN</td>\n",
       "      <td>NaN</td>\n",
       "      <td>NaN</td>\n",
       "      <td>NaN</td>\n",
       "      <td>NaN</td>\n",
       "    </tr>\n",
       "  </tbody>\n",
       "</table>\n",
       "<p>4808 rows × 94 columns</p>\n",
       "</div>"
      ],
      "text/plain": [
       "                         Mean Temperature (C)                                \\\n",
       "Year                                     1971  1972  1973  1974  1975  1976   \n",
       "Station Name                                                                  \n",
       "(AE) BOW SUMMIT                           NaN   NaN   NaN   NaN   NaN   NaN   \n",
       "100 MILE HOUSE                           16.0  15.1  15.1  13.7  17.2  14.5   \n",
       "100 MILE HOUSE 6NE                        NaN   NaN   NaN   NaN   NaN   NaN   \n",
       "108 MILE HOUSE                            NaN   NaN  15.9   NaN   NaN   NaN   \n",
       "108 MILE HOUSE ABEL LAKE                  NaN   NaN   NaN   NaN   NaN   NaN   \n",
       "...                                       ...   ...   ...   ...   ...   ...   \n",
       "YOYO                                      NaN   NaN   NaN   NaN   NaN   NaN   \n",
       "ZAMA LO                                  15.7  14.3  15.3  13.5  17.5  14.3   \n",
       "ZEBALLOS MURAUDE CREEK                    NaN   NaN   NaN   NaN   NaN   NaN   \n",
       "ZEHNER                                    NaN   NaN   NaN   NaN   NaN   NaN   \n",
       "ZHODA                                     NaN   NaN   NaN   NaN   NaN   NaN   \n",
       "\n",
       "                                                  ...  \\\n",
       "Year                      1977  1978  1979  1980  ...   \n",
       "Station Name                                      ...   \n",
       "(AE) BOW SUMMIT            NaN   NaN   NaN   NaN  ...   \n",
       "100 MILE HOUSE            13.5  15.5  16.0  14.1  ...   \n",
       "100 MILE HOUSE 6NE         NaN   NaN   NaN   NaN  ...   \n",
       "108 MILE HOUSE             NaN   NaN   NaN   NaN  ...   \n",
       "108 MILE HOUSE ABEL LAKE   NaN   NaN   NaN   NaN  ...   \n",
       "...                        ...   ...   ...   ...  ...   \n",
       "YOYO                       NaN   NaN   NaN   NaN  ...   \n",
       "ZAMA LO                   13.6  14.6  18.1  16.0  ...   \n",
       "ZEBALLOS MURAUDE CREEK     NaN   NaN   NaN   NaN  ...   \n",
       "ZEHNER                     NaN   NaN   NaN   NaN  ...   \n",
       "ZHODA                      NaN   NaN   NaN   NaN  ...   \n",
       "\n",
       "                         Total Precipitation (mm)                           \\\n",
       "Year                                         2008  2009  2010   2011  2012   \n",
       "Station Name                                                                 \n",
       "(AE) BOW SUMMIT                               NaN   NaN   NaN    NaN   NaN   \n",
       "100 MILE HOUSE                                NaN   NaN   NaN    NaN   NaN   \n",
       "100 MILE HOUSE 6NE                           48.4  47.0  21.4   75.8  68.4   \n",
       "108 MILE HOUSE                                NaN   NaN   NaN    NaN   NaN   \n",
       "108 MILE HOUSE ABEL LAKE                     37.6  42.8  12.0   55.4  57.2   \n",
       "...                                           ...   ...   ...    ...   ...   \n",
       "YOYO                                          NaN   NaN   NaN    NaN   NaN   \n",
       "ZAMA LO                                      81.2  42.4  62.8  175.0   NaN   \n",
       "ZEBALLOS MURAUDE CREEK                        NaN   NaN   NaN  123.2  56.4   \n",
       "ZEHNER                                        NaN   NaN   NaN    NaN   NaN   \n",
       "ZHODA                                         NaN   NaN   NaN    NaN   NaN   \n",
       "\n",
       "                                                          \n",
       "Year                      2013   2014  2015   2016  2017  \n",
       "Station Name                                              \n",
       "(AE) BOW SUMMIT            NaN    NaN   NaN    NaN   NaN  \n",
       "100 MILE HOUSE             NaN    NaN   NaN    NaN   NaN  \n",
       "100 MILE HOUSE 6NE        28.8  112.4  93.2  106.4   4.8  \n",
       "108 MILE HOUSE             NaN    NaN   NaN    NaN   NaN  \n",
       "108 MILE HOUSE ABEL LAKE  19.9   30.4  51.8   37.6   3.2  \n",
       "...                        ...    ...   ...    ...   ...  \n",
       "YOYO                       NaN    NaN   NaN    NaN   NaN  \n",
       "ZAMA LO                    NaN    NaN   NaN    NaN   NaN  \n",
       "ZEBALLOS MURAUDE CREEK     2.4   75.9  62.8   89.4  47.9  \n",
       "ZEHNER                     NaN    NaN   NaN    NaN   NaN  \n",
       "ZHODA                      NaN    NaN   NaN    NaN   NaN  \n",
       "\n",
       "[4808 rows x 94 columns]"
      ]
     },
     "execution_count": 71,
     "metadata": {},
     "output_type": "execute_result"
    }
   ],
   "source": [
    "weather_p = weather.pivot(index='Station Name',\n",
    "                          columns='Year',\n",
    "                          values=['Mean Temperature (C)', \n",
    "                                  'Total Precipitation (mm)'])\n",
    "weather_p"
   ]
  },
  {
   "cell_type": "markdown",
   "metadata": {
    "slideshow": {
     "slide_type": "subslide"
    }
   },
   "source": [
    "You can see that the method was capable of \"grouping\" data, either for mean temp or precipitations!"
   ]
  },
  {
   "cell_type": "markdown",
   "metadata": {
    "slideshow": {
     "slide_type": "fragment"
    }
   },
   "source": [
    "This allows us to create new dataframes based only on the required info"
   ]
  },
  {
   "cell_type": "code",
   "execution_count": 72,
   "metadata": {
    "slideshow": {
     "slide_type": "fragment"
    }
   },
   "outputs": [
    {
     "data": {
      "text/html": [
       "<div>\n",
       "<style scoped>\n",
       "    .dataframe tbody tr th:only-of-type {\n",
       "        vertical-align: middle;\n",
       "    }\n",
       "\n",
       "    .dataframe tbody tr th {\n",
       "        vertical-align: top;\n",
       "    }\n",
       "\n",
       "    .dataframe thead th {\n",
       "        text-align: right;\n",
       "    }\n",
       "</style>\n",
       "<table border=\"1\" class=\"dataframe\">\n",
       "  <thead>\n",
       "    <tr style=\"text-align: right;\">\n",
       "      <th>Year</th>\n",
       "      <th>1971</th>\n",
       "      <th>1972</th>\n",
       "      <th>1973</th>\n",
       "      <th>1974</th>\n",
       "      <th>1975</th>\n",
       "      <th>1976</th>\n",
       "      <th>1977</th>\n",
       "      <th>1978</th>\n",
       "      <th>1979</th>\n",
       "      <th>1980</th>\n",
       "      <th>...</th>\n",
       "      <th>2008</th>\n",
       "      <th>2009</th>\n",
       "      <th>2010</th>\n",
       "      <th>2011</th>\n",
       "      <th>2012</th>\n",
       "      <th>2013</th>\n",
       "      <th>2014</th>\n",
       "      <th>2015</th>\n",
       "      <th>2016</th>\n",
       "      <th>2017</th>\n",
       "    </tr>\n",
       "    <tr>\n",
       "      <th>Station Name</th>\n",
       "      <th></th>\n",
       "      <th></th>\n",
       "      <th></th>\n",
       "      <th></th>\n",
       "      <th></th>\n",
       "      <th></th>\n",
       "      <th></th>\n",
       "      <th></th>\n",
       "      <th></th>\n",
       "      <th></th>\n",
       "      <th></th>\n",
       "      <th></th>\n",
       "      <th></th>\n",
       "      <th></th>\n",
       "      <th></th>\n",
       "      <th></th>\n",
       "      <th></th>\n",
       "      <th></th>\n",
       "      <th></th>\n",
       "      <th></th>\n",
       "      <th></th>\n",
       "    </tr>\n",
       "  </thead>\n",
       "  <tbody>\n",
       "    <tr>\n",
       "      <th>(AE) BOW SUMMIT</th>\n",
       "      <td>NaN</td>\n",
       "      <td>NaN</td>\n",
       "      <td>NaN</td>\n",
       "      <td>NaN</td>\n",
       "      <td>NaN</td>\n",
       "      <td>NaN</td>\n",
       "      <td>NaN</td>\n",
       "      <td>NaN</td>\n",
       "      <td>NaN</td>\n",
       "      <td>NaN</td>\n",
       "      <td>...</td>\n",
       "      <td>NaN</td>\n",
       "      <td>NaN</td>\n",
       "      <td>NaN</td>\n",
       "      <td>NaN</td>\n",
       "      <td>NaN</td>\n",
       "      <td>NaN</td>\n",
       "      <td>NaN</td>\n",
       "      <td>NaN</td>\n",
       "      <td>NaN</td>\n",
       "      <td>NaN</td>\n",
       "    </tr>\n",
       "    <tr>\n",
       "      <th>100 MILE HOUSE</th>\n",
       "      <td>16.0</td>\n",
       "      <td>15.1</td>\n",
       "      <td>15.1</td>\n",
       "      <td>13.7</td>\n",
       "      <td>17.2</td>\n",
       "      <td>14.5</td>\n",
       "      <td>13.5</td>\n",
       "      <td>15.5</td>\n",
       "      <td>16.0</td>\n",
       "      <td>14.1</td>\n",
       "      <td>...</td>\n",
       "      <td>NaN</td>\n",
       "      <td>NaN</td>\n",
       "      <td>NaN</td>\n",
       "      <td>NaN</td>\n",
       "      <td>NaN</td>\n",
       "      <td>NaN</td>\n",
       "      <td>NaN</td>\n",
       "      <td>NaN</td>\n",
       "      <td>NaN</td>\n",
       "      <td>NaN</td>\n",
       "    </tr>\n",
       "    <tr>\n",
       "      <th>100 MILE HOUSE 6NE</th>\n",
       "      <td>NaN</td>\n",
       "      <td>NaN</td>\n",
       "      <td>NaN</td>\n",
       "      <td>NaN</td>\n",
       "      <td>NaN</td>\n",
       "      <td>NaN</td>\n",
       "      <td>NaN</td>\n",
       "      <td>NaN</td>\n",
       "      <td>NaN</td>\n",
       "      <td>NaN</td>\n",
       "      <td>...</td>\n",
       "      <td>14.8</td>\n",
       "      <td>16.5</td>\n",
       "      <td>14.6</td>\n",
       "      <td>11.2</td>\n",
       "      <td>15.1</td>\n",
       "      <td>14.5</td>\n",
       "      <td>16.6</td>\n",
       "      <td>16.5</td>\n",
       "      <td>14.9</td>\n",
       "      <td>17.3</td>\n",
       "    </tr>\n",
       "    <tr>\n",
       "      <th>108 MILE HOUSE</th>\n",
       "      <td>NaN</td>\n",
       "      <td>NaN</td>\n",
       "      <td>15.9</td>\n",
       "      <td>NaN</td>\n",
       "      <td>NaN</td>\n",
       "      <td>NaN</td>\n",
       "      <td>NaN</td>\n",
       "      <td>NaN</td>\n",
       "      <td>NaN</td>\n",
       "      <td>NaN</td>\n",
       "      <td>...</td>\n",
       "      <td>NaN</td>\n",
       "      <td>NaN</td>\n",
       "      <td>NaN</td>\n",
       "      <td>NaN</td>\n",
       "      <td>NaN</td>\n",
       "      <td>NaN</td>\n",
       "      <td>NaN</td>\n",
       "      <td>NaN</td>\n",
       "      <td>NaN</td>\n",
       "      <td>NaN</td>\n",
       "    </tr>\n",
       "    <tr>\n",
       "      <th>108 MILE HOUSE ABEL LAKE</th>\n",
       "      <td>NaN</td>\n",
       "      <td>NaN</td>\n",
       "      <td>NaN</td>\n",
       "      <td>NaN</td>\n",
       "      <td>NaN</td>\n",
       "      <td>NaN</td>\n",
       "      <td>NaN</td>\n",
       "      <td>NaN</td>\n",
       "      <td>NaN</td>\n",
       "      <td>NaN</td>\n",
       "      <td>...</td>\n",
       "      <td>16.1</td>\n",
       "      <td>18.7</td>\n",
       "      <td>16.8</td>\n",
       "      <td>14.4</td>\n",
       "      <td>18.0</td>\n",
       "      <td>17.5</td>\n",
       "      <td>18.5</td>\n",
       "      <td>18.0</td>\n",
       "      <td>16.7</td>\n",
       "      <td>18.0</td>\n",
       "    </tr>\n",
       "    <tr>\n",
       "      <th>...</th>\n",
       "      <td>...</td>\n",
       "      <td>...</td>\n",
       "      <td>...</td>\n",
       "      <td>...</td>\n",
       "      <td>...</td>\n",
       "      <td>...</td>\n",
       "      <td>...</td>\n",
       "      <td>...</td>\n",
       "      <td>...</td>\n",
       "      <td>...</td>\n",
       "      <td>...</td>\n",
       "      <td>...</td>\n",
       "      <td>...</td>\n",
       "      <td>...</td>\n",
       "      <td>...</td>\n",
       "      <td>...</td>\n",
       "      <td>...</td>\n",
       "      <td>...</td>\n",
       "      <td>...</td>\n",
       "      <td>...</td>\n",
       "      <td>...</td>\n",
       "    </tr>\n",
       "    <tr>\n",
       "      <th>YOYO</th>\n",
       "      <td>NaN</td>\n",
       "      <td>NaN</td>\n",
       "      <td>NaN</td>\n",
       "      <td>NaN</td>\n",
       "      <td>NaN</td>\n",
       "      <td>NaN</td>\n",
       "      <td>NaN</td>\n",
       "      <td>NaN</td>\n",
       "      <td>NaN</td>\n",
       "      <td>NaN</td>\n",
       "      <td>...</td>\n",
       "      <td>NaN</td>\n",
       "      <td>NaN</td>\n",
       "      <td>NaN</td>\n",
       "      <td>NaN</td>\n",
       "      <td>NaN</td>\n",
       "      <td>NaN</td>\n",
       "      <td>NaN</td>\n",
       "      <td>NaN</td>\n",
       "      <td>NaN</td>\n",
       "      <td>NaN</td>\n",
       "    </tr>\n",
       "    <tr>\n",
       "      <th>ZAMA LO</th>\n",
       "      <td>15.7</td>\n",
       "      <td>14.3</td>\n",
       "      <td>15.3</td>\n",
       "      <td>13.5</td>\n",
       "      <td>17.5</td>\n",
       "      <td>14.3</td>\n",
       "      <td>13.6</td>\n",
       "      <td>14.6</td>\n",
       "      <td>18.1</td>\n",
       "      <td>16.0</td>\n",
       "      <td>...</td>\n",
       "      <td>14.9</td>\n",
       "      <td>11.1</td>\n",
       "      <td>9.5</td>\n",
       "      <td>13.5</td>\n",
       "      <td>NaN</td>\n",
       "      <td>NaN</td>\n",
       "      <td>NaN</td>\n",
       "      <td>NaN</td>\n",
       "      <td>NaN</td>\n",
       "      <td>NaN</td>\n",
       "    </tr>\n",
       "    <tr>\n",
       "      <th>ZEBALLOS MURAUDE CREEK</th>\n",
       "      <td>NaN</td>\n",
       "      <td>NaN</td>\n",
       "      <td>NaN</td>\n",
       "      <td>NaN</td>\n",
       "      <td>NaN</td>\n",
       "      <td>NaN</td>\n",
       "      <td>NaN</td>\n",
       "      <td>NaN</td>\n",
       "      <td>NaN</td>\n",
       "      <td>NaN</td>\n",
       "      <td>...</td>\n",
       "      <td>NaN</td>\n",
       "      <td>NaN</td>\n",
       "      <td>NaN</td>\n",
       "      <td>13.9</td>\n",
       "      <td>16.4</td>\n",
       "      <td>18.4</td>\n",
       "      <td>17.6</td>\n",
       "      <td>19.3</td>\n",
       "      <td>17.3</td>\n",
       "      <td>16.3</td>\n",
       "    </tr>\n",
       "    <tr>\n",
       "      <th>ZEHNER</th>\n",
       "      <td>NaN</td>\n",
       "      <td>NaN</td>\n",
       "      <td>NaN</td>\n",
       "      <td>NaN</td>\n",
       "      <td>NaN</td>\n",
       "      <td>NaN</td>\n",
       "      <td>NaN</td>\n",
       "      <td>NaN</td>\n",
       "      <td>NaN</td>\n",
       "      <td>NaN</td>\n",
       "      <td>...</td>\n",
       "      <td>NaN</td>\n",
       "      <td>NaN</td>\n",
       "      <td>NaN</td>\n",
       "      <td>NaN</td>\n",
       "      <td>NaN</td>\n",
       "      <td>NaN</td>\n",
       "      <td>NaN</td>\n",
       "      <td>NaN</td>\n",
       "      <td>NaN</td>\n",
       "      <td>NaN</td>\n",
       "    </tr>\n",
       "    <tr>\n",
       "      <th>ZHODA</th>\n",
       "      <td>NaN</td>\n",
       "      <td>NaN</td>\n",
       "      <td>NaN</td>\n",
       "      <td>NaN</td>\n",
       "      <td>NaN</td>\n",
       "      <td>NaN</td>\n",
       "      <td>NaN</td>\n",
       "      <td>NaN</td>\n",
       "      <td>NaN</td>\n",
       "      <td>NaN</td>\n",
       "      <td>...</td>\n",
       "      <td>NaN</td>\n",
       "      <td>NaN</td>\n",
       "      <td>NaN</td>\n",
       "      <td>NaN</td>\n",
       "      <td>NaN</td>\n",
       "      <td>NaN</td>\n",
       "      <td>NaN</td>\n",
       "      <td>NaN</td>\n",
       "      <td>NaN</td>\n",
       "      <td>NaN</td>\n",
       "    </tr>\n",
       "  </tbody>\n",
       "</table>\n",
       "<p>4808 rows × 47 columns</p>\n",
       "</div>"
      ],
      "text/plain": [
       "Year                      1971  1972  1973  1974  1975  1976  1977  1978  \\\n",
       "Station Name                                                               \n",
       "(AE) BOW SUMMIT            NaN   NaN   NaN   NaN   NaN   NaN   NaN   NaN   \n",
       "100 MILE HOUSE            16.0  15.1  15.1  13.7  17.2  14.5  13.5  15.5   \n",
       "100 MILE HOUSE 6NE         NaN   NaN   NaN   NaN   NaN   NaN   NaN   NaN   \n",
       "108 MILE HOUSE             NaN   NaN  15.9   NaN   NaN   NaN   NaN   NaN   \n",
       "108 MILE HOUSE ABEL LAKE   NaN   NaN   NaN   NaN   NaN   NaN   NaN   NaN   \n",
       "...                        ...   ...   ...   ...   ...   ...   ...   ...   \n",
       "YOYO                       NaN   NaN   NaN   NaN   NaN   NaN   NaN   NaN   \n",
       "ZAMA LO                   15.7  14.3  15.3  13.5  17.5  14.3  13.6  14.6   \n",
       "ZEBALLOS MURAUDE CREEK     NaN   NaN   NaN   NaN   NaN   NaN   NaN   NaN   \n",
       "ZEHNER                     NaN   NaN   NaN   NaN   NaN   NaN   NaN   NaN   \n",
       "ZHODA                      NaN   NaN   NaN   NaN   NaN   NaN   NaN   NaN   \n",
       "\n",
       "Year                      1979  1980  ...  2008  2009  2010  2011  2012  2013  \\\n",
       "Station Name                          ...                                       \n",
       "(AE) BOW SUMMIT            NaN   NaN  ...   NaN   NaN   NaN   NaN   NaN   NaN   \n",
       "100 MILE HOUSE            16.0  14.1  ...   NaN   NaN   NaN   NaN   NaN   NaN   \n",
       "100 MILE HOUSE 6NE         NaN   NaN  ...  14.8  16.5  14.6  11.2  15.1  14.5   \n",
       "108 MILE HOUSE             NaN   NaN  ...   NaN   NaN   NaN   NaN   NaN   NaN   \n",
       "108 MILE HOUSE ABEL LAKE   NaN   NaN  ...  16.1  18.7  16.8  14.4  18.0  17.5   \n",
       "...                        ...   ...  ...   ...   ...   ...   ...   ...   ...   \n",
       "YOYO                       NaN   NaN  ...   NaN   NaN   NaN   NaN   NaN   NaN   \n",
       "ZAMA LO                   18.1  16.0  ...  14.9  11.1   9.5  13.5   NaN   NaN   \n",
       "ZEBALLOS MURAUDE CREEK     NaN   NaN  ...   NaN   NaN   NaN  13.9  16.4  18.4   \n",
       "ZEHNER                     NaN   NaN  ...   NaN   NaN   NaN   NaN   NaN   NaN   \n",
       "ZHODA                      NaN   NaN  ...   NaN   NaN   NaN   NaN   NaN   NaN   \n",
       "\n",
       "Year                      2014  2015  2016  2017  \n",
       "Station Name                                      \n",
       "(AE) BOW SUMMIT            NaN   NaN   NaN   NaN  \n",
       "100 MILE HOUSE             NaN   NaN   NaN   NaN  \n",
       "100 MILE HOUSE 6NE        16.6  16.5  14.9  17.3  \n",
       "108 MILE HOUSE             NaN   NaN   NaN   NaN  \n",
       "108 MILE HOUSE ABEL LAKE  18.5  18.0  16.7  18.0  \n",
       "...                        ...   ...   ...   ...  \n",
       "YOYO                       NaN   NaN   NaN   NaN  \n",
       "ZAMA LO                    NaN   NaN   NaN   NaN  \n",
       "ZEBALLOS MURAUDE CREEK    17.6  19.3  17.3  16.3  \n",
       "ZEHNER                     NaN   NaN   NaN   NaN  \n",
       "ZHODA                      NaN   NaN   NaN   NaN  \n",
       "\n",
       "[4808 rows x 47 columns]"
      ]
     },
     "execution_count": 72,
     "metadata": {},
     "output_type": "execute_result"
    }
   ],
   "source": [
    "temperature = weather_p['Mean Temperature (C)']\n",
    "temperature"
   ]
  },
  {
   "cell_type": "code",
   "execution_count": 73,
   "metadata": {
    "cell_style": "split",
    "slideshow": {
     "slide_type": "subslide"
    }
   },
   "outputs": [
    {
     "data": {
      "text/html": [
       "<div>\n",
       "<style scoped>\n",
       "    .dataframe tbody tr th:only-of-type {\n",
       "        vertical-align: middle;\n",
       "    }\n",
       "\n",
       "    .dataframe tbody tr th {\n",
       "        vertical-align: top;\n",
       "    }\n",
       "\n",
       "    .dataframe thead th {\n",
       "        text-align: right;\n",
       "    }\n",
       "</style>\n",
       "<table border=\"1\" class=\"dataframe\">\n",
       "  <thead>\n",
       "    <tr style=\"text-align: right;\">\n",
       "      <th>Year</th>\n",
       "      <th>2010</th>\n",
       "    </tr>\n",
       "    <tr>\n",
       "      <th>Station Name</th>\n",
       "      <th></th>\n",
       "    </tr>\n",
       "  </thead>\n",
       "  <tbody>\n",
       "    <tr>\n",
       "      <th>100 MILE HOUSE 6NE</th>\n",
       "      <td>14.6</td>\n",
       "    </tr>\n",
       "    <tr>\n",
       "      <th>108 MILE HOUSE ABEL LAKE</th>\n",
       "      <td>16.8</td>\n",
       "    </tr>\n",
       "    <tr>\n",
       "      <th>ABBOTSFORD A</th>\n",
       "      <td>18.3</td>\n",
       "    </tr>\n",
       "    <tr>\n",
       "      <th>ABEE AGDM</th>\n",
       "      <td>15.3</td>\n",
       "    </tr>\n",
       "    <tr>\n",
       "      <th>ACADIA VALLEY</th>\n",
       "      <td>17.8</td>\n",
       "    </tr>\n",
       "    <tr>\n",
       "      <th>...</th>\n",
       "      <td>...</td>\n",
       "    </tr>\n",
       "    <tr>\n",
       "      <th>YOHIN</th>\n",
       "      <td>17.7</td>\n",
       "    </tr>\n",
       "    <tr>\n",
       "      <th>YOHO NP OHARA LAKE</th>\n",
       "      <td>10.0</td>\n",
       "    </tr>\n",
       "    <tr>\n",
       "      <th>YOHO PARK</th>\n",
       "      <td>12.0</td>\n",
       "    </tr>\n",
       "    <tr>\n",
       "      <th>YORKTON</th>\n",
       "      <td>18.5</td>\n",
       "    </tr>\n",
       "    <tr>\n",
       "      <th>ZAMA LO</th>\n",
       "      <td>9.5</td>\n",
       "    </tr>\n",
       "  </tbody>\n",
       "</table>\n",
       "<p>1323 rows × 1 columns</p>\n",
       "</div>"
      ],
      "text/plain": [
       "Year                      2010\n",
       "Station Name                  \n",
       "100 MILE HOUSE 6NE        14.6\n",
       "108 MILE HOUSE ABEL LAKE  16.8\n",
       "ABBOTSFORD A              18.3\n",
       "ABEE AGDM                 15.3\n",
       "ACADIA VALLEY             17.8\n",
       "...                        ...\n",
       "YOHIN                     17.7\n",
       "YOHO NP OHARA LAKE        10.0\n",
       "YOHO PARK                 12.0\n",
       "YORKTON                   18.5\n",
       "ZAMA LO                    9.5\n",
       "\n",
       "[1323 rows x 1 columns]"
      ]
     },
     "execution_count": 73,
     "metadata": {},
     "output_type": "execute_result"
    }
   ],
   "source": [
    "temp2010 = temperature[[2010]]\n",
    "temp2010 = temp2010[temp2010[2010].notnull()]\n",
    "temp2010"
   ]
  },
  {
   "cell_type": "code",
   "execution_count": 74,
   "metadata": {
    "cell_style": "split",
    "slideshow": {
     "slide_type": "fragment"
    }
   },
   "outputs": [
    {
     "data": {
      "text/plain": [
       "Year\n",
       "2010    17.429932\n",
       "dtype: float64"
      ]
     },
     "execution_count": 74,
     "metadata": {},
     "output_type": "execute_result"
    }
   ],
   "source": [
    "temp2010.mean()"
   ]
  },
  {
   "cell_type": "markdown",
   "metadata": {
    "slideshow": {
     "slide_type": "subslide"
    }
   },
   "source": [
    "Let's pivot again, this time with the year as index"
   ]
  },
  {
   "cell_type": "code",
   "execution_count": 76,
   "metadata": {
    "slideshow": {
     "slide_type": "fragment"
    }
   },
   "outputs": [
    {
     "data": {
      "text/html": [
       "<div>\n",
       "<style scoped>\n",
       "    .dataframe tbody tr th:only-of-type {\n",
       "        vertical-align: middle;\n",
       "    }\n",
       "\n",
       "    .dataframe tbody tr th {\n",
       "        vertical-align: top;\n",
       "    }\n",
       "\n",
       "    .dataframe thead tr th {\n",
       "        text-align: left;\n",
       "    }\n",
       "\n",
       "    .dataframe thead tr:last-of-type th {\n",
       "        text-align: right;\n",
       "    }\n",
       "</style>\n",
       "<table border=\"1\" class=\"dataframe\">\n",
       "  <thead>\n",
       "    <tr>\n",
       "      <th></th>\n",
       "      <th colspan=\"10\" halign=\"left\">Mean Temperature (C)</th>\n",
       "      <th>...</th>\n",
       "      <th colspan=\"10\" halign=\"left\">Total Precipitation (mm)</th>\n",
       "    </tr>\n",
       "    <tr>\n",
       "      <th>Station Name</th>\n",
       "      <th>(AE) BOW SUMMIT</th>\n",
       "      <th>100 MILE HOUSE</th>\n",
       "      <th>100 MILE HOUSE 6NE</th>\n",
       "      <th>108 MILE HOUSE</th>\n",
       "      <th>108 MILE HOUSE ABEL LAKE</th>\n",
       "      <th>150 MILE HOUSE 7N</th>\n",
       "      <th>70 MILE HOUSE</th>\n",
       "      <th>ABBEY</th>\n",
       "      <th>ABBOTSFORD</th>\n",
       "      <th>ABBOTSFORD A</th>\n",
       "      <th>...</th>\n",
       "      <th>YOHO PARK</th>\n",
       "      <th>YORK FACTORY</th>\n",
       "      <th>YORKTON</th>\n",
       "      <th>YORKTON A</th>\n",
       "      <th>YOUBOU SCHOOL</th>\n",
       "      <th>YOYO</th>\n",
       "      <th>ZAMA LO</th>\n",
       "      <th>ZEBALLOS MURAUDE CREEK</th>\n",
       "      <th>ZEHNER</th>\n",
       "      <th>ZHODA</th>\n",
       "    </tr>\n",
       "    <tr>\n",
       "      <th>Year</th>\n",
       "      <th></th>\n",
       "      <th></th>\n",
       "      <th></th>\n",
       "      <th></th>\n",
       "      <th></th>\n",
       "      <th></th>\n",
       "      <th></th>\n",
       "      <th></th>\n",
       "      <th></th>\n",
       "      <th></th>\n",
       "      <th></th>\n",
       "      <th></th>\n",
       "      <th></th>\n",
       "      <th></th>\n",
       "      <th></th>\n",
       "      <th></th>\n",
       "      <th></th>\n",
       "      <th></th>\n",
       "      <th></th>\n",
       "      <th></th>\n",
       "      <th></th>\n",
       "    </tr>\n",
       "  </thead>\n",
       "  <tbody>\n",
       "    <tr>\n",
       "      <th>1971</th>\n",
       "      <td>NaN</td>\n",
       "      <td>16.0</td>\n",
       "      <td>NaN</td>\n",
       "      <td>NaN</td>\n",
       "      <td>NaN</td>\n",
       "      <td>15.5</td>\n",
       "      <td>NaN</td>\n",
       "      <td>17.6</td>\n",
       "      <td>NaN</td>\n",
       "      <td>17.5</td>\n",
       "      <td>...</td>\n",
       "      <td>NaN</td>\n",
       "      <td>NaN</td>\n",
       "      <td>NaN</td>\n",
       "      <td>92.1</td>\n",
       "      <td>NaN</td>\n",
       "      <td>NaN</td>\n",
       "      <td>74.5</td>\n",
       "      <td>NaN</td>\n",
       "      <td>NaN</td>\n",
       "      <td>NaN</td>\n",
       "    </tr>\n",
       "    <tr>\n",
       "      <th>1972</th>\n",
       "      <td>NaN</td>\n",
       "      <td>15.1</td>\n",
       "      <td>NaN</td>\n",
       "      <td>NaN</td>\n",
       "      <td>NaN</td>\n",
       "      <td>14.1</td>\n",
       "      <td>NaN</td>\n",
       "      <td>NaN</td>\n",
       "      <td>NaN</td>\n",
       "      <td>17.1</td>\n",
       "      <td>...</td>\n",
       "      <td>NaN</td>\n",
       "      <td>NaN</td>\n",
       "      <td>NaN</td>\n",
       "      <td>57.6</td>\n",
       "      <td>81.1</td>\n",
       "      <td>NaN</td>\n",
       "      <td>48.3</td>\n",
       "      <td>NaN</td>\n",
       "      <td>NaN</td>\n",
       "      <td>NaN</td>\n",
       "    </tr>\n",
       "    <tr>\n",
       "      <th>1973</th>\n",
       "      <td>NaN</td>\n",
       "      <td>15.1</td>\n",
       "      <td>NaN</td>\n",
       "      <td>15.9</td>\n",
       "      <td>NaN</td>\n",
       "      <td>14.1</td>\n",
       "      <td>NaN</td>\n",
       "      <td>NaN</td>\n",
       "      <td>NaN</td>\n",
       "      <td>16.6</td>\n",
       "      <td>...</td>\n",
       "      <td>NaN</td>\n",
       "      <td>NaN</td>\n",
       "      <td>NaN</td>\n",
       "      <td>67.9</td>\n",
       "      <td>NaN</td>\n",
       "      <td>NaN</td>\n",
       "      <td>131.1</td>\n",
       "      <td>NaN</td>\n",
       "      <td>NaN</td>\n",
       "      <td>NaN</td>\n",
       "    </tr>\n",
       "    <tr>\n",
       "      <th>1974</th>\n",
       "      <td>NaN</td>\n",
       "      <td>13.7</td>\n",
       "      <td>NaN</td>\n",
       "      <td>NaN</td>\n",
       "      <td>NaN</td>\n",
       "      <td>13.0</td>\n",
       "      <td>11.9</td>\n",
       "      <td>NaN</td>\n",
       "      <td>NaN</td>\n",
       "      <td>16.1</td>\n",
       "      <td>...</td>\n",
       "      <td>NaN</td>\n",
       "      <td>NaN</td>\n",
       "      <td>NaN</td>\n",
       "      <td>31.3</td>\n",
       "      <td>NaN</td>\n",
       "      <td>NaN</td>\n",
       "      <td>34.7</td>\n",
       "      <td>NaN</td>\n",
       "      <td>NaN</td>\n",
       "      <td>NaN</td>\n",
       "    </tr>\n",
       "    <tr>\n",
       "      <th>1975</th>\n",
       "      <td>NaN</td>\n",
       "      <td>17.2</td>\n",
       "      <td>NaN</td>\n",
       "      <td>NaN</td>\n",
       "      <td>NaN</td>\n",
       "      <td>NaN</td>\n",
       "      <td>15.2</td>\n",
       "      <td>NaN</td>\n",
       "      <td>NaN</td>\n",
       "      <td>17.6</td>\n",
       "      <td>...</td>\n",
       "      <td>NaN</td>\n",
       "      <td>NaN</td>\n",
       "      <td>NaN</td>\n",
       "      <td>36.1</td>\n",
       "      <td>NaN</td>\n",
       "      <td>NaN</td>\n",
       "      <td>95.6</td>\n",
       "      <td>NaN</td>\n",
       "      <td>NaN</td>\n",
       "      <td>NaN</td>\n",
       "    </tr>\n",
       "    <tr>\n",
       "      <th>1976</th>\n",
       "      <td>NaN</td>\n",
       "      <td>14.5</td>\n",
       "      <td>NaN</td>\n",
       "      <td>NaN</td>\n",
       "      <td>NaN</td>\n",
       "      <td>NaN</td>\n",
       "      <td>12.8</td>\n",
       "      <td>NaN</td>\n",
       "      <td>NaN</td>\n",
       "      <td>16.5</td>\n",
       "      <td>...</td>\n",
       "      <td>NaN</td>\n",
       "      <td>NaN</td>\n",
       "      <td>NaN</td>\n",
       "      <td>34.4</td>\n",
       "      <td>NaN</td>\n",
       "      <td>NaN</td>\n",
       "      <td>147.5</td>\n",
       "      <td>NaN</td>\n",
       "      <td>NaN</td>\n",
       "      <td>NaN</td>\n",
       "    </tr>\n",
       "    <tr>\n",
       "      <th>1977</th>\n",
       "      <td>NaN</td>\n",
       "      <td>13.5</td>\n",
       "      <td>NaN</td>\n",
       "      <td>NaN</td>\n",
       "      <td>NaN</td>\n",
       "      <td>NaN</td>\n",
       "      <td>13.0</td>\n",
       "      <td>18.3</td>\n",
       "      <td>NaN</td>\n",
       "      <td>15.8</td>\n",
       "      <td>...</td>\n",
       "      <td>NaN</td>\n",
       "      <td>NaN</td>\n",
       "      <td>NaN</td>\n",
       "      <td>53.1</td>\n",
       "      <td>NaN</td>\n",
       "      <td>NaN</td>\n",
       "      <td>87.1</td>\n",
       "      <td>NaN</td>\n",
       "      <td>NaN</td>\n",
       "      <td>NaN</td>\n",
       "    </tr>\n",
       "    <tr>\n",
       "      <th>1978</th>\n",
       "      <td>NaN</td>\n",
       "      <td>15.5</td>\n",
       "      <td>NaN</td>\n",
       "      <td>NaN</td>\n",
       "      <td>NaN</td>\n",
       "      <td>NaN</td>\n",
       "      <td>15.6</td>\n",
       "      <td>18.3</td>\n",
       "      <td>NaN</td>\n",
       "      <td>17.9</td>\n",
       "      <td>...</td>\n",
       "      <td>NaN</td>\n",
       "      <td>NaN</td>\n",
       "      <td>NaN</td>\n",
       "      <td>86.2</td>\n",
       "      <td>NaN</td>\n",
       "      <td>NaN</td>\n",
       "      <td>34.7</td>\n",
       "      <td>NaN</td>\n",
       "      <td>NaN</td>\n",
       "      <td>NaN</td>\n",
       "    </tr>\n",
       "    <tr>\n",
       "      <th>1979</th>\n",
       "      <td>NaN</td>\n",
       "      <td>16.0</td>\n",
       "      <td>NaN</td>\n",
       "      <td>NaN</td>\n",
       "      <td>NaN</td>\n",
       "      <td>NaN</td>\n",
       "      <td>15.0</td>\n",
       "      <td>19.3</td>\n",
       "      <td>NaN</td>\n",
       "      <td>17.9</td>\n",
       "      <td>...</td>\n",
       "      <td>NaN</td>\n",
       "      <td>NaN</td>\n",
       "      <td>NaN</td>\n",
       "      <td>11.2</td>\n",
       "      <td>NaN</td>\n",
       "      <td>NaN</td>\n",
       "      <td>62.9</td>\n",
       "      <td>NaN</td>\n",
       "      <td>NaN</td>\n",
       "      <td>NaN</td>\n",
       "    </tr>\n",
       "    <tr>\n",
       "      <th>1980</th>\n",
       "      <td>NaN</td>\n",
       "      <td>14.1</td>\n",
       "      <td>NaN</td>\n",
       "      <td>NaN</td>\n",
       "      <td>NaN</td>\n",
       "      <td>NaN</td>\n",
       "      <td>13.1</td>\n",
       "      <td>18.4</td>\n",
       "      <td>NaN</td>\n",
       "      <td>16.7</td>\n",
       "      <td>...</td>\n",
       "      <td>NaN</td>\n",
       "      <td>NaN</td>\n",
       "      <td>NaN</td>\n",
       "      <td>62.3</td>\n",
       "      <td>NaN</td>\n",
       "      <td>NaN</td>\n",
       "      <td>108.0</td>\n",
       "      <td>NaN</td>\n",
       "      <td>NaN</td>\n",
       "      <td>NaN</td>\n",
       "    </tr>\n",
       "    <tr>\n",
       "      <th>1981</th>\n",
       "      <td>NaN</td>\n",
       "      <td>15.1</td>\n",
       "      <td>NaN</td>\n",
       "      <td>NaN</td>\n",
       "      <td>NaN</td>\n",
       "      <td>NaN</td>\n",
       "      <td>14.1</td>\n",
       "      <td>18.6</td>\n",
       "      <td>NaN</td>\n",
       "      <td>17.1</td>\n",
       "      <td>...</td>\n",
       "      <td>NaN</td>\n",
       "      <td>NaN</td>\n",
       "      <td>NaN</td>\n",
       "      <td>131.9</td>\n",
       "      <td>NaN</td>\n",
       "      <td>NaN</td>\n",
       "      <td>33.6</td>\n",
       "      <td>NaN</td>\n",
       "      <td>117.3</td>\n",
       "      <td>NaN</td>\n",
       "    </tr>\n",
       "    <tr>\n",
       "      <th>1982</th>\n",
       "      <td>NaN</td>\n",
       "      <td>14.8</td>\n",
       "      <td>NaN</td>\n",
       "      <td>NaN</td>\n",
       "      <td>NaN</td>\n",
       "      <td>NaN</td>\n",
       "      <td>13.1</td>\n",
       "      <td>17.7</td>\n",
       "      <td>NaN</td>\n",
       "      <td>16.6</td>\n",
       "      <td>...</td>\n",
       "      <td>NaN</td>\n",
       "      <td>NaN</td>\n",
       "      <td>NaN</td>\n",
       "      <td>138.4</td>\n",
       "      <td>NaN</td>\n",
       "      <td>NaN</td>\n",
       "      <td>20.7</td>\n",
       "      <td>NaN</td>\n",
       "      <td>97.4</td>\n",
       "      <td>NaN</td>\n",
       "    </tr>\n",
       "    <tr>\n",
       "      <th>1983</th>\n",
       "      <td>NaN</td>\n",
       "      <td>14.4</td>\n",
       "      <td>NaN</td>\n",
       "      <td>NaN</td>\n",
       "      <td>NaN</td>\n",
       "      <td>NaN</td>\n",
       "      <td>12.9</td>\n",
       "      <td>18.6</td>\n",
       "      <td>NaN</td>\n",
       "      <td>16.4</td>\n",
       "      <td>...</td>\n",
       "      <td>NaN</td>\n",
       "      <td>NaN</td>\n",
       "      <td>NaN</td>\n",
       "      <td>140.0</td>\n",
       "      <td>NaN</td>\n",
       "      <td>21.0</td>\n",
       "      <td>85.1</td>\n",
       "      <td>NaN</td>\n",
       "      <td>198.6</td>\n",
       "      <td>NaN</td>\n",
       "    </tr>\n",
       "    <tr>\n",
       "      <th>1984</th>\n",
       "      <td>NaN</td>\n",
       "      <td>14.7</td>\n",
       "      <td>NaN</td>\n",
       "      <td>NaN</td>\n",
       "      <td>NaN</td>\n",
       "      <td>NaN</td>\n",
       "      <td>13.3</td>\n",
       "      <td>20.2</td>\n",
       "      <td>NaN</td>\n",
       "      <td>17.0</td>\n",
       "      <td>...</td>\n",
       "      <td>NaN</td>\n",
       "      <td>NaN</td>\n",
       "      <td>NaN</td>\n",
       "      <td>31.3</td>\n",
       "      <td>NaN</td>\n",
       "      <td>NaN</td>\n",
       "      <td>104.5</td>\n",
       "      <td>NaN</td>\n",
       "      <td>31.9</td>\n",
       "      <td>100.8</td>\n",
       "    </tr>\n",
       "    <tr>\n",
       "      <th>1985</th>\n",
       "      <td>NaN</td>\n",
       "      <td>16.6</td>\n",
       "      <td>NaN</td>\n",
       "      <td>NaN</td>\n",
       "      <td>NaN</td>\n",
       "      <td>NaN</td>\n",
       "      <td>15.3</td>\n",
       "      <td>19.6</td>\n",
       "      <td>NaN</td>\n",
       "      <td>19.6</td>\n",
       "      <td>...</td>\n",
       "      <td>NaN</td>\n",
       "      <td>NaN</td>\n",
       "      <td>NaN</td>\n",
       "      <td>25.9</td>\n",
       "      <td>NaN</td>\n",
       "      <td>36.4</td>\n",
       "      <td>72.2</td>\n",
       "      <td>NaN</td>\n",
       "      <td>13.4</td>\n",
       "      <td>10.0</td>\n",
       "    </tr>\n",
       "    <tr>\n",
       "      <th>1986</th>\n",
       "      <td>NaN</td>\n",
       "      <td>13.5</td>\n",
       "      <td>NaN</td>\n",
       "      <td>NaN</td>\n",
       "      <td>NaN</td>\n",
       "      <td>NaN</td>\n",
       "      <td>NaN</td>\n",
       "      <td>17.3</td>\n",
       "      <td>NaN</td>\n",
       "      <td>15.7</td>\n",
       "      <td>...</td>\n",
       "      <td>NaN</td>\n",
       "      <td>NaN</td>\n",
       "      <td>NaN</td>\n",
       "      <td>125.2</td>\n",
       "      <td>NaN</td>\n",
       "      <td>NaN</td>\n",
       "      <td>113.8</td>\n",
       "      <td>NaN</td>\n",
       "      <td>87.6</td>\n",
       "      <td>150.2</td>\n",
       "    </tr>\n",
       "    <tr>\n",
       "      <th>1987</th>\n",
       "      <td>NaN</td>\n",
       "      <td>15.4</td>\n",
       "      <td>15.1</td>\n",
       "      <td>NaN</td>\n",
       "      <td>15.4</td>\n",
       "      <td>NaN</td>\n",
       "      <td>NaN</td>\n",
       "      <td>18.6</td>\n",
       "      <td>NaN</td>\n",
       "      <td>17.3</td>\n",
       "      <td>...</td>\n",
       "      <td>NaN</td>\n",
       "      <td>NaN</td>\n",
       "      <td>NaN</td>\n",
       "      <td>97.8</td>\n",
       "      <td>NaN</td>\n",
       "      <td>NaN</td>\n",
       "      <td>139.0</td>\n",
       "      <td>NaN</td>\n",
       "      <td>126.8</td>\n",
       "      <td>105.2</td>\n",
       "    </tr>\n",
       "    <tr>\n",
       "      <th>1988</th>\n",
       "      <td>NaN</td>\n",
       "      <td>14.9</td>\n",
       "      <td>14.7</td>\n",
       "      <td>NaN</td>\n",
       "      <td>15.1</td>\n",
       "      <td>NaN</td>\n",
       "      <td>NaN</td>\n",
       "      <td>19.9</td>\n",
       "      <td>NaN</td>\n",
       "      <td>17.4</td>\n",
       "      <td>...</td>\n",
       "      <td>NaN</td>\n",
       "      <td>NaN</td>\n",
       "      <td>NaN</td>\n",
       "      <td>24.3</td>\n",
       "      <td>NaN</td>\n",
       "      <td>NaN</td>\n",
       "      <td>61.0</td>\n",
       "      <td>NaN</td>\n",
       "      <td>46.2</td>\n",
       "      <td>68.2</td>\n",
       "    </tr>\n",
       "    <tr>\n",
       "      <th>1989</th>\n",
       "      <td>NaN</td>\n",
       "      <td>15.0</td>\n",
       "      <td>14.8</td>\n",
       "      <td>NaN</td>\n",
       "      <td>14.6</td>\n",
       "      <td>NaN</td>\n",
       "      <td>NaN</td>\n",
       "      <td>21.0</td>\n",
       "      <td>NaN</td>\n",
       "      <td>17.0</td>\n",
       "      <td>...</td>\n",
       "      <td>NaN</td>\n",
       "      <td>NaN</td>\n",
       "      <td>NaN</td>\n",
       "      <td>39.8</td>\n",
       "      <td>NaN</td>\n",
       "      <td>NaN</td>\n",
       "      <td>72.2</td>\n",
       "      <td>NaN</td>\n",
       "      <td>66.8</td>\n",
       "      <td>45.8</td>\n",
       "    </tr>\n",
       "    <tr>\n",
       "      <th>1990</th>\n",
       "      <td>NaN</td>\n",
       "      <td>16.3</td>\n",
       "      <td>16.0</td>\n",
       "      <td>NaN</td>\n",
       "      <td>15.4</td>\n",
       "      <td>NaN</td>\n",
       "      <td>NaN</td>\n",
       "      <td>18.3</td>\n",
       "      <td>NaN</td>\n",
       "      <td>19.5</td>\n",
       "      <td>...</td>\n",
       "      <td>NaN</td>\n",
       "      <td>NaN</td>\n",
       "      <td>NaN</td>\n",
       "      <td>86.4</td>\n",
       "      <td>NaN</td>\n",
       "      <td>NaN</td>\n",
       "      <td>32.8</td>\n",
       "      <td>NaN</td>\n",
       "      <td>122.0</td>\n",
       "      <td>68.2</td>\n",
       "    </tr>\n",
       "    <tr>\n",
       "      <th>1991</th>\n",
       "      <td>NaN</td>\n",
       "      <td>14.9</td>\n",
       "      <td>14.5</td>\n",
       "      <td>NaN</td>\n",
       "      <td>14.3</td>\n",
       "      <td>NaN</td>\n",
       "      <td>NaN</td>\n",
       "      <td>19.0</td>\n",
       "      <td>NaN</td>\n",
       "      <td>18.2</td>\n",
       "      <td>...</td>\n",
       "      <td>NaN</td>\n",
       "      <td>NaN</td>\n",
       "      <td>NaN</td>\n",
       "      <td>102.9</td>\n",
       "      <td>NaN</td>\n",
       "      <td>NaN</td>\n",
       "      <td>150.0</td>\n",
       "      <td>NaN</td>\n",
       "      <td>58.6</td>\n",
       "      <td>100.2</td>\n",
       "    </tr>\n",
       "    <tr>\n",
       "      <th>1992</th>\n",
       "      <td>NaN</td>\n",
       "      <td>15.7</td>\n",
       "      <td>15.3</td>\n",
       "      <td>NaN</td>\n",
       "      <td>15.3</td>\n",
       "      <td>NaN</td>\n",
       "      <td>NaN</td>\n",
       "      <td>16.5</td>\n",
       "      <td>NaN</td>\n",
       "      <td>18.3</td>\n",
       "      <td>...</td>\n",
       "      <td>NaN</td>\n",
       "      <td>21.7</td>\n",
       "      <td>NaN</td>\n",
       "      <td>182.8</td>\n",
       "      <td>NaN</td>\n",
       "      <td>NaN</td>\n",
       "      <td>97.8</td>\n",
       "      <td>NaN</td>\n",
       "      <td>67.8</td>\n",
       "      <td>78.6</td>\n",
       "    </tr>\n",
       "    <tr>\n",
       "      <th>1993</th>\n",
       "      <td>NaN</td>\n",
       "      <td>13.5</td>\n",
       "      <td>13.3</td>\n",
       "      <td>NaN</td>\n",
       "      <td>12.9</td>\n",
       "      <td>NaN</td>\n",
       "      <td>NaN</td>\n",
       "      <td>15.8</td>\n",
       "      <td>NaN</td>\n",
       "      <td>16.2</td>\n",
       "      <td>...</td>\n",
       "      <td>153.6</td>\n",
       "      <td>52.4</td>\n",
       "      <td>NaN</td>\n",
       "      <td>115.2</td>\n",
       "      <td>NaN</td>\n",
       "      <td>NaN</td>\n",
       "      <td>86.6</td>\n",
       "      <td>NaN</td>\n",
       "      <td>163.7</td>\n",
       "      <td>133.4</td>\n",
       "    </tr>\n",
       "    <tr>\n",
       "      <th>1994</th>\n",
       "      <td>NaN</td>\n",
       "      <td>16.7</td>\n",
       "      <td>16.6</td>\n",
       "      <td>NaN</td>\n",
       "      <td>16.6</td>\n",
       "      <td>NaN</td>\n",
       "      <td>NaN</td>\n",
       "      <td>19.5</td>\n",
       "      <td>NaN</td>\n",
       "      <td>18.8</td>\n",
       "      <td>...</td>\n",
       "      <td>51.8</td>\n",
       "      <td>34.2</td>\n",
       "      <td>NaN</td>\n",
       "      <td>32.4</td>\n",
       "      <td>NaN</td>\n",
       "      <td>NaN</td>\n",
       "      <td>109.2</td>\n",
       "      <td>NaN</td>\n",
       "      <td>65.3</td>\n",
       "      <td>85.4</td>\n",
       "    </tr>\n",
       "    <tr>\n",
       "      <th>1995</th>\n",
       "      <td>NaN</td>\n",
       "      <td>15.9</td>\n",
       "      <td>15.5</td>\n",
       "      <td>NaN</td>\n",
       "      <td>15.3</td>\n",
       "      <td>NaN</td>\n",
       "      <td>NaN</td>\n",
       "      <td>18.6</td>\n",
       "      <td>NaN</td>\n",
       "      <td>18.6</td>\n",
       "      <td>...</td>\n",
       "      <td>NaN</td>\n",
       "      <td>80.0</td>\n",
       "      <td>NaN</td>\n",
       "      <td>59.6</td>\n",
       "      <td>NaN</td>\n",
       "      <td>NaN</td>\n",
       "      <td>84.4</td>\n",
       "      <td>NaN</td>\n",
       "      <td>45.6</td>\n",
       "      <td>115.2</td>\n",
       "    </tr>\n",
       "    <tr>\n",
       "      <th>1996</th>\n",
       "      <td>NaN</td>\n",
       "      <td>15.3</td>\n",
       "      <td>15.4</td>\n",
       "      <td>NaN</td>\n",
       "      <td>14.3</td>\n",
       "      <td>NaN</td>\n",
       "      <td>NaN</td>\n",
       "      <td>19.2</td>\n",
       "      <td>NaN</td>\n",
       "      <td>19.0</td>\n",
       "      <td>...</td>\n",
       "      <td>76.1</td>\n",
       "      <td>NaN</td>\n",
       "      <td>NaN</td>\n",
       "      <td>126.4</td>\n",
       "      <td>NaN</td>\n",
       "      <td>NaN</td>\n",
       "      <td>60.8</td>\n",
       "      <td>NaN</td>\n",
       "      <td>64.2</td>\n",
       "      <td>58.0</td>\n",
       "    </tr>\n",
       "    <tr>\n",
       "      <th>1997</th>\n",
       "      <td>NaN</td>\n",
       "      <td>14.9</td>\n",
       "      <td>14.5</td>\n",
       "      <td>NaN</td>\n",
       "      <td>14.1</td>\n",
       "      <td>NaN</td>\n",
       "      <td>NaN</td>\n",
       "      <td>19.3</td>\n",
       "      <td>NaN</td>\n",
       "      <td>17.8</td>\n",
       "      <td>...</td>\n",
       "      <td>111.0</td>\n",
       "      <td>NaN</td>\n",
       "      <td>NaN</td>\n",
       "      <td>19.2</td>\n",
       "      <td>NaN</td>\n",
       "      <td>NaN</td>\n",
       "      <td>196.2</td>\n",
       "      <td>NaN</td>\n",
       "      <td>31.8</td>\n",
       "      <td>143.0</td>\n",
       "    </tr>\n",
       "    <tr>\n",
       "      <th>1998</th>\n",
       "      <td>12.1</td>\n",
       "      <td>18.1</td>\n",
       "      <td>17.4</td>\n",
       "      <td>NaN</td>\n",
       "      <td>17.3</td>\n",
       "      <td>NaN</td>\n",
       "      <td>NaN</td>\n",
       "      <td>21.1</td>\n",
       "      <td>NaN</td>\n",
       "      <td>19.5</td>\n",
       "      <td>...</td>\n",
       "      <td>60.2</td>\n",
       "      <td>100.8</td>\n",
       "      <td>NaN</td>\n",
       "      <td>167.8</td>\n",
       "      <td>NaN</td>\n",
       "      <td>NaN</td>\n",
       "      <td>187.6</td>\n",
       "      <td>NaN</td>\n",
       "      <td>44.6</td>\n",
       "      <td>62.8</td>\n",
       "    </tr>\n",
       "    <tr>\n",
       "      <th>1999</th>\n",
       "      <td>NaN</td>\n",
       "      <td>14.9</td>\n",
       "      <td>14.1</td>\n",
       "      <td>NaN</td>\n",
       "      <td>14.0</td>\n",
       "      <td>NaN</td>\n",
       "      <td>NaN</td>\n",
       "      <td>17.2</td>\n",
       "      <td>NaN</td>\n",
       "      <td>17.3</td>\n",
       "      <td>...</td>\n",
       "      <td>96.6</td>\n",
       "      <td>58.0</td>\n",
       "      <td>NaN</td>\n",
       "      <td>53.8</td>\n",
       "      <td>NaN</td>\n",
       "      <td>NaN</td>\n",
       "      <td>192.8</td>\n",
       "      <td>NaN</td>\n",
       "      <td>NaN</td>\n",
       "      <td>90.6</td>\n",
       "    </tr>\n",
       "    <tr>\n",
       "      <th>2000</th>\n",
       "      <td>9.1</td>\n",
       "      <td>NaN</td>\n",
       "      <td>14.6</td>\n",
       "      <td>NaN</td>\n",
       "      <td>15.2</td>\n",
       "      <td>NaN</td>\n",
       "      <td>NaN</td>\n",
       "      <td>20.3</td>\n",
       "      <td>NaN</td>\n",
       "      <td>17.6</td>\n",
       "      <td>...</td>\n",
       "      <td>NaN</td>\n",
       "      <td>85.8</td>\n",
       "      <td>NaN</td>\n",
       "      <td>58.8</td>\n",
       "      <td>NaN</td>\n",
       "      <td>NaN</td>\n",
       "      <td>60.2</td>\n",
       "      <td>NaN</td>\n",
       "      <td>NaN</td>\n",
       "      <td>NaN</td>\n",
       "    </tr>\n",
       "    <tr>\n",
       "      <th>2001</th>\n",
       "      <td>9.6</td>\n",
       "      <td>NaN</td>\n",
       "      <td>14.3</td>\n",
       "      <td>NaN</td>\n",
       "      <td>14.3</td>\n",
       "      <td>NaN</td>\n",
       "      <td>NaN</td>\n",
       "      <td>20.5</td>\n",
       "      <td>NaN</td>\n",
       "      <td>17.0</td>\n",
       "      <td>...</td>\n",
       "      <td>44.6</td>\n",
       "      <td>48.0</td>\n",
       "      <td>NaN</td>\n",
       "      <td>31.6</td>\n",
       "      <td>NaN</td>\n",
       "      <td>NaN</td>\n",
       "      <td>71.4</td>\n",
       "      <td>NaN</td>\n",
       "      <td>NaN</td>\n",
       "      <td>NaN</td>\n",
       "    </tr>\n",
       "    <tr>\n",
       "      <th>2002</th>\n",
       "      <td>10.0</td>\n",
       "      <td>NaN</td>\n",
       "      <td>15.2</td>\n",
       "      <td>NaN</td>\n",
       "      <td>16.3</td>\n",
       "      <td>NaN</td>\n",
       "      <td>NaN</td>\n",
       "      <td>20.9</td>\n",
       "      <td>NaN</td>\n",
       "      <td>18.5</td>\n",
       "      <td>...</td>\n",
       "      <td>66.4</td>\n",
       "      <td>71.4</td>\n",
       "      <td>NaN</td>\n",
       "      <td>39.4</td>\n",
       "      <td>NaN</td>\n",
       "      <td>NaN</td>\n",
       "      <td>106.8</td>\n",
       "      <td>NaN</td>\n",
       "      <td>NaN</td>\n",
       "      <td>NaN</td>\n",
       "    </tr>\n",
       "    <tr>\n",
       "      <th>2003</th>\n",
       "      <td>11.1</td>\n",
       "      <td>NaN</td>\n",
       "      <td>16.2</td>\n",
       "      <td>NaN</td>\n",
       "      <td>16.3</td>\n",
       "      <td>NaN</td>\n",
       "      <td>NaN</td>\n",
       "      <td>20.7</td>\n",
       "      <td>NaN</td>\n",
       "      <td>19.4</td>\n",
       "      <td>...</td>\n",
       "      <td>71.8</td>\n",
       "      <td>15.0</td>\n",
       "      <td>NaN</td>\n",
       "      <td>46.0</td>\n",
       "      <td>NaN</td>\n",
       "      <td>NaN</td>\n",
       "      <td>144.2</td>\n",
       "      <td>NaN</td>\n",
       "      <td>NaN</td>\n",
       "      <td>NaN</td>\n",
       "    </tr>\n",
       "    <tr>\n",
       "      <th>2004</th>\n",
       "      <td>NaN</td>\n",
       "      <td>NaN</td>\n",
       "      <td>NaN</td>\n",
       "      <td>NaN</td>\n",
       "      <td>NaN</td>\n",
       "      <td>NaN</td>\n",
       "      <td>NaN</td>\n",
       "      <td>18.5</td>\n",
       "      <td>NaN</td>\n",
       "      <td>20.3</td>\n",
       "      <td>...</td>\n",
       "      <td>76.0</td>\n",
       "      <td>39.6</td>\n",
       "      <td>NaN</td>\n",
       "      <td>62.6</td>\n",
       "      <td>NaN</td>\n",
       "      <td>NaN</td>\n",
       "      <td>106.8</td>\n",
       "      <td>NaN</td>\n",
       "      <td>NaN</td>\n",
       "      <td>NaN</td>\n",
       "    </tr>\n",
       "    <tr>\n",
       "      <th>2005</th>\n",
       "      <td>NaN</td>\n",
       "      <td>NaN</td>\n",
       "      <td>14.4</td>\n",
       "      <td>NaN</td>\n",
       "      <td>14.2</td>\n",
       "      <td>NaN</td>\n",
       "      <td>NaN</td>\n",
       "      <td>19.4</td>\n",
       "      <td>NaN</td>\n",
       "      <td>18.3</td>\n",
       "      <td>...</td>\n",
       "      <td>85.8</td>\n",
       "      <td>NaN</td>\n",
       "      <td>44.1</td>\n",
       "      <td>41.6</td>\n",
       "      <td>NaN</td>\n",
       "      <td>NaN</td>\n",
       "      <td>119.9</td>\n",
       "      <td>NaN</td>\n",
       "      <td>NaN</td>\n",
       "      <td>NaN</td>\n",
       "    </tr>\n",
       "    <tr>\n",
       "      <th>2006</th>\n",
       "      <td>NaN</td>\n",
       "      <td>NaN</td>\n",
       "      <td>16.8</td>\n",
       "      <td>NaN</td>\n",
       "      <td>16.4</td>\n",
       "      <td>NaN</td>\n",
       "      <td>NaN</td>\n",
       "      <td>NaN</td>\n",
       "      <td>NaN</td>\n",
       "      <td>19.1</td>\n",
       "      <td>...</td>\n",
       "      <td>82.8</td>\n",
       "      <td>NaN</td>\n",
       "      <td>23.5</td>\n",
       "      <td>NaN</td>\n",
       "      <td>NaN</td>\n",
       "      <td>NaN</td>\n",
       "      <td>NaN</td>\n",
       "      <td>NaN</td>\n",
       "      <td>NaN</td>\n",
       "      <td>NaN</td>\n",
       "    </tr>\n",
       "    <tr>\n",
       "      <th>2007</th>\n",
       "      <td>NaN</td>\n",
       "      <td>NaN</td>\n",
       "      <td>16.6</td>\n",
       "      <td>NaN</td>\n",
       "      <td>16.5</td>\n",
       "      <td>NaN</td>\n",
       "      <td>NaN</td>\n",
       "      <td>23.2</td>\n",
       "      <td>NaN</td>\n",
       "      <td>19.5</td>\n",
       "      <td>...</td>\n",
       "      <td>72.0</td>\n",
       "      <td>NaN</td>\n",
       "      <td>57.5</td>\n",
       "      <td>NaN</td>\n",
       "      <td>NaN</td>\n",
       "      <td>NaN</td>\n",
       "      <td>65.4</td>\n",
       "      <td>NaN</td>\n",
       "      <td>NaN</td>\n",
       "      <td>NaN</td>\n",
       "    </tr>\n",
       "    <tr>\n",
       "      <th>2008</th>\n",
       "      <td>NaN</td>\n",
       "      <td>NaN</td>\n",
       "      <td>14.8</td>\n",
       "      <td>NaN</td>\n",
       "      <td>16.1</td>\n",
       "      <td>NaN</td>\n",
       "      <td>NaN</td>\n",
       "      <td>NaN</td>\n",
       "      <td>NaN</td>\n",
       "      <td>17.7</td>\n",
       "      <td>...</td>\n",
       "      <td>135.0</td>\n",
       "      <td>NaN</td>\n",
       "      <td>159.0</td>\n",
       "      <td>NaN</td>\n",
       "      <td>NaN</td>\n",
       "      <td>NaN</td>\n",
       "      <td>81.2</td>\n",
       "      <td>NaN</td>\n",
       "      <td>NaN</td>\n",
       "      <td>NaN</td>\n",
       "    </tr>\n",
       "    <tr>\n",
       "      <th>2009</th>\n",
       "      <td>NaN</td>\n",
       "      <td>NaN</td>\n",
       "      <td>16.5</td>\n",
       "      <td>NaN</td>\n",
       "      <td>18.7</td>\n",
       "      <td>NaN</td>\n",
       "      <td>NaN</td>\n",
       "      <td>NaN</td>\n",
       "      <td>NaN</td>\n",
       "      <td>20.4</td>\n",
       "      <td>...</td>\n",
       "      <td>90.0</td>\n",
       "      <td>NaN</td>\n",
       "      <td>59.0</td>\n",
       "      <td>NaN</td>\n",
       "      <td>NaN</td>\n",
       "      <td>NaN</td>\n",
       "      <td>42.4</td>\n",
       "      <td>NaN</td>\n",
       "      <td>NaN</td>\n",
       "      <td>NaN</td>\n",
       "    </tr>\n",
       "    <tr>\n",
       "      <th>2010</th>\n",
       "      <td>NaN</td>\n",
       "      <td>NaN</td>\n",
       "      <td>14.6</td>\n",
       "      <td>NaN</td>\n",
       "      <td>16.8</td>\n",
       "      <td>NaN</td>\n",
       "      <td>NaN</td>\n",
       "      <td>NaN</td>\n",
       "      <td>NaN</td>\n",
       "      <td>18.3</td>\n",
       "      <td>...</td>\n",
       "      <td>85.2</td>\n",
       "      <td>NaN</td>\n",
       "      <td>112.5</td>\n",
       "      <td>NaN</td>\n",
       "      <td>NaN</td>\n",
       "      <td>NaN</td>\n",
       "      <td>62.8</td>\n",
       "      <td>NaN</td>\n",
       "      <td>NaN</td>\n",
       "      <td>NaN</td>\n",
       "    </tr>\n",
       "    <tr>\n",
       "      <th>2011</th>\n",
       "      <td>NaN</td>\n",
       "      <td>NaN</td>\n",
       "      <td>11.2</td>\n",
       "      <td>NaN</td>\n",
       "      <td>14.4</td>\n",
       "      <td>NaN</td>\n",
       "      <td>NaN</td>\n",
       "      <td>NaN</td>\n",
       "      <td>NaN</td>\n",
       "      <td>17.4</td>\n",
       "      <td>...</td>\n",
       "      <td>156.4</td>\n",
       "      <td>NaN</td>\n",
       "      <td>52.0</td>\n",
       "      <td>NaN</td>\n",
       "      <td>NaN</td>\n",
       "      <td>NaN</td>\n",
       "      <td>175.0</td>\n",
       "      <td>123.2</td>\n",
       "      <td>NaN</td>\n",
       "      <td>NaN</td>\n",
       "    </tr>\n",
       "    <tr>\n",
       "      <th>2012</th>\n",
       "      <td>NaN</td>\n",
       "      <td>NaN</td>\n",
       "      <td>15.1</td>\n",
       "      <td>NaN</td>\n",
       "      <td>18.0</td>\n",
       "      <td>NaN</td>\n",
       "      <td>NaN</td>\n",
       "      <td>NaN</td>\n",
       "      <td>17.6</td>\n",
       "      <td>NaN</td>\n",
       "      <td>...</td>\n",
       "      <td>72.0</td>\n",
       "      <td>NaN</td>\n",
       "      <td>87.9</td>\n",
       "      <td>NaN</td>\n",
       "      <td>NaN</td>\n",
       "      <td>NaN</td>\n",
       "      <td>NaN</td>\n",
       "      <td>56.4</td>\n",
       "      <td>NaN</td>\n",
       "      <td>NaN</td>\n",
       "    </tr>\n",
       "    <tr>\n",
       "      <th>2013</th>\n",
       "      <td>NaN</td>\n",
       "      <td>NaN</td>\n",
       "      <td>14.5</td>\n",
       "      <td>NaN</td>\n",
       "      <td>17.5</td>\n",
       "      <td>NaN</td>\n",
       "      <td>NaN</td>\n",
       "      <td>NaN</td>\n",
       "      <td>NaN</td>\n",
       "      <td>18.9</td>\n",
       "      <td>...</td>\n",
       "      <td>NaN</td>\n",
       "      <td>NaN</td>\n",
       "      <td>85.6</td>\n",
       "      <td>NaN</td>\n",
       "      <td>NaN</td>\n",
       "      <td>NaN</td>\n",
       "      <td>NaN</td>\n",
       "      <td>2.4</td>\n",
       "      <td>NaN</td>\n",
       "      <td>NaN</td>\n",
       "    </tr>\n",
       "    <tr>\n",
       "      <th>2014</th>\n",
       "      <td>NaN</td>\n",
       "      <td>NaN</td>\n",
       "      <td>16.6</td>\n",
       "      <td>NaN</td>\n",
       "      <td>18.5</td>\n",
       "      <td>NaN</td>\n",
       "      <td>NaN</td>\n",
       "      <td>NaN</td>\n",
       "      <td>NaN</td>\n",
       "      <td>19.4</td>\n",
       "      <td>...</td>\n",
       "      <td>70.9</td>\n",
       "      <td>NaN</td>\n",
       "      <td>27.0</td>\n",
       "      <td>NaN</td>\n",
       "      <td>NaN</td>\n",
       "      <td>NaN</td>\n",
       "      <td>NaN</td>\n",
       "      <td>75.9</td>\n",
       "      <td>NaN</td>\n",
       "      <td>NaN</td>\n",
       "    </tr>\n",
       "    <tr>\n",
       "      <th>2015</th>\n",
       "      <td>NaN</td>\n",
       "      <td>NaN</td>\n",
       "      <td>16.5</td>\n",
       "      <td>NaN</td>\n",
       "      <td>18.0</td>\n",
       "      <td>NaN</td>\n",
       "      <td>NaN</td>\n",
       "      <td>NaN</td>\n",
       "      <td>NaN</td>\n",
       "      <td>20.5</td>\n",
       "      <td>...</td>\n",
       "      <td>97.4</td>\n",
       "      <td>NaN</td>\n",
       "      <td>123.1</td>\n",
       "      <td>NaN</td>\n",
       "      <td>NaN</td>\n",
       "      <td>NaN</td>\n",
       "      <td>NaN</td>\n",
       "      <td>62.8</td>\n",
       "      <td>NaN</td>\n",
       "      <td>NaN</td>\n",
       "    </tr>\n",
       "    <tr>\n",
       "      <th>2016</th>\n",
       "      <td>NaN</td>\n",
       "      <td>NaN</td>\n",
       "      <td>14.9</td>\n",
       "      <td>NaN</td>\n",
       "      <td>16.7</td>\n",
       "      <td>NaN</td>\n",
       "      <td>NaN</td>\n",
       "      <td>NaN</td>\n",
       "      <td>NaN</td>\n",
       "      <td>18.6</td>\n",
       "      <td>...</td>\n",
       "      <td>96.6</td>\n",
       "      <td>NaN</td>\n",
       "      <td>90.5</td>\n",
       "      <td>NaN</td>\n",
       "      <td>NaN</td>\n",
       "      <td>NaN</td>\n",
       "      <td>NaN</td>\n",
       "      <td>89.4</td>\n",
       "      <td>NaN</td>\n",
       "      <td>NaN</td>\n",
       "    </tr>\n",
       "    <tr>\n",
       "      <th>2017</th>\n",
       "      <td>NaN</td>\n",
       "      <td>NaN</td>\n",
       "      <td>17.3</td>\n",
       "      <td>NaN</td>\n",
       "      <td>18.0</td>\n",
       "      <td>NaN</td>\n",
       "      <td>NaN</td>\n",
       "      <td>NaN</td>\n",
       "      <td>NaN</td>\n",
       "      <td>18.5</td>\n",
       "      <td>...</td>\n",
       "      <td>6.9</td>\n",
       "      <td>NaN</td>\n",
       "      <td>56.0</td>\n",
       "      <td>NaN</td>\n",
       "      <td>NaN</td>\n",
       "      <td>NaN</td>\n",
       "      <td>NaN</td>\n",
       "      <td>47.9</td>\n",
       "      <td>NaN</td>\n",
       "      <td>NaN</td>\n",
       "    </tr>\n",
       "  </tbody>\n",
       "</table>\n",
       "<p>47 rows × 9616 columns</p>\n",
       "</div>"
      ],
      "text/plain": [
       "             Mean Temperature (C)                                    \\\n",
       "Station Name      (AE) BOW SUMMIT 100 MILE HOUSE 100 MILE HOUSE 6NE   \n",
       "Year                                                                  \n",
       "1971                          NaN           16.0                NaN   \n",
       "1972                          NaN           15.1                NaN   \n",
       "1973                          NaN           15.1                NaN   \n",
       "1974                          NaN           13.7                NaN   \n",
       "1975                          NaN           17.2                NaN   \n",
       "1976                          NaN           14.5                NaN   \n",
       "1977                          NaN           13.5                NaN   \n",
       "1978                          NaN           15.5                NaN   \n",
       "1979                          NaN           16.0                NaN   \n",
       "1980                          NaN           14.1                NaN   \n",
       "1981                          NaN           15.1                NaN   \n",
       "1982                          NaN           14.8                NaN   \n",
       "1983                          NaN           14.4                NaN   \n",
       "1984                          NaN           14.7                NaN   \n",
       "1985                          NaN           16.6                NaN   \n",
       "1986                          NaN           13.5                NaN   \n",
       "1987                          NaN           15.4               15.1   \n",
       "1988                          NaN           14.9               14.7   \n",
       "1989                          NaN           15.0               14.8   \n",
       "1990                          NaN           16.3               16.0   \n",
       "1991                          NaN           14.9               14.5   \n",
       "1992                          NaN           15.7               15.3   \n",
       "1993                          NaN           13.5               13.3   \n",
       "1994                          NaN           16.7               16.6   \n",
       "1995                          NaN           15.9               15.5   \n",
       "1996                          NaN           15.3               15.4   \n",
       "1997                          NaN           14.9               14.5   \n",
       "1998                         12.1           18.1               17.4   \n",
       "1999                          NaN           14.9               14.1   \n",
       "2000                          9.1            NaN               14.6   \n",
       "2001                          9.6            NaN               14.3   \n",
       "2002                         10.0            NaN               15.2   \n",
       "2003                         11.1            NaN               16.2   \n",
       "2004                          NaN            NaN                NaN   \n",
       "2005                          NaN            NaN               14.4   \n",
       "2006                          NaN            NaN               16.8   \n",
       "2007                          NaN            NaN               16.6   \n",
       "2008                          NaN            NaN               14.8   \n",
       "2009                          NaN            NaN               16.5   \n",
       "2010                          NaN            NaN               14.6   \n",
       "2011                          NaN            NaN               11.2   \n",
       "2012                          NaN            NaN               15.1   \n",
       "2013                          NaN            NaN               14.5   \n",
       "2014                          NaN            NaN               16.6   \n",
       "2015                          NaN            NaN               16.5   \n",
       "2016                          NaN            NaN               14.9   \n",
       "2017                          NaN            NaN               17.3   \n",
       "\n",
       "                                                                        \\\n",
       "Station Name 108 MILE HOUSE 108 MILE HOUSE ABEL LAKE 150 MILE HOUSE 7N   \n",
       "Year                                                                     \n",
       "1971                    NaN                      NaN              15.5   \n",
       "1972                    NaN                      NaN              14.1   \n",
       "1973                   15.9                      NaN              14.1   \n",
       "1974                    NaN                      NaN              13.0   \n",
       "1975                    NaN                      NaN               NaN   \n",
       "1976                    NaN                      NaN               NaN   \n",
       "1977                    NaN                      NaN               NaN   \n",
       "1978                    NaN                      NaN               NaN   \n",
       "1979                    NaN                      NaN               NaN   \n",
       "1980                    NaN                      NaN               NaN   \n",
       "1981                    NaN                      NaN               NaN   \n",
       "1982                    NaN                      NaN               NaN   \n",
       "1983                    NaN                      NaN               NaN   \n",
       "1984                    NaN                      NaN               NaN   \n",
       "1985                    NaN                      NaN               NaN   \n",
       "1986                    NaN                      NaN               NaN   \n",
       "1987                    NaN                     15.4               NaN   \n",
       "1988                    NaN                     15.1               NaN   \n",
       "1989                    NaN                     14.6               NaN   \n",
       "1990                    NaN                     15.4               NaN   \n",
       "1991                    NaN                     14.3               NaN   \n",
       "1992                    NaN                     15.3               NaN   \n",
       "1993                    NaN                     12.9               NaN   \n",
       "1994                    NaN                     16.6               NaN   \n",
       "1995                    NaN                     15.3               NaN   \n",
       "1996                    NaN                     14.3               NaN   \n",
       "1997                    NaN                     14.1               NaN   \n",
       "1998                    NaN                     17.3               NaN   \n",
       "1999                    NaN                     14.0               NaN   \n",
       "2000                    NaN                     15.2               NaN   \n",
       "2001                    NaN                     14.3               NaN   \n",
       "2002                    NaN                     16.3               NaN   \n",
       "2003                    NaN                     16.3               NaN   \n",
       "2004                    NaN                      NaN               NaN   \n",
       "2005                    NaN                     14.2               NaN   \n",
       "2006                    NaN                     16.4               NaN   \n",
       "2007                    NaN                     16.5               NaN   \n",
       "2008                    NaN                     16.1               NaN   \n",
       "2009                    NaN                     18.7               NaN   \n",
       "2010                    NaN                     16.8               NaN   \n",
       "2011                    NaN                     14.4               NaN   \n",
       "2012                    NaN                     18.0               NaN   \n",
       "2013                    NaN                     17.5               NaN   \n",
       "2014                    NaN                     18.5               NaN   \n",
       "2015                    NaN                     18.0               NaN   \n",
       "2016                    NaN                     16.7               NaN   \n",
       "2017                    NaN                     18.0               NaN   \n",
       "\n",
       "                                                          ...  \\\n",
       "Station Name 70 MILE HOUSE ABBEY ABBOTSFORD ABBOTSFORD A  ...   \n",
       "Year                                                      ...   \n",
       "1971                   NaN  17.6        NaN         17.5  ...   \n",
       "1972                   NaN   NaN        NaN         17.1  ...   \n",
       "1973                   NaN   NaN        NaN         16.6  ...   \n",
       "1974                  11.9   NaN        NaN         16.1  ...   \n",
       "1975                  15.2   NaN        NaN         17.6  ...   \n",
       "1976                  12.8   NaN        NaN         16.5  ...   \n",
       "1977                  13.0  18.3        NaN         15.8  ...   \n",
       "1978                  15.6  18.3        NaN         17.9  ...   \n",
       "1979                  15.0  19.3        NaN         17.9  ...   \n",
       "1980                  13.1  18.4        NaN         16.7  ...   \n",
       "1981                  14.1  18.6        NaN         17.1  ...   \n",
       "1982                  13.1  17.7        NaN         16.6  ...   \n",
       "1983                  12.9  18.6        NaN         16.4  ...   \n",
       "1984                  13.3  20.2        NaN         17.0  ...   \n",
       "1985                  15.3  19.6        NaN         19.6  ...   \n",
       "1986                   NaN  17.3        NaN         15.7  ...   \n",
       "1987                   NaN  18.6        NaN         17.3  ...   \n",
       "1988                   NaN  19.9        NaN         17.4  ...   \n",
       "1989                   NaN  21.0        NaN         17.0  ...   \n",
       "1990                   NaN  18.3        NaN         19.5  ...   \n",
       "1991                   NaN  19.0        NaN         18.2  ...   \n",
       "1992                   NaN  16.5        NaN         18.3  ...   \n",
       "1993                   NaN  15.8        NaN         16.2  ...   \n",
       "1994                   NaN  19.5        NaN         18.8  ...   \n",
       "1995                   NaN  18.6        NaN         18.6  ...   \n",
       "1996                   NaN  19.2        NaN         19.0  ...   \n",
       "1997                   NaN  19.3        NaN         17.8  ...   \n",
       "1998                   NaN  21.1        NaN         19.5  ...   \n",
       "1999                   NaN  17.2        NaN         17.3  ...   \n",
       "2000                   NaN  20.3        NaN         17.6  ...   \n",
       "2001                   NaN  20.5        NaN         17.0  ...   \n",
       "2002                   NaN  20.9        NaN         18.5  ...   \n",
       "2003                   NaN  20.7        NaN         19.4  ...   \n",
       "2004                   NaN  18.5        NaN         20.3  ...   \n",
       "2005                   NaN  19.4        NaN         18.3  ...   \n",
       "2006                   NaN   NaN        NaN         19.1  ...   \n",
       "2007                   NaN  23.2        NaN         19.5  ...   \n",
       "2008                   NaN   NaN        NaN         17.7  ...   \n",
       "2009                   NaN   NaN        NaN         20.4  ...   \n",
       "2010                   NaN   NaN        NaN         18.3  ...   \n",
       "2011                   NaN   NaN        NaN         17.4  ...   \n",
       "2012                   NaN   NaN       17.6          NaN  ...   \n",
       "2013                   NaN   NaN        NaN         18.9  ...   \n",
       "2014                   NaN   NaN        NaN         19.4  ...   \n",
       "2015                   NaN   NaN        NaN         20.5  ...   \n",
       "2016                   NaN   NaN        NaN         18.6  ...   \n",
       "2017                   NaN   NaN        NaN         18.5  ...   \n",
       "\n",
       "             Total Precipitation (mm)                                 \\\n",
       "Station Name                YOHO PARK YORK FACTORY YORKTON YORKTON A   \n",
       "Year                                                                   \n",
       "1971                              NaN          NaN     NaN      92.1   \n",
       "1972                              NaN          NaN     NaN      57.6   \n",
       "1973                              NaN          NaN     NaN      67.9   \n",
       "1974                              NaN          NaN     NaN      31.3   \n",
       "1975                              NaN          NaN     NaN      36.1   \n",
       "1976                              NaN          NaN     NaN      34.4   \n",
       "1977                              NaN          NaN     NaN      53.1   \n",
       "1978                              NaN          NaN     NaN      86.2   \n",
       "1979                              NaN          NaN     NaN      11.2   \n",
       "1980                              NaN          NaN     NaN      62.3   \n",
       "1981                              NaN          NaN     NaN     131.9   \n",
       "1982                              NaN          NaN     NaN     138.4   \n",
       "1983                              NaN          NaN     NaN     140.0   \n",
       "1984                              NaN          NaN     NaN      31.3   \n",
       "1985                              NaN          NaN     NaN      25.9   \n",
       "1986                              NaN          NaN     NaN     125.2   \n",
       "1987                              NaN          NaN     NaN      97.8   \n",
       "1988                              NaN          NaN     NaN      24.3   \n",
       "1989                              NaN          NaN     NaN      39.8   \n",
       "1990                              NaN          NaN     NaN      86.4   \n",
       "1991                              NaN          NaN     NaN     102.9   \n",
       "1992                              NaN         21.7     NaN     182.8   \n",
       "1993                            153.6         52.4     NaN     115.2   \n",
       "1994                             51.8         34.2     NaN      32.4   \n",
       "1995                              NaN         80.0     NaN      59.6   \n",
       "1996                             76.1          NaN     NaN     126.4   \n",
       "1997                            111.0          NaN     NaN      19.2   \n",
       "1998                             60.2        100.8     NaN     167.8   \n",
       "1999                             96.6         58.0     NaN      53.8   \n",
       "2000                              NaN         85.8     NaN      58.8   \n",
       "2001                             44.6         48.0     NaN      31.6   \n",
       "2002                             66.4         71.4     NaN      39.4   \n",
       "2003                             71.8         15.0     NaN      46.0   \n",
       "2004                             76.0         39.6     NaN      62.6   \n",
       "2005                             85.8          NaN    44.1      41.6   \n",
       "2006                             82.8          NaN    23.5       NaN   \n",
       "2007                             72.0          NaN    57.5       NaN   \n",
       "2008                            135.0          NaN   159.0       NaN   \n",
       "2009                             90.0          NaN    59.0       NaN   \n",
       "2010                             85.2          NaN   112.5       NaN   \n",
       "2011                            156.4          NaN    52.0       NaN   \n",
       "2012                             72.0          NaN    87.9       NaN   \n",
       "2013                              NaN          NaN    85.6       NaN   \n",
       "2014                             70.9          NaN    27.0       NaN   \n",
       "2015                             97.4          NaN   123.1       NaN   \n",
       "2016                             96.6          NaN    90.5       NaN   \n",
       "2017                              6.9          NaN    56.0       NaN   \n",
       "\n",
       "                                                                               \n",
       "Station Name YOUBOU SCHOOL  YOYO ZAMA LO ZEBALLOS MURAUDE CREEK ZEHNER  ZHODA  \n",
       "Year                                                                           \n",
       "1971                   NaN   NaN    74.5                    NaN    NaN    NaN  \n",
       "1972                  81.1   NaN    48.3                    NaN    NaN    NaN  \n",
       "1973                   NaN   NaN   131.1                    NaN    NaN    NaN  \n",
       "1974                   NaN   NaN    34.7                    NaN    NaN    NaN  \n",
       "1975                   NaN   NaN    95.6                    NaN    NaN    NaN  \n",
       "1976                   NaN   NaN   147.5                    NaN    NaN    NaN  \n",
       "1977                   NaN   NaN    87.1                    NaN    NaN    NaN  \n",
       "1978                   NaN   NaN    34.7                    NaN    NaN    NaN  \n",
       "1979                   NaN   NaN    62.9                    NaN    NaN    NaN  \n",
       "1980                   NaN   NaN   108.0                    NaN    NaN    NaN  \n",
       "1981                   NaN   NaN    33.6                    NaN  117.3    NaN  \n",
       "1982                   NaN   NaN    20.7                    NaN   97.4    NaN  \n",
       "1983                   NaN  21.0    85.1                    NaN  198.6    NaN  \n",
       "1984                   NaN   NaN   104.5                    NaN   31.9  100.8  \n",
       "1985                   NaN  36.4    72.2                    NaN   13.4   10.0  \n",
       "1986                   NaN   NaN   113.8                    NaN   87.6  150.2  \n",
       "1987                   NaN   NaN   139.0                    NaN  126.8  105.2  \n",
       "1988                   NaN   NaN    61.0                    NaN   46.2   68.2  \n",
       "1989                   NaN   NaN    72.2                    NaN   66.8   45.8  \n",
       "1990                   NaN   NaN    32.8                    NaN  122.0   68.2  \n",
       "1991                   NaN   NaN   150.0                    NaN   58.6  100.2  \n",
       "1992                   NaN   NaN    97.8                    NaN   67.8   78.6  \n",
       "1993                   NaN   NaN    86.6                    NaN  163.7  133.4  \n",
       "1994                   NaN   NaN   109.2                    NaN   65.3   85.4  \n",
       "1995                   NaN   NaN    84.4                    NaN   45.6  115.2  \n",
       "1996                   NaN   NaN    60.8                    NaN   64.2   58.0  \n",
       "1997                   NaN   NaN   196.2                    NaN   31.8  143.0  \n",
       "1998                   NaN   NaN   187.6                    NaN   44.6   62.8  \n",
       "1999                   NaN   NaN   192.8                    NaN    NaN   90.6  \n",
       "2000                   NaN   NaN    60.2                    NaN    NaN    NaN  \n",
       "2001                   NaN   NaN    71.4                    NaN    NaN    NaN  \n",
       "2002                   NaN   NaN   106.8                    NaN    NaN    NaN  \n",
       "2003                   NaN   NaN   144.2                    NaN    NaN    NaN  \n",
       "2004                   NaN   NaN   106.8                    NaN    NaN    NaN  \n",
       "2005                   NaN   NaN   119.9                    NaN    NaN    NaN  \n",
       "2006                   NaN   NaN     NaN                    NaN    NaN    NaN  \n",
       "2007                   NaN   NaN    65.4                    NaN    NaN    NaN  \n",
       "2008                   NaN   NaN    81.2                    NaN    NaN    NaN  \n",
       "2009                   NaN   NaN    42.4                    NaN    NaN    NaN  \n",
       "2010                   NaN   NaN    62.8                    NaN    NaN    NaN  \n",
       "2011                   NaN   NaN   175.0                  123.2    NaN    NaN  \n",
       "2012                   NaN   NaN     NaN                   56.4    NaN    NaN  \n",
       "2013                   NaN   NaN     NaN                    2.4    NaN    NaN  \n",
       "2014                   NaN   NaN     NaN                   75.9    NaN    NaN  \n",
       "2015                   NaN   NaN     NaN                   62.8    NaN    NaN  \n",
       "2016                   NaN   NaN     NaN                   89.4    NaN    NaN  \n",
       "2017                   NaN   NaN     NaN                   47.9    NaN    NaN  \n",
       "\n",
       "[47 rows x 9616 columns]"
      ]
     },
     "execution_count": 76,
     "metadata": {},
     "output_type": "execute_result"
    }
   ],
   "source": [
    "weather_p2 = weather.pivot(index='Year',\n",
    "                           columns='Station Name',\n",
    "                           values=['Mean Temperature (C)', \n",
    "                                   'Total Precipitation (mm)'])\n",
    "\n",
    "weather_p2"
   ]
  },
  {
   "cell_type": "markdown",
   "metadata": {
    "slideshow": {
     "slide_type": "subslide"
    }
   },
   "source": [
    "This allows us to get the mean of **all** stations!"
   ]
  },
  {
   "cell_type": "code",
   "execution_count": 77,
   "metadata": {
    "slideshow": {
     "slide_type": "fragment"
    }
   },
   "outputs": [
    {
     "data": {
      "text/plain": [
       "Station Name\n",
       "(AE) BOW SUMMIT             10.380000\n",
       "100 MILE HOUSE              15.217241\n",
       "100 MILE HOUSE 6NE          15.243333\n",
       "108 MILE HOUSE              15.900000\n",
       "108 MILE HOUSE ABEL LAKE    15.883333\n",
       "                              ...    \n",
       "YOYO                        13.350000\n",
       "ZAMA LO                     15.392500\n",
       "ZEBALLOS MURAUDE CREEK      17.028571\n",
       "ZEHNER                      18.083333\n",
       "ZHODA                       18.825000\n",
       "Length: 4808, dtype: float64"
      ]
     },
     "execution_count": 77,
     "metadata": {},
     "output_type": "execute_result"
    }
   ],
   "source": [
    "weather_p2['Mean Temperature (C)'].mean()"
   ]
  },
  {
   "cell_type": "markdown",
   "metadata": {
    "slideshow": {
     "slide_type": "subslide"
    }
   },
   "source": [
    "### Pivoting with Aggregation"
   ]
  },
  {
   "cell_type": "markdown",
   "metadata": {
    "slideshow": {
     "slide_type": "subslide"
    }
   },
   "source": [
    "This next cell will give an error! **WHY**"
   ]
  },
  {
   "cell_type": "code",
   "execution_count": 78,
   "metadata": {
    "slideshow": {
     "slide_type": "fragment"
    }
   },
   "outputs": [
    {
     "ename": "ValueError",
     "evalue": "Index contains duplicate entries, cannot reshape",
     "output_type": "error",
     "traceback": [
      "\u001b[1;31m---------------------------------------------------------------------------\u001b[0m",
      "\u001b[1;31mValueError\u001b[0m                                Traceback (most recent call last)",
      "\u001b[1;32m<ipython-input-78-5aa80236c418>\u001b[0m in \u001b[0;36m<module>\u001b[1;34m\u001b[0m\n\u001b[0;32m      2\u001b[0m               \u001b[0mcolumns\u001b[0m\u001b[1;33m=\u001b[0m\u001b[1;34m'Year'\u001b[0m\u001b[1;33m,\u001b[0m\u001b[1;33m\u001b[0m\u001b[1;33m\u001b[0m\u001b[0m\n\u001b[0;32m      3\u001b[0m               values=['Mean Temperature (C)', \n\u001b[1;32m----> 4\u001b[1;33m                     'Total Precipitation (mm)'])  # Error!\n\u001b[0m",
      "\u001b[1;32mC:\\Anaconda\\lib\\site-packages\\pandas\\core\\frame.py\u001b[0m in \u001b[0;36mpivot\u001b[1;34m(self, index, columns, values)\u001b[0m\n\u001b[0;32m   5921\u001b[0m         \u001b[1;32mfrom\u001b[0m \u001b[0mpandas\u001b[0m\u001b[1;33m.\u001b[0m\u001b[0mcore\u001b[0m\u001b[1;33m.\u001b[0m\u001b[0mreshape\u001b[0m\u001b[1;33m.\u001b[0m\u001b[0mpivot\u001b[0m \u001b[1;32mimport\u001b[0m \u001b[0mpivot\u001b[0m\u001b[1;33m\u001b[0m\u001b[1;33m\u001b[0m\u001b[0m\n\u001b[0;32m   5922\u001b[0m \u001b[1;33m\u001b[0m\u001b[0m\n\u001b[1;32m-> 5923\u001b[1;33m         \u001b[1;32mreturn\u001b[0m \u001b[0mpivot\u001b[0m\u001b[1;33m(\u001b[0m\u001b[0mself\u001b[0m\u001b[1;33m,\u001b[0m \u001b[0mindex\u001b[0m\u001b[1;33m=\u001b[0m\u001b[0mindex\u001b[0m\u001b[1;33m,\u001b[0m \u001b[0mcolumns\u001b[0m\u001b[1;33m=\u001b[0m\u001b[0mcolumns\u001b[0m\u001b[1;33m,\u001b[0m \u001b[0mvalues\u001b[0m\u001b[1;33m=\u001b[0m\u001b[0mvalues\u001b[0m\u001b[1;33m)\u001b[0m\u001b[1;33m\u001b[0m\u001b[1;33m\u001b[0m\u001b[0m\n\u001b[0m\u001b[0;32m   5924\u001b[0m \u001b[1;33m\u001b[0m\u001b[0m\n\u001b[0;32m   5925\u001b[0m     _shared_docs[\n",
      "\u001b[1;32mC:\\Anaconda\\lib\\site-packages\\pandas\\core\\reshape\\pivot.py\u001b[0m in \u001b[0;36mpivot\u001b[1;34m(data, index, columns, values)\u001b[0m\n\u001b[0;32m    446\u001b[0m         \u001b[1;32melse\u001b[0m\u001b[1;33m:\u001b[0m\u001b[1;33m\u001b[0m\u001b[1;33m\u001b[0m\u001b[0m\n\u001b[0;32m    447\u001b[0m             \u001b[0mindexed\u001b[0m \u001b[1;33m=\u001b[0m \u001b[0mdata\u001b[0m\u001b[1;33m.\u001b[0m\u001b[0m_constructor_sliced\u001b[0m\u001b[1;33m(\u001b[0m\u001b[0mdata\u001b[0m\u001b[1;33m[\u001b[0m\u001b[0mvalues\u001b[0m\u001b[1;33m]\u001b[0m\u001b[1;33m.\u001b[0m\u001b[0mvalues\u001b[0m\u001b[1;33m,\u001b[0m \u001b[0mindex\u001b[0m\u001b[1;33m=\u001b[0m\u001b[0mindex\u001b[0m\u001b[1;33m)\u001b[0m\u001b[1;33m\u001b[0m\u001b[1;33m\u001b[0m\u001b[0m\n\u001b[1;32m--> 448\u001b[1;33m     \u001b[1;32mreturn\u001b[0m \u001b[0mindexed\u001b[0m\u001b[1;33m.\u001b[0m\u001b[0munstack\u001b[0m\u001b[1;33m(\u001b[0m\u001b[0mcolumns\u001b[0m\u001b[1;33m)\u001b[0m\u001b[1;33m\u001b[0m\u001b[1;33m\u001b[0m\u001b[0m\n\u001b[0m\u001b[0;32m    449\u001b[0m \u001b[1;33m\u001b[0m\u001b[0m\n\u001b[0;32m    450\u001b[0m \u001b[1;33m\u001b[0m\u001b[0m\n",
      "\u001b[1;32mC:\\Anaconda\\lib\\site-packages\\pandas\\core\\frame.py\u001b[0m in \u001b[0;36munstack\u001b[1;34m(self, level, fill_value)\u001b[0m\n\u001b[0;32m   6384\u001b[0m         \u001b[1;32mfrom\u001b[0m \u001b[0mpandas\u001b[0m\u001b[1;33m.\u001b[0m\u001b[0mcore\u001b[0m\u001b[1;33m.\u001b[0m\u001b[0mreshape\u001b[0m\u001b[1;33m.\u001b[0m\u001b[0mreshape\u001b[0m \u001b[1;32mimport\u001b[0m \u001b[0munstack\u001b[0m\u001b[1;33m\u001b[0m\u001b[1;33m\u001b[0m\u001b[0m\n\u001b[0;32m   6385\u001b[0m \u001b[1;33m\u001b[0m\u001b[0m\n\u001b[1;32m-> 6386\u001b[1;33m         \u001b[1;32mreturn\u001b[0m \u001b[0munstack\u001b[0m\u001b[1;33m(\u001b[0m\u001b[0mself\u001b[0m\u001b[1;33m,\u001b[0m \u001b[0mlevel\u001b[0m\u001b[1;33m,\u001b[0m \u001b[0mfill_value\u001b[0m\u001b[1;33m)\u001b[0m\u001b[1;33m\u001b[0m\u001b[1;33m\u001b[0m\u001b[0m\n\u001b[0m\u001b[0;32m   6387\u001b[0m \u001b[1;33m\u001b[0m\u001b[0m\n\u001b[0;32m   6388\u001b[0m     _shared_docs[\n",
      "\u001b[1;32mC:\\Anaconda\\lib\\site-packages\\pandas\\core\\reshape\\reshape.py\u001b[0m in \u001b[0;36munstack\u001b[1;34m(obj, level, fill_value)\u001b[0m\n\u001b[0;32m    406\u001b[0m     \u001b[1;32mif\u001b[0m \u001b[0misinstance\u001b[0m\u001b[1;33m(\u001b[0m\u001b[0mobj\u001b[0m\u001b[1;33m,\u001b[0m \u001b[0mDataFrame\u001b[0m\u001b[1;33m)\u001b[0m\u001b[1;33m:\u001b[0m\u001b[1;33m\u001b[0m\u001b[1;33m\u001b[0m\u001b[0m\n\u001b[0;32m    407\u001b[0m         \u001b[1;32mif\u001b[0m \u001b[0misinstance\u001b[0m\u001b[1;33m(\u001b[0m\u001b[0mobj\u001b[0m\u001b[1;33m.\u001b[0m\u001b[0mindex\u001b[0m\u001b[1;33m,\u001b[0m \u001b[0mMultiIndex\u001b[0m\u001b[1;33m)\u001b[0m\u001b[1;33m:\u001b[0m\u001b[1;33m\u001b[0m\u001b[1;33m\u001b[0m\u001b[0m\n\u001b[1;32m--> 408\u001b[1;33m             \u001b[1;32mreturn\u001b[0m \u001b[0m_unstack_frame\u001b[0m\u001b[1;33m(\u001b[0m\u001b[0mobj\u001b[0m\u001b[1;33m,\u001b[0m \u001b[0mlevel\u001b[0m\u001b[1;33m,\u001b[0m \u001b[0mfill_value\u001b[0m\u001b[1;33m=\u001b[0m\u001b[0mfill_value\u001b[0m\u001b[1;33m)\u001b[0m\u001b[1;33m\u001b[0m\u001b[1;33m\u001b[0m\u001b[0m\n\u001b[0m\u001b[0;32m    409\u001b[0m         \u001b[1;32melse\u001b[0m\u001b[1;33m:\u001b[0m\u001b[1;33m\u001b[0m\u001b[1;33m\u001b[0m\u001b[0m\n\u001b[0;32m    410\u001b[0m             \u001b[1;32mreturn\u001b[0m \u001b[0mobj\u001b[0m\u001b[1;33m.\u001b[0m\u001b[0mT\u001b[0m\u001b[1;33m.\u001b[0m\u001b[0mstack\u001b[0m\u001b[1;33m(\u001b[0m\u001b[0mdropna\u001b[0m\u001b[1;33m=\u001b[0m\u001b[1;32mFalse\u001b[0m\u001b[1;33m)\u001b[0m\u001b[1;33m\u001b[0m\u001b[1;33m\u001b[0m\u001b[0m\n",
      "\u001b[1;32mC:\\Anaconda\\lib\\site-packages\\pandas\\core\\reshape\\reshape.py\u001b[0m in \u001b[0;36m_unstack_frame\u001b[1;34m(obj, level, fill_value)\u001b[0m\n\u001b[0;32m    436\u001b[0m             \u001b[0mvalue_columns\u001b[0m\u001b[1;33m=\u001b[0m\u001b[0mobj\u001b[0m\u001b[1;33m.\u001b[0m\u001b[0mcolumns\u001b[0m\u001b[1;33m,\u001b[0m\u001b[1;33m\u001b[0m\u001b[1;33m\u001b[0m\u001b[0m\n\u001b[0;32m    437\u001b[0m             \u001b[0mfill_value\u001b[0m\u001b[1;33m=\u001b[0m\u001b[0mfill_value\u001b[0m\u001b[1;33m,\u001b[0m\u001b[1;33m\u001b[0m\u001b[1;33m\u001b[0m\u001b[0m\n\u001b[1;32m--> 438\u001b[1;33m             \u001b[0mconstructor\u001b[0m\u001b[1;33m=\u001b[0m\u001b[0mobj\u001b[0m\u001b[1;33m.\u001b[0m\u001b[0m_constructor\u001b[0m\u001b[1;33m,\u001b[0m\u001b[1;33m\u001b[0m\u001b[1;33m\u001b[0m\u001b[0m\n\u001b[0m\u001b[0;32m    439\u001b[0m         )\n\u001b[0;32m    440\u001b[0m         \u001b[1;32mreturn\u001b[0m \u001b[0munstacker\u001b[0m\u001b[1;33m.\u001b[0m\u001b[0mget_result\u001b[0m\u001b[1;33m(\u001b[0m\u001b[1;33m)\u001b[0m\u001b[1;33m\u001b[0m\u001b[1;33m\u001b[0m\u001b[0m\n",
      "\u001b[1;32mC:\\Anaconda\\lib\\site-packages\\pandas\\core\\reshape\\reshape.py\u001b[0m in \u001b[0;36m__init__\u001b[1;34m(self, values, index, level, value_columns, fill_value, constructor)\u001b[0m\n\u001b[0;32m    139\u001b[0m \u001b[1;33m\u001b[0m\u001b[0m\n\u001b[0;32m    140\u001b[0m         \u001b[0mself\u001b[0m\u001b[1;33m.\u001b[0m\u001b[0m_make_sorted_values_labels\u001b[0m\u001b[1;33m(\u001b[0m\u001b[1;33m)\u001b[0m\u001b[1;33m\u001b[0m\u001b[1;33m\u001b[0m\u001b[0m\n\u001b[1;32m--> 141\u001b[1;33m         \u001b[0mself\u001b[0m\u001b[1;33m.\u001b[0m\u001b[0m_make_selectors\u001b[0m\u001b[1;33m(\u001b[0m\u001b[1;33m)\u001b[0m\u001b[1;33m\u001b[0m\u001b[1;33m\u001b[0m\u001b[0m\n\u001b[0m\u001b[0;32m    142\u001b[0m \u001b[1;33m\u001b[0m\u001b[0m\n\u001b[0;32m    143\u001b[0m     \u001b[1;32mdef\u001b[0m \u001b[0m_make_sorted_values_labels\u001b[0m\u001b[1;33m(\u001b[0m\u001b[0mself\u001b[0m\u001b[1;33m)\u001b[0m\u001b[1;33m:\u001b[0m\u001b[1;33m\u001b[0m\u001b[1;33m\u001b[0m\u001b[0m\n",
      "\u001b[1;32mC:\\Anaconda\\lib\\site-packages\\pandas\\core\\reshape\\reshape.py\u001b[0m in \u001b[0;36m_make_selectors\u001b[1;34m(self)\u001b[0m\n\u001b[0;32m    177\u001b[0m \u001b[1;33m\u001b[0m\u001b[0m\n\u001b[0;32m    178\u001b[0m         \u001b[1;32mif\u001b[0m \u001b[0mmask\u001b[0m\u001b[1;33m.\u001b[0m\u001b[0msum\u001b[0m\u001b[1;33m(\u001b[0m\u001b[1;33m)\u001b[0m \u001b[1;33m<\u001b[0m \u001b[0mlen\u001b[0m\u001b[1;33m(\u001b[0m\u001b[0mself\u001b[0m\u001b[1;33m.\u001b[0m\u001b[0mindex\u001b[0m\u001b[1;33m)\u001b[0m\u001b[1;33m:\u001b[0m\u001b[1;33m\u001b[0m\u001b[1;33m\u001b[0m\u001b[0m\n\u001b[1;32m--> 179\u001b[1;33m             \u001b[1;32mraise\u001b[0m \u001b[0mValueError\u001b[0m\u001b[1;33m(\u001b[0m\u001b[1;34m\"Index contains duplicate entries, cannot reshape\"\u001b[0m\u001b[1;33m)\u001b[0m\u001b[1;33m\u001b[0m\u001b[1;33m\u001b[0m\u001b[0m\n\u001b[0m\u001b[0;32m    180\u001b[0m \u001b[1;33m\u001b[0m\u001b[0m\n\u001b[0;32m    181\u001b[0m         \u001b[0mself\u001b[0m\u001b[1;33m.\u001b[0m\u001b[0mgroup_index\u001b[0m \u001b[1;33m=\u001b[0m \u001b[0mcomp_index\u001b[0m\u001b[1;33m\u001b[0m\u001b[1;33m\u001b[0m\u001b[0m\n",
      "\u001b[1;31mValueError\u001b[0m: Index contains duplicate entries, cannot reshape"
     ]
    }
   ],
   "source": [
    "weather.pivot(index='Province',\n",
    "              columns='Year',\n",
    "              values=['Mean Temperature (C)', \n",
    "                    'Total Precipitation (mm)'])  # Error!"
   ]
  },
  {
   "cell_type": "markdown",
   "metadata": {
    "slideshow": {
     "slide_type": "subslide"
    }
   },
   "source": [
    "If we use `pivot_table` with `aggfunc`, we can tell Pandas what to do with these values for instance we may want the `mean`"
   ]
  },
  {
   "cell_type": "code",
   "execution_count": 79,
   "metadata": {
    "slideshow": {
     "slide_type": "fragment"
    }
   },
   "outputs": [
    {
     "data": {
      "text/html": [
       "<div>\n",
       "<style scoped>\n",
       "    .dataframe tbody tr th:only-of-type {\n",
       "        vertical-align: middle;\n",
       "    }\n",
       "\n",
       "    .dataframe tbody tr th {\n",
       "        vertical-align: top;\n",
       "    }\n",
       "\n",
       "    .dataframe thead tr th {\n",
       "        text-align: left;\n",
       "    }\n",
       "\n",
       "    .dataframe thead tr:last-of-type th {\n",
       "        text-align: right;\n",
       "    }\n",
       "</style>\n",
       "<table border=\"1\" class=\"dataframe\">\n",
       "  <thead>\n",
       "    <tr>\n",
       "      <th></th>\n",
       "      <th colspan=\"10\" halign=\"left\">Mean Temperature (C)</th>\n",
       "      <th>...</th>\n",
       "      <th colspan=\"10\" halign=\"left\">Total Precipitation (mm)</th>\n",
       "    </tr>\n",
       "    <tr>\n",
       "      <th>Year</th>\n",
       "      <th>1971</th>\n",
       "      <th>1972</th>\n",
       "      <th>1973</th>\n",
       "      <th>1974</th>\n",
       "      <th>1975</th>\n",
       "      <th>1976</th>\n",
       "      <th>1977</th>\n",
       "      <th>1978</th>\n",
       "      <th>1979</th>\n",
       "      <th>1980</th>\n",
       "      <th>...</th>\n",
       "      <th>2008</th>\n",
       "      <th>2009</th>\n",
       "      <th>2010</th>\n",
       "      <th>2011</th>\n",
       "      <th>2012</th>\n",
       "      <th>2013</th>\n",
       "      <th>2014</th>\n",
       "      <th>2015</th>\n",
       "      <th>2016</th>\n",
       "      <th>2017</th>\n",
       "    </tr>\n",
       "    <tr>\n",
       "      <th>Province</th>\n",
       "      <th></th>\n",
       "      <th></th>\n",
       "      <th></th>\n",
       "      <th></th>\n",
       "      <th></th>\n",
       "      <th></th>\n",
       "      <th></th>\n",
       "      <th></th>\n",
       "      <th></th>\n",
       "      <th></th>\n",
       "      <th></th>\n",
       "      <th></th>\n",
       "      <th></th>\n",
       "      <th></th>\n",
       "      <th></th>\n",
       "      <th></th>\n",
       "      <th></th>\n",
       "      <th></th>\n",
       "      <th></th>\n",
       "      <th></th>\n",
       "      <th></th>\n",
       "    </tr>\n",
       "  </thead>\n",
       "  <tbody>\n",
       "    <tr>\n",
       "      <th>AB</th>\n",
       "      <td>15.057655</td>\n",
       "      <td>13.122741</td>\n",
       "      <td>15.160550</td>\n",
       "      <td>14.393491</td>\n",
       "      <td>17.158160</td>\n",
       "      <td>15.045833</td>\n",
       "      <td>13.898171</td>\n",
       "      <td>15.229518</td>\n",
       "      <td>16.707165</td>\n",
       "      <td>15.106562</td>\n",
       "      <td>...</td>\n",
       "      <td>57.499465</td>\n",
       "      <td>71.784946</td>\n",
       "      <td>63.541739</td>\n",
       "      <td>90.536782</td>\n",
       "      <td>72.519481</td>\n",
       "      <td>54.610132</td>\n",
       "      <td>46.419178</td>\n",
       "      <td>55.166038</td>\n",
       "      <td>77.486829</td>\n",
       "      <td>45.088500</td>\n",
       "    </tr>\n",
       "    <tr>\n",
       "      <th>BC</th>\n",
       "      <td>17.103300</td>\n",
       "      <td>15.994702</td>\n",
       "      <td>15.956347</td>\n",
       "      <td>14.695879</td>\n",
       "      <td>17.289267</td>\n",
       "      <td>14.965147</td>\n",
       "      <td>15.166482</td>\n",
       "      <td>17.168539</td>\n",
       "      <td>17.047714</td>\n",
       "      <td>15.647929</td>\n",
       "      <td>...</td>\n",
       "      <td>45.344048</td>\n",
       "      <td>33.367480</td>\n",
       "      <td>16.013248</td>\n",
       "      <td>70.216800</td>\n",
       "      <td>46.386822</td>\n",
       "      <td>19.295000</td>\n",
       "      <td>43.874000</td>\n",
       "      <td>38.252863</td>\n",
       "      <td>50.727064</td>\n",
       "      <td>24.443781</td>\n",
       "    </tr>\n",
       "    <tr>\n",
       "      <th>MB</th>\n",
       "      <td>16.250000</td>\n",
       "      <td>16.147368</td>\n",
       "      <td>17.946281</td>\n",
       "      <td>20.249194</td>\n",
       "      <td>20.560504</td>\n",
       "      <td>18.756303</td>\n",
       "      <td>18.335897</td>\n",
       "      <td>17.756364</td>\n",
       "      <td>19.988288</td>\n",
       "      <td>18.857273</td>\n",
       "      <td>...</td>\n",
       "      <td>91.120000</td>\n",
       "      <td>79.639394</td>\n",
       "      <td>76.880952</td>\n",
       "      <td>57.208197</td>\n",
       "      <td>61.190625</td>\n",
       "      <td>77.395238</td>\n",
       "      <td>43.877778</td>\n",
       "      <td>98.643103</td>\n",
       "      <td>81.407273</td>\n",
       "      <td>49.230909</td>\n",
       "    </tr>\n",
       "    <tr>\n",
       "      <th>NB</th>\n",
       "      <td>18.055172</td>\n",
       "      <td>17.520968</td>\n",
       "      <td>19.972581</td>\n",
       "      <td>17.357143</td>\n",
       "      <td>19.917742</td>\n",
       "      <td>17.650820</td>\n",
       "      <td>18.026230</td>\n",
       "      <td>18.147368</td>\n",
       "      <td>19.105357</td>\n",
       "      <td>17.536842</td>\n",
       "      <td>...</td>\n",
       "      <td>90.202941</td>\n",
       "      <td>150.363636</td>\n",
       "      <td>100.396552</td>\n",
       "      <td>126.335714</td>\n",
       "      <td>46.455556</td>\n",
       "      <td>148.278571</td>\n",
       "      <td>159.212500</td>\n",
       "      <td>60.976923</td>\n",
       "      <td>83.503846</td>\n",
       "      <td>41.114815</td>\n",
       "    </tr>\n",
       "    <tr>\n",
       "      <th>NL</th>\n",
       "      <td>14.676596</td>\n",
       "      <td>14.482456</td>\n",
       "      <td>16.917241</td>\n",
       "      <td>13.165000</td>\n",
       "      <td>17.165517</td>\n",
       "      <td>14.661818</td>\n",
       "      <td>14.688235</td>\n",
       "      <td>15.235088</td>\n",
       "      <td>15.448276</td>\n",
       "      <td>13.847692</td>\n",
       "      <td>...</td>\n",
       "      <td>66.025397</td>\n",
       "      <td>104.258333</td>\n",
       "      <td>122.348000</td>\n",
       "      <td>138.456522</td>\n",
       "      <td>86.168519</td>\n",
       "      <td>93.465455</td>\n",
       "      <td>79.782000</td>\n",
       "      <td>93.000000</td>\n",
       "      <td>75.052381</td>\n",
       "      <td>67.087805</td>\n",
       "    </tr>\n",
       "    <tr>\n",
       "      <th>NS</th>\n",
       "      <td>18.052174</td>\n",
       "      <td>17.608451</td>\n",
       "      <td>19.455844</td>\n",
       "      <td>16.082895</td>\n",
       "      <td>19.432877</td>\n",
       "      <td>17.419737</td>\n",
       "      <td>17.687500</td>\n",
       "      <td>17.256164</td>\n",
       "      <td>18.333803</td>\n",
       "      <td>17.115714</td>\n",
       "      <td>...</td>\n",
       "      <td>83.421429</td>\n",
       "      <td>93.652500</td>\n",
       "      <td>96.146875</td>\n",
       "      <td>103.189189</td>\n",
       "      <td>58.540000</td>\n",
       "      <td>99.411111</td>\n",
       "      <td>58.148387</td>\n",
       "      <td>75.729032</td>\n",
       "      <td>73.887097</td>\n",
       "      <td>70.881818</td>\n",
       "    </tr>\n",
       "    <tr>\n",
       "      <th>NT</th>\n",
       "      <td>13.304545</td>\n",
       "      <td>11.672727</td>\n",
       "      <td>14.507143</td>\n",
       "      <td>13.164286</td>\n",
       "      <td>14.565789</td>\n",
       "      <td>13.507692</td>\n",
       "      <td>12.472000</td>\n",
       "      <td>11.266667</td>\n",
       "      <td>15.052000</td>\n",
       "      <td>12.096000</td>\n",
       "      <td>...</td>\n",
       "      <td>29.204878</td>\n",
       "      <td>43.634483</td>\n",
       "      <td>44.984211</td>\n",
       "      <td>43.134483</td>\n",
       "      <td>42.741667</td>\n",
       "      <td>46.530556</td>\n",
       "      <td>44.153333</td>\n",
       "      <td>52.686364</td>\n",
       "      <td>37.513043</td>\n",
       "      <td>41.330000</td>\n",
       "    </tr>\n",
       "    <tr>\n",
       "      <th>NU</th>\n",
       "      <td>6.747222</td>\n",
       "      <td>4.506452</td>\n",
       "      <td>6.985294</td>\n",
       "      <td>7.532432</td>\n",
       "      <td>6.761765</td>\n",
       "      <td>6.460000</td>\n",
       "      <td>6.934375</td>\n",
       "      <td>4.663636</td>\n",
       "      <td>6.081818</td>\n",
       "      <td>6.170000</td>\n",
       "      <td>...</td>\n",
       "      <td>33.063889</td>\n",
       "      <td>29.728571</td>\n",
       "      <td>33.527027</td>\n",
       "      <td>24.541379</td>\n",
       "      <td>33.997561</td>\n",
       "      <td>34.493617</td>\n",
       "      <td>34.283721</td>\n",
       "      <td>30.317500</td>\n",
       "      <td>28.125000</td>\n",
       "      <td>28.312821</td>\n",
       "    </tr>\n",
       "    <tr>\n",
       "      <th>ON</th>\n",
       "      <td>18.109699</td>\n",
       "      <td>18.820209</td>\n",
       "      <td>19.890492</td>\n",
       "      <td>19.444156</td>\n",
       "      <td>20.575974</td>\n",
       "      <td>18.717377</td>\n",
       "      <td>19.830201</td>\n",
       "      <td>19.069180</td>\n",
       "      <td>19.676431</td>\n",
       "      <td>19.504667</td>\n",
       "      <td>...</td>\n",
       "      <td>103.389080</td>\n",
       "      <td>96.332143</td>\n",
       "      <td>88.679268</td>\n",
       "      <td>63.204516</td>\n",
       "      <td>62.550641</td>\n",
       "      <td>100.649007</td>\n",
       "      <td>94.489362</td>\n",
       "      <td>57.989041</td>\n",
       "      <td>63.464964</td>\n",
       "      <td>79.549624</td>\n",
       "    </tr>\n",
       "    <tr>\n",
       "      <th>PE</th>\n",
       "      <td>18.700000</td>\n",
       "      <td>18.006667</td>\n",
       "      <td>20.486667</td>\n",
       "      <td>17.133333</td>\n",
       "      <td>20.940000</td>\n",
       "      <td>18.200000</td>\n",
       "      <td>18.257143</td>\n",
       "      <td>18.371429</td>\n",
       "      <td>19.078571</td>\n",
       "      <td>17.371429</td>\n",
       "      <td>...</td>\n",
       "      <td>54.588889</td>\n",
       "      <td>139.633333</td>\n",
       "      <td>123.988889</td>\n",
       "      <td>121.822222</td>\n",
       "      <td>48.700000</td>\n",
       "      <td>92.211111</td>\n",
       "      <td>53.177778</td>\n",
       "      <td>39.188889</td>\n",
       "      <td>53.957143</td>\n",
       "      <td>46.528571</td>\n",
       "    </tr>\n",
       "    <tr>\n",
       "      <th>QC</th>\n",
       "      <td>17.190986</td>\n",
       "      <td>17.606268</td>\n",
       "      <td>19.279911</td>\n",
       "      <td>17.842729</td>\n",
       "      <td>19.930769</td>\n",
       "      <td>17.253037</td>\n",
       "      <td>17.449657</td>\n",
       "      <td>17.867352</td>\n",
       "      <td>18.817401</td>\n",
       "      <td>17.412963</td>\n",
       "      <td>...</td>\n",
       "      <td>129.135885</td>\n",
       "      <td>138.533659</td>\n",
       "      <td>87.888780</td>\n",
       "      <td>93.660101</td>\n",
       "      <td>59.721569</td>\n",
       "      <td>81.996500</td>\n",
       "      <td>101.823000</td>\n",
       "      <td>108.876757</td>\n",
       "      <td>98.777473</td>\n",
       "      <td>66.239521</td>\n",
       "    </tr>\n",
       "    <tr>\n",
       "      <th>SK</th>\n",
       "      <td>16.155233</td>\n",
       "      <td>15.250568</td>\n",
       "      <td>17.767895</td>\n",
       "      <td>19.021081</td>\n",
       "      <td>20.272826</td>\n",
       "      <td>18.302260</td>\n",
       "      <td>17.582065</td>\n",
       "      <td>17.468306</td>\n",
       "      <td>19.556425</td>\n",
       "      <td>18.334637</td>\n",
       "      <td>...</td>\n",
       "      <td>76.864211</td>\n",
       "      <td>73.309574</td>\n",
       "      <td>71.457143</td>\n",
       "      <td>74.325843</td>\n",
       "      <td>61.059770</td>\n",
       "      <td>61.777907</td>\n",
       "      <td>41.980000</td>\n",
       "      <td>91.036250</td>\n",
       "      <td>96.008108</td>\n",
       "      <td>37.191026</td>\n",
       "    </tr>\n",
       "    <tr>\n",
       "      <th>YT</th>\n",
       "      <td>13.860000</td>\n",
       "      <td>12.914286</td>\n",
       "      <td>12.732258</td>\n",
       "      <td>11.845714</td>\n",
       "      <td>13.639474</td>\n",
       "      <td>12.808333</td>\n",
       "      <td>12.702941</td>\n",
       "      <td>13.840000</td>\n",
       "      <td>13.700000</td>\n",
       "      <td>13.000000</td>\n",
       "      <td>...</td>\n",
       "      <td>62.766667</td>\n",
       "      <td>24.854167</td>\n",
       "      <td>48.369231</td>\n",
       "      <td>64.056000</td>\n",
       "      <td>48.776000</td>\n",
       "      <td>63.419231</td>\n",
       "      <td>64.565000</td>\n",
       "      <td>63.753333</td>\n",
       "      <td>58.086667</td>\n",
       "      <td>62.323077</td>\n",
       "    </tr>\n",
       "  </tbody>\n",
       "</table>\n",
       "<p>13 rows × 94 columns</p>\n",
       "</div>"
      ],
      "text/plain": [
       "         Mean Temperature (C)                                              \\\n",
       "Year                     1971       1972       1973       1974       1975   \n",
       "Province                                                                    \n",
       "AB                  15.057655  13.122741  15.160550  14.393491  17.158160   \n",
       "BC                  17.103300  15.994702  15.956347  14.695879  17.289267   \n",
       "MB                  16.250000  16.147368  17.946281  20.249194  20.560504   \n",
       "NB                  18.055172  17.520968  19.972581  17.357143  19.917742   \n",
       "NL                  14.676596  14.482456  16.917241  13.165000  17.165517   \n",
       "NS                  18.052174  17.608451  19.455844  16.082895  19.432877   \n",
       "NT                  13.304545  11.672727  14.507143  13.164286  14.565789   \n",
       "NU                   6.747222   4.506452   6.985294   7.532432   6.761765   \n",
       "ON                  18.109699  18.820209  19.890492  19.444156  20.575974   \n",
       "PE                  18.700000  18.006667  20.486667  17.133333  20.940000   \n",
       "QC                  17.190986  17.606268  19.279911  17.842729  19.930769   \n",
       "SK                  16.155233  15.250568  17.767895  19.021081  20.272826   \n",
       "YT                  13.860000  12.914286  12.732258  11.845714  13.639474   \n",
       "\n",
       "                                                                 ...  \\\n",
       "Year           1976       1977       1978       1979       1980  ...   \n",
       "Province                                                         ...   \n",
       "AB        15.045833  13.898171  15.229518  16.707165  15.106562  ...   \n",
       "BC        14.965147  15.166482  17.168539  17.047714  15.647929  ...   \n",
       "MB        18.756303  18.335897  17.756364  19.988288  18.857273  ...   \n",
       "NB        17.650820  18.026230  18.147368  19.105357  17.536842  ...   \n",
       "NL        14.661818  14.688235  15.235088  15.448276  13.847692  ...   \n",
       "NS        17.419737  17.687500  17.256164  18.333803  17.115714  ...   \n",
       "NT        13.507692  12.472000  11.266667  15.052000  12.096000  ...   \n",
       "NU         6.460000   6.934375   4.663636   6.081818   6.170000  ...   \n",
       "ON        18.717377  19.830201  19.069180  19.676431  19.504667  ...   \n",
       "PE        18.200000  18.257143  18.371429  19.078571  17.371429  ...   \n",
       "QC        17.253037  17.449657  17.867352  18.817401  17.412963  ...   \n",
       "SK        18.302260  17.582065  17.468306  19.556425  18.334637  ...   \n",
       "YT        12.808333  12.702941  13.840000  13.700000  13.000000  ...   \n",
       "\n",
       "         Total Precipitation (mm)                                      \\\n",
       "Year                         2008        2009        2010        2011   \n",
       "Province                                                                \n",
       "AB                      57.499465   71.784946   63.541739   90.536782   \n",
       "BC                      45.344048   33.367480   16.013248   70.216800   \n",
       "MB                      91.120000   79.639394   76.880952   57.208197   \n",
       "NB                      90.202941  150.363636  100.396552  126.335714   \n",
       "NL                      66.025397  104.258333  122.348000  138.456522   \n",
       "NS                      83.421429   93.652500   96.146875  103.189189   \n",
       "NT                      29.204878   43.634483   44.984211   43.134483   \n",
       "NU                      33.063889   29.728571   33.527027   24.541379   \n",
       "ON                     103.389080   96.332143   88.679268   63.204516   \n",
       "PE                      54.588889  139.633333  123.988889  121.822222   \n",
       "QC                     129.135885  138.533659   87.888780   93.660101   \n",
       "SK                      76.864211   73.309574   71.457143   74.325843   \n",
       "YT                      62.766667   24.854167   48.369231   64.056000   \n",
       "\n",
       "                                                                               \n",
       "Year           2012        2013        2014        2015       2016       2017  \n",
       "Province                                                                       \n",
       "AB        72.519481   54.610132   46.419178   55.166038  77.486829  45.088500  \n",
       "BC        46.386822   19.295000   43.874000   38.252863  50.727064  24.443781  \n",
       "MB        61.190625   77.395238   43.877778   98.643103  81.407273  49.230909  \n",
       "NB        46.455556  148.278571  159.212500   60.976923  83.503846  41.114815  \n",
       "NL        86.168519   93.465455   79.782000   93.000000  75.052381  67.087805  \n",
       "NS        58.540000   99.411111   58.148387   75.729032  73.887097  70.881818  \n",
       "NT        42.741667   46.530556   44.153333   52.686364  37.513043  41.330000  \n",
       "NU        33.997561   34.493617   34.283721   30.317500  28.125000  28.312821  \n",
       "ON        62.550641  100.649007   94.489362   57.989041  63.464964  79.549624  \n",
       "PE        48.700000   92.211111   53.177778   39.188889  53.957143  46.528571  \n",
       "QC        59.721569   81.996500  101.823000  108.876757  98.777473  66.239521  \n",
       "SK        61.059770   61.777907   41.980000   91.036250  96.008108  37.191026  \n",
       "YT        48.776000   63.419231   64.565000   63.753333  58.086667  62.323077  \n",
       "\n",
       "[13 rows x 94 columns]"
      ]
     },
     "execution_count": 79,
     "metadata": {},
     "output_type": "execute_result"
    }
   ],
   "source": [
    "weather.pivot_table(index='Province',\n",
    "                    columns='Year',\n",
    "                    values=['Mean Temperature (C)', 'Total Precipitation (mm)'],\n",
    "                    aggfunc='mean')"
   ]
  },
  {
   "cell_type": "markdown",
   "metadata": {
    "slideshow": {
     "slide_type": "slide"
    }
   },
   "source": [
    "## \"Homework\""
   ]
  },
  {
   "cell_type": "markdown",
   "metadata": {
    "slideshow": {
     "slide_type": "fragment"
    }
   },
   "source": [
    "Look for data visualisations out there\n",
    "    \n",
    "    Plots from data/knowledge is beautiful\n",
    "    Infographics\n",
    "    Dashboards"
   ]
  },
  {
   "cell_type": "markdown",
   "metadata": {
    "slideshow": {
     "slide_type": "fragment"
    }
   },
   "source": [
    "Play/watch people play Among Us ([PC](https://store.steampowered.com/app/945360/Among_Us/) or [Mobile](https://www.google.com/url?sa=t&rct=j&q=&esrc=s&source=web&cd=&cad=rja&uact=8&ved=2ahUKEwjUtar0xJ_sAhVhyoUKHZNlCToQFjACegQIAhAC&url=https%3A%2F%2Fplay.google.com%2Fstore%2Fapps%2Fdetails%3Fid%3Dcom.innersloth.spacemafia%26hl%3Den_GB&usg=AOvVaw35aRiUcD6FcD9l3sgH3Ofy))"
   ]
  },
  {
   "cell_type": "markdown",
   "metadata": {
    "hide_input": false,
    "slideshow": {
     "slide_type": "slide"
    }
   },
   "source": [
    "## An alternative way to run the dashboard for the Coursework Part 1\n",
    "Thanks Pam!"
   ]
  },
  {
   "cell_type": "markdown",
   "metadata": {
    "slideshow": {
     "slide_type": "slide"
    }
   },
   "source": [
    "## Lab (at last!)"
   ]
  },
  {
   "cell_type": "markdown",
   "metadata": {
    "slideshow": {
     "slide_type": "fragment"
    }
   },
   "source": [
    "I have created one notebook per topic\n",
    "\n",
    "    Manipulating Columns\n",
    "    Missing Values\n",
    "    Joints & Aggregations\n",
    "    Melt & Pivoting"
   ]
  },
  {
   "cell_type": "markdown",
   "metadata": {
    "slideshow": {
     "slide_type": "fragment"
    }
   },
   "source": [
    "Moreover, I have provided the guided versions (in .html)"
   ]
  },
  {
   "cell_type": "markdown",
   "metadata": {
    "slideshow": {
     "slide_type": "fragment"
    }
   },
   "source": [
    "Next week, I will release the Python solutions (.ipynb & html)"
   ]
  },
  {
   "cell_type": "markdown",
   "metadata": {
    "slideshow": {
     "slide_type": "fragment"
    }
   },
   "source": [
    "**NOTE**: All datasets can be accessed from the dropbox links, but can be also downloaded from Moodle if you prefer (including the ones used in the lecture)"
   ]
  }
 ],
 "metadata": {
  "celltoolbar": "Slideshow",
  "hide_input": false,
  "kernelspec": {
   "display_name": "Python 3",
   "language": "python",
   "name": "python3"
  },
  "language_info": {
   "codemirror_mode": {
    "name": "ipython",
    "version": 3
   },
   "file_extension": ".py",
   "mimetype": "text/x-python",
   "name": "python",
   "nbconvert_exporter": "python",
   "pygments_lexer": "ipython3",
   "version": "3.7.3"
  },
  "rise": {
   "enable_chalkboard": true
  },
  "varInspector": {
   "cols": {
    "lenName": 16,
    "lenType": 16,
    "lenVar": 40
   },
   "kernels_config": {
    "python": {
     "delete_cmd_postfix": "",
     "delete_cmd_prefix": "del ",
     "library": "var_list.py",
     "varRefreshCmd": "print(var_dic_list())"
    },
    "r": {
     "delete_cmd_postfix": ") ",
     "delete_cmd_prefix": "rm(",
     "library": "var_list.r",
     "varRefreshCmd": "cat(var_dic_list()) "
    }
   },
   "types_to_exclude": [
    "module",
    "function",
    "builtin_function_or_method",
    "instance",
    "_Feature"
   ],
   "window_display": false
  }
 },
 "nbformat": 4,
 "nbformat_minor": 2
}
