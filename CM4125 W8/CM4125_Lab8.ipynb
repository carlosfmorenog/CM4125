{
 "cells": [
  {
   "cell_type": "markdown",
   "metadata": {
    "slideshow": {
     "slide_type": "slide"
    }
   },
   "source": [
    "# CM4125 Lab 8 Running Maps Solved"
   ]
  },
  {
   "cell_type": "markdown",
   "metadata": {
    "slideshow": {
     "slide_type": "slide"
    }
   },
   "source": [
    "## Mapbox"
   ]
  },
  {
   "cell_type": "markdown",
   "metadata": {
    "slideshow": {
     "slide_type": "subslide"
    }
   },
   "source": [
    "To use maps in Plotly and generate running maps, you need a **Mapbox** account!"
   ]
  },
  {
   "cell_type": "markdown",
   "metadata": {
    "slideshow": {
     "slide_type": "subslide"
    }
   },
   "source": [
    "You will need to:\n",
    "\n",
    "- Create a [mapbox.com](https://www.mapbox.com/) account\n",
    "- Copy your public token from [https://account.mapbox.com/](https://account.mapbox.com/)\n",
    "- Paste the token into a new file called `mapbox.txt` in the same directory as your notebooks (or upload it to the colab notebook using the cell below)"
   ]
  },
  {
   "cell_type": "code",
   "execution_count": null,
   "metadata": {},
   "outputs": [],
   "source": [
    "from google.colab import files\n",
    "uploaded = files.upload()"
   ]
  },
  {
   "cell_type": "markdown",
   "metadata": {
    "slideshow": {
     "slide_type": "subslide"
    }
   },
   "source": [
    "- Include `px.set_mapbox_access_token(open(\"mapbox.txt\").read())` at the top of your notebook"
   ]
  },
  {
   "cell_type": "code",
   "execution_count": null,
   "metadata": {
    "slideshow": {
     "slide_type": "subslide"
    }
   },
   "outputs": [],
   "source": [
    "# Importing the necessary modules\n",
    "import pandas as pd\n",
    "import plotly.express as px\n",
    "import plotly.graph_objects as go\n",
    "# Importing the token\n",
    "px.set_mapbox_access_token(open(\"mapbox.txt\").read())"
   ]
  },
  {
   "cell_type": "markdown",
   "metadata": {
    "slideshow": {
     "slide_type": "slide"
    }
   },
   "source": [
    "## Maps in Plotly Express"
   ]
  },
  {
   "cell_type": "markdown",
   "metadata": {
    "slideshow": {
     "slide_type": "notes"
    }
   },
   "source": [
    "We are going to start with a dataset of weather from stations in Canada"
   ]
  },
  {
   "cell_type": "markdown",
   "metadata": {
    "slideshow": {
     "slide_type": "notes"
    }
   },
   "source": [
    "Compared to the one seen in W3, this one has latitude and longitude data!"
   ]
  },
  {
   "cell_type": "code",
   "execution_count": null,
   "metadata": {
    "scrolled": false,
    "slideshow": {
     "slide_type": "subslide"
    }
   },
   "outputs": [],
   "source": [
    "canada = pd.read_csv('https://www.dropbox.com/s/edbw6j60vgcwr3c/canada-weather-2.csv?raw=1')\n",
    "canada"
   ]
  },
  {
   "cell_type": "markdown",
   "metadata": {
    "slideshow": {
     "slide_type": "subslide"
    }
   },
   "source": [
    "Plotly express supports more than one type of map plot"
   ]
  },
  {
   "cell_type": "markdown",
   "metadata": {
    "slideshow": {
     "slide_type": "subslide"
    }
   },
   "source": [
    "In this lab we will cover `px.scatter_mapbox`, which creates running scatterplots in maps"
   ]
  },
  {
   "cell_type": "markdown",
   "metadata": {
    "slideshow": {
     "slide_type": "subslide"
    }
   },
   "source": [
    "Here are some links to documentation for two more map types:\n",
    "\n",
    "- [px.choropleth](http://campusmoodle.rgu.ac.uk/mod/url/view.php?id=3529826)\n",
    "- [px.line_geo](http://campusmoodle.rgu.ac.uk/mod/url/view.php?id=3529827)"
   ]
  },
  {
   "cell_type": "markdown",
   "metadata": {
    "slideshow": {
     "slide_type": "notes"
    }
   },
   "source": [
    "First, create a scatter map (the command works very similarly to scatter plots)"
   ]
  },
  {
   "cell_type": "code",
   "execution_count": null,
   "metadata": {
    "slideshow": {
     "slide_type": "subslide"
    }
   },
   "outputs": [],
   "source": [
    "# This should show a dot for every station in the dataset\n",
    "fig = px.scatter_mapbox(canada,\n",
    "                        lat=\"Latitude\",\n",
    "                        lon=\"Longitude\")\n",
    "fig.show()"
   ]
  },
  {
   "cell_type": "markdown",
   "metadata": {
    "slideshow": {
     "slide_type": "notes"
    }
   },
   "source": [
    "Many of the sam arguments from scatter plots are enabled on a scatter map, such as `size`, `size_max`, and `title`"
   ]
  },
  {
   "cell_type": "code",
   "execution_count": null,
   "metadata": {
    "slideshow": {
     "slide_type": "subslide"
    }
   },
   "outputs": [],
   "source": [
    "# Now the size of each dot changes depending on the amount of precipitation in 2017\n",
    "fig = px.scatter_mapbox(canada[canada['Year'] == 2017],\n",
    "                        lat=\"Latitude\",\n",
    "                        lon=\"Longitude\",\n",
    "                        size='Total Precipitation (mm)',\n",
    "                        size_max=10,\n",
    "                        title='Rainfall Over Canada (2017)')\n",
    "fig.show()"
   ]
  },
  {
   "cell_type": "markdown",
   "metadata": {
    "slideshow": {
     "slide_type": "notes"
    }
   },
   "source": [
    "Maps also have a `zoom` options which allows us to set the zoom level in advance"
   ]
  },
  {
   "cell_type": "code",
   "execution_count": null,
   "metadata": {
    "slideshow": {
     "slide_type": "subslide"
    }
   },
   "outputs": [],
   "source": [
    "# A zoom value of 2 in theory allows you to see \"mainland\" Canada full\n",
    "# You may need to scroll up to see all stations\n",
    "fig = px.scatter_mapbox(canada[canada['Year'] == 2017],\n",
    "                        lat=\"Latitude\",\n",
    "                        lon=\"Longitude\",\n",
    "                        zoom=2,\n",
    "                        size='Total Precipitation (mm)',\n",
    "                        size_max=10,\n",
    "                        title='Rainfall Over Canada (2017)')\n",
    "fig.show()"
   ]
  },
  {
   "cell_type": "markdown",
   "metadata": {
    "slideshow": {
     "slide_type": "notes"
    }
   },
   "source": [
    "We can add animations to maps in the same way as scatter plots"
   ]
  },
  {
   "cell_type": "code",
   "execution_count": null,
   "metadata": {
    "scrolled": false,
    "slideshow": {
     "slide_type": "subslide"
    }
   },
   "outputs": [],
   "source": [
    "fig = px.scatter_mapbox(canada,\n",
    "                        lat=\"Latitude\",\n",
    "                        lon=\"Longitude\",\n",
    "                        zoom=2,\n",
    "                        size='Total Precipitation (mm)',\n",
    "                        size_max=10,\n",
    "                        animation_frame='Year',\n",
    "                        animation_group='Station Name',\n",
    "                        title='Rainfall Over Canada')\n",
    "fig.show()"
   ]
  },
  {
   "cell_type": "markdown",
   "metadata": {},
   "source": [
    "In the 70's, I see that two dots appear in Europe! \n",
    "\n",
    "- Can you figure out why by means of dataset manipulation?\n",
    "- Is there any easy way to filter these out or to warn the user about this issue?"
   ]
  }
 ],
 "metadata": {
  "kernelspec": {
   "display_name": "Python 3",
   "language": "python",
   "name": "python3"
  },
  "language_info": {
   "codemirror_mode": {
    "name": "ipython",
    "version": 3
   },
   "file_extension": ".py",
   "mimetype": "text/x-python",
   "name": "python",
   "nbconvert_exporter": "python",
   "pygments_lexer": "ipython3",
   "version": "3.7.3"
  },
  "varInspector": {
   "cols": {
    "lenName": 16,
    "lenType": 16,
    "lenVar": 40
   },
   "kernels_config": {
    "python": {
     "delete_cmd_postfix": "",
     "delete_cmd_prefix": "del ",
     "library": "var_list.py",
     "varRefreshCmd": "print(var_dic_list())"
    },
    "r": {
     "delete_cmd_postfix": ") ",
     "delete_cmd_prefix": "rm(",
     "library": "var_list.r",
     "varRefreshCmd": "cat(var_dic_list()) "
    }
   },
   "types_to_exclude": [
    "module",
    "function",
    "builtin_function_or_method",
    "instance",
    "_Feature"
   ],
   "window_display": false
  }
 },
 "nbformat": 4,
 "nbformat_minor": 2
}
