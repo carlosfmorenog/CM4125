{
 "cells": [
  {
   "cell_type": "markdown",
   "id": "81604df2",
   "metadata": {
    "papermill": {
     "duration": 0.022437,
     "end_time": "2021-09-05T12:10:13.962894",
     "exception": false,
     "start_time": "2021-09-05T12:10:13.940457",
     "status": "completed"
    },
    "tags": []
   },
   "source": [
    "# Week 1 Data Vis Tutorial (R)"
   ]
  },
  {
   "cell_type": "markdown",
   "id": "76416765",
   "metadata": {
    "papermill": {
     "duration": 0.018746,
     "end_time": "2021-09-05T12:10:14.001903",
     "exception": false,
     "start_time": "2021-09-05T12:10:13.983157",
     "status": "completed"
    },
    "tags": []
   },
   "source": [
    "In this tutorial, you will learn the basics on how to load data and do simple plots using **R**."
   ]
  },
  {
   "cell_type": "markdown",
   "id": "86f4b4c4",
   "metadata": {
    "papermill": {
     "duration": 0.018705,
     "end_time": "2021-09-05T12:10:14.039468",
     "exception": false,
     "start_time": "2021-09-05T12:10:14.020763",
     "status": "completed"
    },
    "tags": []
   },
   "source": [
    "Given that this **R Notebook** is mounted online, I have already set the two .csv files \"in disk\" (i.e. in the same location as the notebook). If you are not familiar with R or notebooks, this simply means that when you work with any type of data in an offline manner, it is a common practice that your data files are stored in the same location as the notebook (i.e. an .r file)."
   ]
  },
  {
   "cell_type": "markdown",
   "id": "8cb02c5b",
   "metadata": {
    "papermill": {
     "duration": 0.018847,
     "end_time": "2021-09-05T12:10:14.077573",
     "exception": false,
     "start_time": "2021-09-05T12:10:14.058726",
     "status": "completed"
    },
    "tags": []
   },
   "source": [
    "Firstly, we will load both files into variables using the `read.csv` command:"
   ]
  },
  {
   "cell_type": "code",
   "execution_count": 2,
   "id": "e6428701",
   "metadata": {
    "execution": {
     "iopub.execute_input": "2021-09-05T12:10:14.123341Z",
     "iopub.status.busy": "2021-09-05T12:10:14.120413Z",
     "iopub.status.idle": "2021-09-05T12:10:14.288601Z",
     "shell.execute_reply": "2021-09-05T12:10:14.286759Z"
    },
    "papermill": {
     "duration": 0.192246,
     "end_time": "2021-09-05T12:10:14.288810",
     "exception": false,
     "start_time": "2021-09-05T12:10:14.096564",
     "status": "completed"
    },
    "tags": []
   },
   "outputs": [],
   "source": [
    "temp <- read.csv('temp.csv')"
   ]
  },
  {
   "cell_type": "code",
   "execution_count": 3,
   "id": "a21a4438",
   "metadata": {
    "execution": {
     "iopub.execute_input": "2021-09-05T12:10:14.367246Z",
     "iopub.status.busy": "2021-09-05T12:10:14.331025Z",
     "iopub.status.idle": "2021-09-05T12:10:14.385472Z",
     "shell.execute_reply": "2021-09-05T12:10:14.383929Z"
    },
    "papermill": {
     "duration": 0.077619,
     "end_time": "2021-09-05T12:10:14.385617",
     "exception": false,
     "start_time": "2021-09-05T12:10:14.307998",
     "status": "completed"
    },
    "tags": []
   },
   "outputs": [],
   "source": [
    "pirates <- read.csv('pirates.csv')"
   ]
  },
  {
   "cell_type": "markdown",
   "id": "0db5f521",
   "metadata": {
    "papermill": {
     "duration": 0.018896,
     "end_time": "2021-09-05T12:10:14.423581",
     "exception": false,
     "start_time": "2021-09-05T12:10:14.404685",
     "status": "completed"
    },
    "tags": []
   },
   "source": [
    "You can see the contents of the two variables by **writing the name of the variable**"
   ]
  },
  {
   "cell_type": "code",
   "execution_count": 4,
   "id": "43206979",
   "metadata": {
    "execution": {
     "iopub.execute_input": "2021-09-05T12:10:14.468266Z",
     "iopub.status.busy": "2021-09-05T12:10:14.466297Z",
     "iopub.status.idle": "2021-09-05T12:10:14.494214Z",
     "shell.execute_reply": "2021-09-05T12:10:14.492565Z"
    },
    "papermill": {
     "duration": 0.051464,
     "end_time": "2021-09-05T12:10:14.494347",
     "exception": false,
     "start_time": "2021-09-05T12:10:14.442883",
     "status": "completed"
    },
    "tags": []
   },
   "outputs": [
    {
     "data": {
      "text/html": [
       "<table>\n",
       "<thead><tr><th scope=col>Year</th><th scope=col>Global.Average.Temperature..Celsius.</th></tr></thead>\n",
       "<tbody>\n",
       "\t<tr><td>1820 </td><td>14.25</td></tr>\n",
       "\t<tr><td>1860 </td><td>14.27</td></tr>\n",
       "\t<tr><td>1880 </td><td>14.60</td></tr>\n",
       "\t<tr><td>1920 </td><td>14.90</td></tr>\n",
       "\t<tr><td>1940 </td><td>15.26</td></tr>\n",
       "\t<tr><td>1980 </td><td>15.52</td></tr>\n",
       "\t<tr><td>2000 </td><td>15.99</td></tr>\n",
       "</tbody>\n",
       "</table>\n"
      ],
      "text/latex": [
       "\\begin{tabular}{r|ll}\n",
       " Year & Global.Average.Temperature..Celsius.\\\\\n",
       "\\hline\n",
       "\t 1820  & 14.25\\\\\n",
       "\t 1860  & 14.27\\\\\n",
       "\t 1880  & 14.60\\\\\n",
       "\t 1920  & 14.90\\\\\n",
       "\t 1940  & 15.26\\\\\n",
       "\t 1980  & 15.52\\\\\n",
       "\t 2000  & 15.99\\\\\n",
       "\\end{tabular}\n"
      ],
      "text/markdown": [
       "\n",
       "| Year | Global.Average.Temperature..Celsius. |\n",
       "|---|---|\n",
       "| 1820  | 14.25 |\n",
       "| 1860  | 14.27 |\n",
       "| 1880  | 14.60 |\n",
       "| 1920  | 14.90 |\n",
       "| 1940  | 15.26 |\n",
       "| 1980  | 15.52 |\n",
       "| 2000  | 15.99 |\n",
       "\n"
      ],
      "text/plain": [
       "  Year Global.Average.Temperature..Celsius.\n",
       "1 1820 14.25                               \n",
       "2 1860 14.27                               \n",
       "3 1880 14.60                               \n",
       "4 1920 14.90                               \n",
       "5 1940 15.26                               \n",
       "6 1980 15.52                               \n",
       "7 2000 15.99                               "
      ]
     },
     "metadata": {},
     "output_type": "display_data"
    }
   ],
   "source": [
    "temp"
   ]
  },
  {
   "cell_type": "code",
   "execution_count": 5,
   "id": "a0bb4d79",
   "metadata": {
    "execution": {
     "iopub.execute_input": "2021-09-05T12:10:14.539963Z",
     "iopub.status.busy": "2021-09-05T12:10:14.538115Z",
     "iopub.status.idle": "2021-09-05T12:10:14.560176Z",
     "shell.execute_reply": "2021-09-05T12:10:14.558587Z"
    },
    "papermill": {
     "duration": 0.045978,
     "end_time": "2021-09-05T12:10:14.560314",
     "exception": false,
     "start_time": "2021-09-05T12:10:14.514336",
     "status": "completed"
    },
    "tags": []
   },
   "outputs": [
    {
     "data": {
      "text/html": [
       "<table>\n",
       "<thead><tr><th scope=col>Year</th><th scope=col>Number.of.Pirates..Approximate.</th></tr></thead>\n",
       "<tbody>\n",
       "\t<tr><td>1820 </td><td>35000</td></tr>\n",
       "\t<tr><td>1860 </td><td>45000</td></tr>\n",
       "\t<tr><td>1880 </td><td>20000</td></tr>\n",
       "\t<tr><td>1920 </td><td>15000</td></tr>\n",
       "\t<tr><td>1940 </td><td> 5000</td></tr>\n",
       "\t<tr><td>1980 </td><td>  400</td></tr>\n",
       "\t<tr><td>2000 </td><td>   17</td></tr>\n",
       "</tbody>\n",
       "</table>\n"
      ],
      "text/latex": [
       "\\begin{tabular}{r|ll}\n",
       " Year & Number.of.Pirates..Approximate.\\\\\n",
       "\\hline\n",
       "\t 1820  & 35000\\\\\n",
       "\t 1860  & 45000\\\\\n",
       "\t 1880  & 20000\\\\\n",
       "\t 1920  & 15000\\\\\n",
       "\t 1940  &  5000\\\\\n",
       "\t 1980  &   400\\\\\n",
       "\t 2000  &    17\\\\\n",
       "\\end{tabular}\n"
      ],
      "text/markdown": [
       "\n",
       "| Year | Number.of.Pirates..Approximate. |\n",
       "|---|---|\n",
       "| 1820  | 35000 |\n",
       "| 1860  | 45000 |\n",
       "| 1880  | 20000 |\n",
       "| 1920  | 15000 |\n",
       "| 1940  |  5000 |\n",
       "| 1980  |   400 |\n",
       "| 2000  |    17 |\n",
       "\n"
      ],
      "text/plain": [
       "  Year Number.of.Pirates..Approximate.\n",
       "1 1820 35000                          \n",
       "2 1860 45000                          \n",
       "3 1880 20000                          \n",
       "4 1920 15000                          \n",
       "5 1940  5000                          \n",
       "6 1980   400                          \n",
       "7 2000    17                          "
      ]
     },
     "metadata": {},
     "output_type": "display_data"
    }
   ],
   "source": [
    "pirates"
   ]
  },
  {
   "cell_type": "markdown",
   "id": "6272c844",
   "metadata": {
    "papermill": {
     "duration": 0.020812,
     "end_time": "2021-09-05T12:10:14.601292",
     "exception": false,
     "start_time": "2021-09-05T12:10:14.580480",
     "status": "completed"
    },
    "tags": []
   },
   "source": [
    "Given that we have two tables with the same amount of rows (but particularly the *same* year for each data entry), we can create a single data frame with all the data on it!"
   ]
  },
  {
   "cell_type": "markdown",
   "id": "853b2312",
   "metadata": {
    "papermill": {
     "duration": 0.019727,
     "end_time": "2021-09-05T12:10:14.641719",
     "exception": false,
     "start_time": "2021-09-05T12:10:14.621992",
     "status": "completed"
    },
    "tags": []
   },
   "source": [
    "We will see many ways to do this later on during the module, but for the time being, we will **bind** the colums we need into a variable calles `df`:"
   ]
  },
  {
   "cell_type": "code",
   "execution_count": 6,
   "id": "c671363d",
   "metadata": {
    "execution": {
     "iopub.execute_input": "2021-09-05T12:10:14.686981Z",
     "iopub.status.busy": "2021-09-05T12:10:14.685558Z",
     "iopub.status.idle": "2021-09-05T12:10:14.713357Z",
     "shell.execute_reply": "2021-09-05T12:10:14.711682Z"
    },
    "papermill": {
     "duration": 0.051786,
     "end_time": "2021-09-05T12:10:14.713512",
     "exception": false,
     "start_time": "2021-09-05T12:10:14.661726",
     "status": "completed"
    },
    "tags": []
   },
   "outputs": [
    {
     "data": {
      "text/html": [
       "<table>\n",
       "<thead><tr><th scope=col>Year</th><th scope=col>Global.Average.Temperature..Celsius.</th><th scope=col>Year</th><th scope=col>Number.of.Pirates..Approximate.</th></tr></thead>\n",
       "<tbody>\n",
       "\t<tr><td>1820 </td><td>14.25</td><td>1820 </td><td>35000</td></tr>\n",
       "\t<tr><td>1860 </td><td>14.27</td><td>1860 </td><td>45000</td></tr>\n",
       "\t<tr><td>1880 </td><td>14.60</td><td>1880 </td><td>20000</td></tr>\n",
       "\t<tr><td>1920 </td><td>14.90</td><td>1920 </td><td>15000</td></tr>\n",
       "\t<tr><td>1940 </td><td>15.26</td><td>1940 </td><td> 5000</td></tr>\n",
       "\t<tr><td>1980 </td><td>15.52</td><td>1980 </td><td>  400</td></tr>\n",
       "\t<tr><td>2000 </td><td>15.99</td><td>2000 </td><td>   17</td></tr>\n",
       "</tbody>\n",
       "</table>\n"
      ],
      "text/latex": [
       "\\begin{tabular}{r|llll}\n",
       " Year & Global.Average.Temperature..Celsius. & Year & Number.of.Pirates..Approximate.\\\\\n",
       "\\hline\n",
       "\t 1820  & 14.25 & 1820  & 35000\\\\\n",
       "\t 1860  & 14.27 & 1860  & 45000\\\\\n",
       "\t 1880  & 14.60 & 1880  & 20000\\\\\n",
       "\t 1920  & 14.90 & 1920  & 15000\\\\\n",
       "\t 1940  & 15.26 & 1940  &  5000\\\\\n",
       "\t 1980  & 15.52 & 1980  &   400\\\\\n",
       "\t 2000  & 15.99 & 2000  &    17\\\\\n",
       "\\end{tabular}\n"
      ],
      "text/markdown": [
       "\n",
       "| Year | Global.Average.Temperature..Celsius. | Year | Number.of.Pirates..Approximate. |\n",
       "|---|---|---|---|\n",
       "| 1820  | 14.25 | 1820  | 35000 |\n",
       "| 1860  | 14.27 | 1860  | 45000 |\n",
       "| 1880  | 14.60 | 1880  | 20000 |\n",
       "| 1920  | 14.90 | 1920  | 15000 |\n",
       "| 1940  | 15.26 | 1940  |  5000 |\n",
       "| 1980  | 15.52 | 1980  |   400 |\n",
       "| 2000  | 15.99 | 2000  |    17 |\n",
       "\n"
      ],
      "text/plain": [
       "  Year Global.Average.Temperature..Celsius. Year\n",
       "1 1820 14.25                                1820\n",
       "2 1860 14.27                                1860\n",
       "3 1880 14.60                                1880\n",
       "4 1920 14.90                                1920\n",
       "5 1940 15.26                                1940\n",
       "6 1980 15.52                                1980\n",
       "7 2000 15.99                                2000\n",
       "  Number.of.Pirates..Approximate.\n",
       "1 35000                          \n",
       "2 45000                          \n",
       "3 20000                          \n",
       "4 15000                          \n",
       "5  5000                          \n",
       "6   400                          \n",
       "7    17                          "
      ]
     },
     "metadata": {},
     "output_type": "display_data"
    }
   ],
   "source": [
    "df <- cbind(temp, pirates)\n",
    "df"
   ]
  },
  {
   "cell_type": "markdown",
   "id": "c94a78cb",
   "metadata": {
    "papermill": {
     "duration": 0.021451,
     "end_time": "2021-09-05T12:10:14.756288",
     "exception": false,
     "start_time": "2021-09-05T12:10:14.734837",
     "status": "completed"
    },
    "tags": []
   },
   "source": [
    "Unfortunately, the `Year` column has been duplicated! This can be avoided through several other operations, but for now on we will simply **drop duplicates** with the following function:"
   ]
  },
  {
   "cell_type": "code",
   "execution_count": 7,
   "id": "4bfa6ab0",
   "metadata": {
    "execution": {
     "iopub.execute_input": "2021-09-05T12:10:14.804480Z",
     "iopub.status.busy": "2021-09-05T12:10:14.803001Z",
     "iopub.status.idle": "2021-09-05T12:10:14.826591Z",
     "shell.execute_reply": "2021-09-05T12:10:14.825232Z"
    },
    "papermill": {
     "duration": 0.049066,
     "end_time": "2021-09-05T12:10:14.826739",
     "exception": false,
     "start_time": "2021-09-05T12:10:14.777673",
     "status": "completed"
    },
    "tags": []
   },
   "outputs": [
    {
     "data": {
      "text/html": [
       "<table>\n",
       "<thead><tr><th scope=col>Year</th><th scope=col>Global.Average.Temperature..Celsius.</th><th scope=col>Number.of.Pirates..Approximate.</th></tr></thead>\n",
       "<tbody>\n",
       "\t<tr><td>1820 </td><td>14.25</td><td>35000</td></tr>\n",
       "\t<tr><td>1860 </td><td>14.27</td><td>45000</td></tr>\n",
       "\t<tr><td>1880 </td><td>14.60</td><td>20000</td></tr>\n",
       "\t<tr><td>1920 </td><td>14.90</td><td>15000</td></tr>\n",
       "\t<tr><td>1940 </td><td>15.26</td><td> 5000</td></tr>\n",
       "\t<tr><td>1980 </td><td>15.52</td><td>  400</td></tr>\n",
       "\t<tr><td>2000 </td><td>15.99</td><td>   17</td></tr>\n",
       "</tbody>\n",
       "</table>\n"
      ],
      "text/latex": [
       "\\begin{tabular}{r|lll}\n",
       " Year & Global.Average.Temperature..Celsius. & Number.of.Pirates..Approximate.\\\\\n",
       "\\hline\n",
       "\t 1820  & 14.25 & 35000\\\\\n",
       "\t 1860  & 14.27 & 45000\\\\\n",
       "\t 1880  & 14.60 & 20000\\\\\n",
       "\t 1920  & 14.90 & 15000\\\\\n",
       "\t 1940  & 15.26 &  5000\\\\\n",
       "\t 1980  & 15.52 &   400\\\\\n",
       "\t 2000  & 15.99 &    17\\\\\n",
       "\\end{tabular}\n"
      ],
      "text/markdown": [
       "\n",
       "| Year | Global.Average.Temperature..Celsius. | Number.of.Pirates..Approximate. |\n",
       "|---|---|---|\n",
       "| 1820  | 14.25 | 35000 |\n",
       "| 1860  | 14.27 | 45000 |\n",
       "| 1880  | 14.60 | 20000 |\n",
       "| 1920  | 14.90 | 15000 |\n",
       "| 1940  | 15.26 |  5000 |\n",
       "| 1980  | 15.52 |   400 |\n",
       "| 2000  | 15.99 |    17 |\n",
       "\n"
      ],
      "text/plain": [
       "  Year Global.Average.Temperature..Celsius. Number.of.Pirates..Approximate.\n",
       "1 1820 14.25                                35000                          \n",
       "2 1860 14.27                                45000                          \n",
       "3 1880 14.60                                20000                          \n",
       "4 1920 14.90                                15000                          \n",
       "5 1940 15.26                                 5000                          \n",
       "6 1980 15.52                                  400                          \n",
       "7 2000 15.99                                   17                          "
      ]
     },
     "metadata": {},
     "output_type": "display_data"
    }
   ],
   "source": [
    "df <- df[, !duplicated(colnames(df))]\n",
    "df"
   ]
  },
  {
   "cell_type": "markdown",
   "id": "dfda6356",
   "metadata": {
    "papermill": {
     "duration": 0.022436,
     "end_time": "2021-09-05T12:10:14.871376",
     "exception": false,
     "start_time": "2021-09-05T12:10:14.848940",
     "status": "completed"
    },
    "tags": []
   },
   "source": [
    "Now it's time to plot! Firstly, we will import the **ggplot** module, which allows us to draw plots easily:"
   ]
  },
  {
   "cell_type": "code",
   "execution_count": 8,
   "id": "d1482d80",
   "metadata": {
    "execution": {
     "iopub.execute_input": "2021-09-05T12:10:14.920460Z",
     "iopub.status.busy": "2021-09-05T12:10:14.918960Z",
     "iopub.status.idle": "2021-09-05T12:10:15.151816Z",
     "shell.execute_reply": "2021-09-05T12:10:15.149808Z"
    },
    "papermill": {
     "duration": 0.258728,
     "end_time": "2021-09-05T12:10:15.151968",
     "exception": false,
     "start_time": "2021-09-05T12:10:14.893240",
     "status": "completed"
    },
    "tags": []
   },
   "outputs": [
    {
     "name": "stderr",
     "output_type": "stream",
     "text": [
      "Warning message:\n",
      "\"package 'ggplot2' was built under R version 3.6.3\""
     ]
    }
   ],
   "source": [
    "library(ggplot2)"
   ]
  },
  {
   "cell_type": "markdown",
   "id": "6a0d07c1",
   "metadata": {
    "papermill": {
     "duration": 0.023344,
     "end_time": "2021-09-05T12:10:15.197253",
     "exception": false,
     "start_time": "2021-09-05T12:10:15.173909",
     "status": "completed"
    },
    "tags": []
   },
   "source": [
    "Then, we will define a *scatterplot* with the pirates in the x axis, the temperature in the y axis"
   ]
  },
  {
   "cell_type": "code",
   "execution_count": 9,
   "id": "a6e92448",
   "metadata": {
    "execution": {
     "iopub.execute_input": "2021-09-05T12:10:15.254233Z",
     "iopub.status.busy": "2021-09-05T12:10:15.252368Z",
     "iopub.status.idle": "2021-09-05T12:10:15.838707Z",
     "shell.execute_reply": "2021-09-05T12:10:15.837314Z"
    },
    "papermill": {
     "duration": 0.619808,
     "end_time": "2021-09-05T12:10:15.838851",
     "exception": false,
     "start_time": "2021-09-05T12:10:15.219043",
     "status": "completed"
    },
    "scrolled": true,
    "tags": []
   },
   "outputs": [
    {
     "data": {
      "image/png": "[encoded data removed]",
      "text/plain": [
       "plot without title"
      ]
     },
     "metadata": {},
     "output_type": "display_data"
    }
   ],
   "source": [
    "ggplot(df, aes(x=Number.of.Pirates..Approximate., y=Global.Average.Temperature..Celsius.))+ geom_point()"
   ]
  },
  {
   "cell_type": "markdown",
   "id": "8d3a1c7e",
   "metadata": {
    "papermill": {
     "duration": 0.022978,
     "end_time": "2021-09-05T12:10:15.885251",
     "exception": false,
     "start_time": "2021-09-05T12:10:15.862273",
     "status": "completed"
    },
    "tags": []
   },
   "source": [
    "The difference between this plot and the first Pastafarian one is that, if the year is not considered, then Python (and almost any other plotting tool) will sort the points throughout the x-axis and not by year."
   ]
  },
  {
   "cell_type": "markdown",
   "id": "0fb48b28",
   "metadata": {
    "papermill": {
     "duration": 0.022579,
     "end_time": "2021-09-05T12:10:15.930791",
     "exception": false,
     "start_time": "2021-09-05T12:10:15.908212",
     "status": "completed"
    },
    "tags": []
   },
   "source": [
    "This is because, in reality, the first Pastafarian plot is more like a \"bar chart\" where the number of pirates act as discrete categories ordered by year, and the temperature is the value on the y axis!"
   ]
  },
  {
   "cell_type": "markdown",
   "id": "b7de95f3",
   "metadata": {
    "papermill": {
     "duration": 0.022876,
     "end_time": "2021-09-05T12:10:15.976972",
     "exception": false,
     "start_time": "2021-09-05T12:10:15.954096",
     "status": "completed"
    },
    "tags": []
   },
   "source": [
    "Therefore, we need to create a plot that mimics this design:"
   ]
  },
  {
   "cell_type": "code",
   "execution_count": 10,
   "id": "9258b9a5",
   "metadata": {
    "execution": {
     "iopub.execute_input": "2021-09-05T12:10:16.027946Z",
     "iopub.status.busy": "2021-09-05T12:10:16.026530Z",
     "iopub.status.idle": "2021-09-05T12:10:16.039747Z",
     "shell.execute_reply": "2021-09-05T12:10:16.038472Z"
    },
    "papermill": {
     "duration": 0.040095,
     "end_time": "2021-09-05T12:10:16.039891",
     "exception": false,
     "start_time": "2021-09-05T12:10:15.999796",
     "status": "completed"
    },
    "tags": []
   },
   "outputs": [],
   "source": [
    "# First, we convert the pirates column into a categorical one\n",
    "df$Number.of.Pirates..Approximate. = as.factor(df$Number.of.Pirates..Approximate.)"
   ]
  },
  {
   "cell_type": "code",
   "execution_count": 11,
   "id": "2487eb6c",
   "metadata": {
    "execution": {
     "iopub.execute_input": "2021-09-05T12:10:16.091249Z",
     "iopub.status.busy": "2021-09-05T12:10:16.089708Z",
     "iopub.status.idle": "2021-09-05T12:10:16.338456Z",
     "shell.execute_reply": "2021-09-05T12:10:16.337263Z"
    },
    "papermill": {
     "duration": 0.275636,
     "end_time": "2021-09-05T12:10:16.338598",
     "exception": false,
     "start_time": "2021-09-05T12:10:16.062962",
     "status": "completed"
    },
    "tags": []
   },
   "outputs": [
    {
     "data": {
      "image/png": "[encoded data removed]",
      "text/plain": [
       "plot without title"
      ]
     },
     "metadata": {},
     "output_type": "display_data"
    }
   ],
   "source": [
    "# Now we plot (with the scale_x_discrete parameter we can sort the values in x by order of appearance in the table\n",
    "ggplot(df, aes(x=Number.of.Pirates..Approximate.,\n",
    "                         y=Global.Average.Temperature..Celsius., group=1))+\n",
    "                         geom_line(color=\"black\")+geom_point()+ylim(13, 16.5)+\n",
    "                         scale_x_discrete(limits = df$Number.of.Pirates..Approximate.)"
   ]
  },
  {
   "cell_type": "markdown",
   "id": "28738a2c",
   "metadata": {
    "papermill": {
     "duration": 0.024671,
     "end_time": "2021-09-05T12:10:16.388164",
     "exception": false,
     "start_time": "2021-09-05T12:10:16.363493",
     "status": "completed"
    },
    "tags": []
   },
   "source": [
    "**BONUS: CAN YOU ADD THE YEARS ON TOP OF EACH DOT?**"
   ]
  },
  {
   "cell_type": "code",
   "execution_count": 12,
   "id": "22889b01",
   "metadata": {
    "execution": {
     "iopub.execute_input": "2021-09-05T12:10:16.442673Z",
     "iopub.status.busy": "2021-09-05T12:10:16.441164Z",
     "iopub.status.idle": "2021-09-05T12:10:16.455271Z",
     "shell.execute_reply": "2021-09-05T12:10:16.453669Z"
    },
    "papermill": {
     "duration": 0.042845,
     "end_time": "2021-09-05T12:10:16.455417",
     "exception": false,
     "start_time": "2021-09-05T12:10:16.412572",
     "status": "completed"
    },
    "tags": []
   },
   "outputs": [],
   "source": [
    "## Use this cell for your code\n"
   ]
  },
  {
   "cell_type": "markdown",
   "id": "7dd44ad0",
   "metadata": {
    "papermill": {
     "duration": 0.024508,
     "end_time": "2021-09-05T12:10:16.505045",
     "exception": false,
     "start_time": "2021-09-05T12:10:16.480537",
     "status": "completed"
    },
    "tags": []
   },
   "source": [
    "To plot the second version of the Pastafarian plot (i.e. the two lines), we can use ggplot as well:"
   ]
  },
  {
   "cell_type": "code",
   "execution_count": 13,
   "id": "c63305e3",
   "metadata": {
    "execution": {
     "iopub.execute_input": "2021-09-05T12:10:16.561522Z",
     "iopub.status.busy": "2021-09-05T12:10:16.559308Z",
     "iopub.status.idle": "2021-09-05T12:10:17.011391Z",
     "shell.execute_reply": "2021-09-05T12:10:17.009697Z"
    },
    "papermill": {
     "duration": 0.481407,
     "end_time": "2021-09-05T12:10:17.011531",
     "exception": false,
     "start_time": "2021-09-05T12:10:16.530124",
     "status": "completed"
    },
    "tags": []
   },
   "outputs": [
    {
     "data": {
      "image/png": "[encoded data removed]",
      "text/plain": [
       "plot without title"
      ]
     },
     "metadata": {},
     "output_type": "display_data"
    },
    {
     "data": {
      "image/png": "[encoded data removed]",
      "text/plain": [
       "plot without title"
      ]
     },
     "metadata": {},
     "output_type": "display_data"
    }
   ],
   "source": [
    "ggplot(df, aes(x=Year,y=Global.Average.Temperature..Celsius., group=1))+\n",
    "                         geom_line(color=\"red\")+geom_point()\n",
    "ggplot(df, aes(x=Year,y=Number.of.Pirates..Approximate., group=1))+\n",
    "                         geom_line(color=\"blue\")+geom_point()"
   ]
  },
  {
   "cell_type": "markdown",
   "id": "b4ba177a",
   "metadata": {
    "papermill": {
     "duration": 0.027425,
     "end_time": "2021-09-05T12:10:17.067254",
     "exception": false,
     "start_time": "2021-09-05T12:10:17.039829",
     "status": "completed"
    },
    "tags": []
   },
   "source": [
    "Once again, there are major differences between our plot and the second Pastafarian one! The main issue now is that the *scale* of the pirate data is vastly different to the temperature one, and thus, ggplot plotted them in different spaces!"
   ]
  },
  {
   "cell_type": "markdown",
   "id": "53985d66",
   "metadata": {
    "papermill": {
     "duration": 0.027473,
     "end_time": "2021-09-05T12:10:17.122125",
     "exception": false,
     "start_time": "2021-09-05T12:10:17.094652",
     "status": "completed"
    },
    "tags": []
   },
   "source": [
    "We need to specify that we want both plots drawn with different scales in the same plotting space (something that I highly discourage, we will see why later in this module!)"
   ]
  },
  {
   "cell_type": "code",
   "execution_count": 14,
   "id": "079c83ab",
   "metadata": {
    "execution": {
     "iopub.execute_input": "2021-09-05T12:10:17.183654Z",
     "iopub.status.busy": "2021-09-05T12:10:17.182259Z",
     "iopub.status.idle": "2021-09-05T12:10:17.196378Z",
     "shell.execute_reply": "2021-09-05T12:10:17.195038Z"
    },
    "papermill": {
     "duration": 0.046991,
     "end_time": "2021-09-05T12:10:17.196732",
     "exception": false,
     "start_time": "2021-09-05T12:10:17.149741",
     "status": "completed"
    },
    "tags": []
   },
   "outputs": [],
   "source": [
    "# We convert the pirates column back to a numerical one\n",
    "df$Number.of.Pirates..Approximate. = as.numeric(df$Number.of.Pirates..Approximate.)"
   ]
  },
  {
   "cell_type": "code",
   "execution_count": 15,
   "id": "50d3a927",
   "metadata": {
    "execution": {
     "iopub.execute_input": "2021-09-05T12:10:17.257827Z",
     "iopub.status.busy": "2021-09-05T12:10:17.256204Z",
     "iopub.status.idle": "2021-09-05T12:10:17.495004Z",
     "shell.execute_reply": "2021-09-05T12:10:17.493963Z"
    },
    "papermill": {
     "duration": 0.270684,
     "end_time": "2021-09-05T12:10:17.495160",
     "exception": false,
     "start_time": "2021-09-05T12:10:17.224476",
     "status": "completed"
    },
    "tags": []
   },
   "outputs": [
    {
     "data": {
      "image/png": "[encoded data removed]",
      "text/plain": [
       "plot without title"
      ]
     },
     "metadata": {},
     "output_type": "display_data"
    }
   ],
   "source": [
    "# Now we plot\n",
    "\n",
    "# Value used to transform the second axis (it is an estimate)\n",
    "coeff <- 6000\n",
    "\n",
    "ggplot(df, aes(x=Year)) +\n",
    "  \n",
    "  geom_line(aes(y=Global.Average.Temperature..Celsius.), color=\"red\") +\n",
    "  geom_line(aes(y=Number.of.Pirates..Approximate.), color = \"blue\") +\n",
    "  \n",
    "  scale_y_continuous(\n",
    "    \n",
    "    # Features of the first axis\n",
    "    name = \"Global Average Temperature (Celsius)\",\n",
    "    \n",
    "    # Add a second axis and specify its features\n",
    "    sec.axis = sec_axis(~.*coeff, name=\"Number of Pirates (Approximate)\")\n",
    "  )"
   ]
  },
  {
   "cell_type": "markdown",
   "id": "c0b767c7",
   "metadata": {
    "papermill": {
     "duration": 0.029418,
     "end_time": "2021-09-05T12:10:17.554087",
     "exception": false,
     "start_time": "2021-09-05T12:10:17.524669",
     "status": "completed"
    },
    "tags": []
   },
   "source": [
    "**BONUS**: Can you improve this?"
   ]
  }
 ],
 "metadata": {
  "hide_input": false,
  "kernelspec": {
   "display_name": "R",
   "language": "R",
   "name": "ir"
  },
  "language_info": {
   "codemirror_mode": "r",
   "file_extension": ".r",
   "mimetype": "text/x-r-source",
   "name": "R",
   "pygments_lexer": "r",
   "version": "3.6.1"
  },
  "papermill": {
   "default_parameters": {},
   "duration": 7.277901,
   "end_time": "2021-09-05T12:10:17.693628",
   "environment_variables": {},
   "exception": null,
   "input_path": "__notebook__.ipynb",
   "output_path": "__notebook__.ipynb",
   "parameters": {},
   "start_time": "2021-09-05T12:10:10.415727",
   "version": "2.3.3"
  },
  "varInspector": {
   "cols": {
    "lenName": 16,
    "lenType": 16,
    "lenVar": 40
   },
   "kernels_config": {
    "python": {
     "delete_cmd_postfix": "",
     "delete_cmd_prefix": "del ",
     "library": "var_list.py",
     "varRefreshCmd": "print(var_dic_list())"
    },
    "r": {
     "delete_cmd_postfix": ") ",
     "delete_cmd_prefix": "rm(",
     "library": "var_list.r",
     "varRefreshCmd": "cat(var_dic_list()) "
    }
   },
   "types_to_exclude": [
    "module",
    "function",
    "builtin_function_or_method",
    "instance",
    "_Feature"
   ],
   "window_display": false
  }
 },
 "nbformat": 4,
 "nbformat_minor": 5
}
