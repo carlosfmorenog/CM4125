{
  "cells": [
    {
      "cell_type": "markdown",
      "metadata": {
        "id": "view-in-github",
        "colab_type": "text"
      },
      "source": [
        "<a href=\"https://colab.research.google.com/github/carlosfmorenog/CM4125/blob/main/CM4125_T6/CM4125_Lec6.ipynb\" target=\"_parent\"><img src=\"https://colab.research.google.com/assets/colab-badge.svg\" alt=\"Open In Colab\"/></a>"
      ]
    },
    {
      "cell_type": "markdown",
      "metadata": {
        "hide_input": true,
        "id": "1YZiXNKEIUnf"
      },
      "source": [
        "# CM4125 Topic 6: Data Manipulation (Part 1)"
      ]
    },
    {
      "cell_type": "markdown",
      "metadata": {
        "hide_input": false,
        "id": "ojYFsMnTIUng"
      },
      "source": [
        "## Lecture objectives"
      ]
    },
    {
      "cell_type": "markdown",
      "metadata": {
        "id": "r9GBSn9pIUnh"
      },
      "source": [
        "1) Load a set of datasets containing different characteristics"
      ]
    },
    {
      "cell_type": "markdown",
      "metadata": {
        "id": "PrSvM9XYIUnh"
      },
      "source": [
        "2) Understand the best methods to manipulate it prior to analysis"
      ]
    },
    {
      "cell_type": "markdown",
      "metadata": {
        "id": "AQm8Z5vHIUni"
      },
      "source": [
        "3) Apply more elaborated pre-processing techniques to clean data and fill in missing values"
      ]
    },
    {
      "cell_type": "markdown",
      "metadata": {
        "id": "aCxYr7SqIUni"
      },
      "source": [
        "## Data by Columns"
      ]
    },
    {
      "cell_type": "code",
      "execution_count": null,
      "metadata": {
        "id": "boda3ZEYIUnj",
        "outputId": "ae601680-cedc-4031-f18f-9882666fea42"
      },
      "outputs": [
        {
          "data": {
            "text/html": [
              "<div>\n",
              "<style scoped>\n",
              "    .dataframe tbody tr th:only-of-type {\n",
              "        vertical-align: middle;\n",
              "    }\n",
              "\n",
              "    .dataframe tbody tr th {\n",
              "        vertical-align: top;\n",
              "    }\n",
              "\n",
              "    .dataframe thead th {\n",
              "        text-align: right;\n",
              "    }\n",
              "</style>\n",
              "<table border=\"1\" class=\"dataframe\">\n",
              "  <thead>\n",
              "    <tr style=\"text-align: right;\">\n",
              "      <th></th>\n",
              "      <th>Year</th>\n",
              "      <th>Honor</th>\n",
              "      <th>Name</th>\n",
              "      <th>Country</th>\n",
              "      <th>Birth Year</th>\n",
              "      <th>Death Year</th>\n",
              "      <th>Title</th>\n",
              "      <th>Category</th>\n",
              "      <th>Context</th>\n",
              "    </tr>\n",
              "  </thead>\n",
              "  <tbody>\n",
              "    <tr>\n",
              "      <th>0</th>\n",
              "      <td>1927</td>\n",
              "      <td>Man of the Year</td>\n",
              "      <td>Charles Lindbergh</td>\n",
              "      <td>United States</td>\n",
              "      <td>1902.0</td>\n",
              "      <td>1974.0</td>\n",
              "      <td>US Air Mail Pilot</td>\n",
              "      <td>NaN</td>\n",
              "      <td>First Solo Transatlantic Flight</td>\n",
              "    </tr>\n",
              "    <tr>\n",
              "      <th>1</th>\n",
              "      <td>1928</td>\n",
              "      <td>Man of the Year</td>\n",
              "      <td>Walter Chrysler</td>\n",
              "      <td>United States</td>\n",
              "      <td>1875.0</td>\n",
              "      <td>1940.0</td>\n",
              "      <td>Founder of Chrysler</td>\n",
              "      <td>Economics</td>\n",
              "      <td>Chrysler/Dodge Merger</td>\n",
              "    </tr>\n",
              "    <tr>\n",
              "      <th>2</th>\n",
              "      <td>1929</td>\n",
              "      <td>Man of the Year</td>\n",
              "      <td>Owen D. Young</td>\n",
              "      <td>United States</td>\n",
              "      <td>1874.0</td>\n",
              "      <td>1962.0</td>\n",
              "      <td>Member of the German Reparations International...</td>\n",
              "      <td>Diplomacy</td>\n",
              "      <td>Young Plan</td>\n",
              "    </tr>\n",
              "    <tr>\n",
              "      <th>3</th>\n",
              "      <td>1930</td>\n",
              "      <td>Man of the Year</td>\n",
              "      <td>Mahatma Gandhi</td>\n",
              "      <td>India</td>\n",
              "      <td>1869.0</td>\n",
              "      <td>1948.0</td>\n",
              "      <td>NaN</td>\n",
              "      <td>Revolution</td>\n",
              "      <td>Salt March</td>\n",
              "    </tr>\n",
              "    <tr>\n",
              "      <th>4</th>\n",
              "      <td>1931</td>\n",
              "      <td>Man of the Year</td>\n",
              "      <td>Pierre Laval</td>\n",
              "      <td>France</td>\n",
              "      <td>1883.0</td>\n",
              "      <td>1945.0</td>\n",
              "      <td>Prime Minister of France</td>\n",
              "      <td>Politics</td>\n",
              "      <td>NaN</td>\n",
              "    </tr>\n",
              "    <tr>\n",
              "      <th>...</th>\n",
              "      <td>...</td>\n",
              "      <td>...</td>\n",
              "      <td>...</td>\n",
              "      <td>...</td>\n",
              "      <td>...</td>\n",
              "      <td>...</td>\n",
              "      <td>...</td>\n",
              "      <td>...</td>\n",
              "      <td>...</td>\n",
              "    </tr>\n",
              "    <tr>\n",
              "      <th>94</th>\n",
              "      <td>2020</td>\n",
              "      <td>Person of the Year</td>\n",
              "      <td>Joe Biden &amp; Kamala Harris</td>\n",
              "      <td>United States</td>\n",
              "      <td>NaN</td>\n",
              "      <td>NaN</td>\n",
              "      <td>President and Vice President of the USA</td>\n",
              "      <td>Politics</td>\n",
              "      <td>Presidential Election</td>\n",
              "    </tr>\n",
              "    <tr>\n",
              "      <th>95</th>\n",
              "      <td>2021</td>\n",
              "      <td>Person of the Year</td>\n",
              "      <td>Elon Musk</td>\n",
              "      <td>South Africa</td>\n",
              "      <td>1971.0</td>\n",
              "      <td>NaN</td>\n",
              "      <td>CEO of Tesla</td>\n",
              "      <td>Technology</td>\n",
              "      <td>Richest Person in the World</td>\n",
              "    </tr>\n",
              "    <tr>\n",
              "      <th>96</th>\n",
              "      <td>2022</td>\n",
              "      <td>Person of the Year</td>\n",
              "      <td>Volodymyr Zelensky</td>\n",
              "      <td>Ukraine</td>\n",
              "      <td>1978.0</td>\n",
              "      <td>NaN</td>\n",
              "      <td>President of Ukraine</td>\n",
              "      <td>Politics</td>\n",
              "      <td>War in Ukraine</td>\n",
              "    </tr>\n",
              "    <tr>\n",
              "      <th>97</th>\n",
              "      <td>2023</td>\n",
              "      <td>Person of the Year</td>\n",
              "      <td>Taylor Swift</td>\n",
              "      <td>United States</td>\n",
              "      <td>1989.0</td>\n",
              "      <td>NaN</td>\n",
              "      <td>Singer-songwriter</td>\n",
              "      <td>Entertainment</td>\n",
              "      <td>Cultural and Economic Impact</td>\n",
              "    </tr>\n",
              "    <tr>\n",
              "      <th>98</th>\n",
              "      <td>2024</td>\n",
              "      <td>Person of the Year</td>\n",
              "      <td>Donald Trump</td>\n",
              "      <td>United States</td>\n",
              "      <td>1946.0</td>\n",
              "      <td>NaN</td>\n",
              "      <td>President of the United States</td>\n",
              "      <td>Politics</td>\n",
              "      <td>Presidential Election</td>\n",
              "    </tr>\n",
              "  </tbody>\n",
              "</table>\n",
              "<p>99 rows × 9 columns</p>\n",
              "</div>"
            ],
            "text/plain": [
              "    Year               Honor                       Name        Country  \\\n",
              "0   1927     Man of the Year          Charles Lindbergh  United States   \n",
              "1   1928     Man of the Year            Walter Chrysler  United States   \n",
              "2   1929     Man of the Year              Owen D. Young  United States   \n",
              "3   1930     Man of the Year             Mahatma Gandhi          India   \n",
              "4   1931     Man of the Year               Pierre Laval         France   \n",
              "..   ...                 ...                        ...            ...   \n",
              "94  2020  Person of the Year  Joe Biden & Kamala Harris  United States   \n",
              "95  2021  Person of the Year                  Elon Musk   South Africa   \n",
              "96  2022  Person of the Year         Volodymyr Zelensky        Ukraine   \n",
              "97  2023  Person of the Year               Taylor Swift  United States   \n",
              "98  2024  Person of the Year               Donald Trump  United States   \n",
              "\n",
              "    Birth Year  Death Year                                              Title  \\\n",
              "0       1902.0      1974.0                                  US Air Mail Pilot   \n",
              "1       1875.0      1940.0                                Founder of Chrysler   \n",
              "2       1874.0      1962.0  Member of the German Reparations International...   \n",
              "3       1869.0      1948.0                                                NaN   \n",
              "4       1883.0      1945.0                           Prime Minister of France   \n",
              "..         ...         ...                                                ...   \n",
              "94         NaN         NaN            President and Vice President of the USA   \n",
              "95      1971.0         NaN                                       CEO of Tesla   \n",
              "96      1978.0         NaN                               President of Ukraine   \n",
              "97      1989.0         NaN                                  Singer-songwriter   \n",
              "98      1946.0         NaN                     President of the United States   \n",
              "\n",
              "         Category                          Context  \n",
              "0             NaN  First Solo Transatlantic Flight  \n",
              "1       Economics            Chrysler/Dodge Merger  \n",
              "2       Diplomacy                       Young Plan  \n",
              "3      Revolution                       Salt March  \n",
              "4        Politics                              NaN  \n",
              "..            ...                              ...  \n",
              "94       Politics            Presidential Election  \n",
              "95     Technology      Richest Person in the World  \n",
              "96       Politics                   War in Ukraine  \n",
              "97  Entertainment     Cultural and Economic Impact  \n",
              "98       Politics            Presidential Election  \n",
              "\n",
              "[99 rows x 9 columns]"
            ]
          },
          "execution_count": 1,
          "metadata": {},
          "output_type": "execute_result"
        }
      ],
      "source": [
        "# Importing a dataset that I have in dropbox related to Time magazine MoTY\n",
        "import pandas as pd\n",
        "time = pd.read_csv('https://www.dropbox.com/scl/fi/muy48qj9p2hb1h5u9wk4x/times.csv?rlkey=ucnespmybj64px1woyfx32arv&raw=1')\n",
        "time"
      ]
    },
    {
      "cell_type": "markdown",
      "metadata": {
        "id": "_rR0LaA9IUnj"
      },
      "source": [
        "This dataset contains the list of people named Man/Person of the Year by Times magazine"
      ]
    },
    {
      "cell_type": "markdown",
      "metadata": {
        "id": "VaZSD6mUIUnj"
      },
      "source": [
        "Last week, we added a new column to a dataframe (the \"watched\" column at the end of the Netflix dataset)"
      ]
    },
    {
      "cell_type": "markdown",
      "metadata": {
        "id": "5sxyR5IIIUnk"
      },
      "source": [
        "Today, we will learn other ways in which we can manipulate, add or relate data from columns"
      ]
    },
    {
      "cell_type": "markdown",
      "metadata": {
        "id": "CIXo0hGkIUnk"
      },
      "source": [
        "### Mapping Columns"
      ]
    },
    {
      "cell_type": "markdown",
      "metadata": {
        "id": "XjA56NgGIUnl"
      },
      "source": [
        "Sometimes we want to convert a column of categorical data from strings (text) to integers (numbers)"
      ]
    },
    {
      "cell_type": "markdown",
      "metadata": {
        "id": "Ormm6gsoIUnl"
      },
      "source": [
        "We can define a `dictionary` which maps the strings (as keys) to integers (as values) using the `map` method"
      ]
    },
    {
      "cell_type": "markdown",
      "metadata": {
        "id": "ttX-VeK5IUnl"
      },
      "source": [
        "Another option is to define a `set` of the unique categories as follows."
      ]
    },
    {
      "cell_type": "code",
      "execution_count": null,
      "metadata": {
        "id": "DdQCZdiZIUnl",
        "outputId": "06c6212a-049a-44df-ca59-10d4fa34507b"
      },
      "outputs": [
        {
          "data": {
            "text/plain": [
              "{'Diplomacy',\n",
              " 'Economics',\n",
              " 'Entertainment',\n",
              " 'Environment',\n",
              " 'Media',\n",
              " 'Philanthropy',\n",
              " 'Politics',\n",
              " 'Religion',\n",
              " 'Revolution',\n",
              " 'Science',\n",
              " 'Space',\n",
              " 'Technology',\n",
              " 'War',\n",
              " nan}"
            ]
          },
          "execution_count": 2,
          "metadata": {},
          "output_type": "execute_result"
        }
      ],
      "source": [
        "categories = set(time['Category'])\n",
        "categories"
      ]
    },
    {
      "cell_type": "markdown",
      "metadata": {
        "id": "KeCnnrTUIUnm"
      },
      "source": [
        "Then, we can then assign unique numbers to this `set` as a `dictionary` (defined in Python using the `{}`)"
      ]
    },
    {
      "cell_type": "code",
      "execution_count": null,
      "metadata": {
        "id": "UM5uvMb3IUnm",
        "outputId": "485a66f1-ab09-44a0-e3ba-988f489086e5"
      },
      "outputs": [
        {
          "data": {
            "text/plain": [
              "{'Revolution': 0,\n",
              " 'Technology': 1,\n",
              " 'Politics': 2,\n",
              " 'War': 3,\n",
              " 'Media': 4,\n",
              " 'Environment': 5,\n",
              " 'Economics': 6,\n",
              " 'Diplomacy': 7,\n",
              " nan: 8,\n",
              " 'Space': 9,\n",
              " 'Science': 10,\n",
              " 'Philanthropy': 11,\n",
              " 'Entertainment': 12,\n",
              " 'Religion': 13}"
            ]
          },
          "execution_count": 3,
          "metadata": {},
          "output_type": "execute_result"
        }
      ],
      "source": [
        "mapping = {category : index for index, category in enumerate(categories)}\n",
        "mapping"
      ]
    },
    {
      "cell_type": "markdown",
      "metadata": {
        "id": "H2_VKYk3IUnm"
      },
      "source": [
        "We now have a `map` which allows us to convert from a category string to an `int`. For example:"
      ]
    },
    {
      "cell_type": "code",
      "execution_count": null,
      "metadata": {
        "cell_style": "split",
        "id": "eyXXstqcIUnm",
        "outputId": "46f3092a-7553-41d5-d8e8-2a554cf52c6b"
      },
      "outputs": [
        {
          "data": {
            "text/plain": [
              "7"
            ]
          },
          "execution_count": 4,
          "metadata": {},
          "output_type": "execute_result"
        }
      ],
      "source": [
        "mapping['Diplomacy']"
      ]
    },
    {
      "cell_type": "code",
      "execution_count": null,
      "metadata": {
        "cell_style": "split",
        "id": "wd4axHoZIUnm",
        "outputId": "234f2e34-f709-4291-a5ed-eb38aced83f0"
      },
      "outputs": [
        {
          "data": {
            "text/plain": [
              "4"
            ]
          },
          "execution_count": 5,
          "metadata": {},
          "output_type": "execute_result"
        }
      ],
      "source": [
        "mapping['Media']"
      ]
    },
    {
      "cell_type": "markdown",
      "metadata": {
        "id": "a9eoIaBTIUnn"
      },
      "source": [
        "We can use the `map` method on the chosen column to do the conversion"
      ]
    },
    {
      "cell_type": "markdown",
      "metadata": {
        "id": "0jOxDiKZIUnn"
      },
      "source": [
        "The `map` method takes our `dictionary` as an argument and returns a new column with the mapping applied"
      ]
    },
    {
      "cell_type": "code",
      "execution_count": null,
      "metadata": {
        "id": "2A35oY8xIUnn",
        "outputId": "10991a4d-8df7-4518-fe6d-cc025462a3c8"
      },
      "outputs": [
        {
          "data": {
            "text/plain": [
              "0      8\n",
              "1      6\n",
              "2      7\n",
              "3      0\n",
              "4      2\n",
              "      ..\n",
              "94     2\n",
              "95     1\n",
              "96     2\n",
              "97    12\n",
              "98     2\n",
              "Name: Category, Length: 99, dtype: int64"
            ]
          },
          "execution_count": 6,
          "metadata": {},
          "output_type": "execute_result"
        }
      ],
      "source": [
        "time['Category'].map(mapping)"
      ]
    },
    {
      "cell_type": "markdown",
      "metadata": {
        "id": "uYIfLIlJIUnn"
      },
      "source": [
        "If we wanted to overwrite the `Category` column with our new mapped values, we could do:\n",
        "\n",
        "    time['Category'] = time['Category'].map(mapping)"
      ]
    },
    {
      "cell_type": "markdown",
      "metadata": {
        "id": "aomUd4s0IUnn"
      },
      "source": [
        "However, it may be best to keep both. So we can instead assign it a different column name"
      ]
    },
    {
      "cell_type": "code",
      "execution_count": null,
      "metadata": {
        "id": "E7QIPypkIUno",
        "outputId": "0cf3d4da-9ad4-46a3-db21-dec402f7038d"
      },
      "outputs": [
        {
          "data": {
            "text/html": [
              "<div>\n",
              "<style scoped>\n",
              "    .dataframe tbody tr th:only-of-type {\n",
              "        vertical-align: middle;\n",
              "    }\n",
              "\n",
              "    .dataframe tbody tr th {\n",
              "        vertical-align: top;\n",
              "    }\n",
              "\n",
              "    .dataframe thead th {\n",
              "        text-align: right;\n",
              "    }\n",
              "</style>\n",
              "<table border=\"1\" class=\"dataframe\">\n",
              "  <thead>\n",
              "    <tr style=\"text-align: right;\">\n",
              "      <th></th>\n",
              "      <th>Year</th>\n",
              "      <th>Honor</th>\n",
              "      <th>Name</th>\n",
              "      <th>Country</th>\n",
              "      <th>Birth Year</th>\n",
              "      <th>Death Year</th>\n",
              "      <th>Title</th>\n",
              "      <th>Category</th>\n",
              "      <th>Context</th>\n",
              "      <th>Category Ordinal</th>\n",
              "    </tr>\n",
              "  </thead>\n",
              "  <tbody>\n",
              "    <tr>\n",
              "      <th>0</th>\n",
              "      <td>1927</td>\n",
              "      <td>Man of the Year</td>\n",
              "      <td>Charles Lindbergh</td>\n",
              "      <td>United States</td>\n",
              "      <td>1902.0</td>\n",
              "      <td>1974.0</td>\n",
              "      <td>US Air Mail Pilot</td>\n",
              "      <td>NaN</td>\n",
              "      <td>First Solo Transatlantic Flight</td>\n",
              "      <td>8</td>\n",
              "    </tr>\n",
              "    <tr>\n",
              "      <th>1</th>\n",
              "      <td>1928</td>\n",
              "      <td>Man of the Year</td>\n",
              "      <td>Walter Chrysler</td>\n",
              "      <td>United States</td>\n",
              "      <td>1875.0</td>\n",
              "      <td>1940.0</td>\n",
              "      <td>Founder of Chrysler</td>\n",
              "      <td>Economics</td>\n",
              "      <td>Chrysler/Dodge Merger</td>\n",
              "      <td>6</td>\n",
              "    </tr>\n",
              "    <tr>\n",
              "      <th>2</th>\n",
              "      <td>1929</td>\n",
              "      <td>Man of the Year</td>\n",
              "      <td>Owen D. Young</td>\n",
              "      <td>United States</td>\n",
              "      <td>1874.0</td>\n",
              "      <td>1962.0</td>\n",
              "      <td>Member of the German Reparations International...</td>\n",
              "      <td>Diplomacy</td>\n",
              "      <td>Young Plan</td>\n",
              "      <td>7</td>\n",
              "    </tr>\n",
              "    <tr>\n",
              "      <th>3</th>\n",
              "      <td>1930</td>\n",
              "      <td>Man of the Year</td>\n",
              "      <td>Mahatma Gandhi</td>\n",
              "      <td>India</td>\n",
              "      <td>1869.0</td>\n",
              "      <td>1948.0</td>\n",
              "      <td>NaN</td>\n",
              "      <td>Revolution</td>\n",
              "      <td>Salt March</td>\n",
              "      <td>0</td>\n",
              "    </tr>\n",
              "    <tr>\n",
              "      <th>4</th>\n",
              "      <td>1931</td>\n",
              "      <td>Man of the Year</td>\n",
              "      <td>Pierre Laval</td>\n",
              "      <td>France</td>\n",
              "      <td>1883.0</td>\n",
              "      <td>1945.0</td>\n",
              "      <td>Prime Minister of France</td>\n",
              "      <td>Politics</td>\n",
              "      <td>NaN</td>\n",
              "      <td>2</td>\n",
              "    </tr>\n",
              "    <tr>\n",
              "      <th>...</th>\n",
              "      <td>...</td>\n",
              "      <td>...</td>\n",
              "      <td>...</td>\n",
              "      <td>...</td>\n",
              "      <td>...</td>\n",
              "      <td>...</td>\n",
              "      <td>...</td>\n",
              "      <td>...</td>\n",
              "      <td>...</td>\n",
              "      <td>...</td>\n",
              "    </tr>\n",
              "    <tr>\n",
              "      <th>94</th>\n",
              "      <td>2020</td>\n",
              "      <td>Person of the Year</td>\n",
              "      <td>Joe Biden &amp; Kamala Harris</td>\n",
              "      <td>United States</td>\n",
              "      <td>NaN</td>\n",
              "      <td>NaN</td>\n",
              "      <td>President and Vice President of the USA</td>\n",
              "      <td>Politics</td>\n",
              "      <td>Presidential Election</td>\n",
              "      <td>2</td>\n",
              "    </tr>\n",
              "    <tr>\n",
              "      <th>95</th>\n",
              "      <td>2021</td>\n",
              "      <td>Person of the Year</td>\n",
              "      <td>Elon Musk</td>\n",
              "      <td>South Africa</td>\n",
              "      <td>1971.0</td>\n",
              "      <td>NaN</td>\n",
              "      <td>CEO of Tesla</td>\n",
              "      <td>Technology</td>\n",
              "      <td>Richest Person in the World</td>\n",
              "      <td>1</td>\n",
              "    </tr>\n",
              "    <tr>\n",
              "      <th>96</th>\n",
              "      <td>2022</td>\n",
              "      <td>Person of the Year</td>\n",
              "      <td>Volodymyr Zelensky</td>\n",
              "      <td>Ukraine</td>\n",
              "      <td>1978.0</td>\n",
              "      <td>NaN</td>\n",
              "      <td>President of Ukraine</td>\n",
              "      <td>Politics</td>\n",
              "      <td>War in Ukraine</td>\n",
              "      <td>2</td>\n",
              "    </tr>\n",
              "    <tr>\n",
              "      <th>97</th>\n",
              "      <td>2023</td>\n",
              "      <td>Person of the Year</td>\n",
              "      <td>Taylor Swift</td>\n",
              "      <td>United States</td>\n",
              "      <td>1989.0</td>\n",
              "      <td>NaN</td>\n",
              "      <td>Singer-songwriter</td>\n",
              "      <td>Entertainment</td>\n",
              "      <td>Cultural and Economic Impact</td>\n",
              "      <td>12</td>\n",
              "    </tr>\n",
              "    <tr>\n",
              "      <th>98</th>\n",
              "      <td>2024</td>\n",
              "      <td>Person of the Year</td>\n",
              "      <td>Donald Trump</td>\n",
              "      <td>United States</td>\n",
              "      <td>1946.0</td>\n",
              "      <td>NaN</td>\n",
              "      <td>President of the United States</td>\n",
              "      <td>Politics</td>\n",
              "      <td>Presidential Election</td>\n",
              "      <td>2</td>\n",
              "    </tr>\n",
              "  </tbody>\n",
              "</table>\n",
              "<p>99 rows × 10 columns</p>\n",
              "</div>"
            ],
            "text/plain": [
              "    Year               Honor                       Name        Country  \\\n",
              "0   1927     Man of the Year          Charles Lindbergh  United States   \n",
              "1   1928     Man of the Year            Walter Chrysler  United States   \n",
              "2   1929     Man of the Year              Owen D. Young  United States   \n",
              "3   1930     Man of the Year             Mahatma Gandhi          India   \n",
              "4   1931     Man of the Year               Pierre Laval         France   \n",
              "..   ...                 ...                        ...            ...   \n",
              "94  2020  Person of the Year  Joe Biden & Kamala Harris  United States   \n",
              "95  2021  Person of the Year                  Elon Musk   South Africa   \n",
              "96  2022  Person of the Year         Volodymyr Zelensky        Ukraine   \n",
              "97  2023  Person of the Year               Taylor Swift  United States   \n",
              "98  2024  Person of the Year               Donald Trump  United States   \n",
              "\n",
              "    Birth Year  Death Year                                              Title  \\\n",
              "0       1902.0      1974.0                                  US Air Mail Pilot   \n",
              "1       1875.0      1940.0                                Founder of Chrysler   \n",
              "2       1874.0      1962.0  Member of the German Reparations International...   \n",
              "3       1869.0      1948.0                                                NaN   \n",
              "4       1883.0      1945.0                           Prime Minister of France   \n",
              "..         ...         ...                                                ...   \n",
              "94         NaN         NaN            President and Vice President of the USA   \n",
              "95      1971.0         NaN                                       CEO of Tesla   \n",
              "96      1978.0         NaN                               President of Ukraine   \n",
              "97      1989.0         NaN                                  Singer-songwriter   \n",
              "98      1946.0         NaN                     President of the United States   \n",
              "\n",
              "         Category                          Context  Category Ordinal  \n",
              "0             NaN  First Solo Transatlantic Flight                 8  \n",
              "1       Economics            Chrysler/Dodge Merger                 6  \n",
              "2       Diplomacy                       Young Plan                 7  \n",
              "3      Revolution                       Salt March                 0  \n",
              "4        Politics                              NaN                 2  \n",
              "..            ...                              ...               ...  \n",
              "94       Politics            Presidential Election                 2  \n",
              "95     Technology      Richest Person in the World                 1  \n",
              "96       Politics                   War in Ukraine                 2  \n",
              "97  Entertainment     Cultural and Economic Impact                12  \n",
              "98       Politics            Presidential Election                 2  \n",
              "\n",
              "[99 rows x 10 columns]"
            ]
          },
          "execution_count": 7,
          "metadata": {},
          "output_type": "execute_result"
        }
      ],
      "source": [
        "time['Category Ordinal'] = time['Category'].map(mapping)\n",
        "time"
      ]
    },
    {
      "cell_type": "markdown",
      "metadata": {
        "id": "srTzbYV0IUno"
      },
      "source": [
        "### Manipulating Numerical Columns"
      ]
    },
    {
      "cell_type": "markdown",
      "metadata": {
        "id": "f8L5701CIUno"
      },
      "source": [
        "We can perform arithmetic between columns as if they were simply numbers"
      ]
    },
    {
      "cell_type": "markdown",
      "metadata": {
        "id": "qp8hTZ2zIUno"
      },
      "source": [
        "We will take the column `Death Year`, subtract the column `Birth Year`, and storing the result in a (new) column called `Lifespan`"
      ]
    },
    {
      "cell_type": "code",
      "execution_count": null,
      "metadata": {
        "id": "VSba1PYAIUno",
        "outputId": "7b3abd72-cf6f-45e2-84b9-df6444669384"
      },
      "outputs": [
        {
          "data": {
            "text/html": [
              "<div>\n",
              "<style scoped>\n",
              "    .dataframe tbody tr th:only-of-type {\n",
              "        vertical-align: middle;\n",
              "    }\n",
              "\n",
              "    .dataframe tbody tr th {\n",
              "        vertical-align: top;\n",
              "    }\n",
              "\n",
              "    .dataframe thead th {\n",
              "        text-align: right;\n",
              "    }\n",
              "</style>\n",
              "<table border=\"1\" class=\"dataframe\">\n",
              "  <thead>\n",
              "    <tr style=\"text-align: right;\">\n",
              "      <th></th>\n",
              "      <th>Year</th>\n",
              "      <th>Honor</th>\n",
              "      <th>Name</th>\n",
              "      <th>Country</th>\n",
              "      <th>Birth Year</th>\n",
              "      <th>Death Year</th>\n",
              "      <th>Title</th>\n",
              "      <th>Category</th>\n",
              "      <th>Context</th>\n",
              "      <th>Category Ordinal</th>\n",
              "      <th>Lifespan</th>\n",
              "    </tr>\n",
              "  </thead>\n",
              "  <tbody>\n",
              "    <tr>\n",
              "      <th>0</th>\n",
              "      <td>1927</td>\n",
              "      <td>Man of the Year</td>\n",
              "      <td>Charles Lindbergh</td>\n",
              "      <td>United States</td>\n",
              "      <td>1902.0</td>\n",
              "      <td>1974.0</td>\n",
              "      <td>US Air Mail Pilot</td>\n",
              "      <td>NaN</td>\n",
              "      <td>First Solo Transatlantic Flight</td>\n",
              "      <td>8</td>\n",
              "      <td>72.0</td>\n",
              "    </tr>\n",
              "    <tr>\n",
              "      <th>1</th>\n",
              "      <td>1928</td>\n",
              "      <td>Man of the Year</td>\n",
              "      <td>Walter Chrysler</td>\n",
              "      <td>United States</td>\n",
              "      <td>1875.0</td>\n",
              "      <td>1940.0</td>\n",
              "      <td>Founder of Chrysler</td>\n",
              "      <td>Economics</td>\n",
              "      <td>Chrysler/Dodge Merger</td>\n",
              "      <td>6</td>\n",
              "      <td>65.0</td>\n",
              "    </tr>\n",
              "    <tr>\n",
              "      <th>2</th>\n",
              "      <td>1929</td>\n",
              "      <td>Man of the Year</td>\n",
              "      <td>Owen D. Young</td>\n",
              "      <td>United States</td>\n",
              "      <td>1874.0</td>\n",
              "      <td>1962.0</td>\n",
              "      <td>Member of the German Reparations International...</td>\n",
              "      <td>Diplomacy</td>\n",
              "      <td>Young Plan</td>\n",
              "      <td>7</td>\n",
              "      <td>88.0</td>\n",
              "    </tr>\n",
              "    <tr>\n",
              "      <th>3</th>\n",
              "      <td>1930</td>\n",
              "      <td>Man of the Year</td>\n",
              "      <td>Mahatma Gandhi</td>\n",
              "      <td>India</td>\n",
              "      <td>1869.0</td>\n",
              "      <td>1948.0</td>\n",
              "      <td>NaN</td>\n",
              "      <td>Revolution</td>\n",
              "      <td>Salt March</td>\n",
              "      <td>0</td>\n",
              "      <td>79.0</td>\n",
              "    </tr>\n",
              "    <tr>\n",
              "      <th>4</th>\n",
              "      <td>1931</td>\n",
              "      <td>Man of the Year</td>\n",
              "      <td>Pierre Laval</td>\n",
              "      <td>France</td>\n",
              "      <td>1883.0</td>\n",
              "      <td>1945.0</td>\n",
              "      <td>Prime Minister of France</td>\n",
              "      <td>Politics</td>\n",
              "      <td>NaN</td>\n",
              "      <td>2</td>\n",
              "      <td>62.0</td>\n",
              "    </tr>\n",
              "    <tr>\n",
              "      <th>...</th>\n",
              "      <td>...</td>\n",
              "      <td>...</td>\n",
              "      <td>...</td>\n",
              "      <td>...</td>\n",
              "      <td>...</td>\n",
              "      <td>...</td>\n",
              "      <td>...</td>\n",
              "      <td>...</td>\n",
              "      <td>...</td>\n",
              "      <td>...</td>\n",
              "      <td>...</td>\n",
              "    </tr>\n",
              "    <tr>\n",
              "      <th>94</th>\n",
              "      <td>2020</td>\n",
              "      <td>Person of the Year</td>\n",
              "      <td>Joe Biden &amp; Kamala Harris</td>\n",
              "      <td>United States</td>\n",
              "      <td>NaN</td>\n",
              "      <td>NaN</td>\n",
              "      <td>President and Vice President of the USA</td>\n",
              "      <td>Politics</td>\n",
              "      <td>Presidential Election</td>\n",
              "      <td>2</td>\n",
              "      <td>NaN</td>\n",
              "    </tr>\n",
              "    <tr>\n",
              "      <th>95</th>\n",
              "      <td>2021</td>\n",
              "      <td>Person of the Year</td>\n",
              "      <td>Elon Musk</td>\n",
              "      <td>South Africa</td>\n",
              "      <td>1971.0</td>\n",
              "      <td>NaN</td>\n",
              "      <td>CEO of Tesla</td>\n",
              "      <td>Technology</td>\n",
              "      <td>Richest Person in the World</td>\n",
              "      <td>1</td>\n",
              "      <td>NaN</td>\n",
              "    </tr>\n",
              "    <tr>\n",
              "      <th>96</th>\n",
              "      <td>2022</td>\n",
              "      <td>Person of the Year</td>\n",
              "      <td>Volodymyr Zelensky</td>\n",
              "      <td>Ukraine</td>\n",
              "      <td>1978.0</td>\n",
              "      <td>NaN</td>\n",
              "      <td>President of Ukraine</td>\n",
              "      <td>Politics</td>\n",
              "      <td>War in Ukraine</td>\n",
              "      <td>2</td>\n",
              "      <td>NaN</td>\n",
              "    </tr>\n",
              "    <tr>\n",
              "      <th>97</th>\n",
              "      <td>2023</td>\n",
              "      <td>Person of the Year</td>\n",
              "      <td>Taylor Swift</td>\n",
              "      <td>United States</td>\n",
              "      <td>1989.0</td>\n",
              "      <td>NaN</td>\n",
              "      <td>Singer-songwriter</td>\n",
              "      <td>Entertainment</td>\n",
              "      <td>Cultural and Economic Impact</td>\n",
              "      <td>12</td>\n",
              "      <td>NaN</td>\n",
              "    </tr>\n",
              "    <tr>\n",
              "      <th>98</th>\n",
              "      <td>2024</td>\n",
              "      <td>Person of the Year</td>\n",
              "      <td>Donald Trump</td>\n",
              "      <td>United States</td>\n",
              "      <td>1946.0</td>\n",
              "      <td>NaN</td>\n",
              "      <td>President of the United States</td>\n",
              "      <td>Politics</td>\n",
              "      <td>Presidential Election</td>\n",
              "      <td>2</td>\n",
              "      <td>NaN</td>\n",
              "    </tr>\n",
              "  </tbody>\n",
              "</table>\n",
              "<p>99 rows × 11 columns</p>\n",
              "</div>"
            ],
            "text/plain": [
              "    Year               Honor                       Name        Country  \\\n",
              "0   1927     Man of the Year          Charles Lindbergh  United States   \n",
              "1   1928     Man of the Year            Walter Chrysler  United States   \n",
              "2   1929     Man of the Year              Owen D. Young  United States   \n",
              "3   1930     Man of the Year             Mahatma Gandhi          India   \n",
              "4   1931     Man of the Year               Pierre Laval         France   \n",
              "..   ...                 ...                        ...            ...   \n",
              "94  2020  Person of the Year  Joe Biden & Kamala Harris  United States   \n",
              "95  2021  Person of the Year                  Elon Musk   South Africa   \n",
              "96  2022  Person of the Year         Volodymyr Zelensky        Ukraine   \n",
              "97  2023  Person of the Year               Taylor Swift  United States   \n",
              "98  2024  Person of the Year               Donald Trump  United States   \n",
              "\n",
              "    Birth Year  Death Year                                              Title  \\\n",
              "0       1902.0      1974.0                                  US Air Mail Pilot   \n",
              "1       1875.0      1940.0                                Founder of Chrysler   \n",
              "2       1874.0      1962.0  Member of the German Reparations International...   \n",
              "3       1869.0      1948.0                                                NaN   \n",
              "4       1883.0      1945.0                           Prime Minister of France   \n",
              "..         ...         ...                                                ...   \n",
              "94         NaN         NaN            President and Vice President of the USA   \n",
              "95      1971.0         NaN                                       CEO of Tesla   \n",
              "96      1978.0         NaN                               President of Ukraine   \n",
              "97      1989.0         NaN                                  Singer-songwriter   \n",
              "98      1946.0         NaN                     President of the United States   \n",
              "\n",
              "         Category                          Context  Category Ordinal  Lifespan  \n",
              "0             NaN  First Solo Transatlantic Flight                 8      72.0  \n",
              "1       Economics            Chrysler/Dodge Merger                 6      65.0  \n",
              "2       Diplomacy                       Young Plan                 7      88.0  \n",
              "3      Revolution                       Salt March                 0      79.0  \n",
              "4        Politics                              NaN                 2      62.0  \n",
              "..            ...                              ...               ...       ...  \n",
              "94       Politics            Presidential Election                 2       NaN  \n",
              "95     Technology      Richest Person in the World                 1       NaN  \n",
              "96       Politics                   War in Ukraine                 2       NaN  \n",
              "97  Entertainment     Cultural and Economic Impact                12       NaN  \n",
              "98       Politics            Presidential Election                 2       NaN  \n",
              "\n",
              "[99 rows x 11 columns]"
            ]
          },
          "execution_count": 8,
          "metadata": {},
          "output_type": "execute_result"
        }
      ],
      "source": [
        "time['Lifespan'] = time['Death Year'] - time['Birth Year']\n",
        "time"
      ]
    },
    {
      "cell_type": "markdown",
      "metadata": {
        "id": "2RhsFpySIUno"
      },
      "source": [
        "Notice that the method acknowledged that some columns were `NaN` (since the person is still alive) and thus put a `NaN` as a result in the lifespan column."
      ]
    },
    {
      "cell_type": "markdown",
      "metadata": {
        "id": "i1oSVmaCIUno"
      },
      "source": [
        "Sometimes you want to do \"more difficult\" numerical conversions"
      ]
    },
    {
      "cell_type": "markdown",
      "metadata": {
        "id": "EffWkwAyIUno"
      },
      "source": [
        "In those cases, it is more convenient to define a **function** and then use the `apply` method"
      ]
    },
    {
      "cell_type": "markdown",
      "metadata": {
        "id": "ll2LulJZIUnp"
      },
      "source": [
        "In this example, we will define a function to convert years to decades to be applied in the different columns that contain years"
      ]
    },
    {
      "cell_type": "code",
      "execution_count": null,
      "metadata": {
        "id": "84eZYL_fIUnp"
      },
      "outputs": [],
      "source": [
        "def to_decade(value):\n",
        "    return 10 * (value // 10) # // is a floor division"
      ]
    },
    {
      "cell_type": "markdown",
      "metadata": {
        "id": "BvC_f7HSIUnp"
      },
      "source": [
        "For instance, 1965 // 10 = 196, and then * 10 is equal to 1960"
      ]
    },
    {
      "cell_type": "markdown",
      "metadata": {
        "id": "mf4r9GHkIUnp"
      },
      "source": [
        "First, we should test our function on some examples to ensure the function is correct."
      ]
    },
    {
      "cell_type": "code",
      "execution_count": null,
      "metadata": {
        "id": "rXwnejb9IUnp",
        "outputId": "18e4809d-c480-4d5f-e076-99f3bfccab59"
      },
      "outputs": [
        {
          "data": {
            "text/plain": [
              "1970"
            ]
          },
          "execution_count": 10,
          "metadata": {},
          "output_type": "execute_result"
        }
      ],
      "source": [
        "to_decade(1971)"
      ]
    },
    {
      "cell_type": "markdown",
      "metadata": {
        "id": "0h2bCLWtIUnq"
      },
      "source": [
        "Now, we can use `apply` to transform the entire column `Birth Year` into the corresponding decade"
      ]
    },
    {
      "cell_type": "code",
      "execution_count": null,
      "metadata": {
        "id": "MnsZovf7IUnq",
        "outputId": "718d066c-c933-4a15-8104-2338311dd422"
      },
      "outputs": [
        {
          "data": {
            "text/html": [
              "<div>\n",
              "<style scoped>\n",
              "    .dataframe tbody tr th:only-of-type {\n",
              "        vertical-align: middle;\n",
              "    }\n",
              "\n",
              "    .dataframe tbody tr th {\n",
              "        vertical-align: top;\n",
              "    }\n",
              "\n",
              "    .dataframe thead th {\n",
              "        text-align: right;\n",
              "    }\n",
              "</style>\n",
              "<table border=\"1\" class=\"dataframe\">\n",
              "  <thead>\n",
              "    <tr style=\"text-align: right;\">\n",
              "      <th></th>\n",
              "      <th>Year</th>\n",
              "      <th>Honor</th>\n",
              "      <th>Name</th>\n",
              "      <th>Country</th>\n",
              "      <th>Birth Year</th>\n",
              "      <th>Death Year</th>\n",
              "      <th>Title</th>\n",
              "      <th>Category</th>\n",
              "      <th>Context</th>\n",
              "      <th>Category Ordinal</th>\n",
              "      <th>Lifespan</th>\n",
              "      <th>Birth Decade</th>\n",
              "    </tr>\n",
              "  </thead>\n",
              "  <tbody>\n",
              "    <tr>\n",
              "      <th>0</th>\n",
              "      <td>1927</td>\n",
              "      <td>Man of the Year</td>\n",
              "      <td>Charles Lindbergh</td>\n",
              "      <td>United States</td>\n",
              "      <td>1902.0</td>\n",
              "      <td>1974.0</td>\n",
              "      <td>US Air Mail Pilot</td>\n",
              "      <td>NaN</td>\n",
              "      <td>First Solo Transatlantic Flight</td>\n",
              "      <td>8</td>\n",
              "      <td>72.0</td>\n",
              "      <td>1900.0</td>\n",
              "    </tr>\n",
              "    <tr>\n",
              "      <th>1</th>\n",
              "      <td>1928</td>\n",
              "      <td>Man of the Year</td>\n",
              "      <td>Walter Chrysler</td>\n",
              "      <td>United States</td>\n",
              "      <td>1875.0</td>\n",
              "      <td>1940.0</td>\n",
              "      <td>Founder of Chrysler</td>\n",
              "      <td>Economics</td>\n",
              "      <td>Chrysler/Dodge Merger</td>\n",
              "      <td>6</td>\n",
              "      <td>65.0</td>\n",
              "      <td>1870.0</td>\n",
              "    </tr>\n",
              "    <tr>\n",
              "      <th>2</th>\n",
              "      <td>1929</td>\n",
              "      <td>Man of the Year</td>\n",
              "      <td>Owen D. Young</td>\n",
              "      <td>United States</td>\n",
              "      <td>1874.0</td>\n",
              "      <td>1962.0</td>\n",
              "      <td>Member of the German Reparations International...</td>\n",
              "      <td>Diplomacy</td>\n",
              "      <td>Young Plan</td>\n",
              "      <td>7</td>\n",
              "      <td>88.0</td>\n",
              "      <td>1870.0</td>\n",
              "    </tr>\n",
              "    <tr>\n",
              "      <th>3</th>\n",
              "      <td>1930</td>\n",
              "      <td>Man of the Year</td>\n",
              "      <td>Mahatma Gandhi</td>\n",
              "      <td>India</td>\n",
              "      <td>1869.0</td>\n",
              "      <td>1948.0</td>\n",
              "      <td>NaN</td>\n",
              "      <td>Revolution</td>\n",
              "      <td>Salt March</td>\n",
              "      <td>0</td>\n",
              "      <td>79.0</td>\n",
              "      <td>1860.0</td>\n",
              "    </tr>\n",
              "    <tr>\n",
              "      <th>4</th>\n",
              "      <td>1931</td>\n",
              "      <td>Man of the Year</td>\n",
              "      <td>Pierre Laval</td>\n",
              "      <td>France</td>\n",
              "      <td>1883.0</td>\n",
              "      <td>1945.0</td>\n",
              "      <td>Prime Minister of France</td>\n",
              "      <td>Politics</td>\n",
              "      <td>NaN</td>\n",
              "      <td>2</td>\n",
              "      <td>62.0</td>\n",
              "      <td>1880.0</td>\n",
              "    </tr>\n",
              "    <tr>\n",
              "      <th>...</th>\n",
              "      <td>...</td>\n",
              "      <td>...</td>\n",
              "      <td>...</td>\n",
              "      <td>...</td>\n",
              "      <td>...</td>\n",
              "      <td>...</td>\n",
              "      <td>...</td>\n",
              "      <td>...</td>\n",
              "      <td>...</td>\n",
              "      <td>...</td>\n",
              "      <td>...</td>\n",
              "      <td>...</td>\n",
              "    </tr>\n",
              "    <tr>\n",
              "      <th>94</th>\n",
              "      <td>2020</td>\n",
              "      <td>Person of the Year</td>\n",
              "      <td>Joe Biden &amp; Kamala Harris</td>\n",
              "      <td>United States</td>\n",
              "      <td>NaN</td>\n",
              "      <td>NaN</td>\n",
              "      <td>President and Vice President of the USA</td>\n",
              "      <td>Politics</td>\n",
              "      <td>Presidential Election</td>\n",
              "      <td>2</td>\n",
              "      <td>NaN</td>\n",
              "      <td>NaN</td>\n",
              "    </tr>\n",
              "    <tr>\n",
              "      <th>95</th>\n",
              "      <td>2021</td>\n",
              "      <td>Person of the Year</td>\n",
              "      <td>Elon Musk</td>\n",
              "      <td>South Africa</td>\n",
              "      <td>1971.0</td>\n",
              "      <td>NaN</td>\n",
              "      <td>CEO of Tesla</td>\n",
              "      <td>Technology</td>\n",
              "      <td>Richest Person in the World</td>\n",
              "      <td>1</td>\n",
              "      <td>NaN</td>\n",
              "      <td>1970.0</td>\n",
              "    </tr>\n",
              "    <tr>\n",
              "      <th>96</th>\n",
              "      <td>2022</td>\n",
              "      <td>Person of the Year</td>\n",
              "      <td>Volodymyr Zelensky</td>\n",
              "      <td>Ukraine</td>\n",
              "      <td>1978.0</td>\n",
              "      <td>NaN</td>\n",
              "      <td>President of Ukraine</td>\n",
              "      <td>Politics</td>\n",
              "      <td>War in Ukraine</td>\n",
              "      <td>2</td>\n",
              "      <td>NaN</td>\n",
              "      <td>1970.0</td>\n",
              "    </tr>\n",
              "    <tr>\n",
              "      <th>97</th>\n",
              "      <td>2023</td>\n",
              "      <td>Person of the Year</td>\n",
              "      <td>Taylor Swift</td>\n",
              "      <td>United States</td>\n",
              "      <td>1989.0</td>\n",
              "      <td>NaN</td>\n",
              "      <td>Singer-songwriter</td>\n",
              "      <td>Entertainment</td>\n",
              "      <td>Cultural and Economic Impact</td>\n",
              "      <td>12</td>\n",
              "      <td>NaN</td>\n",
              "      <td>1980.0</td>\n",
              "    </tr>\n",
              "    <tr>\n",
              "      <th>98</th>\n",
              "      <td>2024</td>\n",
              "      <td>Person of the Year</td>\n",
              "      <td>Donald Trump</td>\n",
              "      <td>United States</td>\n",
              "      <td>1946.0</td>\n",
              "      <td>NaN</td>\n",
              "      <td>President of the United States</td>\n",
              "      <td>Politics</td>\n",
              "      <td>Presidential Election</td>\n",
              "      <td>2</td>\n",
              "      <td>NaN</td>\n",
              "      <td>1940.0</td>\n",
              "    </tr>\n",
              "  </tbody>\n",
              "</table>\n",
              "<p>99 rows × 12 columns</p>\n",
              "</div>"
            ],
            "text/plain": [
              "    Year               Honor                       Name        Country  \\\n",
              "0   1927     Man of the Year          Charles Lindbergh  United States   \n",
              "1   1928     Man of the Year            Walter Chrysler  United States   \n",
              "2   1929     Man of the Year              Owen D. Young  United States   \n",
              "3   1930     Man of the Year             Mahatma Gandhi          India   \n",
              "4   1931     Man of the Year               Pierre Laval         France   \n",
              "..   ...                 ...                        ...            ...   \n",
              "94  2020  Person of the Year  Joe Biden & Kamala Harris  United States   \n",
              "95  2021  Person of the Year                  Elon Musk   South Africa   \n",
              "96  2022  Person of the Year         Volodymyr Zelensky        Ukraine   \n",
              "97  2023  Person of the Year               Taylor Swift  United States   \n",
              "98  2024  Person of the Year               Donald Trump  United States   \n",
              "\n",
              "    Birth Year  Death Year                                              Title  \\\n",
              "0       1902.0      1974.0                                  US Air Mail Pilot   \n",
              "1       1875.0      1940.0                                Founder of Chrysler   \n",
              "2       1874.0      1962.0  Member of the German Reparations International...   \n",
              "3       1869.0      1948.0                                                NaN   \n",
              "4       1883.0      1945.0                           Prime Minister of France   \n",
              "..         ...         ...                                                ...   \n",
              "94         NaN         NaN            President and Vice President of the USA   \n",
              "95      1971.0         NaN                                       CEO of Tesla   \n",
              "96      1978.0         NaN                               President of Ukraine   \n",
              "97      1989.0         NaN                                  Singer-songwriter   \n",
              "98      1946.0         NaN                     President of the United States   \n",
              "\n",
              "         Category                          Context  Category Ordinal  \\\n",
              "0             NaN  First Solo Transatlantic Flight                 8   \n",
              "1       Economics            Chrysler/Dodge Merger                 6   \n",
              "2       Diplomacy                       Young Plan                 7   \n",
              "3      Revolution                       Salt March                 0   \n",
              "4        Politics                              NaN                 2   \n",
              "..            ...                              ...               ...   \n",
              "94       Politics            Presidential Election                 2   \n",
              "95     Technology      Richest Person in the World                 1   \n",
              "96       Politics                   War in Ukraine                 2   \n",
              "97  Entertainment     Cultural and Economic Impact                12   \n",
              "98       Politics            Presidential Election                 2   \n",
              "\n",
              "    Lifespan  Birth Decade  \n",
              "0       72.0        1900.0  \n",
              "1       65.0        1870.0  \n",
              "2       88.0        1870.0  \n",
              "3       79.0        1860.0  \n",
              "4       62.0        1880.0  \n",
              "..       ...           ...  \n",
              "94       NaN           NaN  \n",
              "95       NaN        1970.0  \n",
              "96       NaN        1970.0  \n",
              "97       NaN        1980.0  \n",
              "98       NaN        1940.0  \n",
              "\n",
              "[99 rows x 12 columns]"
            ]
          },
          "execution_count": 11,
          "metadata": {},
          "output_type": "execute_result"
        }
      ],
      "source": [
        "time['Birth Decade'] = time['Birth Year'].apply(to_decade)\n",
        "time"
      ]
    },
    {
      "cell_type": "markdown",
      "metadata": {
        "id": "94GEUUpYIUnq"
      },
      "source": [
        "### Manipulating String Columns"
      ]
    },
    {
      "cell_type": "markdown",
      "metadata": {
        "id": "mPmtZ3pBIUnq"
      },
      "source": [
        "Even if you use tableau/PowerBi, you need to use this some times (example of inserting calculated fields in tableau)"
      ]
    },
    {
      "cell_type": "markdown",
      "metadata": {
        "id": "B7hWfPQGIUnq"
      },
      "source": [
        "`apply` can also be used on strings"
      ]
    },
    {
      "cell_type": "markdown",
      "metadata": {
        "id": "KO9BTPMJIUnr"
      },
      "source": [
        "For example, we can apply the `len` function to `Name` to get the number of characters in each name."
      ]
    },
    {
      "cell_type": "code",
      "execution_count": null,
      "metadata": {
        "id": "X2IlscY9IUnr",
        "outputId": "9c84a686-54a8-46ae-8d4e-c269c9ff022f"
      },
      "outputs": [
        {
          "data": {
            "text/html": [
              "<div>\n",
              "<style scoped>\n",
              "    .dataframe tbody tr th:only-of-type {\n",
              "        vertical-align: middle;\n",
              "    }\n",
              "\n",
              "    .dataframe tbody tr th {\n",
              "        vertical-align: top;\n",
              "    }\n",
              "\n",
              "    .dataframe thead th {\n",
              "        text-align: right;\n",
              "    }\n",
              "</style>\n",
              "<table border=\"1\" class=\"dataframe\">\n",
              "  <thead>\n",
              "    <tr style=\"text-align: right;\">\n",
              "      <th></th>\n",
              "      <th>Year</th>\n",
              "      <th>Honor</th>\n",
              "      <th>Name</th>\n",
              "      <th>Country</th>\n",
              "      <th>Birth Year</th>\n",
              "      <th>Death Year</th>\n",
              "      <th>Title</th>\n",
              "      <th>Category</th>\n",
              "      <th>Context</th>\n",
              "      <th>Category Ordinal</th>\n",
              "      <th>Lifespan</th>\n",
              "      <th>Birth Decade</th>\n",
              "      <th>Name Length</th>\n",
              "    </tr>\n",
              "  </thead>\n",
              "  <tbody>\n",
              "    <tr>\n",
              "      <th>0</th>\n",
              "      <td>1927</td>\n",
              "      <td>Man of the Year</td>\n",
              "      <td>Charles Lindbergh</td>\n",
              "      <td>United States</td>\n",
              "      <td>1902.0</td>\n",
              "      <td>1974.0</td>\n",
              "      <td>US Air Mail Pilot</td>\n",
              "      <td>NaN</td>\n",
              "      <td>First Solo Transatlantic Flight</td>\n",
              "      <td>8</td>\n",
              "      <td>72.0</td>\n",
              "      <td>1900.0</td>\n",
              "      <td>17</td>\n",
              "    </tr>\n",
              "    <tr>\n",
              "      <th>1</th>\n",
              "      <td>1928</td>\n",
              "      <td>Man of the Year</td>\n",
              "      <td>Walter Chrysler</td>\n",
              "      <td>United States</td>\n",
              "      <td>1875.0</td>\n",
              "      <td>1940.0</td>\n",
              "      <td>Founder of Chrysler</td>\n",
              "      <td>Economics</td>\n",
              "      <td>Chrysler/Dodge Merger</td>\n",
              "      <td>6</td>\n",
              "      <td>65.0</td>\n",
              "      <td>1870.0</td>\n",
              "      <td>15</td>\n",
              "    </tr>\n",
              "    <tr>\n",
              "      <th>2</th>\n",
              "      <td>1929</td>\n",
              "      <td>Man of the Year</td>\n",
              "      <td>Owen D. Young</td>\n",
              "      <td>United States</td>\n",
              "      <td>1874.0</td>\n",
              "      <td>1962.0</td>\n",
              "      <td>Member of the German Reparations International...</td>\n",
              "      <td>Diplomacy</td>\n",
              "      <td>Young Plan</td>\n",
              "      <td>7</td>\n",
              "      <td>88.0</td>\n",
              "      <td>1870.0</td>\n",
              "      <td>13</td>\n",
              "    </tr>\n",
              "    <tr>\n",
              "      <th>3</th>\n",
              "      <td>1930</td>\n",
              "      <td>Man of the Year</td>\n",
              "      <td>Mahatma Gandhi</td>\n",
              "      <td>India</td>\n",
              "      <td>1869.0</td>\n",
              "      <td>1948.0</td>\n",
              "      <td>NaN</td>\n",
              "      <td>Revolution</td>\n",
              "      <td>Salt March</td>\n",
              "      <td>0</td>\n",
              "      <td>79.0</td>\n",
              "      <td>1860.0</td>\n",
              "      <td>14</td>\n",
              "    </tr>\n",
              "    <tr>\n",
              "      <th>4</th>\n",
              "      <td>1931</td>\n",
              "      <td>Man of the Year</td>\n",
              "      <td>Pierre Laval</td>\n",
              "      <td>France</td>\n",
              "      <td>1883.0</td>\n",
              "      <td>1945.0</td>\n",
              "      <td>Prime Minister of France</td>\n",
              "      <td>Politics</td>\n",
              "      <td>NaN</td>\n",
              "      <td>2</td>\n",
              "      <td>62.0</td>\n",
              "      <td>1880.0</td>\n",
              "      <td>12</td>\n",
              "    </tr>\n",
              "    <tr>\n",
              "      <th>...</th>\n",
              "      <td>...</td>\n",
              "      <td>...</td>\n",
              "      <td>...</td>\n",
              "      <td>...</td>\n",
              "      <td>...</td>\n",
              "      <td>...</td>\n",
              "      <td>...</td>\n",
              "      <td>...</td>\n",
              "      <td>...</td>\n",
              "      <td>...</td>\n",
              "      <td>...</td>\n",
              "      <td>...</td>\n",
              "      <td>...</td>\n",
              "    </tr>\n",
              "    <tr>\n",
              "      <th>94</th>\n",
              "      <td>2020</td>\n",
              "      <td>Person of the Year</td>\n",
              "      <td>Joe Biden &amp; Kamala Harris</td>\n",
              "      <td>United States</td>\n",
              "      <td>NaN</td>\n",
              "      <td>NaN</td>\n",
              "      <td>President and Vice President of the USA</td>\n",
              "      <td>Politics</td>\n",
              "      <td>Presidential Election</td>\n",
              "      <td>2</td>\n",
              "      <td>NaN</td>\n",
              "      <td>NaN</td>\n",
              "      <td>25</td>\n",
              "    </tr>\n",
              "    <tr>\n",
              "      <th>95</th>\n",
              "      <td>2021</td>\n",
              "      <td>Person of the Year</td>\n",
              "      <td>Elon Musk</td>\n",
              "      <td>South Africa</td>\n",
              "      <td>1971.0</td>\n",
              "      <td>NaN</td>\n",
              "      <td>CEO of Tesla</td>\n",
              "      <td>Technology</td>\n",
              "      <td>Richest Person in the World</td>\n",
              "      <td>1</td>\n",
              "      <td>NaN</td>\n",
              "      <td>1970.0</td>\n",
              "      <td>9</td>\n",
              "    </tr>\n",
              "    <tr>\n",
              "      <th>96</th>\n",
              "      <td>2022</td>\n",
              "      <td>Person of the Year</td>\n",
              "      <td>Volodymyr Zelensky</td>\n",
              "      <td>Ukraine</td>\n",
              "      <td>1978.0</td>\n",
              "      <td>NaN</td>\n",
              "      <td>President of Ukraine</td>\n",
              "      <td>Politics</td>\n",
              "      <td>War in Ukraine</td>\n",
              "      <td>2</td>\n",
              "      <td>NaN</td>\n",
              "      <td>1970.0</td>\n",
              "      <td>18</td>\n",
              "    </tr>\n",
              "    <tr>\n",
              "      <th>97</th>\n",
              "      <td>2023</td>\n",
              "      <td>Person of the Year</td>\n",
              "      <td>Taylor Swift</td>\n",
              "      <td>United States</td>\n",
              "      <td>1989.0</td>\n",
              "      <td>NaN</td>\n",
              "      <td>Singer-songwriter</td>\n",
              "      <td>Entertainment</td>\n",
              "      <td>Cultural and Economic Impact</td>\n",
              "      <td>12</td>\n",
              "      <td>NaN</td>\n",
              "      <td>1980.0</td>\n",
              "      <td>12</td>\n",
              "    </tr>\n",
              "    <tr>\n",
              "      <th>98</th>\n",
              "      <td>2024</td>\n",
              "      <td>Person of the Year</td>\n",
              "      <td>Donald Trump</td>\n",
              "      <td>United States</td>\n",
              "      <td>1946.0</td>\n",
              "      <td>NaN</td>\n",
              "      <td>President of the United States</td>\n",
              "      <td>Politics</td>\n",
              "      <td>Presidential Election</td>\n",
              "      <td>2</td>\n",
              "      <td>NaN</td>\n",
              "      <td>1940.0</td>\n",
              "      <td>12</td>\n",
              "    </tr>\n",
              "  </tbody>\n",
              "</table>\n",
              "<p>99 rows × 13 columns</p>\n",
              "</div>"
            ],
            "text/plain": [
              "    Year               Honor                       Name        Country  \\\n",
              "0   1927     Man of the Year          Charles Lindbergh  United States   \n",
              "1   1928     Man of the Year            Walter Chrysler  United States   \n",
              "2   1929     Man of the Year              Owen D. Young  United States   \n",
              "3   1930     Man of the Year             Mahatma Gandhi          India   \n",
              "4   1931     Man of the Year               Pierre Laval         France   \n",
              "..   ...                 ...                        ...            ...   \n",
              "94  2020  Person of the Year  Joe Biden & Kamala Harris  United States   \n",
              "95  2021  Person of the Year                  Elon Musk   South Africa   \n",
              "96  2022  Person of the Year         Volodymyr Zelensky        Ukraine   \n",
              "97  2023  Person of the Year               Taylor Swift  United States   \n",
              "98  2024  Person of the Year               Donald Trump  United States   \n",
              "\n",
              "    Birth Year  Death Year                                              Title  \\\n",
              "0       1902.0      1974.0                                  US Air Mail Pilot   \n",
              "1       1875.0      1940.0                                Founder of Chrysler   \n",
              "2       1874.0      1962.0  Member of the German Reparations International...   \n",
              "3       1869.0      1948.0                                                NaN   \n",
              "4       1883.0      1945.0                           Prime Minister of France   \n",
              "..         ...         ...                                                ...   \n",
              "94         NaN         NaN            President and Vice President of the USA   \n",
              "95      1971.0         NaN                                       CEO of Tesla   \n",
              "96      1978.0         NaN                               President of Ukraine   \n",
              "97      1989.0         NaN                                  Singer-songwriter   \n",
              "98      1946.0         NaN                     President of the United States   \n",
              "\n",
              "         Category                          Context  Category Ordinal  \\\n",
              "0             NaN  First Solo Transatlantic Flight                 8   \n",
              "1       Economics            Chrysler/Dodge Merger                 6   \n",
              "2       Diplomacy                       Young Plan                 7   \n",
              "3      Revolution                       Salt March                 0   \n",
              "4        Politics                              NaN                 2   \n",
              "..            ...                              ...               ...   \n",
              "94       Politics            Presidential Election                 2   \n",
              "95     Technology      Richest Person in the World                 1   \n",
              "96       Politics                   War in Ukraine                 2   \n",
              "97  Entertainment     Cultural and Economic Impact                12   \n",
              "98       Politics            Presidential Election                 2   \n",
              "\n",
              "    Lifespan  Birth Decade  Name Length  \n",
              "0       72.0        1900.0           17  \n",
              "1       65.0        1870.0           15  \n",
              "2       88.0        1870.0           13  \n",
              "3       79.0        1860.0           14  \n",
              "4       62.0        1880.0           12  \n",
              "..       ...           ...          ...  \n",
              "94       NaN           NaN           25  \n",
              "95       NaN        1970.0            9  \n",
              "96       NaN        1970.0           18  \n",
              "97       NaN        1980.0           12  \n",
              "98       NaN        1940.0           12  \n",
              "\n",
              "[99 rows x 13 columns]"
            ]
          },
          "execution_count": 12,
          "metadata": {},
          "output_type": "execute_result"
        }
      ],
      "source": [
        "time['Name Length'] = time['Name'].apply(len)\n",
        "time"
      ]
    },
    {
      "cell_type": "markdown",
      "metadata": {
        "id": "Bu7B2hrmIUnr"
      },
      "source": [
        "Another example, we can create a function to get the initials from a name."
      ]
    },
    {
      "cell_type": "code",
      "execution_count": null,
      "metadata": {
        "id": "n9sOuB7xIUnr",
        "outputId": "4b6e6354-71d4-4762-e450-45e72dfeb9d8"
      },
      "outputs": [
        {
          "data": {
            "text/plain": [
              "'BO'"
            ]
          },
          "execution_count": 13,
          "metadata": {},
          "output_type": "execute_result"
        }
      ],
      "source": [
        "# First we define the function\n",
        "def to_initials(name):\n",
        "    import numpy as np # we need this for Python to know what NaN is!\n",
        "    if name == np.nan:\n",
        "        return np.nan\n",
        "    else:\n",
        "        initials = \"\"\n",
        "        for word in name.split(' '):\n",
        "            first_letter = word[0]\n",
        "            initials += first_letter\n",
        "        return initials\n",
        "    # Then, we try it\n",
        "to_initials(\"Barack Obama\")"
      ]
    },
    {
      "cell_type": "markdown",
      "metadata": {
        "id": "nAhlcyKHIUnr"
      },
      "source": [
        "Applying this gives us a name column with the person's initials."
      ]
    },
    {
      "cell_type": "code",
      "execution_count": null,
      "metadata": {
        "id": "LjBjU0VvIUnr",
        "outputId": "a438db12-7a6b-41a7-e296-80800e670d8d"
      },
      "outputs": [
        {
          "data": {
            "text/html": [
              "<div>\n",
              "<style scoped>\n",
              "    .dataframe tbody tr th:only-of-type {\n",
              "        vertical-align: middle;\n",
              "    }\n",
              "\n",
              "    .dataframe tbody tr th {\n",
              "        vertical-align: top;\n",
              "    }\n",
              "\n",
              "    .dataframe thead th {\n",
              "        text-align: right;\n",
              "    }\n",
              "</style>\n",
              "<table border=\"1\" class=\"dataframe\">\n",
              "  <thead>\n",
              "    <tr style=\"text-align: right;\">\n",
              "      <th></th>\n",
              "      <th>Year</th>\n",
              "      <th>Honor</th>\n",
              "      <th>Name</th>\n",
              "      <th>Country</th>\n",
              "      <th>Birth Year</th>\n",
              "      <th>Death Year</th>\n",
              "      <th>Title</th>\n",
              "      <th>Category</th>\n",
              "      <th>Context</th>\n",
              "      <th>Category Ordinal</th>\n",
              "      <th>Lifespan</th>\n",
              "      <th>Birth Decade</th>\n",
              "      <th>Name Length</th>\n",
              "      <th>Initials</th>\n",
              "    </tr>\n",
              "  </thead>\n",
              "  <tbody>\n",
              "    <tr>\n",
              "      <th>0</th>\n",
              "      <td>1927</td>\n",
              "      <td>Man of the Year</td>\n",
              "      <td>Charles Lindbergh</td>\n",
              "      <td>United States</td>\n",
              "      <td>1902.0</td>\n",
              "      <td>1974.0</td>\n",
              "      <td>US Air Mail Pilot</td>\n",
              "      <td>NaN</td>\n",
              "      <td>First Solo Transatlantic Flight</td>\n",
              "      <td>8</td>\n",
              "      <td>72.0</td>\n",
              "      <td>1900.0</td>\n",
              "      <td>17</td>\n",
              "      <td>CL</td>\n",
              "    </tr>\n",
              "    <tr>\n",
              "      <th>1</th>\n",
              "      <td>1928</td>\n",
              "      <td>Man of the Year</td>\n",
              "      <td>Walter Chrysler</td>\n",
              "      <td>United States</td>\n",
              "      <td>1875.0</td>\n",
              "      <td>1940.0</td>\n",
              "      <td>Founder of Chrysler</td>\n",
              "      <td>Economics</td>\n",
              "      <td>Chrysler/Dodge Merger</td>\n",
              "      <td>6</td>\n",
              "      <td>65.0</td>\n",
              "      <td>1870.0</td>\n",
              "      <td>15</td>\n",
              "      <td>WC</td>\n",
              "    </tr>\n",
              "    <tr>\n",
              "      <th>2</th>\n",
              "      <td>1929</td>\n",
              "      <td>Man of the Year</td>\n",
              "      <td>Owen D. Young</td>\n",
              "      <td>United States</td>\n",
              "      <td>1874.0</td>\n",
              "      <td>1962.0</td>\n",
              "      <td>Member of the German Reparations International...</td>\n",
              "      <td>Diplomacy</td>\n",
              "      <td>Young Plan</td>\n",
              "      <td>7</td>\n",
              "      <td>88.0</td>\n",
              "      <td>1870.0</td>\n",
              "      <td>13</td>\n",
              "      <td>ODY</td>\n",
              "    </tr>\n",
              "    <tr>\n",
              "      <th>3</th>\n",
              "      <td>1930</td>\n",
              "      <td>Man of the Year</td>\n",
              "      <td>Mahatma Gandhi</td>\n",
              "      <td>India</td>\n",
              "      <td>1869.0</td>\n",
              "      <td>1948.0</td>\n",
              "      <td>NaN</td>\n",
              "      <td>Revolution</td>\n",
              "      <td>Salt March</td>\n",
              "      <td>0</td>\n",
              "      <td>79.0</td>\n",
              "      <td>1860.0</td>\n",
              "      <td>14</td>\n",
              "      <td>MG</td>\n",
              "    </tr>\n",
              "    <tr>\n",
              "      <th>4</th>\n",
              "      <td>1931</td>\n",
              "      <td>Man of the Year</td>\n",
              "      <td>Pierre Laval</td>\n",
              "      <td>France</td>\n",
              "      <td>1883.0</td>\n",
              "      <td>1945.0</td>\n",
              "      <td>Prime Minister of France</td>\n",
              "      <td>Politics</td>\n",
              "      <td>NaN</td>\n",
              "      <td>2</td>\n",
              "      <td>62.0</td>\n",
              "      <td>1880.0</td>\n",
              "      <td>12</td>\n",
              "      <td>PL</td>\n",
              "    </tr>\n",
              "    <tr>\n",
              "      <th>...</th>\n",
              "      <td>...</td>\n",
              "      <td>...</td>\n",
              "      <td>...</td>\n",
              "      <td>...</td>\n",
              "      <td>...</td>\n",
              "      <td>...</td>\n",
              "      <td>...</td>\n",
              "      <td>...</td>\n",
              "      <td>...</td>\n",
              "      <td>...</td>\n",
              "      <td>...</td>\n",
              "      <td>...</td>\n",
              "      <td>...</td>\n",
              "      <td>...</td>\n",
              "    </tr>\n",
              "    <tr>\n",
              "      <th>94</th>\n",
              "      <td>2020</td>\n",
              "      <td>Person of the Year</td>\n",
              "      <td>Joe Biden &amp; Kamala Harris</td>\n",
              "      <td>United States</td>\n",
              "      <td>NaN</td>\n",
              "      <td>NaN</td>\n",
              "      <td>President and Vice President of the USA</td>\n",
              "      <td>Politics</td>\n",
              "      <td>Presidential Election</td>\n",
              "      <td>2</td>\n",
              "      <td>NaN</td>\n",
              "      <td>NaN</td>\n",
              "      <td>25</td>\n",
              "      <td>JB&amp;KH</td>\n",
              "    </tr>\n",
              "    <tr>\n",
              "      <th>95</th>\n",
              "      <td>2021</td>\n",
              "      <td>Person of the Year</td>\n",
              "      <td>Elon Musk</td>\n",
              "      <td>South Africa</td>\n",
              "      <td>1971.0</td>\n",
              "      <td>NaN</td>\n",
              "      <td>CEO of Tesla</td>\n",
              "      <td>Technology</td>\n",
              "      <td>Richest Person in the World</td>\n",
              "      <td>1</td>\n",
              "      <td>NaN</td>\n",
              "      <td>1970.0</td>\n",
              "      <td>9</td>\n",
              "      <td>EM</td>\n",
              "    </tr>\n",
              "    <tr>\n",
              "      <th>96</th>\n",
              "      <td>2022</td>\n",
              "      <td>Person of the Year</td>\n",
              "      <td>Volodymyr Zelensky</td>\n",
              "      <td>Ukraine</td>\n",
              "      <td>1978.0</td>\n",
              "      <td>NaN</td>\n",
              "      <td>President of Ukraine</td>\n",
              "      <td>Politics</td>\n",
              "      <td>War in Ukraine</td>\n",
              "      <td>2</td>\n",
              "      <td>NaN</td>\n",
              "      <td>1970.0</td>\n",
              "      <td>18</td>\n",
              "      <td>VZ</td>\n",
              "    </tr>\n",
              "    <tr>\n",
              "      <th>97</th>\n",
              "      <td>2023</td>\n",
              "      <td>Person of the Year</td>\n",
              "      <td>Taylor Swift</td>\n",
              "      <td>United States</td>\n",
              "      <td>1989.0</td>\n",
              "      <td>NaN</td>\n",
              "      <td>Singer-songwriter</td>\n",
              "      <td>Entertainment</td>\n",
              "      <td>Cultural and Economic Impact</td>\n",
              "      <td>12</td>\n",
              "      <td>NaN</td>\n",
              "      <td>1980.0</td>\n",
              "      <td>12</td>\n",
              "      <td>TS</td>\n",
              "    </tr>\n",
              "    <tr>\n",
              "      <th>98</th>\n",
              "      <td>2024</td>\n",
              "      <td>Person of the Year</td>\n",
              "      <td>Donald Trump</td>\n",
              "      <td>United States</td>\n",
              "      <td>1946.0</td>\n",
              "      <td>NaN</td>\n",
              "      <td>President of the United States</td>\n",
              "      <td>Politics</td>\n",
              "      <td>Presidential Election</td>\n",
              "      <td>2</td>\n",
              "      <td>NaN</td>\n",
              "      <td>1940.0</td>\n",
              "      <td>12</td>\n",
              "      <td>DT</td>\n",
              "    </tr>\n",
              "  </tbody>\n",
              "</table>\n",
              "<p>99 rows × 14 columns</p>\n",
              "</div>"
            ],
            "text/plain": [
              "    Year               Honor                       Name        Country  \\\n",
              "0   1927     Man of the Year          Charles Lindbergh  United States   \n",
              "1   1928     Man of the Year            Walter Chrysler  United States   \n",
              "2   1929     Man of the Year              Owen D. Young  United States   \n",
              "3   1930     Man of the Year             Mahatma Gandhi          India   \n",
              "4   1931     Man of the Year               Pierre Laval         France   \n",
              "..   ...                 ...                        ...            ...   \n",
              "94  2020  Person of the Year  Joe Biden & Kamala Harris  United States   \n",
              "95  2021  Person of the Year                  Elon Musk   South Africa   \n",
              "96  2022  Person of the Year         Volodymyr Zelensky        Ukraine   \n",
              "97  2023  Person of the Year               Taylor Swift  United States   \n",
              "98  2024  Person of the Year               Donald Trump  United States   \n",
              "\n",
              "    Birth Year  Death Year                                              Title  \\\n",
              "0       1902.0      1974.0                                  US Air Mail Pilot   \n",
              "1       1875.0      1940.0                                Founder of Chrysler   \n",
              "2       1874.0      1962.0  Member of the German Reparations International...   \n",
              "3       1869.0      1948.0                                                NaN   \n",
              "4       1883.0      1945.0                           Prime Minister of France   \n",
              "..         ...         ...                                                ...   \n",
              "94         NaN         NaN            President and Vice President of the USA   \n",
              "95      1971.0         NaN                                       CEO of Tesla   \n",
              "96      1978.0         NaN                               President of Ukraine   \n",
              "97      1989.0         NaN                                  Singer-songwriter   \n",
              "98      1946.0         NaN                     President of the United States   \n",
              "\n",
              "         Category                          Context  Category Ordinal  \\\n",
              "0             NaN  First Solo Transatlantic Flight                 8   \n",
              "1       Economics            Chrysler/Dodge Merger                 6   \n",
              "2       Diplomacy                       Young Plan                 7   \n",
              "3      Revolution                       Salt March                 0   \n",
              "4        Politics                              NaN                 2   \n",
              "..            ...                              ...               ...   \n",
              "94       Politics            Presidential Election                 2   \n",
              "95     Technology      Richest Person in the World                 1   \n",
              "96       Politics                   War in Ukraine                 2   \n",
              "97  Entertainment     Cultural and Economic Impact                12   \n",
              "98       Politics            Presidential Election                 2   \n",
              "\n",
              "    Lifespan  Birth Decade  Name Length Initials  \n",
              "0       72.0        1900.0           17       CL  \n",
              "1       65.0        1870.0           15       WC  \n",
              "2       88.0        1870.0           13      ODY  \n",
              "3       79.0        1860.0           14       MG  \n",
              "4       62.0        1880.0           12       PL  \n",
              "..       ...           ...          ...      ...  \n",
              "94       NaN           NaN           25    JB&KH  \n",
              "95       NaN        1970.0            9       EM  \n",
              "96       NaN        1970.0           18       VZ  \n",
              "97       NaN        1980.0           12       TS  \n",
              "98       NaN        1940.0           12       DT  \n",
              "\n",
              "[99 rows x 14 columns]"
            ]
          },
          "execution_count": 14,
          "metadata": {},
          "output_type": "execute_result"
        }
      ],
      "source": [
        "time['Initials'] = time['Name'].apply(to_initials)\n",
        "time"
      ]
    },
    {
      "cell_type": "markdown",
      "metadata": {
        "id": "_nI9fbujIUnr"
      },
      "source": [
        "### Removing Columns (Unwanted Variables)"
      ]
    },
    {
      "cell_type": "markdown",
      "metadata": {
        "id": "AQwFkMcuIUnr"
      },
      "source": [
        "There are two main ways to remove them, either we specify which columns we want to **keep** or we specify which we want to **remove**"
      ]
    },
    {
      "cell_type": "markdown",
      "metadata": {
        "id": "kzx3W3wOIUns"
      },
      "source": [
        "Here is the version where we specify, by name, which columns to **keep**."
      ]
    },
    {
      "cell_type": "code",
      "execution_count": null,
      "metadata": {
        "id": "J4T94V6hIUns",
        "outputId": "b4b21a5c-8123-4475-ba32-affa2cfa12c0"
      },
      "outputs": [
        {
          "data": {
            "text/html": [
              "<div>\n",
              "<style scoped>\n",
              "    .dataframe tbody tr th:only-of-type {\n",
              "        vertical-align: middle;\n",
              "    }\n",
              "\n",
              "    .dataframe tbody tr th {\n",
              "        vertical-align: top;\n",
              "    }\n",
              "\n",
              "    .dataframe thead th {\n",
              "        text-align: right;\n",
              "    }\n",
              "</style>\n",
              "<table border=\"1\" class=\"dataframe\">\n",
              "  <thead>\n",
              "    <tr style=\"text-align: right;\">\n",
              "      <th></th>\n",
              "      <th>Year</th>\n",
              "      <th>Honor</th>\n",
              "      <th>Name</th>\n",
              "    </tr>\n",
              "  </thead>\n",
              "  <tbody>\n",
              "    <tr>\n",
              "      <th>0</th>\n",
              "      <td>1927</td>\n",
              "      <td>Man of the Year</td>\n",
              "      <td>Charles Lindbergh</td>\n",
              "    </tr>\n",
              "    <tr>\n",
              "      <th>1</th>\n",
              "      <td>1928</td>\n",
              "      <td>Man of the Year</td>\n",
              "      <td>Walter Chrysler</td>\n",
              "    </tr>\n",
              "    <tr>\n",
              "      <th>2</th>\n",
              "      <td>1929</td>\n",
              "      <td>Man of the Year</td>\n",
              "      <td>Owen D. Young</td>\n",
              "    </tr>\n",
              "    <tr>\n",
              "      <th>3</th>\n",
              "      <td>1930</td>\n",
              "      <td>Man of the Year</td>\n",
              "      <td>Mahatma Gandhi</td>\n",
              "    </tr>\n",
              "    <tr>\n",
              "      <th>4</th>\n",
              "      <td>1931</td>\n",
              "      <td>Man of the Year</td>\n",
              "      <td>Pierre Laval</td>\n",
              "    </tr>\n",
              "    <tr>\n",
              "      <th>...</th>\n",
              "      <td>...</td>\n",
              "      <td>...</td>\n",
              "      <td>...</td>\n",
              "    </tr>\n",
              "    <tr>\n",
              "      <th>94</th>\n",
              "      <td>2020</td>\n",
              "      <td>Person of the Year</td>\n",
              "      <td>Joe Biden &amp; Kamala Harris</td>\n",
              "    </tr>\n",
              "    <tr>\n",
              "      <th>95</th>\n",
              "      <td>2021</td>\n",
              "      <td>Person of the Year</td>\n",
              "      <td>Elon Musk</td>\n",
              "    </tr>\n",
              "    <tr>\n",
              "      <th>96</th>\n",
              "      <td>2022</td>\n",
              "      <td>Person of the Year</td>\n",
              "      <td>Volodymyr Zelensky</td>\n",
              "    </tr>\n",
              "    <tr>\n",
              "      <th>97</th>\n",
              "      <td>2023</td>\n",
              "      <td>Person of the Year</td>\n",
              "      <td>Taylor Swift</td>\n",
              "    </tr>\n",
              "    <tr>\n",
              "      <th>98</th>\n",
              "      <td>2024</td>\n",
              "      <td>Person of the Year</td>\n",
              "      <td>Donald Trump</td>\n",
              "    </tr>\n",
              "  </tbody>\n",
              "</table>\n",
              "<p>99 rows × 3 columns</p>\n",
              "</div>"
            ],
            "text/plain": [
              "    Year               Honor                       Name\n",
              "0   1927     Man of the Year          Charles Lindbergh\n",
              "1   1928     Man of the Year            Walter Chrysler\n",
              "2   1929     Man of the Year              Owen D. Young\n",
              "3   1930     Man of the Year             Mahatma Gandhi\n",
              "4   1931     Man of the Year               Pierre Laval\n",
              "..   ...                 ...                        ...\n",
              "94  2020  Person of the Year  Joe Biden & Kamala Harris\n",
              "95  2021  Person of the Year                  Elon Musk\n",
              "96  2022  Person of the Year         Volodymyr Zelensky\n",
              "97  2023  Person of the Year               Taylor Swift\n",
              "98  2024  Person of the Year               Donald Trump\n",
              "\n",
              "[99 rows x 3 columns]"
            ]
          },
          "execution_count": 15,
          "metadata": {},
          "output_type": "execute_result"
        }
      ],
      "source": [
        "time[['Year', 'Honor', 'Name']]"
      ]
    },
    {
      "cell_type": "markdown",
      "metadata": {
        "id": "5OROj1e9IUns"
      },
      "source": [
        "Here is the version where we specify, by name, which columns to **remove**"
      ]
    },
    {
      "cell_type": "code",
      "execution_count": null,
      "metadata": {
        "id": "tLr2qfDEIUns",
        "outputId": "3d1150cb-f840-4634-ace3-514fd8be72c3"
      },
      "outputs": [
        {
          "data": {
            "text/html": [
              "<div>\n",
              "<style scoped>\n",
              "    .dataframe tbody tr th:only-of-type {\n",
              "        vertical-align: middle;\n",
              "    }\n",
              "\n",
              "    .dataframe tbody tr th {\n",
              "        vertical-align: top;\n",
              "    }\n",
              "\n",
              "    .dataframe thead th {\n",
              "        text-align: right;\n",
              "    }\n",
              "</style>\n",
              "<table border=\"1\" class=\"dataframe\">\n",
              "  <thead>\n",
              "    <tr style=\"text-align: right;\">\n",
              "      <th></th>\n",
              "      <th>Country</th>\n",
              "      <th>Birth Year</th>\n",
              "      <th>Death Year</th>\n",
              "      <th>Title</th>\n",
              "      <th>Category</th>\n",
              "      <th>Context</th>\n",
              "      <th>Category Ordinal</th>\n",
              "      <th>Lifespan</th>\n",
              "      <th>Birth Decade</th>\n",
              "      <th>Name Length</th>\n",
              "      <th>Initials</th>\n",
              "    </tr>\n",
              "  </thead>\n",
              "  <tbody>\n",
              "    <tr>\n",
              "      <th>0</th>\n",
              "      <td>United States</td>\n",
              "      <td>1902.0</td>\n",
              "      <td>1974.0</td>\n",
              "      <td>US Air Mail Pilot</td>\n",
              "      <td>NaN</td>\n",
              "      <td>First Solo Transatlantic Flight</td>\n",
              "      <td>8</td>\n",
              "      <td>72.0</td>\n",
              "      <td>1900.0</td>\n",
              "      <td>17</td>\n",
              "      <td>CL</td>\n",
              "    </tr>\n",
              "    <tr>\n",
              "      <th>1</th>\n",
              "      <td>United States</td>\n",
              "      <td>1875.0</td>\n",
              "      <td>1940.0</td>\n",
              "      <td>Founder of Chrysler</td>\n",
              "      <td>Economics</td>\n",
              "      <td>Chrysler/Dodge Merger</td>\n",
              "      <td>6</td>\n",
              "      <td>65.0</td>\n",
              "      <td>1870.0</td>\n",
              "      <td>15</td>\n",
              "      <td>WC</td>\n",
              "    </tr>\n",
              "    <tr>\n",
              "      <th>2</th>\n",
              "      <td>United States</td>\n",
              "      <td>1874.0</td>\n",
              "      <td>1962.0</td>\n",
              "      <td>Member of the German Reparations International...</td>\n",
              "      <td>Diplomacy</td>\n",
              "      <td>Young Plan</td>\n",
              "      <td>7</td>\n",
              "      <td>88.0</td>\n",
              "      <td>1870.0</td>\n",
              "      <td>13</td>\n",
              "      <td>ODY</td>\n",
              "    </tr>\n",
              "    <tr>\n",
              "      <th>3</th>\n",
              "      <td>India</td>\n",
              "      <td>1869.0</td>\n",
              "      <td>1948.0</td>\n",
              "      <td>NaN</td>\n",
              "      <td>Revolution</td>\n",
              "      <td>Salt March</td>\n",
              "      <td>0</td>\n",
              "      <td>79.0</td>\n",
              "      <td>1860.0</td>\n",
              "      <td>14</td>\n",
              "      <td>MG</td>\n",
              "    </tr>\n",
              "    <tr>\n",
              "      <th>4</th>\n",
              "      <td>France</td>\n",
              "      <td>1883.0</td>\n",
              "      <td>1945.0</td>\n",
              "      <td>Prime Minister of France</td>\n",
              "      <td>Politics</td>\n",
              "      <td>NaN</td>\n",
              "      <td>2</td>\n",
              "      <td>62.0</td>\n",
              "      <td>1880.0</td>\n",
              "      <td>12</td>\n",
              "      <td>PL</td>\n",
              "    </tr>\n",
              "    <tr>\n",
              "      <th>...</th>\n",
              "      <td>...</td>\n",
              "      <td>...</td>\n",
              "      <td>...</td>\n",
              "      <td>...</td>\n",
              "      <td>...</td>\n",
              "      <td>...</td>\n",
              "      <td>...</td>\n",
              "      <td>...</td>\n",
              "      <td>...</td>\n",
              "      <td>...</td>\n",
              "      <td>...</td>\n",
              "    </tr>\n",
              "    <tr>\n",
              "      <th>94</th>\n",
              "      <td>United States</td>\n",
              "      <td>NaN</td>\n",
              "      <td>NaN</td>\n",
              "      <td>President and Vice President of the USA</td>\n",
              "      <td>Politics</td>\n",
              "      <td>Presidential Election</td>\n",
              "      <td>2</td>\n",
              "      <td>NaN</td>\n",
              "      <td>NaN</td>\n",
              "      <td>25</td>\n",
              "      <td>JB&amp;KH</td>\n",
              "    </tr>\n",
              "    <tr>\n",
              "      <th>95</th>\n",
              "      <td>South Africa</td>\n",
              "      <td>1971.0</td>\n",
              "      <td>NaN</td>\n",
              "      <td>CEO of Tesla</td>\n",
              "      <td>Technology</td>\n",
              "      <td>Richest Person in the World</td>\n",
              "      <td>1</td>\n",
              "      <td>NaN</td>\n",
              "      <td>1970.0</td>\n",
              "      <td>9</td>\n",
              "      <td>EM</td>\n",
              "    </tr>\n",
              "    <tr>\n",
              "      <th>96</th>\n",
              "      <td>Ukraine</td>\n",
              "      <td>1978.0</td>\n",
              "      <td>NaN</td>\n",
              "      <td>President of Ukraine</td>\n",
              "      <td>Politics</td>\n",
              "      <td>War in Ukraine</td>\n",
              "      <td>2</td>\n",
              "      <td>NaN</td>\n",
              "      <td>1970.0</td>\n",
              "      <td>18</td>\n",
              "      <td>VZ</td>\n",
              "    </tr>\n",
              "    <tr>\n",
              "      <th>97</th>\n",
              "      <td>United States</td>\n",
              "      <td>1989.0</td>\n",
              "      <td>NaN</td>\n",
              "      <td>Singer-songwriter</td>\n",
              "      <td>Entertainment</td>\n",
              "      <td>Cultural and Economic Impact</td>\n",
              "      <td>12</td>\n",
              "      <td>NaN</td>\n",
              "      <td>1980.0</td>\n",
              "      <td>12</td>\n",
              "      <td>TS</td>\n",
              "    </tr>\n",
              "    <tr>\n",
              "      <th>98</th>\n",
              "      <td>United States</td>\n",
              "      <td>1946.0</td>\n",
              "      <td>NaN</td>\n",
              "      <td>President of the United States</td>\n",
              "      <td>Politics</td>\n",
              "      <td>Presidential Election</td>\n",
              "      <td>2</td>\n",
              "      <td>NaN</td>\n",
              "      <td>1940.0</td>\n",
              "      <td>12</td>\n",
              "      <td>DT</td>\n",
              "    </tr>\n",
              "  </tbody>\n",
              "</table>\n",
              "<p>99 rows × 11 columns</p>\n",
              "</div>"
            ],
            "text/plain": [
              "          Country  Birth Year  Death Year  \\\n",
              "0   United States      1902.0      1974.0   \n",
              "1   United States      1875.0      1940.0   \n",
              "2   United States      1874.0      1962.0   \n",
              "3           India      1869.0      1948.0   \n",
              "4          France      1883.0      1945.0   \n",
              "..            ...         ...         ...   \n",
              "94  United States         NaN         NaN   \n",
              "95   South Africa      1971.0         NaN   \n",
              "96        Ukraine      1978.0         NaN   \n",
              "97  United States      1989.0         NaN   \n",
              "98  United States      1946.0         NaN   \n",
              "\n",
              "                                                Title       Category  \\\n",
              "0                                   US Air Mail Pilot            NaN   \n",
              "1                                 Founder of Chrysler      Economics   \n",
              "2   Member of the German Reparations International...      Diplomacy   \n",
              "3                                                 NaN     Revolution   \n",
              "4                            Prime Minister of France       Politics   \n",
              "..                                                ...            ...   \n",
              "94            President and Vice President of the USA       Politics   \n",
              "95                                       CEO of Tesla     Technology   \n",
              "96                               President of Ukraine       Politics   \n",
              "97                                  Singer-songwriter  Entertainment   \n",
              "98                     President of the United States       Politics   \n",
              "\n",
              "                            Context  Category Ordinal  Lifespan  Birth Decade  \\\n",
              "0   First Solo Transatlantic Flight                 8      72.0        1900.0   \n",
              "1             Chrysler/Dodge Merger                 6      65.0        1870.0   \n",
              "2                        Young Plan                 7      88.0        1870.0   \n",
              "3                        Salt March                 0      79.0        1860.0   \n",
              "4                               NaN                 2      62.0        1880.0   \n",
              "..                              ...               ...       ...           ...   \n",
              "94            Presidential Election                 2       NaN           NaN   \n",
              "95      Richest Person in the World                 1       NaN        1970.0   \n",
              "96                   War in Ukraine                 2       NaN        1970.0   \n",
              "97     Cultural and Economic Impact                12       NaN        1980.0   \n",
              "98            Presidential Election                 2       NaN        1940.0   \n",
              "\n",
              "    Name Length Initials  \n",
              "0            17       CL  \n",
              "1            15       WC  \n",
              "2            13      ODY  \n",
              "3            14       MG  \n",
              "4            12       PL  \n",
              "..          ...      ...  \n",
              "94           25    JB&KH  \n",
              "95            9       EM  \n",
              "96           18       VZ  \n",
              "97           12       TS  \n",
              "98           12       DT  \n",
              "\n",
              "[99 rows x 11 columns]"
            ]
          },
          "execution_count": 16,
          "metadata": {},
          "output_type": "execute_result"
        }
      ],
      "source": [
        "time.drop(columns=['Year', 'Honor', 'Name'])"
      ]
    },
    {
      "cell_type": "markdown",
      "metadata": {
        "id": "_XQEn0c6IUns"
      },
      "source": [
        "To apply the changes, assign the result back to the same `time` variable"
      ]
    },
    {
      "cell_type": "code",
      "execution_count": null,
      "metadata": {
        "id": "Vjpt8_zQIUns",
        "outputId": "ae9422a9-0c9f-4b66-cf7e-084fe3fe9133"
      },
      "outputs": [
        {
          "data": {
            "text/html": [
              "<div>\n",
              "<style scoped>\n",
              "    .dataframe tbody tr th:only-of-type {\n",
              "        vertical-align: middle;\n",
              "    }\n",
              "\n",
              "    .dataframe tbody tr th {\n",
              "        vertical-align: top;\n",
              "    }\n",
              "\n",
              "    .dataframe thead th {\n",
              "        text-align: right;\n",
              "    }\n",
              "</style>\n",
              "<table border=\"1\" class=\"dataframe\">\n",
              "  <thead>\n",
              "    <tr style=\"text-align: right;\">\n",
              "      <th></th>\n",
              "      <th>Country</th>\n",
              "      <th>Birth Year</th>\n",
              "      <th>Death Year</th>\n",
              "      <th>Title</th>\n",
              "      <th>Category</th>\n",
              "      <th>Context</th>\n",
              "      <th>Category Ordinal</th>\n",
              "      <th>Lifespan</th>\n",
              "      <th>Birth Decade</th>\n",
              "      <th>Name Length</th>\n",
              "      <th>Initials</th>\n",
              "    </tr>\n",
              "  </thead>\n",
              "  <tbody>\n",
              "    <tr>\n",
              "      <th>0</th>\n",
              "      <td>United States</td>\n",
              "      <td>1902.0</td>\n",
              "      <td>1974.0</td>\n",
              "      <td>US Air Mail Pilot</td>\n",
              "      <td>NaN</td>\n",
              "      <td>First Solo Transatlantic Flight</td>\n",
              "      <td>8</td>\n",
              "      <td>72.0</td>\n",
              "      <td>1900.0</td>\n",
              "      <td>17</td>\n",
              "      <td>CL</td>\n",
              "    </tr>\n",
              "    <tr>\n",
              "      <th>1</th>\n",
              "      <td>United States</td>\n",
              "      <td>1875.0</td>\n",
              "      <td>1940.0</td>\n",
              "      <td>Founder of Chrysler</td>\n",
              "      <td>Economics</td>\n",
              "      <td>Chrysler/Dodge Merger</td>\n",
              "      <td>6</td>\n",
              "      <td>65.0</td>\n",
              "      <td>1870.0</td>\n",
              "      <td>15</td>\n",
              "      <td>WC</td>\n",
              "    </tr>\n",
              "    <tr>\n",
              "      <th>2</th>\n",
              "      <td>United States</td>\n",
              "      <td>1874.0</td>\n",
              "      <td>1962.0</td>\n",
              "      <td>Member of the German Reparations International...</td>\n",
              "      <td>Diplomacy</td>\n",
              "      <td>Young Plan</td>\n",
              "      <td>7</td>\n",
              "      <td>88.0</td>\n",
              "      <td>1870.0</td>\n",
              "      <td>13</td>\n",
              "      <td>ODY</td>\n",
              "    </tr>\n",
              "    <tr>\n",
              "      <th>3</th>\n",
              "      <td>India</td>\n",
              "      <td>1869.0</td>\n",
              "      <td>1948.0</td>\n",
              "      <td>NaN</td>\n",
              "      <td>Revolution</td>\n",
              "      <td>Salt March</td>\n",
              "      <td>0</td>\n",
              "      <td>79.0</td>\n",
              "      <td>1860.0</td>\n",
              "      <td>14</td>\n",
              "      <td>MG</td>\n",
              "    </tr>\n",
              "    <tr>\n",
              "      <th>4</th>\n",
              "      <td>France</td>\n",
              "      <td>1883.0</td>\n",
              "      <td>1945.0</td>\n",
              "      <td>Prime Minister of France</td>\n",
              "      <td>Politics</td>\n",
              "      <td>NaN</td>\n",
              "      <td>2</td>\n",
              "      <td>62.0</td>\n",
              "      <td>1880.0</td>\n",
              "      <td>12</td>\n",
              "      <td>PL</td>\n",
              "    </tr>\n",
              "    <tr>\n",
              "      <th>...</th>\n",
              "      <td>...</td>\n",
              "      <td>...</td>\n",
              "      <td>...</td>\n",
              "      <td>...</td>\n",
              "      <td>...</td>\n",
              "      <td>...</td>\n",
              "      <td>...</td>\n",
              "      <td>...</td>\n",
              "      <td>...</td>\n",
              "      <td>...</td>\n",
              "      <td>...</td>\n",
              "    </tr>\n",
              "    <tr>\n",
              "      <th>94</th>\n",
              "      <td>United States</td>\n",
              "      <td>NaN</td>\n",
              "      <td>NaN</td>\n",
              "      <td>President and Vice President of the USA</td>\n",
              "      <td>Politics</td>\n",
              "      <td>Presidential Election</td>\n",
              "      <td>2</td>\n",
              "      <td>NaN</td>\n",
              "      <td>NaN</td>\n",
              "      <td>25</td>\n",
              "      <td>JB&amp;KH</td>\n",
              "    </tr>\n",
              "    <tr>\n",
              "      <th>95</th>\n",
              "      <td>South Africa</td>\n",
              "      <td>1971.0</td>\n",
              "      <td>NaN</td>\n",
              "      <td>CEO of Tesla</td>\n",
              "      <td>Technology</td>\n",
              "      <td>Richest Person in the World</td>\n",
              "      <td>1</td>\n",
              "      <td>NaN</td>\n",
              "      <td>1970.0</td>\n",
              "      <td>9</td>\n",
              "      <td>EM</td>\n",
              "    </tr>\n",
              "    <tr>\n",
              "      <th>96</th>\n",
              "      <td>Ukraine</td>\n",
              "      <td>1978.0</td>\n",
              "      <td>NaN</td>\n",
              "      <td>President of Ukraine</td>\n",
              "      <td>Politics</td>\n",
              "      <td>War in Ukraine</td>\n",
              "      <td>2</td>\n",
              "      <td>NaN</td>\n",
              "      <td>1970.0</td>\n",
              "      <td>18</td>\n",
              "      <td>VZ</td>\n",
              "    </tr>\n",
              "    <tr>\n",
              "      <th>97</th>\n",
              "      <td>United States</td>\n",
              "      <td>1989.0</td>\n",
              "      <td>NaN</td>\n",
              "      <td>Singer-songwriter</td>\n",
              "      <td>Entertainment</td>\n",
              "      <td>Cultural and Economic Impact</td>\n",
              "      <td>12</td>\n",
              "      <td>NaN</td>\n",
              "      <td>1980.0</td>\n",
              "      <td>12</td>\n",
              "      <td>TS</td>\n",
              "    </tr>\n",
              "    <tr>\n",
              "      <th>98</th>\n",
              "      <td>United States</td>\n",
              "      <td>1946.0</td>\n",
              "      <td>NaN</td>\n",
              "      <td>President of the United States</td>\n",
              "      <td>Politics</td>\n",
              "      <td>Presidential Election</td>\n",
              "      <td>2</td>\n",
              "      <td>NaN</td>\n",
              "      <td>1940.0</td>\n",
              "      <td>12</td>\n",
              "      <td>DT</td>\n",
              "    </tr>\n",
              "  </tbody>\n",
              "</table>\n",
              "<p>99 rows × 11 columns</p>\n",
              "</div>"
            ],
            "text/plain": [
              "          Country  Birth Year  Death Year  \\\n",
              "0   United States      1902.0      1974.0   \n",
              "1   United States      1875.0      1940.0   \n",
              "2   United States      1874.0      1962.0   \n",
              "3           India      1869.0      1948.0   \n",
              "4          France      1883.0      1945.0   \n",
              "..            ...         ...         ...   \n",
              "94  United States         NaN         NaN   \n",
              "95   South Africa      1971.0         NaN   \n",
              "96        Ukraine      1978.0         NaN   \n",
              "97  United States      1989.0         NaN   \n",
              "98  United States      1946.0         NaN   \n",
              "\n",
              "                                                Title       Category  \\\n",
              "0                                   US Air Mail Pilot            NaN   \n",
              "1                                 Founder of Chrysler      Economics   \n",
              "2   Member of the German Reparations International...      Diplomacy   \n",
              "3                                                 NaN     Revolution   \n",
              "4                            Prime Minister of France       Politics   \n",
              "..                                                ...            ...   \n",
              "94            President and Vice President of the USA       Politics   \n",
              "95                                       CEO of Tesla     Technology   \n",
              "96                               President of Ukraine       Politics   \n",
              "97                                  Singer-songwriter  Entertainment   \n",
              "98                     President of the United States       Politics   \n",
              "\n",
              "                            Context  Category Ordinal  Lifespan  Birth Decade  \\\n",
              "0   First Solo Transatlantic Flight                 8      72.0        1900.0   \n",
              "1             Chrysler/Dodge Merger                 6      65.0        1870.0   \n",
              "2                        Young Plan                 7      88.0        1870.0   \n",
              "3                        Salt March                 0      79.0        1860.0   \n",
              "4                               NaN                 2      62.0        1880.0   \n",
              "..                              ...               ...       ...           ...   \n",
              "94            Presidential Election                 2       NaN           NaN   \n",
              "95      Richest Person in the World                 1       NaN        1970.0   \n",
              "96                   War in Ukraine                 2       NaN        1970.0   \n",
              "97     Cultural and Economic Impact                12       NaN        1980.0   \n",
              "98            Presidential Election                 2       NaN        1940.0   \n",
              "\n",
              "    Name Length Initials  \n",
              "0            17       CL  \n",
              "1            15       WC  \n",
              "2            13      ODY  \n",
              "3            14       MG  \n",
              "4            12       PL  \n",
              "..          ...      ...  \n",
              "94           25    JB&KH  \n",
              "95            9       EM  \n",
              "96           18       VZ  \n",
              "97           12       TS  \n",
              "98           12       DT  \n",
              "\n",
              "[99 rows x 11 columns]"
            ]
          },
          "execution_count": 17,
          "metadata": {},
          "output_type": "execute_result"
        }
      ],
      "source": [
        "time = time.drop(columns=['Year', 'Honor', 'Name'])\n",
        "time"
      ]
    },
    {
      "cell_type": "markdown",
      "metadata": {
        "id": "qz9BVtV6IUns"
      },
      "source": [
        "Some functions/methods also have a parameter called `inplace` which, if set = True, apply the change to the original variable"
      ]
    },
    {
      "cell_type": "code",
      "execution_count": null,
      "metadata": {
        "id": "iG_ENUe_IUns",
        "outputId": "28c6fd10-266b-42db-995c-997bebc04a1d"
      },
      "outputs": [
        {
          "data": {
            "text/html": [
              "<div>\n",
              "<style scoped>\n",
              "    .dataframe tbody tr th:only-of-type {\n",
              "        vertical-align: middle;\n",
              "    }\n",
              "\n",
              "    .dataframe tbody tr th {\n",
              "        vertical-align: top;\n",
              "    }\n",
              "\n",
              "    .dataframe thead th {\n",
              "        text-align: right;\n",
              "    }\n",
              "</style>\n",
              "<table border=\"1\" class=\"dataframe\">\n",
              "  <thead>\n",
              "    <tr style=\"text-align: right;\">\n",
              "      <th></th>\n",
              "      <th>Country</th>\n",
              "      <th>Birth Year</th>\n",
              "      <th>Death Year</th>\n",
              "      <th>Title</th>\n",
              "      <th>Category</th>\n",
              "      <th>Context</th>\n",
              "      <th>Category Ordinal</th>\n",
              "      <th>Birth Decade</th>\n",
              "      <th>Name Length</th>\n",
              "      <th>Initials</th>\n",
              "    </tr>\n",
              "  </thead>\n",
              "  <tbody>\n",
              "    <tr>\n",
              "      <th>0</th>\n",
              "      <td>United States</td>\n",
              "      <td>1902.0</td>\n",
              "      <td>1974.0</td>\n",
              "      <td>US Air Mail Pilot</td>\n",
              "      <td>NaN</td>\n",
              "      <td>First Solo Transatlantic Flight</td>\n",
              "      <td>8</td>\n",
              "      <td>1900.0</td>\n",
              "      <td>17</td>\n",
              "      <td>CL</td>\n",
              "    </tr>\n",
              "    <tr>\n",
              "      <th>1</th>\n",
              "      <td>United States</td>\n",
              "      <td>1875.0</td>\n",
              "      <td>1940.0</td>\n",
              "      <td>Founder of Chrysler</td>\n",
              "      <td>Economics</td>\n",
              "      <td>Chrysler/Dodge Merger</td>\n",
              "      <td>6</td>\n",
              "      <td>1870.0</td>\n",
              "      <td>15</td>\n",
              "      <td>WC</td>\n",
              "    </tr>\n",
              "    <tr>\n",
              "      <th>2</th>\n",
              "      <td>United States</td>\n",
              "      <td>1874.0</td>\n",
              "      <td>1962.0</td>\n",
              "      <td>Member of the German Reparations International...</td>\n",
              "      <td>Diplomacy</td>\n",
              "      <td>Young Plan</td>\n",
              "      <td>7</td>\n",
              "      <td>1870.0</td>\n",
              "      <td>13</td>\n",
              "      <td>ODY</td>\n",
              "    </tr>\n",
              "    <tr>\n",
              "      <th>3</th>\n",
              "      <td>India</td>\n",
              "      <td>1869.0</td>\n",
              "      <td>1948.0</td>\n",
              "      <td>NaN</td>\n",
              "      <td>Revolution</td>\n",
              "      <td>Salt March</td>\n",
              "      <td>0</td>\n",
              "      <td>1860.0</td>\n",
              "      <td>14</td>\n",
              "      <td>MG</td>\n",
              "    </tr>\n",
              "    <tr>\n",
              "      <th>4</th>\n",
              "      <td>France</td>\n",
              "      <td>1883.0</td>\n",
              "      <td>1945.0</td>\n",
              "      <td>Prime Minister of France</td>\n",
              "      <td>Politics</td>\n",
              "      <td>NaN</td>\n",
              "      <td>2</td>\n",
              "      <td>1880.0</td>\n",
              "      <td>12</td>\n",
              "      <td>PL</td>\n",
              "    </tr>\n",
              "    <tr>\n",
              "      <th>...</th>\n",
              "      <td>...</td>\n",
              "      <td>...</td>\n",
              "      <td>...</td>\n",
              "      <td>...</td>\n",
              "      <td>...</td>\n",
              "      <td>...</td>\n",
              "      <td>...</td>\n",
              "      <td>...</td>\n",
              "      <td>...</td>\n",
              "      <td>...</td>\n",
              "    </tr>\n",
              "    <tr>\n",
              "      <th>94</th>\n",
              "      <td>United States</td>\n",
              "      <td>NaN</td>\n",
              "      <td>NaN</td>\n",
              "      <td>President and Vice President of the USA</td>\n",
              "      <td>Politics</td>\n",
              "      <td>Presidential Election</td>\n",
              "      <td>2</td>\n",
              "      <td>NaN</td>\n",
              "      <td>25</td>\n",
              "      <td>JB&amp;KH</td>\n",
              "    </tr>\n",
              "    <tr>\n",
              "      <th>95</th>\n",
              "      <td>South Africa</td>\n",
              "      <td>1971.0</td>\n",
              "      <td>NaN</td>\n",
              "      <td>CEO of Tesla</td>\n",
              "      <td>Technology</td>\n",
              "      <td>Richest Person in the World</td>\n",
              "      <td>1</td>\n",
              "      <td>1970.0</td>\n",
              "      <td>9</td>\n",
              "      <td>EM</td>\n",
              "    </tr>\n",
              "    <tr>\n",
              "      <th>96</th>\n",
              "      <td>Ukraine</td>\n",
              "      <td>1978.0</td>\n",
              "      <td>NaN</td>\n",
              "      <td>President of Ukraine</td>\n",
              "      <td>Politics</td>\n",
              "      <td>War in Ukraine</td>\n",
              "      <td>2</td>\n",
              "      <td>1970.0</td>\n",
              "      <td>18</td>\n",
              "      <td>VZ</td>\n",
              "    </tr>\n",
              "    <tr>\n",
              "      <th>97</th>\n",
              "      <td>United States</td>\n",
              "      <td>1989.0</td>\n",
              "      <td>NaN</td>\n",
              "      <td>Singer-songwriter</td>\n",
              "      <td>Entertainment</td>\n",
              "      <td>Cultural and Economic Impact</td>\n",
              "      <td>12</td>\n",
              "      <td>1980.0</td>\n",
              "      <td>12</td>\n",
              "      <td>TS</td>\n",
              "    </tr>\n",
              "    <tr>\n",
              "      <th>98</th>\n",
              "      <td>United States</td>\n",
              "      <td>1946.0</td>\n",
              "      <td>NaN</td>\n",
              "      <td>President of the United States</td>\n",
              "      <td>Politics</td>\n",
              "      <td>Presidential Election</td>\n",
              "      <td>2</td>\n",
              "      <td>1940.0</td>\n",
              "      <td>12</td>\n",
              "      <td>DT</td>\n",
              "    </tr>\n",
              "  </tbody>\n",
              "</table>\n",
              "<p>99 rows × 10 columns</p>\n",
              "</div>"
            ],
            "text/plain": [
              "          Country  Birth Year  Death Year  \\\n",
              "0   United States      1902.0      1974.0   \n",
              "1   United States      1875.0      1940.0   \n",
              "2   United States      1874.0      1962.0   \n",
              "3           India      1869.0      1948.0   \n",
              "4          France      1883.0      1945.0   \n",
              "..            ...         ...         ...   \n",
              "94  United States         NaN         NaN   \n",
              "95   South Africa      1971.0         NaN   \n",
              "96        Ukraine      1978.0         NaN   \n",
              "97  United States      1989.0         NaN   \n",
              "98  United States      1946.0         NaN   \n",
              "\n",
              "                                                Title       Category  \\\n",
              "0                                   US Air Mail Pilot            NaN   \n",
              "1                                 Founder of Chrysler      Economics   \n",
              "2   Member of the German Reparations International...      Diplomacy   \n",
              "3                                                 NaN     Revolution   \n",
              "4                            Prime Minister of France       Politics   \n",
              "..                                                ...            ...   \n",
              "94            President and Vice President of the USA       Politics   \n",
              "95                                       CEO of Tesla     Technology   \n",
              "96                               President of Ukraine       Politics   \n",
              "97                                  Singer-songwriter  Entertainment   \n",
              "98                     President of the United States       Politics   \n",
              "\n",
              "                            Context  Category Ordinal  Birth Decade  \\\n",
              "0   First Solo Transatlantic Flight                 8        1900.0   \n",
              "1             Chrysler/Dodge Merger                 6        1870.0   \n",
              "2                        Young Plan                 7        1870.0   \n",
              "3                        Salt March                 0        1860.0   \n",
              "4                               NaN                 2        1880.0   \n",
              "..                              ...               ...           ...   \n",
              "94            Presidential Election                 2           NaN   \n",
              "95      Richest Person in the World                 1        1970.0   \n",
              "96                   War in Ukraine                 2        1970.0   \n",
              "97     Cultural and Economic Impact                12        1980.0   \n",
              "98            Presidential Election                 2        1940.0   \n",
              "\n",
              "    Name Length Initials  \n",
              "0            17       CL  \n",
              "1            15       WC  \n",
              "2            13      ODY  \n",
              "3            14       MG  \n",
              "4            12       PL  \n",
              "..          ...      ...  \n",
              "94           25    JB&KH  \n",
              "95            9       EM  \n",
              "96           18       VZ  \n",
              "97           12       TS  \n",
              "98           12       DT  \n",
              "\n",
              "[99 rows x 10 columns]"
            ]
          },
          "execution_count": 18,
          "metadata": {},
          "output_type": "execute_result"
        }
      ],
      "source": [
        "time.drop(columns=['Lifespan'], inplace=True)\n",
        "time"
      ]
    },
    {
      "cell_type": "markdown",
      "metadata": {
        "id": "OVMgz52FIUns"
      },
      "source": [
        "### Renaming Columns"
      ]
    },
    {
      "cell_type": "markdown",
      "metadata": {
        "id": "18h7Nrw2IUnt"
      },
      "source": [
        "You can do this using a `dictionary`"
      ]
    },
    {
      "cell_type": "code",
      "execution_count": null,
      "metadata": {
        "id": "KkK4oJaNIUnt",
        "outputId": "4d9f331f-0b49-4953-e83b-e8920dea88ee"
      },
      "outputs": [
        {
          "data": {
            "text/html": [
              "<div>\n",
              "<style scoped>\n",
              "    .dataframe tbody tr th:only-of-type {\n",
              "        vertical-align: middle;\n",
              "    }\n",
              "\n",
              "    .dataframe tbody tr th {\n",
              "        vertical-align: top;\n",
              "    }\n",
              "\n",
              "    .dataframe thead th {\n",
              "        text-align: right;\n",
              "    }\n",
              "</style>\n",
              "<table border=\"1\" class=\"dataframe\">\n",
              "  <thead>\n",
              "    <tr style=\"text-align: right;\">\n",
              "      <th></th>\n",
              "      <th>Country</th>\n",
              "      <th>Born</th>\n",
              "      <th>Died</th>\n",
              "      <th>Title</th>\n",
              "      <th>Category</th>\n",
              "      <th>Context</th>\n",
              "      <th>Category Ordinal</th>\n",
              "      <th>Birth Decade</th>\n",
              "      <th>Name Length</th>\n",
              "      <th>Initials</th>\n",
              "    </tr>\n",
              "  </thead>\n",
              "  <tbody>\n",
              "    <tr>\n",
              "      <th>0</th>\n",
              "      <td>United States</td>\n",
              "      <td>1902.0</td>\n",
              "      <td>1974.0</td>\n",
              "      <td>US Air Mail Pilot</td>\n",
              "      <td>NaN</td>\n",
              "      <td>First Solo Transatlantic Flight</td>\n",
              "      <td>8</td>\n",
              "      <td>1900.0</td>\n",
              "      <td>17</td>\n",
              "      <td>CL</td>\n",
              "    </tr>\n",
              "    <tr>\n",
              "      <th>1</th>\n",
              "      <td>United States</td>\n",
              "      <td>1875.0</td>\n",
              "      <td>1940.0</td>\n",
              "      <td>Founder of Chrysler</td>\n",
              "      <td>Economics</td>\n",
              "      <td>Chrysler/Dodge Merger</td>\n",
              "      <td>6</td>\n",
              "      <td>1870.0</td>\n",
              "      <td>15</td>\n",
              "      <td>WC</td>\n",
              "    </tr>\n",
              "    <tr>\n",
              "      <th>2</th>\n",
              "      <td>United States</td>\n",
              "      <td>1874.0</td>\n",
              "      <td>1962.0</td>\n",
              "      <td>Member of the German Reparations International...</td>\n",
              "      <td>Diplomacy</td>\n",
              "      <td>Young Plan</td>\n",
              "      <td>7</td>\n",
              "      <td>1870.0</td>\n",
              "      <td>13</td>\n",
              "      <td>ODY</td>\n",
              "    </tr>\n",
              "    <tr>\n",
              "      <th>3</th>\n",
              "      <td>India</td>\n",
              "      <td>1869.0</td>\n",
              "      <td>1948.0</td>\n",
              "      <td>NaN</td>\n",
              "      <td>Revolution</td>\n",
              "      <td>Salt March</td>\n",
              "      <td>0</td>\n",
              "      <td>1860.0</td>\n",
              "      <td>14</td>\n",
              "      <td>MG</td>\n",
              "    </tr>\n",
              "    <tr>\n",
              "      <th>4</th>\n",
              "      <td>France</td>\n",
              "      <td>1883.0</td>\n",
              "      <td>1945.0</td>\n",
              "      <td>Prime Minister of France</td>\n",
              "      <td>Politics</td>\n",
              "      <td>NaN</td>\n",
              "      <td>2</td>\n",
              "      <td>1880.0</td>\n",
              "      <td>12</td>\n",
              "      <td>PL</td>\n",
              "    </tr>\n",
              "    <tr>\n",
              "      <th>...</th>\n",
              "      <td>...</td>\n",
              "      <td>...</td>\n",
              "      <td>...</td>\n",
              "      <td>...</td>\n",
              "      <td>...</td>\n",
              "      <td>...</td>\n",
              "      <td>...</td>\n",
              "      <td>...</td>\n",
              "      <td>...</td>\n",
              "      <td>...</td>\n",
              "    </tr>\n",
              "    <tr>\n",
              "      <th>94</th>\n",
              "      <td>United States</td>\n",
              "      <td>NaN</td>\n",
              "      <td>NaN</td>\n",
              "      <td>President and Vice President of the USA</td>\n",
              "      <td>Politics</td>\n",
              "      <td>Presidential Election</td>\n",
              "      <td>2</td>\n",
              "      <td>NaN</td>\n",
              "      <td>25</td>\n",
              "      <td>JB&amp;KH</td>\n",
              "    </tr>\n",
              "    <tr>\n",
              "      <th>95</th>\n",
              "      <td>South Africa</td>\n",
              "      <td>1971.0</td>\n",
              "      <td>NaN</td>\n",
              "      <td>CEO of Tesla</td>\n",
              "      <td>Technology</td>\n",
              "      <td>Richest Person in the World</td>\n",
              "      <td>1</td>\n",
              "      <td>1970.0</td>\n",
              "      <td>9</td>\n",
              "      <td>EM</td>\n",
              "    </tr>\n",
              "    <tr>\n",
              "      <th>96</th>\n",
              "      <td>Ukraine</td>\n",
              "      <td>1978.0</td>\n",
              "      <td>NaN</td>\n",
              "      <td>President of Ukraine</td>\n",
              "      <td>Politics</td>\n",
              "      <td>War in Ukraine</td>\n",
              "      <td>2</td>\n",
              "      <td>1970.0</td>\n",
              "      <td>18</td>\n",
              "      <td>VZ</td>\n",
              "    </tr>\n",
              "    <tr>\n",
              "      <th>97</th>\n",
              "      <td>United States</td>\n",
              "      <td>1989.0</td>\n",
              "      <td>NaN</td>\n",
              "      <td>Singer-songwriter</td>\n",
              "      <td>Entertainment</td>\n",
              "      <td>Cultural and Economic Impact</td>\n",
              "      <td>12</td>\n",
              "      <td>1980.0</td>\n",
              "      <td>12</td>\n",
              "      <td>TS</td>\n",
              "    </tr>\n",
              "    <tr>\n",
              "      <th>98</th>\n",
              "      <td>United States</td>\n",
              "      <td>1946.0</td>\n",
              "      <td>NaN</td>\n",
              "      <td>President of the United States</td>\n",
              "      <td>Politics</td>\n",
              "      <td>Presidential Election</td>\n",
              "      <td>2</td>\n",
              "      <td>1940.0</td>\n",
              "      <td>12</td>\n",
              "      <td>DT</td>\n",
              "    </tr>\n",
              "  </tbody>\n",
              "</table>\n",
              "<p>99 rows × 10 columns</p>\n",
              "</div>"
            ],
            "text/plain": [
              "          Country    Born    Died  \\\n",
              "0   United States  1902.0  1974.0   \n",
              "1   United States  1875.0  1940.0   \n",
              "2   United States  1874.0  1962.0   \n",
              "3           India  1869.0  1948.0   \n",
              "4          France  1883.0  1945.0   \n",
              "..            ...     ...     ...   \n",
              "94  United States     NaN     NaN   \n",
              "95   South Africa  1971.0     NaN   \n",
              "96        Ukraine  1978.0     NaN   \n",
              "97  United States  1989.0     NaN   \n",
              "98  United States  1946.0     NaN   \n",
              "\n",
              "                                                Title       Category  \\\n",
              "0                                   US Air Mail Pilot            NaN   \n",
              "1                                 Founder of Chrysler      Economics   \n",
              "2   Member of the German Reparations International...      Diplomacy   \n",
              "3                                                 NaN     Revolution   \n",
              "4                            Prime Minister of France       Politics   \n",
              "..                                                ...            ...   \n",
              "94            President and Vice President of the USA       Politics   \n",
              "95                                       CEO of Tesla     Technology   \n",
              "96                               President of Ukraine       Politics   \n",
              "97                                  Singer-songwriter  Entertainment   \n",
              "98                     President of the United States       Politics   \n",
              "\n",
              "                            Context  Category Ordinal  Birth Decade  \\\n",
              "0   First Solo Transatlantic Flight                 8        1900.0   \n",
              "1             Chrysler/Dodge Merger                 6        1870.0   \n",
              "2                        Young Plan                 7        1870.0   \n",
              "3                        Salt March                 0        1860.0   \n",
              "4                               NaN                 2        1880.0   \n",
              "..                              ...               ...           ...   \n",
              "94            Presidential Election                 2           NaN   \n",
              "95      Richest Person in the World                 1        1970.0   \n",
              "96                   War in Ukraine                 2        1970.0   \n",
              "97     Cultural and Economic Impact                12        1980.0   \n",
              "98            Presidential Election                 2        1940.0   \n",
              "\n",
              "    Name Length Initials  \n",
              "0            17       CL  \n",
              "1            15       WC  \n",
              "2            13      ODY  \n",
              "3            14       MG  \n",
              "4            12       PL  \n",
              "..          ...      ...  \n",
              "94           25    JB&KH  \n",
              "95            9       EM  \n",
              "96           18       VZ  \n",
              "97           12       TS  \n",
              "98           12       DT  \n",
              "\n",
              "[99 rows x 10 columns]"
            ]
          },
          "execution_count": 19,
          "metadata": {},
          "output_type": "execute_result"
        }
      ],
      "source": [
        "time = time.rename(columns={'Birth Year' : 'Born',\n",
        "                        'Death Year' : 'Died'})\n",
        "time"
      ]
    },
    {
      "cell_type": "markdown",
      "metadata": {
        "id": "BqW4BUEaIUnt"
      },
      "source": [
        "### How to create new columns in Tableau?"
      ]
    },
    {
      "cell_type": "markdown",
      "metadata": {
        "id": "Xt9mEtlMIUnt"
      },
      "source": [
        "## Missing Data"
      ]
    },
    {
      "cell_type": "markdown",
      "metadata": {
        "id": "JV24BK6tIUnt"
      },
      "source": [
        "### Fundamentals of missing data"
      ]
    },
    {
      "cell_type": "markdown",
      "metadata": {
        "id": "baBnRowcIUnt"
      },
      "source": [
        "In the previous example, you saw that some entries had `NaN` to fill in for **missing data**"
      ]
    },
    {
      "cell_type": "markdown",
      "metadata": {
        "id": "fRJQbFLyIUnt"
      },
      "source": [
        "Missing data is one of the most recurrent problems in data analysis"
      ]
    },
    {
      "cell_type": "markdown",
      "metadata": {
        "id": "3fe67IUeIUnt"
      },
      "source": [
        "In fact, there are a lot of studies and methods on how to handle it!"
      ]
    },
    {
      "cell_type": "markdown",
      "metadata": {
        "id": "UeyfypGMIUnt"
      },
      "source": [
        "We will work with a small dataset called [missing.csv](https://www.dropbox.com/s/5h4k4rszebd6p0n/missing.csv?raw=1) (it's the same as data.csv from last week, but now with missing values)"
      ]
    },
    {
      "cell_type": "code",
      "execution_count": null,
      "metadata": {
        "id": "TolyGXrRIUnu",
        "outputId": "f5b51930-8318-4214-ed01-3c22319dcb39"
      },
      "outputs": [
        {
          "data": {
            "text/html": [
              "<div>\n",
              "<style scoped>\n",
              "    .dataframe tbody tr th:only-of-type {\n",
              "        vertical-align: middle;\n",
              "    }\n",
              "\n",
              "    .dataframe tbody tr th {\n",
              "        vertical-align: top;\n",
              "    }\n",
              "\n",
              "    .dataframe thead th {\n",
              "        text-align: right;\n",
              "    }\n",
              "</style>\n",
              "<table border=\"1\" class=\"dataframe\">\n",
              "  <thead>\n",
              "    <tr style=\"text-align: right;\">\n",
              "      <th></th>\n",
              "      <th>Name</th>\n",
              "      <th>Age</th>\n",
              "      <th>Height</th>\n",
              "    </tr>\n",
              "  </thead>\n",
              "  <tbody>\n",
              "    <tr>\n",
              "      <th>0</th>\n",
              "      <td>Nick</td>\n",
              "      <td>21.0</td>\n",
              "      <td>1.85</td>\n",
              "    </tr>\n",
              "    <tr>\n",
              "      <th>1</th>\n",
              "      <td>Chris</td>\n",
              "      <td>29.0</td>\n",
              "      <td>Unknown</td>\n",
              "    </tr>\n",
              "    <tr>\n",
              "      <th>2</th>\n",
              "      <td>Tim</td>\n",
              "      <td>28.0</td>\n",
              "      <td>1.75</td>\n",
              "    </tr>\n",
              "    <tr>\n",
              "      <th>3</th>\n",
              "      <td>Ron</td>\n",
              "      <td>NaN</td>\n",
              "      <td>1.81</td>\n",
              "    </tr>\n",
              "    <tr>\n",
              "      <th>4</th>\n",
              "      <td>Monica</td>\n",
              "      <td>35.0</td>\n",
              "      <td>Unknown</td>\n",
              "    </tr>\n",
              "    <tr>\n",
              "      <th>5</th>\n",
              "      <td>Cassandra</td>\n",
              "      <td>21.0</td>\n",
              "      <td>1.66</td>\n",
              "    </tr>\n",
              "  </tbody>\n",
              "</table>\n",
              "</div>"
            ],
            "text/plain": [
              "        Name   Age   Height\n",
              "0       Nick  21.0     1.85\n",
              "1      Chris  29.0  Unknown\n",
              "2        Tim  28.0     1.75\n",
              "3        Ron   NaN     1.81\n",
              "4     Monica  35.0  Unknown\n",
              "5  Cassandra  21.0     1.66"
            ]
          },
          "execution_count": 20,
          "metadata": {},
          "output_type": "execute_result"
        }
      ],
      "source": [
        "df = pd.read_csv('https://www.dropbox.com/scl/fi/4n7in0fnv7qtcrumfk43w/missing.csv?rlkey=g1ql9y050qbpfiz0zjd39628t&raw=1')\n",
        "df"
      ]
    },
    {
      "cell_type": "markdown",
      "metadata": {
        "id": "PSKj0XzsIUnu"
      },
      "source": [
        "The first thing to notice is that the second column is being shown with decimals, even though they were integers in the original file"
      ]
    },
    {
      "cell_type": "markdown",
      "metadata": {
        "id": "1IYHYzAdIUnu"
      },
      "source": [
        "Moreover, the blank entry is displayed as `NaN`"
      ]
    },
    {
      "cell_type": "markdown",
      "metadata": {
        "id": "pOfIaxL5IUnu"
      },
      "source": [
        "`NaN` stands for *Not A Number* as is part of the floating point specification, typically used when a calculation has no valid numerical result"
      ]
    },
    {
      "cell_type": "markdown",
      "metadata": {
        "id": "EWAUbwGIIUnu"
      },
      "source": [
        "In fact, Python considers `NaN` as a floating point (or `float64`)"
      ]
    },
    {
      "cell_type": "code",
      "execution_count": null,
      "metadata": {
        "cell_style": "split",
        "id": "XejdVKqaIUnu",
        "outputId": "e57b9e90-27f1-44bd-bdf2-8cbae725526f"
      },
      "outputs": [
        {
          "data": {
            "text/html": [
              "<div>\n",
              "<style scoped>\n",
              "    .dataframe tbody tr th:only-of-type {\n",
              "        vertical-align: middle;\n",
              "    }\n",
              "\n",
              "    .dataframe tbody tr th {\n",
              "        vertical-align: top;\n",
              "    }\n",
              "\n",
              "    .dataframe thead th {\n",
              "        text-align: right;\n",
              "    }\n",
              "</style>\n",
              "<table border=\"1\" class=\"dataframe\">\n",
              "  <thead>\n",
              "    <tr style=\"text-align: right;\">\n",
              "      <th></th>\n",
              "      <th>Name</th>\n",
              "      <th>Age</th>\n",
              "      <th>Height</th>\n",
              "    </tr>\n",
              "  </thead>\n",
              "  <tbody>\n",
              "    <tr>\n",
              "      <th>0</th>\n",
              "      <td>Nick</td>\n",
              "      <td>21.0</td>\n",
              "      <td>1.85</td>\n",
              "    </tr>\n",
              "    <tr>\n",
              "      <th>1</th>\n",
              "      <td>Chris</td>\n",
              "      <td>29.0</td>\n",
              "      <td>Unknown</td>\n",
              "    </tr>\n",
              "    <tr>\n",
              "      <th>2</th>\n",
              "      <td>Tim</td>\n",
              "      <td>28.0</td>\n",
              "      <td>1.75</td>\n",
              "    </tr>\n",
              "    <tr>\n",
              "      <th>3</th>\n",
              "      <td>Ron</td>\n",
              "      <td>NaN</td>\n",
              "      <td>1.81</td>\n",
              "    </tr>\n",
              "    <tr>\n",
              "      <th>4</th>\n",
              "      <td>Monica</td>\n",
              "      <td>35.0</td>\n",
              "      <td>Unknown</td>\n",
              "    </tr>\n",
              "    <tr>\n",
              "      <th>5</th>\n",
              "      <td>Cassandra</td>\n",
              "      <td>21.0</td>\n",
              "      <td>1.66</td>\n",
              "    </tr>\n",
              "  </tbody>\n",
              "</table>\n",
              "</div>"
            ],
            "text/plain": [
              "        Name   Age   Height\n",
              "0       Nick  21.0     1.85\n",
              "1      Chris  29.0  Unknown\n",
              "2        Tim  28.0     1.75\n",
              "3        Ron   NaN     1.81\n",
              "4     Monica  35.0  Unknown\n",
              "5  Cassandra  21.0     1.66"
            ]
          },
          "execution_count": 21,
          "metadata": {},
          "output_type": "execute_result"
        }
      ],
      "source": [
        "df"
      ]
    },
    {
      "cell_type": "code",
      "execution_count": null,
      "metadata": {
        "cell_style": "split",
        "scrolled": true,
        "id": "lUuSWUPrIUnv",
        "outputId": "cdbdbe0f-1d85-4811-e5d8-7c6bb3a79332"
      },
      "outputs": [
        {
          "data": {
            "text/plain": [
              "np.float64(nan)"
            ]
          },
          "execution_count": 22,
          "metadata": {},
          "output_type": "execute_result"
        }
      ],
      "source": [
        "df.at[3, 'Age']"
      ]
    },
    {
      "cell_type": "markdown",
      "metadata": {
        "id": "5tQ5jeJGIUnv"
      },
      "source": [
        "As a result, the entire column has been turned into `float64`, instead of `int64`"
      ]
    },
    {
      "cell_type": "markdown",
      "metadata": {
        "id": "t-V4DwRsIUnv"
      },
      "source": [
        " This is why it was being shown as decimals!"
      ]
    },
    {
      "cell_type": "code",
      "execution_count": null,
      "metadata": {
        "id": "Mr5wdtUFIUnv",
        "outputId": "e0bf8b47-2306-4d4a-a95c-e39c7d5f96d6"
      },
      "outputs": [
        {
          "data": {
            "text/plain": [
              "0    21.0\n",
              "1    29.0\n",
              "2    28.0\n",
              "3     NaN\n",
              "4    35.0\n",
              "5    21.0\n",
              "Name: Age, dtype: float64"
            ]
          },
          "execution_count": 23,
          "metadata": {},
          "output_type": "execute_result"
        }
      ],
      "source": [
        "df['Age']"
      ]
    },
    {
      "cell_type": "markdown",
      "metadata": {
        "id": "NXS-UANsIUnv"
      },
      "source": [
        "### Incorrectly Imported Missing Data"
      ]
    },
    {
      "cell_type": "markdown",
      "metadata": {
        "id": "sIg-HcpTIUnv"
      },
      "source": [
        "The missing value in the `Age` column was generated because the cell was blank"
      ]
    },
    {
      "cell_type": "markdown",
      "metadata": {
        "id": "3e2OmfbqIUnv"
      },
      "source": [
        "By default, `Pandas` will treat certain cell values, such as a *blank*, `NULL`, `NaN`, and `n/a` as missing values"
      ]
    },
    {
      "cell_type": "markdown",
      "metadata": {
        "id": "9XN73hmXIUnv"
      },
      "source": [
        "The `Height` column contains some entries which we recognise as missing data (i.e. `Unknown`) but that Pandas did not"
      ]
    },
    {
      "cell_type": "code",
      "execution_count": null,
      "metadata": {
        "cell_style": "split",
        "scrolled": true,
        "id": "EATd4OmqIUnw",
        "outputId": "5218a637-07b7-401d-b9d0-8b2019f85e1e"
      },
      "outputs": [
        {
          "data": {
            "text/plain": [
              "'Unknown'"
            ]
          },
          "execution_count": 24,
          "metadata": {},
          "output_type": "execute_result"
        }
      ],
      "source": [
        "df.at[1, 'Height']"
      ]
    },
    {
      "cell_type": "markdown",
      "metadata": {
        "id": "XmkCUm6cIUnw"
      },
      "source": [
        "In fact, the entire column has been imported as strings, not numbers!"
      ]
    },
    {
      "cell_type": "code",
      "execution_count": null,
      "metadata": {
        "cell_style": "split",
        "id": "YsNi5nkhIUnw",
        "outputId": "3fe0c03f-bc4c-462c-f5a5-8d726e35c358"
      },
      "outputs": [
        {
          "data": {
            "text/html": [
              "<div>\n",
              "<style scoped>\n",
              "    .dataframe tbody tr th:only-of-type {\n",
              "        vertical-align: middle;\n",
              "    }\n",
              "\n",
              "    .dataframe tbody tr th {\n",
              "        vertical-align: top;\n",
              "    }\n",
              "\n",
              "    .dataframe thead th {\n",
              "        text-align: right;\n",
              "    }\n",
              "</style>\n",
              "<table border=\"1\" class=\"dataframe\">\n",
              "  <thead>\n",
              "    <tr style=\"text-align: right;\">\n",
              "      <th></th>\n",
              "      <th>Name</th>\n",
              "      <th>Age</th>\n",
              "      <th>Height</th>\n",
              "    </tr>\n",
              "  </thead>\n",
              "  <tbody>\n",
              "    <tr>\n",
              "      <th>0</th>\n",
              "      <td>Nick</td>\n",
              "      <td>21.0</td>\n",
              "      <td>1.85</td>\n",
              "    </tr>\n",
              "    <tr>\n",
              "      <th>1</th>\n",
              "      <td>Chris</td>\n",
              "      <td>29.0</td>\n",
              "      <td>Unknown</td>\n",
              "    </tr>\n",
              "    <tr>\n",
              "      <th>2</th>\n",
              "      <td>Tim</td>\n",
              "      <td>28.0</td>\n",
              "      <td>1.75</td>\n",
              "    </tr>\n",
              "    <tr>\n",
              "      <th>3</th>\n",
              "      <td>Ron</td>\n",
              "      <td>NaN</td>\n",
              "      <td>1.81</td>\n",
              "    </tr>\n",
              "    <tr>\n",
              "      <th>4</th>\n",
              "      <td>Monica</td>\n",
              "      <td>35.0</td>\n",
              "      <td>Unknown</td>\n",
              "    </tr>\n",
              "    <tr>\n",
              "      <th>5</th>\n",
              "      <td>Cassandra</td>\n",
              "      <td>21.0</td>\n",
              "      <td>1.66</td>\n",
              "    </tr>\n",
              "  </tbody>\n",
              "</table>\n",
              "</div>"
            ],
            "text/plain": [
              "        Name   Age   Height\n",
              "0       Nick  21.0     1.85\n",
              "1      Chris  29.0  Unknown\n",
              "2        Tim  28.0     1.75\n",
              "3        Ron   NaN     1.81\n",
              "4     Monica  35.0  Unknown\n",
              "5  Cassandra  21.0     1.66"
            ]
          },
          "execution_count": 25,
          "metadata": {},
          "output_type": "execute_result"
        }
      ],
      "source": [
        "df"
      ]
    },
    {
      "cell_type": "code",
      "execution_count": null,
      "metadata": {
        "cell_style": "split",
        "id": "ylEw6OuhIUnw",
        "outputId": "6cabd0cb-7025-4c29-df8a-83c06df9e1ad"
      },
      "outputs": [
        {
          "name": "stdout",
          "output_type": "stream",
          "text": [
            "Unknown\n",
            "<class 'str'>\n"
          ]
        }
      ],
      "source": [
        "print(df.at[1, 'Height'])\n",
        "print(type(df.at[1, 'Height']))"
      ]
    },
    {
      "cell_type": "markdown",
      "metadata": {
        "id": "dlhJ1vWgIUnw"
      },
      "source": [
        "This in turn made `Pandas` believe that the whole column has strings!"
      ]
    },
    {
      "cell_type": "code",
      "execution_count": null,
      "metadata": {
        "id": "wkjKrOgkIUnw",
        "outputId": "e13ba3cf-52e9-45e2-9f4b-21a1a12dae72"
      },
      "outputs": [
        {
          "name": "stdout",
          "output_type": "stream",
          "text": [
            "1.85\n",
            "<class 'str'>\n"
          ]
        }
      ],
      "source": [
        "print(df.at[0, 'Height'])\n",
        "print(type(df.at[0, 'Height']))"
      ]
    },
    {
      "cell_type": "markdown",
      "metadata": {
        "id": "rvb_sdT_IUnw"
      },
      "source": [
        "What happens if we multiply this column by `100`?"
      ]
    },
    {
      "cell_type": "code",
      "execution_count": null,
      "metadata": {
        "id": "zevJFGCgIUnx",
        "outputId": "4774eed0-41ec-4db0-8a11-550591d5e4fd"
      },
      "outputs": [
        {
          "data": {
            "text/html": [
              "<div>\n",
              "<style scoped>\n",
              "    .dataframe tbody tr th:only-of-type {\n",
              "        vertical-align: middle;\n",
              "    }\n",
              "\n",
              "    .dataframe tbody tr th {\n",
              "        vertical-align: top;\n",
              "    }\n",
              "\n",
              "    .dataframe thead th {\n",
              "        text-align: right;\n",
              "    }\n",
              "</style>\n",
              "<table border=\"1\" class=\"dataframe\">\n",
              "  <thead>\n",
              "    <tr style=\"text-align: right;\">\n",
              "      <th></th>\n",
              "      <th>Name</th>\n",
              "      <th>Age</th>\n",
              "      <th>Height</th>\n",
              "      <th>Height times 100</th>\n",
              "    </tr>\n",
              "  </thead>\n",
              "  <tbody>\n",
              "    <tr>\n",
              "      <th>0</th>\n",
              "      <td>Nick</td>\n",
              "      <td>21.0</td>\n",
              "      <td>1.85</td>\n",
              "      <td>1.851.851.851.851.851.851.851.851.851.851.851....</td>\n",
              "    </tr>\n",
              "    <tr>\n",
              "      <th>1</th>\n",
              "      <td>Chris</td>\n",
              "      <td>29.0</td>\n",
              "      <td>Unknown</td>\n",
              "      <td>UnknownUnknownUnknownUnknownUnknownUnknownUnkn...</td>\n",
              "    </tr>\n",
              "    <tr>\n",
              "      <th>2</th>\n",
              "      <td>Tim</td>\n",
              "      <td>28.0</td>\n",
              "      <td>1.75</td>\n",
              "      <td>1.751.751.751.751.751.751.751.751.751.751.751....</td>\n",
              "    </tr>\n",
              "    <tr>\n",
              "      <th>3</th>\n",
              "      <td>Ron</td>\n",
              "      <td>NaN</td>\n",
              "      <td>1.81</td>\n",
              "      <td>1.811.811.811.811.811.811.811.811.811.811.811....</td>\n",
              "    </tr>\n",
              "    <tr>\n",
              "      <th>4</th>\n",
              "      <td>Monica</td>\n",
              "      <td>35.0</td>\n",
              "      <td>Unknown</td>\n",
              "      <td>UnknownUnknownUnknownUnknownUnknownUnknownUnkn...</td>\n",
              "    </tr>\n",
              "    <tr>\n",
              "      <th>5</th>\n",
              "      <td>Cassandra</td>\n",
              "      <td>21.0</td>\n",
              "      <td>1.66</td>\n",
              "      <td>1.661.661.661.661.661.661.661.661.661.661.661....</td>\n",
              "    </tr>\n",
              "  </tbody>\n",
              "</table>\n",
              "</div>"
            ],
            "text/plain": [
              "        Name   Age   Height                                   Height times 100\n",
              "0       Nick  21.0     1.85  1.851.851.851.851.851.851.851.851.851.851.851....\n",
              "1      Chris  29.0  Unknown  UnknownUnknownUnknownUnknownUnknownUnknownUnkn...\n",
              "2        Tim  28.0     1.75  1.751.751.751.751.751.751.751.751.751.751.751....\n",
              "3        Ron   NaN     1.81  1.811.811.811.811.811.811.811.811.811.811.811....\n",
              "4     Monica  35.0  Unknown  UnknownUnknownUnknownUnknownUnknownUnknownUnkn...\n",
              "5  Cassandra  21.0     1.66  1.661.661.661.661.661.661.661.661.661.661.661...."
            ]
          },
          "execution_count": 28,
          "metadata": {},
          "output_type": "execute_result"
        }
      ],
      "source": [
        "df['Height times 100'] = df['Height'] * 100\n",
        "df"
      ]
    },
    {
      "cell_type": "markdown",
      "metadata": {
        "id": "1hs5WXtwIUnx"
      },
      "source": [
        "We need to tell Pandas in advance to treat `Unknown` not as a string, but as a missing value"
      ]
    },
    {
      "cell_type": "markdown",
      "metadata": {
        "id": "fwv7G879IUnx"
      },
      "source": [
        "Lets re-import the data set passing a list of values which represent missing values as the `na_values` parameter"
      ]
    },
    {
      "cell_type": "code",
      "execution_count": null,
      "metadata": {
        "id": "YoEBFngpIUnx",
        "outputId": "68d2ba4f-e6e4-433c-b02e-54b79261cc68"
      },
      "outputs": [
        {
          "data": {
            "text/html": [
              "<div>\n",
              "<style scoped>\n",
              "    .dataframe tbody tr th:only-of-type {\n",
              "        vertical-align: middle;\n",
              "    }\n",
              "\n",
              "    .dataframe tbody tr th {\n",
              "        vertical-align: top;\n",
              "    }\n",
              "\n",
              "    .dataframe thead th {\n",
              "        text-align: right;\n",
              "    }\n",
              "</style>\n",
              "<table border=\"1\" class=\"dataframe\">\n",
              "  <thead>\n",
              "    <tr style=\"text-align: right;\">\n",
              "      <th></th>\n",
              "      <th>Name</th>\n",
              "      <th>Age</th>\n",
              "      <th>Height</th>\n",
              "    </tr>\n",
              "  </thead>\n",
              "  <tbody>\n",
              "    <tr>\n",
              "      <th>0</th>\n",
              "      <td>Nick</td>\n",
              "      <td>21.0</td>\n",
              "      <td>1.85</td>\n",
              "    </tr>\n",
              "    <tr>\n",
              "      <th>1</th>\n",
              "      <td>Chris</td>\n",
              "      <td>29.0</td>\n",
              "      <td>NaN</td>\n",
              "    </tr>\n",
              "    <tr>\n",
              "      <th>2</th>\n",
              "      <td>Tim</td>\n",
              "      <td>28.0</td>\n",
              "      <td>1.75</td>\n",
              "    </tr>\n",
              "    <tr>\n",
              "      <th>3</th>\n",
              "      <td>Ron</td>\n",
              "      <td>NaN</td>\n",
              "      <td>1.81</td>\n",
              "    </tr>\n",
              "    <tr>\n",
              "      <th>4</th>\n",
              "      <td>Monica</td>\n",
              "      <td>35.0</td>\n",
              "      <td>NaN</td>\n",
              "    </tr>\n",
              "    <tr>\n",
              "      <th>5</th>\n",
              "      <td>Cassandra</td>\n",
              "      <td>21.0</td>\n",
              "      <td>1.66</td>\n",
              "    </tr>\n",
              "  </tbody>\n",
              "</table>\n",
              "</div>"
            ],
            "text/plain": [
              "        Name   Age  Height\n",
              "0       Nick  21.0    1.85\n",
              "1      Chris  29.0     NaN\n",
              "2        Tim  28.0    1.75\n",
              "3        Ron   NaN    1.81\n",
              "4     Monica  35.0     NaN\n",
              "5  Cassandra  21.0    1.66"
            ]
          },
          "execution_count": 29,
          "metadata": {},
          "output_type": "execute_result"
        }
      ],
      "source": [
        "df = pd.read_csv('https://www.dropbox.com/scl/fi/4n7in0fnv7qtcrumfk43w/missing.csv?rlkey=g1ql9y050qbpfiz0zjd39628t&raw=1',\n",
        "                 na_values=['Unknown'])\n",
        "df"
      ]
    },
    {
      "cell_type": "markdown",
      "metadata": {
        "id": "DKcik5yMIUnx"
      },
      "source": [
        "Now the column is `float64`"
      ]
    },
    {
      "cell_type": "code",
      "execution_count": null,
      "metadata": {
        "id": "1nkZ4Tq8IUnx",
        "outputId": "c7196c4e-e49b-4819-b09e-cc8b67226f5d"
      },
      "outputs": [
        {
          "data": {
            "text/plain": [
              "0    1.85\n",
              "1     NaN\n",
              "2    1.75\n",
              "3    1.81\n",
              "4     NaN\n",
              "5    1.66\n",
              "Name: Height, dtype: float64"
            ]
          },
          "execution_count": 30,
          "metadata": {},
          "output_type": "execute_result"
        }
      ],
      "source": [
        "df['Height']"
      ]
    },
    {
      "cell_type": "markdown",
      "metadata": {
        "id": "Rxqc-OttIUnx"
      },
      "source": [
        "Multiplying `Height` now works as expected."
      ]
    },
    {
      "cell_type": "code",
      "execution_count": null,
      "metadata": {
        "cell_style": "split",
        "id": "EQKi2DpVIUny",
        "outputId": "498f8bf9-5253-4229-ff65-2bd16894ca91"
      },
      "outputs": [
        {
          "data": {
            "text/html": [
              "<div>\n",
              "<style scoped>\n",
              "    .dataframe tbody tr th:only-of-type {\n",
              "        vertical-align: middle;\n",
              "    }\n",
              "\n",
              "    .dataframe tbody tr th {\n",
              "        vertical-align: top;\n",
              "    }\n",
              "\n",
              "    .dataframe thead th {\n",
              "        text-align: right;\n",
              "    }\n",
              "</style>\n",
              "<table border=\"1\" class=\"dataframe\">\n",
              "  <thead>\n",
              "    <tr style=\"text-align: right;\">\n",
              "      <th></th>\n",
              "      <th>Name</th>\n",
              "      <th>Age</th>\n",
              "      <th>Height</th>\n",
              "      <th>Height times 100</th>\n",
              "    </tr>\n",
              "  </thead>\n",
              "  <tbody>\n",
              "    <tr>\n",
              "      <th>0</th>\n",
              "      <td>Nick</td>\n",
              "      <td>21.0</td>\n",
              "      <td>1.85</td>\n",
              "      <td>185.0</td>\n",
              "    </tr>\n",
              "    <tr>\n",
              "      <th>1</th>\n",
              "      <td>Chris</td>\n",
              "      <td>29.0</td>\n",
              "      <td>NaN</td>\n",
              "      <td>NaN</td>\n",
              "    </tr>\n",
              "    <tr>\n",
              "      <th>2</th>\n",
              "      <td>Tim</td>\n",
              "      <td>28.0</td>\n",
              "      <td>1.75</td>\n",
              "      <td>175.0</td>\n",
              "    </tr>\n",
              "    <tr>\n",
              "      <th>3</th>\n",
              "      <td>Ron</td>\n",
              "      <td>NaN</td>\n",
              "      <td>1.81</td>\n",
              "      <td>181.0</td>\n",
              "    </tr>\n",
              "    <tr>\n",
              "      <th>4</th>\n",
              "      <td>Monica</td>\n",
              "      <td>35.0</td>\n",
              "      <td>NaN</td>\n",
              "      <td>NaN</td>\n",
              "    </tr>\n",
              "    <tr>\n",
              "      <th>5</th>\n",
              "      <td>Cassandra</td>\n",
              "      <td>21.0</td>\n",
              "      <td>1.66</td>\n",
              "      <td>166.0</td>\n",
              "    </tr>\n",
              "  </tbody>\n",
              "</table>\n",
              "</div>"
            ],
            "text/plain": [
              "        Name   Age  Height  Height times 100\n",
              "0       Nick  21.0    1.85             185.0\n",
              "1      Chris  29.0     NaN               NaN\n",
              "2        Tim  28.0    1.75             175.0\n",
              "3        Ron   NaN    1.81             181.0\n",
              "4     Monica  35.0     NaN               NaN\n",
              "5  Cassandra  21.0    1.66             166.0"
            ]
          },
          "execution_count": 31,
          "metadata": {},
          "output_type": "execute_result"
        }
      ],
      "source": [
        "df['Height times 100'] = df['Height'] * 100\n",
        "df"
      ]
    },
    {
      "cell_type": "code",
      "execution_count": null,
      "metadata": {
        "cell_style": "split",
        "id": "FU39JggnIUny",
        "outputId": "1f4c7e70-1c3a-4650-d1d5-e2d1caceb517"
      },
      "outputs": [
        {
          "data": {
            "text/html": [
              "<div>\n",
              "<style scoped>\n",
              "    .dataframe tbody tr th:only-of-type {\n",
              "        vertical-align: middle;\n",
              "    }\n",
              "\n",
              "    .dataframe tbody tr th {\n",
              "        vertical-align: top;\n",
              "    }\n",
              "\n",
              "    .dataframe thead th {\n",
              "        text-align: right;\n",
              "    }\n",
              "</style>\n",
              "<table border=\"1\" class=\"dataframe\">\n",
              "  <thead>\n",
              "    <tr style=\"text-align: right;\">\n",
              "      <th></th>\n",
              "      <th>Name</th>\n",
              "      <th>Age</th>\n",
              "      <th>Height</th>\n",
              "      <th>Height times 100</th>\n",
              "      <th>Test</th>\n",
              "    </tr>\n",
              "  </thead>\n",
              "  <tbody>\n",
              "    <tr>\n",
              "      <th>0</th>\n",
              "      <td>Nick</td>\n",
              "      <td>21.0</td>\n",
              "      <td>1.85</td>\n",
              "      <td>185.0</td>\n",
              "      <td>22.85</td>\n",
              "    </tr>\n",
              "    <tr>\n",
              "      <th>1</th>\n",
              "      <td>Chris</td>\n",
              "      <td>29.0</td>\n",
              "      <td>NaN</td>\n",
              "      <td>NaN</td>\n",
              "      <td>NaN</td>\n",
              "    </tr>\n",
              "    <tr>\n",
              "      <th>2</th>\n",
              "      <td>Tim</td>\n",
              "      <td>28.0</td>\n",
              "      <td>1.75</td>\n",
              "      <td>175.0</td>\n",
              "      <td>29.75</td>\n",
              "    </tr>\n",
              "    <tr>\n",
              "      <th>3</th>\n",
              "      <td>Ron</td>\n",
              "      <td>NaN</td>\n",
              "      <td>1.81</td>\n",
              "      <td>181.0</td>\n",
              "      <td>NaN</td>\n",
              "    </tr>\n",
              "    <tr>\n",
              "      <th>4</th>\n",
              "      <td>Monica</td>\n",
              "      <td>35.0</td>\n",
              "      <td>NaN</td>\n",
              "      <td>NaN</td>\n",
              "      <td>NaN</td>\n",
              "    </tr>\n",
              "    <tr>\n",
              "      <th>5</th>\n",
              "      <td>Cassandra</td>\n",
              "      <td>21.0</td>\n",
              "      <td>1.66</td>\n",
              "      <td>166.0</td>\n",
              "      <td>22.66</td>\n",
              "    </tr>\n",
              "  </tbody>\n",
              "</table>\n",
              "</div>"
            ],
            "text/plain": [
              "        Name   Age  Height  Height times 100   Test\n",
              "0       Nick  21.0    1.85             185.0  22.85\n",
              "1      Chris  29.0     NaN               NaN    NaN\n",
              "2        Tim  28.0    1.75             175.0  29.75\n",
              "3        Ron   NaN    1.81             181.0    NaN\n",
              "4     Monica  35.0     NaN               NaN    NaN\n",
              "5  Cassandra  21.0    1.66             166.0  22.66"
            ]
          },
          "execution_count": 32,
          "metadata": {},
          "output_type": "execute_result"
        }
      ],
      "source": [
        "# Another example\n",
        "df['Test'] = df['Age'] + df['Height']\n",
        "df"
      ]
    },
    {
      "cell_type": "markdown",
      "metadata": {
        "id": "FCxbpIrqIUny"
      },
      "source": [
        "### Methods to address missing data"
      ]
    },
    {
      "cell_type": "markdown",
      "metadata": {
        "id": "fcyB8EBiIUnz"
      },
      "source": [
        "As mentioned before, there are different ways to deal with missing data"
      ]
    },
    {
      "cell_type": "markdown",
      "metadata": {
        "id": "2WPXTjz7IUnz"
      },
      "source": [
        "The method you should use depends on your analysis, the application domain and what you want to achieve"
      ]
    },
    {
      "cell_type": "markdown",
      "metadata": {
        "id": "nxM_MbROIUnz"
      },
      "source": [
        "Here are some common methods:\n",
        "\n",
        "    1. Leave the missing values as NaN\n",
        "    2. Lookup the values from another data source\n",
        "    3. Delete the rows / observations\n",
        "    4. Compute reasonable guesses about the values"
      ]
    },
    {
      "cell_type": "markdown",
      "metadata": {
        "id": "hJrzKThzIUnz"
      },
      "source": [
        "In **option 1**, it is often reasonable to just leave the data as missing data"
      ]
    },
    {
      "cell_type": "markdown",
      "metadata": {
        "id": "MaDQIxecIUnz"
      },
      "source": [
        "For example, if we wanted to calculate average `Height`, it may not matter that we are missing `Age` for one row"
      ]
    },
    {
      "cell_type": "markdown",
      "metadata": {
        "id": "ohnjjS5iIUnz"
      },
      "source": [
        "As for **option 2**, if we have some other ways of going back and getting correct data, we could just update the values with `df.at[3, 'Age'] = ...`"
      ]
    },
    {
      "cell_type": "markdown",
      "metadata": {
        "id": "9ESWd_jhIUnz"
      },
      "source": [
        "Let's assume we are going for **option 3** and want to remove any rows where we do no have `Age`"
      ]
    },
    {
      "cell_type": "markdown",
      "metadata": {
        "id": "q2jsrhUMIUn0"
      },
      "source": [
        "If we know the row we want to delete (`3`), we can use the `drop` method, only this time we specify rows, not columns. As in:\n",
        "\n",
        "    df.drop(3)"
      ]
    },
    {
      "cell_type": "markdown",
      "metadata": {
        "id": "5b27IQbNIUn0"
      },
      "source": [
        "However, often there are many missing values, and we don't want to check on the index of each"
      ]
    },
    {
      "cell_type": "markdown",
      "metadata": {
        "id": "mTv0RpO3IUn0"
      },
      "source": [
        "A good way to remove rows with missing data is to specify which rows to **keep**"
      ]
    },
    {
      "cell_type": "markdown",
      "metadata": {
        "id": "lXfSp-9ZIUn0"
      },
      "source": [
        "The `isnull` method will filter for rows which contains `NaN`."
      ]
    },
    {
      "cell_type": "code",
      "execution_count": null,
      "metadata": {
        "id": "3xEntNBSIUn0",
        "outputId": "0393a18b-eed9-4c2a-c15f-de37d1252e5c"
      },
      "outputs": [
        {
          "data": {
            "text/html": [
              "<div>\n",
              "<style scoped>\n",
              "    .dataframe tbody tr th:only-of-type {\n",
              "        vertical-align: middle;\n",
              "    }\n",
              "\n",
              "    .dataframe tbody tr th {\n",
              "        vertical-align: top;\n",
              "    }\n",
              "\n",
              "    .dataframe thead th {\n",
              "        text-align: right;\n",
              "    }\n",
              "</style>\n",
              "<table border=\"1\" class=\"dataframe\">\n",
              "  <thead>\n",
              "    <tr style=\"text-align: right;\">\n",
              "      <th></th>\n",
              "      <th>Name</th>\n",
              "      <th>Age</th>\n",
              "      <th>Height</th>\n",
              "      <th>Height times 100</th>\n",
              "      <th>Test</th>\n",
              "    </tr>\n",
              "  </thead>\n",
              "  <tbody>\n",
              "    <tr>\n",
              "      <th>3</th>\n",
              "      <td>Ron</td>\n",
              "      <td>NaN</td>\n",
              "      <td>1.81</td>\n",
              "      <td>181.0</td>\n",
              "      <td>NaN</td>\n",
              "    </tr>\n",
              "  </tbody>\n",
              "</table>\n",
              "</div>"
            ],
            "text/plain": [
              "  Name  Age  Height  Height times 100  Test\n",
              "3  Ron  NaN    1.81             181.0   NaN"
            ]
          },
          "execution_count": 33,
          "metadata": {},
          "output_type": "execute_result"
        }
      ],
      "source": [
        "df[df['Age'].isnull()]"
      ]
    },
    {
      "cell_type": "markdown",
      "metadata": {
        "id": "g-nrQlVJIUn0"
      },
      "source": [
        "Of course, this is the *opposite* of specifying which to keep"
      ]
    },
    {
      "cell_type": "markdown",
      "metadata": {
        "id": "RXTVuzKBIUn0"
      },
      "source": [
        "The **notnull** method will show us which rows do not contain `NaN` in the specified column."
      ]
    },
    {
      "cell_type": "code",
      "execution_count": null,
      "metadata": {
        "id": "ddarwXN_IUn0",
        "outputId": "a6a4655c-4906-4c55-acf5-dbb8a33e21f5"
      },
      "outputs": [
        {
          "data": {
            "text/html": [
              "<div>\n",
              "<style scoped>\n",
              "    .dataframe tbody tr th:only-of-type {\n",
              "        vertical-align: middle;\n",
              "    }\n",
              "\n",
              "    .dataframe tbody tr th {\n",
              "        vertical-align: top;\n",
              "    }\n",
              "\n",
              "    .dataframe thead th {\n",
              "        text-align: right;\n",
              "    }\n",
              "</style>\n",
              "<table border=\"1\" class=\"dataframe\">\n",
              "  <thead>\n",
              "    <tr style=\"text-align: right;\">\n",
              "      <th></th>\n",
              "      <th>Name</th>\n",
              "      <th>Age</th>\n",
              "      <th>Height</th>\n",
              "      <th>Height times 100</th>\n",
              "      <th>Test</th>\n",
              "    </tr>\n",
              "  </thead>\n",
              "  <tbody>\n",
              "    <tr>\n",
              "      <th>0</th>\n",
              "      <td>Nick</td>\n",
              "      <td>21.0</td>\n",
              "      <td>1.85</td>\n",
              "      <td>185.0</td>\n",
              "      <td>22.85</td>\n",
              "    </tr>\n",
              "    <tr>\n",
              "      <th>1</th>\n",
              "      <td>Chris</td>\n",
              "      <td>29.0</td>\n",
              "      <td>NaN</td>\n",
              "      <td>NaN</td>\n",
              "      <td>NaN</td>\n",
              "    </tr>\n",
              "    <tr>\n",
              "      <th>2</th>\n",
              "      <td>Tim</td>\n",
              "      <td>28.0</td>\n",
              "      <td>1.75</td>\n",
              "      <td>175.0</td>\n",
              "      <td>29.75</td>\n",
              "    </tr>\n",
              "    <tr>\n",
              "      <th>4</th>\n",
              "      <td>Monica</td>\n",
              "      <td>35.0</td>\n",
              "      <td>NaN</td>\n",
              "      <td>NaN</td>\n",
              "      <td>NaN</td>\n",
              "    </tr>\n",
              "    <tr>\n",
              "      <th>5</th>\n",
              "      <td>Cassandra</td>\n",
              "      <td>21.0</td>\n",
              "      <td>1.66</td>\n",
              "      <td>166.0</td>\n",
              "      <td>22.66</td>\n",
              "    </tr>\n",
              "  </tbody>\n",
              "</table>\n",
              "</div>"
            ],
            "text/plain": [
              "        Name   Age  Height  Height times 100   Test\n",
              "0       Nick  21.0    1.85             185.0  22.85\n",
              "1      Chris  29.0     NaN               NaN    NaN\n",
              "2        Tim  28.0    1.75             175.0  29.75\n",
              "4     Monica  35.0     NaN               NaN    NaN\n",
              "5  Cassandra  21.0    1.66             166.0  22.66"
            ]
          },
          "execution_count": 34,
          "metadata": {},
          "output_type": "execute_result"
        }
      ],
      "source": [
        "df[df['Age'].notnull()]"
      ]
    },
    {
      "cell_type": "markdown",
      "metadata": {
        "id": "RgX9wh4NIUn0"
      },
      "source": [
        "Notice that the filter is only checking the column we specified `Age`, not the other column with `NaN` values"
      ]
    },
    {
      "cell_type": "markdown",
      "metadata": {
        "id": "Igz0A19fIUn0"
      },
      "source": [
        "We can apply the filter by assigning the result back to `df`"
      ]
    },
    {
      "cell_type": "code",
      "execution_count": null,
      "metadata": {
        "id": "ZprSsg9PIUn0",
        "outputId": "1fbf5985-b65e-42d9-cf32-c54577478162"
      },
      "outputs": [
        {
          "data": {
            "text/html": [
              "<div>\n",
              "<style scoped>\n",
              "    .dataframe tbody tr th:only-of-type {\n",
              "        vertical-align: middle;\n",
              "    }\n",
              "\n",
              "    .dataframe tbody tr th {\n",
              "        vertical-align: top;\n",
              "    }\n",
              "\n",
              "    .dataframe thead th {\n",
              "        text-align: right;\n",
              "    }\n",
              "</style>\n",
              "<table border=\"1\" class=\"dataframe\">\n",
              "  <thead>\n",
              "    <tr style=\"text-align: right;\">\n",
              "      <th></th>\n",
              "      <th>Name</th>\n",
              "      <th>Age</th>\n",
              "      <th>Height</th>\n",
              "      <th>Height times 100</th>\n",
              "      <th>Test</th>\n",
              "    </tr>\n",
              "  </thead>\n",
              "  <tbody>\n",
              "    <tr>\n",
              "      <th>0</th>\n",
              "      <td>Nick</td>\n",
              "      <td>21.0</td>\n",
              "      <td>1.85</td>\n",
              "      <td>185.0</td>\n",
              "      <td>22.85</td>\n",
              "    </tr>\n",
              "    <tr>\n",
              "      <th>1</th>\n",
              "      <td>Chris</td>\n",
              "      <td>29.0</td>\n",
              "      <td>NaN</td>\n",
              "      <td>NaN</td>\n",
              "      <td>NaN</td>\n",
              "    </tr>\n",
              "    <tr>\n",
              "      <th>2</th>\n",
              "      <td>Tim</td>\n",
              "      <td>28.0</td>\n",
              "      <td>1.75</td>\n",
              "      <td>175.0</td>\n",
              "      <td>29.75</td>\n",
              "    </tr>\n",
              "    <tr>\n",
              "      <th>4</th>\n",
              "      <td>Monica</td>\n",
              "      <td>35.0</td>\n",
              "      <td>NaN</td>\n",
              "      <td>NaN</td>\n",
              "      <td>NaN</td>\n",
              "    </tr>\n",
              "    <tr>\n",
              "      <th>5</th>\n",
              "      <td>Cassandra</td>\n",
              "      <td>21.0</td>\n",
              "      <td>1.66</td>\n",
              "      <td>166.0</td>\n",
              "      <td>22.66</td>\n",
              "    </tr>\n",
              "  </tbody>\n",
              "</table>\n",
              "</div>"
            ],
            "text/plain": [
              "        Name   Age  Height  Height times 100   Test\n",
              "0       Nick  21.0    1.85             185.0  22.85\n",
              "1      Chris  29.0     NaN               NaN    NaN\n",
              "2        Tim  28.0    1.75             175.0  29.75\n",
              "4     Monica  35.0     NaN               NaN    NaN\n",
              "5  Cassandra  21.0    1.66             166.0  22.66"
            ]
          },
          "execution_count": 35,
          "metadata": {},
          "output_type": "execute_result"
        }
      ],
      "source": [
        "df = df[df['Age'].notnull()]\n",
        "df"
      ]
    },
    {
      "cell_type": "markdown",
      "metadata": {
        "id": "zSoZtTaQIUn0"
      },
      "source": [
        "Since the `Age` column no longer contains any non-integers, it is safe to convert the column to `int64` type"
      ]
    },
    {
      "cell_type": "markdown",
      "metadata": {
        "id": "ET5zImapIUn0"
      },
      "source": [
        "We can do this with the `astype` method"
      ]
    },
    {
      "cell_type": "code",
      "execution_count": null,
      "metadata": {
        "id": "PCbglV8TIUn0",
        "outputId": "12bf17c6-a335-476b-b4fa-5dd8eac64976"
      },
      "outputs": [
        {
          "data": {
            "text/html": [
              "<div>\n",
              "<style scoped>\n",
              "    .dataframe tbody tr th:only-of-type {\n",
              "        vertical-align: middle;\n",
              "    }\n",
              "\n",
              "    .dataframe tbody tr th {\n",
              "        vertical-align: top;\n",
              "    }\n",
              "\n",
              "    .dataframe thead th {\n",
              "        text-align: right;\n",
              "    }\n",
              "</style>\n",
              "<table border=\"1\" class=\"dataframe\">\n",
              "  <thead>\n",
              "    <tr style=\"text-align: right;\">\n",
              "      <th></th>\n",
              "      <th>Name</th>\n",
              "      <th>Age</th>\n",
              "      <th>Height</th>\n",
              "      <th>Height times 100</th>\n",
              "      <th>Test</th>\n",
              "    </tr>\n",
              "  </thead>\n",
              "  <tbody>\n",
              "    <tr>\n",
              "      <th>0</th>\n",
              "      <td>Nick</td>\n",
              "      <td>21</td>\n",
              "      <td>1.85</td>\n",
              "      <td>185.0</td>\n",
              "      <td>22.85</td>\n",
              "    </tr>\n",
              "    <tr>\n",
              "      <th>1</th>\n",
              "      <td>Chris</td>\n",
              "      <td>29</td>\n",
              "      <td>NaN</td>\n",
              "      <td>NaN</td>\n",
              "      <td>NaN</td>\n",
              "    </tr>\n",
              "    <tr>\n",
              "      <th>2</th>\n",
              "      <td>Tim</td>\n",
              "      <td>28</td>\n",
              "      <td>1.75</td>\n",
              "      <td>175.0</td>\n",
              "      <td>29.75</td>\n",
              "    </tr>\n",
              "    <tr>\n",
              "      <th>4</th>\n",
              "      <td>Monica</td>\n",
              "      <td>35</td>\n",
              "      <td>NaN</td>\n",
              "      <td>NaN</td>\n",
              "      <td>NaN</td>\n",
              "    </tr>\n",
              "    <tr>\n",
              "      <th>5</th>\n",
              "      <td>Cassandra</td>\n",
              "      <td>21</td>\n",
              "      <td>1.66</td>\n",
              "      <td>166.0</td>\n",
              "      <td>22.66</td>\n",
              "    </tr>\n",
              "  </tbody>\n",
              "</table>\n",
              "</div>"
            ],
            "text/plain": [
              "        Name  Age  Height  Height times 100   Test\n",
              "0       Nick   21    1.85             185.0  22.85\n",
              "1      Chris   29     NaN               NaN    NaN\n",
              "2        Tim   28    1.75             175.0  29.75\n",
              "4     Monica   35     NaN               NaN    NaN\n",
              "5  Cassandra   21    1.66             166.0  22.66"
            ]
          },
          "execution_count": 36,
          "metadata": {},
          "output_type": "execute_result"
        }
      ],
      "source": [
        "df = df.astype({'Age': 'int64'})\n",
        "df"
      ]
    },
    {
      "cell_type": "markdown",
      "metadata": {
        "id": "8G52BjRDIUn1"
      },
      "source": [
        "### Updating Indices"
      ]
    },
    {
      "cell_type": "markdown",
      "metadata": {
        "id": "y63YgFkrIUn1"
      },
      "source": [
        "After these operations, the current data frame has the index 0, 1, 2, 4, 5"
      ]
    },
    {
      "cell_type": "markdown",
      "metadata": {
        "id": "ld5qk4bBIUn1"
      },
      "source": [
        "We could leave it like this, being careful to select the correct rows with `loc`. However, we can also reset the index with `reset_index`"
      ]
    },
    {
      "cell_type": "markdown",
      "metadata": {
        "id": "6UrDKjXYIUn1"
      },
      "source": [
        "Note that we need to specify `drop=True`, without this we will end up with an extra column with the old index"
      ]
    },
    {
      "cell_type": "code",
      "execution_count": null,
      "metadata": {
        "id": "Gr9RvqpiIUn1",
        "outputId": "98f604f8-cb69-40ec-e7c3-9f94315167f6"
      },
      "outputs": [
        {
          "data": {
            "text/html": [
              "<div>\n",
              "<style scoped>\n",
              "    .dataframe tbody tr th:only-of-type {\n",
              "        vertical-align: middle;\n",
              "    }\n",
              "\n",
              "    .dataframe tbody tr th {\n",
              "        vertical-align: top;\n",
              "    }\n",
              "\n",
              "    .dataframe thead th {\n",
              "        text-align: right;\n",
              "    }\n",
              "</style>\n",
              "<table border=\"1\" class=\"dataframe\">\n",
              "  <thead>\n",
              "    <tr style=\"text-align: right;\">\n",
              "      <th></th>\n",
              "      <th>Name</th>\n",
              "      <th>Age</th>\n",
              "      <th>Height</th>\n",
              "      <th>Height times 100</th>\n",
              "      <th>Test</th>\n",
              "    </tr>\n",
              "  </thead>\n",
              "  <tbody>\n",
              "    <tr>\n",
              "      <th>0</th>\n",
              "      <td>Nick</td>\n",
              "      <td>21</td>\n",
              "      <td>1.85</td>\n",
              "      <td>185.0</td>\n",
              "      <td>22.85</td>\n",
              "    </tr>\n",
              "    <tr>\n",
              "      <th>1</th>\n",
              "      <td>Chris</td>\n",
              "      <td>29</td>\n",
              "      <td>NaN</td>\n",
              "      <td>NaN</td>\n",
              "      <td>NaN</td>\n",
              "    </tr>\n",
              "    <tr>\n",
              "      <th>2</th>\n",
              "      <td>Tim</td>\n",
              "      <td>28</td>\n",
              "      <td>1.75</td>\n",
              "      <td>175.0</td>\n",
              "      <td>29.75</td>\n",
              "    </tr>\n",
              "    <tr>\n",
              "      <th>3</th>\n",
              "      <td>Monica</td>\n",
              "      <td>35</td>\n",
              "      <td>NaN</td>\n",
              "      <td>NaN</td>\n",
              "      <td>NaN</td>\n",
              "    </tr>\n",
              "    <tr>\n",
              "      <th>4</th>\n",
              "      <td>Cassandra</td>\n",
              "      <td>21</td>\n",
              "      <td>1.66</td>\n",
              "      <td>166.0</td>\n",
              "      <td>22.66</td>\n",
              "    </tr>\n",
              "  </tbody>\n",
              "</table>\n",
              "</div>"
            ],
            "text/plain": [
              "        Name  Age  Height  Height times 100   Test\n",
              "0       Nick   21    1.85             185.0  22.85\n",
              "1      Chris   29     NaN               NaN    NaN\n",
              "2        Tim   28    1.75             175.0  29.75\n",
              "3     Monica   35     NaN               NaN    NaN\n",
              "4  Cassandra   21    1.66             166.0  22.66"
            ]
          },
          "execution_count": 37,
          "metadata": {},
          "output_type": "execute_result"
        }
      ],
      "source": [
        "df = df.reset_index(drop=True)\n",
        "df"
      ]
    },
    {
      "cell_type": "markdown",
      "metadata": {
        "id": "a5OQylXBIUn1"
      },
      "source": [
        "Alternatively, we can set the index to a particular column if we don't want default indexing"
      ]
    },
    {
      "cell_type": "code",
      "execution_count": null,
      "metadata": {
        "id": "S6wx9fLMIUn1",
        "outputId": "646cceb0-fa10-4be9-81f8-896e35790698"
      },
      "outputs": [
        {
          "data": {
            "text/html": [
              "<div>\n",
              "<style scoped>\n",
              "    .dataframe tbody tr th:only-of-type {\n",
              "        vertical-align: middle;\n",
              "    }\n",
              "\n",
              "    .dataframe tbody tr th {\n",
              "        vertical-align: top;\n",
              "    }\n",
              "\n",
              "    .dataframe thead th {\n",
              "        text-align: right;\n",
              "    }\n",
              "</style>\n",
              "<table border=\"1\" class=\"dataframe\">\n",
              "  <thead>\n",
              "    <tr style=\"text-align: right;\">\n",
              "      <th></th>\n",
              "      <th>Age</th>\n",
              "      <th>Height</th>\n",
              "      <th>Height times 100</th>\n",
              "      <th>Test</th>\n",
              "    </tr>\n",
              "    <tr>\n",
              "      <th>Name</th>\n",
              "      <th></th>\n",
              "      <th></th>\n",
              "      <th></th>\n",
              "      <th></th>\n",
              "    </tr>\n",
              "  </thead>\n",
              "  <tbody>\n",
              "    <tr>\n",
              "      <th>Nick</th>\n",
              "      <td>21</td>\n",
              "      <td>1.85</td>\n",
              "      <td>185.0</td>\n",
              "      <td>22.85</td>\n",
              "    </tr>\n",
              "    <tr>\n",
              "      <th>Chris</th>\n",
              "      <td>29</td>\n",
              "      <td>NaN</td>\n",
              "      <td>NaN</td>\n",
              "      <td>NaN</td>\n",
              "    </tr>\n",
              "    <tr>\n",
              "      <th>Tim</th>\n",
              "      <td>28</td>\n",
              "      <td>1.75</td>\n",
              "      <td>175.0</td>\n",
              "      <td>29.75</td>\n",
              "    </tr>\n",
              "    <tr>\n",
              "      <th>Monica</th>\n",
              "      <td>35</td>\n",
              "      <td>NaN</td>\n",
              "      <td>NaN</td>\n",
              "      <td>NaN</td>\n",
              "    </tr>\n",
              "    <tr>\n",
              "      <th>Cassandra</th>\n",
              "      <td>21</td>\n",
              "      <td>1.66</td>\n",
              "      <td>166.0</td>\n",
              "      <td>22.66</td>\n",
              "    </tr>\n",
              "  </tbody>\n",
              "</table>\n",
              "</div>"
            ],
            "text/plain": [
              "           Age  Height  Height times 100   Test\n",
              "Name                                           \n",
              "Nick        21    1.85             185.0  22.85\n",
              "Chris       29     NaN               NaN    NaN\n",
              "Tim         28    1.75             175.0  29.75\n",
              "Monica      35     NaN               NaN    NaN\n",
              "Cassandra   21    1.66             166.0  22.66"
            ]
          },
          "execution_count": 38,
          "metadata": {},
          "output_type": "execute_result"
        }
      ],
      "source": [
        "df = df.set_index('Name')\n",
        "df"
      ]
    },
    {
      "cell_type": "markdown",
      "metadata": {
        "id": "_SqzlAj1IUn1"
      },
      "source": [
        "Say we want to go with **option 4** and replace missing `Height` with a computed value"
      ]
    },
    {
      "cell_type": "markdown",
      "metadata": {
        "id": "i05edWQTIUn1"
      },
      "source": [
        "In this example we simply calculate the mean height of other people in the data set (to the nearest cm)"
      ]
    },
    {
      "cell_type": "markdown",
      "metadata": {
        "id": "4n5uiojaIUn2"
      },
      "source": [
        "**Note:** The `mean` method just ignores the missing data and gives us the average of the non-missing data, which is what we want"
      ]
    },
    {
      "cell_type": "code",
      "execution_count": null,
      "metadata": {
        "cell_style": "split",
        "id": "Xz4vsSLyIUn2",
        "outputId": "6b51feac-a458-4434-c9fb-03c3943732e8"
      },
      "outputs": [
        {
          "data": {
            "text/plain": [
              "np.float64(1.7533333333333332)"
            ]
          },
          "execution_count": 39,
          "metadata": {},
          "output_type": "execute_result"
        }
      ],
      "source": [
        "mean_height = df['Height'].mean()\n",
        "mean_height"
      ]
    },
    {
      "cell_type": "code",
      "execution_count": null,
      "metadata": {
        "cell_style": "split",
        "id": "P9P0ZAqNIUn2",
        "outputId": "fee9585a-83fa-46ab-a557-e98a3f62589f"
      },
      "outputs": [
        {
          "data": {
            "text/plain": [
              "np.float64(1.75)"
            ]
          },
          "execution_count": 40,
          "metadata": {},
          "output_type": "execute_result"
        }
      ],
      "source": [
        "mean_height = round(mean_height, 2)\n",
        "mean_height"
      ]
    },
    {
      "cell_type": "markdown",
      "metadata": {
        "id": "_kNGTGZvIUn2"
      },
      "source": [
        "Of course there are many more sophisticated ways to predict a replacement value!"
      ]
    },
    {
      "cell_type": "markdown",
      "metadata": {
        "id": "P6UMclP5IUn2"
      },
      "source": [
        "For instance, could fit a regression with `Age`"
      ]
    },
    {
      "cell_type": "markdown",
      "metadata": {
        "id": "HHqYoNeWIUn2"
      },
      "source": [
        "Or if we had categories such as `Gender` we could group by categories and do predictions for each"
      ]
    },
    {
      "cell_type": "markdown",
      "metadata": {
        "id": "uaCcef6HIUn3"
      },
      "source": [
        "In this example we will just use `1.75` for every missing value."
      ]
    },
    {
      "cell_type": "code",
      "execution_count": null,
      "metadata": {
        "id": "EFnZ4uQQIUn3",
        "outputId": "1d2ef0df-5975-4319-ef19-cd828bb2549a"
      },
      "outputs": [
        {
          "data": {
            "text/html": [
              "<div>\n",
              "<style scoped>\n",
              "    .dataframe tbody tr th:only-of-type {\n",
              "        vertical-align: middle;\n",
              "    }\n",
              "\n",
              "    .dataframe tbody tr th {\n",
              "        vertical-align: top;\n",
              "    }\n",
              "\n",
              "    .dataframe thead th {\n",
              "        text-align: right;\n",
              "    }\n",
              "</style>\n",
              "<table border=\"1\" class=\"dataframe\">\n",
              "  <thead>\n",
              "    <tr style=\"text-align: right;\">\n",
              "      <th></th>\n",
              "      <th>Age</th>\n",
              "      <th>Height</th>\n",
              "      <th>Height times 100</th>\n",
              "      <th>Test</th>\n",
              "    </tr>\n",
              "    <tr>\n",
              "      <th>Name</th>\n",
              "      <th></th>\n",
              "      <th></th>\n",
              "      <th></th>\n",
              "      <th></th>\n",
              "    </tr>\n",
              "  </thead>\n",
              "  <tbody>\n",
              "    <tr>\n",
              "      <th>Nick</th>\n",
              "      <td>21</td>\n",
              "      <td>1.85</td>\n",
              "      <td>185.0</td>\n",
              "      <td>22.85</td>\n",
              "    </tr>\n",
              "    <tr>\n",
              "      <th>Chris</th>\n",
              "      <td>29</td>\n",
              "      <td>1.75</td>\n",
              "      <td>175.0</td>\n",
              "      <td>NaN</td>\n",
              "    </tr>\n",
              "    <tr>\n",
              "      <th>Tim</th>\n",
              "      <td>28</td>\n",
              "      <td>1.75</td>\n",
              "      <td>175.0</td>\n",
              "      <td>29.75</td>\n",
              "    </tr>\n",
              "    <tr>\n",
              "      <th>Monica</th>\n",
              "      <td>35</td>\n",
              "      <td>1.75</td>\n",
              "      <td>175.0</td>\n",
              "      <td>NaN</td>\n",
              "    </tr>\n",
              "    <tr>\n",
              "      <th>Cassandra</th>\n",
              "      <td>21</td>\n",
              "      <td>1.66</td>\n",
              "      <td>166.0</td>\n",
              "      <td>22.66</td>\n",
              "    </tr>\n",
              "  </tbody>\n",
              "</table>\n",
              "</div>"
            ],
            "text/plain": [
              "           Age  Height  Height times 100   Test\n",
              "Name                                           \n",
              "Nick        21    1.85             185.0  22.85\n",
              "Chris       29    1.75             175.0    NaN\n",
              "Tim         28    1.75             175.0  29.75\n",
              "Monica      35    1.75             175.0    NaN\n",
              "Cassandra   21    1.66             166.0  22.66"
            ]
          },
          "execution_count": 41,
          "metadata": {},
          "output_type": "execute_result"
        }
      ],
      "source": [
        "df = df.fillna({'Height' : mean_height, 'Height times 100':175})\n",
        "df"
      ]
    },
    {
      "cell_type": "markdown",
      "metadata": {
        "id": "zDI-9i2zIUn3"
      },
      "source": [
        "## Lab"
      ]
    }
  ],
  "metadata": {
    "celltoolbar": "Slideshow",
    "hide_input": false,
    "kernelspec": {
      "display_name": "Python 3 (ipykernel)",
      "language": "python",
      "name": "python3"
    },
    "language_info": {
      "codemirror_mode": {
        "name": "ipython",
        "version": 3
      },
      "file_extension": ".py",
      "mimetype": "text/x-python",
      "name": "python",
      "nbconvert_exporter": "python",
      "pygments_lexer": "ipython3",
      "version": "3.11.11"
    },
    "rise": {
      "enable_chalkboard": true,
      "scroll": true
    },
    "varInspector": {
      "cols": {
        "lenName": 16,
        "lenType": 16,
        "lenVar": 40
      },
      "kernels_config": {
        "python": {
          "delete_cmd_postfix": "",
          "delete_cmd_prefix": "del ",
          "library": "var_list.py",
          "varRefreshCmd": "print(var_dic_list())"
        },
        "r": {
          "delete_cmd_postfix": ") ",
          "delete_cmd_prefix": "rm(",
          "library": "var_list.r",
          "varRefreshCmd": "cat(var_dic_list()) "
        }
      },
      "types_to_exclude": [
        "module",
        "function",
        "builtin_function_or_method",
        "instance",
        "_Feature"
      ],
      "window_display": false
    },
    "colab": {
      "provenance": [],
      "include_colab_link": true
    }
  },
  "nbformat": 4,
  "nbformat_minor": 0
}