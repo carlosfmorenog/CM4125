{
  "cells": [
    {
      "cell_type": "markdown",
      "metadata": {
        "id": "view-in-github",
        "colab_type": "text"
      },
      "source": [
        "<a href=\"https://colab.research.google.com/github/carlosfmorenog/CM4125/blob/main/CM4125%20T1/CM4125_Lab1_Python_solved.ipynb\" target=\"_parent\"><img src=\"https://colab.research.google.com/assets/colab-badge.svg\" alt=\"Open In Colab\"/></a>"
      ]
    },
    {
      "cell_type": "markdown",
      "metadata": {
        "papermill": {
          "duration": 0.019562,
          "end_time": "2021-09-20T15:44:20.028436",
          "exception": false,
          "start_time": "2021-09-20T15:44:20.008874",
          "status": "completed"
        },
        "tags": [],
        "id": "UzNeRNyr4hy1"
      },
      "source": [
        "# Topic 1 Lab Data Viz Tutorial (Python)"
      ],
      "id": "UzNeRNyr4hy1"
    },
    {
      "cell_type": "markdown",
      "metadata": {
        "papermill": {
          "duration": 0.01475,
          "end_time": "2021-09-20T15:44:20.061862",
          "exception": false,
          "start_time": "2021-09-20T15:44:20.047112",
          "status": "completed"
        },
        "tags": [],
        "id": "p4KpFi6o4hy3"
      },
      "source": [
        "In this tutorial, you will learn the basics on how to load data and do simple plots using **Python**."
      ],
      "id": "p4KpFi6o4hy3"
    },
    {
      "cell_type": "markdown",
      "metadata": {
        "papermill": {
          "duration": 0.014738,
          "end_time": "2021-09-20T15:44:20.091260",
          "exception": false,
          "start_time": "2021-09-20T15:44:20.076522",
          "status": "completed"
        },
        "tags": [],
        "id": "XkAmPnvS4hy5"
      },
      "source": [
        "When you download this notebook, save it **together with the two .csv files**!"
      ],
      "id": "XkAmPnvS4hy5"
    },
    {
      "cell_type": "markdown",
      "metadata": {
        "papermill": {
          "duration": 0.014259,
          "end_time": "2021-09-20T15:44:20.120022",
          "exception": false,
          "start_time": "2021-09-20T15:44:20.105763",
          "status": "completed"
        },
        "tags": [],
        "id": "yn1xHbRR4hy7"
      },
      "source": [
        "Now, to load the data files, we will use a **Python Module** calles *Pandas*, which simulates data frames as used in R and spreadsheets in Excel/SPSS/Stata/etc. Run the following cell (i.e. press play) to import this module"
      ],
      "id": "yn1xHbRR4hy7"
    },
    {
      "cell_type": "code",
      "execution_count": null,
      "metadata": {
        "execution": {
          "iopub.execute_input": "2021-09-20T15:44:20.157498Z",
          "iopub.status.busy": "2021-09-20T15:44:20.155920Z",
          "iopub.status.idle": "2021-09-20T15:44:20.167733Z",
          "shell.execute_reply": "2021-09-20T15:44:20.168163Z",
          "shell.execute_reply.started": "2021-09-20T15:40:50.480690Z"
        },
        "papermill": {
          "duration": 0.033799,
          "end_time": "2021-09-20T15:44:20.168496",
          "exception": false,
          "start_time": "2021-09-20T15:44:20.134697",
          "status": "completed"
        },
        "tags": [],
        "id": "ZbkB4QzP4hy_"
      },
      "outputs": [],
      "source": [
        "import pandas as pd"
      ],
      "id": "ZbkB4QzP4hy_"
    },
    {
      "cell_type": "markdown",
      "metadata": {
        "papermill": {
          "duration": 0.016694,
          "end_time": "2021-09-20T15:44:20.201643",
          "exception": false,
          "start_time": "2021-09-20T15:44:20.184949",
          "status": "completed"
        },
        "tags": [],
        "id": "1cMn8KHe4hzC"
      },
      "source": [
        "Now to load both files into *Pandas Data Frames*, run the following cells"
      ],
      "id": "1cMn8KHe4hzC"
    },
    {
      "cell_type": "code",
      "execution_count": null,
      "metadata": {
        "execution": {
          "iopub.execute_input": "2021-09-20T15:44:20.235441Z",
          "iopub.status.busy": "2021-09-20T15:44:20.234503Z",
          "iopub.status.idle": "2021-09-20T15:44:20.348823Z",
          "shell.execute_reply": "2021-09-20T15:44:20.348307Z",
          "shell.execute_reply.started": "2021-09-20T15:40:50.501198Z"
        },
        "papermill": {
          "duration": 0.131772,
          "end_time": "2021-09-20T15:44:20.348965",
          "exception": false,
          "start_time": "2021-09-20T15:44:20.217193",
          "status": "completed"
        },
        "tags": [],
        "id": "hkBK2IsY4hzD"
      },
      "outputs": [],
      "source": [
        "temp = pd.read_csv('https://www.dropbox.com/scl/fi/tyykkeny08nlxyu2e5jk0/temp.csv?rlkey=43vb1q1xbc1dpv6od22ysj3fp&raw=1')"
      ],
      "id": "hkBK2IsY4hzD"
    },
    {
      "cell_type": "code",
      "execution_count": null,
      "metadata": {
        "execution": {
          "iopub.execute_input": "2021-09-20T15:44:20.385558Z",
          "iopub.status.busy": "2021-09-20T15:44:20.384562Z",
          "iopub.status.idle": "2021-09-20T15:44:20.400509Z",
          "shell.execute_reply": "2021-09-20T15:44:20.401004Z",
          "shell.execute_reply.started": "2021-09-20T15:40:50.610289Z"
        },
        "papermill": {
          "duration": 0.037213,
          "end_time": "2021-09-20T15:44:20.401170",
          "exception": false,
          "start_time": "2021-09-20T15:44:20.363957",
          "status": "completed"
        },
        "tags": [],
        "id": "LRWVF5aN4hzE"
      },
      "outputs": [],
      "source": [
        "pirates = pd.read_csv('https://www.dropbox.com/scl/fi/lsnm8nofjrqocsy0lu8q5/pirates.csv?rlkey=9w8htxq0xh52iegrzhgqh4kpm&raw=1')"
      ],
      "id": "LRWVF5aN4hzE"
    },
    {
      "cell_type": "markdown",
      "metadata": {
        "papermill": {
          "duration": 0.016445,
          "end_time": "2021-09-20T15:44:20.434040",
          "exception": false,
          "start_time": "2021-09-20T15:44:20.417595",
          "status": "completed"
        },
        "tags": [],
        "id": "qDSHVt2d4hzG"
      },
      "source": [
        "You can see the contents of the two variables by **writing the name** (if you use the `print` function, they won't appear as neat as in the following cells)"
      ],
      "id": "qDSHVt2d4hzG"
    },
    {
      "cell_type": "code",
      "execution_count": null,
      "metadata": {
        "execution": {
          "iopub.execute_input": "2021-09-20T15:44:20.472608Z",
          "iopub.status.busy": "2021-09-20T15:44:20.471950Z",
          "iopub.status.idle": "2021-09-20T15:44:20.488561Z",
          "shell.execute_reply": "2021-09-20T15:44:20.489007Z",
          "shell.execute_reply.started": "2021-09-20T15:40:50.626623Z"
        },
        "papermill": {
          "duration": 0.040599,
          "end_time": "2021-09-20T15:44:20.489168",
          "exception": false,
          "start_time": "2021-09-20T15:44:20.448569",
          "status": "completed"
        },
        "tags": [],
        "id": "VWa3whYn4hzH"
      },
      "outputs": [],
      "source": [
        "temp"
      ],
      "id": "VWa3whYn4hzH"
    },
    {
      "cell_type": "code",
      "execution_count": null,
      "metadata": {
        "execution": {
          "iopub.execute_input": "2021-09-20T15:44:20.522968Z",
          "iopub.status.busy": "2021-09-20T15:44:20.522388Z",
          "iopub.status.idle": "2021-09-20T15:44:20.529891Z",
          "shell.execute_reply": "2021-09-20T15:44:20.530363Z",
          "shell.execute_reply.started": "2021-09-20T15:40:50.650924Z"
        },
        "papermill": {
          "duration": 0.025767,
          "end_time": "2021-09-20T15:44:20.530533",
          "exception": false,
          "start_time": "2021-09-20T15:44:20.504766",
          "status": "completed"
        },
        "tags": [],
        "id": "amrM8UwJ4hzI"
      },
      "outputs": [],
      "source": [
        "pirates"
      ],
      "id": "amrM8UwJ4hzI"
    },
    {
      "cell_type": "markdown",
      "metadata": {
        "papermill": {
          "duration": 0.015134,
          "end_time": "2021-09-20T15:44:20.561152",
          "exception": false,
          "start_time": "2021-09-20T15:44:20.546018",
          "status": "completed"
        },
        "tags": [],
        "id": "fXkQqgFl4hzK"
      },
      "source": [
        "Given that we have two tables with the same amount of rows (but particularly the *same* year for each data entry), we can create a single data frame with all the data on it!"
      ],
      "id": "fXkQqgFl4hzK"
    },
    {
      "cell_type": "markdown",
      "metadata": {
        "papermill": {
          "duration": 0.015166,
          "end_time": "2021-09-20T15:44:20.591771",
          "exception": false,
          "start_time": "2021-09-20T15:44:20.576605",
          "status": "completed"
        },
        "tags": [],
        "id": "MqDFYrfI4hzL"
      },
      "source": [
        "We will see many ways to do this later on during the module, but for the time being, we will **concatenate** the colums we need into a variable calles `df`:"
      ],
      "id": "MqDFYrfI4hzL"
    },
    {
      "cell_type": "code",
      "execution_count": null,
      "metadata": {
        "execution": {
          "iopub.execute_input": "2021-09-20T15:44:20.625519Z",
          "iopub.status.busy": "2021-09-20T15:44:20.624825Z",
          "iopub.status.idle": "2021-09-20T15:44:20.636014Z",
          "shell.execute_reply": "2021-09-20T15:44:20.635524Z",
          "shell.execute_reply.started": "2021-09-20T15:40:50.661364Z"
        },
        "papermill": {
          "duration": 0.029053,
          "end_time": "2021-09-20T15:44:20.636145",
          "exception": false,
          "start_time": "2021-09-20T15:44:20.607092",
          "status": "completed"
        },
        "tags": [],
        "id": "kkoSkTE14hzM"
      },
      "outputs": [],
      "source": [
        "df = pd.concat([temp, pirates], axis=1)\n",
        "df"
      ],
      "id": "kkoSkTE14hzM"
    },
    {
      "cell_type": "markdown",
      "metadata": {
        "papermill": {
          "duration": 0.015882,
          "end_time": "2021-09-20T15:44:20.668520",
          "exception": false,
          "start_time": "2021-09-20T15:44:20.652638",
          "status": "completed"
        },
        "tags": [],
        "id": "okyBpqG_4hzQ"
      },
      "source": [
        "Unfortunately, the `Year` column has been duplicated! This can be avoided through several other operations, but for now on we will simply **drop duplicates** with a built-in Pandas function:"
      ],
      "id": "okyBpqG_4hzQ"
    },
    {
      "cell_type": "code",
      "execution_count": null,
      "metadata": {
        "execution": {
          "iopub.execute_input": "2021-09-20T15:44:20.704527Z",
          "iopub.status.busy": "2021-09-20T15:44:20.703876Z",
          "iopub.status.idle": "2021-09-20T15:44:20.717535Z",
          "shell.execute_reply": "2021-09-20T15:44:20.716911Z",
          "shell.execute_reply.started": "2021-09-20T15:40:50.682765Z"
        },
        "papermill": {
          "duration": 0.032128,
          "end_time": "2021-09-20T15:44:20.717668",
          "exception": false,
          "start_time": "2021-09-20T15:44:20.685540",
          "status": "completed"
        },
        "tags": [],
        "id": "HEAnScGz4hzR"
      },
      "outputs": [],
      "source": [
        "df = df.loc[:,~df.columns.duplicated()]\n",
        "df"
      ],
      "id": "HEAnScGz4hzR"
    },
    {
      "cell_type": "markdown",
      "metadata": {
        "papermill": {
          "duration": 0.015765,
          "end_time": "2021-09-20T15:44:20.749592",
          "exception": false,
          "start_time": "2021-09-20T15:44:20.733827",
          "status": "completed"
        },
        "tags": [],
        "id": "LlhIfeu34hzU"
      },
      "source": [
        "Now it's time to plot! Firstly, we will import the **Matplotlib** module, which allows us to draw plots easily:"
      ],
      "id": "LlhIfeu34hzU"
    },
    {
      "cell_type": "code",
      "execution_count": null,
      "metadata": {
        "execution": {
          "iopub.execute_input": "2021-09-20T15:44:20.786237Z",
          "iopub.status.busy": "2021-09-20T15:44:20.785492Z",
          "iopub.status.idle": "2021-09-20T15:44:20.787358Z",
          "shell.execute_reply": "2021-09-20T15:44:20.787773Z",
          "shell.execute_reply.started": "2021-09-20T15:40:50.705131Z"
        },
        "papermill": {
          "duration": 0.022292,
          "end_time": "2021-09-20T15:44:20.787927",
          "exception": false,
          "start_time": "2021-09-20T15:44:20.765635",
          "status": "completed"
        },
        "tags": [],
        "id": "FFKZ3FWd4hzV"
      },
      "outputs": [],
      "source": [
        "import matplotlib.pyplot as plt"
      ],
      "id": "FFKZ3FWd4hzV"
    },
    {
      "cell_type": "markdown",
      "metadata": {
        "papermill": {
          "duration": 0.016081,
          "end_time": "2021-09-20T15:44:20.820449",
          "exception": false,
          "start_time": "2021-09-20T15:44:20.804368",
          "status": "completed"
        },
        "tags": [],
        "id": "pjtxmez24hzV"
      },
      "source": [
        "Then, we will define a *scatterplot* with the pirates in the x axis, the temperature in the y axis"
      ],
      "id": "pjtxmez24hzV"
    },
    {
      "cell_type": "code",
      "execution_count": null,
      "metadata": {
        "execution": {
          "iopub.execute_input": "2021-09-20T15:44:20.855242Z",
          "iopub.status.busy": "2021-09-20T15:44:20.854696Z",
          "iopub.status.idle": "2021-09-20T15:44:21.060875Z",
          "shell.execute_reply": "2021-09-20T15:44:21.060315Z",
          "shell.execute_reply.started": "2021-09-20T15:40:50.713132Z"
        },
        "papermill": {
          "duration": 0.224591,
          "end_time": "2021-09-20T15:44:21.061010",
          "exception": false,
          "start_time": "2021-09-20T15:44:20.836419",
          "status": "completed"
        },
        "scrolled": true,
        "tags": [],
        "id": "JygtWkdl4hzW"
      },
      "outputs": [],
      "source": [
        "plt.scatter(df['Number of Pirates (Approximate)'], df['Global Average Temperature (Celsius)'])"
      ],
      "id": "JygtWkdl4hzW"
    },
    {
      "cell_type": "markdown",
      "metadata": {
        "papermill": {
          "duration": 0.017226,
          "end_time": "2021-09-20T15:44:21.095562",
          "exception": false,
          "start_time": "2021-09-20T15:44:21.078336",
          "status": "completed"
        },
        "tags": [],
        "id": "2JUbZAMQ4hzX"
      },
      "source": [
        "The difference between this plot and the first Pastafarian one is that, if the year is not considered, then Python (and almost any other plotting tool) will sort the points throughout the x-axis and not by year."
      ],
      "id": "2JUbZAMQ4hzX"
    },
    {
      "cell_type": "markdown",
      "metadata": {
        "papermill": {
          "duration": 0.016988,
          "end_time": "2021-09-20T15:44:21.130125",
          "exception": false,
          "start_time": "2021-09-20T15:44:21.113137",
          "status": "completed"
        },
        "tags": [],
        "id": "i5zSgkrc4hzY"
      },
      "source": [
        "This is because, in reality, the first Pastafarian plot is more like a \"bar chart\" where the number of pirates act as discrete categories ordered by year, and the temperature is the value on the y axis!"
      ],
      "id": "i5zSgkrc4hzY"
    },
    {
      "cell_type": "markdown",
      "metadata": {
        "papermill": {
          "duration": 0.017197,
          "end_time": "2021-09-20T15:44:21.164750",
          "exception": false,
          "start_time": "2021-09-20T15:44:21.147553",
          "status": "completed"
        },
        "tags": [],
        "id": "4PUrOHnk4hzY"
      },
      "source": [
        "Therefore, we need to create a plot that mimics this design:"
      ],
      "id": "4PUrOHnk4hzY"
    },
    {
      "cell_type": "code",
      "execution_count": null,
      "metadata": {
        "execution": {
          "iopub.execute_input": "2021-09-20T15:44:21.223253Z",
          "iopub.status.busy": "2021-09-20T15:44:21.221581Z",
          "iopub.status.idle": "2021-09-20T15:44:21.338175Z",
          "shell.execute_reply": "2021-09-20T15:44:21.337584Z",
          "shell.execute_reply.started": "2021-09-20T15:40:50.930753Z"
        },
        "papermill": {
          "duration": 0.155309,
          "end_time": "2021-09-20T15:44:21.338306",
          "exception": false,
          "start_time": "2021-09-20T15:44:21.182997",
          "status": "completed"
        },
        "tags": [],
        "id": "ZBQ42FMR4hzZ"
      },
      "outputs": [],
      "source": [
        "# First we convert the pirate data into strings so that matplotlib doesn't want to sort them\n",
        "xaxis = [str(i) for i in df['Number of Pirates (Approximate)']]\n",
        "plt.plot(xaxis,df['Global Average Temperature (Celsius)'],'--bo')\n",
        "plt.title('Global Temp vs Pirates')\n",
        "plt.xlabel('Number of Pirates (Approximate)')\n",
        "plt.ylabel('Global Average Temperature (Celsius)')\n",
        "plt.ylim(13,16.5)\n",
        "plt.show()"
      ],
      "id": "ZBQ42FMR4hzZ"
    },
    {
      "cell_type": "markdown",
      "metadata": {
        "papermill": {
          "duration": 0.017432,
          "end_time": "2021-09-20T15:44:21.373857",
          "exception": false,
          "start_time": "2021-09-20T15:44:21.356425",
          "status": "completed"
        },
        "tags": [],
        "id": "JQ0HsWnp4hzb"
      },
      "source": [
        "**BONUS: CAN YOU ADD THE YEARS ON TOP OF EACH DOT?**"
      ],
      "id": "JQ0HsWnp4hzb"
    },
    {
      "cell_type": "code",
      "execution_count": null,
      "metadata": {
        "execution": {
          "iopub.execute_input": "2021-09-20T15:44:21.414784Z",
          "iopub.status.busy": "2021-09-20T15:44:21.414157Z",
          "iopub.status.idle": "2021-09-20T15:44:23.745906Z",
          "shell.execute_reply": "2021-09-20T15:44:23.745405Z",
          "shell.execute_reply.started": "2021-09-20T15:43:39.915979Z"
        },
        "papermill": {
          "duration": 2.354273,
          "end_time": "2021-09-20T15:44:23.746040",
          "exception": false,
          "start_time": "2021-09-20T15:44:21.391767",
          "status": "completed"
        },
        "scrolled": true,
        "tags": [],
        "id": "k13zW-jd4hzb"
      },
      "outputs": [],
      "source": [
        "# I used plotly express (which I recommend you to use if you are considering to use Python for your coursework)\n",
        "import plotly.express as px\n",
        "fig = px.line(x=xaxis, y=df['Global Average Temperature (Celsius)'], text=df['Year'],\n",
        "              labels={\n",
        "                     \"x\": \"Number of Pirates (Approximate)\",\n",
        "                     \"y\": \"Global Average Temperature (Celsius)\"\n",
        "                 }\n",
        "              )\n",
        "fig.update_traces(textposition='top center')\n",
        "fig.show()"
      ],
      "id": "k13zW-jd4hzb"
    },
    {
      "cell_type": "markdown",
      "metadata": {
        "papermill": {
          "duration": 0.018696,
          "end_time": "2021-09-20T15:44:23.784109",
          "exception": false,
          "start_time": "2021-09-20T15:44:23.765413",
          "status": "completed"
        },
        "tags": [],
        "id": "Uk1B1uUX4hzc"
      },
      "source": [
        "To plot the second version of the Pastafarian plot (i.e. the two lines), we can use Matplotliib as well:"
      ],
      "id": "Uk1B1uUX4hzc"
    },
    {
      "cell_type": "code",
      "execution_count": null,
      "metadata": {
        "execution": {
          "iopub.execute_input": "2021-09-20T15:44:23.840238Z",
          "iopub.status.busy": "2021-09-20T15:44:23.839632Z",
          "iopub.status.idle": "2021-09-20T15:44:23.970497Z",
          "shell.execute_reply": "2021-09-20T15:44:23.969967Z",
          "shell.execute_reply.started": "2021-09-20T15:40:51.122593Z"
        },
        "papermill": {
          "duration": 0.167648,
          "end_time": "2021-09-20T15:44:23.970639",
          "exception": false,
          "start_time": "2021-09-20T15:44:23.802991",
          "status": "completed"
        },
        "tags": [],
        "id": "ZNiZeqNQ4hzc"
      },
      "outputs": [],
      "source": [
        "fig = plt.figure()\n",
        "ax = plt.axes()\n",
        "ax.plot(df['Year'], df['Number of Pirates (Approximate)'])\n",
        "ax.plot(df['Year'], df['Global Average Temperature (Celsius)'])"
      ],
      "id": "ZNiZeqNQ4hzc"
    },
    {
      "cell_type": "markdown",
      "metadata": {
        "papermill": {
          "duration": 0.020285,
          "end_time": "2021-09-20T15:44:24.011489",
          "exception": false,
          "start_time": "2021-09-20T15:44:23.991204",
          "status": "completed"
        },
        "tags": [],
        "id": "AC3Tsh-I4hzd"
      },
      "source": [
        "Once again, there are major differences between our plot and the second Pastafarian one! The main issue now is that the *scale* of the pirate data is vastly different to the temperature one, and thus, the slope in the temperature data cannot be appreciated!"
      ],
      "id": "AC3Tsh-I4hzd"
    },
    {
      "cell_type": "markdown",
      "metadata": {
        "papermill": {
          "duration": 0.020105,
          "end_time": "2021-09-20T15:44:24.051372",
          "exception": false,
          "start_time": "2021-09-20T15:44:24.031267",
          "status": "completed"
        },
        "tags": [],
        "id": "-ShQAwR-4hzf"
      },
      "source": [
        "We need to specify that we want both plots drawn with different scales in the same plotting space (something that I highly discourage, we will see why later in this module!)"
      ],
      "id": "-ShQAwR-4hzf"
    },
    {
      "cell_type": "code",
      "execution_count": null,
      "metadata": {
        "execution": {
          "iopub.execute_input": "2021-09-20T15:44:24.124398Z",
          "iopub.status.busy": "2021-09-20T15:44:24.123743Z",
          "iopub.status.idle": "2021-09-20T15:44:24.389986Z",
          "shell.execute_reply": "2021-09-20T15:44:24.390491Z",
          "shell.execute_reply.started": "2021-09-20T15:40:51.316527Z"
        },
        "papermill": {
          "duration": 0.319286,
          "end_time": "2021-09-20T15:44:24.390667",
          "exception": false,
          "start_time": "2021-09-20T15:44:24.071381",
          "status": "completed"
        },
        "tags": [],
        "id": "UZbG0VOU4hzg"
      },
      "outputs": [],
      "source": [
        "import matplotlib.pyplot as plt\n",
        "\n",
        "\n",
        "fig, ax1 = plt.subplots()\n",
        "\n",
        "color = 'tab:red'\n",
        "ax1.set_xlabel('Year')\n",
        "ax1.set_ylabel('Global Average Temperature (Celsius)', color=color)\n",
        "ax1.plot(df['Year'], df['Global Average Temperature (Celsius)'], color=color)\n",
        "ax1.tick_params(axis='y', labelcolor=color)\n",
        "\n",
        "ax2 = ax1.twinx()  # instantiate a second axes that shares the same x-axis\n",
        "\n",
        "color = 'tab:blue'\n",
        "ax2.set_ylabel('Number of Pirates (Approximate)', color=color)  # we already handled the x-label with ax1\n",
        "ax2.plot(df['Year'], df['Number of Pirates (Approximate)'], color=color)\n",
        "ax2.tick_params(axis='y', labelcolor=color)\n",
        "\n",
        "fig.tight_layout()  # otherwise the right y-label is slightly clipped\n",
        "plt.show()"
      ],
      "id": "UZbG0VOU4hzg"
    }
  ],
  "metadata": {
    "hide_input": false,
    "kernelspec": {
      "display_name": "Python 3",
      "language": "python",
      "name": "python3"
    },
    "language_info": {
      "codemirror_mode": {
        "name": "ipython",
        "version": 3
      },
      "file_extension": ".py",
      "mimetype": "text/x-python",
      "name": "python",
      "nbconvert_exporter": "python",
      "pygments_lexer": "ipython3",
      "version": "3.7.3"
    },
    "papermill": {
      "default_parameters": {},
      "duration": 12.746485,
      "end_time": "2021-09-20T15:44:25.654426",
      "environment_variables": {},
      "exception": null,
      "input_path": "__notebook__.ipynb",
      "output_path": "__notebook__.ipynb",
      "parameters": {},
      "start_time": "2021-09-20T15:44:12.907941",
      "version": "2.3.3"
    },
    "varInspector": {
      "cols": {
        "lenName": 16,
        "lenType": 16,
        "lenVar": 40
      },
      "kernels_config": {
        "python": {
          "delete_cmd_postfix": "",
          "delete_cmd_prefix": "del ",
          "library": "var_list.py",
          "varRefreshCmd": "print(var_dic_list())"
        },
        "r": {
          "delete_cmd_postfix": ") ",
          "delete_cmd_prefix": "rm(",
          "library": "var_list.r",
          "varRefreshCmd": "cat(var_dic_list()) "
        }
      },
      "types_to_exclude": [
        "module",
        "function",
        "builtin_function_or_method",
        "instance",
        "_Feature"
      ],
      "window_display": false
    },
    "colab": {
      "provenance": [],
      "include_colab_link": true
    }
  },
  "nbformat": 4,
  "nbformat_minor": 5
}