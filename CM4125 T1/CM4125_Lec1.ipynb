{
  "cells": [
    {
      "cell_type": "markdown",
      "metadata": {
        "id": "view-in-github",
        "colab_type": "text"
      },
      "source": [
        "<a href=\"https://colab.research.google.com/github/carlosfmorenog/CM4125/blob/main/CM4125%20T1/CM4125_Lec1.ipynb\" target=\"_parent\"><img src=\"https://colab.research.google.com/assets/colab-badge.svg\" alt=\"Open In Colab\"/></a>"
      ]
    },
    {
      "cell_type": "markdown",
      "metadata": {
        "hide_input": true,
        "id": "gGfEfMkWX2LK"
      },
      "source": [
        "# Welcome to CM4125 - Data Viz!\n",
        "* Dr Carlos Moreno-García\n",
        "* Associate Professor & Research Degrees Co-coordinator\n",
        "* School of Computing, Engineering and Technology\n",
        "* email: c.moreno-garcia@rgu.ac.uk"
      ]
    },
    {
      "cell_type": "markdown",
      "metadata": {
        "hide_input": false,
        "id": "D3ZtkIsrX2LN"
      },
      "source": [
        "## Module aims and objectives"
      ]
    },
    {
      "cell_type": "markdown",
      "metadata": {
        "id": "IxkqJnGTX2LO"
      },
      "source": [
        "1) Critically appraise a variety of data visualisation techniques in terms of psychology, design, effectiveness and appeal to a wider audience."
      ]
    },
    {
      "cell_type": "markdown",
      "metadata": {
        "id": "lyptPf4RX2LP"
      },
      "source": [
        "2) Interpret data visualisations and explain what conclusions can be drawn from them in terms of data analysis."
      ]
    },
    {
      "cell_type": "markdown",
      "metadata": {
        "id": "vIzUcXi3X2LP"
      },
      "source": [
        "3) Understand the challenges of visualising large datasets."
      ]
    },
    {
      "cell_type": "markdown",
      "metadata": {
        "id": "JAQRTFMGX2LQ"
      },
      "source": [
        "4) Translate numerical and categorical data into coherent pictorial representations."
      ]
    },
    {
      "cell_type": "markdown",
      "metadata": {
        "id": "l1IaElb5X2LR"
      },
      "source": [
        "5) Create novel and interactive data visualisations which lucidly exhibit particular dataset features using publicly available data."
      ]
    },
    {
      "cell_type": "markdown",
      "metadata": {
        "id": "yMphCO1jX2LR"
      },
      "source": [
        "## How will the module work?"
      ]
    },
    {
      "cell_type": "markdown",
      "metadata": {
        "id": "ar3w5-NBX2LT"
      },
      "source": [
        "### What this module **is** about?"
      ]
    },
    {
      "cell_type": "markdown",
      "metadata": {
        "id": "o-WZB6tVX2LU"
      },
      "source": [
        "* How to get proper data from various sources"
      ]
    },
    {
      "cell_type": "markdown",
      "metadata": {
        "id": "El8eX-TQX2LV"
      },
      "source": [
        "* How to manipulate that data to have only what we are interested on"
      ]
    },
    {
      "cell_type": "markdown",
      "metadata": {
        "id": "d1-VYuQFX2LW"
      },
      "source": [
        "* How to put that data into meaningful, interesting and interactive pictorial representations"
      ]
    },
    {
      "cell_type": "markdown",
      "metadata": {
        "id": "WQ-ClMv6X2LX"
      },
      "source": [
        "![Fig. 1](https://www.dropbox.com/scl/fi/fj9j4ut0m7og0subtuv4i/fig1.jpg?rlkey=meuvor956ul61zzosep9nc7v6&raw=1)"
      ]
    },
    {
      "cell_type": "markdown",
      "metadata": {
        "id": "FqUsDqbGX2LY"
      },
      "source": [
        "![Fig. 1.1](https://www.dropbox.com/scl/fi/pj1rhawyqu0ppga1ausmm/fig1.1.jpg?rlkey=8gbl0myfa34deezvlfgxjfanu&raw=1)"
      ]
    },
    {
      "cell_type": "markdown",
      "metadata": {
        "id": "XiZk2edIX2LY"
      },
      "source": [
        "### What this module **is not** about?"
      ]
    },
    {
      "cell_type": "markdown",
      "metadata": {
        "id": "_U6-iy6qX2LY"
      },
      "source": [
        "* Computer vision"
      ]
    },
    {
      "cell_type": "markdown",
      "metadata": {
        "id": "GTzeKj5uX2LZ"
      },
      "source": [
        "* Predicting or learning from data (i.e. machine learning)"
      ]
    },
    {
      "cell_type": "markdown",
      "metadata": {
        "id": "EamlsDuPX2LZ"
      },
      "source": [
        "* Flashy images and colours (although this sometimes helps!)"
      ]
    },
    {
      "cell_type": "markdown",
      "metadata": {
        "id": "n-0FYC9oX2LZ"
      },
      "source": [
        "* Only bars and pies!"
      ]
    },
    {
      "cell_type": "markdown",
      "metadata": {
        "id": "kG7a5C0eX2La"
      },
      "source": [
        "![Fig. 2](https://www.dropbox.com/scl/fi/4b4ao2vu8oidvj07ksmpp/fig2.jpg?rlkey=0qdh08vs0mks1p0w78cpk6q1l&raw=1)"
      ]
    },
    {
      "cell_type": "markdown",
      "metadata": {
        "id": "gwWFr0WzX2La"
      },
      "source": [
        "### Online teaching"
      ]
    },
    {
      "cell_type": "markdown",
      "metadata": {
        "id": "5zsAaovdX2Lb"
      },
      "source": [
        "* Lectures will run for **one hour**, *usually* every Monday at 2 pm"
      ]
    },
    {
      "cell_type": "markdown",
      "metadata": {
        "id": "prcvWZr3X2Lb"
      },
      "source": [
        "* Labs will run for **two hours**, *usually* every Monday at 3 pm"
      ]
    },
    {
      "cell_type": "markdown",
      "metadata": {
        "id": "sHMZOZ0JX2Lb"
      },
      "source": [
        "### Assessment"
      ]
    },
    {
      "cell_type": "markdown",
      "metadata": {
        "id": "QR2bb57XX2Lc"
      },
      "source": [
        "* You will have one coursework where you have to submit **two files**:\n",
        "    * A slide deck with a visualisation (or a link to it)\n",
        "    * A compressed file evidencing your work"
      ]
    },
    {
      "cell_type": "markdown",
      "metadata": {
        "id": "dN21cWhoX2Lc"
      },
      "source": [
        "* Submission date: Tuesday, 2nd December, 2025, 16:00"
      ]
    },
    {
      "cell_type": "markdown",
      "metadata": {
        "id": "ex8z7fJ9X2Lc"
      },
      "source": [
        "* In two weeks time, we will have a coursework clarification session during the first hour of the lab"
      ]
    },
    {
      "cell_type": "markdown",
      "metadata": {
        "id": "Krpr8vq7X2Lc"
      },
      "source": [
        "### Resources"
      ]
    },
    {
      "cell_type": "markdown",
      "metadata": {
        "id": "C0_pGzyuX2Lc"
      },
      "source": [
        "* In the Moodle accordion, you will see a *Resources* tab:"
      ]
    },
    {
      "cell_type": "markdown",
      "metadata": {
        "id": "YX-t_aq0X2Ld"
      },
      "source": [
        "* There you will find a link to a [Trello board](https://trello.com/b/VWrhNfCh/cm4125-resources) where everyone can participate and add material\n",
        "  * To become a board member and add sources, click [here](https://trello.com/invite/b/6689a0da88f227b5c3c90fa3/ATTI2bd5633f5a16a8ef68e626731db8a690672A6E4E/cm4125-resources)"
      ]
    },
    {
      "cell_type": "markdown",
      "metadata": {
        "id": "g_O9d--0X2Ld"
      },
      "source": [
        "* We will also have a [DataCamp](https://www.datacamp.com) group for you to do related courses\n",
        "  * To join the group, click [here]( https://www.datacamp.com/groups/shared_links/c1ee869955a89a4c1f871339035601315cbdfb50e6343b1c7ccba1de5707a2c4) (use your rgu email to create the account)"
      ]
    },
    {
      "cell_type": "markdown",
      "metadata": {
        "id": "XrCnwDhjX2Ld"
      },
      "source": [
        "### Support/Assessments"
      ]
    },
    {
      "cell_type": "markdown",
      "metadata": {
        "id": "bEBXSRelX2Le"
      },
      "source": [
        "* Contact me to book a 30-min slot (Room N428)\n",
        "    * Monday 10:00-11:00\n",
        "    * Thursday 10:00-11:00"
      ]
    },
    {
      "cell_type": "markdown",
      "metadata": {
        "id": "PQNaJydTX2Le"
      },
      "source": [
        "## Introduction to Data Viz"
      ]
    },
    {
      "cell_type": "markdown",
      "metadata": {
        "id": "ERbMCVOpX2Lf"
      },
      "source": [
        "### MENTI POLLS\n",
        "Go to [www.menti.com](http://www.menti.com) and enter the code shown in the screen"
      ]
    },
    {
      "cell_type": "markdown",
      "metadata": {
        "id": "zm-gyLZmX2Lf"
      },
      "source": [
        "### For those of you who chose Excel..."
      ]
    },
    {
      "cell_type": "markdown",
      "metadata": {
        "id": "_RC20EuLX2Lg"
      },
      "source": [
        "* Don't get me wrong, Excel is great for initial data exploration"
      ]
    },
    {
      "cell_type": "markdown",
      "metadata": {
        "id": "DUPeZz6UX2Lg"
      },
      "source": [
        "* However, it is **not** a proper tool for data visualisation!"
      ]
    },
    {
      "cell_type": "markdown",
      "metadata": {
        "id": "T-_4v567X2Lg"
      },
      "source": [
        "* It has finite rows/cols, so by definition it is not suitable for big data!"
      ]
    },
    {
      "cell_type": "markdown",
      "metadata": {
        "id": "GnMXz0wNX2Lh"
      },
      "source": [
        "![Fig. 3](https://www.dropbox.com/scl/fi/cxpw3a62b2gj7y7z5gmyo/fig3.jpg?rlkey=8nwh57rkb8kez1598gq4hi592&raw=1)"
      ]
    },
    {
      "cell_type": "markdown",
      "metadata": {
        "id": "DFYJaMD_X2Lh"
      },
      "source": [
        "* Excel tends to do weird things with data types"
      ]
    },
    {
      "cell_type": "markdown",
      "metadata": {
        "id": "xr0bfD6KX2Li"
      },
      "source": [
        "![Fig. 4](https://www.dropbox.com/scl/fi/n76ftb95i9qxyht9u5aug/fig4.jpg?rlkey=35e6ayiedp1qe9ev8hu1oyl85&raw=1)"
      ]
    },
    {
      "cell_type": "markdown",
      "metadata": {
        "id": "WUUqiIeYX2Li"
      },
      "source": [
        "* Excel assumes formats when typing, and autocorrections creates chaos"
      ]
    },
    {
      "cell_type": "code",
      "execution_count": null,
      "metadata": {
        "hide_input": true,
        "tags": [
          "hide-input"
        ],
        "id": "n4XruIOJX2Lj",
        "outputId": "866b80fb-1953-4d0c-be1a-bab8eac8accd"
      },
      "outputs": [
        {
          "data": {
            "text/html": [
              "<iframe width=\"560\" height=\"315\" src=\"https://www.youtube.com/embed/yb2zkxHDfUE?start=379\" frameborder=\"0\" allow=\"accelerometer; autoplay; clipboard-write; encrypted-media; gyroscope; picture-in-picture\" allowfullscreen></iframe>"
            ],
            "text/plain": [
              "<IPython.core.display.HTML object>"
            ]
          },
          "execution_count": 1,
          "metadata": {},
          "output_type": "execute_result"
        }
      ],
      "source": [
        "import warnings\n",
        "warnings.filterwarnings('ignore')\n",
        "from IPython.display import HTML\n",
        "HTML('<iframe width=\"560\" height=\"315\" src=\"https://www.youtube.com/embed/yb2zkxHDfUE?start=379\" frameborder=\"0\" allow=\"accelerometer; autoplay; clipboard-write; encrypted-media; gyroscope; picture-in-picture\" allowfullscreen></iframe>')"
      ]
    },
    {
      "cell_type": "markdown",
      "metadata": {
        "id": "rVqCV9NNX2Lk"
      },
      "source": [
        "* Spreadsheets are very interactive, but error prone (costing millions of hours and money)"
      ]
    },
    {
      "cell_type": "markdown",
      "metadata": {
        "id": "iXY-6aGaX2Ll"
      },
      "source": [
        "* A researcher was able to get 15k spreadsheets from Enron, and found that 42% didn't have a single formula/calculation!"
      ]
    },
    {
      "cell_type": "markdown",
      "metadata": {
        "id": "5R987MoSX2Ll"
      },
      "source": [
        "* From the remaining 9k, 24% contained \"obvious\" errors!"
      ]
    },
    {
      "cell_type": "markdown",
      "metadata": {
        "id": "qBh1BcQyX2Lm"
      },
      "source": [
        "* There's a thing called the European Spreadsheet Risk Interest Group (EuSpRiG), where they have [Excel horror stories](http://www.eusprig.org/horror-stories.htm)!"
      ]
    },
    {
      "cell_type": "markdown",
      "metadata": {
        "id": "kwPtdP7XX2Lm"
      },
      "source": [
        "## My top 4"
      ]
    },
    {
      "cell_type": "markdown",
      "metadata": {
        "id": "Mom41iZqX2Ln"
      },
      "source": [
        "### Python"
      ]
    },
    {
      "cell_type": "markdown",
      "metadata": {
        "id": "m-MZ82cHX2Ln"
      },
      "source": [
        "* Very high level programming language"
      ]
    },
    {
      "cell_type": "markdown",
      "metadata": {
        "id": "DPUQjMpvX2Lo"
      },
      "source": [
        "* Provides complementary tools/packages such as `matplotlib`, `dash plotly` and `Streamlit.io` that help you visualise data better"
      ]
    },
    {
      "cell_type": "markdown",
      "metadata": {
        "id": "eETdn17SX2Lo"
      },
      "source": [
        "* Best ranked programming language by the [IEEE](https://spectrum.ieee.org/top-programming-languages-2024) (2025 ranking not yet available)"
      ]
    },
    {
      "cell_type": "markdown",
      "metadata": {
        "id": "0o9XRXj4X2Lo"
      },
      "source": [
        "![Fig. 5](https://www.dropbox.com/scl/fi/cv71ms4hy5dxrqwibuhyb/fig5.jpg?rlkey=m4rv6xderoksx1xddxk1uijs1&raw=1)"
      ]
    },
    {
      "cell_type": "markdown",
      "metadata": {
        "id": "e5Q6orV3X2Lp"
      },
      "source": [
        "* In fact, this slideshow was done using it!"
      ]
    },
    {
      "cell_type": "code",
      "execution_count": null,
      "metadata": {
        "id": "RlufxdDhX2Lp",
        "outputId": "8af3d37e-807f-4c40-f80b-d19a4d13b6a9"
      },
      "outputs": [
        {
          "name": "stdout",
          "output_type": "stream",
          "text": [
            "Hello\n"
          ]
        }
      ],
      "source": [
        "print(\"Hello\")"
      ]
    },
    {
      "cell_type": "markdown",
      "metadata": {
        "id": "8GtXjQZhX2Lq"
      },
      "source": [
        "### R"
      ]
    },
    {
      "cell_type": "markdown",
      "metadata": {
        "id": "qzmwXpzfX2Lq"
      },
      "source": [
        "* Even higher level programming language"
      ]
    },
    {
      "cell_type": "markdown",
      "metadata": {
        "id": "ybVVaZr3X2Lq"
      },
      "source": [
        "* Widely used in statistics"
      ]
    },
    {
      "cell_type": "markdown",
      "metadata": {
        "id": "Y5HD3TdwX2Lq"
      },
      "source": [
        "* Also contains numerous packages (`lattice`, `ggplot`, etc.) to do data vis"
      ]
    },
    {
      "cell_type": "markdown",
      "metadata": {
        "id": "_NwtQiRmX2Lq"
      },
      "source": [
        "### Tableau"
      ]
    },
    {
      "cell_type": "markdown",
      "metadata": {
        "id": "1R96uUEHX2Lr"
      },
      "source": [
        "* A commercial tool for business analytics to create dashboards"
      ]
    },
    {
      "cell_type": "markdown",
      "metadata": {
        "id": "ofL5Jmz-X2Lr"
      },
      "source": [
        "* Easy to use"
      ]
    },
    {
      "cell_type": "markdown",
      "metadata": {
        "id": "vdxrcAIVX2Lr"
      },
      "source": [
        "* Connects to data from different sources and can import Python/R code"
      ]
    },
    {
      "cell_type": "code",
      "execution_count": null,
      "metadata": {
        "hide_input": true,
        "scrolled": true,
        "id": "bT8Ruw4zX2Ls",
        "outputId": "39a71f2f-4d6b-47ff-eb94-2c864e5880ed"
      },
      "outputs": [
        {
          "data": {
            "text/html": [
              "<iframe width=\"560\" height=\"315\" src=\"https://www.youtube.com/embed/lR5Aiy5umvw?si=vmBgtk8THeuJMBeO\" title=\"YouTube video player\" frameborder=\"0\" allow=\"accelerometer; autoplay; clipboard-write; encrypted-media; gyroscope; picture-in-picture; web-share\" referrerpolicy=\"strict-origin-when-cross-origin\" allowfullscreen></iframe>"
            ],
            "text/plain": [
              "<IPython.core.display.HTML object>"
            ]
          },
          "execution_count": 3,
          "metadata": {},
          "output_type": "execute_result"
        }
      ],
      "source": [
        "from IPython.display import HTML\n",
        "HTML('<iframe width=\"560\" height=\"315\" src=\"https://www.youtube.com/embed/lR5Aiy5umvw?si=vmBgtk8THeuJMBeO\" title=\"YouTube video player\" frameborder=\"0\" allow=\"accelerometer; autoplay; clipboard-write; encrypted-media; gyroscope; picture-in-picture; web-share\" referrerpolicy=\"strict-origin-when-cross-origin\" allowfullscreen></iframe>')"
      ]
    },
    {
      "cell_type": "markdown",
      "metadata": {
        "id": "_ANSjeUUX2Lt"
      },
      "source": [
        "### Power BI"
      ]
    },
    {
      "cell_type": "markdown",
      "metadata": {
        "id": "-tU0KVjkX2Lt"
      },
      "source": [
        "* Microsoft's response to Tableau!"
      ]
    },
    {
      "cell_type": "markdown",
      "metadata": {
        "id": "u0vdZEmMX2Lu"
      },
      "source": [
        "* Easi(er) to use"
      ]
    },
    {
      "cell_type": "markdown",
      "metadata": {
        "id": "SQOom9RRX2Lv"
      },
      "source": [
        "* Connects to existing projects in `PowerApps`, `Excel` or `Azure`"
      ]
    },
    {
      "cell_type": "code",
      "execution_count": null,
      "metadata": {
        "hide_input": true,
        "scrolled": true,
        "id": "DNLIPw8TX2Lv",
        "outputId": "493321ab-b3c5-4d95-b2da-8a575ec03d5c"
      },
      "outputs": [
        {
          "data": {
            "text/html": [
              "<iframe width=\"560\" height=\"315\" src=\"https://www.youtube.com/embed/yKTSLffVGbk\" frameborder=\"0\" allow=\"accelerometer; autoplay; clipboard-write; encrypted-media; gyroscope; picture-in-picture\" allowfullscreen></iframe>"
            ],
            "text/plain": [
              "<IPython.core.display.HTML object>"
            ]
          },
          "execution_count": 4,
          "metadata": {},
          "output_type": "execute_result"
        }
      ],
      "source": [
        "from IPython.display import HTML\n",
        "HTML('<iframe width=\"560\" height=\"315\" src=\"https://www.youtube.com/embed/yKTSLffVGbk\" frameborder=\"0\" allow=\"accelerometer; autoplay; clipboard-write; encrypted-media; gyroscope; picture-in-picture\" allowfullscreen></iframe>')"
      ]
    },
    {
      "cell_type": "markdown",
      "metadata": {
        "id": "o07HN15TX2Lw"
      },
      "source": [
        "## How to get into data vis?"
      ]
    },
    {
      "cell_type": "markdown",
      "metadata": {
        "id": "bnYDhpwtX2Lx"
      },
      "source": [
        "### 1) Get familiar with data repositories"
      ]
    },
    {
      "cell_type": "markdown",
      "metadata": {
        "id": "luIR_wqBX2Ly"
      },
      "source": [
        "* Data is literally everywhere!"
      ]
    },
    {
      "cell_type": "markdown",
      "metadata": {
        "id": "WfqBf2zwX2Lz"
      },
      "source": [
        "* Sites such as [Kaggle](https://www.kaggle.com/) offer challenges every day!"
      ]
    },
    {
      "cell_type": "markdown",
      "metadata": {
        "id": "g_1AXCMmX2Lz"
      },
      "source": [
        "* If you are familiar with Python/R, you will be aware that they also have data within"
      ]
    },
    {
      "cell_type": "markdown",
      "metadata": {
        "id": "jT8K0XMSX2L0"
      },
      "source": [
        "![Fig. 6](https://www.dropbox.com/scl/fi/6d4ew5bhs6y5rwpkf363j/fig6.jpg?rlkey=xifab20u0lwot6b4sx59ds22j&raw=1)"
      ]
    },
    {
      "cell_type": "markdown",
      "metadata": {
        "id": "iW33o23xX2L0"
      },
      "source": [
        "### 2) Watch other people have a go at it!"
      ]
    },
    {
      "cell_type": "markdown",
      "metadata": {
        "id": "IvpahJLxX2L1"
      },
      "source": [
        "* Sites such as [fivethirtyeight.com](https://fivethirtyeight.com/) have lots of examples"
      ]
    },
    {
      "cell_type": "markdown",
      "metadata": {
        "id": "BHZpRUbuX2L1"
      },
      "source": [
        "* There are also social media groups\n",
        "    * [Information is beautiful](https://www.facebook.com/informationisbeautiful/)\n",
        "    * I f\\*cking love maps\n",
        "        * [FB](https://www.facebook.com/IFLOVEMAPS/)\n",
        "        * [TW](https://twitter.com/ifckinglovemaps?lang=en)\n",
        "        * [IG](https://www.instagram.com/ifuckinglovemaps/?hl=en)"
      ]
    },
    {
      "cell_type": "markdown",
      "metadata": {
        "id": "PwEBqOXKX2L2"
      },
      "source": [
        "### 3) Try to think how you will use this in your other modules!"
      ]
    },
    {
      "cell_type": "markdown",
      "metadata": {
        "id": "gcNcc1h5X2L2"
      },
      "source": [
        "## Final Recommendations"
      ]
    },
    {
      "cell_type": "markdown",
      "metadata": {
        "id": "3HvKxLwNX2L3"
      },
      "source": [
        "* If you plan to use Python/R, I **strongly** recommend you installing [ANACONDA](https://www.anaconda.com/)\n",
        "    * This way at least you will have two of the discussed tools."
      ]
    },
    {
      "cell_type": "markdown",
      "metadata": {
        "id": "3X8Hjf8KX2L4"
      },
      "source": [
        "* As students, you get Tableau and Power BI for free, don't hesitate to give them a try as well!"
      ]
    },
    {
      "cell_type": "markdown",
      "metadata": {
        "id": "ZOpCi5x4X2L5"
      },
      "source": [
        "## Lab"
      ]
    }
  ],
  "metadata": {
    "celltoolbar": "Slideshow",
    "hide_input": false,
    "kernelspec": {
      "display_name": "Python 3 (ipykernel)",
      "language": "python",
      "name": "python3"
    },
    "language_info": {
      "codemirror_mode": {
        "name": "ipython",
        "version": 3
      },
      "file_extension": ".py",
      "mimetype": "text/x-python",
      "name": "python",
      "nbconvert_exporter": "python",
      "pygments_lexer": "ipython3",
      "version": "3.11.11"
    },
    "rise": {
      "backimage": "../mybackimage.png",
      "enable_chalkboard": true,
      "scroll": true
    },
    "varInspector": {
      "cols": {
        "lenName": 16,
        "lenType": 16,
        "lenVar": 40
      },
      "kernels_config": {
        "python": {
          "delete_cmd_postfix": "",
          "delete_cmd_prefix": "del ",
          "library": "var_list.py",
          "varRefreshCmd": "print(var_dic_list())"
        },
        "r": {
          "delete_cmd_postfix": ") ",
          "delete_cmd_prefix": "rm(",
          "library": "var_list.r",
          "varRefreshCmd": "cat(var_dic_list()) "
        }
      },
      "types_to_exclude": [
        "module",
        "function",
        "builtin_function_or_method",
        "instance",
        "_Feature"
      ],
      "window_display": false
    },
    "colab": {
      "provenance": [],
      "include_colab_link": true
    }
  },
  "nbformat": 4,
  "nbformat_minor": 0
}