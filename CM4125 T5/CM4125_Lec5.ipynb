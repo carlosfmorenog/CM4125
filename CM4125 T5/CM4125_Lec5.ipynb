{
 "cells": [
  {
   "cell_type": "markdown",
   "metadata": {
    "hide_input": true,
    "slideshow": {
     "slide_type": "slide"
    }
   },
   "source": [
    "# CM4125 Topic 5: Data Manipulation (Part 1)"
   ]
  },
  {
   "cell_type": "markdown",
   "metadata": {
    "hide_input": false,
    "slideshow": {
     "slide_type": "subslide"
    }
   },
   "source": [
    "## Lecture objectives"
   ]
  },
  {
   "cell_type": "markdown",
   "metadata": {
    "slideshow": {
     "slide_type": "fragment"
    }
   },
   "source": [
    "1) Load a set of datasets containing different characteristics"
   ]
  },
  {
   "cell_type": "markdown",
   "metadata": {
    "slideshow": {
     "slide_type": "fragment"
    }
   },
   "source": [
    "2) Understand the best methods to manipulate it prior to analysis"
   ]
  },
  {
   "cell_type": "markdown",
   "metadata": {
    "slideshow": {
     "slide_type": "fragment"
    }
   },
   "source": [
    "3) Apply more elaborated pre-processing techniques to clean data and fill in missing values"
   ]
  },
  {
   "cell_type": "markdown",
   "metadata": {
    "slideshow": {
     "slide_type": "slide"
    }
   },
   "source": [
    "## Data by Columns"
   ]
  },
  {
   "cell_type": "code",
   "execution_count": 1,
   "metadata": {
    "slideshow": {
     "slide_type": "subslide"
    }
   },
   "outputs": [
    {
     "data": {
      "text/html": [
       "<div>\n",
       "<style scoped>\n",
       "    .dataframe tbody tr th:only-of-type {\n",
       "        vertical-align: middle;\n",
       "    }\n",
       "\n",
       "    .dataframe tbody tr th {\n",
       "        vertical-align: top;\n",
       "    }\n",
       "\n",
       "    .dataframe thead th {\n",
       "        text-align: right;\n",
       "    }\n",
       "</style>\n",
       "<table border=\"1\" class=\"dataframe\">\n",
       "  <thead>\n",
       "    <tr style=\"text-align: right;\">\n",
       "      <th></th>\n",
       "      <th>Year</th>\n",
       "      <th>Honor</th>\n",
       "      <th>Name</th>\n",
       "      <th>Country</th>\n",
       "      <th>Birth Year</th>\n",
       "      <th>Death Year</th>\n",
       "      <th>Title</th>\n",
       "      <th>Category</th>\n",
       "      <th>Context</th>\n",
       "    </tr>\n",
       "  </thead>\n",
       "  <tbody>\n",
       "    <tr>\n",
       "      <th>0</th>\n",
       "      <td>1927</td>\n",
       "      <td>Man of the Year</td>\n",
       "      <td>Charles Lindbergh</td>\n",
       "      <td>United States</td>\n",
       "      <td>1902.0</td>\n",
       "      <td>1974.0</td>\n",
       "      <td>US Air Mail Pilot</td>\n",
       "      <td>NaN</td>\n",
       "      <td>First Solo Transatlantic Flight</td>\n",
       "    </tr>\n",
       "    <tr>\n",
       "      <th>1</th>\n",
       "      <td>1928</td>\n",
       "      <td>Man of the Year</td>\n",
       "      <td>Walter Chrysler</td>\n",
       "      <td>United States</td>\n",
       "      <td>1875.0</td>\n",
       "      <td>1940.0</td>\n",
       "      <td>Founder of Chrysler</td>\n",
       "      <td>Economics</td>\n",
       "      <td>Chrysler/Dodge Merger</td>\n",
       "    </tr>\n",
       "    <tr>\n",
       "      <th>2</th>\n",
       "      <td>1929</td>\n",
       "      <td>Man of the Year</td>\n",
       "      <td>Owen D. Young</td>\n",
       "      <td>United States</td>\n",
       "      <td>1874.0</td>\n",
       "      <td>1962.0</td>\n",
       "      <td>Member of the German Reparations International...</td>\n",
       "      <td>Diplomacy</td>\n",
       "      <td>Young Plan</td>\n",
       "    </tr>\n",
       "    <tr>\n",
       "      <th>3</th>\n",
       "      <td>1930</td>\n",
       "      <td>Man of the Year</td>\n",
       "      <td>Mahatma Gandhi</td>\n",
       "      <td>India</td>\n",
       "      <td>1869.0</td>\n",
       "      <td>1948.0</td>\n",
       "      <td>NaN</td>\n",
       "      <td>Revolution</td>\n",
       "      <td>Salt March</td>\n",
       "    </tr>\n",
       "    <tr>\n",
       "      <th>4</th>\n",
       "      <td>1931</td>\n",
       "      <td>Man of the Year</td>\n",
       "      <td>Pierre Laval</td>\n",
       "      <td>France</td>\n",
       "      <td>1883.0</td>\n",
       "      <td>1945.0</td>\n",
       "      <td>Prime Minister of France</td>\n",
       "      <td>Politics</td>\n",
       "      <td>NaN</td>\n",
       "    </tr>\n",
       "    <tr>\n",
       "      <th>...</th>\n",
       "      <td>...</td>\n",
       "      <td>...</td>\n",
       "      <td>...</td>\n",
       "      <td>...</td>\n",
       "      <td>...</td>\n",
       "      <td>...</td>\n",
       "      <td>...</td>\n",
       "      <td>...</td>\n",
       "      <td>...</td>\n",
       "    </tr>\n",
       "    <tr>\n",
       "      <th>93</th>\n",
       "      <td>2019</td>\n",
       "      <td>Person of the Year</td>\n",
       "      <td>Greta Thunberg</td>\n",
       "      <td>Sweden</td>\n",
       "      <td>2003.0</td>\n",
       "      <td>NaN</td>\n",
       "      <td>Environmental ctivist</td>\n",
       "      <td>Environment</td>\n",
       "      <td>School Strike for Climate Campaign</td>\n",
       "    </tr>\n",
       "    <tr>\n",
       "      <th>94</th>\n",
       "      <td>2020</td>\n",
       "      <td>Person of the Year</td>\n",
       "      <td>Joe Biden &amp; Kamala Harris</td>\n",
       "      <td>United States</td>\n",
       "      <td>NaN</td>\n",
       "      <td>NaN</td>\n",
       "      <td>President and Vice President of the USA</td>\n",
       "      <td>Politics</td>\n",
       "      <td>Presidential Election</td>\n",
       "    </tr>\n",
       "    <tr>\n",
       "      <th>95</th>\n",
       "      <td>2021</td>\n",
       "      <td>Person of the Year</td>\n",
       "      <td>Elon Musk</td>\n",
       "      <td>South Africa</td>\n",
       "      <td>1971.0</td>\n",
       "      <td>NaN</td>\n",
       "      <td>CEO of Tesla</td>\n",
       "      <td>Technology</td>\n",
       "      <td>Richest Person in the World</td>\n",
       "    </tr>\n",
       "    <tr>\n",
       "      <th>96</th>\n",
       "      <td>2022</td>\n",
       "      <td>Person of the Year</td>\n",
       "      <td>Volodymyr Zelensky</td>\n",
       "      <td>Ukraine</td>\n",
       "      <td>1978.0</td>\n",
       "      <td>NaN</td>\n",
       "      <td>President of Ukraine</td>\n",
       "      <td>Politics</td>\n",
       "      <td>War in Ukraine</td>\n",
       "    </tr>\n",
       "    <tr>\n",
       "      <th>97</th>\n",
       "      <td>2023</td>\n",
       "      <td>Person of the Year</td>\n",
       "      <td>Taylor Swift</td>\n",
       "      <td>United States</td>\n",
       "      <td>1989.0</td>\n",
       "      <td>NaN</td>\n",
       "      <td>Singer-songwriter</td>\n",
       "      <td>Entertainment</td>\n",
       "      <td>Cultural and Economic Impact</td>\n",
       "    </tr>\n",
       "  </tbody>\n",
       "</table>\n",
       "<p>98 rows × 9 columns</p>\n",
       "</div>"
      ],
      "text/plain": [
       "    Year               Honor                       Name        Country  \\\n",
       "0   1927     Man of the Year          Charles Lindbergh  United States   \n",
       "1   1928     Man of the Year            Walter Chrysler  United States   \n",
       "2   1929     Man of the Year              Owen D. Young  United States   \n",
       "3   1930     Man of the Year             Mahatma Gandhi          India   \n",
       "4   1931     Man of the Year               Pierre Laval         France   \n",
       "..   ...                 ...                        ...            ...   \n",
       "93  2019  Person of the Year             Greta Thunberg         Sweden   \n",
       "94  2020  Person of the Year  Joe Biden & Kamala Harris  United States   \n",
       "95  2021  Person of the Year                  Elon Musk   South Africa   \n",
       "96  2022  Person of the Year         Volodymyr Zelensky        Ukraine   \n",
       "97  2023  Person of the Year               Taylor Swift  United States   \n",
       "\n",
       "    Birth Year  Death Year                                              Title  \\\n",
       "0       1902.0      1974.0                                  US Air Mail Pilot   \n",
       "1       1875.0      1940.0                                Founder of Chrysler   \n",
       "2       1874.0      1962.0  Member of the German Reparations International...   \n",
       "3       1869.0      1948.0                                                NaN   \n",
       "4       1883.0      1945.0                           Prime Minister of France   \n",
       "..         ...         ...                                                ...   \n",
       "93      2003.0         NaN                              Environmental ctivist   \n",
       "94         NaN         NaN            President and Vice President of the USA   \n",
       "95      1971.0         NaN                                       CEO of Tesla   \n",
       "96      1978.0         NaN                               President of Ukraine   \n",
       "97      1989.0         NaN                                  Singer-songwriter   \n",
       "\n",
       "         Category                             Context  \n",
       "0             NaN     First Solo Transatlantic Flight  \n",
       "1       Economics               Chrysler/Dodge Merger  \n",
       "2       Diplomacy                          Young Plan  \n",
       "3      Revolution                          Salt March  \n",
       "4        Politics                                 NaN  \n",
       "..            ...                                 ...  \n",
       "93    Environment  School Strike for Climate Campaign  \n",
       "94       Politics               Presidential Election  \n",
       "95     Technology         Richest Person in the World  \n",
       "96       Politics                      War in Ukraine  \n",
       "97  Entertainment        Cultural and Economic Impact  \n",
       "\n",
       "[98 rows x 9 columns]"
      ]
     },
     "execution_count": 1,
     "metadata": {},
     "output_type": "execute_result"
    }
   ],
   "source": [
    "# Importing a dataset that I have in dropbox related to Time magazine MoTY\n",
    "import pandas as pd\n",
    "time = pd.read_csv('https://www.dropbox.com/scl/fi/muy48qj9p2hb1h5u9wk4x/times.csv?rlkey=ucnespmybj64px1woyfx32arv&raw=1')\n",
    "time "
   ]
  },
  {
   "cell_type": "markdown",
   "metadata": {
    "slideshow": {
     "slide_type": "fragment"
    }
   },
   "source": [
    "This dataset contains the list of people named Man/Person of the Year by Times magazine"
   ]
  },
  {
   "cell_type": "markdown",
   "metadata": {
    "slideshow": {
     "slide_type": "subslide"
    }
   },
   "source": [
    "Last week, we added a new column to a dataframe (the \"watched\" column at the end of the Netflix dataset)"
   ]
  },
  {
   "cell_type": "markdown",
   "metadata": {
    "slideshow": {
     "slide_type": "fragment"
    }
   },
   "source": [
    "Today, we will learn other ways in which we can manipulate, add or relate data from columns"
   ]
  },
  {
   "cell_type": "markdown",
   "metadata": {
    "slideshow": {
     "slide_type": "subslide"
    }
   },
   "source": [
    "### Mapping Columns"
   ]
  },
  {
   "cell_type": "markdown",
   "metadata": {
    "slideshow": {
     "slide_type": "fragment"
    }
   },
   "source": [
    "Sometimes we want to convert a column of categorical data from strings (text) to integers (numbers)"
   ]
  },
  {
   "cell_type": "markdown",
   "metadata": {
    "slideshow": {
     "slide_type": "fragment"
    }
   },
   "source": [
    "We can define a `dictionary` which maps the strings (as keys) to integers (as values) using the `map` method"
   ]
  },
  {
   "cell_type": "markdown",
   "metadata": {
    "slideshow": {
     "slide_type": "fragment"
    }
   },
   "source": [
    "Another option is to define a `set` of the unique categories as follows."
   ]
  },
  {
   "cell_type": "code",
   "execution_count": 2,
   "metadata": {
    "slideshow": {
     "slide_type": "subslide"
    }
   },
   "outputs": [
    {
     "data": {
      "text/plain": [
       "{'Diplomacy',\n",
       " 'Economics',\n",
       " 'Entertainment',\n",
       " 'Environment',\n",
       " 'Media',\n",
       " 'Philanthropy',\n",
       " 'Politics',\n",
       " 'Religion',\n",
       " 'Revolution',\n",
       " 'Science',\n",
       " 'Space',\n",
       " 'Technology',\n",
       " 'War',\n",
       " nan}"
      ]
     },
     "execution_count": 2,
     "metadata": {},
     "output_type": "execute_result"
    }
   ],
   "source": [
    "categories = set(time['Category'])\n",
    "categories"
   ]
  },
  {
   "cell_type": "markdown",
   "metadata": {
    "slideshow": {
     "slide_type": "subslide"
    }
   },
   "source": [
    "Then, we can then assign unique numbers to this `set` as a `dictionary` (defined in Python using the `{}`)"
   ]
  },
  {
   "cell_type": "code",
   "execution_count": 3,
   "metadata": {
    "slideshow": {
     "slide_type": "fragment"
    }
   },
   "outputs": [
    {
     "data": {
      "text/plain": [
       "{'Revolution': 0,\n",
       " 'Space': 1,\n",
       " 'Politics': 2,\n",
       " 'Media': 3,\n",
       " 'Economics': 4,\n",
       " 'Environment': 5,\n",
       " 'Entertainment': 6,\n",
       " 'Technology': 7,\n",
       " 'Diplomacy': 8,\n",
       " 'Philanthropy': 9,\n",
       " 'Science': 10,\n",
       " nan: 11,\n",
       " 'Religion': 12,\n",
       " 'War': 13}"
      ]
     },
     "execution_count": 3,
     "metadata": {},
     "output_type": "execute_result"
    }
   ],
   "source": [
    "mapping = {category : index for index, category in enumerate(categories)}\n",
    "mapping"
   ]
  },
  {
   "cell_type": "markdown",
   "metadata": {
    "slideshow": {
     "slide_type": "subslide"
    }
   },
   "source": [
    "We now have a `map` which allows us to convert from a category string to an `int`. For example:"
   ]
  },
  {
   "cell_type": "code",
   "execution_count": 4,
   "metadata": {
    "cell_style": "split",
    "slideshow": {
     "slide_type": "fragment"
    }
   },
   "outputs": [
    {
     "data": {
      "text/plain": [
       "8"
      ]
     },
     "execution_count": 4,
     "metadata": {},
     "output_type": "execute_result"
    }
   ],
   "source": [
    "mapping['Diplomacy']"
   ]
  },
  {
   "cell_type": "code",
   "execution_count": 5,
   "metadata": {
    "cell_style": "split",
    "slideshow": {
     "slide_type": "fragment"
    }
   },
   "outputs": [
    {
     "data": {
      "text/plain": [
       "3"
      ]
     },
     "execution_count": 5,
     "metadata": {},
     "output_type": "execute_result"
    }
   ],
   "source": [
    "mapping['Media']"
   ]
  },
  {
   "cell_type": "markdown",
   "metadata": {
    "slideshow": {
     "slide_type": "subslide"
    }
   },
   "source": [
    "We can use the `map` method on the chosen column to do the conversion"
   ]
  },
  {
   "cell_type": "markdown",
   "metadata": {
    "slideshow": {
     "slide_type": "fragment"
    }
   },
   "source": [
    "The `map` method takes our `dictionary` as an argument and returns a new column with the mapping applied"
   ]
  },
  {
   "cell_type": "code",
   "execution_count": 6,
   "metadata": {
    "slideshow": {
     "slide_type": "subslide"
    }
   },
   "outputs": [
    {
     "data": {
      "text/plain": [
       "0     11\n",
       "1      4\n",
       "2      8\n",
       "3      0\n",
       "4      2\n",
       "      ..\n",
       "93     5\n",
       "94     2\n",
       "95     7\n",
       "96     2\n",
       "97     6\n",
       "Name: Category, Length: 98, dtype: int64"
      ]
     },
     "execution_count": 6,
     "metadata": {},
     "output_type": "execute_result"
    }
   ],
   "source": [
    "time['Category'].map(mapping)"
   ]
  },
  {
   "cell_type": "markdown",
   "metadata": {
    "slideshow": {
     "slide_type": "subslide"
    }
   },
   "source": [
    "If we wanted to overwrite the `Category` column with our new mapped values, we could do:\n",
    "\n",
    "    time['Category'] = time['Category'].map(mapping)"
   ]
  },
  {
   "cell_type": "markdown",
   "metadata": {
    "slideshow": {
     "slide_type": "fragment"
    }
   },
   "source": [
    "However, it may be best to keep both. So we can instead assign it a different column name"
   ]
  },
  {
   "cell_type": "code",
   "execution_count": 7,
   "metadata": {
    "slideshow": {
     "slide_type": "subslide"
    }
   },
   "outputs": [
    {
     "data": {
      "text/html": [
       "<div>\n",
       "<style scoped>\n",
       "    .dataframe tbody tr th:only-of-type {\n",
       "        vertical-align: middle;\n",
       "    }\n",
       "\n",
       "    .dataframe tbody tr th {\n",
       "        vertical-align: top;\n",
       "    }\n",
       "\n",
       "    .dataframe thead th {\n",
       "        text-align: right;\n",
       "    }\n",
       "</style>\n",
       "<table border=\"1\" class=\"dataframe\">\n",
       "  <thead>\n",
       "    <tr style=\"text-align: right;\">\n",
       "      <th></th>\n",
       "      <th>Year</th>\n",
       "      <th>Honor</th>\n",
       "      <th>Name</th>\n",
       "      <th>Country</th>\n",
       "      <th>Birth Year</th>\n",
       "      <th>Death Year</th>\n",
       "      <th>Title</th>\n",
       "      <th>Category</th>\n",
       "      <th>Context</th>\n",
       "      <th>Category Ordinal</th>\n",
       "    </tr>\n",
       "  </thead>\n",
       "  <tbody>\n",
       "    <tr>\n",
       "      <th>0</th>\n",
       "      <td>1927</td>\n",
       "      <td>Man of the Year</td>\n",
       "      <td>Charles Lindbergh</td>\n",
       "      <td>United States</td>\n",
       "      <td>1902.0</td>\n",
       "      <td>1974.0</td>\n",
       "      <td>US Air Mail Pilot</td>\n",
       "      <td>NaN</td>\n",
       "      <td>First Solo Transatlantic Flight</td>\n",
       "      <td>11</td>\n",
       "    </tr>\n",
       "    <tr>\n",
       "      <th>1</th>\n",
       "      <td>1928</td>\n",
       "      <td>Man of the Year</td>\n",
       "      <td>Walter Chrysler</td>\n",
       "      <td>United States</td>\n",
       "      <td>1875.0</td>\n",
       "      <td>1940.0</td>\n",
       "      <td>Founder of Chrysler</td>\n",
       "      <td>Economics</td>\n",
       "      <td>Chrysler/Dodge Merger</td>\n",
       "      <td>4</td>\n",
       "    </tr>\n",
       "    <tr>\n",
       "      <th>2</th>\n",
       "      <td>1929</td>\n",
       "      <td>Man of the Year</td>\n",
       "      <td>Owen D. Young</td>\n",
       "      <td>United States</td>\n",
       "      <td>1874.0</td>\n",
       "      <td>1962.0</td>\n",
       "      <td>Member of the German Reparations International...</td>\n",
       "      <td>Diplomacy</td>\n",
       "      <td>Young Plan</td>\n",
       "      <td>8</td>\n",
       "    </tr>\n",
       "    <tr>\n",
       "      <th>3</th>\n",
       "      <td>1930</td>\n",
       "      <td>Man of the Year</td>\n",
       "      <td>Mahatma Gandhi</td>\n",
       "      <td>India</td>\n",
       "      <td>1869.0</td>\n",
       "      <td>1948.0</td>\n",
       "      <td>NaN</td>\n",
       "      <td>Revolution</td>\n",
       "      <td>Salt March</td>\n",
       "      <td>0</td>\n",
       "    </tr>\n",
       "    <tr>\n",
       "      <th>4</th>\n",
       "      <td>1931</td>\n",
       "      <td>Man of the Year</td>\n",
       "      <td>Pierre Laval</td>\n",
       "      <td>France</td>\n",
       "      <td>1883.0</td>\n",
       "      <td>1945.0</td>\n",
       "      <td>Prime Minister of France</td>\n",
       "      <td>Politics</td>\n",
       "      <td>NaN</td>\n",
       "      <td>2</td>\n",
       "    </tr>\n",
       "    <tr>\n",
       "      <th>...</th>\n",
       "      <td>...</td>\n",
       "      <td>...</td>\n",
       "      <td>...</td>\n",
       "      <td>...</td>\n",
       "      <td>...</td>\n",
       "      <td>...</td>\n",
       "      <td>...</td>\n",
       "      <td>...</td>\n",
       "      <td>...</td>\n",
       "      <td>...</td>\n",
       "    </tr>\n",
       "    <tr>\n",
       "      <th>93</th>\n",
       "      <td>2019</td>\n",
       "      <td>Person of the Year</td>\n",
       "      <td>Greta Thunberg</td>\n",
       "      <td>Sweden</td>\n",
       "      <td>2003.0</td>\n",
       "      <td>NaN</td>\n",
       "      <td>Environmental ctivist</td>\n",
       "      <td>Environment</td>\n",
       "      <td>School Strike for Climate Campaign</td>\n",
       "      <td>5</td>\n",
       "    </tr>\n",
       "    <tr>\n",
       "      <th>94</th>\n",
       "      <td>2020</td>\n",
       "      <td>Person of the Year</td>\n",
       "      <td>Joe Biden &amp; Kamala Harris</td>\n",
       "      <td>United States</td>\n",
       "      <td>NaN</td>\n",
       "      <td>NaN</td>\n",
       "      <td>President and Vice President of the USA</td>\n",
       "      <td>Politics</td>\n",
       "      <td>Presidential Election</td>\n",
       "      <td>2</td>\n",
       "    </tr>\n",
       "    <tr>\n",
       "      <th>95</th>\n",
       "      <td>2021</td>\n",
       "      <td>Person of the Year</td>\n",
       "      <td>Elon Musk</td>\n",
       "      <td>South Africa</td>\n",
       "      <td>1971.0</td>\n",
       "      <td>NaN</td>\n",
       "      <td>CEO of Tesla</td>\n",
       "      <td>Technology</td>\n",
       "      <td>Richest Person in the World</td>\n",
       "      <td>7</td>\n",
       "    </tr>\n",
       "    <tr>\n",
       "      <th>96</th>\n",
       "      <td>2022</td>\n",
       "      <td>Person of the Year</td>\n",
       "      <td>Volodymyr Zelensky</td>\n",
       "      <td>Ukraine</td>\n",
       "      <td>1978.0</td>\n",
       "      <td>NaN</td>\n",
       "      <td>President of Ukraine</td>\n",
       "      <td>Politics</td>\n",
       "      <td>War in Ukraine</td>\n",
       "      <td>2</td>\n",
       "    </tr>\n",
       "    <tr>\n",
       "      <th>97</th>\n",
       "      <td>2023</td>\n",
       "      <td>Person of the Year</td>\n",
       "      <td>Taylor Swift</td>\n",
       "      <td>United States</td>\n",
       "      <td>1989.0</td>\n",
       "      <td>NaN</td>\n",
       "      <td>Singer-songwriter</td>\n",
       "      <td>Entertainment</td>\n",
       "      <td>Cultural and Economic Impact</td>\n",
       "      <td>6</td>\n",
       "    </tr>\n",
       "  </tbody>\n",
       "</table>\n",
       "<p>98 rows × 10 columns</p>\n",
       "</div>"
      ],
      "text/plain": [
       "    Year               Honor                       Name        Country  \\\n",
       "0   1927     Man of the Year          Charles Lindbergh  United States   \n",
       "1   1928     Man of the Year            Walter Chrysler  United States   \n",
       "2   1929     Man of the Year              Owen D. Young  United States   \n",
       "3   1930     Man of the Year             Mahatma Gandhi          India   \n",
       "4   1931     Man of the Year               Pierre Laval         France   \n",
       "..   ...                 ...                        ...            ...   \n",
       "93  2019  Person of the Year             Greta Thunberg         Sweden   \n",
       "94  2020  Person of the Year  Joe Biden & Kamala Harris  United States   \n",
       "95  2021  Person of the Year                  Elon Musk   South Africa   \n",
       "96  2022  Person of the Year         Volodymyr Zelensky        Ukraine   \n",
       "97  2023  Person of the Year               Taylor Swift  United States   \n",
       "\n",
       "    Birth Year  Death Year                                              Title  \\\n",
       "0       1902.0      1974.0                                  US Air Mail Pilot   \n",
       "1       1875.0      1940.0                                Founder of Chrysler   \n",
       "2       1874.0      1962.0  Member of the German Reparations International...   \n",
       "3       1869.0      1948.0                                                NaN   \n",
       "4       1883.0      1945.0                           Prime Minister of France   \n",
       "..         ...         ...                                                ...   \n",
       "93      2003.0         NaN                              Environmental ctivist   \n",
       "94         NaN         NaN            President and Vice President of the USA   \n",
       "95      1971.0         NaN                                       CEO of Tesla   \n",
       "96      1978.0         NaN                               President of Ukraine   \n",
       "97      1989.0         NaN                                  Singer-songwriter   \n",
       "\n",
       "         Category                             Context  Category Ordinal  \n",
       "0             NaN     First Solo Transatlantic Flight                11  \n",
       "1       Economics               Chrysler/Dodge Merger                 4  \n",
       "2       Diplomacy                          Young Plan                 8  \n",
       "3      Revolution                          Salt March                 0  \n",
       "4        Politics                                 NaN                 2  \n",
       "..            ...                                 ...               ...  \n",
       "93    Environment  School Strike for Climate Campaign                 5  \n",
       "94       Politics               Presidential Election                 2  \n",
       "95     Technology         Richest Person in the World                 7  \n",
       "96       Politics                      War in Ukraine                 2  \n",
       "97  Entertainment        Cultural and Economic Impact                 6  \n",
       "\n",
       "[98 rows x 10 columns]"
      ]
     },
     "execution_count": 7,
     "metadata": {},
     "output_type": "execute_result"
    }
   ],
   "source": [
    "time['Category Ordinal'] = time['Category'].map(mapping)\n",
    "time"
   ]
  },
  {
   "cell_type": "markdown",
   "metadata": {
    "slideshow": {
     "slide_type": "subslide"
    }
   },
   "source": [
    "### Manipulating Numerical Columns"
   ]
  },
  {
   "cell_type": "markdown",
   "metadata": {
    "slideshow": {
     "slide_type": "subslide"
    }
   },
   "source": [
    "We can perform arithmetic between columns as if they were simply numbers"
   ]
  },
  {
   "cell_type": "markdown",
   "metadata": {
    "slideshow": {
     "slide_type": "fragment"
    }
   },
   "source": [
    "We will take the column `Death Year`, subtract the column `Birth Year`, and storing the result in a (new) column called `Lifespan`"
   ]
  },
  {
   "cell_type": "code",
   "execution_count": 8,
   "metadata": {
    "slideshow": {
     "slide_type": "subslide"
    }
   },
   "outputs": [
    {
     "data": {
      "text/html": [
       "<div>\n",
       "<style scoped>\n",
       "    .dataframe tbody tr th:only-of-type {\n",
       "        vertical-align: middle;\n",
       "    }\n",
       "\n",
       "    .dataframe tbody tr th {\n",
       "        vertical-align: top;\n",
       "    }\n",
       "\n",
       "    .dataframe thead th {\n",
       "        text-align: right;\n",
       "    }\n",
       "</style>\n",
       "<table border=\"1\" class=\"dataframe\">\n",
       "  <thead>\n",
       "    <tr style=\"text-align: right;\">\n",
       "      <th></th>\n",
       "      <th>Year</th>\n",
       "      <th>Honor</th>\n",
       "      <th>Name</th>\n",
       "      <th>Country</th>\n",
       "      <th>Birth Year</th>\n",
       "      <th>Death Year</th>\n",
       "      <th>Title</th>\n",
       "      <th>Category</th>\n",
       "      <th>Context</th>\n",
       "      <th>Category Ordinal</th>\n",
       "      <th>Lifespan</th>\n",
       "    </tr>\n",
       "  </thead>\n",
       "  <tbody>\n",
       "    <tr>\n",
       "      <th>0</th>\n",
       "      <td>1927</td>\n",
       "      <td>Man of the Year</td>\n",
       "      <td>Charles Lindbergh</td>\n",
       "      <td>United States</td>\n",
       "      <td>1902.0</td>\n",
       "      <td>1974.0</td>\n",
       "      <td>US Air Mail Pilot</td>\n",
       "      <td>NaN</td>\n",
       "      <td>First Solo Transatlantic Flight</td>\n",
       "      <td>11</td>\n",
       "      <td>72.0</td>\n",
       "    </tr>\n",
       "    <tr>\n",
       "      <th>1</th>\n",
       "      <td>1928</td>\n",
       "      <td>Man of the Year</td>\n",
       "      <td>Walter Chrysler</td>\n",
       "      <td>United States</td>\n",
       "      <td>1875.0</td>\n",
       "      <td>1940.0</td>\n",
       "      <td>Founder of Chrysler</td>\n",
       "      <td>Economics</td>\n",
       "      <td>Chrysler/Dodge Merger</td>\n",
       "      <td>4</td>\n",
       "      <td>65.0</td>\n",
       "    </tr>\n",
       "    <tr>\n",
       "      <th>2</th>\n",
       "      <td>1929</td>\n",
       "      <td>Man of the Year</td>\n",
       "      <td>Owen D. Young</td>\n",
       "      <td>United States</td>\n",
       "      <td>1874.0</td>\n",
       "      <td>1962.0</td>\n",
       "      <td>Member of the German Reparations International...</td>\n",
       "      <td>Diplomacy</td>\n",
       "      <td>Young Plan</td>\n",
       "      <td>8</td>\n",
       "      <td>88.0</td>\n",
       "    </tr>\n",
       "    <tr>\n",
       "      <th>3</th>\n",
       "      <td>1930</td>\n",
       "      <td>Man of the Year</td>\n",
       "      <td>Mahatma Gandhi</td>\n",
       "      <td>India</td>\n",
       "      <td>1869.0</td>\n",
       "      <td>1948.0</td>\n",
       "      <td>NaN</td>\n",
       "      <td>Revolution</td>\n",
       "      <td>Salt March</td>\n",
       "      <td>0</td>\n",
       "      <td>79.0</td>\n",
       "    </tr>\n",
       "    <tr>\n",
       "      <th>4</th>\n",
       "      <td>1931</td>\n",
       "      <td>Man of the Year</td>\n",
       "      <td>Pierre Laval</td>\n",
       "      <td>France</td>\n",
       "      <td>1883.0</td>\n",
       "      <td>1945.0</td>\n",
       "      <td>Prime Minister of France</td>\n",
       "      <td>Politics</td>\n",
       "      <td>NaN</td>\n",
       "      <td>2</td>\n",
       "      <td>62.0</td>\n",
       "    </tr>\n",
       "    <tr>\n",
       "      <th>...</th>\n",
       "      <td>...</td>\n",
       "      <td>...</td>\n",
       "      <td>...</td>\n",
       "      <td>...</td>\n",
       "      <td>...</td>\n",
       "      <td>...</td>\n",
       "      <td>...</td>\n",
       "      <td>...</td>\n",
       "      <td>...</td>\n",
       "      <td>...</td>\n",
       "      <td>...</td>\n",
       "    </tr>\n",
       "    <tr>\n",
       "      <th>93</th>\n",
       "      <td>2019</td>\n",
       "      <td>Person of the Year</td>\n",
       "      <td>Greta Thunberg</td>\n",
       "      <td>Sweden</td>\n",
       "      <td>2003.0</td>\n",
       "      <td>NaN</td>\n",
       "      <td>Environmental ctivist</td>\n",
       "      <td>Environment</td>\n",
       "      <td>School Strike for Climate Campaign</td>\n",
       "      <td>5</td>\n",
       "      <td>NaN</td>\n",
       "    </tr>\n",
       "    <tr>\n",
       "      <th>94</th>\n",
       "      <td>2020</td>\n",
       "      <td>Person of the Year</td>\n",
       "      <td>Joe Biden &amp; Kamala Harris</td>\n",
       "      <td>United States</td>\n",
       "      <td>NaN</td>\n",
       "      <td>NaN</td>\n",
       "      <td>President and Vice President of the USA</td>\n",
       "      <td>Politics</td>\n",
       "      <td>Presidential Election</td>\n",
       "      <td>2</td>\n",
       "      <td>NaN</td>\n",
       "    </tr>\n",
       "    <tr>\n",
       "      <th>95</th>\n",
       "      <td>2021</td>\n",
       "      <td>Person of the Year</td>\n",
       "      <td>Elon Musk</td>\n",
       "      <td>South Africa</td>\n",
       "      <td>1971.0</td>\n",
       "      <td>NaN</td>\n",
       "      <td>CEO of Tesla</td>\n",
       "      <td>Technology</td>\n",
       "      <td>Richest Person in the World</td>\n",
       "      <td>7</td>\n",
       "      <td>NaN</td>\n",
       "    </tr>\n",
       "    <tr>\n",
       "      <th>96</th>\n",
       "      <td>2022</td>\n",
       "      <td>Person of the Year</td>\n",
       "      <td>Volodymyr Zelensky</td>\n",
       "      <td>Ukraine</td>\n",
       "      <td>1978.0</td>\n",
       "      <td>NaN</td>\n",
       "      <td>President of Ukraine</td>\n",
       "      <td>Politics</td>\n",
       "      <td>War in Ukraine</td>\n",
       "      <td>2</td>\n",
       "      <td>NaN</td>\n",
       "    </tr>\n",
       "    <tr>\n",
       "      <th>97</th>\n",
       "      <td>2023</td>\n",
       "      <td>Person of the Year</td>\n",
       "      <td>Taylor Swift</td>\n",
       "      <td>United States</td>\n",
       "      <td>1989.0</td>\n",
       "      <td>NaN</td>\n",
       "      <td>Singer-songwriter</td>\n",
       "      <td>Entertainment</td>\n",
       "      <td>Cultural and Economic Impact</td>\n",
       "      <td>6</td>\n",
       "      <td>NaN</td>\n",
       "    </tr>\n",
       "  </tbody>\n",
       "</table>\n",
       "<p>98 rows × 11 columns</p>\n",
       "</div>"
      ],
      "text/plain": [
       "    Year               Honor                       Name        Country  \\\n",
       "0   1927     Man of the Year          Charles Lindbergh  United States   \n",
       "1   1928     Man of the Year            Walter Chrysler  United States   \n",
       "2   1929     Man of the Year              Owen D. Young  United States   \n",
       "3   1930     Man of the Year             Mahatma Gandhi          India   \n",
       "4   1931     Man of the Year               Pierre Laval         France   \n",
       "..   ...                 ...                        ...            ...   \n",
       "93  2019  Person of the Year             Greta Thunberg         Sweden   \n",
       "94  2020  Person of the Year  Joe Biden & Kamala Harris  United States   \n",
       "95  2021  Person of the Year                  Elon Musk   South Africa   \n",
       "96  2022  Person of the Year         Volodymyr Zelensky        Ukraine   \n",
       "97  2023  Person of the Year               Taylor Swift  United States   \n",
       "\n",
       "    Birth Year  Death Year                                              Title  \\\n",
       "0       1902.0      1974.0                                  US Air Mail Pilot   \n",
       "1       1875.0      1940.0                                Founder of Chrysler   \n",
       "2       1874.0      1962.0  Member of the German Reparations International...   \n",
       "3       1869.0      1948.0                                                NaN   \n",
       "4       1883.0      1945.0                           Prime Minister of France   \n",
       "..         ...         ...                                                ...   \n",
       "93      2003.0         NaN                              Environmental ctivist   \n",
       "94         NaN         NaN            President and Vice President of the USA   \n",
       "95      1971.0         NaN                                       CEO of Tesla   \n",
       "96      1978.0         NaN                               President of Ukraine   \n",
       "97      1989.0         NaN                                  Singer-songwriter   \n",
       "\n",
       "         Category                             Context  Category Ordinal  \\\n",
       "0             NaN     First Solo Transatlantic Flight                11   \n",
       "1       Economics               Chrysler/Dodge Merger                 4   \n",
       "2       Diplomacy                          Young Plan                 8   \n",
       "3      Revolution                          Salt March                 0   \n",
       "4        Politics                                 NaN                 2   \n",
       "..            ...                                 ...               ...   \n",
       "93    Environment  School Strike for Climate Campaign                 5   \n",
       "94       Politics               Presidential Election                 2   \n",
       "95     Technology         Richest Person in the World                 7   \n",
       "96       Politics                      War in Ukraine                 2   \n",
       "97  Entertainment        Cultural and Economic Impact                 6   \n",
       "\n",
       "    Lifespan  \n",
       "0       72.0  \n",
       "1       65.0  \n",
       "2       88.0  \n",
       "3       79.0  \n",
       "4       62.0  \n",
       "..       ...  \n",
       "93       NaN  \n",
       "94       NaN  \n",
       "95       NaN  \n",
       "96       NaN  \n",
       "97       NaN  \n",
       "\n",
       "[98 rows x 11 columns]"
      ]
     },
     "execution_count": 8,
     "metadata": {},
     "output_type": "execute_result"
    }
   ],
   "source": [
    "time['Lifespan'] = time['Death Year'] - time['Birth Year']\n",
    "time"
   ]
  },
  {
   "cell_type": "markdown",
   "metadata": {
    "slideshow": {
     "slide_type": "subslide"
    }
   },
   "source": [
    "Notice that the method acknowledged that some columns were `NaN` (since the person is still alive) and thus put a `NaN` as a result in the lifespan column."
   ]
  },
  {
   "cell_type": "markdown",
   "metadata": {
    "slideshow": {
     "slide_type": "fragment"
    }
   },
   "source": [
    "Sometimes you want to do \"more difficult\" numerical conversions"
   ]
  },
  {
   "cell_type": "markdown",
   "metadata": {
    "slideshow": {
     "slide_type": "fragment"
    }
   },
   "source": [
    "In those cases, it is more convenient to define a **function** and then use the `apply` method"
   ]
  },
  {
   "cell_type": "markdown",
   "metadata": {
    "slideshow": {
     "slide_type": "subslide"
    }
   },
   "source": [
    "In this example, we will define a function to convert years to decades to be applied in the different columns that contain years"
   ]
  },
  {
   "cell_type": "code",
   "execution_count": 9,
   "metadata": {
    "slideshow": {
     "slide_type": "fragment"
    }
   },
   "outputs": [],
   "source": [
    "def to_decade(value):\n",
    "    return 10 * (value // 10) # // is a floor division"
   ]
  },
  {
   "cell_type": "markdown",
   "metadata": {
    "slideshow": {
     "slide_type": "notes"
    }
   },
   "source": [
    "For instance, 1965 // 10 = 196, and then * 10 is equal to 1960"
   ]
  },
  {
   "cell_type": "markdown",
   "metadata": {
    "slideshow": {
     "slide_type": "subslide"
    }
   },
   "source": [
    "First, we should test our function on some examples to ensure the function is correct."
   ]
  },
  {
   "cell_type": "code",
   "execution_count": 10,
   "metadata": {
    "slideshow": {
     "slide_type": "fragment"
    }
   },
   "outputs": [
    {
     "data": {
      "text/plain": [
       "1970"
      ]
     },
     "execution_count": 10,
     "metadata": {},
     "output_type": "execute_result"
    }
   ],
   "source": [
    "to_decade(1971)"
   ]
  },
  {
   "cell_type": "markdown",
   "metadata": {
    "slideshow": {
     "slide_type": "subslide"
    }
   },
   "source": [
    "Now, we can use `apply` to transform the entire column `Birth Year` into the corresponding decade"
   ]
  },
  {
   "cell_type": "code",
   "execution_count": 11,
   "metadata": {
    "slideshow": {
     "slide_type": "fragment"
    }
   },
   "outputs": [
    {
     "data": {
      "text/html": [
       "<div>\n",
       "<style scoped>\n",
       "    .dataframe tbody tr th:only-of-type {\n",
       "        vertical-align: middle;\n",
       "    }\n",
       "\n",
       "    .dataframe tbody tr th {\n",
       "        vertical-align: top;\n",
       "    }\n",
       "\n",
       "    .dataframe thead th {\n",
       "        text-align: right;\n",
       "    }\n",
       "</style>\n",
       "<table border=\"1\" class=\"dataframe\">\n",
       "  <thead>\n",
       "    <tr style=\"text-align: right;\">\n",
       "      <th></th>\n",
       "      <th>Year</th>\n",
       "      <th>Honor</th>\n",
       "      <th>Name</th>\n",
       "      <th>Country</th>\n",
       "      <th>Birth Year</th>\n",
       "      <th>Death Year</th>\n",
       "      <th>Title</th>\n",
       "      <th>Category</th>\n",
       "      <th>Context</th>\n",
       "      <th>Category Ordinal</th>\n",
       "      <th>Lifespan</th>\n",
       "      <th>Birth Decade</th>\n",
       "    </tr>\n",
       "  </thead>\n",
       "  <tbody>\n",
       "    <tr>\n",
       "      <th>0</th>\n",
       "      <td>1927</td>\n",
       "      <td>Man of the Year</td>\n",
       "      <td>Charles Lindbergh</td>\n",
       "      <td>United States</td>\n",
       "      <td>1902.0</td>\n",
       "      <td>1974.0</td>\n",
       "      <td>US Air Mail Pilot</td>\n",
       "      <td>NaN</td>\n",
       "      <td>First Solo Transatlantic Flight</td>\n",
       "      <td>11</td>\n",
       "      <td>72.0</td>\n",
       "      <td>1900.0</td>\n",
       "    </tr>\n",
       "    <tr>\n",
       "      <th>1</th>\n",
       "      <td>1928</td>\n",
       "      <td>Man of the Year</td>\n",
       "      <td>Walter Chrysler</td>\n",
       "      <td>United States</td>\n",
       "      <td>1875.0</td>\n",
       "      <td>1940.0</td>\n",
       "      <td>Founder of Chrysler</td>\n",
       "      <td>Economics</td>\n",
       "      <td>Chrysler/Dodge Merger</td>\n",
       "      <td>4</td>\n",
       "      <td>65.0</td>\n",
       "      <td>1870.0</td>\n",
       "    </tr>\n",
       "    <tr>\n",
       "      <th>2</th>\n",
       "      <td>1929</td>\n",
       "      <td>Man of the Year</td>\n",
       "      <td>Owen D. Young</td>\n",
       "      <td>United States</td>\n",
       "      <td>1874.0</td>\n",
       "      <td>1962.0</td>\n",
       "      <td>Member of the German Reparations International...</td>\n",
       "      <td>Diplomacy</td>\n",
       "      <td>Young Plan</td>\n",
       "      <td>8</td>\n",
       "      <td>88.0</td>\n",
       "      <td>1870.0</td>\n",
       "    </tr>\n",
       "    <tr>\n",
       "      <th>3</th>\n",
       "      <td>1930</td>\n",
       "      <td>Man of the Year</td>\n",
       "      <td>Mahatma Gandhi</td>\n",
       "      <td>India</td>\n",
       "      <td>1869.0</td>\n",
       "      <td>1948.0</td>\n",
       "      <td>NaN</td>\n",
       "      <td>Revolution</td>\n",
       "      <td>Salt March</td>\n",
       "      <td>0</td>\n",
       "      <td>79.0</td>\n",
       "      <td>1860.0</td>\n",
       "    </tr>\n",
       "    <tr>\n",
       "      <th>4</th>\n",
       "      <td>1931</td>\n",
       "      <td>Man of the Year</td>\n",
       "      <td>Pierre Laval</td>\n",
       "      <td>France</td>\n",
       "      <td>1883.0</td>\n",
       "      <td>1945.0</td>\n",
       "      <td>Prime Minister of France</td>\n",
       "      <td>Politics</td>\n",
       "      <td>NaN</td>\n",
       "      <td>2</td>\n",
       "      <td>62.0</td>\n",
       "      <td>1880.0</td>\n",
       "    </tr>\n",
       "    <tr>\n",
       "      <th>...</th>\n",
       "      <td>...</td>\n",
       "      <td>...</td>\n",
       "      <td>...</td>\n",
       "      <td>...</td>\n",
       "      <td>...</td>\n",
       "      <td>...</td>\n",
       "      <td>...</td>\n",
       "      <td>...</td>\n",
       "      <td>...</td>\n",
       "      <td>...</td>\n",
       "      <td>...</td>\n",
       "      <td>...</td>\n",
       "    </tr>\n",
       "    <tr>\n",
       "      <th>93</th>\n",
       "      <td>2019</td>\n",
       "      <td>Person of the Year</td>\n",
       "      <td>Greta Thunberg</td>\n",
       "      <td>Sweden</td>\n",
       "      <td>2003.0</td>\n",
       "      <td>NaN</td>\n",
       "      <td>Environmental ctivist</td>\n",
       "      <td>Environment</td>\n",
       "      <td>School Strike for Climate Campaign</td>\n",
       "      <td>5</td>\n",
       "      <td>NaN</td>\n",
       "      <td>2000.0</td>\n",
       "    </tr>\n",
       "    <tr>\n",
       "      <th>94</th>\n",
       "      <td>2020</td>\n",
       "      <td>Person of the Year</td>\n",
       "      <td>Joe Biden &amp; Kamala Harris</td>\n",
       "      <td>United States</td>\n",
       "      <td>NaN</td>\n",
       "      <td>NaN</td>\n",
       "      <td>President and Vice President of the USA</td>\n",
       "      <td>Politics</td>\n",
       "      <td>Presidential Election</td>\n",
       "      <td>2</td>\n",
       "      <td>NaN</td>\n",
       "      <td>NaN</td>\n",
       "    </tr>\n",
       "    <tr>\n",
       "      <th>95</th>\n",
       "      <td>2021</td>\n",
       "      <td>Person of the Year</td>\n",
       "      <td>Elon Musk</td>\n",
       "      <td>South Africa</td>\n",
       "      <td>1971.0</td>\n",
       "      <td>NaN</td>\n",
       "      <td>CEO of Tesla</td>\n",
       "      <td>Technology</td>\n",
       "      <td>Richest Person in the World</td>\n",
       "      <td>7</td>\n",
       "      <td>NaN</td>\n",
       "      <td>1970.0</td>\n",
       "    </tr>\n",
       "    <tr>\n",
       "      <th>96</th>\n",
       "      <td>2022</td>\n",
       "      <td>Person of the Year</td>\n",
       "      <td>Volodymyr Zelensky</td>\n",
       "      <td>Ukraine</td>\n",
       "      <td>1978.0</td>\n",
       "      <td>NaN</td>\n",
       "      <td>President of Ukraine</td>\n",
       "      <td>Politics</td>\n",
       "      <td>War in Ukraine</td>\n",
       "      <td>2</td>\n",
       "      <td>NaN</td>\n",
       "      <td>1970.0</td>\n",
       "    </tr>\n",
       "    <tr>\n",
       "      <th>97</th>\n",
       "      <td>2023</td>\n",
       "      <td>Person of the Year</td>\n",
       "      <td>Taylor Swift</td>\n",
       "      <td>United States</td>\n",
       "      <td>1989.0</td>\n",
       "      <td>NaN</td>\n",
       "      <td>Singer-songwriter</td>\n",
       "      <td>Entertainment</td>\n",
       "      <td>Cultural and Economic Impact</td>\n",
       "      <td>6</td>\n",
       "      <td>NaN</td>\n",
       "      <td>1980.0</td>\n",
       "    </tr>\n",
       "  </tbody>\n",
       "</table>\n",
       "<p>98 rows × 12 columns</p>\n",
       "</div>"
      ],
      "text/plain": [
       "    Year               Honor                       Name        Country  \\\n",
       "0   1927     Man of the Year          Charles Lindbergh  United States   \n",
       "1   1928     Man of the Year            Walter Chrysler  United States   \n",
       "2   1929     Man of the Year              Owen D. Young  United States   \n",
       "3   1930     Man of the Year             Mahatma Gandhi          India   \n",
       "4   1931     Man of the Year               Pierre Laval         France   \n",
       "..   ...                 ...                        ...            ...   \n",
       "93  2019  Person of the Year             Greta Thunberg         Sweden   \n",
       "94  2020  Person of the Year  Joe Biden & Kamala Harris  United States   \n",
       "95  2021  Person of the Year                  Elon Musk   South Africa   \n",
       "96  2022  Person of the Year         Volodymyr Zelensky        Ukraine   \n",
       "97  2023  Person of the Year               Taylor Swift  United States   \n",
       "\n",
       "    Birth Year  Death Year                                              Title  \\\n",
       "0       1902.0      1974.0                                  US Air Mail Pilot   \n",
       "1       1875.0      1940.0                                Founder of Chrysler   \n",
       "2       1874.0      1962.0  Member of the German Reparations International...   \n",
       "3       1869.0      1948.0                                                NaN   \n",
       "4       1883.0      1945.0                           Prime Minister of France   \n",
       "..         ...         ...                                                ...   \n",
       "93      2003.0         NaN                              Environmental ctivist   \n",
       "94         NaN         NaN            President and Vice President of the USA   \n",
       "95      1971.0         NaN                                       CEO of Tesla   \n",
       "96      1978.0         NaN                               President of Ukraine   \n",
       "97      1989.0         NaN                                  Singer-songwriter   \n",
       "\n",
       "         Category                             Context  Category Ordinal  \\\n",
       "0             NaN     First Solo Transatlantic Flight                11   \n",
       "1       Economics               Chrysler/Dodge Merger                 4   \n",
       "2       Diplomacy                          Young Plan                 8   \n",
       "3      Revolution                          Salt March                 0   \n",
       "4        Politics                                 NaN                 2   \n",
       "..            ...                                 ...               ...   \n",
       "93    Environment  School Strike for Climate Campaign                 5   \n",
       "94       Politics               Presidential Election                 2   \n",
       "95     Technology         Richest Person in the World                 7   \n",
       "96       Politics                      War in Ukraine                 2   \n",
       "97  Entertainment        Cultural and Economic Impact                 6   \n",
       "\n",
       "    Lifespan  Birth Decade  \n",
       "0       72.0        1900.0  \n",
       "1       65.0        1870.0  \n",
       "2       88.0        1870.0  \n",
       "3       79.0        1860.0  \n",
       "4       62.0        1880.0  \n",
       "..       ...           ...  \n",
       "93       NaN        2000.0  \n",
       "94       NaN           NaN  \n",
       "95       NaN        1970.0  \n",
       "96       NaN        1970.0  \n",
       "97       NaN        1980.0  \n",
       "\n",
       "[98 rows x 12 columns]"
      ]
     },
     "execution_count": 11,
     "metadata": {},
     "output_type": "execute_result"
    }
   ],
   "source": [
    "time['Birth Decade'] = time['Birth Year'].apply(to_decade)\n",
    "time"
   ]
  },
  {
   "cell_type": "markdown",
   "metadata": {
    "slideshow": {
     "slide_type": "subslide"
    }
   },
   "source": [
    "### Manipulating String Columns"
   ]
  },
  {
   "cell_type": "markdown",
   "metadata": {
    "slideshow": {
     "slide_type": "notes"
    }
   },
   "source": [
    "Even if you use tableau/PowerBi, you need to use this some times (example of inserting calculated fields in tableau)"
   ]
  },
  {
   "cell_type": "markdown",
   "metadata": {
    "slideshow": {
     "slide_type": "subslide"
    }
   },
   "source": [
    "`apply` can also be used on strings"
   ]
  },
  {
   "cell_type": "markdown",
   "metadata": {
    "slideshow": {
     "slide_type": "fragment"
    }
   },
   "source": [
    "For example, we can apply the `len` function to `Name` to get the number of characters in each name."
   ]
  },
  {
   "cell_type": "code",
   "execution_count": 12,
   "metadata": {
    "slideshow": {
     "slide_type": "fragment"
    }
   },
   "outputs": [
    {
     "data": {
      "text/html": [
       "<div>\n",
       "<style scoped>\n",
       "    .dataframe tbody tr th:only-of-type {\n",
       "        vertical-align: middle;\n",
       "    }\n",
       "\n",
       "    .dataframe tbody tr th {\n",
       "        vertical-align: top;\n",
       "    }\n",
       "\n",
       "    .dataframe thead th {\n",
       "        text-align: right;\n",
       "    }\n",
       "</style>\n",
       "<table border=\"1\" class=\"dataframe\">\n",
       "  <thead>\n",
       "    <tr style=\"text-align: right;\">\n",
       "      <th></th>\n",
       "      <th>Year</th>\n",
       "      <th>Honor</th>\n",
       "      <th>Name</th>\n",
       "      <th>Country</th>\n",
       "      <th>Birth Year</th>\n",
       "      <th>Death Year</th>\n",
       "      <th>Title</th>\n",
       "      <th>Category</th>\n",
       "      <th>Context</th>\n",
       "      <th>Category Ordinal</th>\n",
       "      <th>Lifespan</th>\n",
       "      <th>Birth Decade</th>\n",
       "      <th>Name Length</th>\n",
       "    </tr>\n",
       "  </thead>\n",
       "  <tbody>\n",
       "    <tr>\n",
       "      <th>0</th>\n",
       "      <td>1927</td>\n",
       "      <td>Man of the Year</td>\n",
       "      <td>Charles Lindbergh</td>\n",
       "      <td>United States</td>\n",
       "      <td>1902.0</td>\n",
       "      <td>1974.0</td>\n",
       "      <td>US Air Mail Pilot</td>\n",
       "      <td>NaN</td>\n",
       "      <td>First Solo Transatlantic Flight</td>\n",
       "      <td>11</td>\n",
       "      <td>72.0</td>\n",
       "      <td>1900.0</td>\n",
       "      <td>17</td>\n",
       "    </tr>\n",
       "    <tr>\n",
       "      <th>1</th>\n",
       "      <td>1928</td>\n",
       "      <td>Man of the Year</td>\n",
       "      <td>Walter Chrysler</td>\n",
       "      <td>United States</td>\n",
       "      <td>1875.0</td>\n",
       "      <td>1940.0</td>\n",
       "      <td>Founder of Chrysler</td>\n",
       "      <td>Economics</td>\n",
       "      <td>Chrysler/Dodge Merger</td>\n",
       "      <td>4</td>\n",
       "      <td>65.0</td>\n",
       "      <td>1870.0</td>\n",
       "      <td>15</td>\n",
       "    </tr>\n",
       "    <tr>\n",
       "      <th>2</th>\n",
       "      <td>1929</td>\n",
       "      <td>Man of the Year</td>\n",
       "      <td>Owen D. Young</td>\n",
       "      <td>United States</td>\n",
       "      <td>1874.0</td>\n",
       "      <td>1962.0</td>\n",
       "      <td>Member of the German Reparations International...</td>\n",
       "      <td>Diplomacy</td>\n",
       "      <td>Young Plan</td>\n",
       "      <td>8</td>\n",
       "      <td>88.0</td>\n",
       "      <td>1870.0</td>\n",
       "      <td>13</td>\n",
       "    </tr>\n",
       "    <tr>\n",
       "      <th>3</th>\n",
       "      <td>1930</td>\n",
       "      <td>Man of the Year</td>\n",
       "      <td>Mahatma Gandhi</td>\n",
       "      <td>India</td>\n",
       "      <td>1869.0</td>\n",
       "      <td>1948.0</td>\n",
       "      <td>NaN</td>\n",
       "      <td>Revolution</td>\n",
       "      <td>Salt March</td>\n",
       "      <td>0</td>\n",
       "      <td>79.0</td>\n",
       "      <td>1860.0</td>\n",
       "      <td>14</td>\n",
       "    </tr>\n",
       "    <tr>\n",
       "      <th>4</th>\n",
       "      <td>1931</td>\n",
       "      <td>Man of the Year</td>\n",
       "      <td>Pierre Laval</td>\n",
       "      <td>France</td>\n",
       "      <td>1883.0</td>\n",
       "      <td>1945.0</td>\n",
       "      <td>Prime Minister of France</td>\n",
       "      <td>Politics</td>\n",
       "      <td>NaN</td>\n",
       "      <td>2</td>\n",
       "      <td>62.0</td>\n",
       "      <td>1880.0</td>\n",
       "      <td>12</td>\n",
       "    </tr>\n",
       "    <tr>\n",
       "      <th>...</th>\n",
       "      <td>...</td>\n",
       "      <td>...</td>\n",
       "      <td>...</td>\n",
       "      <td>...</td>\n",
       "      <td>...</td>\n",
       "      <td>...</td>\n",
       "      <td>...</td>\n",
       "      <td>...</td>\n",
       "      <td>...</td>\n",
       "      <td>...</td>\n",
       "      <td>...</td>\n",
       "      <td>...</td>\n",
       "      <td>...</td>\n",
       "    </tr>\n",
       "    <tr>\n",
       "      <th>93</th>\n",
       "      <td>2019</td>\n",
       "      <td>Person of the Year</td>\n",
       "      <td>Greta Thunberg</td>\n",
       "      <td>Sweden</td>\n",
       "      <td>2003.0</td>\n",
       "      <td>NaN</td>\n",
       "      <td>Environmental ctivist</td>\n",
       "      <td>Environment</td>\n",
       "      <td>School Strike for Climate Campaign</td>\n",
       "      <td>5</td>\n",
       "      <td>NaN</td>\n",
       "      <td>2000.0</td>\n",
       "      <td>14</td>\n",
       "    </tr>\n",
       "    <tr>\n",
       "      <th>94</th>\n",
       "      <td>2020</td>\n",
       "      <td>Person of the Year</td>\n",
       "      <td>Joe Biden &amp; Kamala Harris</td>\n",
       "      <td>United States</td>\n",
       "      <td>NaN</td>\n",
       "      <td>NaN</td>\n",
       "      <td>President and Vice President of the USA</td>\n",
       "      <td>Politics</td>\n",
       "      <td>Presidential Election</td>\n",
       "      <td>2</td>\n",
       "      <td>NaN</td>\n",
       "      <td>NaN</td>\n",
       "      <td>25</td>\n",
       "    </tr>\n",
       "    <tr>\n",
       "      <th>95</th>\n",
       "      <td>2021</td>\n",
       "      <td>Person of the Year</td>\n",
       "      <td>Elon Musk</td>\n",
       "      <td>South Africa</td>\n",
       "      <td>1971.0</td>\n",
       "      <td>NaN</td>\n",
       "      <td>CEO of Tesla</td>\n",
       "      <td>Technology</td>\n",
       "      <td>Richest Person in the World</td>\n",
       "      <td>7</td>\n",
       "      <td>NaN</td>\n",
       "      <td>1970.0</td>\n",
       "      <td>9</td>\n",
       "    </tr>\n",
       "    <tr>\n",
       "      <th>96</th>\n",
       "      <td>2022</td>\n",
       "      <td>Person of the Year</td>\n",
       "      <td>Volodymyr Zelensky</td>\n",
       "      <td>Ukraine</td>\n",
       "      <td>1978.0</td>\n",
       "      <td>NaN</td>\n",
       "      <td>President of Ukraine</td>\n",
       "      <td>Politics</td>\n",
       "      <td>War in Ukraine</td>\n",
       "      <td>2</td>\n",
       "      <td>NaN</td>\n",
       "      <td>1970.0</td>\n",
       "      <td>18</td>\n",
       "    </tr>\n",
       "    <tr>\n",
       "      <th>97</th>\n",
       "      <td>2023</td>\n",
       "      <td>Person of the Year</td>\n",
       "      <td>Taylor Swift</td>\n",
       "      <td>United States</td>\n",
       "      <td>1989.0</td>\n",
       "      <td>NaN</td>\n",
       "      <td>Singer-songwriter</td>\n",
       "      <td>Entertainment</td>\n",
       "      <td>Cultural and Economic Impact</td>\n",
       "      <td>6</td>\n",
       "      <td>NaN</td>\n",
       "      <td>1980.0</td>\n",
       "      <td>12</td>\n",
       "    </tr>\n",
       "  </tbody>\n",
       "</table>\n",
       "<p>98 rows × 13 columns</p>\n",
       "</div>"
      ],
      "text/plain": [
       "    Year               Honor                       Name        Country  \\\n",
       "0   1927     Man of the Year          Charles Lindbergh  United States   \n",
       "1   1928     Man of the Year            Walter Chrysler  United States   \n",
       "2   1929     Man of the Year              Owen D. Young  United States   \n",
       "3   1930     Man of the Year             Mahatma Gandhi          India   \n",
       "4   1931     Man of the Year               Pierre Laval         France   \n",
       "..   ...                 ...                        ...            ...   \n",
       "93  2019  Person of the Year             Greta Thunberg         Sweden   \n",
       "94  2020  Person of the Year  Joe Biden & Kamala Harris  United States   \n",
       "95  2021  Person of the Year                  Elon Musk   South Africa   \n",
       "96  2022  Person of the Year         Volodymyr Zelensky        Ukraine   \n",
       "97  2023  Person of the Year               Taylor Swift  United States   \n",
       "\n",
       "    Birth Year  Death Year                                              Title  \\\n",
       "0       1902.0      1974.0                                  US Air Mail Pilot   \n",
       "1       1875.0      1940.0                                Founder of Chrysler   \n",
       "2       1874.0      1962.0  Member of the German Reparations International...   \n",
       "3       1869.0      1948.0                                                NaN   \n",
       "4       1883.0      1945.0                           Prime Minister of France   \n",
       "..         ...         ...                                                ...   \n",
       "93      2003.0         NaN                              Environmental ctivist   \n",
       "94         NaN         NaN            President and Vice President of the USA   \n",
       "95      1971.0         NaN                                       CEO of Tesla   \n",
       "96      1978.0         NaN                               President of Ukraine   \n",
       "97      1989.0         NaN                                  Singer-songwriter   \n",
       "\n",
       "         Category                             Context  Category Ordinal  \\\n",
       "0             NaN     First Solo Transatlantic Flight                11   \n",
       "1       Economics               Chrysler/Dodge Merger                 4   \n",
       "2       Diplomacy                          Young Plan                 8   \n",
       "3      Revolution                          Salt March                 0   \n",
       "4        Politics                                 NaN                 2   \n",
       "..            ...                                 ...               ...   \n",
       "93    Environment  School Strike for Climate Campaign                 5   \n",
       "94       Politics               Presidential Election                 2   \n",
       "95     Technology         Richest Person in the World                 7   \n",
       "96       Politics                      War in Ukraine                 2   \n",
       "97  Entertainment        Cultural and Economic Impact                 6   \n",
       "\n",
       "    Lifespan  Birth Decade  Name Length  \n",
       "0       72.0        1900.0           17  \n",
       "1       65.0        1870.0           15  \n",
       "2       88.0        1870.0           13  \n",
       "3       79.0        1860.0           14  \n",
       "4       62.0        1880.0           12  \n",
       "..       ...           ...          ...  \n",
       "93       NaN        2000.0           14  \n",
       "94       NaN           NaN           25  \n",
       "95       NaN        1970.0            9  \n",
       "96       NaN        1970.0           18  \n",
       "97       NaN        1980.0           12  \n",
       "\n",
       "[98 rows x 13 columns]"
      ]
     },
     "execution_count": 12,
     "metadata": {},
     "output_type": "execute_result"
    }
   ],
   "source": [
    "time['Name Length'] = time['Name'].apply(len)\n",
    "time"
   ]
  },
  {
   "cell_type": "markdown",
   "metadata": {
    "slideshow": {
     "slide_type": "subslide"
    }
   },
   "source": [
    "Another example, we can create a function to get the initials from a name."
   ]
  },
  {
   "cell_type": "code",
   "execution_count": 13,
   "metadata": {
    "slideshow": {
     "slide_type": "fragment"
    }
   },
   "outputs": [
    {
     "data": {
      "text/plain": [
       "'BO'"
      ]
     },
     "execution_count": 13,
     "metadata": {},
     "output_type": "execute_result"
    }
   ],
   "source": [
    "# First we define the function\n",
    "def to_initials(name):\n",
    "    import numpy as np # we need this for Python to know what NaN is!\n",
    "    if name == np.nan:\n",
    "        return np.nan\n",
    "    else:\n",
    "        initials = \"\"\n",
    "        for word in name.split(' '):\n",
    "            first_letter = word[0]\n",
    "            initials += first_letter\n",
    "        return initials\n",
    "    # Then, we try it\n",
    "to_initials(\"Barack Obama\")"
   ]
  },
  {
   "cell_type": "markdown",
   "metadata": {
    "slideshow": {
     "slide_type": "subslide"
    }
   },
   "source": [
    "Applying this gives us a name column with the person's initials."
   ]
  },
  {
   "cell_type": "code",
   "execution_count": 14,
   "metadata": {
    "slideshow": {
     "slide_type": "fragment"
    }
   },
   "outputs": [
    {
     "data": {
      "text/html": [
       "<div>\n",
       "<style scoped>\n",
       "    .dataframe tbody tr th:only-of-type {\n",
       "        vertical-align: middle;\n",
       "    }\n",
       "\n",
       "    .dataframe tbody tr th {\n",
       "        vertical-align: top;\n",
       "    }\n",
       "\n",
       "    .dataframe thead th {\n",
       "        text-align: right;\n",
       "    }\n",
       "</style>\n",
       "<table border=\"1\" class=\"dataframe\">\n",
       "  <thead>\n",
       "    <tr style=\"text-align: right;\">\n",
       "      <th></th>\n",
       "      <th>Year</th>\n",
       "      <th>Honor</th>\n",
       "      <th>Name</th>\n",
       "      <th>Country</th>\n",
       "      <th>Birth Year</th>\n",
       "      <th>Death Year</th>\n",
       "      <th>Title</th>\n",
       "      <th>Category</th>\n",
       "      <th>Context</th>\n",
       "      <th>Category Ordinal</th>\n",
       "      <th>Lifespan</th>\n",
       "      <th>Birth Decade</th>\n",
       "      <th>Name Length</th>\n",
       "      <th>Initials</th>\n",
       "    </tr>\n",
       "  </thead>\n",
       "  <tbody>\n",
       "    <tr>\n",
       "      <th>0</th>\n",
       "      <td>1927</td>\n",
       "      <td>Man of the Year</td>\n",
       "      <td>Charles Lindbergh</td>\n",
       "      <td>United States</td>\n",
       "      <td>1902.0</td>\n",
       "      <td>1974.0</td>\n",
       "      <td>US Air Mail Pilot</td>\n",
       "      <td>NaN</td>\n",
       "      <td>First Solo Transatlantic Flight</td>\n",
       "      <td>11</td>\n",
       "      <td>72.0</td>\n",
       "      <td>1900.0</td>\n",
       "      <td>17</td>\n",
       "      <td>CL</td>\n",
       "    </tr>\n",
       "    <tr>\n",
       "      <th>1</th>\n",
       "      <td>1928</td>\n",
       "      <td>Man of the Year</td>\n",
       "      <td>Walter Chrysler</td>\n",
       "      <td>United States</td>\n",
       "      <td>1875.0</td>\n",
       "      <td>1940.0</td>\n",
       "      <td>Founder of Chrysler</td>\n",
       "      <td>Economics</td>\n",
       "      <td>Chrysler/Dodge Merger</td>\n",
       "      <td>4</td>\n",
       "      <td>65.0</td>\n",
       "      <td>1870.0</td>\n",
       "      <td>15</td>\n",
       "      <td>WC</td>\n",
       "    </tr>\n",
       "    <tr>\n",
       "      <th>2</th>\n",
       "      <td>1929</td>\n",
       "      <td>Man of the Year</td>\n",
       "      <td>Owen D. Young</td>\n",
       "      <td>United States</td>\n",
       "      <td>1874.0</td>\n",
       "      <td>1962.0</td>\n",
       "      <td>Member of the German Reparations International...</td>\n",
       "      <td>Diplomacy</td>\n",
       "      <td>Young Plan</td>\n",
       "      <td>8</td>\n",
       "      <td>88.0</td>\n",
       "      <td>1870.0</td>\n",
       "      <td>13</td>\n",
       "      <td>ODY</td>\n",
       "    </tr>\n",
       "    <tr>\n",
       "      <th>3</th>\n",
       "      <td>1930</td>\n",
       "      <td>Man of the Year</td>\n",
       "      <td>Mahatma Gandhi</td>\n",
       "      <td>India</td>\n",
       "      <td>1869.0</td>\n",
       "      <td>1948.0</td>\n",
       "      <td>NaN</td>\n",
       "      <td>Revolution</td>\n",
       "      <td>Salt March</td>\n",
       "      <td>0</td>\n",
       "      <td>79.0</td>\n",
       "      <td>1860.0</td>\n",
       "      <td>14</td>\n",
       "      <td>MG</td>\n",
       "    </tr>\n",
       "    <tr>\n",
       "      <th>4</th>\n",
       "      <td>1931</td>\n",
       "      <td>Man of the Year</td>\n",
       "      <td>Pierre Laval</td>\n",
       "      <td>France</td>\n",
       "      <td>1883.0</td>\n",
       "      <td>1945.0</td>\n",
       "      <td>Prime Minister of France</td>\n",
       "      <td>Politics</td>\n",
       "      <td>NaN</td>\n",
       "      <td>2</td>\n",
       "      <td>62.0</td>\n",
       "      <td>1880.0</td>\n",
       "      <td>12</td>\n",
       "      <td>PL</td>\n",
       "    </tr>\n",
       "    <tr>\n",
       "      <th>...</th>\n",
       "      <td>...</td>\n",
       "      <td>...</td>\n",
       "      <td>...</td>\n",
       "      <td>...</td>\n",
       "      <td>...</td>\n",
       "      <td>...</td>\n",
       "      <td>...</td>\n",
       "      <td>...</td>\n",
       "      <td>...</td>\n",
       "      <td>...</td>\n",
       "      <td>...</td>\n",
       "      <td>...</td>\n",
       "      <td>...</td>\n",
       "      <td>...</td>\n",
       "    </tr>\n",
       "    <tr>\n",
       "      <th>93</th>\n",
       "      <td>2019</td>\n",
       "      <td>Person of the Year</td>\n",
       "      <td>Greta Thunberg</td>\n",
       "      <td>Sweden</td>\n",
       "      <td>2003.0</td>\n",
       "      <td>NaN</td>\n",
       "      <td>Environmental ctivist</td>\n",
       "      <td>Environment</td>\n",
       "      <td>School Strike for Climate Campaign</td>\n",
       "      <td>5</td>\n",
       "      <td>NaN</td>\n",
       "      <td>2000.0</td>\n",
       "      <td>14</td>\n",
       "      <td>GT</td>\n",
       "    </tr>\n",
       "    <tr>\n",
       "      <th>94</th>\n",
       "      <td>2020</td>\n",
       "      <td>Person of the Year</td>\n",
       "      <td>Joe Biden &amp; Kamala Harris</td>\n",
       "      <td>United States</td>\n",
       "      <td>NaN</td>\n",
       "      <td>NaN</td>\n",
       "      <td>President and Vice President of the USA</td>\n",
       "      <td>Politics</td>\n",
       "      <td>Presidential Election</td>\n",
       "      <td>2</td>\n",
       "      <td>NaN</td>\n",
       "      <td>NaN</td>\n",
       "      <td>25</td>\n",
       "      <td>JB&amp;KH</td>\n",
       "    </tr>\n",
       "    <tr>\n",
       "      <th>95</th>\n",
       "      <td>2021</td>\n",
       "      <td>Person of the Year</td>\n",
       "      <td>Elon Musk</td>\n",
       "      <td>South Africa</td>\n",
       "      <td>1971.0</td>\n",
       "      <td>NaN</td>\n",
       "      <td>CEO of Tesla</td>\n",
       "      <td>Technology</td>\n",
       "      <td>Richest Person in the World</td>\n",
       "      <td>7</td>\n",
       "      <td>NaN</td>\n",
       "      <td>1970.0</td>\n",
       "      <td>9</td>\n",
       "      <td>EM</td>\n",
       "    </tr>\n",
       "    <tr>\n",
       "      <th>96</th>\n",
       "      <td>2022</td>\n",
       "      <td>Person of the Year</td>\n",
       "      <td>Volodymyr Zelensky</td>\n",
       "      <td>Ukraine</td>\n",
       "      <td>1978.0</td>\n",
       "      <td>NaN</td>\n",
       "      <td>President of Ukraine</td>\n",
       "      <td>Politics</td>\n",
       "      <td>War in Ukraine</td>\n",
       "      <td>2</td>\n",
       "      <td>NaN</td>\n",
       "      <td>1970.0</td>\n",
       "      <td>18</td>\n",
       "      <td>VZ</td>\n",
       "    </tr>\n",
       "    <tr>\n",
       "      <th>97</th>\n",
       "      <td>2023</td>\n",
       "      <td>Person of the Year</td>\n",
       "      <td>Taylor Swift</td>\n",
       "      <td>United States</td>\n",
       "      <td>1989.0</td>\n",
       "      <td>NaN</td>\n",
       "      <td>Singer-songwriter</td>\n",
       "      <td>Entertainment</td>\n",
       "      <td>Cultural and Economic Impact</td>\n",
       "      <td>6</td>\n",
       "      <td>NaN</td>\n",
       "      <td>1980.0</td>\n",
       "      <td>12</td>\n",
       "      <td>TS</td>\n",
       "    </tr>\n",
       "  </tbody>\n",
       "</table>\n",
       "<p>98 rows × 14 columns</p>\n",
       "</div>"
      ],
      "text/plain": [
       "    Year               Honor                       Name        Country  \\\n",
       "0   1927     Man of the Year          Charles Lindbergh  United States   \n",
       "1   1928     Man of the Year            Walter Chrysler  United States   \n",
       "2   1929     Man of the Year              Owen D. Young  United States   \n",
       "3   1930     Man of the Year             Mahatma Gandhi          India   \n",
       "4   1931     Man of the Year               Pierre Laval         France   \n",
       "..   ...                 ...                        ...            ...   \n",
       "93  2019  Person of the Year             Greta Thunberg         Sweden   \n",
       "94  2020  Person of the Year  Joe Biden & Kamala Harris  United States   \n",
       "95  2021  Person of the Year                  Elon Musk   South Africa   \n",
       "96  2022  Person of the Year         Volodymyr Zelensky        Ukraine   \n",
       "97  2023  Person of the Year               Taylor Swift  United States   \n",
       "\n",
       "    Birth Year  Death Year                                              Title  \\\n",
       "0       1902.0      1974.0                                  US Air Mail Pilot   \n",
       "1       1875.0      1940.0                                Founder of Chrysler   \n",
       "2       1874.0      1962.0  Member of the German Reparations International...   \n",
       "3       1869.0      1948.0                                                NaN   \n",
       "4       1883.0      1945.0                           Prime Minister of France   \n",
       "..         ...         ...                                                ...   \n",
       "93      2003.0         NaN                              Environmental ctivist   \n",
       "94         NaN         NaN            President and Vice President of the USA   \n",
       "95      1971.0         NaN                                       CEO of Tesla   \n",
       "96      1978.0         NaN                               President of Ukraine   \n",
       "97      1989.0         NaN                                  Singer-songwriter   \n",
       "\n",
       "         Category                             Context  Category Ordinal  \\\n",
       "0             NaN     First Solo Transatlantic Flight                11   \n",
       "1       Economics               Chrysler/Dodge Merger                 4   \n",
       "2       Diplomacy                          Young Plan                 8   \n",
       "3      Revolution                          Salt March                 0   \n",
       "4        Politics                                 NaN                 2   \n",
       "..            ...                                 ...               ...   \n",
       "93    Environment  School Strike for Climate Campaign                 5   \n",
       "94       Politics               Presidential Election                 2   \n",
       "95     Technology         Richest Person in the World                 7   \n",
       "96       Politics                      War in Ukraine                 2   \n",
       "97  Entertainment        Cultural and Economic Impact                 6   \n",
       "\n",
       "    Lifespan  Birth Decade  Name Length Initials  \n",
       "0       72.0        1900.0           17       CL  \n",
       "1       65.0        1870.0           15       WC  \n",
       "2       88.0        1870.0           13      ODY  \n",
       "3       79.0        1860.0           14       MG  \n",
       "4       62.0        1880.0           12       PL  \n",
       "..       ...           ...          ...      ...  \n",
       "93       NaN        2000.0           14       GT  \n",
       "94       NaN           NaN           25    JB&KH  \n",
       "95       NaN        1970.0            9       EM  \n",
       "96       NaN        1970.0           18       VZ  \n",
       "97       NaN        1980.0           12       TS  \n",
       "\n",
       "[98 rows x 14 columns]"
      ]
     },
     "execution_count": 14,
     "metadata": {},
     "output_type": "execute_result"
    }
   ],
   "source": [
    "time['Initials'] = time['Name'].apply(to_initials)\n",
    "time"
   ]
  },
  {
   "cell_type": "markdown",
   "metadata": {
    "slideshow": {
     "slide_type": "subslide"
    }
   },
   "source": [
    "### Removing Columns (Unwanted Variables)"
   ]
  },
  {
   "cell_type": "markdown",
   "metadata": {
    "slideshow": {
     "slide_type": "subslide"
    }
   },
   "source": [
    "There are two main ways to remove them, either we specify which columns we want to **keep** or we specify which we want to **remove**"
   ]
  },
  {
   "cell_type": "markdown",
   "metadata": {
    "slideshow": {
     "slide_type": "fragment"
    }
   },
   "source": [
    "Here is the version where we specify, by name, which columns to **keep**."
   ]
  },
  {
   "cell_type": "code",
   "execution_count": 15,
   "metadata": {
    "slideshow": {
     "slide_type": "fragment"
    }
   },
   "outputs": [
    {
     "data": {
      "text/html": [
       "<div>\n",
       "<style scoped>\n",
       "    .dataframe tbody tr th:only-of-type {\n",
       "        vertical-align: middle;\n",
       "    }\n",
       "\n",
       "    .dataframe tbody tr th {\n",
       "        vertical-align: top;\n",
       "    }\n",
       "\n",
       "    .dataframe thead th {\n",
       "        text-align: right;\n",
       "    }\n",
       "</style>\n",
       "<table border=\"1\" class=\"dataframe\">\n",
       "  <thead>\n",
       "    <tr style=\"text-align: right;\">\n",
       "      <th></th>\n",
       "      <th>Year</th>\n",
       "      <th>Honor</th>\n",
       "      <th>Name</th>\n",
       "    </tr>\n",
       "  </thead>\n",
       "  <tbody>\n",
       "    <tr>\n",
       "      <th>0</th>\n",
       "      <td>1927</td>\n",
       "      <td>Man of the Year</td>\n",
       "      <td>Charles Lindbergh</td>\n",
       "    </tr>\n",
       "    <tr>\n",
       "      <th>1</th>\n",
       "      <td>1928</td>\n",
       "      <td>Man of the Year</td>\n",
       "      <td>Walter Chrysler</td>\n",
       "    </tr>\n",
       "    <tr>\n",
       "      <th>2</th>\n",
       "      <td>1929</td>\n",
       "      <td>Man of the Year</td>\n",
       "      <td>Owen D. Young</td>\n",
       "    </tr>\n",
       "    <tr>\n",
       "      <th>3</th>\n",
       "      <td>1930</td>\n",
       "      <td>Man of the Year</td>\n",
       "      <td>Mahatma Gandhi</td>\n",
       "    </tr>\n",
       "    <tr>\n",
       "      <th>4</th>\n",
       "      <td>1931</td>\n",
       "      <td>Man of the Year</td>\n",
       "      <td>Pierre Laval</td>\n",
       "    </tr>\n",
       "    <tr>\n",
       "      <th>...</th>\n",
       "      <td>...</td>\n",
       "      <td>...</td>\n",
       "      <td>...</td>\n",
       "    </tr>\n",
       "    <tr>\n",
       "      <th>93</th>\n",
       "      <td>2019</td>\n",
       "      <td>Person of the Year</td>\n",
       "      <td>Greta Thunberg</td>\n",
       "    </tr>\n",
       "    <tr>\n",
       "      <th>94</th>\n",
       "      <td>2020</td>\n",
       "      <td>Person of the Year</td>\n",
       "      <td>Joe Biden &amp; Kamala Harris</td>\n",
       "    </tr>\n",
       "    <tr>\n",
       "      <th>95</th>\n",
       "      <td>2021</td>\n",
       "      <td>Person of the Year</td>\n",
       "      <td>Elon Musk</td>\n",
       "    </tr>\n",
       "    <tr>\n",
       "      <th>96</th>\n",
       "      <td>2022</td>\n",
       "      <td>Person of the Year</td>\n",
       "      <td>Volodymyr Zelensky</td>\n",
       "    </tr>\n",
       "    <tr>\n",
       "      <th>97</th>\n",
       "      <td>2023</td>\n",
       "      <td>Person of the Year</td>\n",
       "      <td>Taylor Swift</td>\n",
       "    </tr>\n",
       "  </tbody>\n",
       "</table>\n",
       "<p>98 rows × 3 columns</p>\n",
       "</div>"
      ],
      "text/plain": [
       "    Year               Honor                       Name\n",
       "0   1927     Man of the Year          Charles Lindbergh\n",
       "1   1928     Man of the Year            Walter Chrysler\n",
       "2   1929     Man of the Year              Owen D. Young\n",
       "3   1930     Man of the Year             Mahatma Gandhi\n",
       "4   1931     Man of the Year               Pierre Laval\n",
       "..   ...                 ...                        ...\n",
       "93  2019  Person of the Year             Greta Thunberg\n",
       "94  2020  Person of the Year  Joe Biden & Kamala Harris\n",
       "95  2021  Person of the Year                  Elon Musk\n",
       "96  2022  Person of the Year         Volodymyr Zelensky\n",
       "97  2023  Person of the Year               Taylor Swift\n",
       "\n",
       "[98 rows x 3 columns]"
      ]
     },
     "execution_count": 15,
     "metadata": {},
     "output_type": "execute_result"
    }
   ],
   "source": [
    "time[['Year', 'Honor', 'Name']]"
   ]
  },
  {
   "cell_type": "markdown",
   "metadata": {
    "slideshow": {
     "slide_type": "subslide"
    }
   },
   "source": [
    "Here is the version where we specify, by name, which columns to **remove**"
   ]
  },
  {
   "cell_type": "code",
   "execution_count": 16,
   "metadata": {
    "slideshow": {
     "slide_type": "fragment"
    }
   },
   "outputs": [
    {
     "data": {
      "text/html": [
       "<div>\n",
       "<style scoped>\n",
       "    .dataframe tbody tr th:only-of-type {\n",
       "        vertical-align: middle;\n",
       "    }\n",
       "\n",
       "    .dataframe tbody tr th {\n",
       "        vertical-align: top;\n",
       "    }\n",
       "\n",
       "    .dataframe thead th {\n",
       "        text-align: right;\n",
       "    }\n",
       "</style>\n",
       "<table border=\"1\" class=\"dataframe\">\n",
       "  <thead>\n",
       "    <tr style=\"text-align: right;\">\n",
       "      <th></th>\n",
       "      <th>Country</th>\n",
       "      <th>Birth Year</th>\n",
       "      <th>Death Year</th>\n",
       "      <th>Title</th>\n",
       "      <th>Category</th>\n",
       "      <th>Context</th>\n",
       "      <th>Category Ordinal</th>\n",
       "      <th>Lifespan</th>\n",
       "      <th>Birth Decade</th>\n",
       "      <th>Name Length</th>\n",
       "      <th>Initials</th>\n",
       "    </tr>\n",
       "  </thead>\n",
       "  <tbody>\n",
       "    <tr>\n",
       "      <th>0</th>\n",
       "      <td>United States</td>\n",
       "      <td>1902.0</td>\n",
       "      <td>1974.0</td>\n",
       "      <td>US Air Mail Pilot</td>\n",
       "      <td>NaN</td>\n",
       "      <td>First Solo Transatlantic Flight</td>\n",
       "      <td>11</td>\n",
       "      <td>72.0</td>\n",
       "      <td>1900.0</td>\n",
       "      <td>17</td>\n",
       "      <td>CL</td>\n",
       "    </tr>\n",
       "    <tr>\n",
       "      <th>1</th>\n",
       "      <td>United States</td>\n",
       "      <td>1875.0</td>\n",
       "      <td>1940.0</td>\n",
       "      <td>Founder of Chrysler</td>\n",
       "      <td>Economics</td>\n",
       "      <td>Chrysler/Dodge Merger</td>\n",
       "      <td>4</td>\n",
       "      <td>65.0</td>\n",
       "      <td>1870.0</td>\n",
       "      <td>15</td>\n",
       "      <td>WC</td>\n",
       "    </tr>\n",
       "    <tr>\n",
       "      <th>2</th>\n",
       "      <td>United States</td>\n",
       "      <td>1874.0</td>\n",
       "      <td>1962.0</td>\n",
       "      <td>Member of the German Reparations International...</td>\n",
       "      <td>Diplomacy</td>\n",
       "      <td>Young Plan</td>\n",
       "      <td>8</td>\n",
       "      <td>88.0</td>\n",
       "      <td>1870.0</td>\n",
       "      <td>13</td>\n",
       "      <td>ODY</td>\n",
       "    </tr>\n",
       "    <tr>\n",
       "      <th>3</th>\n",
       "      <td>India</td>\n",
       "      <td>1869.0</td>\n",
       "      <td>1948.0</td>\n",
       "      <td>NaN</td>\n",
       "      <td>Revolution</td>\n",
       "      <td>Salt March</td>\n",
       "      <td>0</td>\n",
       "      <td>79.0</td>\n",
       "      <td>1860.0</td>\n",
       "      <td>14</td>\n",
       "      <td>MG</td>\n",
       "    </tr>\n",
       "    <tr>\n",
       "      <th>4</th>\n",
       "      <td>France</td>\n",
       "      <td>1883.0</td>\n",
       "      <td>1945.0</td>\n",
       "      <td>Prime Minister of France</td>\n",
       "      <td>Politics</td>\n",
       "      <td>NaN</td>\n",
       "      <td>2</td>\n",
       "      <td>62.0</td>\n",
       "      <td>1880.0</td>\n",
       "      <td>12</td>\n",
       "      <td>PL</td>\n",
       "    </tr>\n",
       "    <tr>\n",
       "      <th>...</th>\n",
       "      <td>...</td>\n",
       "      <td>...</td>\n",
       "      <td>...</td>\n",
       "      <td>...</td>\n",
       "      <td>...</td>\n",
       "      <td>...</td>\n",
       "      <td>...</td>\n",
       "      <td>...</td>\n",
       "      <td>...</td>\n",
       "      <td>...</td>\n",
       "      <td>...</td>\n",
       "    </tr>\n",
       "    <tr>\n",
       "      <th>93</th>\n",
       "      <td>Sweden</td>\n",
       "      <td>2003.0</td>\n",
       "      <td>NaN</td>\n",
       "      <td>Environmental ctivist</td>\n",
       "      <td>Environment</td>\n",
       "      <td>School Strike for Climate Campaign</td>\n",
       "      <td>5</td>\n",
       "      <td>NaN</td>\n",
       "      <td>2000.0</td>\n",
       "      <td>14</td>\n",
       "      <td>GT</td>\n",
       "    </tr>\n",
       "    <tr>\n",
       "      <th>94</th>\n",
       "      <td>United States</td>\n",
       "      <td>NaN</td>\n",
       "      <td>NaN</td>\n",
       "      <td>President and Vice President of the USA</td>\n",
       "      <td>Politics</td>\n",
       "      <td>Presidential Election</td>\n",
       "      <td>2</td>\n",
       "      <td>NaN</td>\n",
       "      <td>NaN</td>\n",
       "      <td>25</td>\n",
       "      <td>JB&amp;KH</td>\n",
       "    </tr>\n",
       "    <tr>\n",
       "      <th>95</th>\n",
       "      <td>South Africa</td>\n",
       "      <td>1971.0</td>\n",
       "      <td>NaN</td>\n",
       "      <td>CEO of Tesla</td>\n",
       "      <td>Technology</td>\n",
       "      <td>Richest Person in the World</td>\n",
       "      <td>7</td>\n",
       "      <td>NaN</td>\n",
       "      <td>1970.0</td>\n",
       "      <td>9</td>\n",
       "      <td>EM</td>\n",
       "    </tr>\n",
       "    <tr>\n",
       "      <th>96</th>\n",
       "      <td>Ukraine</td>\n",
       "      <td>1978.0</td>\n",
       "      <td>NaN</td>\n",
       "      <td>President of Ukraine</td>\n",
       "      <td>Politics</td>\n",
       "      <td>War in Ukraine</td>\n",
       "      <td>2</td>\n",
       "      <td>NaN</td>\n",
       "      <td>1970.0</td>\n",
       "      <td>18</td>\n",
       "      <td>VZ</td>\n",
       "    </tr>\n",
       "    <tr>\n",
       "      <th>97</th>\n",
       "      <td>United States</td>\n",
       "      <td>1989.0</td>\n",
       "      <td>NaN</td>\n",
       "      <td>Singer-songwriter</td>\n",
       "      <td>Entertainment</td>\n",
       "      <td>Cultural and Economic Impact</td>\n",
       "      <td>6</td>\n",
       "      <td>NaN</td>\n",
       "      <td>1980.0</td>\n",
       "      <td>12</td>\n",
       "      <td>TS</td>\n",
       "    </tr>\n",
       "  </tbody>\n",
       "</table>\n",
       "<p>98 rows × 11 columns</p>\n",
       "</div>"
      ],
      "text/plain": [
       "          Country  Birth Year  Death Year  \\\n",
       "0   United States      1902.0      1974.0   \n",
       "1   United States      1875.0      1940.0   \n",
       "2   United States      1874.0      1962.0   \n",
       "3           India      1869.0      1948.0   \n",
       "4          France      1883.0      1945.0   \n",
       "..            ...         ...         ...   \n",
       "93         Sweden      2003.0         NaN   \n",
       "94  United States         NaN         NaN   \n",
       "95   South Africa      1971.0         NaN   \n",
       "96        Ukraine      1978.0         NaN   \n",
       "97  United States      1989.0         NaN   \n",
       "\n",
       "                                                Title       Category  \\\n",
       "0                                   US Air Mail Pilot            NaN   \n",
       "1                                 Founder of Chrysler      Economics   \n",
       "2   Member of the German Reparations International...      Diplomacy   \n",
       "3                                                 NaN     Revolution   \n",
       "4                            Prime Minister of France       Politics   \n",
       "..                                                ...            ...   \n",
       "93                              Environmental ctivist    Environment   \n",
       "94            President and Vice President of the USA       Politics   \n",
       "95                                       CEO of Tesla     Technology   \n",
       "96                               President of Ukraine       Politics   \n",
       "97                                  Singer-songwriter  Entertainment   \n",
       "\n",
       "                               Context  Category Ordinal  Lifespan  \\\n",
       "0      First Solo Transatlantic Flight                11      72.0   \n",
       "1                Chrysler/Dodge Merger                 4      65.0   \n",
       "2                           Young Plan                 8      88.0   \n",
       "3                           Salt March                 0      79.0   \n",
       "4                                  NaN                 2      62.0   \n",
       "..                                 ...               ...       ...   \n",
       "93  School Strike for Climate Campaign                 5       NaN   \n",
       "94               Presidential Election                 2       NaN   \n",
       "95         Richest Person in the World                 7       NaN   \n",
       "96                      War in Ukraine                 2       NaN   \n",
       "97        Cultural and Economic Impact                 6       NaN   \n",
       "\n",
       "    Birth Decade  Name Length Initials  \n",
       "0         1900.0           17       CL  \n",
       "1         1870.0           15       WC  \n",
       "2         1870.0           13      ODY  \n",
       "3         1860.0           14       MG  \n",
       "4         1880.0           12       PL  \n",
       "..           ...          ...      ...  \n",
       "93        2000.0           14       GT  \n",
       "94           NaN           25    JB&KH  \n",
       "95        1970.0            9       EM  \n",
       "96        1970.0           18       VZ  \n",
       "97        1980.0           12       TS  \n",
       "\n",
       "[98 rows x 11 columns]"
      ]
     },
     "execution_count": 16,
     "metadata": {},
     "output_type": "execute_result"
    }
   ],
   "source": [
    "time.drop(columns=['Year', 'Honor', 'Name'])"
   ]
  },
  {
   "cell_type": "markdown",
   "metadata": {
    "slideshow": {
     "slide_type": "subslide"
    }
   },
   "source": [
    "To apply the changes, assign the result back to the same `time` variable"
   ]
  },
  {
   "cell_type": "code",
   "execution_count": 17,
   "metadata": {
    "slideshow": {
     "slide_type": "fragment"
    }
   },
   "outputs": [
    {
     "data": {
      "text/html": [
       "<div>\n",
       "<style scoped>\n",
       "    .dataframe tbody tr th:only-of-type {\n",
       "        vertical-align: middle;\n",
       "    }\n",
       "\n",
       "    .dataframe tbody tr th {\n",
       "        vertical-align: top;\n",
       "    }\n",
       "\n",
       "    .dataframe thead th {\n",
       "        text-align: right;\n",
       "    }\n",
       "</style>\n",
       "<table border=\"1\" class=\"dataframe\">\n",
       "  <thead>\n",
       "    <tr style=\"text-align: right;\">\n",
       "      <th></th>\n",
       "      <th>Country</th>\n",
       "      <th>Birth Year</th>\n",
       "      <th>Death Year</th>\n",
       "      <th>Title</th>\n",
       "      <th>Category</th>\n",
       "      <th>Context</th>\n",
       "      <th>Category Ordinal</th>\n",
       "      <th>Lifespan</th>\n",
       "      <th>Birth Decade</th>\n",
       "      <th>Name Length</th>\n",
       "      <th>Initials</th>\n",
       "    </tr>\n",
       "  </thead>\n",
       "  <tbody>\n",
       "    <tr>\n",
       "      <th>0</th>\n",
       "      <td>United States</td>\n",
       "      <td>1902.0</td>\n",
       "      <td>1974.0</td>\n",
       "      <td>US Air Mail Pilot</td>\n",
       "      <td>NaN</td>\n",
       "      <td>First Solo Transatlantic Flight</td>\n",
       "      <td>11</td>\n",
       "      <td>72.0</td>\n",
       "      <td>1900.0</td>\n",
       "      <td>17</td>\n",
       "      <td>CL</td>\n",
       "    </tr>\n",
       "    <tr>\n",
       "      <th>1</th>\n",
       "      <td>United States</td>\n",
       "      <td>1875.0</td>\n",
       "      <td>1940.0</td>\n",
       "      <td>Founder of Chrysler</td>\n",
       "      <td>Economics</td>\n",
       "      <td>Chrysler/Dodge Merger</td>\n",
       "      <td>4</td>\n",
       "      <td>65.0</td>\n",
       "      <td>1870.0</td>\n",
       "      <td>15</td>\n",
       "      <td>WC</td>\n",
       "    </tr>\n",
       "    <tr>\n",
       "      <th>2</th>\n",
       "      <td>United States</td>\n",
       "      <td>1874.0</td>\n",
       "      <td>1962.0</td>\n",
       "      <td>Member of the German Reparations International...</td>\n",
       "      <td>Diplomacy</td>\n",
       "      <td>Young Plan</td>\n",
       "      <td>8</td>\n",
       "      <td>88.0</td>\n",
       "      <td>1870.0</td>\n",
       "      <td>13</td>\n",
       "      <td>ODY</td>\n",
       "    </tr>\n",
       "    <tr>\n",
       "      <th>3</th>\n",
       "      <td>India</td>\n",
       "      <td>1869.0</td>\n",
       "      <td>1948.0</td>\n",
       "      <td>NaN</td>\n",
       "      <td>Revolution</td>\n",
       "      <td>Salt March</td>\n",
       "      <td>0</td>\n",
       "      <td>79.0</td>\n",
       "      <td>1860.0</td>\n",
       "      <td>14</td>\n",
       "      <td>MG</td>\n",
       "    </tr>\n",
       "    <tr>\n",
       "      <th>4</th>\n",
       "      <td>France</td>\n",
       "      <td>1883.0</td>\n",
       "      <td>1945.0</td>\n",
       "      <td>Prime Minister of France</td>\n",
       "      <td>Politics</td>\n",
       "      <td>NaN</td>\n",
       "      <td>2</td>\n",
       "      <td>62.0</td>\n",
       "      <td>1880.0</td>\n",
       "      <td>12</td>\n",
       "      <td>PL</td>\n",
       "    </tr>\n",
       "    <tr>\n",
       "      <th>...</th>\n",
       "      <td>...</td>\n",
       "      <td>...</td>\n",
       "      <td>...</td>\n",
       "      <td>...</td>\n",
       "      <td>...</td>\n",
       "      <td>...</td>\n",
       "      <td>...</td>\n",
       "      <td>...</td>\n",
       "      <td>...</td>\n",
       "      <td>...</td>\n",
       "      <td>...</td>\n",
       "    </tr>\n",
       "    <tr>\n",
       "      <th>93</th>\n",
       "      <td>Sweden</td>\n",
       "      <td>2003.0</td>\n",
       "      <td>NaN</td>\n",
       "      <td>Environmental ctivist</td>\n",
       "      <td>Environment</td>\n",
       "      <td>School Strike for Climate Campaign</td>\n",
       "      <td>5</td>\n",
       "      <td>NaN</td>\n",
       "      <td>2000.0</td>\n",
       "      <td>14</td>\n",
       "      <td>GT</td>\n",
       "    </tr>\n",
       "    <tr>\n",
       "      <th>94</th>\n",
       "      <td>United States</td>\n",
       "      <td>NaN</td>\n",
       "      <td>NaN</td>\n",
       "      <td>President and Vice President of the USA</td>\n",
       "      <td>Politics</td>\n",
       "      <td>Presidential Election</td>\n",
       "      <td>2</td>\n",
       "      <td>NaN</td>\n",
       "      <td>NaN</td>\n",
       "      <td>25</td>\n",
       "      <td>JB&amp;KH</td>\n",
       "    </tr>\n",
       "    <tr>\n",
       "      <th>95</th>\n",
       "      <td>South Africa</td>\n",
       "      <td>1971.0</td>\n",
       "      <td>NaN</td>\n",
       "      <td>CEO of Tesla</td>\n",
       "      <td>Technology</td>\n",
       "      <td>Richest Person in the World</td>\n",
       "      <td>7</td>\n",
       "      <td>NaN</td>\n",
       "      <td>1970.0</td>\n",
       "      <td>9</td>\n",
       "      <td>EM</td>\n",
       "    </tr>\n",
       "    <tr>\n",
       "      <th>96</th>\n",
       "      <td>Ukraine</td>\n",
       "      <td>1978.0</td>\n",
       "      <td>NaN</td>\n",
       "      <td>President of Ukraine</td>\n",
       "      <td>Politics</td>\n",
       "      <td>War in Ukraine</td>\n",
       "      <td>2</td>\n",
       "      <td>NaN</td>\n",
       "      <td>1970.0</td>\n",
       "      <td>18</td>\n",
       "      <td>VZ</td>\n",
       "    </tr>\n",
       "    <tr>\n",
       "      <th>97</th>\n",
       "      <td>United States</td>\n",
       "      <td>1989.0</td>\n",
       "      <td>NaN</td>\n",
       "      <td>Singer-songwriter</td>\n",
       "      <td>Entertainment</td>\n",
       "      <td>Cultural and Economic Impact</td>\n",
       "      <td>6</td>\n",
       "      <td>NaN</td>\n",
       "      <td>1980.0</td>\n",
       "      <td>12</td>\n",
       "      <td>TS</td>\n",
       "    </tr>\n",
       "  </tbody>\n",
       "</table>\n",
       "<p>98 rows × 11 columns</p>\n",
       "</div>"
      ],
      "text/plain": [
       "          Country  Birth Year  Death Year  \\\n",
       "0   United States      1902.0      1974.0   \n",
       "1   United States      1875.0      1940.0   \n",
       "2   United States      1874.0      1962.0   \n",
       "3           India      1869.0      1948.0   \n",
       "4          France      1883.0      1945.0   \n",
       "..            ...         ...         ...   \n",
       "93         Sweden      2003.0         NaN   \n",
       "94  United States         NaN         NaN   \n",
       "95   South Africa      1971.0         NaN   \n",
       "96        Ukraine      1978.0         NaN   \n",
       "97  United States      1989.0         NaN   \n",
       "\n",
       "                                                Title       Category  \\\n",
       "0                                   US Air Mail Pilot            NaN   \n",
       "1                                 Founder of Chrysler      Economics   \n",
       "2   Member of the German Reparations International...      Diplomacy   \n",
       "3                                                 NaN     Revolution   \n",
       "4                            Prime Minister of France       Politics   \n",
       "..                                                ...            ...   \n",
       "93                              Environmental ctivist    Environment   \n",
       "94            President and Vice President of the USA       Politics   \n",
       "95                                       CEO of Tesla     Technology   \n",
       "96                               President of Ukraine       Politics   \n",
       "97                                  Singer-songwriter  Entertainment   \n",
       "\n",
       "                               Context  Category Ordinal  Lifespan  \\\n",
       "0      First Solo Transatlantic Flight                11      72.0   \n",
       "1                Chrysler/Dodge Merger                 4      65.0   \n",
       "2                           Young Plan                 8      88.0   \n",
       "3                           Salt March                 0      79.0   \n",
       "4                                  NaN                 2      62.0   \n",
       "..                                 ...               ...       ...   \n",
       "93  School Strike for Climate Campaign                 5       NaN   \n",
       "94               Presidential Election                 2       NaN   \n",
       "95         Richest Person in the World                 7       NaN   \n",
       "96                      War in Ukraine                 2       NaN   \n",
       "97        Cultural and Economic Impact                 6       NaN   \n",
       "\n",
       "    Birth Decade  Name Length Initials  \n",
       "0         1900.0           17       CL  \n",
       "1         1870.0           15       WC  \n",
       "2         1870.0           13      ODY  \n",
       "3         1860.0           14       MG  \n",
       "4         1880.0           12       PL  \n",
       "..           ...          ...      ...  \n",
       "93        2000.0           14       GT  \n",
       "94           NaN           25    JB&KH  \n",
       "95        1970.0            9       EM  \n",
       "96        1970.0           18       VZ  \n",
       "97        1980.0           12       TS  \n",
       "\n",
       "[98 rows x 11 columns]"
      ]
     },
     "execution_count": 17,
     "metadata": {},
     "output_type": "execute_result"
    }
   ],
   "source": [
    "time = time.drop(columns=['Year', 'Honor', 'Name'])\n",
    "time"
   ]
  },
  {
   "cell_type": "markdown",
   "metadata": {
    "slideshow": {
     "slide_type": "subslide"
    }
   },
   "source": [
    "Some functions/methods also have a parameter called `inplace` which, if set = True, apply the change to the original variable "
   ]
  },
  {
   "cell_type": "code",
   "execution_count": 18,
   "metadata": {
    "slideshow": {
     "slide_type": "fragment"
    }
   },
   "outputs": [
    {
     "data": {
      "text/html": [
       "<div>\n",
       "<style scoped>\n",
       "    .dataframe tbody tr th:only-of-type {\n",
       "        vertical-align: middle;\n",
       "    }\n",
       "\n",
       "    .dataframe tbody tr th {\n",
       "        vertical-align: top;\n",
       "    }\n",
       "\n",
       "    .dataframe thead th {\n",
       "        text-align: right;\n",
       "    }\n",
       "</style>\n",
       "<table border=\"1\" class=\"dataframe\">\n",
       "  <thead>\n",
       "    <tr style=\"text-align: right;\">\n",
       "      <th></th>\n",
       "      <th>Country</th>\n",
       "      <th>Birth Year</th>\n",
       "      <th>Death Year</th>\n",
       "      <th>Title</th>\n",
       "      <th>Category</th>\n",
       "      <th>Context</th>\n",
       "      <th>Category Ordinal</th>\n",
       "      <th>Birth Decade</th>\n",
       "      <th>Name Length</th>\n",
       "      <th>Initials</th>\n",
       "    </tr>\n",
       "  </thead>\n",
       "  <tbody>\n",
       "    <tr>\n",
       "      <th>0</th>\n",
       "      <td>United States</td>\n",
       "      <td>1902.0</td>\n",
       "      <td>1974.0</td>\n",
       "      <td>US Air Mail Pilot</td>\n",
       "      <td>NaN</td>\n",
       "      <td>First Solo Transatlantic Flight</td>\n",
       "      <td>11</td>\n",
       "      <td>1900.0</td>\n",
       "      <td>17</td>\n",
       "      <td>CL</td>\n",
       "    </tr>\n",
       "    <tr>\n",
       "      <th>1</th>\n",
       "      <td>United States</td>\n",
       "      <td>1875.0</td>\n",
       "      <td>1940.0</td>\n",
       "      <td>Founder of Chrysler</td>\n",
       "      <td>Economics</td>\n",
       "      <td>Chrysler/Dodge Merger</td>\n",
       "      <td>4</td>\n",
       "      <td>1870.0</td>\n",
       "      <td>15</td>\n",
       "      <td>WC</td>\n",
       "    </tr>\n",
       "    <tr>\n",
       "      <th>2</th>\n",
       "      <td>United States</td>\n",
       "      <td>1874.0</td>\n",
       "      <td>1962.0</td>\n",
       "      <td>Member of the German Reparations International...</td>\n",
       "      <td>Diplomacy</td>\n",
       "      <td>Young Plan</td>\n",
       "      <td>8</td>\n",
       "      <td>1870.0</td>\n",
       "      <td>13</td>\n",
       "      <td>ODY</td>\n",
       "    </tr>\n",
       "    <tr>\n",
       "      <th>3</th>\n",
       "      <td>India</td>\n",
       "      <td>1869.0</td>\n",
       "      <td>1948.0</td>\n",
       "      <td>NaN</td>\n",
       "      <td>Revolution</td>\n",
       "      <td>Salt March</td>\n",
       "      <td>0</td>\n",
       "      <td>1860.0</td>\n",
       "      <td>14</td>\n",
       "      <td>MG</td>\n",
       "    </tr>\n",
       "    <tr>\n",
       "      <th>4</th>\n",
       "      <td>France</td>\n",
       "      <td>1883.0</td>\n",
       "      <td>1945.0</td>\n",
       "      <td>Prime Minister of France</td>\n",
       "      <td>Politics</td>\n",
       "      <td>NaN</td>\n",
       "      <td>2</td>\n",
       "      <td>1880.0</td>\n",
       "      <td>12</td>\n",
       "      <td>PL</td>\n",
       "    </tr>\n",
       "    <tr>\n",
       "      <th>...</th>\n",
       "      <td>...</td>\n",
       "      <td>...</td>\n",
       "      <td>...</td>\n",
       "      <td>...</td>\n",
       "      <td>...</td>\n",
       "      <td>...</td>\n",
       "      <td>...</td>\n",
       "      <td>...</td>\n",
       "      <td>...</td>\n",
       "      <td>...</td>\n",
       "    </tr>\n",
       "    <tr>\n",
       "      <th>93</th>\n",
       "      <td>Sweden</td>\n",
       "      <td>2003.0</td>\n",
       "      <td>NaN</td>\n",
       "      <td>Environmental ctivist</td>\n",
       "      <td>Environment</td>\n",
       "      <td>School Strike for Climate Campaign</td>\n",
       "      <td>5</td>\n",
       "      <td>2000.0</td>\n",
       "      <td>14</td>\n",
       "      <td>GT</td>\n",
       "    </tr>\n",
       "    <tr>\n",
       "      <th>94</th>\n",
       "      <td>United States</td>\n",
       "      <td>NaN</td>\n",
       "      <td>NaN</td>\n",
       "      <td>President and Vice President of the USA</td>\n",
       "      <td>Politics</td>\n",
       "      <td>Presidential Election</td>\n",
       "      <td>2</td>\n",
       "      <td>NaN</td>\n",
       "      <td>25</td>\n",
       "      <td>JB&amp;KH</td>\n",
       "    </tr>\n",
       "    <tr>\n",
       "      <th>95</th>\n",
       "      <td>South Africa</td>\n",
       "      <td>1971.0</td>\n",
       "      <td>NaN</td>\n",
       "      <td>CEO of Tesla</td>\n",
       "      <td>Technology</td>\n",
       "      <td>Richest Person in the World</td>\n",
       "      <td>7</td>\n",
       "      <td>1970.0</td>\n",
       "      <td>9</td>\n",
       "      <td>EM</td>\n",
       "    </tr>\n",
       "    <tr>\n",
       "      <th>96</th>\n",
       "      <td>Ukraine</td>\n",
       "      <td>1978.0</td>\n",
       "      <td>NaN</td>\n",
       "      <td>President of Ukraine</td>\n",
       "      <td>Politics</td>\n",
       "      <td>War in Ukraine</td>\n",
       "      <td>2</td>\n",
       "      <td>1970.0</td>\n",
       "      <td>18</td>\n",
       "      <td>VZ</td>\n",
       "    </tr>\n",
       "    <tr>\n",
       "      <th>97</th>\n",
       "      <td>United States</td>\n",
       "      <td>1989.0</td>\n",
       "      <td>NaN</td>\n",
       "      <td>Singer-songwriter</td>\n",
       "      <td>Entertainment</td>\n",
       "      <td>Cultural and Economic Impact</td>\n",
       "      <td>6</td>\n",
       "      <td>1980.0</td>\n",
       "      <td>12</td>\n",
       "      <td>TS</td>\n",
       "    </tr>\n",
       "  </tbody>\n",
       "</table>\n",
       "<p>98 rows × 10 columns</p>\n",
       "</div>"
      ],
      "text/plain": [
       "          Country  Birth Year  Death Year  \\\n",
       "0   United States      1902.0      1974.0   \n",
       "1   United States      1875.0      1940.0   \n",
       "2   United States      1874.0      1962.0   \n",
       "3           India      1869.0      1948.0   \n",
       "4          France      1883.0      1945.0   \n",
       "..            ...         ...         ...   \n",
       "93         Sweden      2003.0         NaN   \n",
       "94  United States         NaN         NaN   \n",
       "95   South Africa      1971.0         NaN   \n",
       "96        Ukraine      1978.0         NaN   \n",
       "97  United States      1989.0         NaN   \n",
       "\n",
       "                                                Title       Category  \\\n",
       "0                                   US Air Mail Pilot            NaN   \n",
       "1                                 Founder of Chrysler      Economics   \n",
       "2   Member of the German Reparations International...      Diplomacy   \n",
       "3                                                 NaN     Revolution   \n",
       "4                            Prime Minister of France       Politics   \n",
       "..                                                ...            ...   \n",
       "93                              Environmental ctivist    Environment   \n",
       "94            President and Vice President of the USA       Politics   \n",
       "95                                       CEO of Tesla     Technology   \n",
       "96                               President of Ukraine       Politics   \n",
       "97                                  Singer-songwriter  Entertainment   \n",
       "\n",
       "                               Context  Category Ordinal  Birth Decade  \\\n",
       "0      First Solo Transatlantic Flight                11        1900.0   \n",
       "1                Chrysler/Dodge Merger                 4        1870.0   \n",
       "2                           Young Plan                 8        1870.0   \n",
       "3                           Salt March                 0        1860.0   \n",
       "4                                  NaN                 2        1880.0   \n",
       "..                                 ...               ...           ...   \n",
       "93  School Strike for Climate Campaign                 5        2000.0   \n",
       "94               Presidential Election                 2           NaN   \n",
       "95         Richest Person in the World                 7        1970.0   \n",
       "96                      War in Ukraine                 2        1970.0   \n",
       "97        Cultural and Economic Impact                 6        1980.0   \n",
       "\n",
       "    Name Length Initials  \n",
       "0            17       CL  \n",
       "1            15       WC  \n",
       "2            13      ODY  \n",
       "3            14       MG  \n",
       "4            12       PL  \n",
       "..          ...      ...  \n",
       "93           14       GT  \n",
       "94           25    JB&KH  \n",
       "95            9       EM  \n",
       "96           18       VZ  \n",
       "97           12       TS  \n",
       "\n",
       "[98 rows x 10 columns]"
      ]
     },
     "execution_count": 18,
     "metadata": {},
     "output_type": "execute_result"
    }
   ],
   "source": [
    "time.drop(columns=['Lifespan'], inplace=True)\n",
    "time"
   ]
  },
  {
   "cell_type": "markdown",
   "metadata": {
    "slideshow": {
     "slide_type": "subslide"
    }
   },
   "source": [
    "### Renaming Columns"
   ]
  },
  {
   "cell_type": "markdown",
   "metadata": {
    "slideshow": {
     "slide_type": "subslide"
    }
   },
   "source": [
    "You can do this using a `dictionary`"
   ]
  },
  {
   "cell_type": "code",
   "execution_count": 19,
   "metadata": {
    "slideshow": {
     "slide_type": "fragment"
    }
   },
   "outputs": [
    {
     "data": {
      "text/html": [
       "<div>\n",
       "<style scoped>\n",
       "    .dataframe tbody tr th:only-of-type {\n",
       "        vertical-align: middle;\n",
       "    }\n",
       "\n",
       "    .dataframe tbody tr th {\n",
       "        vertical-align: top;\n",
       "    }\n",
       "\n",
       "    .dataframe thead th {\n",
       "        text-align: right;\n",
       "    }\n",
       "</style>\n",
       "<table border=\"1\" class=\"dataframe\">\n",
       "  <thead>\n",
       "    <tr style=\"text-align: right;\">\n",
       "      <th></th>\n",
       "      <th>Country</th>\n",
       "      <th>Born</th>\n",
       "      <th>Died</th>\n",
       "      <th>Title</th>\n",
       "      <th>Category</th>\n",
       "      <th>Context</th>\n",
       "      <th>Category Ordinal</th>\n",
       "      <th>Birth Decade</th>\n",
       "      <th>Name Length</th>\n",
       "      <th>Initials</th>\n",
       "    </tr>\n",
       "  </thead>\n",
       "  <tbody>\n",
       "    <tr>\n",
       "      <th>0</th>\n",
       "      <td>United States</td>\n",
       "      <td>1902.0</td>\n",
       "      <td>1974.0</td>\n",
       "      <td>US Air Mail Pilot</td>\n",
       "      <td>NaN</td>\n",
       "      <td>First Solo Transatlantic Flight</td>\n",
       "      <td>11</td>\n",
       "      <td>1900.0</td>\n",
       "      <td>17</td>\n",
       "      <td>CL</td>\n",
       "    </tr>\n",
       "    <tr>\n",
       "      <th>1</th>\n",
       "      <td>United States</td>\n",
       "      <td>1875.0</td>\n",
       "      <td>1940.0</td>\n",
       "      <td>Founder of Chrysler</td>\n",
       "      <td>Economics</td>\n",
       "      <td>Chrysler/Dodge Merger</td>\n",
       "      <td>4</td>\n",
       "      <td>1870.0</td>\n",
       "      <td>15</td>\n",
       "      <td>WC</td>\n",
       "    </tr>\n",
       "    <tr>\n",
       "      <th>2</th>\n",
       "      <td>United States</td>\n",
       "      <td>1874.0</td>\n",
       "      <td>1962.0</td>\n",
       "      <td>Member of the German Reparations International...</td>\n",
       "      <td>Diplomacy</td>\n",
       "      <td>Young Plan</td>\n",
       "      <td>8</td>\n",
       "      <td>1870.0</td>\n",
       "      <td>13</td>\n",
       "      <td>ODY</td>\n",
       "    </tr>\n",
       "    <tr>\n",
       "      <th>3</th>\n",
       "      <td>India</td>\n",
       "      <td>1869.0</td>\n",
       "      <td>1948.0</td>\n",
       "      <td>NaN</td>\n",
       "      <td>Revolution</td>\n",
       "      <td>Salt March</td>\n",
       "      <td>0</td>\n",
       "      <td>1860.0</td>\n",
       "      <td>14</td>\n",
       "      <td>MG</td>\n",
       "    </tr>\n",
       "    <tr>\n",
       "      <th>4</th>\n",
       "      <td>France</td>\n",
       "      <td>1883.0</td>\n",
       "      <td>1945.0</td>\n",
       "      <td>Prime Minister of France</td>\n",
       "      <td>Politics</td>\n",
       "      <td>NaN</td>\n",
       "      <td>2</td>\n",
       "      <td>1880.0</td>\n",
       "      <td>12</td>\n",
       "      <td>PL</td>\n",
       "    </tr>\n",
       "    <tr>\n",
       "      <th>...</th>\n",
       "      <td>...</td>\n",
       "      <td>...</td>\n",
       "      <td>...</td>\n",
       "      <td>...</td>\n",
       "      <td>...</td>\n",
       "      <td>...</td>\n",
       "      <td>...</td>\n",
       "      <td>...</td>\n",
       "      <td>...</td>\n",
       "      <td>...</td>\n",
       "    </tr>\n",
       "    <tr>\n",
       "      <th>93</th>\n",
       "      <td>Sweden</td>\n",
       "      <td>2003.0</td>\n",
       "      <td>NaN</td>\n",
       "      <td>Environmental ctivist</td>\n",
       "      <td>Environment</td>\n",
       "      <td>School Strike for Climate Campaign</td>\n",
       "      <td>5</td>\n",
       "      <td>2000.0</td>\n",
       "      <td>14</td>\n",
       "      <td>GT</td>\n",
       "    </tr>\n",
       "    <tr>\n",
       "      <th>94</th>\n",
       "      <td>United States</td>\n",
       "      <td>NaN</td>\n",
       "      <td>NaN</td>\n",
       "      <td>President and Vice President of the USA</td>\n",
       "      <td>Politics</td>\n",
       "      <td>Presidential Election</td>\n",
       "      <td>2</td>\n",
       "      <td>NaN</td>\n",
       "      <td>25</td>\n",
       "      <td>JB&amp;KH</td>\n",
       "    </tr>\n",
       "    <tr>\n",
       "      <th>95</th>\n",
       "      <td>South Africa</td>\n",
       "      <td>1971.0</td>\n",
       "      <td>NaN</td>\n",
       "      <td>CEO of Tesla</td>\n",
       "      <td>Technology</td>\n",
       "      <td>Richest Person in the World</td>\n",
       "      <td>7</td>\n",
       "      <td>1970.0</td>\n",
       "      <td>9</td>\n",
       "      <td>EM</td>\n",
       "    </tr>\n",
       "    <tr>\n",
       "      <th>96</th>\n",
       "      <td>Ukraine</td>\n",
       "      <td>1978.0</td>\n",
       "      <td>NaN</td>\n",
       "      <td>President of Ukraine</td>\n",
       "      <td>Politics</td>\n",
       "      <td>War in Ukraine</td>\n",
       "      <td>2</td>\n",
       "      <td>1970.0</td>\n",
       "      <td>18</td>\n",
       "      <td>VZ</td>\n",
       "    </tr>\n",
       "    <tr>\n",
       "      <th>97</th>\n",
       "      <td>United States</td>\n",
       "      <td>1989.0</td>\n",
       "      <td>NaN</td>\n",
       "      <td>Singer-songwriter</td>\n",
       "      <td>Entertainment</td>\n",
       "      <td>Cultural and Economic Impact</td>\n",
       "      <td>6</td>\n",
       "      <td>1980.0</td>\n",
       "      <td>12</td>\n",
       "      <td>TS</td>\n",
       "    </tr>\n",
       "  </tbody>\n",
       "</table>\n",
       "<p>98 rows × 10 columns</p>\n",
       "</div>"
      ],
      "text/plain": [
       "          Country    Born    Died  \\\n",
       "0   United States  1902.0  1974.0   \n",
       "1   United States  1875.0  1940.0   \n",
       "2   United States  1874.0  1962.0   \n",
       "3           India  1869.0  1948.0   \n",
       "4          France  1883.0  1945.0   \n",
       "..            ...     ...     ...   \n",
       "93         Sweden  2003.0     NaN   \n",
       "94  United States     NaN     NaN   \n",
       "95   South Africa  1971.0     NaN   \n",
       "96        Ukraine  1978.0     NaN   \n",
       "97  United States  1989.0     NaN   \n",
       "\n",
       "                                                Title       Category  \\\n",
       "0                                   US Air Mail Pilot            NaN   \n",
       "1                                 Founder of Chrysler      Economics   \n",
       "2   Member of the German Reparations International...      Diplomacy   \n",
       "3                                                 NaN     Revolution   \n",
       "4                            Prime Minister of France       Politics   \n",
       "..                                                ...            ...   \n",
       "93                              Environmental ctivist    Environment   \n",
       "94            President and Vice President of the USA       Politics   \n",
       "95                                       CEO of Tesla     Technology   \n",
       "96                               President of Ukraine       Politics   \n",
       "97                                  Singer-songwriter  Entertainment   \n",
       "\n",
       "                               Context  Category Ordinal  Birth Decade  \\\n",
       "0      First Solo Transatlantic Flight                11        1900.0   \n",
       "1                Chrysler/Dodge Merger                 4        1870.0   \n",
       "2                           Young Plan                 8        1870.0   \n",
       "3                           Salt March                 0        1860.0   \n",
       "4                                  NaN                 2        1880.0   \n",
       "..                                 ...               ...           ...   \n",
       "93  School Strike for Climate Campaign                 5        2000.0   \n",
       "94               Presidential Election                 2           NaN   \n",
       "95         Richest Person in the World                 7        1970.0   \n",
       "96                      War in Ukraine                 2        1970.0   \n",
       "97        Cultural and Economic Impact                 6        1980.0   \n",
       "\n",
       "    Name Length Initials  \n",
       "0            17       CL  \n",
       "1            15       WC  \n",
       "2            13      ODY  \n",
       "3            14       MG  \n",
       "4            12       PL  \n",
       "..          ...      ...  \n",
       "93           14       GT  \n",
       "94           25    JB&KH  \n",
       "95            9       EM  \n",
       "96           18       VZ  \n",
       "97           12       TS  \n",
       "\n",
       "[98 rows x 10 columns]"
      ]
     },
     "execution_count": 19,
     "metadata": {},
     "output_type": "execute_result"
    }
   ],
   "source": [
    "time = time.rename(columns={'Birth Year' : 'Born',\n",
    "                        'Death Year' : 'Died'})\n",
    "time"
   ]
  },
  {
   "cell_type": "markdown",
   "metadata": {
    "slideshow": {
     "slide_type": "subslide"
    }
   },
   "source": [
    "### How to create new columns in Tableau?"
   ]
  },
  {
   "cell_type": "markdown",
   "metadata": {
    "slideshow": {
     "slide_type": "slide"
    }
   },
   "source": [
    "## Missing Data"
   ]
  },
  {
   "cell_type": "markdown",
   "metadata": {
    "slideshow": {
     "slide_type": "subslide"
    }
   },
   "source": [
    "### Fundamentals of missing data"
   ]
  },
  {
   "cell_type": "markdown",
   "metadata": {
    "slideshow": {
     "slide_type": "subslide"
    }
   },
   "source": [
    "In the previous example, you saw that some entries had `NaN` to fill in for **missing data**"
   ]
  },
  {
   "cell_type": "markdown",
   "metadata": {
    "slideshow": {
     "slide_type": "fragment"
    }
   },
   "source": [
    "Missing data is one of the most recurrent problems in data analysis"
   ]
  },
  {
   "cell_type": "markdown",
   "metadata": {
    "slideshow": {
     "slide_type": "fragment"
    }
   },
   "source": [
    "In fact, there are a lot of studies and methods on how to handle it!"
   ]
  },
  {
   "cell_type": "markdown",
   "metadata": {
    "slideshow": {
     "slide_type": "subslide"
    }
   },
   "source": [
    "We will work with a small dataset called [missing.csv](https://www.dropbox.com/s/5h4k4rszebd6p0n/missing.csv?raw=1) (it's the same as data.csv from last week, but now with missing values)"
   ]
  },
  {
   "cell_type": "code",
   "execution_count": 20,
   "metadata": {
    "slideshow": {
     "slide_type": "fragment"
    }
   },
   "outputs": [
    {
     "data": {
      "text/html": [
       "<div>\n",
       "<style scoped>\n",
       "    .dataframe tbody tr th:only-of-type {\n",
       "        vertical-align: middle;\n",
       "    }\n",
       "\n",
       "    .dataframe tbody tr th {\n",
       "        vertical-align: top;\n",
       "    }\n",
       "\n",
       "    .dataframe thead th {\n",
       "        text-align: right;\n",
       "    }\n",
       "</style>\n",
       "<table border=\"1\" class=\"dataframe\">\n",
       "  <thead>\n",
       "    <tr style=\"text-align: right;\">\n",
       "      <th></th>\n",
       "      <th>Name</th>\n",
       "      <th>Age</th>\n",
       "      <th>Height</th>\n",
       "    </tr>\n",
       "  </thead>\n",
       "  <tbody>\n",
       "    <tr>\n",
       "      <th>0</th>\n",
       "      <td>Nick</td>\n",
       "      <td>21.0</td>\n",
       "      <td>1.85</td>\n",
       "    </tr>\n",
       "    <tr>\n",
       "      <th>1</th>\n",
       "      <td>Chris</td>\n",
       "      <td>29.0</td>\n",
       "      <td>Unknown</td>\n",
       "    </tr>\n",
       "    <tr>\n",
       "      <th>2</th>\n",
       "      <td>Tim</td>\n",
       "      <td>28.0</td>\n",
       "      <td>1.75</td>\n",
       "    </tr>\n",
       "    <tr>\n",
       "      <th>3</th>\n",
       "      <td>Ron</td>\n",
       "      <td>NaN</td>\n",
       "      <td>1.81</td>\n",
       "    </tr>\n",
       "    <tr>\n",
       "      <th>4</th>\n",
       "      <td>Monica</td>\n",
       "      <td>35.0</td>\n",
       "      <td>Unknown</td>\n",
       "    </tr>\n",
       "    <tr>\n",
       "      <th>5</th>\n",
       "      <td>Cassandra</td>\n",
       "      <td>21.0</td>\n",
       "      <td>1.66</td>\n",
       "    </tr>\n",
       "  </tbody>\n",
       "</table>\n",
       "</div>"
      ],
      "text/plain": [
       "        Name   Age   Height\n",
       "0       Nick  21.0     1.85\n",
       "1      Chris  29.0  Unknown\n",
       "2        Tim  28.0     1.75\n",
       "3        Ron   NaN     1.81\n",
       "4     Monica  35.0  Unknown\n",
       "5  Cassandra  21.0     1.66"
      ]
     },
     "execution_count": 20,
     "metadata": {},
     "output_type": "execute_result"
    }
   ],
   "source": [
    "df = pd.read_csv('https://www.dropbox.com/s/5h4k4rszebd6p0n/missing.csv?raw=1')\n",
    "df"
   ]
  },
  {
   "cell_type": "markdown",
   "metadata": {
    "slideshow": {
     "slide_type": "subslide"
    }
   },
   "source": [
    "The first thing to notice is that the second column is being shown with decimals, even though they were integers in the original file"
   ]
  },
  {
   "cell_type": "markdown",
   "metadata": {
    "slideshow": {
     "slide_type": "fragment"
    }
   },
   "source": [
    "Moreover, the blank entry is displayed as `NaN`"
   ]
  },
  {
   "cell_type": "markdown",
   "metadata": {
    "slideshow": {
     "slide_type": "fragment"
    }
   },
   "source": [
    "`NaN` stands for *Not A Number* as is part of the floating point specification, typically used when a calculation has no valid numerical result"
   ]
  },
  {
   "cell_type": "markdown",
   "metadata": {
    "slideshow": {
     "slide_type": "subslide"
    }
   },
   "source": [
    "In fact, Python considers `NaN` as a floating point (or `float64`)"
   ]
  },
  {
   "cell_type": "code",
   "execution_count": 21,
   "metadata": {
    "cell_style": "split",
    "slideshow": {
     "slide_type": "fragment"
    }
   },
   "outputs": [
    {
     "data": {
      "text/html": [
       "<div>\n",
       "<style scoped>\n",
       "    .dataframe tbody tr th:only-of-type {\n",
       "        vertical-align: middle;\n",
       "    }\n",
       "\n",
       "    .dataframe tbody tr th {\n",
       "        vertical-align: top;\n",
       "    }\n",
       "\n",
       "    .dataframe thead th {\n",
       "        text-align: right;\n",
       "    }\n",
       "</style>\n",
       "<table border=\"1\" class=\"dataframe\">\n",
       "  <thead>\n",
       "    <tr style=\"text-align: right;\">\n",
       "      <th></th>\n",
       "      <th>Name</th>\n",
       "      <th>Age</th>\n",
       "      <th>Height</th>\n",
       "    </tr>\n",
       "  </thead>\n",
       "  <tbody>\n",
       "    <tr>\n",
       "      <th>0</th>\n",
       "      <td>Nick</td>\n",
       "      <td>21.0</td>\n",
       "      <td>1.85</td>\n",
       "    </tr>\n",
       "    <tr>\n",
       "      <th>1</th>\n",
       "      <td>Chris</td>\n",
       "      <td>29.0</td>\n",
       "      <td>Unknown</td>\n",
       "    </tr>\n",
       "    <tr>\n",
       "      <th>2</th>\n",
       "      <td>Tim</td>\n",
       "      <td>28.0</td>\n",
       "      <td>1.75</td>\n",
       "    </tr>\n",
       "    <tr>\n",
       "      <th>3</th>\n",
       "      <td>Ron</td>\n",
       "      <td>NaN</td>\n",
       "      <td>1.81</td>\n",
       "    </tr>\n",
       "    <tr>\n",
       "      <th>4</th>\n",
       "      <td>Monica</td>\n",
       "      <td>35.0</td>\n",
       "      <td>Unknown</td>\n",
       "    </tr>\n",
       "    <tr>\n",
       "      <th>5</th>\n",
       "      <td>Cassandra</td>\n",
       "      <td>21.0</td>\n",
       "      <td>1.66</td>\n",
       "    </tr>\n",
       "  </tbody>\n",
       "</table>\n",
       "</div>"
      ],
      "text/plain": [
       "        Name   Age   Height\n",
       "0       Nick  21.0     1.85\n",
       "1      Chris  29.0  Unknown\n",
       "2        Tim  28.0     1.75\n",
       "3        Ron   NaN     1.81\n",
       "4     Monica  35.0  Unknown\n",
       "5  Cassandra  21.0     1.66"
      ]
     },
     "execution_count": 21,
     "metadata": {},
     "output_type": "execute_result"
    }
   ],
   "source": [
    "df"
   ]
  },
  {
   "cell_type": "code",
   "execution_count": 22,
   "metadata": {
    "cell_style": "split",
    "scrolled": true,
    "slideshow": {
     "slide_type": "fragment"
    }
   },
   "outputs": [
    {
     "data": {
      "text/plain": [
       "np.float64(nan)"
      ]
     },
     "execution_count": 22,
     "metadata": {},
     "output_type": "execute_result"
    }
   ],
   "source": [
    "df.at[3, 'Age']"
   ]
  },
  {
   "cell_type": "markdown",
   "metadata": {
    "slideshow": {
     "slide_type": "subslide"
    }
   },
   "source": [
    "As a result, the entire column has been turned into `float64`, instead of `int64`"
   ]
  },
  {
   "cell_type": "markdown",
   "metadata": {
    "slideshow": {
     "slide_type": "fragment"
    }
   },
   "source": [
    " This is why it was being shown as decimals!"
   ]
  },
  {
   "cell_type": "code",
   "execution_count": 23,
   "metadata": {
    "slideshow": {
     "slide_type": "fragment"
    }
   },
   "outputs": [
    {
     "data": {
      "text/plain": [
       "0    21.0\n",
       "1    29.0\n",
       "2    28.0\n",
       "3     NaN\n",
       "4    35.0\n",
       "5    21.0\n",
       "Name: Age, dtype: float64"
      ]
     },
     "execution_count": 23,
     "metadata": {},
     "output_type": "execute_result"
    }
   ],
   "source": [
    "df['Age']"
   ]
  },
  {
   "cell_type": "markdown",
   "metadata": {
    "slideshow": {
     "slide_type": "subslide"
    }
   },
   "source": [
    "### Incorrectly Imported Missing Data"
   ]
  },
  {
   "cell_type": "markdown",
   "metadata": {
    "slideshow": {
     "slide_type": "subslide"
    }
   },
   "source": [
    "The missing value in the `Age` column was generated because the cell was blank"
   ]
  },
  {
   "cell_type": "markdown",
   "metadata": {
    "slideshow": {
     "slide_type": "fragment"
    }
   },
   "source": [
    "By default, `Pandas` will treat certain cell values, such as a *blank*, `NULL`, `NaN`, and `n/a` as missing values"
   ]
  },
  {
   "cell_type": "markdown",
   "metadata": {
    "slideshow": {
     "slide_type": "fragment"
    }
   },
   "source": [
    "The `Height` column contains some entries which we recognise as missing data (i.e. `Unknown`) but that Pandas did not"
   ]
  },
  {
   "cell_type": "code",
   "execution_count": 24,
   "metadata": {
    "cell_style": "split",
    "scrolled": true,
    "slideshow": {
     "slide_type": "fragment"
    }
   },
   "outputs": [
    {
     "data": {
      "text/plain": [
       "'Unknown'"
      ]
     },
     "execution_count": 24,
     "metadata": {},
     "output_type": "execute_result"
    }
   ],
   "source": [
    "df.at[1, 'Height']"
   ]
  },
  {
   "cell_type": "markdown",
   "metadata": {
    "slideshow": {
     "slide_type": "subslide"
    }
   },
   "source": [
    "In fact, the entire column has been imported as strings, not numbers!"
   ]
  },
  {
   "cell_type": "code",
   "execution_count": 25,
   "metadata": {
    "cell_style": "split",
    "slideshow": {
     "slide_type": "fragment"
    }
   },
   "outputs": [
    {
     "data": {
      "text/html": [
       "<div>\n",
       "<style scoped>\n",
       "    .dataframe tbody tr th:only-of-type {\n",
       "        vertical-align: middle;\n",
       "    }\n",
       "\n",
       "    .dataframe tbody tr th {\n",
       "        vertical-align: top;\n",
       "    }\n",
       "\n",
       "    .dataframe thead th {\n",
       "        text-align: right;\n",
       "    }\n",
       "</style>\n",
       "<table border=\"1\" class=\"dataframe\">\n",
       "  <thead>\n",
       "    <tr style=\"text-align: right;\">\n",
       "      <th></th>\n",
       "      <th>Name</th>\n",
       "      <th>Age</th>\n",
       "      <th>Height</th>\n",
       "    </tr>\n",
       "  </thead>\n",
       "  <tbody>\n",
       "    <tr>\n",
       "      <th>0</th>\n",
       "      <td>Nick</td>\n",
       "      <td>21.0</td>\n",
       "      <td>1.85</td>\n",
       "    </tr>\n",
       "    <tr>\n",
       "      <th>1</th>\n",
       "      <td>Chris</td>\n",
       "      <td>29.0</td>\n",
       "      <td>Unknown</td>\n",
       "    </tr>\n",
       "    <tr>\n",
       "      <th>2</th>\n",
       "      <td>Tim</td>\n",
       "      <td>28.0</td>\n",
       "      <td>1.75</td>\n",
       "    </tr>\n",
       "    <tr>\n",
       "      <th>3</th>\n",
       "      <td>Ron</td>\n",
       "      <td>NaN</td>\n",
       "      <td>1.81</td>\n",
       "    </tr>\n",
       "    <tr>\n",
       "      <th>4</th>\n",
       "      <td>Monica</td>\n",
       "      <td>35.0</td>\n",
       "      <td>Unknown</td>\n",
       "    </tr>\n",
       "    <tr>\n",
       "      <th>5</th>\n",
       "      <td>Cassandra</td>\n",
       "      <td>21.0</td>\n",
       "      <td>1.66</td>\n",
       "    </tr>\n",
       "  </tbody>\n",
       "</table>\n",
       "</div>"
      ],
      "text/plain": [
       "        Name   Age   Height\n",
       "0       Nick  21.0     1.85\n",
       "1      Chris  29.0  Unknown\n",
       "2        Tim  28.0     1.75\n",
       "3        Ron   NaN     1.81\n",
       "4     Monica  35.0  Unknown\n",
       "5  Cassandra  21.0     1.66"
      ]
     },
     "execution_count": 25,
     "metadata": {},
     "output_type": "execute_result"
    }
   ],
   "source": [
    "df"
   ]
  },
  {
   "cell_type": "code",
   "execution_count": 26,
   "metadata": {
    "cell_style": "split",
    "slideshow": {
     "slide_type": "fragment"
    }
   },
   "outputs": [
    {
     "name": "stdout",
     "output_type": "stream",
     "text": [
      "Unknown\n",
      "<class 'str'>\n"
     ]
    }
   ],
   "source": [
    "print(df.at[1, 'Height'])\n",
    "print(type(df.at[1, 'Height']))"
   ]
  },
  {
   "cell_type": "markdown",
   "metadata": {
    "slideshow": {
     "slide_type": "subslide"
    }
   },
   "source": [
    "This in turn made `Pandas` believe that the whole column has strings!"
   ]
  },
  {
   "cell_type": "code",
   "execution_count": 27,
   "metadata": {
    "slideshow": {
     "slide_type": "fragment"
    }
   },
   "outputs": [
    {
     "name": "stdout",
     "output_type": "stream",
     "text": [
      "1.85\n",
      "<class 'str'>\n"
     ]
    }
   ],
   "source": [
    "print(df.at[0, 'Height'])\n",
    "print(type(df.at[0, 'Height']))"
   ]
  },
  {
   "cell_type": "markdown",
   "metadata": {
    "slideshow": {
     "slide_type": "subslide"
    }
   },
   "source": [
    "What happens if we multiply this column by `100`?"
   ]
  },
  {
   "cell_type": "code",
   "execution_count": 28,
   "metadata": {
    "slideshow": {
     "slide_type": "fragment"
    }
   },
   "outputs": [
    {
     "data": {
      "text/html": [
       "<div>\n",
       "<style scoped>\n",
       "    .dataframe tbody tr th:only-of-type {\n",
       "        vertical-align: middle;\n",
       "    }\n",
       "\n",
       "    .dataframe tbody tr th {\n",
       "        vertical-align: top;\n",
       "    }\n",
       "\n",
       "    .dataframe thead th {\n",
       "        text-align: right;\n",
       "    }\n",
       "</style>\n",
       "<table border=\"1\" class=\"dataframe\">\n",
       "  <thead>\n",
       "    <tr style=\"text-align: right;\">\n",
       "      <th></th>\n",
       "      <th>Name</th>\n",
       "      <th>Age</th>\n",
       "      <th>Height</th>\n",
       "      <th>Height times 100</th>\n",
       "    </tr>\n",
       "  </thead>\n",
       "  <tbody>\n",
       "    <tr>\n",
       "      <th>0</th>\n",
       "      <td>Nick</td>\n",
       "      <td>21.0</td>\n",
       "      <td>1.85</td>\n",
       "      <td>1.851.851.851.851.851.851.851.851.851.851.851....</td>\n",
       "    </tr>\n",
       "    <tr>\n",
       "      <th>1</th>\n",
       "      <td>Chris</td>\n",
       "      <td>29.0</td>\n",
       "      <td>Unknown</td>\n",
       "      <td>UnknownUnknownUnknownUnknownUnknownUnknownUnkn...</td>\n",
       "    </tr>\n",
       "    <tr>\n",
       "      <th>2</th>\n",
       "      <td>Tim</td>\n",
       "      <td>28.0</td>\n",
       "      <td>1.75</td>\n",
       "      <td>1.751.751.751.751.751.751.751.751.751.751.751....</td>\n",
       "    </tr>\n",
       "    <tr>\n",
       "      <th>3</th>\n",
       "      <td>Ron</td>\n",
       "      <td>NaN</td>\n",
       "      <td>1.81</td>\n",
       "      <td>1.811.811.811.811.811.811.811.811.811.811.811....</td>\n",
       "    </tr>\n",
       "    <tr>\n",
       "      <th>4</th>\n",
       "      <td>Monica</td>\n",
       "      <td>35.0</td>\n",
       "      <td>Unknown</td>\n",
       "      <td>UnknownUnknownUnknownUnknownUnknownUnknownUnkn...</td>\n",
       "    </tr>\n",
       "    <tr>\n",
       "      <th>5</th>\n",
       "      <td>Cassandra</td>\n",
       "      <td>21.0</td>\n",
       "      <td>1.66</td>\n",
       "      <td>1.661.661.661.661.661.661.661.661.661.661.661....</td>\n",
       "    </tr>\n",
       "  </tbody>\n",
       "</table>\n",
       "</div>"
      ],
      "text/plain": [
       "        Name   Age   Height                                   Height times 100\n",
       "0       Nick  21.0     1.85  1.851.851.851.851.851.851.851.851.851.851.851....\n",
       "1      Chris  29.0  Unknown  UnknownUnknownUnknownUnknownUnknownUnknownUnkn...\n",
       "2        Tim  28.0     1.75  1.751.751.751.751.751.751.751.751.751.751.751....\n",
       "3        Ron   NaN     1.81  1.811.811.811.811.811.811.811.811.811.811.811....\n",
       "4     Monica  35.0  Unknown  UnknownUnknownUnknownUnknownUnknownUnknownUnkn...\n",
       "5  Cassandra  21.0     1.66  1.661.661.661.661.661.661.661.661.661.661.661...."
      ]
     },
     "execution_count": 28,
     "metadata": {},
     "output_type": "execute_result"
    }
   ],
   "source": [
    "df['Height times 100'] = df['Height'] * 100\n",
    "df"
   ]
  },
  {
   "cell_type": "markdown",
   "metadata": {
    "slideshow": {
     "slide_type": "subslide"
    }
   },
   "source": [
    "We need to tell Pandas in advance to treat `Unknown` not as a string, but as a missing value"
   ]
  },
  {
   "cell_type": "markdown",
   "metadata": {
    "slideshow": {
     "slide_type": "fragment"
    }
   },
   "source": [
    "Lets re-import the data set passing a list of values which represent missing values as the `na_values` parameter"
   ]
  },
  {
   "cell_type": "code",
   "execution_count": 29,
   "metadata": {
    "slideshow": {
     "slide_type": "fragment"
    }
   },
   "outputs": [
    {
     "data": {
      "text/html": [
       "<div>\n",
       "<style scoped>\n",
       "    .dataframe tbody tr th:only-of-type {\n",
       "        vertical-align: middle;\n",
       "    }\n",
       "\n",
       "    .dataframe tbody tr th {\n",
       "        vertical-align: top;\n",
       "    }\n",
       "\n",
       "    .dataframe thead th {\n",
       "        text-align: right;\n",
       "    }\n",
       "</style>\n",
       "<table border=\"1\" class=\"dataframe\">\n",
       "  <thead>\n",
       "    <tr style=\"text-align: right;\">\n",
       "      <th></th>\n",
       "      <th>Name</th>\n",
       "      <th>Age</th>\n",
       "      <th>Height</th>\n",
       "    </tr>\n",
       "  </thead>\n",
       "  <tbody>\n",
       "    <tr>\n",
       "      <th>0</th>\n",
       "      <td>Nick</td>\n",
       "      <td>21.0</td>\n",
       "      <td>1.85</td>\n",
       "    </tr>\n",
       "    <tr>\n",
       "      <th>1</th>\n",
       "      <td>Chris</td>\n",
       "      <td>29.0</td>\n",
       "      <td>NaN</td>\n",
       "    </tr>\n",
       "    <tr>\n",
       "      <th>2</th>\n",
       "      <td>Tim</td>\n",
       "      <td>28.0</td>\n",
       "      <td>1.75</td>\n",
       "    </tr>\n",
       "    <tr>\n",
       "      <th>3</th>\n",
       "      <td>Ron</td>\n",
       "      <td>NaN</td>\n",
       "      <td>1.81</td>\n",
       "    </tr>\n",
       "    <tr>\n",
       "      <th>4</th>\n",
       "      <td>Monica</td>\n",
       "      <td>35.0</td>\n",
       "      <td>NaN</td>\n",
       "    </tr>\n",
       "    <tr>\n",
       "      <th>5</th>\n",
       "      <td>Cassandra</td>\n",
       "      <td>21.0</td>\n",
       "      <td>1.66</td>\n",
       "    </tr>\n",
       "  </tbody>\n",
       "</table>\n",
       "</div>"
      ],
      "text/plain": [
       "        Name   Age  Height\n",
       "0       Nick  21.0    1.85\n",
       "1      Chris  29.0     NaN\n",
       "2        Tim  28.0    1.75\n",
       "3        Ron   NaN    1.81\n",
       "4     Monica  35.0     NaN\n",
       "5  Cassandra  21.0    1.66"
      ]
     },
     "execution_count": 29,
     "metadata": {},
     "output_type": "execute_result"
    }
   ],
   "source": [
    "df = pd.read_csv('https://www.dropbox.com/s/5h4k4rszebd6p0n/missing.csv?raw=1', \n",
    "                 na_values=['Unknown'])\n",
    "df"
   ]
  },
  {
   "cell_type": "markdown",
   "metadata": {
    "slideshow": {
     "slide_type": "subslide"
    }
   },
   "source": [
    "Now the column is `float64`"
   ]
  },
  {
   "cell_type": "code",
   "execution_count": 30,
   "metadata": {
    "slideshow": {
     "slide_type": "fragment"
    }
   },
   "outputs": [
    {
     "data": {
      "text/plain": [
       "0    1.85\n",
       "1     NaN\n",
       "2    1.75\n",
       "3    1.81\n",
       "4     NaN\n",
       "5    1.66\n",
       "Name: Height, dtype: float64"
      ]
     },
     "execution_count": 30,
     "metadata": {},
     "output_type": "execute_result"
    }
   ],
   "source": [
    "df['Height']"
   ]
  },
  {
   "cell_type": "markdown",
   "metadata": {
    "slideshow": {
     "slide_type": "subslide"
    }
   },
   "source": [
    "Multiplying `Height` now works as expected."
   ]
  },
  {
   "cell_type": "code",
   "execution_count": 31,
   "metadata": {
    "cell_style": "split",
    "slideshow": {
     "slide_type": "fragment"
    }
   },
   "outputs": [
    {
     "data": {
      "text/html": [
       "<div>\n",
       "<style scoped>\n",
       "    .dataframe tbody tr th:only-of-type {\n",
       "        vertical-align: middle;\n",
       "    }\n",
       "\n",
       "    .dataframe tbody tr th {\n",
       "        vertical-align: top;\n",
       "    }\n",
       "\n",
       "    .dataframe thead th {\n",
       "        text-align: right;\n",
       "    }\n",
       "</style>\n",
       "<table border=\"1\" class=\"dataframe\">\n",
       "  <thead>\n",
       "    <tr style=\"text-align: right;\">\n",
       "      <th></th>\n",
       "      <th>Name</th>\n",
       "      <th>Age</th>\n",
       "      <th>Height</th>\n",
       "      <th>Height times 100</th>\n",
       "    </tr>\n",
       "  </thead>\n",
       "  <tbody>\n",
       "    <tr>\n",
       "      <th>0</th>\n",
       "      <td>Nick</td>\n",
       "      <td>21.0</td>\n",
       "      <td>1.85</td>\n",
       "      <td>185.0</td>\n",
       "    </tr>\n",
       "    <tr>\n",
       "      <th>1</th>\n",
       "      <td>Chris</td>\n",
       "      <td>29.0</td>\n",
       "      <td>NaN</td>\n",
       "      <td>NaN</td>\n",
       "    </tr>\n",
       "    <tr>\n",
       "      <th>2</th>\n",
       "      <td>Tim</td>\n",
       "      <td>28.0</td>\n",
       "      <td>1.75</td>\n",
       "      <td>175.0</td>\n",
       "    </tr>\n",
       "    <tr>\n",
       "      <th>3</th>\n",
       "      <td>Ron</td>\n",
       "      <td>NaN</td>\n",
       "      <td>1.81</td>\n",
       "      <td>181.0</td>\n",
       "    </tr>\n",
       "    <tr>\n",
       "      <th>4</th>\n",
       "      <td>Monica</td>\n",
       "      <td>35.0</td>\n",
       "      <td>NaN</td>\n",
       "      <td>NaN</td>\n",
       "    </tr>\n",
       "    <tr>\n",
       "      <th>5</th>\n",
       "      <td>Cassandra</td>\n",
       "      <td>21.0</td>\n",
       "      <td>1.66</td>\n",
       "      <td>166.0</td>\n",
       "    </tr>\n",
       "  </tbody>\n",
       "</table>\n",
       "</div>"
      ],
      "text/plain": [
       "        Name   Age  Height  Height times 100\n",
       "0       Nick  21.0    1.85             185.0\n",
       "1      Chris  29.0     NaN               NaN\n",
       "2        Tim  28.0    1.75             175.0\n",
       "3        Ron   NaN    1.81             181.0\n",
       "4     Monica  35.0     NaN               NaN\n",
       "5  Cassandra  21.0    1.66             166.0"
      ]
     },
     "execution_count": 31,
     "metadata": {},
     "output_type": "execute_result"
    }
   ],
   "source": [
    "df['Height times 100'] = df['Height'] * 100\n",
    "df"
   ]
  },
  {
   "cell_type": "code",
   "execution_count": 32,
   "metadata": {
    "cell_style": "split",
    "slideshow": {
     "slide_type": "subslide"
    }
   },
   "outputs": [
    {
     "data": {
      "text/html": [
       "<div>\n",
       "<style scoped>\n",
       "    .dataframe tbody tr th:only-of-type {\n",
       "        vertical-align: middle;\n",
       "    }\n",
       "\n",
       "    .dataframe tbody tr th {\n",
       "        vertical-align: top;\n",
       "    }\n",
       "\n",
       "    .dataframe thead th {\n",
       "        text-align: right;\n",
       "    }\n",
       "</style>\n",
       "<table border=\"1\" class=\"dataframe\">\n",
       "  <thead>\n",
       "    <tr style=\"text-align: right;\">\n",
       "      <th></th>\n",
       "      <th>Name</th>\n",
       "      <th>Age</th>\n",
       "      <th>Height</th>\n",
       "      <th>Height times 100</th>\n",
       "      <th>Test</th>\n",
       "    </tr>\n",
       "  </thead>\n",
       "  <tbody>\n",
       "    <tr>\n",
       "      <th>0</th>\n",
       "      <td>Nick</td>\n",
       "      <td>21.0</td>\n",
       "      <td>1.85</td>\n",
       "      <td>185.0</td>\n",
       "      <td>22.85</td>\n",
       "    </tr>\n",
       "    <tr>\n",
       "      <th>1</th>\n",
       "      <td>Chris</td>\n",
       "      <td>29.0</td>\n",
       "      <td>NaN</td>\n",
       "      <td>NaN</td>\n",
       "      <td>NaN</td>\n",
       "    </tr>\n",
       "    <tr>\n",
       "      <th>2</th>\n",
       "      <td>Tim</td>\n",
       "      <td>28.0</td>\n",
       "      <td>1.75</td>\n",
       "      <td>175.0</td>\n",
       "      <td>29.75</td>\n",
       "    </tr>\n",
       "    <tr>\n",
       "      <th>3</th>\n",
       "      <td>Ron</td>\n",
       "      <td>NaN</td>\n",
       "      <td>1.81</td>\n",
       "      <td>181.0</td>\n",
       "      <td>NaN</td>\n",
       "    </tr>\n",
       "    <tr>\n",
       "      <th>4</th>\n",
       "      <td>Monica</td>\n",
       "      <td>35.0</td>\n",
       "      <td>NaN</td>\n",
       "      <td>NaN</td>\n",
       "      <td>NaN</td>\n",
       "    </tr>\n",
       "    <tr>\n",
       "      <th>5</th>\n",
       "      <td>Cassandra</td>\n",
       "      <td>21.0</td>\n",
       "      <td>1.66</td>\n",
       "      <td>166.0</td>\n",
       "      <td>22.66</td>\n",
       "    </tr>\n",
       "  </tbody>\n",
       "</table>\n",
       "</div>"
      ],
      "text/plain": [
       "        Name   Age  Height  Height times 100   Test\n",
       "0       Nick  21.0    1.85             185.0  22.85\n",
       "1      Chris  29.0     NaN               NaN    NaN\n",
       "2        Tim  28.0    1.75             175.0  29.75\n",
       "3        Ron   NaN    1.81             181.0    NaN\n",
       "4     Monica  35.0     NaN               NaN    NaN\n",
       "5  Cassandra  21.0    1.66             166.0  22.66"
      ]
     },
     "execution_count": 32,
     "metadata": {},
     "output_type": "execute_result"
    }
   ],
   "source": [
    "# Another example\n",
    "df['Test'] = df['Age'] + df['Height']\n",
    "df"
   ]
  },
  {
   "cell_type": "markdown",
   "metadata": {
    "slideshow": {
     "slide_type": "subslide"
    }
   },
   "source": [
    "### Methods to address missing data"
   ]
  },
  {
   "cell_type": "markdown",
   "metadata": {
    "slideshow": {
     "slide_type": "subslide"
    }
   },
   "source": [
    "As mentioned before, there are different ways to deal with missing data"
   ]
  },
  {
   "cell_type": "markdown",
   "metadata": {
    "slideshow": {
     "slide_type": "fragment"
    }
   },
   "source": [
    "The method you should use depends on your analysis, the application domain and what you want to achieve"
   ]
  },
  {
   "cell_type": "markdown",
   "metadata": {
    "slideshow": {
     "slide_type": "fragment"
    }
   },
   "source": [
    "Here are some common methods:\n",
    "\n",
    "    1. Leave the missing values as NaN\n",
    "    2. Lookup the values from another data source\n",
    "    3. Delete the rows / observations\n",
    "    4. Compute reasonable guesses about the values"
   ]
  },
  {
   "cell_type": "markdown",
   "metadata": {
    "slideshow": {
     "slide_type": "subslide"
    }
   },
   "source": [
    "In **option 1**, it is often reasonable to just leave the data as missing data"
   ]
  },
  {
   "cell_type": "markdown",
   "metadata": {
    "slideshow": {
     "slide_type": "fragment"
    }
   },
   "source": [
    "For example, if we wanted to calculate average `Height`, it may not matter that we are missing `Age` for one row"
   ]
  },
  {
   "cell_type": "markdown",
   "metadata": {
    "slideshow": {
     "slide_type": "fragment"
    }
   },
   "source": [
    "As for **option 2**, if we have some other ways of going back and getting correct data, we could just update the values with `df.at[3, 'Age'] = ...`"
   ]
  },
  {
   "cell_type": "markdown",
   "metadata": {
    "slideshow": {
     "slide_type": "fragment"
    }
   },
   "source": [
    "Let's assume we are going for **option 3** and want to remove any rows where we do no have `Age`"
   ]
  },
  {
   "cell_type": "markdown",
   "metadata": {
    "slideshow": {
     "slide_type": "subslide"
    }
   },
   "source": [
    "If we know the row we want to delete (`3`), we can use the `drop` method, only this time we specify rows, not columns. As in:\n",
    "\n",
    "    df.drop(3)"
   ]
  },
  {
   "cell_type": "markdown",
   "metadata": {
    "slideshow": {
     "slide_type": "fragment"
    }
   },
   "source": [
    "However, often there are many missing values, and we don't want to check on the index of each"
   ]
  },
  {
   "cell_type": "markdown",
   "metadata": {
    "slideshow": {
     "slide_type": "fragment"
    }
   },
   "source": [
    "A good way to remove rows with missing data is to specify which rows to **keep**"
   ]
  },
  {
   "cell_type": "markdown",
   "metadata": {
    "slideshow": {
     "slide_type": "subslide"
    }
   },
   "source": [
    "The `isnull` method will filter for rows which contains `NaN`."
   ]
  },
  {
   "cell_type": "code",
   "execution_count": 33,
   "metadata": {
    "slideshow": {
     "slide_type": "fragment"
    }
   },
   "outputs": [
    {
     "data": {
      "text/html": [
       "<div>\n",
       "<style scoped>\n",
       "    .dataframe tbody tr th:only-of-type {\n",
       "        vertical-align: middle;\n",
       "    }\n",
       "\n",
       "    .dataframe tbody tr th {\n",
       "        vertical-align: top;\n",
       "    }\n",
       "\n",
       "    .dataframe thead th {\n",
       "        text-align: right;\n",
       "    }\n",
       "</style>\n",
       "<table border=\"1\" class=\"dataframe\">\n",
       "  <thead>\n",
       "    <tr style=\"text-align: right;\">\n",
       "      <th></th>\n",
       "      <th>Name</th>\n",
       "      <th>Age</th>\n",
       "      <th>Height</th>\n",
       "      <th>Height times 100</th>\n",
       "      <th>Test</th>\n",
       "    </tr>\n",
       "  </thead>\n",
       "  <tbody>\n",
       "    <tr>\n",
       "      <th>3</th>\n",
       "      <td>Ron</td>\n",
       "      <td>NaN</td>\n",
       "      <td>1.81</td>\n",
       "      <td>181.0</td>\n",
       "      <td>NaN</td>\n",
       "    </tr>\n",
       "  </tbody>\n",
       "</table>\n",
       "</div>"
      ],
      "text/plain": [
       "  Name  Age  Height  Height times 100  Test\n",
       "3  Ron  NaN    1.81             181.0   NaN"
      ]
     },
     "execution_count": 33,
     "metadata": {},
     "output_type": "execute_result"
    }
   ],
   "source": [
    "df[df['Age'].isnull()]"
   ]
  },
  {
   "cell_type": "markdown",
   "metadata": {
    "slideshow": {
     "slide_type": "subslide"
    }
   },
   "source": [
    "Of course, this is the *opposite* of specifying which to keep"
   ]
  },
  {
   "cell_type": "markdown",
   "metadata": {
    "slideshow": {
     "slide_type": "fragment"
    }
   },
   "source": [
    "The **notnull** method will show us which rows do not contain `NaN` in the specified column."
   ]
  },
  {
   "cell_type": "code",
   "execution_count": 34,
   "metadata": {
    "slideshow": {
     "slide_type": "fragment"
    }
   },
   "outputs": [
    {
     "data": {
      "text/html": [
       "<div>\n",
       "<style scoped>\n",
       "    .dataframe tbody tr th:only-of-type {\n",
       "        vertical-align: middle;\n",
       "    }\n",
       "\n",
       "    .dataframe tbody tr th {\n",
       "        vertical-align: top;\n",
       "    }\n",
       "\n",
       "    .dataframe thead th {\n",
       "        text-align: right;\n",
       "    }\n",
       "</style>\n",
       "<table border=\"1\" class=\"dataframe\">\n",
       "  <thead>\n",
       "    <tr style=\"text-align: right;\">\n",
       "      <th></th>\n",
       "      <th>Name</th>\n",
       "      <th>Age</th>\n",
       "      <th>Height</th>\n",
       "      <th>Height times 100</th>\n",
       "      <th>Test</th>\n",
       "    </tr>\n",
       "  </thead>\n",
       "  <tbody>\n",
       "    <tr>\n",
       "      <th>0</th>\n",
       "      <td>Nick</td>\n",
       "      <td>21.0</td>\n",
       "      <td>1.85</td>\n",
       "      <td>185.0</td>\n",
       "      <td>22.85</td>\n",
       "    </tr>\n",
       "    <tr>\n",
       "      <th>1</th>\n",
       "      <td>Chris</td>\n",
       "      <td>29.0</td>\n",
       "      <td>NaN</td>\n",
       "      <td>NaN</td>\n",
       "      <td>NaN</td>\n",
       "    </tr>\n",
       "    <tr>\n",
       "      <th>2</th>\n",
       "      <td>Tim</td>\n",
       "      <td>28.0</td>\n",
       "      <td>1.75</td>\n",
       "      <td>175.0</td>\n",
       "      <td>29.75</td>\n",
       "    </tr>\n",
       "    <tr>\n",
       "      <th>4</th>\n",
       "      <td>Monica</td>\n",
       "      <td>35.0</td>\n",
       "      <td>NaN</td>\n",
       "      <td>NaN</td>\n",
       "      <td>NaN</td>\n",
       "    </tr>\n",
       "    <tr>\n",
       "      <th>5</th>\n",
       "      <td>Cassandra</td>\n",
       "      <td>21.0</td>\n",
       "      <td>1.66</td>\n",
       "      <td>166.0</td>\n",
       "      <td>22.66</td>\n",
       "    </tr>\n",
       "  </tbody>\n",
       "</table>\n",
       "</div>"
      ],
      "text/plain": [
       "        Name   Age  Height  Height times 100   Test\n",
       "0       Nick  21.0    1.85             185.0  22.85\n",
       "1      Chris  29.0     NaN               NaN    NaN\n",
       "2        Tim  28.0    1.75             175.0  29.75\n",
       "4     Monica  35.0     NaN               NaN    NaN\n",
       "5  Cassandra  21.0    1.66             166.0  22.66"
      ]
     },
     "execution_count": 34,
     "metadata": {},
     "output_type": "execute_result"
    }
   ],
   "source": [
    "df[df['Age'].notnull()]"
   ]
  },
  {
   "cell_type": "markdown",
   "metadata": {
    "slideshow": {
     "slide_type": "subslide"
    }
   },
   "source": [
    "Notice that the filter is only checking the column we specified `Age`, not the other column with `NaN` values"
   ]
  },
  {
   "cell_type": "markdown",
   "metadata": {
    "slideshow": {
     "slide_type": "fragment"
    }
   },
   "source": [
    "We can apply the filter by assigning the result back to `df`"
   ]
  },
  {
   "cell_type": "code",
   "execution_count": 35,
   "metadata": {
    "slideshow": {
     "slide_type": "fragment"
    }
   },
   "outputs": [
    {
     "data": {
      "text/html": [
       "<div>\n",
       "<style scoped>\n",
       "    .dataframe tbody tr th:only-of-type {\n",
       "        vertical-align: middle;\n",
       "    }\n",
       "\n",
       "    .dataframe tbody tr th {\n",
       "        vertical-align: top;\n",
       "    }\n",
       "\n",
       "    .dataframe thead th {\n",
       "        text-align: right;\n",
       "    }\n",
       "</style>\n",
       "<table border=\"1\" class=\"dataframe\">\n",
       "  <thead>\n",
       "    <tr style=\"text-align: right;\">\n",
       "      <th></th>\n",
       "      <th>Name</th>\n",
       "      <th>Age</th>\n",
       "      <th>Height</th>\n",
       "      <th>Height times 100</th>\n",
       "      <th>Test</th>\n",
       "    </tr>\n",
       "  </thead>\n",
       "  <tbody>\n",
       "    <tr>\n",
       "      <th>0</th>\n",
       "      <td>Nick</td>\n",
       "      <td>21.0</td>\n",
       "      <td>1.85</td>\n",
       "      <td>185.0</td>\n",
       "      <td>22.85</td>\n",
       "    </tr>\n",
       "    <tr>\n",
       "      <th>1</th>\n",
       "      <td>Chris</td>\n",
       "      <td>29.0</td>\n",
       "      <td>NaN</td>\n",
       "      <td>NaN</td>\n",
       "      <td>NaN</td>\n",
       "    </tr>\n",
       "    <tr>\n",
       "      <th>2</th>\n",
       "      <td>Tim</td>\n",
       "      <td>28.0</td>\n",
       "      <td>1.75</td>\n",
       "      <td>175.0</td>\n",
       "      <td>29.75</td>\n",
       "    </tr>\n",
       "    <tr>\n",
       "      <th>4</th>\n",
       "      <td>Monica</td>\n",
       "      <td>35.0</td>\n",
       "      <td>NaN</td>\n",
       "      <td>NaN</td>\n",
       "      <td>NaN</td>\n",
       "    </tr>\n",
       "    <tr>\n",
       "      <th>5</th>\n",
       "      <td>Cassandra</td>\n",
       "      <td>21.0</td>\n",
       "      <td>1.66</td>\n",
       "      <td>166.0</td>\n",
       "      <td>22.66</td>\n",
       "    </tr>\n",
       "  </tbody>\n",
       "</table>\n",
       "</div>"
      ],
      "text/plain": [
       "        Name   Age  Height  Height times 100   Test\n",
       "0       Nick  21.0    1.85             185.0  22.85\n",
       "1      Chris  29.0     NaN               NaN    NaN\n",
       "2        Tim  28.0    1.75             175.0  29.75\n",
       "4     Monica  35.0     NaN               NaN    NaN\n",
       "5  Cassandra  21.0    1.66             166.0  22.66"
      ]
     },
     "execution_count": 35,
     "metadata": {},
     "output_type": "execute_result"
    }
   ],
   "source": [
    "df = df[df['Age'].notnull()]\n",
    "df"
   ]
  },
  {
   "cell_type": "markdown",
   "metadata": {
    "slideshow": {
     "slide_type": "subslide"
    }
   },
   "source": [
    "Since the `Age` column no longer contains any non-integers, it is safe to convert the column to `int64` type"
   ]
  },
  {
   "cell_type": "markdown",
   "metadata": {
    "slideshow": {
     "slide_type": "fragment"
    }
   },
   "source": [
    "We can do this with the `astype` method"
   ]
  },
  {
   "cell_type": "code",
   "execution_count": 36,
   "metadata": {
    "slideshow": {
     "slide_type": "fragment"
    }
   },
   "outputs": [
    {
     "data": {
      "text/html": [
       "<div>\n",
       "<style scoped>\n",
       "    .dataframe tbody tr th:only-of-type {\n",
       "        vertical-align: middle;\n",
       "    }\n",
       "\n",
       "    .dataframe tbody tr th {\n",
       "        vertical-align: top;\n",
       "    }\n",
       "\n",
       "    .dataframe thead th {\n",
       "        text-align: right;\n",
       "    }\n",
       "</style>\n",
       "<table border=\"1\" class=\"dataframe\">\n",
       "  <thead>\n",
       "    <tr style=\"text-align: right;\">\n",
       "      <th></th>\n",
       "      <th>Name</th>\n",
       "      <th>Age</th>\n",
       "      <th>Height</th>\n",
       "      <th>Height times 100</th>\n",
       "      <th>Test</th>\n",
       "    </tr>\n",
       "  </thead>\n",
       "  <tbody>\n",
       "    <tr>\n",
       "      <th>0</th>\n",
       "      <td>Nick</td>\n",
       "      <td>21</td>\n",
       "      <td>1.85</td>\n",
       "      <td>185.0</td>\n",
       "      <td>22.85</td>\n",
       "    </tr>\n",
       "    <tr>\n",
       "      <th>1</th>\n",
       "      <td>Chris</td>\n",
       "      <td>29</td>\n",
       "      <td>NaN</td>\n",
       "      <td>NaN</td>\n",
       "      <td>NaN</td>\n",
       "    </tr>\n",
       "    <tr>\n",
       "      <th>2</th>\n",
       "      <td>Tim</td>\n",
       "      <td>28</td>\n",
       "      <td>1.75</td>\n",
       "      <td>175.0</td>\n",
       "      <td>29.75</td>\n",
       "    </tr>\n",
       "    <tr>\n",
       "      <th>4</th>\n",
       "      <td>Monica</td>\n",
       "      <td>35</td>\n",
       "      <td>NaN</td>\n",
       "      <td>NaN</td>\n",
       "      <td>NaN</td>\n",
       "    </tr>\n",
       "    <tr>\n",
       "      <th>5</th>\n",
       "      <td>Cassandra</td>\n",
       "      <td>21</td>\n",
       "      <td>1.66</td>\n",
       "      <td>166.0</td>\n",
       "      <td>22.66</td>\n",
       "    </tr>\n",
       "  </tbody>\n",
       "</table>\n",
       "</div>"
      ],
      "text/plain": [
       "        Name  Age  Height  Height times 100   Test\n",
       "0       Nick   21    1.85             185.0  22.85\n",
       "1      Chris   29     NaN               NaN    NaN\n",
       "2        Tim   28    1.75             175.0  29.75\n",
       "4     Monica   35     NaN               NaN    NaN\n",
       "5  Cassandra   21    1.66             166.0  22.66"
      ]
     },
     "execution_count": 36,
     "metadata": {},
     "output_type": "execute_result"
    }
   ],
   "source": [
    "df = df.astype({'Age': 'int64'})\n",
    "df"
   ]
  },
  {
   "cell_type": "markdown",
   "metadata": {
    "slideshow": {
     "slide_type": "subslide"
    }
   },
   "source": [
    "### Updating Indices"
   ]
  },
  {
   "cell_type": "markdown",
   "metadata": {
    "slideshow": {
     "slide_type": "subslide"
    }
   },
   "source": [
    "After these operations, the current data frame has the index 0, 1, 2, 4, 5"
   ]
  },
  {
   "cell_type": "markdown",
   "metadata": {
    "slideshow": {
     "slide_type": "fragment"
    }
   },
   "source": [
    "We could leave it like this, being careful to select the correct rows with `loc`. However, we can also reset the index with `reset_index`"
   ]
  },
  {
   "cell_type": "markdown",
   "metadata": {
    "slideshow": {
     "slide_type": "subslide"
    }
   },
   "source": [
    "Note that we need to specify `drop=True`, without this we will end up with an extra column with the old index"
   ]
  },
  {
   "cell_type": "code",
   "execution_count": 37,
   "metadata": {
    "slideshow": {
     "slide_type": "fragment"
    }
   },
   "outputs": [
    {
     "data": {
      "text/html": [
       "<div>\n",
       "<style scoped>\n",
       "    .dataframe tbody tr th:only-of-type {\n",
       "        vertical-align: middle;\n",
       "    }\n",
       "\n",
       "    .dataframe tbody tr th {\n",
       "        vertical-align: top;\n",
       "    }\n",
       "\n",
       "    .dataframe thead th {\n",
       "        text-align: right;\n",
       "    }\n",
       "</style>\n",
       "<table border=\"1\" class=\"dataframe\">\n",
       "  <thead>\n",
       "    <tr style=\"text-align: right;\">\n",
       "      <th></th>\n",
       "      <th>Name</th>\n",
       "      <th>Age</th>\n",
       "      <th>Height</th>\n",
       "      <th>Height times 100</th>\n",
       "      <th>Test</th>\n",
       "    </tr>\n",
       "  </thead>\n",
       "  <tbody>\n",
       "    <tr>\n",
       "      <th>0</th>\n",
       "      <td>Nick</td>\n",
       "      <td>21</td>\n",
       "      <td>1.85</td>\n",
       "      <td>185.0</td>\n",
       "      <td>22.85</td>\n",
       "    </tr>\n",
       "    <tr>\n",
       "      <th>1</th>\n",
       "      <td>Chris</td>\n",
       "      <td>29</td>\n",
       "      <td>NaN</td>\n",
       "      <td>NaN</td>\n",
       "      <td>NaN</td>\n",
       "    </tr>\n",
       "    <tr>\n",
       "      <th>2</th>\n",
       "      <td>Tim</td>\n",
       "      <td>28</td>\n",
       "      <td>1.75</td>\n",
       "      <td>175.0</td>\n",
       "      <td>29.75</td>\n",
       "    </tr>\n",
       "    <tr>\n",
       "      <th>3</th>\n",
       "      <td>Monica</td>\n",
       "      <td>35</td>\n",
       "      <td>NaN</td>\n",
       "      <td>NaN</td>\n",
       "      <td>NaN</td>\n",
       "    </tr>\n",
       "    <tr>\n",
       "      <th>4</th>\n",
       "      <td>Cassandra</td>\n",
       "      <td>21</td>\n",
       "      <td>1.66</td>\n",
       "      <td>166.0</td>\n",
       "      <td>22.66</td>\n",
       "    </tr>\n",
       "  </tbody>\n",
       "</table>\n",
       "</div>"
      ],
      "text/plain": [
       "        Name  Age  Height  Height times 100   Test\n",
       "0       Nick   21    1.85             185.0  22.85\n",
       "1      Chris   29     NaN               NaN    NaN\n",
       "2        Tim   28    1.75             175.0  29.75\n",
       "3     Monica   35     NaN               NaN    NaN\n",
       "4  Cassandra   21    1.66             166.0  22.66"
      ]
     },
     "execution_count": 37,
     "metadata": {},
     "output_type": "execute_result"
    }
   ],
   "source": [
    "df = df.reset_index(drop=True)\n",
    "df"
   ]
  },
  {
   "cell_type": "markdown",
   "metadata": {
    "slideshow": {
     "slide_type": "subslide"
    }
   },
   "source": [
    "Alternatively, we can set the index to a particular column if we don't want default indexing"
   ]
  },
  {
   "cell_type": "code",
   "execution_count": 38,
   "metadata": {
    "slideshow": {
     "slide_type": "fragment"
    }
   },
   "outputs": [
    {
     "data": {
      "text/html": [
       "<div>\n",
       "<style scoped>\n",
       "    .dataframe tbody tr th:only-of-type {\n",
       "        vertical-align: middle;\n",
       "    }\n",
       "\n",
       "    .dataframe tbody tr th {\n",
       "        vertical-align: top;\n",
       "    }\n",
       "\n",
       "    .dataframe thead th {\n",
       "        text-align: right;\n",
       "    }\n",
       "</style>\n",
       "<table border=\"1\" class=\"dataframe\">\n",
       "  <thead>\n",
       "    <tr style=\"text-align: right;\">\n",
       "      <th></th>\n",
       "      <th>Age</th>\n",
       "      <th>Height</th>\n",
       "      <th>Height times 100</th>\n",
       "      <th>Test</th>\n",
       "    </tr>\n",
       "    <tr>\n",
       "      <th>Name</th>\n",
       "      <th></th>\n",
       "      <th></th>\n",
       "      <th></th>\n",
       "      <th></th>\n",
       "    </tr>\n",
       "  </thead>\n",
       "  <tbody>\n",
       "    <tr>\n",
       "      <th>Nick</th>\n",
       "      <td>21</td>\n",
       "      <td>1.85</td>\n",
       "      <td>185.0</td>\n",
       "      <td>22.85</td>\n",
       "    </tr>\n",
       "    <tr>\n",
       "      <th>Chris</th>\n",
       "      <td>29</td>\n",
       "      <td>NaN</td>\n",
       "      <td>NaN</td>\n",
       "      <td>NaN</td>\n",
       "    </tr>\n",
       "    <tr>\n",
       "      <th>Tim</th>\n",
       "      <td>28</td>\n",
       "      <td>1.75</td>\n",
       "      <td>175.0</td>\n",
       "      <td>29.75</td>\n",
       "    </tr>\n",
       "    <tr>\n",
       "      <th>Monica</th>\n",
       "      <td>35</td>\n",
       "      <td>NaN</td>\n",
       "      <td>NaN</td>\n",
       "      <td>NaN</td>\n",
       "    </tr>\n",
       "    <tr>\n",
       "      <th>Cassandra</th>\n",
       "      <td>21</td>\n",
       "      <td>1.66</td>\n",
       "      <td>166.0</td>\n",
       "      <td>22.66</td>\n",
       "    </tr>\n",
       "  </tbody>\n",
       "</table>\n",
       "</div>"
      ],
      "text/plain": [
       "           Age  Height  Height times 100   Test\n",
       "Name                                           \n",
       "Nick        21    1.85             185.0  22.85\n",
       "Chris       29     NaN               NaN    NaN\n",
       "Tim         28    1.75             175.0  29.75\n",
       "Monica      35     NaN               NaN    NaN\n",
       "Cassandra   21    1.66             166.0  22.66"
      ]
     },
     "execution_count": 38,
     "metadata": {},
     "output_type": "execute_result"
    }
   ],
   "source": [
    "df = df.set_index('Name')\n",
    "df"
   ]
  },
  {
   "cell_type": "markdown",
   "metadata": {
    "slideshow": {
     "slide_type": "subslide"
    }
   },
   "source": [
    "Say we want to go with **option 4** and replace missing `Height` with a computed value"
   ]
  },
  {
   "cell_type": "markdown",
   "metadata": {
    "slideshow": {
     "slide_type": "fragment"
    }
   },
   "source": [
    "In this example we simply calculate the mean height of other people in the data set (to the nearest cm)"
   ]
  },
  {
   "cell_type": "markdown",
   "metadata": {
    "slideshow": {
     "slide_type": "fragment"
    }
   },
   "source": [
    "**Note:** The `mean` method just ignores the missing data and gives us the average of the non-missing data, which is what we want"
   ]
  },
  {
   "cell_type": "code",
   "execution_count": 39,
   "metadata": {
    "cell_style": "split",
    "slideshow": {
     "slide_type": "subslide"
    }
   },
   "outputs": [
    {
     "data": {
      "text/plain": [
       "np.float64(1.7533333333333332)"
      ]
     },
     "execution_count": 39,
     "metadata": {},
     "output_type": "execute_result"
    }
   ],
   "source": [
    "mean_height = df['Height'].mean()\n",
    "mean_height"
   ]
  },
  {
   "cell_type": "code",
   "execution_count": 40,
   "metadata": {
    "cell_style": "split",
    "slideshow": {
     "slide_type": "fragment"
    }
   },
   "outputs": [
    {
     "data": {
      "text/plain": [
       "np.float64(1.75)"
      ]
     },
     "execution_count": 40,
     "metadata": {},
     "output_type": "execute_result"
    }
   ],
   "source": [
    "mean_height = round(mean_height, 2)\n",
    "mean_height"
   ]
  },
  {
   "cell_type": "markdown",
   "metadata": {
    "slideshow": {
     "slide_type": "fragment"
    }
   },
   "source": [
    "Of course there are many more sophisticated ways to predict a replacement value!"
   ]
  },
  {
   "cell_type": "markdown",
   "metadata": {
    "slideshow": {
     "slide_type": "subslide"
    }
   },
   "source": [
    "For instance, could fit a regression with `Age`"
   ]
  },
  {
   "cell_type": "markdown",
   "metadata": {
    "slideshow": {
     "slide_type": "fragment"
    }
   },
   "source": [
    "Or if we had categories such as `Gender` we could group by categories and do predictions for each"
   ]
  },
  {
   "cell_type": "markdown",
   "metadata": {
    "slideshow": {
     "slide_type": "fragment"
    }
   },
   "source": [
    "In this example we will just use `1.75` for every missing value."
   ]
  },
  {
   "cell_type": "code",
   "execution_count": 41,
   "metadata": {
    "slideshow": {
     "slide_type": "subslide"
    }
   },
   "outputs": [
    {
     "data": {
      "text/html": [
       "<div>\n",
       "<style scoped>\n",
       "    .dataframe tbody tr th:only-of-type {\n",
       "        vertical-align: middle;\n",
       "    }\n",
       "\n",
       "    .dataframe tbody tr th {\n",
       "        vertical-align: top;\n",
       "    }\n",
       "\n",
       "    .dataframe thead th {\n",
       "        text-align: right;\n",
       "    }\n",
       "</style>\n",
       "<table border=\"1\" class=\"dataframe\">\n",
       "  <thead>\n",
       "    <tr style=\"text-align: right;\">\n",
       "      <th></th>\n",
       "      <th>Age</th>\n",
       "      <th>Height</th>\n",
       "      <th>Height times 100</th>\n",
       "      <th>Test</th>\n",
       "    </tr>\n",
       "    <tr>\n",
       "      <th>Name</th>\n",
       "      <th></th>\n",
       "      <th></th>\n",
       "      <th></th>\n",
       "      <th></th>\n",
       "    </tr>\n",
       "  </thead>\n",
       "  <tbody>\n",
       "    <tr>\n",
       "      <th>Nick</th>\n",
       "      <td>21</td>\n",
       "      <td>1.85</td>\n",
       "      <td>185.0</td>\n",
       "      <td>22.85</td>\n",
       "    </tr>\n",
       "    <tr>\n",
       "      <th>Chris</th>\n",
       "      <td>29</td>\n",
       "      <td>1.75</td>\n",
       "      <td>175.0</td>\n",
       "      <td>NaN</td>\n",
       "    </tr>\n",
       "    <tr>\n",
       "      <th>Tim</th>\n",
       "      <td>28</td>\n",
       "      <td>1.75</td>\n",
       "      <td>175.0</td>\n",
       "      <td>29.75</td>\n",
       "    </tr>\n",
       "    <tr>\n",
       "      <th>Monica</th>\n",
       "      <td>35</td>\n",
       "      <td>1.75</td>\n",
       "      <td>175.0</td>\n",
       "      <td>NaN</td>\n",
       "    </tr>\n",
       "    <tr>\n",
       "      <th>Cassandra</th>\n",
       "      <td>21</td>\n",
       "      <td>1.66</td>\n",
       "      <td>166.0</td>\n",
       "      <td>22.66</td>\n",
       "    </tr>\n",
       "  </tbody>\n",
       "</table>\n",
       "</div>"
      ],
      "text/plain": [
       "           Age  Height  Height times 100   Test\n",
       "Name                                           \n",
       "Nick        21    1.85             185.0  22.85\n",
       "Chris       29    1.75             175.0    NaN\n",
       "Tim         28    1.75             175.0  29.75\n",
       "Monica      35    1.75             175.0    NaN\n",
       "Cassandra   21    1.66             166.0  22.66"
      ]
     },
     "execution_count": 41,
     "metadata": {},
     "output_type": "execute_result"
    }
   ],
   "source": [
    "df = df.fillna({'Height' : mean_height, 'Height times 100':175})\n",
    "df"
   ]
  },
  {
   "cell_type": "markdown",
   "metadata": {
    "slideshow": {
     "slide_type": "slide"
    }
   },
   "source": [
    "## Lab"
   ]
  }
 ],
 "metadata": {
  "celltoolbar": "Slideshow",
  "hide_input": false,
  "kernelspec": {
   "display_name": "Python 3 (ipykernel)",
   "language": "python",
   "name": "python3"
  },
  "language_info": {
   "codemirror_mode": {
    "name": "ipython",
    "version": 3
   },
   "file_extension": ".py",
   "mimetype": "text/x-python",
   "name": "python",
   "nbconvert_exporter": "python",
   "pygments_lexer": "ipython3",
   "version": "3.11.9"
  },
  "rise": {
   "backimage": "../mybackimage.png",
   "enable_chalkboard": true,
   "scroll": true
  },
  "varInspector": {
   "cols": {
    "lenName": 16,
    "lenType": 16,
    "lenVar": 40
   },
   "kernels_config": {
    "python": {
     "delete_cmd_postfix": "",
     "delete_cmd_prefix": "del ",
     "library": "var_list.py",
     "varRefreshCmd": "print(var_dic_list())"
    },
    "r": {
     "delete_cmd_postfix": ") ",
     "delete_cmd_prefix": "rm(",
     "library": "var_list.r",
     "varRefreshCmd": "cat(var_dic_list()) "
    }
   },
   "types_to_exclude": [
    "module",
    "function",
    "builtin_function_or_method",
    "instance",
    "_Feature"
   ],
   "window_display": false
  }
 },
 "nbformat": 4,
 "nbformat_minor": 2
}
