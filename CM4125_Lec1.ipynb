{
  "cells": [
    {
      "cell_type": "markdown",
      "metadata": {
        "id": "view-in-github",
        "colab_type": "text"
      },
      "source": [
        "<a href=\"https://colab.research.google.com/github/carlosfmorenog/CM4125/blob/main/CM4125_Lec1.ipynb\" target=\"_parent\"><img src=\"https://colab.research.google.com/assets/colab-badge.svg\" alt=\"Open In Colab\"/></a>"
      ]
    },
    {
      "cell_type": "markdown",
      "metadata": {
        "hide_input": true,
        "id": "0FdDkNd2W5JL"
      },
      "source": [
        "# Welcome to CM4125 - Data Viz!\n",
        "* Dr Carlos Moreno-García\n",
        "* Associate Professor & Research Degrees Co-coordinator\n",
        "* School of Computing, Engineering and Technology\n",
        "* email: c.moreno-garcia@rgu.ac.uk"
      ]
    },
    {
      "cell_type": "markdown",
      "metadata": {
        "hide_input": false,
        "id": "iGlzNM0-W5JP"
      },
      "source": [
        "## Module aims and objectives"
      ]
    },
    {
      "cell_type": "markdown",
      "metadata": {
        "id": "vdolkbahW5JR"
      },
      "source": [
        "1) Critically appraise a variety of data visualisation techniques in terms of psychology, design, effectiveness and appeal to a wider audience."
      ]
    },
    {
      "cell_type": "markdown",
      "metadata": {
        "id": "n-xiHJsfW5JS"
      },
      "source": [
        "2) Interpret data visualisations and explain what conclusions can be drawn from them in terms of data analysis."
      ]
    },
    {
      "cell_type": "markdown",
      "metadata": {
        "id": "hYxGC4_aW5JU"
      },
      "source": [
        "3) Understand the challenges of visualising large datasets."
      ]
    },
    {
      "cell_type": "markdown",
      "metadata": {
        "id": "HZDHziJSW5JW"
      },
      "source": [
        "4) Translate numerical and categorical data into coherent pictorial representations."
      ]
    },
    {
      "cell_type": "markdown",
      "metadata": {
        "id": "J_UDA37LW5JX"
      },
      "source": [
        "5) Create novel and interactive data visualisations which lucidly exhibit particular dataset features using publicly available data."
      ]
    },
    {
      "cell_type": "markdown",
      "metadata": {
        "id": "1aeE-2gEW5JY"
      },
      "source": [
        "## How will the module work?"
      ]
    },
    {
      "cell_type": "markdown",
      "metadata": {
        "id": "_8_9ZnIlW5Ja"
      },
      "source": [
        "### What this module **is** about?"
      ]
    },
    {
      "cell_type": "markdown",
      "metadata": {
        "id": "PFspnHKIW5Jb"
      },
      "source": [
        "* How to get proper data from various sources"
      ]
    },
    {
      "cell_type": "markdown",
      "metadata": {
        "id": "KmRIMsVPW5Jc"
      },
      "source": [
        "* How to manipulate that data to have only what we are interested on"
      ]
    },
    {
      "cell_type": "markdown",
      "metadata": {
        "id": "ez5B-ViZW5Je"
      },
      "source": [
        "* How to put that data into meaningful, interesting and interactive pictorial representations"
      ]
    },
    {
      "cell_type": "markdown",
      "metadata": {
        "id": "Zxauo0X5W5Jg"
      },
      "source": [
        "![Fig. 1](https://www.dropbox.com/scl/fi/fj9j4ut0m7og0subtuv4i/fig1.jpg?rlkey=meuvor956ul61zzosep9nc7v6&raw=1)"
      ]
    },
    {
      "cell_type": "markdown",
      "metadata": {
        "id": "O0A2FdOcW5Jg"
      },
      "source": [
        "![Fig. 1.1](https://www.dropbox.com/scl/fi/pj1rhawyqu0ppga1ausmm/fig1.1.jpg?rlkey=8gbl0myfa34deezvlfgxjfanu&raw=1)"
      ]
    },
    {
      "cell_type": "markdown",
      "metadata": {
        "id": "UYqbmo5SW5Jh"
      },
      "source": [
        "### What this module **is not** about?"
      ]
    },
    {
      "cell_type": "markdown",
      "metadata": {
        "id": "9L9MEGblW5Ji"
      },
      "source": [
        "* Computer vision"
      ]
    },
    {
      "cell_type": "markdown",
      "metadata": {
        "id": "-nN182dIW5Jj"
      },
      "source": [
        "* Predicting or learning from data (i.e. machine learning)"
      ]
    },
    {
      "cell_type": "markdown",
      "metadata": {
        "id": "YOZ-YRoaW5Jk"
      },
      "source": [
        "* Flashy images and colours (although this sometimes helps!)"
      ]
    },
    {
      "cell_type": "markdown",
      "metadata": {
        "id": "PotYv64aW5Jl"
      },
      "source": [
        "* Only bars and pies!"
      ]
    },
    {
      "cell_type": "markdown",
      "metadata": {
        "id": "VM3oVWhsW5Jm"
      },
      "source": [
        "![Fig. 2](https://www.dropbox.com/scl/fi/4b4ao2vu8oidvj07ksmpp/fig2.jpg?rlkey=0qdh08vs0mks1p0w78cpk6q1l&raw=1)"
      ]
    },
    {
      "cell_type": "markdown",
      "metadata": {
        "id": "N_bzFIsuW5Jm"
      },
      "source": [
        "### Online teaching"
      ]
    },
    {
      "cell_type": "markdown",
      "metadata": {
        "id": "Wr-Us9cSW5Jm"
      },
      "source": [
        "* Lectures will run for **one hour**, *usually* every Monday at 2 pm"
      ]
    },
    {
      "cell_type": "markdown",
      "metadata": {
        "id": "8HPmSZ9YW5Jn"
      },
      "source": [
        "* Labs will run for **two hours**, *usually* every Monday at 3 pm"
      ]
    },
    {
      "cell_type": "markdown",
      "metadata": {
        "id": "RTQOEv5sW5Jn"
      },
      "source": [
        "### Assessment"
      ]
    },
    {
      "cell_type": "markdown",
      "metadata": {
        "id": "eVQrLpXAW5Jn"
      },
      "source": [
        "* You will have one coursework where you have to submit **two files**:\n",
        "    * A slide deck with a visualisation (or a link to it)\n",
        "    * A compressed file evidencing your work"
      ]
    },
    {
      "cell_type": "markdown",
      "metadata": {
        "id": "JbuknSllW5Jo"
      },
      "source": [
        "* Submission date: Tuesday, 2nd December, 2025, 16:00"
      ]
    },
    {
      "cell_type": "markdown",
      "metadata": {
        "id": "wyHEKSPGW5Jq"
      },
      "source": [
        "* In two weeks time, we will have a coursework clarification session during the first hour of the lab"
      ]
    },
    {
      "cell_type": "markdown",
      "metadata": {
        "id": "PDwCCVEoW5Jq"
      },
      "source": [
        "### Resources"
      ]
    },
    {
      "cell_type": "markdown",
      "metadata": {
        "id": "AaPnJLpvW5Jq"
      },
      "source": [
        "* In the Moodle accordion, you will see a *Resources* tab:"
      ]
    },
    {
      "cell_type": "markdown",
      "metadata": {
        "id": "caWVf5ftW5Jq"
      },
      "source": [
        "* There you will find a link to a [Trello board](https://trello.com/b/VWrhNfCh/cm4125-resources) where everyone can participate and add material\n",
        "  * To become a board member and add sources, click [here](https://trello.com/invite/b/6689a0da88f227b5c3c90fa3/ATTI2bd5633f5a16a8ef68e626731db8a690672A6E4E/cm4125-resources)"
      ]
    },
    {
      "cell_type": "markdown",
      "metadata": {
        "id": "FrcVZttFW5Jq"
      },
      "source": [
        "* We will also have a [DataCamp](https://www.datacamp.com) group for you to do related courses\n",
        "  * To join the group, click [here]( https://www.datacamp.com/groups/shared_links/c1ee869955a89a4c1f871339035601315cbdfb50e6343b1c7ccba1de5707a2c4) (use your rgu email to create the account)"
      ]
    },
    {
      "cell_type": "markdown",
      "metadata": {
        "id": "1wtZe1eZW5Jr"
      },
      "source": [
        "### Support/Assessments"
      ]
    },
    {
      "cell_type": "markdown",
      "metadata": {
        "id": "yaefitesW5Jr"
      },
      "source": [
        "* Contact me to book a 30-min slot (Room N428)\n",
        "    * Monday 10:00-11:00\n",
        "    * Thursday 10:00-11:00"
      ]
    },
    {
      "cell_type": "markdown",
      "metadata": {
        "id": "A1JJLdA8W5Js"
      },
      "source": [
        "## Introduction to Data Viz"
      ]
    },
    {
      "cell_type": "markdown",
      "metadata": {
        "id": "v6lnCqmAW5Jt"
      },
      "source": [
        "### MENTI POLLS\n",
        "Go to [www.menti.com](http://www.menti.com) and enter the code shown in the screen"
      ]
    },
    {
      "cell_type": "markdown",
      "metadata": {
        "id": "eBdWvFONW5Jt"
      },
      "source": [
        "### For those of you who chose Excel..."
      ]
    },
    {
      "cell_type": "markdown",
      "metadata": {
        "id": "vDgwteKxW5Ju"
      },
      "source": [
        "* Don't get me wrong, Excel is great for initial data exploration"
      ]
    },
    {
      "cell_type": "markdown",
      "metadata": {
        "id": "510zjY8JW5Ju"
      },
      "source": [
        "* However, it is **not** a proper tool for data visualisation!"
      ]
    },
    {
      "cell_type": "markdown",
      "metadata": {
        "id": "KfC6VqDoW5Jv"
      },
      "source": [
        "* It has finite rows/cols, so by definition it is not suitable for big data!"
      ]
    },
    {
      "cell_type": "markdown",
      "metadata": {
        "id": "HWLsXPaNW5Jw"
      },
      "source": [
        "![Fig. 3](https://www.dropbox.com/scl/fi/cxpw3a62b2gj7y7z5gmyo/fig3.jpg?rlkey=8nwh57rkb8kez1598gq4hi592&raw=1)"
      ]
    },
    {
      "cell_type": "markdown",
      "metadata": {
        "id": "PYhCWnFsW5Jx"
      },
      "source": [
        "* Excel tends to do weird things with data types"
      ]
    },
    {
      "cell_type": "markdown",
      "metadata": {
        "id": "7F0bGbBWW5Jx"
      },
      "source": [
        "![Fig. 4](https://www.dropbox.com/scl/fi/n76ftb95i9qxyht9u5aug/fig4.jpg?rlkey=35e6ayiedp1qe9ev8hu1oyl85&raw=1)"
      ]
    },
    {
      "cell_type": "markdown",
      "metadata": {
        "id": "8P1o4tiyW5Jx"
      },
      "source": [
        "* Excel assumes formats when typing, and autocorrections creates chaos"
      ]
    },
    {
      "cell_type": "code",
      "execution_count": null,
      "metadata": {
        "hide_input": true,
        "tags": [
          "hide-input"
        ],
        "id": "ek_D0d8SW5Jy",
        "outputId": "38709451-7fb3-4dff-bcf3-946c6ef331c2"
      },
      "outputs": [
        {
          "data": {
            "text/html": [
              "<iframe width=\"560\" height=\"315\" src=\"https://www.youtube.com/embed/yb2zkxHDfUE?start=379\" frameborder=\"0\" allow=\"accelerometer; autoplay; clipboard-write; encrypted-media; gyroscope; picture-in-picture\" allowfullscreen></iframe>"
            ],
            "text/plain": [
              "<IPython.core.display.HTML object>"
            ]
          },
          "execution_count": 1,
          "metadata": {},
          "output_type": "execute_result"
        }
      ],
      "source": [
        "import warnings\n",
        "warnings.filterwarnings('ignore')\n",
        "from IPython.display import HTML\n",
        "HTML('<iframe width=\"560\" height=\"315\" src=\"https://www.youtube.com/embed/yb2zkxHDfUE?start=379\" frameborder=\"0\" allow=\"accelerometer; autoplay; clipboard-write; encrypted-media; gyroscope; picture-in-picture\" allowfullscreen></iframe>')"
      ]
    },
    {
      "cell_type": "markdown",
      "metadata": {
        "id": "c0eGS-raW5Jz"
      },
      "source": [
        "* Spreadsheets are very interactive, but error prone (costing millions of hours and money)"
      ]
    },
    {
      "cell_type": "markdown",
      "metadata": {
        "id": "kvmFSLTvW5Jz"
      },
      "source": [
        "* A researcher was able to get 15k spreadsheets from Enron, and found that 42% didn't have a single formula/calculation!"
      ]
    },
    {
      "cell_type": "markdown",
      "metadata": {
        "id": "NpJ0F2ukW5Jz"
      },
      "source": [
        "* From the remaining 9k, 24% contained \"obvious\" errors!"
      ]
    },
    {
      "cell_type": "markdown",
      "metadata": {
        "id": "GC5FB5dmW5J0"
      },
      "source": [
        "* There's a thing called the European Spreadsheet Risk Interest Group (EuSpRiG), where they have [Excel horror stories](http://www.eusprig.org/horror-stories.htm)!"
      ]
    },
    {
      "cell_type": "markdown",
      "metadata": {
        "id": "ATISANHHW5J2"
      },
      "source": [
        "## My top 4"
      ]
    },
    {
      "cell_type": "markdown",
      "metadata": {
        "id": "17YDb18rW5J2"
      },
      "source": [
        "### Python"
      ]
    },
    {
      "cell_type": "markdown",
      "metadata": {
        "id": "bWGZ3UWAW5J4"
      },
      "source": [
        "* Very high level programming language"
      ]
    },
    {
      "cell_type": "markdown",
      "metadata": {
        "id": "SKK4qCpnW5J4"
      },
      "source": [
        "* Provides complementary tools/packages such as `matplotlib`, `dash plotly` and `Streamlit.io` that help you visualise data better"
      ]
    },
    {
      "cell_type": "markdown",
      "metadata": {
        "id": "YuzKr_sGW5J5"
      },
      "source": [
        "* Best ranked programming language by the [IEEE](https://spectrum.ieee.org/top-programming-languages-2024) (2025 ranking not yet available)"
      ]
    },
    {
      "cell_type": "markdown",
      "metadata": {
        "id": "-6xgjSStW5J5"
      },
      "source": [
        "![Fig. 5](https://www.dropbox.com/scl/fi/cv71ms4hy5dxrqwibuhyb/fig5.jpg?rlkey=m4rv6xderoksx1xddxk1uijs1&raw=1)"
      ]
    },
    {
      "cell_type": "markdown",
      "metadata": {
        "id": "wH6pjnm8W5J6"
      },
      "source": [
        "* In fact, this slideshow was done using it!"
      ]
    },
    {
      "cell_type": "code",
      "execution_count": null,
      "metadata": {
        "id": "M__R7m7WW5J7",
        "outputId": "19840235-ac17-4e3f-9b0d-aff191efcde6"
      },
      "outputs": [
        {
          "name": "stdout",
          "output_type": "stream",
          "text": [
            "Hello\n"
          ]
        }
      ],
      "source": [
        "print(\"Hello\")"
      ]
    },
    {
      "cell_type": "markdown",
      "metadata": {
        "id": "FMZC6eaJW5J8"
      },
      "source": [
        "### R"
      ]
    },
    {
      "cell_type": "markdown",
      "metadata": {
        "id": "U7zn2TiXW5J9"
      },
      "source": [
        "* Even higher level programming language"
      ]
    },
    {
      "cell_type": "markdown",
      "metadata": {
        "id": "BHAs0VGbW5J9"
      },
      "source": [
        "* Widely used in statistics"
      ]
    },
    {
      "cell_type": "markdown",
      "metadata": {
        "id": "fQ5chGVdW5J-"
      },
      "source": [
        "* Also contains numerous packages (`lattice`, `ggplot`, etc.) to do data vis"
      ]
    },
    {
      "cell_type": "markdown",
      "metadata": {
        "id": "zOF9fOW6W5J-"
      },
      "source": [
        "### Tableau"
      ]
    },
    {
      "cell_type": "markdown",
      "metadata": {
        "id": "sFfiFSByW5J_"
      },
      "source": [
        "* A commercial tool for business analytics to create dashboards"
      ]
    },
    {
      "cell_type": "markdown",
      "metadata": {
        "id": "OcUz6TxRW5KA"
      },
      "source": [
        "* Easy to use"
      ]
    },
    {
      "cell_type": "markdown",
      "metadata": {
        "id": "-vNmtUVEW5KA"
      },
      "source": [
        "* Connects to data from different sources and can import Python/R code"
      ]
    },
    {
      "cell_type": "code",
      "execution_count": null,
      "metadata": {
        "hide_input": true,
        "scrolled": true,
        "id": "XKW5THq7W5KB",
        "outputId": "9278155e-8199-4760-c4f1-1d1b834c6fcd"
      },
      "outputs": [
        {
          "data": {
            "text/html": [
              "<iframe width=\"560\" height=\"315\" src=\"https://www.youtube.com/embed/lR5Aiy5umvw?si=vmBgtk8THeuJMBeO\" title=\"YouTube video player\" frameborder=\"0\" allow=\"accelerometer; autoplay; clipboard-write; encrypted-media; gyroscope; picture-in-picture; web-share\" referrerpolicy=\"strict-origin-when-cross-origin\" allowfullscreen></iframe>"
            ],
            "text/plain": [
              "<IPython.core.display.HTML object>"
            ]
          },
          "execution_count": 3,
          "metadata": {},
          "output_type": "execute_result"
        }
      ],
      "source": [
        "from IPython.display import HTML\n",
        "HTML('<iframe width=\"560\" height=\"315\" src=\"https://www.youtube.com/embed/lR5Aiy5umvw?si=vmBgtk8THeuJMBeO\" title=\"YouTube video player\" frameborder=\"0\" allow=\"accelerometer; autoplay; clipboard-write; encrypted-media; gyroscope; picture-in-picture; web-share\" referrerpolicy=\"strict-origin-when-cross-origin\" allowfullscreen></iframe>')"
      ]
    },
    {
      "cell_type": "markdown",
      "metadata": {
        "id": "KGXfgo37W5KB"
      },
      "source": [
        "### Power BI"
      ]
    },
    {
      "cell_type": "markdown",
      "metadata": {
        "id": "TTS7oB4PW5KB"
      },
      "source": [
        "* Microsoft's response to Tableau!"
      ]
    },
    {
      "cell_type": "markdown",
      "metadata": {
        "id": "JHBCP1qBW5KB"
      },
      "source": [
        "* Easi(er) to use"
      ]
    },
    {
      "cell_type": "markdown",
      "metadata": {
        "id": "3Hg5RYcpW5KD"
      },
      "source": [
        "* Connects to existing projects in `PowerApps`, `Excel` or `Azure`"
      ]
    },
    {
      "cell_type": "code",
      "execution_count": null,
      "metadata": {
        "hide_input": true,
        "scrolled": true,
        "id": "lDGJ8ivQW5KE",
        "outputId": "8498a13f-fad6-41ea-8777-6d2148f94b73"
      },
      "outputs": [
        {
          "data": {
            "text/html": [
              "<iframe width=\"560\" height=\"315\" src=\"https://www.youtube.com/embed/yKTSLffVGbk\" frameborder=\"0\" allow=\"accelerometer; autoplay; clipboard-write; encrypted-media; gyroscope; picture-in-picture\" allowfullscreen></iframe>"
            ],
            "text/plain": [
              "<IPython.core.display.HTML object>"
            ]
          },
          "execution_count": 4,
          "metadata": {},
          "output_type": "execute_result"
        }
      ],
      "source": [
        "from IPython.display import HTML\n",
        "HTML('<iframe width=\"560\" height=\"315\" src=\"https://www.youtube.com/embed/yKTSLffVGbk\" frameborder=\"0\" allow=\"accelerometer; autoplay; clipboard-write; encrypted-media; gyroscope; picture-in-picture\" allowfullscreen></iframe>')"
      ]
    },
    {
      "cell_type": "markdown",
      "metadata": {
        "id": "sK1_3UP1W5KE"
      },
      "source": [
        "## How to get into data vis?"
      ]
    },
    {
      "cell_type": "markdown",
      "metadata": {
        "id": "FxAreZS7W5KF"
      },
      "source": [
        "### 1) Get familiar with data repositories"
      ]
    },
    {
      "cell_type": "markdown",
      "metadata": {
        "id": "i1oDwsNPW5KF"
      },
      "source": [
        "* Data is literally everywhere!"
      ]
    },
    {
      "cell_type": "markdown",
      "metadata": {
        "id": "LrlPzO1eW5KG"
      },
      "source": [
        "* Sites such as [Kaggle](https://www.kaggle.com/) offer challenges every day!"
      ]
    },
    {
      "cell_type": "markdown",
      "metadata": {
        "id": "IrT8dpL5W5KG"
      },
      "source": [
        "* If you are familiar with Python/R, you will be aware that they also have data within"
      ]
    },
    {
      "cell_type": "markdown",
      "metadata": {
        "id": "FLNp9rKOW5KG"
      },
      "source": [
        "![Fig. 6](https://www.dropbox.com/scl/fi/6d4ew5bhs6y5rwpkf363j/fig6.jpg?rlkey=xifab20u0lwot6b4sx59ds22j&raw=1)"
      ]
    },
    {
      "cell_type": "markdown",
      "metadata": {
        "id": "NdWtjNWEW5KH"
      },
      "source": [
        "### 2) Watch other people have a go at it!"
      ]
    },
    {
      "cell_type": "markdown",
      "metadata": {
        "id": "dFX4c0dxW5KH"
      },
      "source": [
        "* Sites such as [fivethirtyeight.com](https://fivethirtyeight.com/) have lots of examples"
      ]
    },
    {
      "cell_type": "markdown",
      "metadata": {
        "id": "q0kIc8qLW5KH"
      },
      "source": [
        "* There are also social media groups\n",
        "    * [Information is beautiful](https://www.facebook.com/informationisbeautiful/)\n",
        "    * I f\\*cking love maps\n",
        "        * [FB](https://www.facebook.com/IFLOVEMAPS/)\n",
        "        * [TW](https://twitter.com/ifckinglovemaps?lang=en)\n",
        "        * [IG](https://www.instagram.com/ifuckinglovemaps/?hl=en)"
      ]
    },
    {
      "cell_type": "markdown",
      "metadata": {
        "id": "5PTKpgi8W5KI"
      },
      "source": [
        "### 3) Try to think how you will use this in your other modules!"
      ]
    },
    {
      "cell_type": "markdown",
      "metadata": {
        "id": "rLJzNZffW5KJ"
      },
      "source": [
        "## Final Recommendations"
      ]
    },
    {
      "cell_type": "markdown",
      "metadata": {
        "id": "ZFDVvc9kW5KK"
      },
      "source": [
        "* If you plan to use Python/R, I **strongly** recommend you installing [ANACONDA](https://www.anaconda.com/)\n",
        "    * This way at least you will have two of the discussed tools."
      ]
    },
    {
      "cell_type": "markdown",
      "metadata": {
        "id": "WureNLU8W5KK"
      },
      "source": [
        "* As students, you get Tableau and Power BI for free, don't hesitate to give them a try as well!"
      ]
    },
    {
      "cell_type": "markdown",
      "metadata": {
        "id": "gn4PkLLaW5KL"
      },
      "source": [
        "## Lab"
      ]
    }
  ],
  "metadata": {
    "celltoolbar": "Slideshow",
    "hide_input": false,
    "kernelspec": {
      "display_name": "Python 3 (ipykernel)",
      "language": "python",
      "name": "python3"
    },
    "language_info": {
      "codemirror_mode": {
        "name": "ipython",
        "version": 3
      },
      "file_extension": ".py",
      "mimetype": "text/x-python",
      "name": "python",
      "nbconvert_exporter": "python",
      "pygments_lexer": "ipython3",
      "version": "3.11.11"
    },
    "rise": {
      "backimage": "../mybackimage.png",
      "enable_chalkboard": true,
      "scroll": true
    },
    "varInspector": {
      "cols": {
        "lenName": 16,
        "lenType": 16,
        "lenVar": 40
      },
      "kernels_config": {
        "python": {
          "delete_cmd_postfix": "",
          "delete_cmd_prefix": "del ",
          "library": "var_list.py",
          "varRefreshCmd": "print(var_dic_list())"
        },
        "r": {
          "delete_cmd_postfix": ") ",
          "delete_cmd_prefix": "rm(",
          "library": "var_list.r",
          "varRefreshCmd": "cat(var_dic_list()) "
        }
      },
      "types_to_exclude": [
        "module",
        "function",
        "builtin_function_or_method",
        "instance",
        "_Feature"
      ],
      "window_display": false
    },
    "colab": {
      "provenance": [],
      "include_colab_link": true
    }
  },
  "nbformat": 4,
  "nbformat_minor": 0
}